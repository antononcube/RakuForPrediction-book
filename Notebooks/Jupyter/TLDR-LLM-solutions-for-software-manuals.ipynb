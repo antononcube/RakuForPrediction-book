{
 "cells": [
  {
   "cell_type": "markdown",
   "id": "bc3b88b850e5a1e5",
   "metadata": {},
   "source": [
    "# TLDR LLM solutions for ~not reading~ software manuals \n",
    "\n",
    "#### Anton Antonov   \n",
    "#### RakuForPrediction at WordPress   \n",
    "#### RakuForPrediction-book at GitHub\n",
    "#### August 2023"
   ]
  },
  {
   "cell_type": "markdown",
   "id": "e768561ca2628458",
   "metadata": {},
   "source": [
    "------\n",
    "\n",
    "## Introduction\n",
    "\n",
    "In this [Jupyter notebook](https://github.com/antononcube/RakuForPrediction-book/blob/main/Notebooks/Jupyter/TLDR-LLM-solutions-for-software-manuals.ipynb) we use [Large Language Model (LLM) functions](https://rakuforprediction.wordpress.com/2023/08/01/workflows-with-llm-functions/), [AAp1, AA1], for generating (hopefully) executable, correct, and harmless code for Operating System resources managements.\n",
    "\n",
    "In order to be concrete and useful, we take the Markdown files of the articles [\"It's time to rak!\"](https://dev.to/lizmat/series/20329), that explain the motivation and usage of the Raku module [\"App::Rak\"](https://raku.land/zef:lizmat/App::Rak), and we show how meaningful, file finding shell commands can be generated via LLMs exposed to the code-with-comments from those articles.\n",
    "\n",
    "In other words, we prefer to apply the attitude Too Long; Didn't Read (TLDR) to articles and related Raku module [help](https://github.com/lizmat/App-Rak/blob/main/README.md).\n",
    "(Because \"App::Rak\" is useful, but it has too many parameters that we prefer not learn that much about.)  \n",
    "\n",
    "**Remark:** We say that \"App::Rak\" uses a Domain Specific Language (DSL), which is done with Raku's Command Line Interface (CLI) features.\n",
    "\n",
    "### Procedure outline\n",
    "\n",
    "1. Clone the corresponding [article repository](https://github.com/lizmat/articles)\n",
    "2. Locate and ingest the \"App::Rak\" dedicated Markdown files\n",
    "3. Extract code blocks from the Markdown files\n",
    "   - Using [\"Markdown::Grammar\"](https://raku.land/zef:antononcube/Markdown::Grammar) functions\n",
    "4. Get comment-and-code line pairs from the code blocks\n",
    "   - Using Raku text manipulation capabilities\n",
    "      - (After observing code examples) \n",
    "5. Generate from the comment-and-code pairs LLM few-shot training rules\n",
    "6. Use the LLM example function to translate natural language commands into (valid and relevant) \"App::Rak\" DSL commands\n",
    "   - With a few or a dozen natural language commands \n",
    "7. Use LLMs to generate natural language commands in order to test LLM-TLDR-er further \n",
    "\n",
    "Step 6 says how we do our TLDR -- we use LLM-translations of natural language commands.\n",
    "\n",
    "### Alternative procedure\n",
    "\n",
    "Instead of using Raku to process text we can make LLM functions for extracting the comment-and-code pairs.\n",
    "(That is also shown below.)    \n",
    "\n",
    "### Extensions\n",
    "\n",
    "1. Using LLMs to generate:\n",
    "    - Variants of the gathered commands\n",
    "        - And make new training rules with them\n",
    "    - EBNF grammars for gathered commands\n",
    "2. Compare OpenAI and PaLM and or their different models \n",
    "    - Which one produces best results?\n",
    "    - Which ones produce better result for which subsets of commands?\n",
    "\n",
    "### Article's structure\n",
    "\n",
    "The exposition below follows the outlines of procedure subsections above. The extensions \n",
    "\n",
    "The article/document/notebook was made with the Jupyter framework, using the Raku package [\"Jupyter::Kernel\"](https://raku.land/cpan:BDUGGAN/Jupyter::Kernel), [BD1].  "
   ]
  },
  {
   "cell_type": "markdown",
   "id": "28c5e0f086741d48",
   "metadata": {},
   "source": [
    "--------\n",
    "\n",
    "## Setup"
   ]
  },
  {
   "cell_type": "code",
   "execution_count": 166,
   "id": "67e4b896440fdad",
   "metadata": {
    "ExecuteTime": {
     "end_time": "2023-08-15T02:53:34.693774Z",
     "start_time": "2023-08-15T02:53:34.554296Z"
    }
   },
   "outputs": [],
   "source": [
    "use Markdown::Grammar;\n",
    "use Data::Reshapers;\n",
    "use Data::Summarizers;\n",
    "use LLM::Functions;\n",
    "use Text::SubParsers;"
   ]
  },
  {
   "cell_type": "markdown",
   "id": "23d5073e754c9311",
   "metadata": {},
   "source": [
    "------\n",
    "\n",
    "## Workflow\n",
    "\n",
    "### File names"
   ]
  },
  {
   "cell_type": "code",
   "execution_count": 167,
   "id": "63fa6425d684d653",
   "metadata": {
    "ExecuteTime": {
     "end_time": "2023-08-15T02:53:34.697879Z",
     "start_time": "2023-08-15T02:53:34.602179Z"
    }
   },
   "outputs": [
    {
     "data": {
      "text/plain": "4"
     },
     "execution_count": 167,
     "metadata": {},
     "output_type": "execute_result"
    }
   ],
   "source": [
    "my $dirName = $*HOME ~ '/GitHub/lizmat/articles';\n",
    "my @fileNames = dir($dirName).grep(*.Str.contains('time-to-rak'));\n",
    "@fileNames.elems"
   ]
  },
  {
   "cell_type": "markdown",
   "id": "be19b8311190e719",
   "metadata": {},
   "source": [
    "### Texts ingestion\n",
    "\n",
    "Here we ingest the text of each file:"
   ]
  },
  {
   "cell_type": "code",
   "execution_count": 168,
   "id": "a44c9bbfb7d200ab",
   "metadata": {
    "ExecuteTime": {
     "end_time": "2023-08-15T02:53:34.698112Z",
     "start_time": "2023-08-15T02:53:34.651094Z"
    }
   },
   "outputs": [
    {
     "data": {
      "text/plain": "4"
     },
     "execution_count": 168,
     "metadata": {},
     "output_type": "execute_result"
    }
   ],
   "source": [
    "my %texts = @fileNames.map({ $_.basename => slurp($_) });\n",
    "%texts.elems"
   ]
  },
  {
   "cell_type": "markdown",
   "id": "47a9b1f04dd14cdc",
   "metadata": {},
   "source": [
    "Here are the number of characters per document:"
   ]
  },
  {
   "cell_type": "code",
   "execution_count": 169,
   "id": "c5ae0c2c7f2bcddc",
   "metadata": {
    "ExecuteTime": {
     "end_time": "2023-08-15T02:53:34.748999Z",
     "start_time": "2023-08-15T02:53:34.697981Z"
    }
   },
   "outputs": [
    {
     "data": {
      "text/plain": "{its-time-to-rak-1.md => 7437, its-time-to-rak-2.md => 8725, its-time-to-rak-3.md => 14181, its-time-to-rak-4.md => 9290}"
     },
     "execution_count": 169,
     "metadata": {},
     "output_type": "execute_result"
    }
   ],
   "source": [
    "%texts>>.chars"
   ]
  },
  {
   "cell_type": "markdown",
   "id": "33b2722b6e078a2f",
   "metadata": {},
   "source": [
    "Here are the number of words per document:"
   ]
  },
  {
   "cell_type": "code",
   "execution_count": 170,
   "id": "6f2bbad8e62ab9d3",
   "metadata": {
    "ExecuteTime": {
     "end_time": "2023-08-15T02:53:34.785302Z",
     "start_time": "2023-08-15T02:53:34.744101Z"
    }
   },
   "outputs": [
    {
     "data": {
      "text/plain": "{its-time-to-rak-1.md => 1205, its-time-to-rak-2.md => 1477, its-time-to-rak-3.md => 2312, its-time-to-rak-4.md => 1553}"
     },
     "execution_count": 170,
     "metadata": {},
     "output_type": "execute_result"
    }
   ],
   "source": [
    "%texts>>.words>>.elems"
   ]
  },
  {
   "cell_type": "markdown",
   "id": "99e674a47f21c36",
   "metadata": {},
   "source": [
    "### Get Markdown code blocks\n",
    "\n",
    "With the function `md-section-tree` we extract code blocks from Markdown documentation files into data structures amenable for further programmatic manipulation (in Raku.)\n",
    "Here we get code blocks from each text:"
   ]
  },
  {
   "cell_type": "code",
   "execution_count": 171,
   "id": "1388696492c4a5c7",
   "metadata": {
    "ExecuteTime": {
     "end_time": "2023-08-15T02:53:35.157250Z",
     "start_time": "2023-08-15T02:53:34.791496Z"
    }
   },
   "outputs": [
    {
     "data": {
      "text/plain": "{its-time-to-rak-1.md => 1, its-time-to-rak-2.md => 11, its-time-to-rak-3.md => 24, its-time-to-rak-4.md => 16}"
     },
     "execution_count": 171,
     "metadata": {},
     "output_type": "execute_result"
    }
   ],
   "source": [
    "my %docTrees = %texts.map({ $_.key => md-section-tree($_.value, modifier => 'Code', max-level => 0) });\n",
    "%docTrees>>.elems"
   ]
  },
  {
   "cell_type": "markdown",
   "id": "aa06b40a7e890e40",
   "metadata": {},
   "source": [
    "Here we put all blocks into one array:"
   ]
  },
  {
   "cell_type": "code",
   "execution_count": 172,
   "id": "bfb9f12599d77eb8",
   "metadata": {
    "ExecuteTime": {
     "end_time": "2023-08-15T02:53:35.202713Z",
     "start_time": "2023-08-15T02:53:35.168016Z"
    }
   },
   "outputs": [
    {
     "data": {
      "text/plain": "52"
     },
     "execution_count": 172,
     "metadata": {},
     "output_type": "execute_result"
    }
   ],
   "source": [
    "my @blocks = %docTrees.values.Array.&flatten;\n",
    "@blocks.elems"
   ]
  },
  {
   "cell_type": "markdown",
   "id": "9426e6e1b99bcc9f",
   "metadata": {},
   "source": [
    "Here from each code block we parse-extract comment-and-code pairs:"
   ]
  },
  {
   "cell_type": "code",
   "execution_count": 173,
   "id": "990cf917338ebce",
   "metadata": {
    "ExecuteTime": {
     "end_time": "2023-08-15T02:53:35.262063Z",
     "start_time": "2023-08-15T02:53:35.214367Z"
    }
   },
   "outputs": [
    {
     "data": {
      "text/plain": "52"
     },
     "execution_count": 173,
     "metadata": {},
     "output_type": "execute_result"
    }
   ],
   "source": [
    "my @rules;\n",
    "@blocks.map({ \n",
    "    given $_ { \n",
    "        for m:g/ '#' $<comment>=(\\V+) \\n '$' $<code>=(\\V+) \\n / -> $m {\n",
    "           @rules.push( ($m<comment>.Str.trim => $m<code>.Str.trim) ) \n",
    "         } } }).elems"
   ]
  },
  {
   "cell_type": "markdown",
   "id": "b79c31a4e7c08bc7",
   "metadata": {},
   "source": [
    "Here is the number of rules:"
   ]
  },
  {
   "cell_type": "code",
   "execution_count": 174,
   "id": "2276e2eefd2c24c6",
   "metadata": {
    "ExecuteTime": {
     "end_time": "2023-08-15T02:53:35.308118Z",
     "start_time": "2023-08-15T02:53:35.274474Z"
    }
   },
   "outputs": [
    {
     "data": {
      "text/plain": "69"
     },
     "execution_count": 174,
     "metadata": {},
     "output_type": "execute_result"
    }
   ],
   "source": [
    "@rules.elems"
   ]
  },
  {
   "cell_type": "markdown",
   "id": "25968e1ad1d0ec6b",
   "metadata": {},
   "source": [
    "Here is a sample of the rules:"
   ]
  },
  {
   "cell_type": "code",
   "execution_count": 175,
   "id": "13f0e57154e2a07c",
   "metadata": {
    "ExecuteTime": {
     "end_time": "2023-08-15T02:53:35.374679Z",
     "start_time": "2023-08-15T02:53:35.319622Z"
    }
   },
   "outputs": [
    {
     "name": "stdout",
     "output_type": "stream",
     "text": [
      "produce extensive help on filesystem filters => rak --help=filesystem\n",
      "same, with a regular expression => rak '/ foo $/'\n",
      "save --before-context as -B, requiring a value => rak --before-context=! --save=B\n",
      "Find files that have \"lib\" in their name from the current dir => rak lib --find\n"
     ]
    }
   ],
   "source": [
    ".say for @rules.pick(4)"
   ]
  },
  {
   "cell_type": "markdown",
   "id": "9b980468572bc80",
   "metadata": {},
   "source": [
    "In order to tabulate \"nicely\" the rules in the Jupyter notebook, we make an LLM functions to produce an HTML table and then specify the corresponding \"magic cell.\" \n",
    "(This relies on the Jupyter-magics features of [BDp1].) Here is an LLM conversion function, [AA1]:"
   ]
  },
  {
   "cell_type": "code",
   "execution_count": 176,
   "id": "f7db847cd76859b9",
   "metadata": {
    "ExecuteTime": {
     "end_time": "2023-08-15T02:53:35.424281Z",
     "start_time": "2023-08-15T02:53:35.384723Z"
    }
   },
   "outputs": [
    {
     "data": {
      "text/plain": "-> **@args, *%args { #`(Block|5060670600040) ... }"
     },
     "execution_count": 176,
     "metadata": {},
     "output_type": "execute_result"
    }
   ],
   "source": [
    "my &ftbl = llm-function({\"Conver the $^a table $^b into an HTML table.\"}, e=>llm-configuration('PaL<', max-tokens=>800))"
   ]
  },
  {
   "cell_type": "markdown",
   "id": "4a544d386bf71a51",
   "metadata": {},
   "source": [
    "Here is the HTML table derivation:"
   ]
  },
  {
   "cell_type": "code",
   "execution_count": 177,
   "id": "6ab519a3c81d9f3d",
   "metadata": {
    "ExecuteTime": {
     "end_time": "2023-08-15T02:53:56.046812Z",
     "start_time": "2023-08-15T02:53:35.435798Z"
    }
   },
   "outputs": [
    {
     "data": {
      "text/html": "\n\n<table>\n  <tr>\n    <th>Key</th>\n    <th>Value</th>\n  </tr>\n  <tr>\n    <td>Look for lines with either \"foo\" or \"bar\"</td>\n    <td>rak '/ one | four /' twenty</td>\n  </tr>\n  <tr>\n    <td>Look for strings containing y or Y</td>\n    <td>rak --type=contains --ignorecase Y twenty</td>\n  </tr>\n  <tr>\n    <td>Only accept Raku and Markdown files</td>\n    <td>rak foo --extensions=#raku,#markdown</td>\n  </tr>\n  <tr>\n    <td>Only accept files with the .bat or the .ps1 extension</td>\n    <td>rak foo --extensions=bat,ps1</td>\n  </tr>\n  <tr>\n    <td>Show all filenames from current directory on down</td>\n    <td>rak --find                                 attRot</td>\n  </tr>\n  <tr>\n    <td>Show all the lines with exactly on character between \"e\" and \"t\"</td>\n    <td>rak /e.t/ twenty</td>\n  </tr>\n  <tr>\n    <td>look for \"Foo\", while taking case into account</td>\n    <td>rak Foo</td>\n  </tr>\n  <tr>\n    <td>look for \"foo\" case-insensitively</td>\n    <td>rak foo</td>\n  </tr>\n  <tr>\n    <td>produce extensive help on filesystem filters</td>\n    <td>rak --help=filesystem --pager=less</td>\n  </tr>\n  <tr>\n    <td>same, without equal sign</td>\n    <td>rak foo -C4</td>\n  </tr>\n  <tr>\n    <td>save --ignorecase as -i, without description</td>\n    <td>rak --ignorecase --save=i</td>\n  </tr>\n  <tr>\n    <td>save searching in Rakudo's committed files as --rakudo</td>\n    <td>rak --paths='~/Github/rakudo' --under-version-control --save=rakudo</td>\n  </tr>\n</table>"
     },
     "execution_count": 177,
     "metadata": {},
     "output_type": "execute_result"
    }
   ],
   "source": [
    "%%html\n",
    "my $tblHTML=&ftbl(\"plain text\", to-pretty-table(@rules.pick(12).sort, align => 'l', field-names => <Key Value>))"
   ]
  },
  {
   "cell_type": "markdown",
   "id": "619ea0d3",
   "metadata": {
    "ExecuteTime": {
     "end_time": "2023-08-15T02:35:58.833801Z",
     "start_time": "2023-08-15T02:35:58.784428Z"
    }
   },
   "source": [
    "It is more \"productive\", though, to use the HTML interpreter provided by \"Markdwon::Grammar\":"
   ]
  },
  {
   "cell_type": "code",
   "execution_count": 178,
   "id": "d381885bcefd2b29",
   "metadata": {
    "ExecuteTime": {
     "end_time": "2023-08-15T02:53:56.171427Z",
     "start_time": "2023-08-15T02:53:56.059785Z"
    }
   },
   "outputs": [
    {
     "data": {
      "text/html": "<table>\n<tr>\n<th>-------------------------------------------------------------</th>\n<th>--------------------------------------------------------------</th>\n</tr>\n<tr>\n<td>Key</td>\n<td>Value</td>\n</tr>\n<tr>\n<td>-------------------------------------------------------------</td>\n<td>--------------------------------------------------------------</td>\n</tr>\n<tr>\n<td>Check there's no \"frobnicate\" option anymore</td>\n<td>rak --frobnicate</td>\n</tr>\n<tr>\n<td>Convert all occurrences of \"teen\" into \"10\"</td>\n<td>rak '.subst(\"teen\",10)' twenty --type=code</td>\n</tr>\n<tr>\n<td>Look for \"eight\" as the whole line in file \"twenty\"</td>\n<td>rak --type=equal eight twenty</td>\n</tr>\n<tr>\n<td>Look for \"seven\" at the start of all lines in file \"twenty\"</td>\n<td>rak --type=starts-with seven twenty</td>\n</tr>\n<tr>\n<td>Look for strings matching \"u\" having any additional marks</td>\n<td>rak --type=contains --ignoremark ú twenty</td>\n</tr>\n<tr>\n<td>Show all directory names from current directory down</td>\n<td>rak --find --/file</td>\n</tr>\n<tr>\n<td>Show number of files / lines authored by Scooby Doo</td>\n<td>rak --blame-per-line '*.author eq \"Scooby Doo\"' --count-only</td>\n</tr>\n<tr>\n<td>Show the lines containing \"ne\"</td>\n<td>rak ne twenty</td>\n</tr>\n<tr>\n<td>produce extensive help on filesystem filters</td>\n<td>rak --help=filesystem</td>\n</tr>\n<tr>\n<td>produce extensive help on filesystem filters</td>\n<td>rak --help=filesystem --pager=less</td>\n</tr>\n<tr>\n<td>remove the --frobnicate custom option</td>\n<td>rak --save=frobnicate</td>\n</tr>\n<tr>\n<td>search for \"foo\" and show two lines of context</td>\n<td>rak foo -C</td>\n</tr>\n<tr>\n<td>-------------------------------------------------------------</td>\n<td>--------------------------------------------------------------</td>\n</tr>\n</table>"
     },
     "execution_count": 178,
     "metadata": {},
     "output_type": "execute_result"
    }
   ],
   "source": [
    "%%html\n",
    "my $textTBL=to-pretty-table(@rules.pick(12).sort).Str;\n",
    "md-interpret($textTBL.subst('+--','|--', :g).subst('--+','--|', :g), actions=>Markdown::Actions::HTML.new)"
   ]
  },
  {
   "cell_type": "markdown",
   "id": "3c68c6b9f20829f4",
   "metadata": {},
   "source": [
    "### Code generation examples"
   ]
  },
  {
   "cell_type": "markdown",
   "id": "8948bf6fcb561e43",
   "metadata": {},
   "source": [
    "Here we define an LLM function for generating \"App::Rak\" shell commands:"
   ]
  },
  {
   "cell_type": "code",
   "execution_count": 179,
   "id": "3150f173d916f9d3",
   "metadata": {
    "ExecuteTime": {
     "end_time": "2023-08-15T02:53:56.218906Z",
     "start_time": "2023-08-15T02:53:56.182635Z"
    }
   },
   "outputs": [
    {
     "data": {
      "text/plain": "-> **@args, *%args { #`(Block|5060670665440) ... }"
     },
     "execution_count": 179,
     "metadata": {},
     "output_type": "execute_result"
    }
   ],
   "source": [
    "my &frak = llm-example-function(@rules, e => llm-evaluator('PaLM'))"
   ]
  },
  {
   "cell_type": "code",
   "execution_count": 180,
   "id": "580a84eb87e94d5e",
   "metadata": {
    "ExecuteTime": {
     "end_time": "2023-08-15T02:54:04.341871Z",
     "start_time": "2023-08-15T02:53:56.230403Z"
    }
   },
   "outputs": [
    {
     "data": {
      "text/plain": "(5 2)"
     },
     "execution_count": 180,
     "metadata": {},
     "output_type": "execute_result"
    }
   ],
   "source": [
    "my @cmds = ['Find files that have \".nb\" in their names', 'Find files that have \".nb\"  or \".wl\" in their names',\n",
    " 'Show all directories of the parent directory', 'Give me files without extensions and that contain the phrase \"notebook\"', \n",
    " 'Show all that have extension raku or rakumod and contain Data::Reshapers'];\n",
    "\n",
    "my @tbl = @cmds.map({ %( 'Command' => $_, 'App::Rak' => &frak($_) ) }).Array;\n",
    "\n",
    "@tbl.&dimensions"
   ]
  },
  {
   "cell_type": "markdown",
   "id": "ba14ec72e5cfa501",
   "metadata": {},
   "source": [
    "Here is a table showing the natural language commands and  "
   ]
  },
  {
   "cell_type": "code",
   "execution_count": 181,
   "id": "523f33f6b5793c89",
   "metadata": {
    "ExecuteTime": {
     "end_time": "2023-08-15T02:54:04.396989Z",
     "start_time": "2023-08-15T02:54:04.354946Z"
    }
   },
   "outputs": [
    {
     "data": {
      "text/plain": "+--------------------------------------------------------------------------+-----------------------------------------------------------------+\n| Command                                                                  | App::Rak                                                        |\n+--------------------------------------------------------------------------+-----------------------------------------------------------------+\n| Find files that have \".nb\" in their names                                | rak --find --extensions=nb                                      |\n| Find files that have \".nb\"  or \".wl\" in their names                      | rak --find --extensions=nb,wl                                   |\n| Show all directories of the parent directory                             | rak --find --/file --parent                                     |\n| Give me files without extensions and that contain the phrase \"notebook\"  | rak --type=words notebook --extensions=                         |\n| Show all that have extension raku or rakumod and contain Data::Reshapers | rak --type=contains 'Data::Reshapers' --extensions=raku,rakumod |\n+--------------------------------------------------------------------------+-----------------------------------------------------------------+"
     },
     "execution_count": 181,
     "metadata": {},
     "output_type": "execute_result"
    }
   ],
   "source": [
    "to-pretty-table(@tbl, align=>'l', field-names => <Command App::Rak>)"
   ]
  },
  {
   "cell_type": "markdown",
   "id": "190d9eac93145c9a",
   "metadata": {},
   "source": [
    "-------\n",
    "\n",
    "## Translating random generated commands\n",
    "\n",
    "Consider testing the applicability of the approach by generating a \"good enough\" sample of natural language commands for finding files or directories.\n",
    "\n",
    "We can generate such commands via LLM. Here we define an LLM function with two parameters the returns a Raku list:"
   ]
  },
  {
   "cell_type": "code",
   "execution_count": 182,
   "id": "bd99fbb8bd93d5a4",
   "metadata": {
    "ExecuteTime": {
     "end_time": "2023-08-15T02:54:04.446490Z",
     "start_time": "2023-08-15T02:54:04.408640Z"
    }
   },
   "outputs": [
    {
     "data": {
      "text/plain": "-> **@args, *%args { #`(Block|5060694760760) ... }"
     },
     "execution_count": 182,
     "metadata": {},
     "output_type": "execute_result"
    }
   ],
   "source": [
    "my &fcg = llm-function({\"Generate $^_a natural language commands for finding $^b in a file system. Give the commands as a JSON list.\"}, form => sub-parser('JSON'))"
   ]
  },
  {
   "cell_type": "code",
   "execution_count": 183,
   "id": "7e0944744b82e469",
   "metadata": {
    "ExecuteTime": {
     "end_time": "2023-08-15T02:54:06.648322Z",
     "start_time": "2023-08-15T02:54:04.458092Z"
    }
   },
   "outputs": [
    {
     "data": {
      "text/plain": "[\"Find a file in my folder\", \"Search for a file in my directory\", \"Locate a file in my folder\", \"Look for a file in my file system\"]"
     },
     "execution_count": 183,
     "metadata": {},
     "output_type": "execute_result"
    }
   ],
   "source": [
    "my @gCmds1 = &fcg(4, 'files').flat;\n",
    "@gCmds1.raku"
   ]
  },
  {
   "cell_type": "markdown",
   "id": "359aecb7101742d1",
   "metadata": {},
   "source": [
    "Here are the corresponding translations to the \"App::Rak\" DSL:"
   ]
  },
  {
   "cell_type": "code",
   "execution_count": 184,
   "id": "5e4a8a2aad40b73a",
   "metadata": {
    "ExecuteTime": {
     "end_time": "2023-08-15T02:54:13.386773Z",
     "start_time": "2023-08-15T02:54:06.661248Z"
    }
   },
   "outputs": [
    {
     "data": {
      "text/plain": "+------------------------------------------+---------------------------+\n| Command                                  | App::Rak                  |\n+------------------------------------------+---------------------------+\n| Show me all the files inside this folder | rak --find .              |\n| Where are the files located?             | current directory on down |\n| What files are inside this directory?    | rak --find                |\n| List all the files in this folder        | rak --find                |\n+------------------------------------------+---------------------------+"
     },
     "execution_count": 184,
     "metadata": {},
     "output_type": "execute_result"
    }
   ],
   "source": [
    "my @tbl1 = @gCmds.map({ %( 'Command' => $_, 'App::Rak' => &frak($_) ) }).Array;\n",
    "to-pretty-table(@tbl1, align=>'l', field-names => <Command App::Rak>)"
   ]
  },
  {
   "cell_type": "markdown",
   "id": "567b3d5bf66f01c",
   "metadata": {},
   "source": [
    "Let use redo the generation and translation using different specs: "
   ]
  },
  {
   "cell_type": "code",
   "execution_count": 185,
   "id": "5fac4d15037af204",
   "metadata": {
    "ExecuteTime": {
     "end_time": "2023-08-15T02:54:15.504306Z",
     "start_time": "2023-08-15T02:54:13.400427Z"
    }
   },
   "outputs": [
    {
     "data": {
      "text/plain": "[\"Find all files with the .docx extension\", \"Search for all files that contain 'Report' in their name\", \"Show me all files with the .txt extension\", \"Locate all files that have 'Project' in their name\"]"
     },
     "execution_count": 185,
     "metadata": {},
     "output_type": "execute_result"
    }
   ],
   "source": [
    "my @gCmds2 = &fcg(4, 'files that have certain extensions or contain certain words').flat;\n",
    "@gCmds2.raku"
   ]
  },
  {
   "cell_type": "code",
   "execution_count": 186,
   "id": "7f207b554eefb772",
   "metadata": {
    "ExecuteTime": {
     "end_time": "2023-08-15T02:54:21.290513Z",
     "start_time": "2023-08-15T02:54:15.517938Z"
    }
   },
   "outputs": [
    {
     "data": {
      "text/plain": "+----------------------------------------------------------+-----------------------+\n| Command                                                  | App::Rak              |\n+----------------------------------------------------------+-----------------------+\n| Find all files with the .docx extension                  | rak --extensions=docx |\n| Search for all files that contain 'Report' in their name | rak --find Report     |\n| Show me all files with the .txt extension                | rak --extensions=txt  |\n| Locate all files that have 'Project' in their name       | rak --find Project    |\n+----------------------------------------------------------+-----------------------+"
     },
     "execution_count": 186,
     "metadata": {},
     "output_type": "execute_result"
    }
   ],
   "source": [
    "my @tbl2 = @gCmds2.map({ %( 'Command' => $_, 'App::Rak' => &frak($_) ) }).Array;\n",
    "to-pretty-table(@tbl2, align=>'l', field-names => <Command App::Rak>)"
   ]
  },
  {
   "cell_type": "markdown",
   "id": "bd71321208607605",
   "metadata": {},
   "source": [
    "-------\n",
    "\n",
    "## Alternative programming with LLM"
   ]
  },
  {
   "cell_type": "code",
   "execution_count": 187,
   "id": "b452fe058be72c00",
   "metadata": {
    "ExecuteTime": {
     "end_time": "2023-08-15T02:54:21.341333Z",
     "start_time": "2023-08-15T02:54:21.303287Z"
    }
   },
   "outputs": [
    {
     "data": {
      "text/plain": "-> **@args, *%args { #`(Block|5060694799560) ... }"
     },
     "execution_count": 187,
     "metadata": {},
     "output_type": "execute_result"
    }
   ],
   "source": [
    "my &fcex = llm-function({\"Extract the consecutive line pairs in which the first start with '#' and second with '\\$' from the text $_. Group them as a key-value pairs and put them JSON format.\"}) "
   ]
  },
  {
   "cell_type": "code",
   "execution_count": 188,
   "id": "ccb1c29c4f8d31bc",
   "metadata": {
    "ExecuteTime": {
     "end_time": "2023-08-15T02:54:22.467897Z",
     "start_time": "2023-08-15T02:54:21.352652Z"
    }
   },
   "outputs": [
    {
     "data": {
      "text/plain": "\n\n{\n  \"# produce results without any highlighting\": \"$ rak foo --/highlight\",\n  \"# produce results as if piping to a file\": \"$ rak foo --no-human\"\n}"
     },
     "execution_count": 188,
     "metadata": {},
     "output_type": "execute_result"
    }
   ],
   "source": [
    "&fcex(@blocks[0])"
   ]
  },
  {
   "cell_type": "markdown",
   "source": [
    "-------\n",
    "\n",
    "## Extentions\n",
    "\n",
    "The \"right way\" of translating natural language DSLs to CLI DSLs like the one of \"App::Rak\" is to make a grammar for the natural language DSL and the corresponding interpreter.\n",
    "This might be a lengthy process, so, we might consider replacing it, or jump-starting it, with LLM-basd grammar generation:\n",
    "we ask an LLM to generate a grammar for a collection DSL sentences. (For example, the keys of the rules above.) \n",
    "In this subsection we make a \"teaser\" demonstration of latter approach.\n",
    "\n",
    "Here we create an LLM function for generating grammars over collections of sentences:"
   ],
   "metadata": {
    "collapsed": false
   },
   "id": "b7428098efb6dd1e"
  },
  {
   "cell_type": "code",
   "execution_count": 189,
   "outputs": [
    {
     "data": {
      "text/plain": "-> **@args, *%args { #`(Block|5060670827264) ... }"
     },
     "execution_count": 189,
     "metadata": {},
     "output_type": "execute_result"
    }
   ],
   "source": [
    "my &febnf = llm-function({\"Generate an $^a grammar for the collection of sentences:\\n $^b \"}, e => llm-configuration(\"OpenAI\", max-tokens=>900))"
   ],
   "metadata": {
    "collapsed": false,
    "ExecuteTime": {
     "end_time": "2023-08-15T02:54:22.523569Z",
     "start_time": "2023-08-15T02:54:22.481808Z"
    }
   },
   "id": "870c057136e03d46"
  },
  {
   "cell_type": "markdown",
   "source": [
    "Here we generate an EBNF grammar for the \"App::Rak\" code-example commands:"
   ],
   "metadata": {
    "collapsed": false
   },
   "id": "c6ed558af1cdc63b"
  },
  {
   "cell_type": "code",
   "execution_count": 190,
   "outputs": [
    {
     "data": {
      "text/plain": " Look for the lines that contains two consecutive words that start with \"ba\" Show all the lines where the fifth character is \"e\"\n\nSentenceList → Sentence | SentenceList Sentence\n\nSentence → ProduceResultsPipe | SpecifyLiteral | SpecifyRegExp | SaveIgnoreCase | SaveIgnoremark | AddChangeDescIgnoreCase | LiteralStringCheck | SaveWhitespace | SearchRakudo | SaveAfterContext | SaveBeforeContext | SaveContext | SearchContext | SmartCase | SearchCase | RemoveOption | StartRak | SearchFile | SearchSubDir | Extension | NoExtension | BehaviourFiles | HelpFilesystem | SearchDir | FindName | FindNumber | FindScooby | FindAnywhere | FindWord | FindStart | FindEnd | NumberCharacters | FindY | FindU | FindNE | FindSix | FindSeven | FindEight | FreqLetters | ShowContain | TitleCase | ReverseOrder | Optionally\n\nProduceResultsPipe → \"produce\" \"results\" \"without\" \"any\" \"highlighting\"\nSpecifyLiteral → \"specify\" \"a\" \"literal\" \"pattern\" \"at\" \"the\" \"end\" \"of\" \"a\" \"line\"\nSpecifyRegExp → \"same,\" \"with\" \"a\" \"regular\" \"expression\"\nSaveIgnoreCase → \"save\" \"--ignorecase\" \"as\" \"-i,\" \"without\" \"description\"\nSaveIgnoremark → \"save\" \"--ignoremark\" \"as\" \"-m,\" \"with\" \"description\"\nAddChangeDescIgnoreCase → \"add\" \"/\" \"change\" \"description\" \"-i\" \"at\" \"a\" \"later\" \"time\"\nLiteralStringCheck → \"look\" \"for\" \"literal\" \"string\" \"\\\"foo\\\",\" \"don't\" \"check\" \"case\" \"or\" \"accents\"\nSaveWhitespace → \"save\" \"looking\" \"for\" \"whitespace\" \"at\" \"end\" \"of\" \"a\" \"line\" \"as\" \"--wseol\"\nSearchRakudo → \"search\" \"for\" \"'sub\" \"min'\" \"in\" \"Rakudo's\" \"source\"\nSaveAfterContext → \"save\" \"--after-context\" \"as\" \"-A,\" \"requiring\" \"a\" \"value\"\nSaveBeforeContext → \"save\" \"--before-context\" \"as\" \"-B,\" \"requiring\" \"a\" \"value\"\nSaveContext → \"save\" \"--context\" \"as\" \"-C,\" \"setting\" \"a\" \"default\" \"of\" \"2\"\nSearchContext → \"search\" \"for\" \"\\\"foo\\\"\" \"and\" \"show\" \"two\" \"lines\" \"of\" \"context\"\nSmartCase → \"set\" \"up\" \"smartcase\" \"by\" \"default\"\nSearchCase → \"look\" \"for\" \"\\\"Foo\\\",\" \"while\" \"taking\" \"case\" \"into\" \"account\"\nRemoveOption → \"remove\" \"the\" \"--frobnicate\" \"custom\" \"option\"\nCheckOption → \"check\" \"there's\" \"no\" \"\\\"frobnicate\\\"\" \"option\" \"anymore\"\nStartRak → \"start\" \"rak\" \"with\" \"configuration\" \"file\" \"at\" \"/usr/local/rak-config.json\"\nSearchFile → \"look\" \"for\" \"\\\"foo\\\"\" \"in\" \"all\" \"files\"\nSearchSubDir → \"search\" \"all\" \"files\" \"and\" \"all\" \"subdirectories\"\nExtension → \"only\" \"accept\" \"files\" \"with\" \"the\" \".bat\" \"extension\"\nNoExtension → \"only\" \"accept\" \"files\" \"without\" \"extension\"\nBehaviourFiles → \"only\" \"accept\" \"Raku\" \"and\" \"Markdown\" \"files\" \nHelpFilesystem → \"produce\" \"extensive\" \"help\" \"on\" \""
     },
     "execution_count": 190,
     "metadata": {},
     "output_type": "execute_result"
    }
   ],
   "source": [
    "my $ebnf = &febnf('EBNF', @rules>>.key)"
   ],
   "metadata": {
    "collapsed": false,
    "ExecuteTime": {
     "end_time": "2023-08-15T02:54:44.390750Z",
     "start_time": "2023-08-15T02:54:22.533384Z"
    }
   },
   "id": "364dde3711d2a612"
  },
  {
   "cell_type": "markdown",
   "id": "4f9d1ef4270c6693",
   "metadata": {},
   "source": [
    "------\n",
    "\n",
    "## References\n",
    "\n",
    "### Articles\n",
    "\n",
    "[AA1] Anton Antonov, [\"Workflows with LLM functions\"](https://rakuforprediction.wordpress.com/2023/08/01/workflows-with-llm-functions/), (2023), [RakuForPrediction at WordPress](https://rakuforprediction.wordpress.com).\n",
    "\n",
    "[AA2] Anton Antonov, [\"Graph representation of grammars\"](https://rakuforprediction.wordpress.com/2023/07/06/graph-representation-of-grammars/), (2023), [RakuForPrediction at WordPress](https://rakuforprediction.wordpress.com).\n",
    "\n",
    "### Packages, paclets\n",
    "\n",
    "[AAp1] Anton Antonov, [LLM::Functions Raku package](https://github.com/antononcube/Raku-LLM-Functions), (2023), [GitHub/antononcube](https://github.com/antononcube).\n",
    "\n",
    "[AAp2] Anton Antonov, [WWW::OpenAI Raku package](https://github.com/antononcube/Raku-WWW-OpenAI), (2023), [GitHub/antononcube](https://github.com/antononcube).\n",
    "\n",
    "[AAp3] Anton Antonov, [WWW::PaLM Raku package](https://github.com/antononcube/Raku-WWW-PaLM), (2023), [GitHub/antononcube](https://github.com/antononcube).\n",
    "\n",
    "[AAp4] Anton Antonov, [Text::SubParsers Raku package](https://github.com/antononcube/Raku-Text-SubParsers), (2023), [GitHub/antononcube](https://github.com/antononcube).\n",
    "\n",
    "[BDp1] Brian Duggan, [Jupyter::Kernel Raku package](https://raku.land/cpan:BDUGGAN/Jupyter::Kernel), (2017-2023), [GitHub/bduggan](https://github.com/bduggan/raku-jupyter-kernel)."
   ]
  }
 ],
 "metadata": {
  "kernelspec": {
   "display_name": "Raku",
   "language": "raku",
   "name": "raku"
  },
  "language_info": {
   "file_extension": ".raku",
   "mimetype": "text/plain",
   "name": "raku",
   "version": "6.d"
  }
 },
 "nbformat": 4,
 "nbformat_minor": 5
}
