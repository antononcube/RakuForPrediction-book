{
 "cells": [
  {
   "cell_type": "markdown",
   "metadata": {},
   "source": [
    "# LLM examples for the Raku community\n",
    "\n",
    "Anton Antonov   \n",
    "[RakuForPrediction at WordPress](https://rakuforprediction.wordpress.com)   \n",
    "[RakuForPrediction-book at GitHub](https://github.com/antononcube/RakuForPrediction-book)   \n",
    "August 2023"
   ]
  },
  {
   "cell_type": "markdown",
   "source": [
    "------\n",
    "\n",
    "## Setup"
   ],
   "metadata": {
    "collapsed": false
   }
  },
  {
   "cell_type": "code",
   "execution_count": 1,
   "metadata": {
    "ExecuteTime": {
     "end_time": "2023-08-29T03:38:37.896205Z",
     "start_time": "2023-08-29T03:38:37.740871Z"
    }
   },
   "outputs": [],
   "source": [
    "use LLM::Functions;\n",
    "use Text::SubParsers;\n",
    "use Data::Translators;\n",
    "use Markdown::Grammar;\n",
    "\n",
    "use Clipboard :ALL;\n",
    "\n",
    "use Text::Utils :ALL;"
   ]
  },
  {
   "cell_type": "markdown",
   "metadata": {},
   "source": [
    "------\n",
    "\n",
    "## Crag daily dose narration"
   ]
  },
  {
   "cell_type": "code",
   "execution_count": 2,
   "metadata": {
    "ExecuteTime": {
     "end_time": "2023-08-29T03:38:37.954225Z",
     "start_time": "2023-08-29T03:38:37.895485Z"
    }
   },
   "outputs": [
    {
     "data": {
      "text/plain": "-> **@args, *%args { #`(Block|6263170867304) ... }"
     },
     "execution_count": 2,
     "metadata": {},
     "output_type": "execute_result"
    }
   ],
   "source": [
    "my &frn=llm-function({\"Narrate the following Raku code $_\"}, e=>'PaLM');\n",
    "my &fue=llm-function({\"Provide detailed explainations for the measurement unit $_.\"}, e=>'PaLM');"
   ]
  },
  {
   "cell_type": "code",
   "execution_count": 3,
   "metadata": {
    "ExecuteTime": {
     "end_time": "2023-08-29T03:38:38.004704Z",
     "start_time": "2023-08-29T03:38:37.967492Z"
    }
   },
   "outputs": [
    {
     "data": {
      "text/plain": "crag '$h=450;$w=1520;$d=2315;$v=$h*$w*$d; say (♎️\"$v cubic millimetre\").in: <cords>'    #0.44cord (hilux flatbed load)\n"
     },
     "execution_count": 3,
     "metadata": {},
     "output_type": "execute_result"
    }
   ],
   "source": [
    "my $text = q:to/END/;\n",
    "crag '$h=450;$w=1520;$d=2315;$v=$h*$w*$d; say (♎️\"$v cubic millimetre\").in: <cords>'    #0.44cord (hilux flatbed load)\n",
    "END"
   ]
  },
  {
   "cell_type": "code",
   "execution_count": 4,
   "metadata": {
    "ExecuteTime": {
     "end_time": "2023-08-29T03:38:40.931232Z",
     "start_time": "2023-08-29T03:38:38.017148Z"
    }
   },
   "outputs": [
    {
     "data": {
      "text/plain": "The Raku code crag '$h=450;$w=1520;$d=2315;$v=$h*$w*$d; say (♎️\"$v cubic\nmillimetre\").in: <cords>' #0.44cord (hilux flatbed load) calculates the volume\nof a cuboid with dimensions 450mm x 1520mm x 2315mm, and then converts the\nvolume to cords. A cord is a unit of volume used to measure the amount of\nfirewood that can be loaded onto a flatbed truck. One cord of firewood is\nequivalent to 128 cubic feet, or 3.62 cubic metres. The code first assigns the\nvalues 450, 1520, and 2315 to the variables $h, $w, and $d, respectively.\nThese values represent the height, width, and depth of the cuboid. The code\nthen calculates the volume of the cuboid by multiplying the values of $h, $w,\nand $d together. The resulting volume is 1,585,300 cubic millimetres. The code\nthen uses the Raku function ♎️ to format the volume as a string. The ♎️ function\ntakes a number as its argument and returns a string that represents the number\nin a specified format. In this case"
     },
     "execution_count": 4,
     "metadata": {},
     "output_type": "execute_result"
    }
   ],
   "source": [
    "&frn($text) ==> wrap-paragraph() ==> join(\"\\n\")"
   ]
  },
  {
   "cell_type": "code",
   "execution_count": 5,
   "metadata": {
    "ExecuteTime": {
     "end_time": "2023-08-29T03:38:43.774219Z",
     "start_time": "2023-08-29T03:38:40.944168Z"
    }
   },
   "outputs": [
    {
     "data": {
      "text/plain": "A cord is a unit of length equal to 12 inches or 3 feet. It is most commonly\nused to measure lengths of rope, string, or wire. The term \"cord\" is also used\nto refer to a bundle of sticks or branches, such as a firewood bundle. In the\nUnited States, the cord is a standard unit of measurement for firewood. A cord\nof firewood is typically defined as a stack of wood that is 4 feet high, 8\nfeet long, and 4 feet wide. This equates to a volume of 128 cubic feet. The\ncord is also used to measure lengths of rope, string, or wire. In this case, a\ncord is typically defined as a length of material that is 12 inches in\ndiameter and 100 feet long. The cord is not a metric unit of measurement. In\nthe metric system, the equivalent unit of length is the meter. One meter is\nequal to 39.37 inches, so a cord of firewood would be equivalent to\napproximately 3.66 cubic meters. The cord is a traditional unit of measurement\nthat is still used today in many parts of the world. However, it is gradually\nbeing replaced by metric units of measurement, such as the meter and the\nkilogram."
     },
     "execution_count": 5,
     "metadata": {},
     "output_type": "execute_result"
    }
   ],
   "source": [
    "&fue('cord') ==> wrap-paragraph() ==> copy-to-clipboard() ==> slip() ==> join(\"\\n\")"
   ]
  },
  {
   "cell_type": "markdown",
   "metadata": {
    "vscode": {
     "languageId": "perl6"
    }
   },
   "source": [
    "-------\n",
    "\n",
    "## Inclusion of truck flatbed loads in prompts\n",
    "\n",
    "### Direct function prompts"
   ]
  },
  {
   "cell_type": "code",
   "execution_count": 6,
   "metadata": {
    "ExecuteTime": {
     "end_time": "2023-08-29T03:38:43.827115Z",
     "start_time": "2023-08-29T03:38:43.786756Z"
    }
   },
   "outputs": [
    {
     "data": {
      "text/plain": "-> **@args, *%args { #`(Block|6263409717120) ... }"
     },
     "execution_count": 6,
     "metadata": {},
     "output_type": "execute_result"
    }
   ],
   "source": [
    "my &ffb = llm-function( -> $p, $t, $u, :$lang = 'Raku' {\"Give computational steps in the programming language $lang for the $p of the truck $t in the units $u.\"}, e=>'OpenAI')"
   ]
  },
  {
   "cell_type": "code",
   "execution_count": 7,
   "metadata": {
    "ExecuteTime": {
     "end_time": "2023-08-29T03:38:47.411261Z",
     "start_time": "2023-08-29T03:38:43.839760Z"
    }
   },
   "outputs": [
    {
     "data": {
      "text/plain": "\n\n1. Declare a variable of type double to represent the flatbed size of the Ford 2020 truck in inches:\n\ndouble flatbedSizeInches;\n\n2. Assign the flatbed size of the Ford 2020 truck to the previously declared variable:\n\nflatbedSizeInches = 96.0;\n\n3. Print the size of the flatbed in inches to the console:\n\nstd::cout << \"The flatbed size of the Ford 2020 truck is \" << flatbedSizeInches << \" inches.\" << std::endl;"
     },
     "execution_count": 7,
     "metadata": {},
     "output_type": "execute_result"
    }
   ],
   "source": [
    "&ffb('flatbed', 'Ford 2020', 'inches', lang => 'C++')"
   ]
  },
  {
   "cell_type": "code",
   "execution_count": 8,
   "metadata": {
    "ExecuteTime": {
     "end_time": "2023-08-29T03:38:50.325978Z",
     "start_time": "2023-08-29T03:38:47.426653Z"
    }
   },
   "outputs": [
    {
     "data": {
      "text/plain": "\n\n1) Calculate the volume of the Toyota Hilux 4th generation in cubic feet:\n  volume = length x width x height\n  volume = 18.3 ft x 6.9 ft x 6.2 ft\n  volume = 806.446 ft3\n\n2) Convert the volume of the Toyota Hilux 4th Generation from cubic feet to cords:\n  volume = 806.446 ft3 / 128 ft3\n  volume = 6.27 cords"
     },
     "execution_count": 8,
     "metadata": {},
     "output_type": "execute_result"
    }
   ],
   "source": [
    "&ffb('volume', 'Toyota hilux 4th generation', 'cords') ==> copy-to-clipboard"
   ]
  },
  {
   "cell_type": "markdown",
   "metadata": {},
   "source": [
    "### Chat object"
   ]
  },
  {
   "cell_type": "code",
   "execution_count": 9,
   "metadata": {
    "ExecuteTime": {
     "end_time": "2023-08-29T03:38:50.394423Z",
     "start_time": "2023-08-29T03:38:50.338603Z"
    }
   },
   "outputs": [
    {
     "data": {
      "text/plain": "LLM::Functions::Chat(chat-id = , llm-evaluator.conf.name = chatgpt, messages.elems = 0)"
     },
     "execution_count": 9,
     "metadata": {},
     "output_type": "execute_result"
    }
   ],
   "source": [
    "my $chat = llm-chat(\"From now on you are a light duty truck expert. If asked compute valumes or areas you give step by step computations recipies in Raku.\", e=>'ChatPaLM');"
   ]
  },
  {
   "cell_type": "code",
   "execution_count": 10,
   "metadata": {
    "ExecuteTime": {
     "end_time": "2023-08-29T03:38:52.663304Z",
     "start_time": "2023-08-29T03:38:50.407416Z"
    }
   },
   "outputs": [
    {
     "data": {
      "text/plain": "The Toyota Hilux 2018 has the following dimensions:\n\nLength: 5,335 mm\nWidth: 1,855 mm\nHeight: 1,815 mm\nWheelbase: 3,085 mm\n\nPlease note that these dimensions may vary depending on the specific trim level and configuration of the vehicle."
     },
     "execution_count": 10,
     "metadata": {},
     "output_type": "execute_result"
    }
   ],
   "source": [
    "$chat.eval('What are the dimensions of a Toyota Hilux 2018?')"
   ]
  },
  {
   "cell_type": "code",
   "execution_count": 11,
   "metadata": {
    "ExecuteTime": {
     "end_time": "2023-08-29T03:38:58.778035Z",
     "start_time": "2023-08-29T03:38:52.673883Z"
    }
   },
   "outputs": [
    {
     "data": {
      "text/plain": "To compute the volume of the Toyota Hilux 2018, we need to multiply the length, width, and height together. \n\nGiven the dimensions in millimeters, we need to convert them to centimeters before performing the calculations. \n\nLet's calculate the volume:\n\nLength: 5,335 mm = 533.5 cm\nWidth: 1,855 mm = 185.5 cm\nHeight: 1,815 mm = 181.5 cm\n\nVolume = Length x Width x Height\nVolume = 533.5 cm x 185.5 cm x 181.5 cm\n\nNow, let's calculate the volume in cm:\n\nmy $length = 533.5;\nmy $width = 185.5;\nmy $height = 181.5;\n\nmy $volume = $length * $width * $height;\n\nsay \"The volume of the Toyota Hilux 2018 is $volume cubic centimeters.\";\n\nOutput:\nThe volume of the Toyota Hilux 2018 is 18,806,293.75 cubic centimeters."
     },
     "execution_count": 11,
     "metadata": {},
     "output_type": "execute_result"
    }
   ],
   "source": [
    "$chat.eval(\"Compute the volume in cm.\")"
   ]
  },
  {
   "cell_type": "code",
   "execution_count": 12,
   "metadata": {
    "ExecuteTime": {
     "end_time": "2023-08-29T03:39:05.947231Z",
     "start_time": "2023-08-29T03:38:58.792207Z"
    }
   },
   "outputs": [
    {
     "data": {
      "text/plain": "To compute the surface areas of the Toyota Hilux 2018 in square inches, we need to calculate the surface area of each face of the truck separately and then add them together. \n\nGiven the dimensions in millimeters, we need to convert them to inches before performing the calculations. \n\nLet's calculate the surface areas:\n\nLength: 5,335 mm = 209.645 inches\nWidth: 1,855 mm = 73.0315 inches\nHeight: 1,815 mm = 71.4567 inches\n\nNow, let's calculate the surface areas in square inches:\n\nFront and back faces:\nSurface Area = Length x Height\nSurface Area = 209.645 inches x 71.4567 inches\n\nTop and bottom faces:\nSurface Area = Length x Width\nSurface Area = 209.645 inches x 73.0315 inches\n\nLeft and right side faces:\nSurface Area = Width x Height\nSurface Area = 73.0315 inches x 71.4567 inches\n\nNow, let's calculate the surface areas in square inches in Raku:\n\nmy $length = 209.645;\nmy $width = 73.0315;\nmy $height = 71.4567;\n\nmy $front_back_area = $length * $height;\nmy $top_bottom_area = $length * $width;\nmy $side_area = $width * $height;\n\nmy $total_area = 2 * ($front_back_area + $"
     },
     "execution_count": 12,
     "metadata": {},
     "output_type": "execute_result"
    }
   ],
   "source": [
    "$chat.eval(\"Ok. Just show the surface areas in square inches.\")"
   ]
  }
 ],
 "metadata": {
  "kernelspec": {
   "display_name": "Raku",
   "language": "raku",
   "name": "raku"
  },
  "language_info": {
   "file_extension": ".raku",
   "mimetype": "text/plain",
   "name": "raku",
   "version": "6.d"
  },
  "orig_nbformat": 4
 },
 "nbformat": 4,
 "nbformat_minor": 2
}
