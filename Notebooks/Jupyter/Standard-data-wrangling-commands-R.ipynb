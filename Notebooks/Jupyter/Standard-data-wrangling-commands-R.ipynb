{
 "cells": [
  {
   "cell_type": "markdown",
   "id": "3a645579",
   "metadata": {
    "pycharm": {
     "name": "#%% md\n"
    }
   },
   "source": [
    "# Standard Data Wrangling Commands\n",
    "\n",
    "***R, version 0.9***\n",
    "\n",
    "Anton Antonov  \n",
    "[RakuForPrediction-book at GitHub](https://github.com/antononcube/RakuForPrediction-book)  \n",
    "[SimplifiedMachineLearningWorkflows-book at GitHub](https://github.com/antononcube/SimplifiedMachineLearningWorkflows-book)  \n",
    "September 2022\n"
   ]
  },
  {
   "cell_type": "markdown",
   "id": "28682707",
   "metadata": {
    "pycharm": {
     "name": "#%% md\n"
    }
   },
   "source": [
    "------\n",
    "\n",
    "## Introduction\n",
    "\n",
    "This document demonstrates and exemplifies the abilities of the Raku package\n",
    "[\"DSL::English::DataQueryWorkflow\"](https://raku.land/zef:antononcube/DSL::English::DataQueryWorkflows), [AAp1],\n",
    "to produce executable Python code that fits majority of the data wrangling use cases.\n",
    "\n",
    "The examples should give a good idea of the English-based Domain Specific Language (DSL) utilized by [AAp1].\n",
    "\n",
    "The data wrangling in R is done with the package [\"tidyverse\"](https://www.tidyverse.org).\n",
    "\n",
    "This notebook has examples that were used in the presentation\n",
    "[\"Multi-language Data-Wrangling Conversational Agent\"](https://www.youtube.com/watch?v=pQk5jwoMSxs), [AAv1].\n",
    "That presentation is an introduction to data wrangling from a more general, multi-language perspective.\n",
    "\n",
    "*It is assumed that the readers of this notebook are familiar with the general data processing workflow discussed in the presentation [AAv1].*\n",
    "\n",
    "For detailed introduction into data wrangling (with- and in Raku) see the article\n",
    "[\"Introduction to data wrangling with Raku\"](https://rakuforprediction.wordpress.com/2021/12/31/introduction-to-data-wrangling-with-raku/), [AA1].\n",
    "(And its Bulgarian version [AA2].)\n",
    "\n",
    "Some of the datasets are acquired with the package\n",
    "[\"ExampleDatasets\"](https://pypi.org/project/ExampleDatasets/).\n",
    "\n",
    "The data wrangling sections have two parts: a code generation part, and an execution steps part.\n",
    "\n",
    "### Generated code\n",
    "\n",
    "- Jupyter notebooks allow the invocation of shell commands and the definition of command aliases. Both of these features are leveraged.\n",
    "- The Raku package [AAp1] is utilized in this Jupyter notebook through package's Command Line Interface (CLI) script `ToDataQueryWorkflowCode`.\n",
    "- Additionally, the CLI script `ToDataQueryWorkflowCode` allows its code results to be copied to the clipboard of the host Operating System (OS).\n"
   ]
  },
  {
   "cell_type": "markdown",
   "id": "581aca2b",
   "metadata": {
    "pycharm": {
     "name": "#%% md\n"
    }
   },
   "source": [
    "------\n",
    "\n",
    "## Setup\n",
    "\n",
    "### Shell alias"
   ]
  },
  {
   "cell_type": "markdown",
   "id": "031589c1",
   "metadata": {
    "pycharm": {
     "name": "#%% md\n"
    }
   },
   "source": [
    "Define an \"alias\" function for the UNIX (macOS or Linux) Command Line Interface (CLI) program `ToDataQueryWorkflowCode`:"
   ]
  },
  {
   "cell_type": "code",
   "execution_count": 1,
   "id": "48d55408",
   "metadata": {
    "pycharm": {
     "name": "#%%\n"
    }
   },
   "outputs": [],
   "source": [
    "FromDSL <- function(command, target=\"R::tidyverse\" ) { system(paste0(\"ToDataQueryWorkflowCode \", target, \" '\", command ,\"'\"), intern=TRUE) }"
   ]
  },
  {
   "cell_type": "markdown",
   "id": "26388042",
   "metadata": {
    "pycharm": {
     "name": "#%% md\n"
    }
   },
   "source": [
    "Try out the \"alias\":"
   ]
  },
  {
   "cell_type": "code",
   "execution_count": 2,
   "id": "cf5bd10f",
   "metadata": {},
   "outputs": [
    {
     "data": {
      "text/html": "<style>\n.list-inline {list-style: none; margin:0; padding: 0}\n.list-inline>li {display: inline-block}\n.list-inline>li:not(:last-child)::after {content: \"\\00b7\"; padding: 0 .5ex}\n</style>\n<ol class=list-inline><li>'obj &lt;- dfTitanic ;'</li><li>'obj &lt;- split( x = obj, f = \"class\" )'</li></ol>\n",
      "text/markdown": "1. 'obj &lt;- dfTitanic ;'\n2. 'obj &lt;- split( x = obj, f = \"class\" )'\n\n\n",
      "text/latex": "\\begin{enumerate*}\n\\item 'obj <- dfTitanic ;'\n\\item 'obj <- split( x = obj, f = \"class\" )'\n\\end{enumerate*}\n",
      "text/plain": "[1] \"obj <- dfTitanic ;\"                     \"obj <- split( x = obj, f = \\\"class\\\" )\""
     },
     "metadata": {},
     "output_type": "display_data"
    }
   ],
   "source": [
    "FromDSL(\"use dfTitanic; group by class\", \"R::base\")"
   ]
  },
  {
   "cell_type": "markdown",
   "id": "8223b58a",
   "metadata": {
    "pycharm": {
     "name": "#%% md\n"
    }
   },
   "source": [
    "### Load packages"
   ]
  },
  {
   "cell_type": "code",
   "execution_count": 3,
   "outputs": [
    {
     "name": "stderr",
     "output_type": "stream",
     "text": [
      "── \u001B[1mAttaching packages\u001B[22m ─────────────────────────────────────────────────────────────────────────────────────────────────────────────────────── tidyverse 1.3.2 ──\n",
      "\u001B[32m✔\u001B[39m \u001B[34mggplot2\u001B[39m 3.3.6      \u001B[32m✔\u001B[39m \u001B[34mpurrr  \u001B[39m 0.3.4 \n",
      "\u001B[32m✔\u001B[39m \u001B[34mtibble \u001B[39m 3.1.8      \u001B[32m✔\u001B[39m \u001B[34mdplyr  \u001B[39m 1.0.10\n",
      "\u001B[32m✔\u001B[39m \u001B[34mtidyr  \u001B[39m 1.2.1      \u001B[32m✔\u001B[39m \u001B[34mstringr\u001B[39m 1.4.1 \n",
      "\u001B[32m✔\u001B[39m \u001B[34mreadr  \u001B[39m 2.1.2      \u001B[32m✔\u001B[39m \u001B[34mforcats\u001B[39m 0.5.2 \n",
      "── \u001B[1mConflicts\u001B[22m ────────────────────────────────────────────────────────────────────────────────────────────────────────────────────────── tidyverse_conflicts() ──\n",
      "\u001B[31m✖\u001B[39m \u001B[34mdplyr\u001B[39m::\u001B[32mfilter()\u001B[39m masks \u001B[34mstats\u001B[39m::filter()\n",
      "\u001B[31m✖\u001B[39m \u001B[34mdplyr\u001B[39m::\u001B[32mlag()\u001B[39m    masks \u001B[34mstats\u001B[39m::lag()\n",
      "\n",
      "Attaching package: ‘magrittr’\n",
      "\n",
      "\n",
      "The following object is masked from ‘package:purrr’:\n",
      "\n",
      "    set_names\n",
      "\n",
      "\n",
      "The following object is masked from ‘package:tidyr’:\n",
      "\n",
      "    extract\n",
      "\n",
      "\n"
     ]
    }
   ],
   "source": [
    "library(tidyverse)\n",
    "library(purrr)\n",
    "library(magrittr)\n",
    "library(skimr)\n",
    "library(ggplot2)"
   ],
   "metadata": {
    "collapsed": false,
    "pycharm": {
     "name": "#%%\n"
    }
   }
  },
  {
   "cell_type": "markdown",
   "source": [
    "### Load data"
   ],
   "metadata": {
    "collapsed": false,
    "pycharm": {
     "name": "#%% md\n"
    }
   }
  },
  {
   "cell_type": "markdown",
   "source": [
    "#### Titanic data\n",
    "\n",
    "We can obtain the Titanic dataset provided by project [\"MathematicaVsR\"](https://github.com/antononcube/MathematicaVsR):"
   ],
   "metadata": {
    "collapsed": false,
    "pycharm": {
     "name": "#%% md\n"
    }
   }
  },
  {
   "cell_type": "code",
   "execution_count": 4,
   "outputs": [
    {
     "data": {
      "text/html": "<style>\n.list-inline {list-style: none; margin:0; padding: 0}\n.list-inline>li {display: inline-block}\n.list-inline>li:not(:last-child)::after {content: \"\\00b7\"; padding: 0 .5ex}\n</style>\n<ol class=list-inline><li>1309</li><li>5</li></ol>\n",
      "text/markdown": "1. 1309\n2. 5\n\n\n",
      "text/latex": "\\begin{enumerate*}\n\\item 1309\n\\item 5\n\\end{enumerate*}\n",
      "text/plain": "[1] 1309    5"
     },
     "metadata": {},
     "output_type": "display_data"
    }
   ],
   "source": [
    "dfTitanic <- read.csv(\"https://raw.githubusercontent.com/antononcube/MathematicaVsR/master/Data/MathematicaVsR-Data-Titanic.csv\");\n",
    "dim(dfTitanic)"
   ],
   "metadata": {
    "collapsed": false,
    "pycharm": {
     "name": "#%%\n"
    }
   }
  },
  {
   "cell_type": "markdown",
   "source": [
    "#### Anscombe's quartet\n",
    "\n",
    "The dataset named\n",
    "[\"Anscombe's quartet\"](https://en.wikipedia.org/wiki/Anscombe%27s_quartet)\n",
    "has four datasets that have nearly identical simple descriptive statistics,\n",
    "yet have very different distributions and appear very different when graphed.\n",
    "\n",
    "Anscombe's quartet is (usually) given in a table with eight columns that is somewhat awkward to work with.\n",
    "Below we demonstrate data transformations that make plotting of the four datasets easier.\n",
    "The DSL specifications used make those data transformations are programming language independent.\n",
    "\n",
    "We can obtain the Anscombe's dataset using the function `example_dataset` provided by \"ExampleDatasets\", [AAp4]:"
   ],
   "metadata": {
    "collapsed": false,
    "pycharm": {
     "name": "#%% md\n"
    }
   }
  },
  {
   "cell_type": "code",
   "execution_count": 5,
   "outputs": [
    {
     "data": {
      "text/html": "<style>\n.list-inline {list-style: none; margin:0; padding: 0}\n.list-inline>li {display: inline-block}\n.list-inline>li:not(:last-child)::after {content: \"\\00b7\"; padding: 0 .5ex}\n</style>\n<ol class=list-inline><li>11</li><li>9</li></ol>\n",
      "text/markdown": "1. 11\n2. 9\n\n\n",
      "text/latex": "\\begin{enumerate*}\n\\item 11\n\\item 9\n\\end{enumerate*}\n",
      "text/plain": "[1] 11  9"
     },
     "metadata": {},
     "output_type": "display_data"
    }
   ],
   "source": [
    "dfAnscombe <- read.csv(\"https://vincentarelbundock.github.io/Rdatasets/csv/datasets/anscombe.csv\")\n",
    "dim(dfAnscombe)"
   ],
   "metadata": {
    "collapsed": false,
    "pycharm": {
     "name": "#%%\n"
    }
   }
  },
  {
   "cell_type": "markdown",
   "source": [
    "#### Star Wars films data\n",
    "We can obtain Star Wars films datasets using (again) the function example-dataset:"
   ],
   "metadata": {
    "collapsed": false,
    "pycharm": {
     "name": "#%% md\n"
    }
   }
  },
  {
   "cell_type": "code",
   "execution_count": 6,
   "outputs": [],
   "source": [
    "dfStarwars <- read.csv(\"https://raw.githubusercontent.com/antononcube/R-packages/master/DataQueryWorkflowsTests/inst/extdata/dfStarwars.csv\")\n",
    "dfStarwarsFilms <- read.csv(\"https://raw.githubusercontent.com/antononcube/R-packages/master/DataQueryWorkflowsTests/inst/extdata/dfStarwarsFilms.csv\")\n",
    "dfStarwarsStarships <- read.csv(\"https://raw.githubusercontent.com/antononcube/R-packages/master/DataQueryWorkflowsTests/inst/extdata/dfStarwarsStarships.csv\")\n",
    "dfStarwarsVehicles <- read.csv(\"https://raw.githubusercontent.com/antononcube/R-packages/master/DataQueryWorkflowsTests/inst/extdata/dfStarwarsVehicles.csv\")"
   ],
   "metadata": {
    "collapsed": false,
    "pycharm": {
     "name": "#%%\n"
    }
   }
  },
  {
   "cell_type": "markdown",
   "source": [
    "Here are the dimensions of the obtained data frames:"
   ],
   "metadata": {
    "collapsed": false,
    "pycharm": {
     "name": "#%% md\n"
    }
   }
  },
  {
   "cell_type": "code",
   "execution_count": 7,
   "outputs": [
    {
     "data": {
      "text/html": "<table class=\"dataframe\">\n<caption>A tibble: 4 × 3</caption>\n<thead>\n\t<tr><th scope=col>Dataset</th><th scope=col>Dimensions1</th><th scope=col>Dimensions2</th></tr>\n\t<tr><th scope=col>&lt;chr&gt;</th><th scope=col>&lt;chr&gt;</th><th scope=col>&lt;chr&gt;</th></tr>\n</thead>\n<tbody>\n\t<tr><td>dfStarwars         </td><td>87 </td><td>11</td></tr>\n\t<tr><td>dfStarwarsFilms    </td><td>173</td><td>2 </td></tr>\n\t<tr><td>dfStarwarsStarships</td><td>31 </td><td>2 </td></tr>\n\t<tr><td>dfStarwarsVehicles </td><td>13 </td><td>2 </td></tr>\n</tbody>\n</table>\n",
      "text/markdown": "\nA tibble: 4 × 3\n\n| Dataset &lt;chr&gt; | Dimensions1 &lt;chr&gt; | Dimensions2 &lt;chr&gt; |\n|---|---|---|\n| dfStarwars          | 87  | 11 |\n| dfStarwarsFilms     | 173 | 2  |\n| dfStarwarsStarships | 31  | 2  |\n| dfStarwarsVehicles  | 13  | 2  |\n\n",
      "text/latex": "A tibble: 4 × 3\n\\begin{tabular}{lll}\n Dataset & Dimensions1 & Dimensions2\\\\\n <chr> & <chr> & <chr>\\\\\n\\hline\n\t dfStarwars          & 87  & 11\\\\\n\t dfStarwarsFilms     & 173 & 2 \\\\\n\t dfStarwarsStarships & 31  & 2 \\\\\n\t dfStarwarsVehicles  & 13  & 2 \\\\\n\\end{tabular}\n",
      "text/plain": "  Dataset             Dimensions1 Dimensions2\n1 dfStarwars          87          11         \n2 dfStarwarsFilms     173         2          \n3 dfStarwarsStarships 31          2          \n4 dfStarwarsVehicles  13          2          "
     },
     "metadata": {},
     "output_type": "display_data"
    }
   ],
   "source": [
    "purrr::map_df( c(\"dfStarwars\", \"dfStarwarsFilms\", \"dfStarwarsStarships\", \"dfStarwarsVehicles\"), function(x) c(Dataset = x, Dimensions = dim(get(x))) ) "
   ],
   "metadata": {
    "collapsed": false,
    "pycharm": {
     "name": "#%%\n"
    }
   }
  },
  {
   "cell_type": "markdown",
   "source": [
    "------\n",
    "\n",
    "## Multi-language translation\n",
    "\n",
    "In this section show that the Raku package \"DSL::English::DataQueryWorkflows\" generates code for multiple programming languages.\n",
    "Also, it translates the English DSL into DSLs of other natural languages.\n",
    "\n",
    "### Programming languages"
   ],
   "metadata": {
    "collapsed": false,
    "pycharm": {
     "name": "#%% md\n"
    }
   }
  },
  {
   "cell_type": "code",
   "execution_count": 8,
   "outputs": [
    {
     "data": {
      "text/html": "<table class=\"dataframe\">\n<caption>A tibble: 6 × 2</caption>\n<thead>\n\t<tr><th scope=col>Language</th><th scope=col>Code</th></tr>\n\t<tr><th scope=col>&lt;chr&gt;</th><th scope=col>&lt;chr&gt;</th></tr>\n</thead>\n<tbody>\n\t<tr><td>Julia::DataFrames</td><td>obj = dfTitanic\nobj = groupby( obj, [:passengerClass] )\nobj = combine(obj, nrow)    </td></tr>\n\t<tr><td>Python::pandas   </td><td>obj = dfTitanic.copy()\nobj = obj.groupby([\"passengerClass\"])\nobj = obj.size()       </td></tr>\n\t<tr><td><span style=white-space:pre-wrap>R::base          </span></td><td>obj &lt;- dfTitanic ;\nobj &lt;- split( x = obj, f = \"passengerClass\" ) ;\nobj = length(obj)</td></tr>\n\t<tr><td><span style=white-space:pre-wrap>R::tidyverse     </span></td><td><span style=white-space:pre-wrap>dfTitanic %&gt;%\ndplyr::group_by(passengerClass) %&gt;%\ndplyr::count()                    </span></td></tr>\n\t<tr><td><span style=white-space:pre-wrap>Raku::Reshapers  </span></td><td><span style=white-space:pre-wrap>$obj = dfTitanic ;\n$obj = group-by($obj, \"passengerClass\") ;\n$obj = $obj&gt;&gt;.elems    </span></td></tr>\n\t<tr><td><span style=white-space:pre-wrap>WL               </span></td><td>obj = dfTitanic;\nobj = GroupBy[ obj, #[\"passengerClass\"]&amp; ];\nobj = Map[ Length, obj]</td></tr>\n</tbody>\n</table>\n",
      "text/markdown": "\nA tibble: 6 × 2\n\n| Language &lt;chr&gt; | Code &lt;chr&gt; |\n|---|---|\n| Julia::DataFrames | obj = dfTitanic\nobj = groupby( obj, [:passengerClass] )\nobj = combine(obj, nrow)     |\n| Python::pandas    | obj = dfTitanic.copy()\nobj = obj.groupby([\"passengerClass\"])\nobj = obj.size()        |\n| R::base           | obj &lt;- dfTitanic ;\nobj &lt;- split( x = obj, f = \"passengerClass\" ) ;\nobj = length(obj) |\n| R::tidyverse      | dfTitanic %&gt;%\ndplyr::group_by(passengerClass) %&gt;%\ndplyr::count()                     |\n| Raku::Reshapers   | $obj = dfTitanic ;\n$obj = group-by($obj, \"passengerClass\") ;\n$obj = $obj&gt;&gt;.elems     |\n| WL                | obj = dfTitanic;\nobj = GroupBy[ obj, #[\"passengerClass\"]&amp; ];\nobj = Map[ Length, obj] |\n\n",
      "text/latex": "A tibble: 6 × 2\n\\begin{tabular}{ll}\n Language & Code\\\\\n <chr> & <chr>\\\\\n\\hline\n\t Julia::DataFrames & obj = dfTitanic\nobj = groupby( obj, {[}:passengerClass{]} )\nobj = combine(obj, nrow)    \\\\\n\t Python::pandas    & obj = dfTitanic.copy()\nobj = obj.groupby({[}\"passengerClass\"{]})\nobj = obj.size()       \\\\\n\t R::base           & obj <- dfTitanic ;\nobj <- split( x = obj, f = \"passengerClass\" ) ;\nobj = length(obj)\\\\\n\t R::tidyverse      & dfTitanic \\%>\\%\ndplyr::group\\_by(passengerClass) \\%>\\%\ndplyr::count()                    \\\\\n\t Raku::Reshapers   & \\$obj = dfTitanic ;\n\\$obj = group-by(\\$obj, \"passengerClass\") ;\n\\$obj = \\$obj>>.elems    \\\\\n\t WL                & obj = dfTitanic;\nobj = GroupBy{[} obj, \\#{[}\"passengerClass\"{]}\\& {]};\nobj = Map{[} Length, obj{]}\\\\\n\\end{tabular}\n",
      "text/plain": "  Language          Code                                                                                  \n1 Julia::DataFrames obj = dfTitanic\\nobj = groupby( obj, [:passengerClass] )\\nobj = combine(obj, nrow)    \n2 Python::pandas    obj = dfTitanic.copy()\\nobj = obj.groupby([\"passengerClass\"])\\nobj = obj.size()       \n3 R::base           obj <- dfTitanic ;\\nobj <- split( x = obj, f = \"passengerClass\" ) ;\\nobj = length(obj)\n4 R::tidyverse      dfTitanic %>%\\ndplyr::group_by(passengerClass) %>%\\ndplyr::count()                    \n5 Raku::Reshapers   $obj = dfTitanic ;\\n$obj = group-by($obj, \"passengerClass\") ;\\n$obj = $obj>>.elems    \n6 WL                obj = dfTitanic;\\nobj = GroupBy[ obj, #[\"passengerClass\"]& ];\\nobj = Map[ Length, obj]"
     },
     "metadata": {},
     "output_type": "display_data"
    }
   ],
   "source": [
    "command0 = \"use dfTitanic; group by passengerClass; counts;\"\n",
    "purrr::map_df(c(\"Julia::DataFrames\", \"Python::pandas\", \"R::base\", \"R::tidyverse\",  \"Raku::Reshapers\", \"WL\"), \n",
    "              function(x) { c(Language = x, Code = paste(FromDSL(command0, target=x), collapse=\"\\n\")) })"
   ],
   "metadata": {
    "collapsed": false,
    "pycharm": {
     "name": "#%%\n"
    }
   }
  },
  {
   "cell_type": "markdown",
   "source": [
    "### Natural languages"
   ],
   "metadata": {
    "collapsed": false,
    "pycharm": {
     "name": "#%% md\n"
    }
   }
  },
  {
   "cell_type": "code",
   "execution_count": 9,
   "outputs": [
    {
     "data": {
      "text/html": "<table class=\"dataframe\">\n<caption>A tibble: 4 × 2</caption>\n<thead>\n\t<tr><th scope=col>Language</th><th scope=col>Code</th></tr>\n\t<tr><th scope=col>&lt;chr&gt;</th><th scope=col>&lt;chr&gt;</th></tr>\n</thead>\n<tbody>\n\t<tr><td>Bulgarian</td><td>използвай таблицата: dfTitanic\nгрупирай с колоните: passengerClass\nнамери броя         </td></tr>\n\t<tr><td>Korean   </td><td>테이블 사용: dfTitanic\n열로 그룹화: passengerClass\n하위 그룹의 크기 찾기               </td></tr>\n\t<tr><td>Russian  </td><td>использовать таблицу: dfTitanic\nгрупировать с колонками: passengerClass\nнайти число    </td></tr>\n\t<tr><td>Spanish  </td><td>utilizar la tabla: dfTitanic\nagrupar con columnas: \"passengerClass\"\nencontrar recuentos</td></tr>\n</tbody>\n</table>\n",
      "text/markdown": "\nA tibble: 4 × 2\n\n| Language &lt;chr&gt; | Code &lt;chr&gt; |\n|---|---|\n| Bulgarian | използвай таблицата: dfTitanic\nгрупирай с колоните: passengerClass\nнамери броя          |\n| Korean    | 테이블 사용: dfTitanic\n열로 그룹화: passengerClass\n하위 그룹의 크기 찾기                |\n| Russian   | использовать таблицу: dfTitanic\nгрупировать с колонками: passengerClass\nнайти число     |\n| Spanish   | utilizar la tabla: dfTitanic\nagrupar con columnas: \"passengerClass\"\nencontrar recuentos |\n\n",
      "text/latex": "A tibble: 4 × 2\n\\begin{tabular}{ll}\n Language & Code\\\\\n <chr> & <chr>\\\\\n\\hline\n\t Bulgarian & използвай таблицата: dfTitanic\nгрупирай с колоните: passengerClass\nнамери броя         \\\\\n\t Korean    & 테이블 사용: dfTitanic\n열로 그룹화: passengerClass\n하위 그룹의 크기 찾기               \\\\\n\t Russian   & использовать таблицу: dfTitanic\nгрупировать с колонками: passengerClass\nнайти число    \\\\\n\t Spanish   & utilizar la tabla: dfTitanic\nagrupar con columnas: \"passengerClass\"\nencontrar recuentos\\\\\n\\end{tabular}\n",
      "text/plain": "  Language  Code                                                                                     \n1 Bulgarian използвай таблицата: dfTitanic\\nгрупирай с колоните: passengerClass\\nнамери броя         \n2 Korean    테이블 사용: dfTitanic\\n열로 그룹화: passengerClass\\n하위 그룹의 크기 찾기               \n3 Russian   использовать таблицу: dfTitanic\\nгрупировать с колонками: passengerClass\\nнайти число    \n4 Spanish   utilizar la tabla: dfTitanic\\nagrupar con columnas: \"passengerClass\"\\nencontrar recuentos"
     },
     "metadata": {},
     "output_type": "display_data"
    }
   ],
   "source": [
    "purrr::map_df(c(\"Bulgarian\", \"Korean\", \"Russian\",  \"Spanish\"), \n",
    "              function(x) { c(Language = x, Code = paste(FromDSL(command0, target=x), collapse=\"\\n\")) })"
   ],
   "metadata": {
    "collapsed": false,
    "pycharm": {
     "name": "#%%\n"
    }
   }
  },
  {
   "cell_type": "markdown",
   "source": [
    "------\n",
    "\n",
    "## Using `ToDataQueryWorkflowCode`\n",
    "\n",
    "The Raku package \"DSL::English::DataQueryWorkflows\", [AAp1], provides the Command Line Interface (CLI) script `ToDataQueryWorkflowCode`.\n",
    "That script has optional arguments that control its output.\n",
    "\n",
    "Here is script's usage message:"
   ],
   "metadata": {
    "collapsed": false,
    "pycharm": {
     "name": "#%% md\n"
    }
   }
  },
  {
   "cell_type": "code",
   "execution_count": 10,
   "outputs": [
    {
     "data": {
      "text/html": "<style>\n.list-inline {list-style: none; margin:0; padding: 0}\n.list-inline>li {display: inline-block}\n.list-inline>li:not(:last-child)::after {content: \"\\00b7\"; padding: 0 .5ex}\n</style>\n<ol class=list-inline><li>'Translates natural language commands into data transformations programming code.'</li><li>'Usage:'</li><li><span style=white-space:pre-wrap>'  ToDataQueryWorkflowCode [-t|--target=&lt;Str&gt;] [-l|--language=&lt;Str&gt;] [-f|--format=&lt;Str&gt;] [-c|--clipboard-command=&lt;Str&gt;] &lt;command&gt; -- Main CLI signature.'</span></li><li><span style=white-space:pre-wrap>'  ToDataQueryWorkflowCode [-l|--language=&lt;Str&gt;] [-f|--format=&lt;Str&gt;] [-c|--clipboard-command=&lt;Str&gt;] &lt;target&gt; &lt;command&gt; -- Easier target specification.'</span></li><li><span style=white-space:pre-wrap>'  ToDataQueryWorkflowCode [-t|--target=&lt;Str&gt;] [-l|--language=&lt;Str&gt;] [-f|--format=&lt;Str&gt;] [-c|--clipboard-command=&lt;Str&gt;] [&lt;words&gt; ...] -- Command given as a sequence of words.'</span></li><li><span style=white-space:pre-wrap>'  '</span></li><li><span style=white-space:pre-wrap>'    &lt;command&gt;                       A string with one or many commands (separated by \\';\\').'</span></li><li><span style=white-space:pre-wrap>'    -t|--target=&lt;Str&gt;               Target (programming language with optional library spec.) [default: \\'Whatever\\']'</span></li><li><span style=white-space:pre-wrap>'    -l|--language=&lt;Str&gt;             The natural language to translate from. [default: \\'English\\']'</span></li><li><span style=white-space:pre-wrap>'    -f|--format=&lt;Str&gt;               The format of the output, one of \\'Whatever\\', \\'code\\', \\'hash\\', or \\'raku\\'. [default: \\'Whatever\\']'</span></li><li><span style=white-space:pre-wrap>'    -c|--clipboard-command=&lt;Str&gt;    Clipboard command to use. [default: \\'Whatever\\']'</span></li><li><span style=white-space:pre-wrap>'    &lt;target&gt;                        Programming language.'</span></li><li><span style=white-space:pre-wrap>'    [&lt;words&gt; ...]                   Words of a data query.'</span></li><li>''</li><li>''</li><li>'Details:'</li><li><span style=white-space:pre-wrap>'    If --target is \\'Whatever\\' then:'</span></li><li><span style=white-space:pre-wrap>'        1. It is attempted to use the environmental variable RAKU_DSL_DATAQUERYWORKFLOWS_TARGET'</span></li><li><span style=white-space:pre-wrap>'        2. If RAKU_DSL_DATAQUERYWORKFLOWS_TARGET is not defined then \\'R::tidyverse\\' is used.'</span></li><li><span style=white-space:pre-wrap>'    If --clipboard-command is the empty string then no copying to the clipboard is done.'</span></li><li><span style=white-space:pre-wrap>'    If --clipboard-command is \\'Whatever\\' then:'</span></li><li><span style=white-space:pre-wrap>'        1. It is attempted to use the environment variable CLIPBOARD_COPY_COMMAND.'</span></li><li><span style=white-space:pre-wrap>'            If CLIPBOARD_COPY_COMMAND is defined and it is the empty string then no copying to the clipboard is done.'</span></li><li><span style=white-space:pre-wrap>'        2. If the variable CLIPBOARD_COPY_COMMAND is not defined then:'</span></li><li><span style=white-space:pre-wrap>'            - \\'pbcopy\\' is used on macOS'</span></li><li><span style=white-space:pre-wrap>'            - \\'clip.exe\\' on Windows'</span></li><li><span style=white-space:pre-wrap>'            - \\'xclip -selection clipboard\\' on Linux.'</span></li><li>''</li></ol>\n",
      "text/markdown": "1. 'Translates natural language commands into data transformations programming code.'\n2. 'Usage:'\n3. <span style=white-space:pre-wrap>'  ToDataQueryWorkflowCode [-t|--target=&lt;Str&gt;] [-l|--language=&lt;Str&gt;] [-f|--format=&lt;Str&gt;] [-c|--clipboard-command=&lt;Str&gt;] &lt;command&gt; -- Main CLI signature.'</span>\n4. <span style=white-space:pre-wrap>'  ToDataQueryWorkflowCode [-l|--language=&lt;Str&gt;] [-f|--format=&lt;Str&gt;] [-c|--clipboard-command=&lt;Str&gt;] &lt;target&gt; &lt;command&gt; -- Easier target specification.'</span>\n5. <span style=white-space:pre-wrap>'  ToDataQueryWorkflowCode [-t|--target=&lt;Str&gt;] [-l|--language=&lt;Str&gt;] [-f|--format=&lt;Str&gt;] [-c|--clipboard-command=&lt;Str&gt;] [&lt;words&gt; ...] -- Command given as a sequence of words.'</span>\n6. <span style=white-space:pre-wrap>'  '</span>\n7. <span style=white-space:pre-wrap>'    &lt;command&gt;                       A string with one or many commands (separated by \\';\\').'</span>\n8. <span style=white-space:pre-wrap>'    -t|--target=&lt;Str&gt;               Target (programming language with optional library spec.) [default: \\'Whatever\\']'</span>\n9. <span style=white-space:pre-wrap>'    -l|--language=&lt;Str&gt;             The natural language to translate from. [default: \\'English\\']'</span>\n10. <span style=white-space:pre-wrap>'    -f|--format=&lt;Str&gt;               The format of the output, one of \\'Whatever\\', \\'code\\', \\'hash\\', or \\'raku\\'. [default: \\'Whatever\\']'</span>\n11. <span style=white-space:pre-wrap>'    -c|--clipboard-command=&lt;Str&gt;    Clipboard command to use. [default: \\'Whatever\\']'</span>\n12. <span style=white-space:pre-wrap>'    &lt;target&gt;                        Programming language.'</span>\n13. <span style=white-space:pre-wrap>'    [&lt;words&gt; ...]                   Words of a data query.'</span>\n14. ''\n15. ''\n16. 'Details:'\n17. <span style=white-space:pre-wrap>'    If --target is \\'Whatever\\' then:'</span>\n18. <span style=white-space:pre-wrap>'        1. It is attempted to use the environmental variable RAKU_DSL_DATAQUERYWORKFLOWS_TARGET'</span>\n19. <span style=white-space:pre-wrap>'        2. If RAKU_DSL_DATAQUERYWORKFLOWS_TARGET is not defined then \\'R::tidyverse\\' is used.'</span>\n20. <span style=white-space:pre-wrap>'    If --clipboard-command is the empty string then no copying to the clipboard is done.'</span>\n21. <span style=white-space:pre-wrap>'    If --clipboard-command is \\'Whatever\\' then:'</span>\n22. <span style=white-space:pre-wrap>'        1. It is attempted to use the environment variable CLIPBOARD_COPY_COMMAND.'</span>\n23. <span style=white-space:pre-wrap>'            If CLIPBOARD_COPY_COMMAND is defined and it is the empty string then no copying to the clipboard is done.'</span>\n24. <span style=white-space:pre-wrap>'        2. If the variable CLIPBOARD_COPY_COMMAND is not defined then:'</span>\n25. <span style=white-space:pre-wrap>'            - \\'pbcopy\\' is used on macOS'</span>\n26. <span style=white-space:pre-wrap>'            - \\'clip.exe\\' on Windows'</span>\n27. <span style=white-space:pre-wrap>'            - \\'xclip -selection clipboard\\' on Linux.'</span>\n28. ''\n\n\n",
      "text/latex": "\\begin{enumerate*}\n\\item 'Translates natural language commands into data transformations programming code.'\n\\item 'Usage:'\n\\item '  ToDataQueryWorkflowCode {[}-t\\textbar{}--target=<Str>{]} {[}-l\\textbar{}--language=<Str>{]} {[}-f\\textbar{}--format=<Str>{]} {[}-c\\textbar{}--clipboard-command=<Str>{]} <command> -- Main CLI signature.'\n\\item '  ToDataQueryWorkflowCode {[}-l\\textbar{}--language=<Str>{]} {[}-f\\textbar{}--format=<Str>{]} {[}-c\\textbar{}--clipboard-command=<Str>{]} <target> <command> -- Easier target specification.'\n\\item '  ToDataQueryWorkflowCode {[}-t\\textbar{}--target=<Str>{]} {[}-l\\textbar{}--language=<Str>{]} {[}-f\\textbar{}--format=<Str>{]} {[}-c\\textbar{}--clipboard-command=<Str>{]} {[}<words> ...{]} -- Command given as a sequence of words.'\n\\item '  '\n\\item '    <command>                       A string with one or many commands (separated by \\textbackslash{}';\\textbackslash{}').'\n\\item '    -t\\textbar{}--target=<Str>               Target (programming language with optional library spec.) {[}default: \\textbackslash{}'Whatever\\textbackslash{}'{]}'\n\\item '    -l\\textbar{}--language=<Str>             The natural language to translate from. {[}default: \\textbackslash{}'English\\textbackslash{}'{]}'\n\\item '    -f\\textbar{}--format=<Str>               The format of the output, one of \\textbackslash{}'Whatever\\textbackslash{}', \\textbackslash{}'code\\textbackslash{}', \\textbackslash{}'hash\\textbackslash{}', or \\textbackslash{}'raku\\textbackslash{}'. {[}default: \\textbackslash{}'Whatever\\textbackslash{}'{]}'\n\\item '    -c\\textbar{}--clipboard-command=<Str>    Clipboard command to use. {[}default: \\textbackslash{}'Whatever\\textbackslash{}'{]}'\n\\item '    <target>                        Programming language.'\n\\item '    {[}<words> ...{]}                   Words of a data query.'\n\\item ''\n\\item ''\n\\item 'Details:'\n\\item '    If --target is \\textbackslash{}'Whatever\\textbackslash{}' then:'\n\\item '        1. It is attempted to use the environmental variable RAKU\\_DSL\\_DATAQUERYWORKFLOWS\\_TARGET'\n\\item '        2. If RAKU\\_DSL\\_DATAQUERYWORKFLOWS\\_TARGET is not defined then \\textbackslash{}'R::tidyverse\\textbackslash{}' is used.'\n\\item '    If --clipboard-command is the empty string then no copying to the clipboard is done.'\n\\item '    If --clipboard-command is \\textbackslash{}'Whatever\\textbackslash{}' then:'\n\\item '        1. It is attempted to use the environment variable CLIPBOARD\\_COPY\\_COMMAND.'\n\\item '            If CLIPBOARD\\_COPY\\_COMMAND is defined and it is the empty string then no copying to the clipboard is done.'\n\\item '        2. If the variable CLIPBOARD\\_COPY\\_COMMAND is not defined then:'\n\\item '            - \\textbackslash{}'pbcopy\\textbackslash{}' is used on macOS'\n\\item '            - \\textbackslash{}'clip.exe\\textbackslash{}' on Windows'\n\\item '            - \\textbackslash{}'xclip -selection clipboard\\textbackslash{}' on Linux.'\n\\item ''\n\\end{enumerate*}\n",
      "text/plain": " [1] \"Translates natural language commands into data transformations programming code.\"                                                                                             \n [2] \"Usage:\"                                                                                                                                                                       \n [3] \"  ToDataQueryWorkflowCode [-t|--target=<Str>] [-l|--language=<Str>] [-f|--format=<Str>] [-c|--clipboard-command=<Str>] <command> -- Main CLI signature.\"                      \n [4] \"  ToDataQueryWorkflowCode [-l|--language=<Str>] [-f|--format=<Str>] [-c|--clipboard-command=<Str>] <target> <command> -- Easier target specification.\"                        \n [5] \"  ToDataQueryWorkflowCode [-t|--target=<Str>] [-l|--language=<Str>] [-f|--format=<Str>] [-c|--clipboard-command=<Str>] [<words> ...] -- Command given as a sequence of words.\"\n [6] \"  \"                                                                                                                                                                           \n [7] \"    <command>                       A string with one or many commands (separated by ';').\"                                                                                   \n [8] \"    -t|--target=<Str>               Target (programming language with optional library spec.) [default: 'Whatever']\"                                                          \n [9] \"    -l|--language=<Str>             The natural language to translate from. [default: 'English']\"                                                                             \n[10] \"    -f|--format=<Str>               The format of the output, one of 'Whatever', 'code', 'hash', or 'raku'. [default: 'Whatever']\"                                            \n[11] \"    -c|--clipboard-command=<Str>    Clipboard command to use. [default: 'Whatever']\"                                                                                          \n[12] \"    <target>                        Programming language.\"                                                                                                                    \n[13] \"    [<words> ...]                   Words of a data query.\"                                                                                                                   \n[14] \"\"                                                                                                                                                                             \n[15] \"\"                                                                                                                                                                             \n[16] \"Details:\"                                                                                                                                                                     \n[17] \"    If --target is 'Whatever' then:\"                                                                                                                                          \n[18] \"        1. It is attempted to use the environmental variable RAKU_DSL_DATAQUERYWORKFLOWS_TARGET\"                                                                              \n[19] \"        2. If RAKU_DSL_DATAQUERYWORKFLOWS_TARGET is not defined then 'R::tidyverse' is used.\"                                                                                 \n[20] \"    If --clipboard-command is the empty string then no copying to the clipboard is done.\"                                                                                     \n[21] \"    If --clipboard-command is 'Whatever' then:\"                                                                                                                               \n[22] \"        1. It is attempted to use the environment variable CLIPBOARD_COPY_COMMAND.\"                                                                                           \n[23] \"            If CLIPBOARD_COPY_COMMAND is defined and it is the empty string then no copying to the clipboard is done.\"                                                        \n[24] \"        2. If the variable CLIPBOARD_COPY_COMMAND is not defined then:\"                                                                                                       \n[25] \"            - 'pbcopy' is used on macOS\"                                                                                                                                      \n[26] \"            - 'clip.exe' on Windows\"                                                                                                                                          \n[27] \"            - 'xclip -selection clipboard' on Linux.\"                                                                                                                         \n[28] \"\"                                                                                                                                                                             "
     },
     "metadata": {},
     "output_type": "display_data"
    }
   ],
   "source": [
    "system(\"ToDataQueryWorkflowCode --help\", intern=T)"
   ],
   "metadata": {
    "collapsed": false,
    "pycharm": {
     "name": "#%%\n"
    }
   }
  },
  {
   "cell_type": "markdown",
   "source": [
    "------\n",
    "\n",
    "## Trivial workflow\n",
    "\n",
    "In this section we demonstrate code generation and execution results for very simple (and very frequently used) sequence of data wrangling operations.\n",
    "\n",
    "### Code generation\n",
    "\n",
    "For the simple specification:"
   ],
   "metadata": {
    "collapsed": false,
    "pycharm": {
     "name": "#%% md\n"
    }
   }
  },
  {
   "cell_type": "code",
   "execution_count": 11,
   "outputs": [],
   "source": [
    "command0 = \"\n",
    "use dfTitanic;\n",
    "group by passengerClass;\n",
    "show counts;\n",
    "\""
   ],
   "metadata": {
    "collapsed": false,
    "pycharm": {
     "name": "#%%\n"
    }
   }
  },
  {
   "cell_type": "markdown",
   "source": [
    "We generate target code with `ToDataQueryWorkflowCode` using the alias `to_pandas` defined above:"
   ],
   "metadata": {
    "collapsed": false,
    "pycharm": {
     "name": "#%% md\n"
    }
   }
  },
  {
   "cell_type": "code",
   "execution_count": 12,
   "outputs": [
    {
     "data": {
      "text/html": "<style>\n.list-inline {list-style: none; margin:0; padding: 0}\n.list-inline>li {display: inline-block}\n.list-inline>li:not(:last-child)::after {content: \"\\00b7\"; padding: 0 .5ex}\n</style>\n<ol class=list-inline><li>'dfTitanic %&gt;%'</li><li>'dplyr::group_by(passengerClass) %&gt;%'</li><li>'( function(x) { print(x %&gt;% dplyr::count()); x } )'</li></ol>\n",
      "text/markdown": "1. 'dfTitanic %&gt;%'\n2. 'dplyr::group_by(passengerClass) %&gt;%'\n3. '( function(x) { print(x %&gt;% dplyr::count()); x } )'\n\n\n",
      "text/latex": "\\begin{enumerate*}\n\\item 'dfTitanic \\%>\\%'\n\\item 'dplyr::group\\_by(passengerClass) \\%>\\%'\n\\item '( function(x) \\{ print(x \\%>\\% dplyr::count()); x \\} )'\n\\end{enumerate*}\n",
      "text/plain": "[1] \"dfTitanic %>%\"                                      \"dplyr::group_by(passengerClass) %>%\"               \n[3] \"( function(x) { print(x %>% dplyr::count()); x } )\""
     },
     "metadata": {},
     "output_type": "display_data"
    }
   ],
   "source": [
    "FromDSL(command0)"
   ],
   "metadata": {
    "collapsed": false,
    "pycharm": {
     "name": "#%%\n"
    }
   }
  },
  {
   "cell_type": "markdown",
   "source": [
    "Here is the execution and result of the aliased shell command:"
   ],
   "metadata": {
    "collapsed": false,
    "pycharm": {
     "name": "#%% md\n"
    }
   }
  },
  {
   "cell_type": "code",
   "execution_count": 13,
   "outputs": [
    {
     "name": "stdout",
     "output_type": "stream",
     "text": [
      "\u001B[90m# A tibble: 3 × 2\u001B[39m\n",
      "\u001B[90m# Groups:   passengerClass [3]\u001B[39m\n",
      "  passengerClass     n\n",
      "  \u001B[3m\u001B[90m<chr>\u001B[39m\u001B[23m          \u001B[3m\u001B[90m<int>\u001B[39m\u001B[23m\n",
      "\u001B[90m1\u001B[39m 1st              323\n",
      "\u001B[90m2\u001B[39m 2nd              277\n",
      "\u001B[90m3\u001B[39m 3rd              709\n"
     ]
    },
    {
     "data": {
      "text/html": "<table class=\"dataframe\">\n<caption>A grouped_df: 1309 × 5</caption>\n<thead>\n\t<tr><th scope=col>id</th><th scope=col>passengerClass</th><th scope=col>passengerAge</th><th scope=col>passengerSex</th><th scope=col>passengerSurvival</th></tr>\n\t<tr><th scope=col>&lt;int&gt;</th><th scope=col>&lt;chr&gt;</th><th scope=col>&lt;int&gt;</th><th scope=col>&lt;chr&gt;</th><th scope=col>&lt;chr&gt;</th></tr>\n</thead>\n<tbody>\n\t<tr><td> 1</td><td>1st</td><td>30</td><td>female</td><td>survived</td></tr>\n\t<tr><td> 2</td><td>1st</td><td> 0</td><td>male  </td><td>survived</td></tr>\n\t<tr><td> 3</td><td>1st</td><td> 0</td><td>female</td><td>died    </td></tr>\n\t<tr><td> 4</td><td>1st</td><td>30</td><td>male  </td><td>died    </td></tr>\n\t<tr><td> 5</td><td>1st</td><td>20</td><td>female</td><td>died    </td></tr>\n\t<tr><td> 6</td><td>1st</td><td>50</td><td>male  </td><td>survived</td></tr>\n\t<tr><td> 7</td><td>1st</td><td>60</td><td>female</td><td>survived</td></tr>\n\t<tr><td> 8</td><td>1st</td><td>40</td><td>male  </td><td>died    </td></tr>\n\t<tr><td> 9</td><td>1st</td><td>50</td><td>female</td><td>survived</td></tr>\n\t<tr><td>10</td><td>1st</td><td>70</td><td>male  </td><td>died    </td></tr>\n\t<tr><td>11</td><td>1st</td><td>50</td><td>male  </td><td>died    </td></tr>\n\t<tr><td>12</td><td>1st</td><td>20</td><td>female</td><td>survived</td></tr>\n\t<tr><td>13</td><td>1st</td><td>20</td><td>female</td><td>survived</td></tr>\n\t<tr><td>14</td><td>1st</td><td>30</td><td>female</td><td>survived</td></tr>\n\t<tr><td>15</td><td>1st</td><td>80</td><td>male  </td><td>survived</td></tr>\n\t<tr><td>16</td><td>1st</td><td>-1</td><td>male  </td><td>died    </td></tr>\n\t<tr><td>17</td><td>1st</td><td>20</td><td>male  </td><td>died    </td></tr>\n\t<tr><td>18</td><td>1st</td><td>50</td><td>female</td><td>survived</td></tr>\n\t<tr><td>19</td><td>1st</td><td>30</td><td>female</td><td>survived</td></tr>\n\t<tr><td>20</td><td>1st</td><td>40</td><td>male  </td><td>died    </td></tr>\n\t<tr><td>21</td><td>1st</td><td>40</td><td>male  </td><td>survived</td></tr>\n\t<tr><td>22</td><td>1st</td><td>50</td><td>female</td><td>survived</td></tr>\n\t<tr><td>23</td><td>1st</td><td>30</td><td>male  </td><td>survived</td></tr>\n\t<tr><td>24</td><td>1st</td><td>40</td><td>female</td><td>survived</td></tr>\n\t<tr><td>25</td><td>1st</td><td>30</td><td>female</td><td>survived</td></tr>\n\t<tr><td>26</td><td>1st</td><td>20</td><td>male  </td><td>died    </td></tr>\n\t<tr><td>27</td><td>1st</td><td>20</td><td>male  </td><td>survived</td></tr>\n\t<tr><td>28</td><td>1st</td><td>20</td><td>female</td><td>survived</td></tr>\n\t<tr><td>29</td><td>1st</td><td>40</td><td>female</td><td>survived</td></tr>\n\t<tr><td>30</td><td>1st</td><td>30</td><td>male  </td><td>survived</td></tr>\n\t<tr><td>⋮</td><td>⋮</td><td>⋮</td><td>⋮</td><td>⋮</td></tr>\n\t<tr><td>1280</td><td>3rd</td><td>10</td><td>female</td><td>died    </td></tr>\n\t<tr><td>1281</td><td>3rd</td><td>20</td><td>male  </td><td>died    </td></tr>\n\t<tr><td>1282</td><td>3rd</td><td>20</td><td>male  </td><td>died    </td></tr>\n\t<tr><td>1283</td><td>3rd</td><td>-1</td><td>male  </td><td>died    </td></tr>\n\t<tr><td>1284</td><td>3rd</td><td>-1</td><td>male  </td><td>died    </td></tr>\n\t<tr><td>1285</td><td>3rd</td><td>-1</td><td>male  </td><td>died    </td></tr>\n\t<tr><td>1286</td><td>3rd</td><td>30</td><td>male  </td><td>died    </td></tr>\n\t<tr><td>1287</td><td>3rd</td><td>40</td><td>female</td><td>survived</td></tr>\n\t<tr><td>1288</td><td>3rd</td><td>50</td><td>male  </td><td>died    </td></tr>\n\t<tr><td>1289</td><td>3rd</td><td>20</td><td>male  </td><td>died    </td></tr>\n\t<tr><td>1290</td><td>3rd</td><td>20</td><td>male  </td><td>died    </td></tr>\n\t<tr><td>1291</td><td>3rd</td><td>50</td><td>female</td><td>survived</td></tr>\n\t<tr><td>1292</td><td>3rd</td><td>-1</td><td>male  </td><td>died    </td></tr>\n\t<tr><td>1293</td><td>3rd</td><td>-1</td><td>male  </td><td>died    </td></tr>\n\t<tr><td>1294</td><td>3rd</td><td>-1</td><td>male  </td><td>died    </td></tr>\n\t<tr><td>1295</td><td>3rd</td><td>30</td><td>male  </td><td>died    </td></tr>\n\t<tr><td>1296</td><td>3rd</td><td>20</td><td>male  </td><td>died    </td></tr>\n\t<tr><td>1297</td><td>3rd</td><td>30</td><td>male  </td><td>died    </td></tr>\n\t<tr><td>1298</td><td>3rd</td><td>-1</td><td>male  </td><td>died    </td></tr>\n\t<tr><td>1299</td><td>3rd</td><td>40</td><td>male  </td><td>died    </td></tr>\n\t<tr><td>1300</td><td>3rd</td><td>30</td><td>male  </td><td>died    </td></tr>\n\t<tr><td>1301</td><td>3rd</td><td>20</td><td>female</td><td>survived</td></tr>\n\t<tr><td>1302</td><td>3rd</td><td>50</td><td>male  </td><td>died    </td></tr>\n\t<tr><td>1303</td><td>3rd</td><td>-1</td><td>male  </td><td>died    </td></tr>\n\t<tr><td>1304</td><td>3rd</td><td>-1</td><td>male  </td><td>died    </td></tr>\n\t<tr><td>1305</td><td>3rd</td><td>10</td><td>female</td><td>died    </td></tr>\n\t<tr><td>1306</td><td>3rd</td><td>-1</td><td>female</td><td>died    </td></tr>\n\t<tr><td>1307</td><td>3rd</td><td>30</td><td>male  </td><td>died    </td></tr>\n\t<tr><td>1308</td><td>3rd</td><td>30</td><td>male  </td><td>died    </td></tr>\n\t<tr><td>1309</td><td>3rd</td><td>30</td><td>male  </td><td>died    </td></tr>\n</tbody>\n</table>\n",
      "text/markdown": "\nA grouped_df: 1309 × 5\n\n| id &lt;int&gt; | passengerClass &lt;chr&gt; | passengerAge &lt;int&gt; | passengerSex &lt;chr&gt; | passengerSurvival &lt;chr&gt; |\n|---|---|---|---|---|\n|  1 | 1st | 30 | female | survived |\n|  2 | 1st |  0 | male   | survived |\n|  3 | 1st |  0 | female | died     |\n|  4 | 1st | 30 | male   | died     |\n|  5 | 1st | 20 | female | died     |\n|  6 | 1st | 50 | male   | survived |\n|  7 | 1st | 60 | female | survived |\n|  8 | 1st | 40 | male   | died     |\n|  9 | 1st | 50 | female | survived |\n| 10 | 1st | 70 | male   | died     |\n| 11 | 1st | 50 | male   | died     |\n| 12 | 1st | 20 | female | survived |\n| 13 | 1st | 20 | female | survived |\n| 14 | 1st | 30 | female | survived |\n| 15 | 1st | 80 | male   | survived |\n| 16 | 1st | -1 | male   | died     |\n| 17 | 1st | 20 | male   | died     |\n| 18 | 1st | 50 | female | survived |\n| 19 | 1st | 30 | female | survived |\n| 20 | 1st | 40 | male   | died     |\n| 21 | 1st | 40 | male   | survived |\n| 22 | 1st | 50 | female | survived |\n| 23 | 1st | 30 | male   | survived |\n| 24 | 1st | 40 | female | survived |\n| 25 | 1st | 30 | female | survived |\n| 26 | 1st | 20 | male   | died     |\n| 27 | 1st | 20 | male   | survived |\n| 28 | 1st | 20 | female | survived |\n| 29 | 1st | 40 | female | survived |\n| 30 | 1st | 30 | male   | survived |\n| ⋮ | ⋮ | ⋮ | ⋮ | ⋮ |\n| 1280 | 3rd | 10 | female | died     |\n| 1281 | 3rd | 20 | male   | died     |\n| 1282 | 3rd | 20 | male   | died     |\n| 1283 | 3rd | -1 | male   | died     |\n| 1284 | 3rd | -1 | male   | died     |\n| 1285 | 3rd | -1 | male   | died     |\n| 1286 | 3rd | 30 | male   | died     |\n| 1287 | 3rd | 40 | female | survived |\n| 1288 | 3rd | 50 | male   | died     |\n| 1289 | 3rd | 20 | male   | died     |\n| 1290 | 3rd | 20 | male   | died     |\n| 1291 | 3rd | 50 | female | survived |\n| 1292 | 3rd | -1 | male   | died     |\n| 1293 | 3rd | -1 | male   | died     |\n| 1294 | 3rd | -1 | male   | died     |\n| 1295 | 3rd | 30 | male   | died     |\n| 1296 | 3rd | 20 | male   | died     |\n| 1297 | 3rd | 30 | male   | died     |\n| 1298 | 3rd | -1 | male   | died     |\n| 1299 | 3rd | 40 | male   | died     |\n| 1300 | 3rd | 30 | male   | died     |\n| 1301 | 3rd | 20 | female | survived |\n| 1302 | 3rd | 50 | male   | died     |\n| 1303 | 3rd | -1 | male   | died     |\n| 1304 | 3rd | -1 | male   | died     |\n| 1305 | 3rd | 10 | female | died     |\n| 1306 | 3rd | -1 | female | died     |\n| 1307 | 3rd | 30 | male   | died     |\n| 1308 | 3rd | 30 | male   | died     |\n| 1309 | 3rd | 30 | male   | died     |\n\n",
      "text/latex": "A grouped\\_df: 1309 × 5\n\\begin{tabular}{lllll}\n id & passengerClass & passengerAge & passengerSex & passengerSurvival\\\\\n <int> & <chr> & <int> & <chr> & <chr>\\\\\n\\hline\n\t  1 & 1st & 30 & female & survived\\\\\n\t  2 & 1st &  0 & male   & survived\\\\\n\t  3 & 1st &  0 & female & died    \\\\\n\t  4 & 1st & 30 & male   & died    \\\\\n\t  5 & 1st & 20 & female & died    \\\\\n\t  6 & 1st & 50 & male   & survived\\\\\n\t  7 & 1st & 60 & female & survived\\\\\n\t  8 & 1st & 40 & male   & died    \\\\\n\t  9 & 1st & 50 & female & survived\\\\\n\t 10 & 1st & 70 & male   & died    \\\\\n\t 11 & 1st & 50 & male   & died    \\\\\n\t 12 & 1st & 20 & female & survived\\\\\n\t 13 & 1st & 20 & female & survived\\\\\n\t 14 & 1st & 30 & female & survived\\\\\n\t 15 & 1st & 80 & male   & survived\\\\\n\t 16 & 1st & -1 & male   & died    \\\\\n\t 17 & 1st & 20 & male   & died    \\\\\n\t 18 & 1st & 50 & female & survived\\\\\n\t 19 & 1st & 30 & female & survived\\\\\n\t 20 & 1st & 40 & male   & died    \\\\\n\t 21 & 1st & 40 & male   & survived\\\\\n\t 22 & 1st & 50 & female & survived\\\\\n\t 23 & 1st & 30 & male   & survived\\\\\n\t 24 & 1st & 40 & female & survived\\\\\n\t 25 & 1st & 30 & female & survived\\\\\n\t 26 & 1st & 20 & male   & died    \\\\\n\t 27 & 1st & 20 & male   & survived\\\\\n\t 28 & 1st & 20 & female & survived\\\\\n\t 29 & 1st & 40 & female & survived\\\\\n\t 30 & 1st & 30 & male   & survived\\\\\n\t ⋮ & ⋮ & ⋮ & ⋮ & ⋮\\\\\n\t 1280 & 3rd & 10 & female & died    \\\\\n\t 1281 & 3rd & 20 & male   & died    \\\\\n\t 1282 & 3rd & 20 & male   & died    \\\\\n\t 1283 & 3rd & -1 & male   & died    \\\\\n\t 1284 & 3rd & -1 & male   & died    \\\\\n\t 1285 & 3rd & -1 & male   & died    \\\\\n\t 1286 & 3rd & 30 & male   & died    \\\\\n\t 1287 & 3rd & 40 & female & survived\\\\\n\t 1288 & 3rd & 50 & male   & died    \\\\\n\t 1289 & 3rd & 20 & male   & died    \\\\\n\t 1290 & 3rd & 20 & male   & died    \\\\\n\t 1291 & 3rd & 50 & female & survived\\\\\n\t 1292 & 3rd & -1 & male   & died    \\\\\n\t 1293 & 3rd & -1 & male   & died    \\\\\n\t 1294 & 3rd & -1 & male   & died    \\\\\n\t 1295 & 3rd & 30 & male   & died    \\\\\n\t 1296 & 3rd & 20 & male   & died    \\\\\n\t 1297 & 3rd & 30 & male   & died    \\\\\n\t 1298 & 3rd & -1 & male   & died    \\\\\n\t 1299 & 3rd & 40 & male   & died    \\\\\n\t 1300 & 3rd & 30 & male   & died    \\\\\n\t 1301 & 3rd & 20 & female & survived\\\\\n\t 1302 & 3rd & 50 & male   & died    \\\\\n\t 1303 & 3rd & -1 & male   & died    \\\\\n\t 1304 & 3rd & -1 & male   & died    \\\\\n\t 1305 & 3rd & 10 & female & died    \\\\\n\t 1306 & 3rd & -1 & female & died    \\\\\n\t 1307 & 3rd & 30 & male   & died    \\\\\n\t 1308 & 3rd & 30 & male   & died    \\\\\n\t 1309 & 3rd & 30 & male   & died    \\\\\n\\end{tabular}\n",
      "text/plain": "     id   passengerClass passengerAge passengerSex passengerSurvival\n1     1   1st            30           female       survived         \n2     2   1st             0           male         survived         \n3     3   1st             0           female       died             \n4     4   1st            30           male         died             \n5     5   1st            20           female       died             \n6     6   1st            50           male         survived         \n7     7   1st            60           female       survived         \n8     8   1st            40           male         died             \n9     9   1st            50           female       survived         \n10   10   1st            70           male         died             \n11   11   1st            50           male         died             \n12   12   1st            20           female       survived         \n13   13   1st            20           female       survived         \n14   14   1st            30           female       survived         \n15   15   1st            80           male         survived         \n16   16   1st            -1           male         died             \n17   17   1st            20           male         died             \n18   18   1st            50           female       survived         \n19   19   1st            30           female       survived         \n20   20   1st            40           male         died             \n21   21   1st            40           male         survived         \n22   22   1st            50           female       survived         \n23   23   1st            30           male         survived         \n24   24   1st            40           female       survived         \n25   25   1st            30           female       survived         \n26   26   1st            20           male         died             \n27   27   1st            20           male         survived         \n28   28   1st            20           female       survived         \n29   29   1st            40           female       survived         \n30   30   1st            30           male         survived         \n⋮    ⋮    ⋮              ⋮            ⋮            ⋮                \n1280 1280 3rd            10           female       died             \n1281 1281 3rd            20           male         died             \n1282 1282 3rd            20           male         died             \n1283 1283 3rd            -1           male         died             \n1284 1284 3rd            -1           male         died             \n1285 1285 3rd            -1           male         died             \n1286 1286 3rd            30           male         died             \n1287 1287 3rd            40           female       survived         \n1288 1288 3rd            50           male         died             \n1289 1289 3rd            20           male         died             \n1290 1290 3rd            20           male         died             \n1291 1291 3rd            50           female       survived         \n1292 1292 3rd            -1           male         died             \n1293 1293 3rd            -1           male         died             \n1294 1294 3rd            -1           male         died             \n1295 1295 3rd            30           male         died             \n1296 1296 3rd            20           male         died             \n1297 1297 3rd            30           male         died             \n1298 1298 3rd            -1           male         died             \n1299 1299 3rd            40           male         died             \n1300 1300 3rd            30           male         died             \n1301 1301 3rd            20           female       survived         \n1302 1302 3rd            50           male         died             \n1303 1303 3rd            -1           male         died             \n1304 1304 3rd            -1           male         died             \n1305 1305 3rd            10           female       died             \n1306 1306 3rd            -1           female       died             \n1307 1307 3rd            30           male         died             \n1308 1308 3rd            30           male         died             \n1309 1309 3rd            30           male         died             "
     },
     "metadata": {},
     "output_type": "display_data"
    }
   ],
   "source": [
    "dfTitanic %>%\n",
    "dplyr::group_by(passengerClass) %>%\n",
    "( function(x) { print(x %>% dplyr::count()); x } )"
   ],
   "metadata": {
    "collapsed": false,
    "pycharm": {
     "name": "#%%\n"
    }
   }
  },
  {
   "cell_type": "markdown",
   "source": [
    "**Remark:** Executing the commands above puts the generated code into the clipboard of the Operating System (OS)."
   ],
   "metadata": {
    "collapsed": false,
    "pycharm": {
     "name": "#%% md\n"
    }
   }
  },
  {
   "cell_type": "markdown",
   "source": [
    "### Execution steps (R)\n",
    "\n",
    "Get the dataset into a \"pipeline object\":"
   ],
   "metadata": {
    "collapsed": false,
    "pycharm": {
     "name": "#%% md\n"
    }
   }
  },
  {
   "cell_type": "code",
   "execution_count": 14,
   "outputs": [
    {
     "name": "stdout",
     "output_type": "stream",
     "text": [
      "── Data Summary ────────────────────────\n",
      "                           Values\n",
      "Name                       obj   \n",
      "Number of rows             1309  \n",
      "Number of columns          5     \n",
      "_______________________          \n",
      "Column type frequency:           \n",
      "  character                3     \n",
      "  numeric                  2     \n",
      "________________________         \n",
      "Group variables            None  \n",
      "\n",
      "── Variable type: character ────────────────────────────────────────────────────────────────────────────────────────────────────────────────────────────────────\n",
      "  skim_variable     n_missing complete_rate min max empty n_unique whitespace\n",
      "\u001B[90m1\u001B[39m passengerClass            0             1   3   3     0        3          0\n",
      "\u001B[90m2\u001B[39m passengerSex              0             1   4   6     0        2          0\n",
      "\u001B[90m3\u001B[39m passengerSurvival         0             1   4   8     0        2          0\n",
      "\n",
      "── Variable type: numeric ──────────────────────────────────────────────────────────────────────────────────────────────────────────────────────────────────────\n",
      "  skim_variable n_missing complete_rate  mean    sd p0 p25 p50 p75 p100 hist \n",
      "\u001B[90m1\u001B[39m id                    0             1 655   378.   1 328 655 982 \u001B[4m1\u001B[24m309 ▇▇▇▇▇\n",
      "\u001B[90m2\u001B[39m passengerAge          0             1  23.6  18.1 -\u001B[31m1\u001B[39m  10  20  40   80 ▅▇▂▂▁\n"
     ]
    },
    {
     "name": "stderr",
     "output_type": "stream",
     "text": [
      "Warning message in is.null(text_repr) || nchar(text_repr) == 0L:\n",
      "“'length(x) = 2 > 1' in coercion to 'logical(1)'”\n"
     ]
    },
    {
     "data": {
      "text/html": "<table class=\"dataframe\">\n<caption>A skim_df: 5 × 17</caption>\n<thead>\n\t<tr><th></th><th scope=col>skim_type</th><th scope=col>skim_variable</th><th scope=col>n_missing</th><th scope=col>complete_rate</th><th scope=col>character.min</th><th scope=col>character.max</th><th scope=col>character.empty</th><th scope=col>character.n_unique</th><th scope=col>character.whitespace</th><th scope=col>numeric.mean</th><th scope=col>numeric.sd</th><th scope=col>numeric.p0</th><th scope=col>numeric.p25</th><th scope=col>numeric.p50</th><th scope=col>numeric.p75</th><th scope=col>numeric.p100</th><th scope=col>numeric.hist</th></tr>\n\t<tr><th></th><th scope=col>&lt;chr&gt;</th><th scope=col>&lt;chr&gt;</th><th scope=col>&lt;int&gt;</th><th scope=col>&lt;dbl&gt;</th><th scope=col>&lt;int&gt;</th><th scope=col>&lt;int&gt;</th><th scope=col>&lt;int&gt;</th><th scope=col>&lt;int&gt;</th><th scope=col>&lt;int&gt;</th><th scope=col>&lt;dbl&gt;</th><th scope=col>&lt;dbl&gt;</th><th scope=col>&lt;dbl&gt;</th><th scope=col>&lt;dbl&gt;</th><th scope=col>&lt;dbl&gt;</th><th scope=col>&lt;dbl&gt;</th><th scope=col>&lt;dbl&gt;</th><th scope=col>&lt;chr&gt;</th></tr>\n</thead>\n<tbody>\n\t<tr><th scope=row>1</th><td>character</td><td>passengerClass   </td><td>0</td><td>1</td><td> 3</td><td> 3</td><td> 0</td><td> 3</td><td> 0</td><td>       NA</td><td>       NA</td><td>NA</td><td> NA</td><td> NA</td><td> NA</td><td>  NA</td><td>NA   </td></tr>\n\t<tr><th scope=row>2</th><td>character</td><td>passengerSex     </td><td>0</td><td>1</td><td> 4</td><td> 6</td><td> 0</td><td> 2</td><td> 0</td><td>       NA</td><td>       NA</td><td>NA</td><td> NA</td><td> NA</td><td> NA</td><td>  NA</td><td>NA   </td></tr>\n\t<tr><th scope=row>3</th><td>character</td><td>passengerSurvival</td><td>0</td><td>1</td><td> 4</td><td> 8</td><td> 0</td><td> 2</td><td> 0</td><td>       NA</td><td>       NA</td><td>NA</td><td> NA</td><td> NA</td><td> NA</td><td>  NA</td><td>NA   </td></tr>\n\t<tr><th scope=row>4</th><td>numeric  </td><td>id               </td><td>0</td><td>1</td><td>NA</td><td>NA</td><td>NA</td><td>NA</td><td>NA</td><td>655.00000</td><td>378.02006</td><td> 1</td><td>328</td><td>655</td><td>982</td><td>1309</td><td>▇▇▇▇▇</td></tr>\n\t<tr><th scope=row>5</th><td>numeric  </td><td>passengerAge     </td><td>0</td><td>1</td><td>NA</td><td>NA</td><td>NA</td><td>NA</td><td>NA</td><td> 23.55004</td><td> 18.05924</td><td>-1</td><td> 10</td><td> 20</td><td> 40</td><td>  80</td><td>▅▇▂▂▁</td></tr>\n</tbody>\n</table>\n",
      "text/markdown": "\nA skim_df: 5 × 17\n\n| <!--/--> | skim_type &lt;chr&gt; | skim_variable &lt;chr&gt; | n_missing &lt;int&gt; | complete_rate &lt;dbl&gt; | character.min &lt;int&gt; | character.max &lt;int&gt; | character.empty &lt;int&gt; | character.n_unique &lt;int&gt; | character.whitespace &lt;int&gt; | numeric.mean &lt;dbl&gt; | numeric.sd &lt;dbl&gt; | numeric.p0 &lt;dbl&gt; | numeric.p25 &lt;dbl&gt; | numeric.p50 &lt;dbl&gt; | numeric.p75 &lt;dbl&gt; | numeric.p100 &lt;dbl&gt; | numeric.hist &lt;chr&gt; |\n|---|---|---|---|---|---|---|---|---|---|---|---|---|---|---|---|---|---|\n| 1 | character | passengerClass    | 0 | 1 |  3 |  3 |  0 |  3 |  0 |        NA |        NA | NA |  NA |  NA |  NA |   NA | NA    |\n| 2 | character | passengerSex      | 0 | 1 |  4 |  6 |  0 |  2 |  0 |        NA |        NA | NA |  NA |  NA |  NA |   NA | NA    |\n| 3 | character | passengerSurvival | 0 | 1 |  4 |  8 |  0 |  2 |  0 |        NA |        NA | NA |  NA |  NA |  NA |   NA | NA    |\n| 4 | numeric   | id                | 0 | 1 | NA | NA | NA | NA | NA | 655.00000 | 378.02006 |  1 | 328 | 655 | 982 | 1309 | ▇▇▇▇▇ |\n| 5 | numeric   | passengerAge      | 0 | 1 | NA | NA | NA | NA | NA |  23.55004 |  18.05924 | -1 |  10 |  20 |  40 |   80 | ▅▇▂▂▁ |\n\n",
      "text/latex": "A skim\\_df: 5 × 17\n\\begin{tabular}{r|lllllllllllllllll}\n  & skim\\_type & skim\\_variable & n\\_missing & complete\\_rate & character.min & character.max & character.empty & character.n\\_unique & character.whitespace & numeric.mean & numeric.sd & numeric.p0 & numeric.p25 & numeric.p50 & numeric.p75 & numeric.p100 & numeric.hist\\\\\n  & <chr> & <chr> & <int> & <dbl> & <int> & <int> & <int> & <int> & <int> & <dbl> & <dbl> & <dbl> & <dbl> & <dbl> & <dbl> & <dbl> & <chr>\\\\\n\\hline\n\t1 & character & passengerClass    & 0 & 1 &  3 &  3 &  0 &  3 &  0 &        NA &        NA & NA &  NA &  NA &  NA &   NA & NA   \\\\\n\t2 & character & passengerSex      & 0 & 1 &  4 &  6 &  0 &  2 &  0 &        NA &        NA & NA &  NA &  NA &  NA &   NA & NA   \\\\\n\t3 & character & passengerSurvival & 0 & 1 &  4 &  8 &  0 &  2 &  0 &        NA &        NA & NA &  NA &  NA &  NA &   NA & NA   \\\\\n\t4 & numeric   & id                & 0 & 1 & NA & NA & NA & NA & NA & 655.00000 & 378.02006 &  1 & 328 & 655 & 982 & 1309 & ▇▇▇▇▇\\\\\n\t5 & numeric   & passengerAge      & 0 & 1 & NA & NA & NA & NA & NA &  23.55004 &  18.05924 & -1 &  10 &  20 &  40 &   80 & ▅▇▂▂▁\\\\\n\\end{tabular}\n",
      "text/plain": {
       "character": [
        {
         "skim_variable": "passengerClass",
         "n_missing": 0,
         "complete_rate": 1,
         "min": 3,
         "max": 3,
         "empty": 0,
         "n_unique": 3,
         "whitespace": 0
        },
        {
         "skim_variable": "passengerSex",
         "n_missing": 0,
         "complete_rate": 1,
         "min": 4,
         "max": 6,
         "empty": 0,
         "n_unique": 2,
         "whitespace": 0
        },
        {
         "skim_variable": "passengerSurvival",
         "n_missing": 0,
         "complete_rate": 1,
         "min": 4,
         "max": 8,
         "empty": 0,
         "n_unique": 2,
         "whitespace": 0
        }
       ],
       "numeric": [
        {
         "skim_variable": "id",
         "n_missing": 0,
         "complete_rate": 1,
         "mean": 655,
         "sd": 378.0201,
         "p0": 1,
         "p25": 328,
         "p50": 655,
         "p75": 982,
         "p100": 1309,
         "hist": "▇▇▇▇▇"
        },
        {
         "skim_variable": "passengerAge",
         "n_missing": 0,
         "complete_rate": 1,
         "mean": 23.55,
         "sd": 18.0592,
         "p0": -1,
         "p25": 10,
         "p50": 20,
         "p75": 40,
         "p100": 80,
         "hist": "▅▇▂▂▁"
        }
       ]
      }
     },
     "metadata": {},
     "output_type": "display_data"
    }
   ],
   "source": [
    "obj  <- dfTitanic\n",
    "skimr::skim(obj)"
   ],
   "metadata": {
    "collapsed": false,
    "pycharm": {
     "name": "#%%\n"
    }
   }
  },
  {
   "cell_type": "markdown",
   "source": [
    "Group by column:"
   ],
   "metadata": {
    "collapsed": false,
    "pycharm": {
     "name": "#%% md\n"
    }
   }
  },
  {
   "cell_type": "code",
   "execution_count": 15,
   "outputs": [],
   "source": [
    "obj <- \n",
    "    obj %>% \n",
    "    dplyr::group_by(passengerClass)"
   ],
   "metadata": {
    "collapsed": false,
    "pycharm": {
     "name": "#%%\n"
    }
   }
  },
  {
   "cell_type": "markdown",
   "source": [
    "Print the group sizes of the \"pipeline object\":"
   ],
   "metadata": {
    "collapsed": false,
    "pycharm": {
     "name": "#%% md\n"
    }
   }
  },
  {
   "cell_type": "code",
   "execution_count": 16,
   "outputs": [
    {
     "data": {
      "text/html": "<table class=\"dataframe\">\n<caption>A tibble: 3 × 2</caption>\n<thead>\n\t<tr><th scope=col>passengerClass</th><th scope=col>n()</th></tr>\n\t<tr><th scope=col>&lt;chr&gt;</th><th scope=col>&lt;int&gt;</th></tr>\n</thead>\n<tbody>\n\t<tr><td>1st</td><td>323</td></tr>\n\t<tr><td>2nd</td><td>277</td></tr>\n\t<tr><td>3rd</td><td>709</td></tr>\n</tbody>\n</table>\n",
      "text/markdown": "\nA tibble: 3 × 2\n\n| passengerClass &lt;chr&gt; | n() &lt;int&gt; |\n|---|---|\n| 1st | 323 |\n| 2nd | 277 |\n| 3rd | 709 |\n\n",
      "text/latex": "A tibble: 3 × 2\n\\begin{tabular}{ll}\n passengerClass & n()\\\\\n <chr> & <int>\\\\\n\\hline\n\t 1st & 323\\\\\n\t 2nd & 277\\\\\n\t 3rd & 709\\\\\n\\end{tabular}\n",
      "text/plain": "  passengerClass n()\n1 1st            323\n2 2nd            277\n3 3rd            709"
     },
     "metadata": {},
     "output_type": "display_data"
    }
   ],
   "source": [
    "obj %>% summarise(n())"
   ],
   "metadata": {
    "collapsed": false,
    "pycharm": {
     "name": "#%%\n"
    }
   }
  },
  {
   "cell_type": "markdown",
   "source": [
    "------\n",
    "\n",
    "## Cross tabulation\n",
    "\n",
    "[Cross tabulation](https://en.wikipedia.org/wiki/Contingency_table) is a fundamental data wrangling operation. For the related transformations to long- and wide-format see the section \"Complicated and neat workflow\".\n",
    "\n",
    "### Code generation\n",
    "\n",
    "Here we define a command that filters the Titanic dataset and then makes cross-tabulates:"
   ],
   "metadata": {
    "collapsed": false,
    "pycharm": {
     "name": "#%% md\n"
    }
   }
  },
  {
   "cell_type": "code",
   "execution_count": 17,
   "outputs": [],
   "source": [
    "command1 = '\n",
    "use dfTitanic;\n",
    "filter with passengerSex is \"male\" and passengerSurvival equals \"died\" or passengerSurvival is \"survived\" ;\n",
    "cross tabulate passengerClass, passengerSurvival over passengerAge;\n",
    "take pipeline value\n",
    "'"
   ],
   "metadata": {
    "collapsed": false,
    "pycharm": {
     "name": "#%%\n"
    }
   }
  },
  {
   "cell_type": "code",
   "execution_count": 18,
   "outputs": [
    {
     "data": {
      "text/html": "<style>\n.list-inline {list-style: none; margin:0; padding: 0}\n.list-inline>li {display: inline-block}\n.list-inline>li:not(:last-child)::after {content: \"\\00b7\"; padding: 0 .5ex}\n</style>\n<ol class=list-inline><li>'dfTitanic %&gt;%'</li><li>'dplyr::filter(passengerSex == \"male\" &amp; passengerSurvival == \"died\" | passengerSurvival == \"survived\") %&gt;%'</li><li>'(function(x) as.data.frame(xtabs( formula = passengerAge ~ passengerClass + passengerSurvival, data = x ), stringsAsFactors=FALSE )) %&gt;%'</li><li>'as.data.frame()'</li></ol>\n",
      "text/markdown": "1. 'dfTitanic %&gt;%'\n2. 'dplyr::filter(passengerSex == \"male\" &amp; passengerSurvival == \"died\" | passengerSurvival == \"survived\") %&gt;%'\n3. '(function(x) as.data.frame(xtabs( formula = passengerAge ~ passengerClass + passengerSurvival, data = x ), stringsAsFactors=FALSE )) %&gt;%'\n4. 'as.data.frame()'\n\n\n",
      "text/latex": "\\begin{enumerate*}\n\\item 'dfTitanic \\%>\\%'\n\\item 'dplyr::filter(passengerSex == \"male\" \\& passengerSurvival == \"died\" \\textbar{} passengerSurvival == \"survived\") \\%>\\%'\n\\item '(function(x) as.data.frame(xtabs( formula = passengerAge \\textasciitilde{} passengerClass + passengerSurvival, data = x ), stringsAsFactors=FALSE )) \\%>\\%'\n\\item 'as.data.frame()'\n\\end{enumerate*}\n",
      "text/plain": "[1] \"dfTitanic %>%\"                                                                                                                           \n[2] \"dplyr::filter(passengerSex == \\\"male\\\" & passengerSurvival == \\\"died\\\" | passengerSurvival == \\\"survived\\\") %>%\"                         \n[3] \"(function(x) as.data.frame(xtabs( formula = passengerAge ~ passengerClass + passengerSurvival, data = x ), stringsAsFactors=FALSE )) %>%\"\n[4] \"as.data.frame()\"                                                                                                                         "
     },
     "metadata": {},
     "output_type": "display_data"
    }
   ],
   "source": [
    "FromDSL(command1)"
   ],
   "metadata": {
    "collapsed": false,
    "pycharm": {
     "name": "#%%\n"
    }
   }
  },
  {
   "cell_type": "markdown",
   "source": [
    "#### Execution"
   ],
   "metadata": {
    "collapsed": false,
    "pycharm": {
     "name": "#%% md\n"
    }
   }
  },
  {
   "cell_type": "code",
   "execution_count": 19,
   "outputs": [
    {
     "data": {
      "text/html": "<table class=\"dataframe\">\n<caption>A data.frame: 6 × 3</caption>\n<thead>\n\t<tr><th scope=col>passengerClass</th><th scope=col>passengerSurvival</th><th scope=col>Freq</th></tr>\n\t<tr><th scope=col>&lt;chr&gt;</th><th scope=col>&lt;chr&gt;</th><th scope=col>&lt;int&gt;</th></tr>\n</thead>\n<tbody>\n\t<tr><td>1st</td><td>died    </td><td>4290</td></tr>\n\t<tr><td>2nd</td><td>died    </td><td>4419</td></tr>\n\t<tr><td>3rd</td><td>died    </td><td>7562</td></tr>\n\t<tr><td>1st</td><td>survived</td><td>6671</td></tr>\n\t<tr><td>2nd</td><td>survived</td><td>2776</td></tr>\n\t<tr><td>3rd</td><td>survived</td><td>2720</td></tr>\n</tbody>\n</table>\n",
      "text/markdown": "\nA data.frame: 6 × 3\n\n| passengerClass &lt;chr&gt; | passengerSurvival &lt;chr&gt; | Freq &lt;int&gt; |\n|---|---|---|\n| 1st | died     | 4290 |\n| 2nd | died     | 4419 |\n| 3rd | died     | 7562 |\n| 1st | survived | 6671 |\n| 2nd | survived | 2776 |\n| 3rd | survived | 2720 |\n\n",
      "text/latex": "A data.frame: 6 × 3\n\\begin{tabular}{lll}\n passengerClass & passengerSurvival & Freq\\\\\n <chr> & <chr> & <int>\\\\\n\\hline\n\t 1st & died     & 4290\\\\\n\t 2nd & died     & 4419\\\\\n\t 3rd & died     & 7562\\\\\n\t 1st & survived & 6671\\\\\n\t 2nd & survived & 2776\\\\\n\t 3rd & survived & 2720\\\\\n\\end{tabular}\n",
      "text/plain": "  passengerClass passengerSurvival Freq\n1 1st            died              4290\n2 2nd            died              4419\n3 3rd            died              7562\n4 1st            survived          6671\n5 2nd            survived          2776\n6 3rd            survived          2720"
     },
     "metadata": {},
     "output_type": "display_data"
    }
   ],
   "source": [
    "dfTitanic %>%\n",
    "dplyr::filter(passengerSex == \"male\" & passengerSurvival == \"died\" | passengerSurvival == \"survived\") %>%\n",
    "(function(x) as.data.frame(xtabs( formula = passengerAge ~ passengerClass + passengerSurvival, data = x ), stringsAsFactors=FALSE )) %>%\n",
    "as.data.frame()"
   ],
   "metadata": {
    "collapsed": false,
    "pycharm": {
     "name": "#%%\n"
    }
   }
  },
  {
   "cell_type": "markdown",
   "source": [
    "### Execution steps (tidyverse)\n",
    "\n",
    "Copy the Titanic data into a \"pipeline object\" and show its dimensions and a sample of it:\n"
   ],
   "metadata": {
    "collapsed": false,
    "pycharm": {
     "name": "#%% md\n"
    }
   }
  },
  {
   "cell_type": "code",
   "execution_count": 20,
   "outputs": [
    {
     "data": {
      "text/html": "<style>\n.list-inline {list-style: none; margin:0; padding: 0}\n.list-inline>li {display: inline-block}\n.list-inline>li:not(:last-child)::after {content: \"\\00b7\"; padding: 0 .5ex}\n</style>\n<ol class=list-inline><li>1309</li><li>5</li></ol>\n",
      "text/markdown": "1. 1309\n2. 5\n\n\n",
      "text/latex": "\\begin{enumerate*}\n\\item 1309\n\\item 5\n\\end{enumerate*}\n",
      "text/plain": "[1] 1309    5"
     },
     "metadata": {},
     "output_type": "display_data"
    },
    {
     "data": {
      "text/html": "<table class=\"dataframe\">\n<caption>A data.frame: 6 × 5</caption>\n<thead>\n\t<tr><th></th><th scope=col>id</th><th scope=col>passengerClass</th><th scope=col>passengerAge</th><th scope=col>passengerSex</th><th scope=col>passengerSurvival</th></tr>\n\t<tr><th></th><th scope=col>&lt;int&gt;</th><th scope=col>&lt;chr&gt;</th><th scope=col>&lt;int&gt;</th><th scope=col>&lt;chr&gt;</th><th scope=col>&lt;chr&gt;</th></tr>\n</thead>\n<tbody>\n\t<tr><th scope=row>1</th><td>1</td><td>1st</td><td>30</td><td>female</td><td>survived</td></tr>\n\t<tr><th scope=row>2</th><td>2</td><td>1st</td><td> 0</td><td>male  </td><td>survived</td></tr>\n\t<tr><th scope=row>3</th><td>3</td><td>1st</td><td> 0</td><td>female</td><td>died    </td></tr>\n\t<tr><th scope=row>4</th><td>4</td><td>1st</td><td>30</td><td>male  </td><td>died    </td></tr>\n\t<tr><th scope=row>5</th><td>5</td><td>1st</td><td>20</td><td>female</td><td>died    </td></tr>\n\t<tr><th scope=row>6</th><td>6</td><td>1st</td><td>50</td><td>male  </td><td>survived</td></tr>\n</tbody>\n</table>\n",
      "text/markdown": "\nA data.frame: 6 × 5\n\n| <!--/--> | id &lt;int&gt; | passengerClass &lt;chr&gt; | passengerAge &lt;int&gt; | passengerSex &lt;chr&gt; | passengerSurvival &lt;chr&gt; |\n|---|---|---|---|---|---|\n| 1 | 1 | 1st | 30 | female | survived |\n| 2 | 2 | 1st |  0 | male   | survived |\n| 3 | 3 | 1st |  0 | female | died     |\n| 4 | 4 | 1st | 30 | male   | died     |\n| 5 | 5 | 1st | 20 | female | died     |\n| 6 | 6 | 1st | 50 | male   | survived |\n\n",
      "text/latex": "A data.frame: 6 × 5\n\\begin{tabular}{r|lllll}\n  & id & passengerClass & passengerAge & passengerSex & passengerSurvival\\\\\n  & <int> & <chr> & <int> & <chr> & <chr>\\\\\n\\hline\n\t1 & 1 & 1st & 30 & female & survived\\\\\n\t2 & 2 & 1st &  0 & male   & survived\\\\\n\t3 & 3 & 1st &  0 & female & died    \\\\\n\t4 & 4 & 1st & 30 & male   & died    \\\\\n\t5 & 5 & 1st & 20 & female & died    \\\\\n\t6 & 6 & 1st & 50 & male   & survived\\\\\n\\end{tabular}\n",
      "text/plain": "  id passengerClass passengerAge passengerSex passengerSurvival\n1 1  1st            30           female       survived         \n2 2  1st             0           male         survived         \n3 3  1st             0           female       died             \n4 4  1st            30           male         died             \n5 5  1st            20           female       died             \n6 6  1st            50           male         survived         "
     },
     "metadata": {},
     "output_type": "display_data"
    }
   ],
   "source": [
    "obj <- dfTitanic\n",
    "dim(obj)\n",
    "head(obj)"
   ],
   "metadata": {
    "collapsed": false,
    "pycharm": {
     "name": "#%%\n"
    }
   }
  },
  {
   "cell_type": "markdown",
   "source": [
    "Filter the data and show the number of rows in the result set:"
   ],
   "metadata": {
    "collapsed": false,
    "pycharm": {
     "name": "#%% md\n"
    }
   }
  },
  {
   "cell_type": "code",
   "execution_count": 21,
   "outputs": [
    {
     "data": {
      "text/html": "<style>\n.list-inline {list-style: none; margin:0; padding: 0}\n.list-inline>li {display: inline-block}\n.list-inline>li:not(:last-child)::after {content: \"\\00b7\"; padding: 0 .5ex}\n</style>\n<ol class=list-inline><li>1182</li><li>5</li></ol>\n",
      "text/markdown": "1. 1182\n2. 5\n\n\n",
      "text/latex": "\\begin{enumerate*}\n\\item 1182\n\\item 5\n\\end{enumerate*}\n",
      "text/plain": "[1] 1182    5"
     },
     "metadata": {},
     "output_type": "display_data"
    }
   ],
   "source": [
    "obj  <- \n",
    "    obj %>% \n",
    "    dplyr::filter(passengerSex == \"male\" & passengerSurvival == \"died\" | passengerSurvival == \"survived\")\n",
    "\n",
    "dim(obj)"
   ],
   "metadata": {
    "collapsed": false,
    "pycharm": {
     "name": "#%%\n"
    }
   }
  },
  {
   "cell_type": "markdown",
   "source": [
    "Cross tabulate and show the result:"
   ],
   "metadata": {
    "collapsed": false,
    "pycharm": {
     "name": "#%% md\n"
    }
   }
  },
  {
   "cell_type": "code",
   "execution_count": 22,
   "outputs": [
    {
     "data": {
      "text/html": "<table class=\"dataframe\">\n<caption>A data.frame: 6 × 3</caption>\n<thead>\n\t<tr><th scope=col>passengerClass</th><th scope=col>passengerSurvival</th><th scope=col>Freq</th></tr>\n\t<tr><th scope=col>&lt;chr&gt;</th><th scope=col>&lt;chr&gt;</th><th scope=col>&lt;int&gt;</th></tr>\n</thead>\n<tbody>\n\t<tr><td>1st</td><td>died    </td><td>4290</td></tr>\n\t<tr><td>2nd</td><td>died    </td><td>4419</td></tr>\n\t<tr><td>3rd</td><td>died    </td><td>7562</td></tr>\n\t<tr><td>1st</td><td>survived</td><td>6671</td></tr>\n\t<tr><td>2nd</td><td>survived</td><td>2776</td></tr>\n\t<tr><td>3rd</td><td>survived</td><td>2720</td></tr>\n</tbody>\n</table>\n",
      "text/markdown": "\nA data.frame: 6 × 3\n\n| passengerClass &lt;chr&gt; | passengerSurvival &lt;chr&gt; | Freq &lt;int&gt; |\n|---|---|---|\n| 1st | died     | 4290 |\n| 2nd | died     | 4419 |\n| 3rd | died     | 7562 |\n| 1st | survived | 6671 |\n| 2nd | survived | 2776 |\n| 3rd | survived | 2720 |\n\n",
      "text/latex": "A data.frame: 6 × 3\n\\begin{tabular}{lll}\n passengerClass & passengerSurvival & Freq\\\\\n <chr> & <chr> & <int>\\\\\n\\hline\n\t 1st & died     & 4290\\\\\n\t 2nd & died     & 4419\\\\\n\t 3rd & died     & 7562\\\\\n\t 1st & survived & 6671\\\\\n\t 2nd & survived & 2776\\\\\n\t 3rd & survived & 2720\\\\\n\\end{tabular}\n",
      "text/plain": "  passengerClass passengerSurvival Freq\n1 1st            died              4290\n2 2nd            died              4419\n3 3rd            died              7562\n4 1st            survived          6671\n5 2nd            survived          2776\n6 3rd            survived          2720"
     },
     "metadata": {},
     "output_type": "display_data"
    }
   ],
   "source": [
    "obj %>% (function(x) as.data.frame(xtabs( formula = passengerAge ~ passengerClass + passengerSurvival, data = x ), stringsAsFactors=FALSE ))"
   ],
   "metadata": {
    "collapsed": false,
    "pycharm": {
     "name": "#%%\n"
    }
   }
  },
  {
   "cell_type": "markdown",
   "source": [
    "------\n",
    "\n",
    "## Mutation with formulas\n",
    "\n",
    "In this section we discuss formula utilization to mutate data. We show how to use column references.\n",
    "\n",
    "Special care has to be taken when the specifying data mutations with formulas that reference to columns in the dataset.\n",
    "\n",
    "The code corresponding to the `transform ...` line in this example produces\n",
    "*expected* result for the target \"R::tidyverse\":"
   ],
   "metadata": {
    "collapsed": false,
    "pycharm": {
     "name": "#%% md\n"
    }
   }
  },
  {
   "cell_type": "code",
   "execution_count": 23,
   "outputs": [],
   "source": [
    "command2 = \"\n",
    "use data frame dfStarwars;\n",
    "keep the columns name, homeworld, mass & height;\n",
    "transform with bmi = `mass/height^2*10000`;\n",
    "filter rows by bmi >= 30 & height < 200;\n",
    "arrange by the variables mass & height descending\""
   ],
   "metadata": {
    "collapsed": false,
    "pycharm": {
     "name": "#%%\n"
    }
   }
  },
  {
   "cell_type": "code",
   "execution_count": 24,
   "outputs": [
    {
     "data": {
      "text/html": "<style>\n.list-inline {list-style: none; margin:0; padding: 0}\n.list-inline>li {display: inline-block}\n.list-inline>li:not(:last-child)::after {content: \"\\00b7\"; padding: 0 .5ex}\n</style>\n<ol class=list-inline><li>'dfStarwars %&gt;%'</li><li>'dplyr::select(name, homeworld, mass, height) %&gt;%'</li><li>'dplyr::mutate(bmi = mass/height^2*10000) %&gt;%'</li><li>'dplyr::filter(bmi &gt;= 30 &amp; height &lt; 200) %&gt;%'</li><li>'dplyr::arrange(desc(mass), desc(height))'</li></ol>\n",
      "text/markdown": "1. 'dfStarwars %&gt;%'\n2. 'dplyr::select(name, homeworld, mass, height) %&gt;%'\n3. 'dplyr::mutate(bmi = mass/height^2*10000) %&gt;%'\n4. 'dplyr::filter(bmi &gt;= 30 &amp; height &lt; 200) %&gt;%'\n5. 'dplyr::arrange(desc(mass), desc(height))'\n\n\n",
      "text/latex": "\\begin{enumerate*}\n\\item 'dfStarwars \\%>\\%'\n\\item 'dplyr::select(name, homeworld, mass, height) \\%>\\%'\n\\item 'dplyr::mutate(bmi = mass/height\\textasciicircum{}2*10000) \\%>\\%'\n\\item 'dplyr::filter(bmi >= 30 \\& height < 200) \\%>\\%'\n\\item 'dplyr::arrange(desc(mass), desc(height))'\n\\end{enumerate*}\n",
      "text/plain": "[1] \"dfStarwars %>%\"                                   \"dplyr::select(name, homeworld, mass, height) %>%\" \"dplyr::mutate(bmi = mass/height^2*10000) %>%\"    \n[4] \"dplyr::filter(bmi >= 30 & height < 200) %>%\"      \"dplyr::arrange(desc(mass), desc(height))\"        "
     },
     "metadata": {},
     "output_type": "display_data"
    }
   ],
   "source": [
    "FromDSL(command2)"
   ],
   "metadata": {
    "collapsed": false,
    "pycharm": {
     "name": "#%%\n"
    }
   }
  },
  {
   "cell_type": "code",
   "execution_count": 25,
   "outputs": [
    {
     "data": {
      "text/html": "<table class=\"dataframe\">\n<caption>A data.frame: 9 × 5</caption>\n<thead>\n\t<tr><th scope=col>name</th><th scope=col>homeworld</th><th scope=col>mass</th><th scope=col>height</th><th scope=col>bmi</th></tr>\n\t<tr><th scope=col>&lt;chr&gt;</th><th scope=col>&lt;chr&gt;</th><th scope=col>&lt;dbl&gt;</th><th scope=col>&lt;int&gt;</th><th scope=col>&lt;dbl&gt;</th></tr>\n</thead>\n<tbody>\n\t<tr><td>Jabba Desilijic Tiure</td><td>Nal Hutta </td><td>1358</td><td>175</td><td>443.42857</td></tr>\n\t<tr><td>Owen Lars            </td><td>Tatooine  </td><td> 120</td><td>178</td><td> 37.87401</td></tr>\n\t<tr><td>Bossk                </td><td>Trandosha </td><td> 113</td><td>190</td><td> 31.30194</td></tr>\n\t<tr><td>Jek Tono Porkins     </td><td>Bestine IV</td><td> 110</td><td>180</td><td> 33.95062</td></tr>\n\t<tr><td>Dud Bolt             </td><td>Vulpter   </td><td>  45</td><td> 94</td><td> 50.92802</td></tr>\n\t<tr><td>Sebulba              </td><td>Malastare </td><td>  40</td><td>112</td><td> 31.88776</td></tr>\n\t<tr><td>R5-D4                </td><td>Tatooine  </td><td>  32</td><td> 97</td><td> 34.00999</td></tr>\n\t<tr><td>R2-D2                </td><td>Naboo     </td><td>  32</td><td> 96</td><td> 34.72222</td></tr>\n\t<tr><td>Yoda                 </td><td>NA        </td><td>  17</td><td> 66</td><td> 39.02663</td></tr>\n</tbody>\n</table>\n",
      "text/markdown": "\nA data.frame: 9 × 5\n\n| name &lt;chr&gt; | homeworld &lt;chr&gt; | mass &lt;dbl&gt; | height &lt;int&gt; | bmi &lt;dbl&gt; |\n|---|---|---|---|---|\n| Jabba Desilijic Tiure | Nal Hutta  | 1358 | 175 | 443.42857 |\n| Owen Lars             | Tatooine   |  120 | 178 |  37.87401 |\n| Bossk                 | Trandosha  |  113 | 190 |  31.30194 |\n| Jek Tono Porkins      | Bestine IV |  110 | 180 |  33.95062 |\n| Dud Bolt              | Vulpter    |   45 |  94 |  50.92802 |\n| Sebulba               | Malastare  |   40 | 112 |  31.88776 |\n| R5-D4                 | Tatooine   |   32 |  97 |  34.00999 |\n| R2-D2                 | Naboo      |   32 |  96 |  34.72222 |\n| Yoda                  | NA         |   17 |  66 |  39.02663 |\n\n",
      "text/latex": "A data.frame: 9 × 5\n\\begin{tabular}{lllll}\n name & homeworld & mass & height & bmi\\\\\n <chr> & <chr> & <dbl> & <int> & <dbl>\\\\\n\\hline\n\t Jabba Desilijic Tiure & Nal Hutta  & 1358 & 175 & 443.42857\\\\\n\t Owen Lars             & Tatooine   &  120 & 178 &  37.87401\\\\\n\t Bossk                 & Trandosha  &  113 & 190 &  31.30194\\\\\n\t Jek Tono Porkins      & Bestine IV &  110 & 180 &  33.95062\\\\\n\t Dud Bolt              & Vulpter    &   45 &  94 &  50.92802\\\\\n\t Sebulba               & Malastare  &   40 & 112 &  31.88776\\\\\n\t R5-D4                 & Tatooine   &   32 &  97 &  34.00999\\\\\n\t R2-D2                 & Naboo      &   32 &  96 &  34.72222\\\\\n\t Yoda                  & NA         &   17 &  66 &  39.02663\\\\\n\\end{tabular}\n",
      "text/plain": "  name                  homeworld  mass height bmi      \n1 Jabba Desilijic Tiure Nal Hutta  1358 175    443.42857\n2 Owen Lars             Tatooine    120 178     37.87401\n3 Bossk                 Trandosha   113 190     31.30194\n4 Jek Tono Porkins      Bestine IV  110 180     33.95062\n5 Dud Bolt              Vulpter      45  94     50.92802\n6 Sebulba               Malastare    40 112     31.88776\n7 R5-D4                 Tatooine     32  97     34.00999\n8 R2-D2                 Naboo        32  96     34.72222\n9 Yoda                  NA           17  66     39.02663"
     },
     "metadata": {},
     "output_type": "display_data"
    }
   ],
   "source": [
    "dfStarwars %>%\n",
    "dplyr::select(name, homeworld, mass, height) %>%\n",
    "dplyr::mutate(bmi = mass/height^2*10000) %>%\n",
    "dplyr::filter(bmi >= 30 & height < 200) %>%\n",
    "dplyr::arrange(desc(mass), desc(height))"
   ],
   "metadata": {
    "collapsed": false,
    "pycharm": {
     "name": "#%%\n"
    }
   }
  },
  {
   "cell_type": "markdown",
   "source": [
    "**Remark:** Note that we have to use single quotes for the command invocation; using double quotes will invoke the string interpolation feature."
   ],
   "metadata": {
    "collapsed": false,
    "pycharm": {
     "name": "#%% md\n"
    }
   }
  },
  {
   "cell_type": "markdown",
   "source": [
    "------\n",
    "\n",
    "## Grouping awareness\n",
    "\n",
    "In this section we discuss the treatment of multiple \"group by\" invocations within the same DSL specification.\n",
    "\n",
    "### Code generation\n",
    "\n",
    "Since there is no expectation to have a dedicated data transformation monad -- in whatever programming language -- we can try to make the command sequence parsing to be \"aware\" of the grouping operations.\n",
    "\n",
    "In the following example before applying the grouping operation in fourth line we have to flatten the data (which is grouped in the second line):"
   ],
   "metadata": {
    "collapsed": false,
    "pycharm": {
     "name": "#%% md\n"
    }
   }
  },
  {
   "cell_type": "code",
   "execution_count": 26,
   "outputs": [],
   "source": [
    "command3 = \"\n",
    "use dfTitanic;\n",
    "group by passengerClass;\n",
    "echo counts;\n",
    "group by passengerSex;\n",
    "show counts\n",
    "\""
   ],
   "metadata": {
    "collapsed": false,
    "pycharm": {
     "name": "#%%\n"
    }
   }
  },
  {
   "cell_type": "code",
   "execution_count": 27,
   "outputs": [
    {
     "data": {
      "text/html": "<style>\n.list-inline {list-style: none; margin:0; padding: 0}\n.list-inline>li {display: inline-block}\n.list-inline>li:not(:last-child)::after {content: \"\\00b7\"; padding: 0 .5ex}\n</style>\n<ol class=list-inline><li>'dfTitanic %&gt;%'</li><li>'dplyr::group_by(passengerClass) %&gt;%'</li><li>'( function(x) { print(x %&gt;% dplyr::count()); x } ) %&gt;%'</li><li>'dplyr::group_by(passengerSex) %&gt;%'</li><li>'( function(x) { print(x %&gt;% dplyr::count()); x } )'</li></ol>\n",
      "text/markdown": "1. 'dfTitanic %&gt;%'\n2. 'dplyr::group_by(passengerClass) %&gt;%'\n3. '( function(x) { print(x %&gt;% dplyr::count()); x } ) %&gt;%'\n4. 'dplyr::group_by(passengerSex) %&gt;%'\n5. '( function(x) { print(x %&gt;% dplyr::count()); x } )'\n\n\n",
      "text/latex": "\\begin{enumerate*}\n\\item 'dfTitanic \\%>\\%'\n\\item 'dplyr::group\\_by(passengerClass) \\%>\\%'\n\\item '( function(x) \\{ print(x \\%>\\% dplyr::count()); x \\} ) \\%>\\%'\n\\item 'dplyr::group\\_by(passengerSex) \\%>\\%'\n\\item '( function(x) \\{ print(x \\%>\\% dplyr::count()); x \\} )'\n\\end{enumerate*}\n",
      "text/plain": "[1] \"dfTitanic %>%\"                                          \"dplyr::group_by(passengerClass) %>%\"                   \n[3] \"( function(x) { print(x %>% dplyr::count()); x } ) %>%\" \"dplyr::group_by(passengerSex) %>%\"                     \n[5] \"( function(x) { print(x %>% dplyr::count()); x } )\"    "
     },
     "metadata": {},
     "output_type": "display_data"
    }
   ],
   "source": [
    "FromDSL(command3)"
   ],
   "metadata": {
    "collapsed": false,
    "pycharm": {
     "name": "#%%\n"
    }
   }
  },
  {
   "cell_type": "markdown",
   "source": [
    "### Execution\n",
    "\n",
    "Here we execute the generated code:"
   ],
   "metadata": {
    "collapsed": false,
    "pycharm": {
     "name": "#%% md\n"
    }
   }
  },
  {
   "cell_type": "code",
   "execution_count": 28,
   "outputs": [
    {
     "name": "stdout",
     "output_type": "stream",
     "text": [
      "\u001B[90m# A tibble: 3 × 2\u001B[39m\n",
      "\u001B[90m# Groups:   passengerClass [3]\u001B[39m\n",
      "  passengerClass     n\n",
      "  \u001B[3m\u001B[90m<chr>\u001B[39m\u001B[23m          \u001B[3m\u001B[90m<int>\u001B[39m\u001B[23m\n",
      "\u001B[90m1\u001B[39m 1st              323\n",
      "\u001B[90m2\u001B[39m 2nd              277\n",
      "\u001B[90m3\u001B[39m 3rd              709\n",
      "\u001B[90m# A tibble: 2 × 2\u001B[39m\n",
      "\u001B[90m# Groups:   passengerSex [2]\u001B[39m\n",
      "  passengerSex     n\n",
      "  \u001B[3m\u001B[90m<chr>\u001B[39m\u001B[23m        \u001B[3m\u001B[90m<int>\u001B[39m\u001B[23m\n",
      "\u001B[90m1\u001B[39m female         466\n",
      "\u001B[90m2\u001B[39m male           843\n"
     ]
    },
    {
     "data": {
      "text/html": "<table class=\"dataframe\">\n<caption>A grouped_df: 1309 × 5</caption>\n<thead>\n\t<tr><th scope=col>id</th><th scope=col>passengerClass</th><th scope=col>passengerAge</th><th scope=col>passengerSex</th><th scope=col>passengerSurvival</th></tr>\n\t<tr><th scope=col>&lt;int&gt;</th><th scope=col>&lt;chr&gt;</th><th scope=col>&lt;int&gt;</th><th scope=col>&lt;chr&gt;</th><th scope=col>&lt;chr&gt;</th></tr>\n</thead>\n<tbody>\n\t<tr><td> 1</td><td>1st</td><td>30</td><td>female</td><td>survived</td></tr>\n\t<tr><td> 2</td><td>1st</td><td> 0</td><td>male  </td><td>survived</td></tr>\n\t<tr><td> 3</td><td>1st</td><td> 0</td><td>female</td><td>died    </td></tr>\n\t<tr><td> 4</td><td>1st</td><td>30</td><td>male  </td><td>died    </td></tr>\n\t<tr><td> 5</td><td>1st</td><td>20</td><td>female</td><td>died    </td></tr>\n\t<tr><td> 6</td><td>1st</td><td>50</td><td>male  </td><td>survived</td></tr>\n\t<tr><td> 7</td><td>1st</td><td>60</td><td>female</td><td>survived</td></tr>\n\t<tr><td> 8</td><td>1st</td><td>40</td><td>male  </td><td>died    </td></tr>\n\t<tr><td> 9</td><td>1st</td><td>50</td><td>female</td><td>survived</td></tr>\n\t<tr><td>10</td><td>1st</td><td>70</td><td>male  </td><td>died    </td></tr>\n\t<tr><td>11</td><td>1st</td><td>50</td><td>male  </td><td>died    </td></tr>\n\t<tr><td>12</td><td>1st</td><td>20</td><td>female</td><td>survived</td></tr>\n\t<tr><td>13</td><td>1st</td><td>20</td><td>female</td><td>survived</td></tr>\n\t<tr><td>14</td><td>1st</td><td>30</td><td>female</td><td>survived</td></tr>\n\t<tr><td>15</td><td>1st</td><td>80</td><td>male  </td><td>survived</td></tr>\n\t<tr><td>16</td><td>1st</td><td>-1</td><td>male  </td><td>died    </td></tr>\n\t<tr><td>17</td><td>1st</td><td>20</td><td>male  </td><td>died    </td></tr>\n\t<tr><td>18</td><td>1st</td><td>50</td><td>female</td><td>survived</td></tr>\n\t<tr><td>19</td><td>1st</td><td>30</td><td>female</td><td>survived</td></tr>\n\t<tr><td>20</td><td>1st</td><td>40</td><td>male  </td><td>died    </td></tr>\n\t<tr><td>21</td><td>1st</td><td>40</td><td>male  </td><td>survived</td></tr>\n\t<tr><td>22</td><td>1st</td><td>50</td><td>female</td><td>survived</td></tr>\n\t<tr><td>23</td><td>1st</td><td>30</td><td>male  </td><td>survived</td></tr>\n\t<tr><td>24</td><td>1st</td><td>40</td><td>female</td><td>survived</td></tr>\n\t<tr><td>25</td><td>1st</td><td>30</td><td>female</td><td>survived</td></tr>\n\t<tr><td>26</td><td>1st</td><td>20</td><td>male  </td><td>died    </td></tr>\n\t<tr><td>27</td><td>1st</td><td>20</td><td>male  </td><td>survived</td></tr>\n\t<tr><td>28</td><td>1st</td><td>20</td><td>female</td><td>survived</td></tr>\n\t<tr><td>29</td><td>1st</td><td>40</td><td>female</td><td>survived</td></tr>\n\t<tr><td>30</td><td>1st</td><td>30</td><td>male  </td><td>survived</td></tr>\n\t<tr><td>⋮</td><td>⋮</td><td>⋮</td><td>⋮</td><td>⋮</td></tr>\n\t<tr><td>1280</td><td>3rd</td><td>10</td><td>female</td><td>died    </td></tr>\n\t<tr><td>1281</td><td>3rd</td><td>20</td><td>male  </td><td>died    </td></tr>\n\t<tr><td>1282</td><td>3rd</td><td>20</td><td>male  </td><td>died    </td></tr>\n\t<tr><td>1283</td><td>3rd</td><td>-1</td><td>male  </td><td>died    </td></tr>\n\t<tr><td>1284</td><td>3rd</td><td>-1</td><td>male  </td><td>died    </td></tr>\n\t<tr><td>1285</td><td>3rd</td><td>-1</td><td>male  </td><td>died    </td></tr>\n\t<tr><td>1286</td><td>3rd</td><td>30</td><td>male  </td><td>died    </td></tr>\n\t<tr><td>1287</td><td>3rd</td><td>40</td><td>female</td><td>survived</td></tr>\n\t<tr><td>1288</td><td>3rd</td><td>50</td><td>male  </td><td>died    </td></tr>\n\t<tr><td>1289</td><td>3rd</td><td>20</td><td>male  </td><td>died    </td></tr>\n\t<tr><td>1290</td><td>3rd</td><td>20</td><td>male  </td><td>died    </td></tr>\n\t<tr><td>1291</td><td>3rd</td><td>50</td><td>female</td><td>survived</td></tr>\n\t<tr><td>1292</td><td>3rd</td><td>-1</td><td>male  </td><td>died    </td></tr>\n\t<tr><td>1293</td><td>3rd</td><td>-1</td><td>male  </td><td>died    </td></tr>\n\t<tr><td>1294</td><td>3rd</td><td>-1</td><td>male  </td><td>died    </td></tr>\n\t<tr><td>1295</td><td>3rd</td><td>30</td><td>male  </td><td>died    </td></tr>\n\t<tr><td>1296</td><td>3rd</td><td>20</td><td>male  </td><td>died    </td></tr>\n\t<tr><td>1297</td><td>3rd</td><td>30</td><td>male  </td><td>died    </td></tr>\n\t<tr><td>1298</td><td>3rd</td><td>-1</td><td>male  </td><td>died    </td></tr>\n\t<tr><td>1299</td><td>3rd</td><td>40</td><td>male  </td><td>died    </td></tr>\n\t<tr><td>1300</td><td>3rd</td><td>30</td><td>male  </td><td>died    </td></tr>\n\t<tr><td>1301</td><td>3rd</td><td>20</td><td>female</td><td>survived</td></tr>\n\t<tr><td>1302</td><td>3rd</td><td>50</td><td>male  </td><td>died    </td></tr>\n\t<tr><td>1303</td><td>3rd</td><td>-1</td><td>male  </td><td>died    </td></tr>\n\t<tr><td>1304</td><td>3rd</td><td>-1</td><td>male  </td><td>died    </td></tr>\n\t<tr><td>1305</td><td>3rd</td><td>10</td><td>female</td><td>died    </td></tr>\n\t<tr><td>1306</td><td>3rd</td><td>-1</td><td>female</td><td>died    </td></tr>\n\t<tr><td>1307</td><td>3rd</td><td>30</td><td>male  </td><td>died    </td></tr>\n\t<tr><td>1308</td><td>3rd</td><td>30</td><td>male  </td><td>died    </td></tr>\n\t<tr><td>1309</td><td>3rd</td><td>30</td><td>male  </td><td>died    </td></tr>\n</tbody>\n</table>\n",
      "text/markdown": "\nA grouped_df: 1309 × 5\n\n| id &lt;int&gt; | passengerClass &lt;chr&gt; | passengerAge &lt;int&gt; | passengerSex &lt;chr&gt; | passengerSurvival &lt;chr&gt; |\n|---|---|---|---|---|\n|  1 | 1st | 30 | female | survived |\n|  2 | 1st |  0 | male   | survived |\n|  3 | 1st |  0 | female | died     |\n|  4 | 1st | 30 | male   | died     |\n|  5 | 1st | 20 | female | died     |\n|  6 | 1st | 50 | male   | survived |\n|  7 | 1st | 60 | female | survived |\n|  8 | 1st | 40 | male   | died     |\n|  9 | 1st | 50 | female | survived |\n| 10 | 1st | 70 | male   | died     |\n| 11 | 1st | 50 | male   | died     |\n| 12 | 1st | 20 | female | survived |\n| 13 | 1st | 20 | female | survived |\n| 14 | 1st | 30 | female | survived |\n| 15 | 1st | 80 | male   | survived |\n| 16 | 1st | -1 | male   | died     |\n| 17 | 1st | 20 | male   | died     |\n| 18 | 1st | 50 | female | survived |\n| 19 | 1st | 30 | female | survived |\n| 20 | 1st | 40 | male   | died     |\n| 21 | 1st | 40 | male   | survived |\n| 22 | 1st | 50 | female | survived |\n| 23 | 1st | 30 | male   | survived |\n| 24 | 1st | 40 | female | survived |\n| 25 | 1st | 30 | female | survived |\n| 26 | 1st | 20 | male   | died     |\n| 27 | 1st | 20 | male   | survived |\n| 28 | 1st | 20 | female | survived |\n| 29 | 1st | 40 | female | survived |\n| 30 | 1st | 30 | male   | survived |\n| ⋮ | ⋮ | ⋮ | ⋮ | ⋮ |\n| 1280 | 3rd | 10 | female | died     |\n| 1281 | 3rd | 20 | male   | died     |\n| 1282 | 3rd | 20 | male   | died     |\n| 1283 | 3rd | -1 | male   | died     |\n| 1284 | 3rd | -1 | male   | died     |\n| 1285 | 3rd | -1 | male   | died     |\n| 1286 | 3rd | 30 | male   | died     |\n| 1287 | 3rd | 40 | female | survived |\n| 1288 | 3rd | 50 | male   | died     |\n| 1289 | 3rd | 20 | male   | died     |\n| 1290 | 3rd | 20 | male   | died     |\n| 1291 | 3rd | 50 | female | survived |\n| 1292 | 3rd | -1 | male   | died     |\n| 1293 | 3rd | -1 | male   | died     |\n| 1294 | 3rd | -1 | male   | died     |\n| 1295 | 3rd | 30 | male   | died     |\n| 1296 | 3rd | 20 | male   | died     |\n| 1297 | 3rd | 30 | male   | died     |\n| 1298 | 3rd | -1 | male   | died     |\n| 1299 | 3rd | 40 | male   | died     |\n| 1300 | 3rd | 30 | male   | died     |\n| 1301 | 3rd | 20 | female | survived |\n| 1302 | 3rd | 50 | male   | died     |\n| 1303 | 3rd | -1 | male   | died     |\n| 1304 | 3rd | -1 | male   | died     |\n| 1305 | 3rd | 10 | female | died     |\n| 1306 | 3rd | -1 | female | died     |\n| 1307 | 3rd | 30 | male   | died     |\n| 1308 | 3rd | 30 | male   | died     |\n| 1309 | 3rd | 30 | male   | died     |\n\n",
      "text/latex": "A grouped\\_df: 1309 × 5\n\\begin{tabular}{lllll}\n id & passengerClass & passengerAge & passengerSex & passengerSurvival\\\\\n <int> & <chr> & <int> & <chr> & <chr>\\\\\n\\hline\n\t  1 & 1st & 30 & female & survived\\\\\n\t  2 & 1st &  0 & male   & survived\\\\\n\t  3 & 1st &  0 & female & died    \\\\\n\t  4 & 1st & 30 & male   & died    \\\\\n\t  5 & 1st & 20 & female & died    \\\\\n\t  6 & 1st & 50 & male   & survived\\\\\n\t  7 & 1st & 60 & female & survived\\\\\n\t  8 & 1st & 40 & male   & died    \\\\\n\t  9 & 1st & 50 & female & survived\\\\\n\t 10 & 1st & 70 & male   & died    \\\\\n\t 11 & 1st & 50 & male   & died    \\\\\n\t 12 & 1st & 20 & female & survived\\\\\n\t 13 & 1st & 20 & female & survived\\\\\n\t 14 & 1st & 30 & female & survived\\\\\n\t 15 & 1st & 80 & male   & survived\\\\\n\t 16 & 1st & -1 & male   & died    \\\\\n\t 17 & 1st & 20 & male   & died    \\\\\n\t 18 & 1st & 50 & female & survived\\\\\n\t 19 & 1st & 30 & female & survived\\\\\n\t 20 & 1st & 40 & male   & died    \\\\\n\t 21 & 1st & 40 & male   & survived\\\\\n\t 22 & 1st & 50 & female & survived\\\\\n\t 23 & 1st & 30 & male   & survived\\\\\n\t 24 & 1st & 40 & female & survived\\\\\n\t 25 & 1st & 30 & female & survived\\\\\n\t 26 & 1st & 20 & male   & died    \\\\\n\t 27 & 1st & 20 & male   & survived\\\\\n\t 28 & 1st & 20 & female & survived\\\\\n\t 29 & 1st & 40 & female & survived\\\\\n\t 30 & 1st & 30 & male   & survived\\\\\n\t ⋮ & ⋮ & ⋮ & ⋮ & ⋮\\\\\n\t 1280 & 3rd & 10 & female & died    \\\\\n\t 1281 & 3rd & 20 & male   & died    \\\\\n\t 1282 & 3rd & 20 & male   & died    \\\\\n\t 1283 & 3rd & -1 & male   & died    \\\\\n\t 1284 & 3rd & -1 & male   & died    \\\\\n\t 1285 & 3rd & -1 & male   & died    \\\\\n\t 1286 & 3rd & 30 & male   & died    \\\\\n\t 1287 & 3rd & 40 & female & survived\\\\\n\t 1288 & 3rd & 50 & male   & died    \\\\\n\t 1289 & 3rd & 20 & male   & died    \\\\\n\t 1290 & 3rd & 20 & male   & died    \\\\\n\t 1291 & 3rd & 50 & female & survived\\\\\n\t 1292 & 3rd & -1 & male   & died    \\\\\n\t 1293 & 3rd & -1 & male   & died    \\\\\n\t 1294 & 3rd & -1 & male   & died    \\\\\n\t 1295 & 3rd & 30 & male   & died    \\\\\n\t 1296 & 3rd & 20 & male   & died    \\\\\n\t 1297 & 3rd & 30 & male   & died    \\\\\n\t 1298 & 3rd & -1 & male   & died    \\\\\n\t 1299 & 3rd & 40 & male   & died    \\\\\n\t 1300 & 3rd & 30 & male   & died    \\\\\n\t 1301 & 3rd & 20 & female & survived\\\\\n\t 1302 & 3rd & 50 & male   & died    \\\\\n\t 1303 & 3rd & -1 & male   & died    \\\\\n\t 1304 & 3rd & -1 & male   & died    \\\\\n\t 1305 & 3rd & 10 & female & died    \\\\\n\t 1306 & 3rd & -1 & female & died    \\\\\n\t 1307 & 3rd & 30 & male   & died    \\\\\n\t 1308 & 3rd & 30 & male   & died    \\\\\n\t 1309 & 3rd & 30 & male   & died    \\\\\n\\end{tabular}\n",
      "text/plain": "     id   passengerClass passengerAge passengerSex passengerSurvival\n1     1   1st            30           female       survived         \n2     2   1st             0           male         survived         \n3     3   1st             0           female       died             \n4     4   1st            30           male         died             \n5     5   1st            20           female       died             \n6     6   1st            50           male         survived         \n7     7   1st            60           female       survived         \n8     8   1st            40           male         died             \n9     9   1st            50           female       survived         \n10   10   1st            70           male         died             \n11   11   1st            50           male         died             \n12   12   1st            20           female       survived         \n13   13   1st            20           female       survived         \n14   14   1st            30           female       survived         \n15   15   1st            80           male         survived         \n16   16   1st            -1           male         died             \n17   17   1st            20           male         died             \n18   18   1st            50           female       survived         \n19   19   1st            30           female       survived         \n20   20   1st            40           male         died             \n21   21   1st            40           male         survived         \n22   22   1st            50           female       survived         \n23   23   1st            30           male         survived         \n24   24   1st            40           female       survived         \n25   25   1st            30           female       survived         \n26   26   1st            20           male         died             \n27   27   1st            20           male         survived         \n28   28   1st            20           female       survived         \n29   29   1st            40           female       survived         \n30   30   1st            30           male         survived         \n⋮    ⋮    ⋮              ⋮            ⋮            ⋮                \n1280 1280 3rd            10           female       died             \n1281 1281 3rd            20           male         died             \n1282 1282 3rd            20           male         died             \n1283 1283 3rd            -1           male         died             \n1284 1284 3rd            -1           male         died             \n1285 1285 3rd            -1           male         died             \n1286 1286 3rd            30           male         died             \n1287 1287 3rd            40           female       survived         \n1288 1288 3rd            50           male         died             \n1289 1289 3rd            20           male         died             \n1290 1290 3rd            20           male         died             \n1291 1291 3rd            50           female       survived         \n1292 1292 3rd            -1           male         died             \n1293 1293 3rd            -1           male         died             \n1294 1294 3rd            -1           male         died             \n1295 1295 3rd            30           male         died             \n1296 1296 3rd            20           male         died             \n1297 1297 3rd            30           male         died             \n1298 1298 3rd            -1           male         died             \n1299 1299 3rd            40           male         died             \n1300 1300 3rd            30           male         died             \n1301 1301 3rd            20           female       survived         \n1302 1302 3rd            50           male         died             \n1303 1303 3rd            -1           male         died             \n1304 1304 3rd            -1           male         died             \n1305 1305 3rd            10           female       died             \n1306 1306 3rd            -1           female       died             \n1307 1307 3rd            30           male         died             \n1308 1308 3rd            30           male         died             \n1309 1309 3rd            30           male         died             "
     },
     "metadata": {},
     "output_type": "display_data"
    }
   ],
   "source": [
    "dfTitanic %>%\n",
    "dplyr::group_by(passengerClass) %>%\n",
    "( function(x) { print(x %>% dplyr::count()); x } ) %>%\n",
    "dplyr::group_by(passengerSex) %>%\n",
    "( function(x) { print(x %>% dplyr::count()); x } )"
   ],
   "metadata": {
    "collapsed": false,
    "pycharm": {
     "name": "#%%\n"
    }
   }
  },
  {
   "cell_type": "markdown",
   "source": [
    "### Execution steps (tidyverse)\n",
    "\n",
    "First grouping:"
   ],
   "metadata": {
    "collapsed": false,
    "pycharm": {
     "name": "#%% md\n"
    }
   }
  },
  {
   "cell_type": "code",
   "execution_count": 29,
   "outputs": [
    {
     "name": "stdout",
     "output_type": "stream",
     "text": [
      "\u001B[90m# A tibble: 3 × 2\u001B[39m\n",
      "\u001B[90m# Groups:   passengerClass [3]\u001B[39m\n",
      "  passengerClass     n\n",
      "  \u001B[3m\u001B[90m<chr>\u001B[39m\u001B[23m          \u001B[3m\u001B[90m<int>\u001B[39m\u001B[23m\n",
      "\u001B[90m1\u001B[39m 1st              323\n",
      "\u001B[90m2\u001B[39m 2nd              277\n",
      "\u001B[90m3\u001B[39m 3rd              709\n"
     ]
    }
   ],
   "source": [
    "obj <- \n",
    "dfTitanic %>%\n",
    "dplyr::group_by(passengerClass) %>%\n",
    "( function(x) { print(x %>% dplyr::count()); x } )"
   ],
   "metadata": {
    "collapsed": false,
    "pycharm": {
     "name": "#%%\n"
    }
   }
  },
  {
   "cell_type": "markdown",
   "source": [
    "Here we do the second grouping and print-out the group sizes:"
   ],
   "metadata": {
    "collapsed": false,
    "pycharm": {
     "name": "#%% md\n"
    }
   }
  },
  {
   "cell_type": "code",
   "execution_count": 30,
   "outputs": [
    {
     "name": "stdout",
     "output_type": "stream",
     "text": [
      "\u001B[90m# A tibble: 2 × 2\u001B[39m\n",
      "\u001B[90m# Groups:   passengerSex [2]\u001B[39m\n",
      "  passengerSex     n\n",
      "  \u001B[3m\u001B[90m<chr>\u001B[39m\u001B[23m        \u001B[3m\u001B[90m<int>\u001B[39m\u001B[23m\n",
      "\u001B[90m1\u001B[39m female         466\n",
      "\u001B[90m2\u001B[39m male           843\n"
     ]
    },
    {
     "data": {
      "text/html": "<table class=\"dataframe\">\n<caption>A grouped_df: 1309 × 5</caption>\n<thead>\n\t<tr><th scope=col>id</th><th scope=col>passengerClass</th><th scope=col>passengerAge</th><th scope=col>passengerSex</th><th scope=col>passengerSurvival</th></tr>\n\t<tr><th scope=col>&lt;int&gt;</th><th scope=col>&lt;chr&gt;</th><th scope=col>&lt;int&gt;</th><th scope=col>&lt;chr&gt;</th><th scope=col>&lt;chr&gt;</th></tr>\n</thead>\n<tbody>\n\t<tr><td> 1</td><td>1st</td><td>30</td><td>female</td><td>survived</td></tr>\n\t<tr><td> 2</td><td>1st</td><td> 0</td><td>male  </td><td>survived</td></tr>\n\t<tr><td> 3</td><td>1st</td><td> 0</td><td>female</td><td>died    </td></tr>\n\t<tr><td> 4</td><td>1st</td><td>30</td><td>male  </td><td>died    </td></tr>\n\t<tr><td> 5</td><td>1st</td><td>20</td><td>female</td><td>died    </td></tr>\n\t<tr><td> 6</td><td>1st</td><td>50</td><td>male  </td><td>survived</td></tr>\n\t<tr><td> 7</td><td>1st</td><td>60</td><td>female</td><td>survived</td></tr>\n\t<tr><td> 8</td><td>1st</td><td>40</td><td>male  </td><td>died    </td></tr>\n\t<tr><td> 9</td><td>1st</td><td>50</td><td>female</td><td>survived</td></tr>\n\t<tr><td>10</td><td>1st</td><td>70</td><td>male  </td><td>died    </td></tr>\n\t<tr><td>11</td><td>1st</td><td>50</td><td>male  </td><td>died    </td></tr>\n\t<tr><td>12</td><td>1st</td><td>20</td><td>female</td><td>survived</td></tr>\n\t<tr><td>13</td><td>1st</td><td>20</td><td>female</td><td>survived</td></tr>\n\t<tr><td>14</td><td>1st</td><td>30</td><td>female</td><td>survived</td></tr>\n\t<tr><td>15</td><td>1st</td><td>80</td><td>male  </td><td>survived</td></tr>\n\t<tr><td>16</td><td>1st</td><td>-1</td><td>male  </td><td>died    </td></tr>\n\t<tr><td>17</td><td>1st</td><td>20</td><td>male  </td><td>died    </td></tr>\n\t<tr><td>18</td><td>1st</td><td>50</td><td>female</td><td>survived</td></tr>\n\t<tr><td>19</td><td>1st</td><td>30</td><td>female</td><td>survived</td></tr>\n\t<tr><td>20</td><td>1st</td><td>40</td><td>male  </td><td>died    </td></tr>\n\t<tr><td>21</td><td>1st</td><td>40</td><td>male  </td><td>survived</td></tr>\n\t<tr><td>22</td><td>1st</td><td>50</td><td>female</td><td>survived</td></tr>\n\t<tr><td>23</td><td>1st</td><td>30</td><td>male  </td><td>survived</td></tr>\n\t<tr><td>24</td><td>1st</td><td>40</td><td>female</td><td>survived</td></tr>\n\t<tr><td>25</td><td>1st</td><td>30</td><td>female</td><td>survived</td></tr>\n\t<tr><td>26</td><td>1st</td><td>20</td><td>male  </td><td>died    </td></tr>\n\t<tr><td>27</td><td>1st</td><td>20</td><td>male  </td><td>survived</td></tr>\n\t<tr><td>28</td><td>1st</td><td>20</td><td>female</td><td>survived</td></tr>\n\t<tr><td>29</td><td>1st</td><td>40</td><td>female</td><td>survived</td></tr>\n\t<tr><td>30</td><td>1st</td><td>30</td><td>male  </td><td>survived</td></tr>\n\t<tr><td>⋮</td><td>⋮</td><td>⋮</td><td>⋮</td><td>⋮</td></tr>\n\t<tr><td>1280</td><td>3rd</td><td>10</td><td>female</td><td>died    </td></tr>\n\t<tr><td>1281</td><td>3rd</td><td>20</td><td>male  </td><td>died    </td></tr>\n\t<tr><td>1282</td><td>3rd</td><td>20</td><td>male  </td><td>died    </td></tr>\n\t<tr><td>1283</td><td>3rd</td><td>-1</td><td>male  </td><td>died    </td></tr>\n\t<tr><td>1284</td><td>3rd</td><td>-1</td><td>male  </td><td>died    </td></tr>\n\t<tr><td>1285</td><td>3rd</td><td>-1</td><td>male  </td><td>died    </td></tr>\n\t<tr><td>1286</td><td>3rd</td><td>30</td><td>male  </td><td>died    </td></tr>\n\t<tr><td>1287</td><td>3rd</td><td>40</td><td>female</td><td>survived</td></tr>\n\t<tr><td>1288</td><td>3rd</td><td>50</td><td>male  </td><td>died    </td></tr>\n\t<tr><td>1289</td><td>3rd</td><td>20</td><td>male  </td><td>died    </td></tr>\n\t<tr><td>1290</td><td>3rd</td><td>20</td><td>male  </td><td>died    </td></tr>\n\t<tr><td>1291</td><td>3rd</td><td>50</td><td>female</td><td>survived</td></tr>\n\t<tr><td>1292</td><td>3rd</td><td>-1</td><td>male  </td><td>died    </td></tr>\n\t<tr><td>1293</td><td>3rd</td><td>-1</td><td>male  </td><td>died    </td></tr>\n\t<tr><td>1294</td><td>3rd</td><td>-1</td><td>male  </td><td>died    </td></tr>\n\t<tr><td>1295</td><td>3rd</td><td>30</td><td>male  </td><td>died    </td></tr>\n\t<tr><td>1296</td><td>3rd</td><td>20</td><td>male  </td><td>died    </td></tr>\n\t<tr><td>1297</td><td>3rd</td><td>30</td><td>male  </td><td>died    </td></tr>\n\t<tr><td>1298</td><td>3rd</td><td>-1</td><td>male  </td><td>died    </td></tr>\n\t<tr><td>1299</td><td>3rd</td><td>40</td><td>male  </td><td>died    </td></tr>\n\t<tr><td>1300</td><td>3rd</td><td>30</td><td>male  </td><td>died    </td></tr>\n\t<tr><td>1301</td><td>3rd</td><td>20</td><td>female</td><td>survived</td></tr>\n\t<tr><td>1302</td><td>3rd</td><td>50</td><td>male  </td><td>died    </td></tr>\n\t<tr><td>1303</td><td>3rd</td><td>-1</td><td>male  </td><td>died    </td></tr>\n\t<tr><td>1304</td><td>3rd</td><td>-1</td><td>male  </td><td>died    </td></tr>\n\t<tr><td>1305</td><td>3rd</td><td>10</td><td>female</td><td>died    </td></tr>\n\t<tr><td>1306</td><td>3rd</td><td>-1</td><td>female</td><td>died    </td></tr>\n\t<tr><td>1307</td><td>3rd</td><td>30</td><td>male  </td><td>died    </td></tr>\n\t<tr><td>1308</td><td>3rd</td><td>30</td><td>male  </td><td>died    </td></tr>\n\t<tr><td>1309</td><td>3rd</td><td>30</td><td>male  </td><td>died    </td></tr>\n</tbody>\n</table>\n",
      "text/markdown": "\nA grouped_df: 1309 × 5\n\n| id &lt;int&gt; | passengerClass &lt;chr&gt; | passengerAge &lt;int&gt; | passengerSex &lt;chr&gt; | passengerSurvival &lt;chr&gt; |\n|---|---|---|---|---|\n|  1 | 1st | 30 | female | survived |\n|  2 | 1st |  0 | male   | survived |\n|  3 | 1st |  0 | female | died     |\n|  4 | 1st | 30 | male   | died     |\n|  5 | 1st | 20 | female | died     |\n|  6 | 1st | 50 | male   | survived |\n|  7 | 1st | 60 | female | survived |\n|  8 | 1st | 40 | male   | died     |\n|  9 | 1st | 50 | female | survived |\n| 10 | 1st | 70 | male   | died     |\n| 11 | 1st | 50 | male   | died     |\n| 12 | 1st | 20 | female | survived |\n| 13 | 1st | 20 | female | survived |\n| 14 | 1st | 30 | female | survived |\n| 15 | 1st | 80 | male   | survived |\n| 16 | 1st | -1 | male   | died     |\n| 17 | 1st | 20 | male   | died     |\n| 18 | 1st | 50 | female | survived |\n| 19 | 1st | 30 | female | survived |\n| 20 | 1st | 40 | male   | died     |\n| 21 | 1st | 40 | male   | survived |\n| 22 | 1st | 50 | female | survived |\n| 23 | 1st | 30 | male   | survived |\n| 24 | 1st | 40 | female | survived |\n| 25 | 1st | 30 | female | survived |\n| 26 | 1st | 20 | male   | died     |\n| 27 | 1st | 20 | male   | survived |\n| 28 | 1st | 20 | female | survived |\n| 29 | 1st | 40 | female | survived |\n| 30 | 1st | 30 | male   | survived |\n| ⋮ | ⋮ | ⋮ | ⋮ | ⋮ |\n| 1280 | 3rd | 10 | female | died     |\n| 1281 | 3rd | 20 | male   | died     |\n| 1282 | 3rd | 20 | male   | died     |\n| 1283 | 3rd | -1 | male   | died     |\n| 1284 | 3rd | -1 | male   | died     |\n| 1285 | 3rd | -1 | male   | died     |\n| 1286 | 3rd | 30 | male   | died     |\n| 1287 | 3rd | 40 | female | survived |\n| 1288 | 3rd | 50 | male   | died     |\n| 1289 | 3rd | 20 | male   | died     |\n| 1290 | 3rd | 20 | male   | died     |\n| 1291 | 3rd | 50 | female | survived |\n| 1292 | 3rd | -1 | male   | died     |\n| 1293 | 3rd | -1 | male   | died     |\n| 1294 | 3rd | -1 | male   | died     |\n| 1295 | 3rd | 30 | male   | died     |\n| 1296 | 3rd | 20 | male   | died     |\n| 1297 | 3rd | 30 | male   | died     |\n| 1298 | 3rd | -1 | male   | died     |\n| 1299 | 3rd | 40 | male   | died     |\n| 1300 | 3rd | 30 | male   | died     |\n| 1301 | 3rd | 20 | female | survived |\n| 1302 | 3rd | 50 | male   | died     |\n| 1303 | 3rd | -1 | male   | died     |\n| 1304 | 3rd | -1 | male   | died     |\n| 1305 | 3rd | 10 | female | died     |\n| 1306 | 3rd | -1 | female | died     |\n| 1307 | 3rd | 30 | male   | died     |\n| 1308 | 3rd | 30 | male   | died     |\n| 1309 | 3rd | 30 | male   | died     |\n\n",
      "text/latex": "A grouped\\_df: 1309 × 5\n\\begin{tabular}{lllll}\n id & passengerClass & passengerAge & passengerSex & passengerSurvival\\\\\n <int> & <chr> & <int> & <chr> & <chr>\\\\\n\\hline\n\t  1 & 1st & 30 & female & survived\\\\\n\t  2 & 1st &  0 & male   & survived\\\\\n\t  3 & 1st &  0 & female & died    \\\\\n\t  4 & 1st & 30 & male   & died    \\\\\n\t  5 & 1st & 20 & female & died    \\\\\n\t  6 & 1st & 50 & male   & survived\\\\\n\t  7 & 1st & 60 & female & survived\\\\\n\t  8 & 1st & 40 & male   & died    \\\\\n\t  9 & 1st & 50 & female & survived\\\\\n\t 10 & 1st & 70 & male   & died    \\\\\n\t 11 & 1st & 50 & male   & died    \\\\\n\t 12 & 1st & 20 & female & survived\\\\\n\t 13 & 1st & 20 & female & survived\\\\\n\t 14 & 1st & 30 & female & survived\\\\\n\t 15 & 1st & 80 & male   & survived\\\\\n\t 16 & 1st & -1 & male   & died    \\\\\n\t 17 & 1st & 20 & male   & died    \\\\\n\t 18 & 1st & 50 & female & survived\\\\\n\t 19 & 1st & 30 & female & survived\\\\\n\t 20 & 1st & 40 & male   & died    \\\\\n\t 21 & 1st & 40 & male   & survived\\\\\n\t 22 & 1st & 50 & female & survived\\\\\n\t 23 & 1st & 30 & male   & survived\\\\\n\t 24 & 1st & 40 & female & survived\\\\\n\t 25 & 1st & 30 & female & survived\\\\\n\t 26 & 1st & 20 & male   & died    \\\\\n\t 27 & 1st & 20 & male   & survived\\\\\n\t 28 & 1st & 20 & female & survived\\\\\n\t 29 & 1st & 40 & female & survived\\\\\n\t 30 & 1st & 30 & male   & survived\\\\\n\t ⋮ & ⋮ & ⋮ & ⋮ & ⋮\\\\\n\t 1280 & 3rd & 10 & female & died    \\\\\n\t 1281 & 3rd & 20 & male   & died    \\\\\n\t 1282 & 3rd & 20 & male   & died    \\\\\n\t 1283 & 3rd & -1 & male   & died    \\\\\n\t 1284 & 3rd & -1 & male   & died    \\\\\n\t 1285 & 3rd & -1 & male   & died    \\\\\n\t 1286 & 3rd & 30 & male   & died    \\\\\n\t 1287 & 3rd & 40 & female & survived\\\\\n\t 1288 & 3rd & 50 & male   & died    \\\\\n\t 1289 & 3rd & 20 & male   & died    \\\\\n\t 1290 & 3rd & 20 & male   & died    \\\\\n\t 1291 & 3rd & 50 & female & survived\\\\\n\t 1292 & 3rd & -1 & male   & died    \\\\\n\t 1293 & 3rd & -1 & male   & died    \\\\\n\t 1294 & 3rd & -1 & male   & died    \\\\\n\t 1295 & 3rd & 30 & male   & died    \\\\\n\t 1296 & 3rd & 20 & male   & died    \\\\\n\t 1297 & 3rd & 30 & male   & died    \\\\\n\t 1298 & 3rd & -1 & male   & died    \\\\\n\t 1299 & 3rd & 40 & male   & died    \\\\\n\t 1300 & 3rd & 30 & male   & died    \\\\\n\t 1301 & 3rd & 20 & female & survived\\\\\n\t 1302 & 3rd & 50 & male   & died    \\\\\n\t 1303 & 3rd & -1 & male   & died    \\\\\n\t 1304 & 3rd & -1 & male   & died    \\\\\n\t 1305 & 3rd & 10 & female & died    \\\\\n\t 1306 & 3rd & -1 & female & died    \\\\\n\t 1307 & 3rd & 30 & male   & died    \\\\\n\t 1308 & 3rd & 30 & male   & died    \\\\\n\t 1309 & 3rd & 30 & male   & died    \\\\\n\\end{tabular}\n",
      "text/plain": "     id   passengerClass passengerAge passengerSex passengerSurvival\n1     1   1st            30           female       survived         \n2     2   1st             0           male         survived         \n3     3   1st             0           female       died             \n4     4   1st            30           male         died             \n5     5   1st            20           female       died             \n6     6   1st            50           male         survived         \n7     7   1st            60           female       survived         \n8     8   1st            40           male         died             \n9     9   1st            50           female       survived         \n10   10   1st            70           male         died             \n11   11   1st            50           male         died             \n12   12   1st            20           female       survived         \n13   13   1st            20           female       survived         \n14   14   1st            30           female       survived         \n15   15   1st            80           male         survived         \n16   16   1st            -1           male         died             \n17   17   1st            20           male         died             \n18   18   1st            50           female       survived         \n19   19   1st            30           female       survived         \n20   20   1st            40           male         died             \n21   21   1st            40           male         survived         \n22   22   1st            50           female       survived         \n23   23   1st            30           male         survived         \n24   24   1st            40           female       survived         \n25   25   1st            30           female       survived         \n26   26   1st            20           male         died             \n27   27   1st            20           male         survived         \n28   28   1st            20           female       survived         \n29   29   1st            40           female       survived         \n30   30   1st            30           male         survived         \n⋮    ⋮    ⋮              ⋮            ⋮            ⋮                \n1280 1280 3rd            10           female       died             \n1281 1281 3rd            20           male         died             \n1282 1282 3rd            20           male         died             \n1283 1283 3rd            -1           male         died             \n1284 1284 3rd            -1           male         died             \n1285 1285 3rd            -1           male         died             \n1286 1286 3rd            30           male         died             \n1287 1287 3rd            40           female       survived         \n1288 1288 3rd            50           male         died             \n1289 1289 3rd            20           male         died             \n1290 1290 3rd            20           male         died             \n1291 1291 3rd            50           female       survived         \n1292 1292 3rd            -1           male         died             \n1293 1293 3rd            -1           male         died             \n1294 1294 3rd            -1           male         died             \n1295 1295 3rd            30           male         died             \n1296 1296 3rd            20           male         died             \n1297 1297 3rd            30           male         died             \n1298 1298 3rd            -1           male         died             \n1299 1299 3rd            40           male         died             \n1300 1300 3rd            30           male         died             \n1301 1301 3rd            20           female       survived         \n1302 1302 3rd            50           male         died             \n1303 1303 3rd            -1           male         died             \n1304 1304 3rd            -1           male         died             \n1305 1305 3rd            10           female       died             \n1306 1306 3rd            -1           female       died             \n1307 1307 3rd            30           male         died             \n1308 1308 3rd            30           male         died             \n1309 1309 3rd            30           male         died             "
     },
     "metadata": {},
     "output_type": "display_data"
    }
   ],
   "source": [
    "obj %>%\n",
    "dplyr::group_by(passengerSex) %>%\n",
    "( function(x) { print(x %>% dplyr::count()); x } )"
   ],
   "metadata": {
    "collapsed": false,
    "pycharm": {
     "name": "#%%\n"
    }
   }
  },
  {
   "cell_type": "markdown",
   "source": [
    "------\n",
    "\n",
    "## Non-trivial workflow\n",
    "\n",
    "In this section we generate and demonstrate data wrangling steps that clean, mutate, filter, group, and summarize a given dataset.\n",
    "\n",
    "### Code generation\n"
   ],
   "metadata": {
    "collapsed": false,
    "pycharm": {
     "name": "#%% md\n"
    }
   }
  },
  {
   "cell_type": "code",
   "execution_count": 31,
   "outputs": [],
   "source": [
    "command4 = '\n",
    "use dfStarwars;\n",
    "show dimensions;\n",
    "echo summary;\n",
    "replace missing in mass and hight with 0;\n",
    "filter by birth_year greater than 27;\n",
    "select homeworld, mass and height;\n",
    "group by homeworld;\n",
    "show counts;\n",
    "summarize the variables mass and height with mean and median\n",
    "'"
   ],
   "metadata": {
    "collapsed": false,
    "pycharm": {
     "name": "#%%\n"
    }
   }
  },
  {
   "cell_type": "code",
   "execution_count": 32,
   "outputs": [
    {
     "data": {
      "text/html": "<style>\n.list-inline {list-style: none; margin:0; padding: 0}\n.list-inline>li {display: inline-block}\n.list-inline>li:not(:last-child)::after {content: \"\\00b7\"; padding: 0 .5ex}\n</style>\n<ol class=list-inline><li>'dfStarwars %&gt;%'</li><li>'( function(x) { print(dim(x)); x } ) %&gt;%'</li><li>'( function(x) { print(summary(x)); x } ) %&gt;%'</li><li>'tidyr::replace_na(list(mass = 0, hight = 0)) %&gt;%'</li><li>'dplyr::filter(birth_year &gt; 27) %&gt;%'</li><li>'dplyr::select(homeworld, mass, height) %&gt;%'</li><li>'dplyr::group_by(homeworld) %&gt;%'</li><li>'( function(x) { print(x %&gt;% dplyr::count()); x } ) %&gt;%'</li><li>'dplyr::summarise_at( .vars = c(\"mass\", \"height\"), .funs = c(mean = mean, median = median) )'</li></ol>\n",
      "text/markdown": "1. 'dfStarwars %&gt;%'\n2. '( function(x) { print(dim(x)); x } ) %&gt;%'\n3. '( function(x) { print(summary(x)); x } ) %&gt;%'\n4. 'tidyr::replace_na(list(mass = 0, hight = 0)) %&gt;%'\n5. 'dplyr::filter(birth_year &gt; 27) %&gt;%'\n6. 'dplyr::select(homeworld, mass, height) %&gt;%'\n7. 'dplyr::group_by(homeworld) %&gt;%'\n8. '( function(x) { print(x %&gt;% dplyr::count()); x } ) %&gt;%'\n9. 'dplyr::summarise_at( .vars = c(\"mass\", \"height\"), .funs = c(mean = mean, median = median) )'\n\n\n",
      "text/latex": "\\begin{enumerate*}\n\\item 'dfStarwars \\%>\\%'\n\\item '( function(x) \\{ print(dim(x)); x \\} ) \\%>\\%'\n\\item '( function(x) \\{ print(summary(x)); x \\} ) \\%>\\%'\n\\item 'tidyr::replace\\_na(list(mass = 0, hight = 0)) \\%>\\%'\n\\item 'dplyr::filter(birth\\_year > 27) \\%>\\%'\n\\item 'dplyr::select(homeworld, mass, height) \\%>\\%'\n\\item 'dplyr::group\\_by(homeworld) \\%>\\%'\n\\item '( function(x) \\{ print(x \\%>\\% dplyr::count()); x \\} ) \\%>\\%'\n\\item 'dplyr::summarise\\_at( .vars = c(\"mass\", \"height\"), .funs = c(mean = mean, median = median) )'\n\\end{enumerate*}\n",
      "text/plain": "[1] \"dfStarwars %>%\"                                                                                 \n[2] \"( function(x) { print(dim(x)); x } ) %>%\"                                                       \n[3] \"( function(x) { print(summary(x)); x } ) %>%\"                                                   \n[4] \"tidyr::replace_na(list(mass = 0, hight = 0)) %>%\"                                               \n[5] \"dplyr::filter(birth_year > 27) %>%\"                                                             \n[6] \"dplyr::select(homeworld, mass, height) %>%\"                                                     \n[7] \"dplyr::group_by(homeworld) %>%\"                                                                 \n[8] \"( function(x) { print(x %>% dplyr::count()); x } ) %>%\"                                         \n[9] \"dplyr::summarise_at( .vars = c(\\\"mass\\\", \\\"height\\\"), .funs = c(mean = mean, median = median) )\""
     },
     "metadata": {},
     "output_type": "display_data"
    }
   ],
   "source": [
    "FromDSL(command4)"
   ],
   "metadata": {
    "collapsed": false,
    "pycharm": {
     "name": "#%%\n"
    }
   }
  },
  {
   "cell_type": "markdown",
   "source": [
    "### Execution"
   ],
   "metadata": {
    "collapsed": false,
    "pycharm": {
     "name": "#%% md\n"
    }
   }
  },
  {
   "cell_type": "code",
   "execution_count": 33,
   "outputs": [
    {
     "name": "stdout",
     "output_type": "stream",
     "text": [
      "[1] 87 11\n",
      "     name               height           mass          hair_color         skin_color         eye_color           birth_year         sex           \n",
      " Length:87          Min.   : 66.0   Min.   :  15.00   Length:87          Length:87          Length:87          Min.   :  8.00   Length:87         \n",
      " Class :character   1st Qu.:167.0   1st Qu.:  55.60   Class :character   Class :character   Class :character   1st Qu.: 35.00   Class :character  \n",
      " Mode  :character   Median :180.0   Median :  79.00   Mode  :character   Mode  :character   Mode  :character   Median : 52.00   Mode  :character  \n",
      "                    Mean   :174.4   Mean   :  97.31                                                            Mean   : 87.57                     \n",
      "                    3rd Qu.:191.0   3rd Qu.:  84.50                                                            3rd Qu.: 72.00                     \n",
      "                    Max.   :264.0   Max.   :1358.00                                                            Max.   :896.00                     \n",
      "                    NA's   :6       NA's   :28                                                                 NA's   :44                         \n",
      "    gender           homeworld           species         \n",
      " Length:87          Length:87          Length:87         \n",
      " Class :character   Class :character   Class :character  \n",
      " Mode  :character   Mode  :character   Mode  :character  \n",
      "                                                         \n",
      "                                                         \n",
      "                                                         \n",
      "                                                         \n",
      "\u001B[90m# A tibble: 24 × 2\u001B[39m\n",
      "\u001B[90m# Groups:   homeworld [24]\u001B[39m\n",
      "   homeworld        n\n",
      "   \u001B[3m\u001B[90m<chr>\u001B[39m\u001B[23m        \u001B[3m\u001B[90m<int>\u001B[39m\u001B[23m\n",
      "\u001B[90m 1\u001B[39m Alderaan         1\n",
      "\u001B[90m 2\u001B[39m Bespin           1\n",
      "\u001B[90m 3\u001B[39m Cerea            1\n",
      "\u001B[90m 4\u001B[39m Chandrila        1\n",
      "\u001B[90m 5\u001B[39m Concord Dawn     1\n",
      "\u001B[90m 6\u001B[39m Corellia         1\n",
      "\u001B[90m 7\u001B[39m Coruscant        1\n",
      "\u001B[90m 8\u001B[39m Dathomir         1\n",
      "\u001B[90m 9\u001B[39m Eriadu           1\n",
      "\u001B[90m10\u001B[39m Haruun Kal       1\n",
      "\u001B[90m# … with 14 more rows\u001B[39m\n"
     ]
    },
    {
     "data": {
      "text/html": "<table class=\"dataframe\">\n<caption>A tibble: 24 × 5</caption>\n<thead>\n\t<tr><th scope=col>homeworld</th><th scope=col>mass_mean</th><th scope=col>height_mean</th><th scope=col>mass_median</th><th scope=col>height_median</th></tr>\n\t<tr><th scope=col>&lt;chr&gt;</th><th scope=col>&lt;dbl&gt;</th><th scope=col>&lt;dbl&gt;</th><th scope=col>&lt;dbl&gt;</th><th scope=col>&lt;dbl&gt;</th></tr>\n</thead>\n<tbody>\n\t<tr><td>Alderaan    </td><td>   0.0</td><td>191.0</td><td>   0.0</td><td>191.0</td></tr>\n\t<tr><td>Bespin      </td><td>  79.0</td><td>175.0</td><td>  79.0</td><td>175.0</td></tr>\n\t<tr><td>Cerea       </td><td>  82.0</td><td>198.0</td><td>  82.0</td><td>198.0</td></tr>\n\t<tr><td>Chandrila   </td><td>   0.0</td><td>150.0</td><td>   0.0</td><td>150.0</td></tr>\n\t<tr><td>Concord Dawn</td><td>  79.0</td><td>183.0</td><td>  79.0</td><td>183.0</td></tr>\n\t<tr><td>Corellia    </td><td>  80.0</td><td>180.0</td><td>  80.0</td><td>180.0</td></tr>\n\t<tr><td>Coruscant   </td><td>   0.0</td><td>170.0</td><td>   0.0</td><td>170.0</td></tr>\n\t<tr><td>Dathomir    </td><td>  80.0</td><td>175.0</td><td>  80.0</td><td>175.0</td></tr>\n\t<tr><td>Eriadu      </td><td>   0.0</td><td>180.0</td><td>   0.0</td><td>180.0</td></tr>\n\t<tr><td>Haruun Kal  </td><td>  84.0</td><td>188.0</td><td>  84.0</td><td>188.0</td></tr>\n\t<tr><td>Kamino      </td><td>  78.2</td><td>183.0</td><td>  78.2</td><td>183.0</td></tr>\n\t<tr><td>Kashyyyk    </td><td> 112.0</td><td>228.0</td><td> 112.0</td><td>228.0</td></tr>\n\t<tr><td>Mirial      </td><td>  53.1</td><td>168.0</td><td>  53.1</td><td>168.0</td></tr>\n\t<tr><td>Mon Cala    </td><td>  83.0</td><td>180.0</td><td>  83.0</td><td>180.0</td></tr>\n\t<tr><td>Naboo       </td><td>  43.6</td><td>162.0</td><td>  45.0</td><td>170.0</td></tr>\n\t<tr><td>Nal Hutta   </td><td>1358.0</td><td>175.0</td><td>1358.0</td><td>175.0</td></tr>\n\t<tr><td>Rodia       </td><td>  74.0</td><td>173.0</td><td>  74.0</td><td>173.0</td></tr>\n\t<tr><td>Ryloth      </td><td>  55.0</td><td>178.0</td><td>  55.0</td><td>178.0</td></tr>\n\t<tr><td>Serenno     </td><td>  80.0</td><td>193.0</td><td>  80.0</td><td>193.0</td></tr>\n\t<tr><td>Socorro     </td><td>  79.0</td><td>177.0</td><td>  79.0</td><td>177.0</td></tr>\n\t<tr><td>Stewjon     </td><td>  77.0</td><td>182.0</td><td>  77.0</td><td>182.0</td></tr>\n\t<tr><td>Tatooine    </td><td>  70.0</td><td>178.0</td><td>  75.0</td><td>178.0</td></tr>\n\t<tr><td>Trandosha   </td><td> 113.0</td><td>190.0</td><td> 113.0</td><td>190.0</td></tr>\n\t<tr><td>NA          </td><td>  53.0</td><td>129.5</td><td>  53.0</td><td>129.5</td></tr>\n</tbody>\n</table>\n",
      "text/markdown": "\nA tibble: 24 × 5\n\n| homeworld &lt;chr&gt; | mass_mean &lt;dbl&gt; | height_mean &lt;dbl&gt; | mass_median &lt;dbl&gt; | height_median &lt;dbl&gt; |\n|---|---|---|---|---|\n| Alderaan     |    0.0 | 191.0 |    0.0 | 191.0 |\n| Bespin       |   79.0 | 175.0 |   79.0 | 175.0 |\n| Cerea        |   82.0 | 198.0 |   82.0 | 198.0 |\n| Chandrila    |    0.0 | 150.0 |    0.0 | 150.0 |\n| Concord Dawn |   79.0 | 183.0 |   79.0 | 183.0 |\n| Corellia     |   80.0 | 180.0 |   80.0 | 180.0 |\n| Coruscant    |    0.0 | 170.0 |    0.0 | 170.0 |\n| Dathomir     |   80.0 | 175.0 |   80.0 | 175.0 |\n| Eriadu       |    0.0 | 180.0 |    0.0 | 180.0 |\n| Haruun Kal   |   84.0 | 188.0 |   84.0 | 188.0 |\n| Kamino       |   78.2 | 183.0 |   78.2 | 183.0 |\n| Kashyyyk     |  112.0 | 228.0 |  112.0 | 228.0 |\n| Mirial       |   53.1 | 168.0 |   53.1 | 168.0 |\n| Mon Cala     |   83.0 | 180.0 |   83.0 | 180.0 |\n| Naboo        |   43.6 | 162.0 |   45.0 | 170.0 |\n| Nal Hutta    | 1358.0 | 175.0 | 1358.0 | 175.0 |\n| Rodia        |   74.0 | 173.0 |   74.0 | 173.0 |\n| Ryloth       |   55.0 | 178.0 |   55.0 | 178.0 |\n| Serenno      |   80.0 | 193.0 |   80.0 | 193.0 |\n| Socorro      |   79.0 | 177.0 |   79.0 | 177.0 |\n| Stewjon      |   77.0 | 182.0 |   77.0 | 182.0 |\n| Tatooine     |   70.0 | 178.0 |   75.0 | 178.0 |\n| Trandosha    |  113.0 | 190.0 |  113.0 | 190.0 |\n| NA           |   53.0 | 129.5 |   53.0 | 129.5 |\n\n",
      "text/latex": "A tibble: 24 × 5\n\\begin{tabular}{lllll}\n homeworld & mass\\_mean & height\\_mean & mass\\_median & height\\_median\\\\\n <chr> & <dbl> & <dbl> & <dbl> & <dbl>\\\\\n\\hline\n\t Alderaan     &    0.0 & 191.0 &    0.0 & 191.0\\\\\n\t Bespin       &   79.0 & 175.0 &   79.0 & 175.0\\\\\n\t Cerea        &   82.0 & 198.0 &   82.0 & 198.0\\\\\n\t Chandrila    &    0.0 & 150.0 &    0.0 & 150.0\\\\\n\t Concord Dawn &   79.0 & 183.0 &   79.0 & 183.0\\\\\n\t Corellia     &   80.0 & 180.0 &   80.0 & 180.0\\\\\n\t Coruscant    &    0.0 & 170.0 &    0.0 & 170.0\\\\\n\t Dathomir     &   80.0 & 175.0 &   80.0 & 175.0\\\\\n\t Eriadu       &    0.0 & 180.0 &    0.0 & 180.0\\\\\n\t Haruun Kal   &   84.0 & 188.0 &   84.0 & 188.0\\\\\n\t Kamino       &   78.2 & 183.0 &   78.2 & 183.0\\\\\n\t Kashyyyk     &  112.0 & 228.0 &  112.0 & 228.0\\\\\n\t Mirial       &   53.1 & 168.0 &   53.1 & 168.0\\\\\n\t Mon Cala     &   83.0 & 180.0 &   83.0 & 180.0\\\\\n\t Naboo        &   43.6 & 162.0 &   45.0 & 170.0\\\\\n\t Nal Hutta    & 1358.0 & 175.0 & 1358.0 & 175.0\\\\\n\t Rodia        &   74.0 & 173.0 &   74.0 & 173.0\\\\\n\t Ryloth       &   55.0 & 178.0 &   55.0 & 178.0\\\\\n\t Serenno      &   80.0 & 193.0 &   80.0 & 193.0\\\\\n\t Socorro      &   79.0 & 177.0 &   79.0 & 177.0\\\\\n\t Stewjon      &   77.0 & 182.0 &   77.0 & 182.0\\\\\n\t Tatooine     &   70.0 & 178.0 &   75.0 & 178.0\\\\\n\t Trandosha    &  113.0 & 190.0 &  113.0 & 190.0\\\\\n\t NA           &   53.0 & 129.5 &   53.0 & 129.5\\\\\n\\end{tabular}\n",
      "text/plain": "   homeworld    mass_mean height_mean mass_median height_median\n1  Alderaan        0.0    191.0          0.0      191.0        \n2  Bespin         79.0    175.0         79.0      175.0        \n3  Cerea          82.0    198.0         82.0      198.0        \n4  Chandrila       0.0    150.0          0.0      150.0        \n5  Concord Dawn   79.0    183.0         79.0      183.0        \n6  Corellia       80.0    180.0         80.0      180.0        \n7  Coruscant       0.0    170.0          0.0      170.0        \n8  Dathomir       80.0    175.0         80.0      175.0        \n9  Eriadu          0.0    180.0          0.0      180.0        \n10 Haruun Kal     84.0    188.0         84.0      188.0        \n11 Kamino         78.2    183.0         78.2      183.0        \n12 Kashyyyk      112.0    228.0        112.0      228.0        \n13 Mirial         53.1    168.0         53.1      168.0        \n14 Mon Cala       83.0    180.0         83.0      180.0        \n15 Naboo          43.6    162.0         45.0      170.0        \n16 Nal Hutta    1358.0    175.0       1358.0      175.0        \n17 Rodia          74.0    173.0         74.0      173.0        \n18 Ryloth         55.0    178.0         55.0      178.0        \n19 Serenno        80.0    193.0         80.0      193.0        \n20 Socorro        79.0    177.0         79.0      177.0        \n21 Stewjon        77.0    182.0         77.0      182.0        \n22 Tatooine       70.0    178.0         75.0      178.0        \n23 Trandosha     113.0    190.0        113.0      190.0        \n24 NA             53.0    129.5         53.0      129.5        "
     },
     "metadata": {},
     "output_type": "display_data"
    }
   ],
   "source": [
    "dfStarwars %>%\n",
    "( function(x) { print(dim(x)); x } ) %>%\n",
    "( function(x) { print(summary(x)); x } ) %>%\n",
    "tidyr::replace_na(list(mass = 0, hight = 0)) %>%\n",
    "dplyr::filter(birth_year > 27) %>%\n",
    "dplyr::select(homeworld, mass, height) %>%\n",
    "dplyr::group_by(homeworld) %>%\n",
    "( function(x) { print(x %>% dplyr::count()); x } ) %>%\n",
    "dplyr::summarise_at( .vars = c(\"mass\", \"height\"), .funs = c(mean = mean, median = median) )"
   ],
   "metadata": {
    "collapsed": false,
    "pycharm": {
     "name": "#%%\n"
    }
   }
  },
  {
   "cell_type": "markdown",
   "source": [
    "### Execution steps (tidyverse)\n",
    "\n",
    "Here is code that cleans the data of missing values, and shows dimensions and summary (corresponds to the three four lines above):"
   ],
   "metadata": {
    "collapsed": false,
    "pycharm": {
     "name": "#%% md\n"
    }
   }
  },
  {
   "cell_type": "code",
   "execution_count": 34,
   "outputs": [
    {
     "name": "stdout",
     "output_type": "stream",
     "text": [
      "[1] 87 11\n",
      "     name               height           mass          hair_color         skin_color         eye_color           birth_year         sex           \n",
      " Length:87          Min.   : 66.0   Min.   :  15.00   Length:87          Length:87          Length:87          Min.   :  8.00   Length:87         \n",
      " Class :character   1st Qu.:167.0   1st Qu.:  55.60   Class :character   Class :character   Class :character   1st Qu.: 35.00   Class :character  \n",
      " Mode  :character   Median :180.0   Median :  79.00   Mode  :character   Mode  :character   Mode  :character   Median : 52.00   Mode  :character  \n",
      "                    Mean   :174.4   Mean   :  97.31                                                            Mean   : 87.57                     \n",
      "                    3rd Qu.:191.0   3rd Qu.:  84.50                                                            3rd Qu.: 72.00                     \n",
      "                    Max.   :264.0   Max.   :1358.00                                                            Max.   :896.00                     \n",
      "                    NA's   :6       NA's   :28                                                                 NA's   :44                         \n",
      "    gender           homeworld           species         \n",
      " Length:87          Length:87          Length:87         \n",
      " Class :character   Class :character   Class :character  \n",
      " Mode  :character   Mode  :character   Mode  :character  \n",
      "                                                         \n",
      "                                                         \n",
      "                                                         \n",
      "                                                         \n"
     ]
    }
   ],
   "source": [
    "obj <- \n",
    "dfStarwars %>%\n",
    "( function(x) { print(dim(x)); x } ) %>%\n",
    "( function(x) { print(summary(x)); x } ) %>%\n",
    "tidyr::replace_na(list(mass = 0, hight = 0))"
   ],
   "metadata": {
    "collapsed": false,
    "pycharm": {
     "name": "#%%\n"
    }
   }
  },
  {
   "cell_type": "markdown",
   "source": [
    "Here is a sample of the dataset (wrangled so far):"
   ],
   "metadata": {
    "collapsed": false,
    "pycharm": {
     "name": "#%% md\n"
    }
   }
  },
  {
   "cell_type": "code",
   "execution_count": 35,
   "outputs": [
    {
     "data": {
      "text/html": "<table class=\"dataframe\">\n<caption>A data.frame: 6 × 11</caption>\n<thead>\n\t<tr><th></th><th scope=col>name</th><th scope=col>height</th><th scope=col>mass</th><th scope=col>hair_color</th><th scope=col>skin_color</th><th scope=col>eye_color</th><th scope=col>birth_year</th><th scope=col>sex</th><th scope=col>gender</th><th scope=col>homeworld</th><th scope=col>species</th></tr>\n\t<tr><th></th><th scope=col>&lt;chr&gt;</th><th scope=col>&lt;int&gt;</th><th scope=col>&lt;dbl&gt;</th><th scope=col>&lt;chr&gt;</th><th scope=col>&lt;chr&gt;</th><th scope=col>&lt;chr&gt;</th><th scope=col>&lt;dbl&gt;</th><th scope=col>&lt;chr&gt;</th><th scope=col>&lt;chr&gt;</th><th scope=col>&lt;chr&gt;</th><th scope=col>&lt;chr&gt;</th></tr>\n</thead>\n<tbody>\n\t<tr><th scope=row>1</th><td>Luke Skywalker</td><td>172</td><td> 77</td><td>blond      </td><td>fair       </td><td>blue  </td><td> 19.0</td><td>male  </td><td>masculine</td><td>Tatooine</td><td>Human</td></tr>\n\t<tr><th scope=row>2</th><td>C-3PO         </td><td>167</td><td> 75</td><td>NA         </td><td>gold       </td><td>yellow</td><td>112.0</td><td>none  </td><td>masculine</td><td>Tatooine</td><td>Droid</td></tr>\n\t<tr><th scope=row>3</th><td>R2-D2         </td><td> 96</td><td> 32</td><td>NA         </td><td>white, blue</td><td>red   </td><td> 33.0</td><td>none  </td><td>masculine</td><td>Naboo   </td><td>Droid</td></tr>\n\t<tr><th scope=row>4</th><td>Darth Vader   </td><td>202</td><td>136</td><td>none       </td><td>white      </td><td>yellow</td><td> 41.9</td><td>male  </td><td>masculine</td><td>Tatooine</td><td>Human</td></tr>\n\t<tr><th scope=row>5</th><td>Leia Organa   </td><td>150</td><td> 49</td><td>brown      </td><td>light      </td><td>brown </td><td> 19.0</td><td>female</td><td>feminine </td><td>Alderaan</td><td>Human</td></tr>\n\t<tr><th scope=row>6</th><td>Owen Lars     </td><td>178</td><td>120</td><td>brown, grey</td><td>light      </td><td>blue  </td><td> 52.0</td><td>male  </td><td>masculine</td><td>Tatooine</td><td>Human</td></tr>\n</tbody>\n</table>\n",
      "text/markdown": "\nA data.frame: 6 × 11\n\n| <!--/--> | name &lt;chr&gt; | height &lt;int&gt; | mass &lt;dbl&gt; | hair_color &lt;chr&gt; | skin_color &lt;chr&gt; | eye_color &lt;chr&gt; | birth_year &lt;dbl&gt; | sex &lt;chr&gt; | gender &lt;chr&gt; | homeworld &lt;chr&gt; | species &lt;chr&gt; |\n|---|---|---|---|---|---|---|---|---|---|---|---|\n| 1 | Luke Skywalker | 172 |  77 | blond       | fair        | blue   |  19.0 | male   | masculine | Tatooine | Human |\n| 2 | C-3PO          | 167 |  75 | NA          | gold        | yellow | 112.0 | none   | masculine | Tatooine | Droid |\n| 3 | R2-D2          |  96 |  32 | NA          | white, blue | red    |  33.0 | none   | masculine | Naboo    | Droid |\n| 4 | Darth Vader    | 202 | 136 | none        | white       | yellow |  41.9 | male   | masculine | Tatooine | Human |\n| 5 | Leia Organa    | 150 |  49 | brown       | light       | brown  |  19.0 | female | feminine  | Alderaan | Human |\n| 6 | Owen Lars      | 178 | 120 | brown, grey | light       | blue   |  52.0 | male   | masculine | Tatooine | Human |\n\n",
      "text/latex": "A data.frame: 6 × 11\n\\begin{tabular}{r|lllllllllll}\n  & name & height & mass & hair\\_color & skin\\_color & eye\\_color & birth\\_year & sex & gender & homeworld & species\\\\\n  & <chr> & <int> & <dbl> & <chr> & <chr> & <chr> & <dbl> & <chr> & <chr> & <chr> & <chr>\\\\\n\\hline\n\t1 & Luke Skywalker & 172 &  77 & blond       & fair        & blue   &  19.0 & male   & masculine & Tatooine & Human\\\\\n\t2 & C-3PO          & 167 &  75 & NA          & gold        & yellow & 112.0 & none   & masculine & Tatooine & Droid\\\\\n\t3 & R2-D2          &  96 &  32 & NA          & white, blue & red    &  33.0 & none   & masculine & Naboo    & Droid\\\\\n\t4 & Darth Vader    & 202 & 136 & none        & white       & yellow &  41.9 & male   & masculine & Tatooine & Human\\\\\n\t5 & Leia Organa    & 150 &  49 & brown       & light       & brown  &  19.0 & female & feminine  & Alderaan & Human\\\\\n\t6 & Owen Lars      & 178 & 120 & brown, grey & light       & blue   &  52.0 & male   & masculine & Tatooine & Human\\\\\n\\end{tabular}\n",
      "text/plain": "  name           height mass hair_color  skin_color  eye_color birth_year sex    gender    homeworld species\n1 Luke Skywalker 172     77  blond       fair        blue       19.0      male   masculine Tatooine  Human  \n2 C-3PO          167     75  NA          gold        yellow    112.0      none   masculine Tatooine  Droid  \n3 R2-D2           96     32  NA          white, blue red        33.0      none   masculine Naboo     Droid  \n4 Darth Vader    202    136  none        white       yellow     41.9      male   masculine Tatooine  Human  \n5 Leia Organa    150     49  brown       light       brown      19.0      female feminine  Alderaan  Human  \n6 Owen Lars      178    120  brown, grey light       blue       52.0      male   masculine Tatooine  Human  "
     },
     "metadata": {},
     "output_type": "display_data"
    }
   ],
   "source": [
    "head(obj)"
   ],
   "metadata": {
    "collapsed": false,
    "pycharm": {
     "name": "#%%\n"
    }
   }
  },
  {
   "cell_type": "markdown",
   "source": [
    "Here we filter by birth year, select the columns \"homeworld\", \"mass\", and \"height\", group by \"homeworld\", and show counts for each group:"
   ],
   "metadata": {
    "collapsed": false,
    "pycharm": {
     "name": "#%% md\n"
    }
   }
  },
  {
   "cell_type": "code",
   "execution_count": 36,
   "outputs": [
    {
     "name": "stdout",
     "output_type": "stream",
     "text": [
      "\u001B[90m# A tibble: 24 × 2\u001B[39m\n",
      "\u001B[90m# Groups:   homeworld [24]\u001B[39m\n",
      "   homeworld        n\n",
      "   \u001B[3m\u001B[90m<chr>\u001B[39m\u001B[23m        \u001B[3m\u001B[90m<int>\u001B[39m\u001B[23m\n",
      "\u001B[90m 1\u001B[39m Alderaan         1\n",
      "\u001B[90m 2\u001B[39m Bespin           1\n",
      "\u001B[90m 3\u001B[39m Cerea            1\n",
      "\u001B[90m 4\u001B[39m Chandrila        1\n",
      "\u001B[90m 5\u001B[39m Concord Dawn     1\n",
      "\u001B[90m 6\u001B[39m Corellia         1\n",
      "\u001B[90m 7\u001B[39m Coruscant        1\n",
      "\u001B[90m 8\u001B[39m Dathomir         1\n",
      "\u001B[90m 9\u001B[39m Eriadu           1\n",
      "\u001B[90m10\u001B[39m Haruun Kal       1\n",
      "\u001B[90m# … with 14 more rows\u001B[39m\n"
     ]
    }
   ],
   "source": [
    "obj <- \n",
    "obj %>% \n",
    "dplyr::filter(birth_year > 27) %>%\n",
    "dplyr::select(homeworld, mass, height) %>%\n",
    "dplyr::group_by(homeworld) %>%\n",
    "( function(x) { print(x %>% dplyr::count()); x } )"
   ],
   "metadata": {
    "collapsed": false,
    "pycharm": {
     "name": "#%%\n"
    }
   }
  },
  {
   "cell_type": "markdown",
   "source": [
    "**Remark:** If we were interested only in the sizes of the groups we can just call `dplyr::count(homeworld)` (or better `dplyr::count(homeworld, sort=T)`. We to do further statistics over the homeworld groups (that is why we use `group_by`.)"
   ],
   "metadata": {
    "collapsed": false,
    "pycharm": {
     "name": "#%% md\n"
    }
   }
  },
  {
   "cell_type": "markdown",
   "source": [
    "Here is a summarization at specified columns with specified functions:"
   ],
   "metadata": {
    "collapsed": false,
    "pycharm": {
     "name": "#%% md\n"
    }
   }
  },
  {
   "cell_type": "code",
   "execution_count": 37,
   "outputs": [
    {
     "data": {
      "text/html": "<table class=\"dataframe\">\n<caption>A tibble: 24 × 5</caption>\n<thead>\n\t<tr><th scope=col>homeworld</th><th scope=col>mass_mean</th><th scope=col>height_mean</th><th scope=col>mass_median</th><th scope=col>height_median</th></tr>\n\t<tr><th scope=col>&lt;chr&gt;</th><th scope=col>&lt;dbl&gt;</th><th scope=col>&lt;dbl&gt;</th><th scope=col>&lt;dbl&gt;</th><th scope=col>&lt;dbl&gt;</th></tr>\n</thead>\n<tbody>\n\t<tr><td>Alderaan    </td><td>   0.0</td><td>191.0</td><td>   0.0</td><td>191.0</td></tr>\n\t<tr><td>Bespin      </td><td>  79.0</td><td>175.0</td><td>  79.0</td><td>175.0</td></tr>\n\t<tr><td>Cerea       </td><td>  82.0</td><td>198.0</td><td>  82.0</td><td>198.0</td></tr>\n\t<tr><td>Chandrila   </td><td>   0.0</td><td>150.0</td><td>   0.0</td><td>150.0</td></tr>\n\t<tr><td>Concord Dawn</td><td>  79.0</td><td>183.0</td><td>  79.0</td><td>183.0</td></tr>\n\t<tr><td>Corellia    </td><td>  80.0</td><td>180.0</td><td>  80.0</td><td>180.0</td></tr>\n\t<tr><td>Coruscant   </td><td>   0.0</td><td>170.0</td><td>   0.0</td><td>170.0</td></tr>\n\t<tr><td>Dathomir    </td><td>  80.0</td><td>175.0</td><td>  80.0</td><td>175.0</td></tr>\n\t<tr><td>Eriadu      </td><td>   0.0</td><td>180.0</td><td>   0.0</td><td>180.0</td></tr>\n\t<tr><td>Haruun Kal  </td><td>  84.0</td><td>188.0</td><td>  84.0</td><td>188.0</td></tr>\n\t<tr><td>Kamino      </td><td>  78.2</td><td>183.0</td><td>  78.2</td><td>183.0</td></tr>\n\t<tr><td>Kashyyyk    </td><td> 112.0</td><td>228.0</td><td> 112.0</td><td>228.0</td></tr>\n\t<tr><td>Mirial      </td><td>  53.1</td><td>168.0</td><td>  53.1</td><td>168.0</td></tr>\n\t<tr><td>Mon Cala    </td><td>  83.0</td><td>180.0</td><td>  83.0</td><td>180.0</td></tr>\n\t<tr><td>Naboo       </td><td>  43.6</td><td>162.0</td><td>  45.0</td><td>170.0</td></tr>\n\t<tr><td>Nal Hutta   </td><td>1358.0</td><td>175.0</td><td>1358.0</td><td>175.0</td></tr>\n\t<tr><td>Rodia       </td><td>  74.0</td><td>173.0</td><td>  74.0</td><td>173.0</td></tr>\n\t<tr><td>Ryloth      </td><td>  55.0</td><td>178.0</td><td>  55.0</td><td>178.0</td></tr>\n\t<tr><td>Serenno     </td><td>  80.0</td><td>193.0</td><td>  80.0</td><td>193.0</td></tr>\n\t<tr><td>Socorro     </td><td>  79.0</td><td>177.0</td><td>  79.0</td><td>177.0</td></tr>\n\t<tr><td>Stewjon     </td><td>  77.0</td><td>182.0</td><td>  77.0</td><td>182.0</td></tr>\n\t<tr><td>Tatooine    </td><td>  70.0</td><td>178.0</td><td>  75.0</td><td>178.0</td></tr>\n\t<tr><td>Trandosha   </td><td> 113.0</td><td>190.0</td><td> 113.0</td><td>190.0</td></tr>\n\t<tr><td>NA          </td><td>  53.0</td><td>129.5</td><td>  53.0</td><td>129.5</td></tr>\n</tbody>\n</table>\n",
      "text/markdown": "\nA tibble: 24 × 5\n\n| homeworld &lt;chr&gt; | mass_mean &lt;dbl&gt; | height_mean &lt;dbl&gt; | mass_median &lt;dbl&gt; | height_median &lt;dbl&gt; |\n|---|---|---|---|---|\n| Alderaan     |    0.0 | 191.0 |    0.0 | 191.0 |\n| Bespin       |   79.0 | 175.0 |   79.0 | 175.0 |\n| Cerea        |   82.0 | 198.0 |   82.0 | 198.0 |\n| Chandrila    |    0.0 | 150.0 |    0.0 | 150.0 |\n| Concord Dawn |   79.0 | 183.0 |   79.0 | 183.0 |\n| Corellia     |   80.0 | 180.0 |   80.0 | 180.0 |\n| Coruscant    |    0.0 | 170.0 |    0.0 | 170.0 |\n| Dathomir     |   80.0 | 175.0 |   80.0 | 175.0 |\n| Eriadu       |    0.0 | 180.0 |    0.0 | 180.0 |\n| Haruun Kal   |   84.0 | 188.0 |   84.0 | 188.0 |\n| Kamino       |   78.2 | 183.0 |   78.2 | 183.0 |\n| Kashyyyk     |  112.0 | 228.0 |  112.0 | 228.0 |\n| Mirial       |   53.1 | 168.0 |   53.1 | 168.0 |\n| Mon Cala     |   83.0 | 180.0 |   83.0 | 180.0 |\n| Naboo        |   43.6 | 162.0 |   45.0 | 170.0 |\n| Nal Hutta    | 1358.0 | 175.0 | 1358.0 | 175.0 |\n| Rodia        |   74.0 | 173.0 |   74.0 | 173.0 |\n| Ryloth       |   55.0 | 178.0 |   55.0 | 178.0 |\n| Serenno      |   80.0 | 193.0 |   80.0 | 193.0 |\n| Socorro      |   79.0 | 177.0 |   79.0 | 177.0 |\n| Stewjon      |   77.0 | 182.0 |   77.0 | 182.0 |\n| Tatooine     |   70.0 | 178.0 |   75.0 | 178.0 |\n| Trandosha    |  113.0 | 190.0 |  113.0 | 190.0 |\n| NA           |   53.0 | 129.5 |   53.0 | 129.5 |\n\n",
      "text/latex": "A tibble: 24 × 5\n\\begin{tabular}{lllll}\n homeworld & mass\\_mean & height\\_mean & mass\\_median & height\\_median\\\\\n <chr> & <dbl> & <dbl> & <dbl> & <dbl>\\\\\n\\hline\n\t Alderaan     &    0.0 & 191.0 &    0.0 & 191.0\\\\\n\t Bespin       &   79.0 & 175.0 &   79.0 & 175.0\\\\\n\t Cerea        &   82.0 & 198.0 &   82.0 & 198.0\\\\\n\t Chandrila    &    0.0 & 150.0 &    0.0 & 150.0\\\\\n\t Concord Dawn &   79.0 & 183.0 &   79.0 & 183.0\\\\\n\t Corellia     &   80.0 & 180.0 &   80.0 & 180.0\\\\\n\t Coruscant    &    0.0 & 170.0 &    0.0 & 170.0\\\\\n\t Dathomir     &   80.0 & 175.0 &   80.0 & 175.0\\\\\n\t Eriadu       &    0.0 & 180.0 &    0.0 & 180.0\\\\\n\t Haruun Kal   &   84.0 & 188.0 &   84.0 & 188.0\\\\\n\t Kamino       &   78.2 & 183.0 &   78.2 & 183.0\\\\\n\t Kashyyyk     &  112.0 & 228.0 &  112.0 & 228.0\\\\\n\t Mirial       &   53.1 & 168.0 &   53.1 & 168.0\\\\\n\t Mon Cala     &   83.0 & 180.0 &   83.0 & 180.0\\\\\n\t Naboo        &   43.6 & 162.0 &   45.0 & 170.0\\\\\n\t Nal Hutta    & 1358.0 & 175.0 & 1358.0 & 175.0\\\\\n\t Rodia        &   74.0 & 173.0 &   74.0 & 173.0\\\\\n\t Ryloth       &   55.0 & 178.0 &   55.0 & 178.0\\\\\n\t Serenno      &   80.0 & 193.0 &   80.0 & 193.0\\\\\n\t Socorro      &   79.0 & 177.0 &   79.0 & 177.0\\\\\n\t Stewjon      &   77.0 & 182.0 &   77.0 & 182.0\\\\\n\t Tatooine     &   70.0 & 178.0 &   75.0 & 178.0\\\\\n\t Trandosha    &  113.0 & 190.0 &  113.0 & 190.0\\\\\n\t NA           &   53.0 & 129.5 &   53.0 & 129.5\\\\\n\\end{tabular}\n",
      "text/plain": "   homeworld    mass_mean height_mean mass_median height_median\n1  Alderaan        0.0    191.0          0.0      191.0        \n2  Bespin         79.0    175.0         79.0      175.0        \n3  Cerea          82.0    198.0         82.0      198.0        \n4  Chandrila       0.0    150.0          0.0      150.0        \n5  Concord Dawn   79.0    183.0         79.0      183.0        \n6  Corellia       80.0    180.0         80.0      180.0        \n7  Coruscant       0.0    170.0          0.0      170.0        \n8  Dathomir       80.0    175.0         80.0      175.0        \n9  Eriadu          0.0    180.0          0.0      180.0        \n10 Haruun Kal     84.0    188.0         84.0      188.0        \n11 Kamino         78.2    183.0         78.2      183.0        \n12 Kashyyyk      112.0    228.0        112.0      228.0        \n13 Mirial         53.1    168.0         53.1      168.0        \n14 Mon Cala       83.0    180.0         83.0      180.0        \n15 Naboo          43.6    162.0         45.0      170.0        \n16 Nal Hutta    1358.0    175.0       1358.0      175.0        \n17 Rodia          74.0    173.0         74.0      173.0        \n18 Ryloth         55.0    178.0         55.0      178.0        \n19 Serenno        80.0    193.0         80.0      193.0        \n20 Socorro        79.0    177.0         79.0      177.0        \n21 Stewjon        77.0    182.0         77.0      182.0        \n22 Tatooine       70.0    178.0         75.0      178.0        \n23 Trandosha     113.0    190.0        113.0      190.0        \n24 NA             53.0    129.5         53.0      129.5        "
     },
     "metadata": {},
     "output_type": "display_data"
    }
   ],
   "source": [
    "obj %>% \n",
    "dplyr::summarise_at( .vars = c(\"mass\", \"height\"), .funs = c(mean = mean, median = median))"
   ],
   "metadata": {
    "collapsed": false,
    "pycharm": {
     "name": "#%%\n"
    }
   }
  },
  {
   "cell_type": "markdown",
   "source": [
    "\n",
    "------\n",
    "\n",
    "## Joins\n",
    "\n",
    "In this section we demonstrate the fundamental operation of joining two datasets.\n",
    "\n",
    "### Code generation\n"
   ],
   "metadata": {
    "collapsed": false,
    "pycharm": {
     "name": "#%% md\n"
    }
   }
  },
  {
   "cell_type": "code",
   "execution_count": 38,
   "outputs": [],
   "source": [
    "command5 = \"\n",
    "use dfStarwarsFilms;\n",
    "left join with dfStarwars by 'name';\n",
    "sort by name, film desc;\n",
    "take pipeline value\n",
    "\""
   ],
   "metadata": {
    "collapsed": false,
    "pycharm": {
     "name": "#%%\n"
    }
   }
  },
  {
   "cell_type": "code",
   "execution_count": 39,
   "outputs": [
    {
     "data": {
      "text/html": "<style>\n.list-inline {list-style: none; margin:0; padding: 0}\n.list-inline>li {display: inline-block}\n.list-inline>li:not(:last-child)::after {content: \"\\00b7\"; padding: 0 .5ex}\n</style>\n<ol class=list-inline><li>'dfStarwarsFilms %&gt;%'</li><li>'dplyr::left_join(dfStarwars, by = c(\"name\")) %&gt;%'</li><li>'dplyr::arrange(desc(name), desc(film)) %&gt;%'</li><li>'as.data.frame()'</li></ol>\n",
      "text/markdown": "1. 'dfStarwarsFilms %&gt;%'\n2. 'dplyr::left_join(dfStarwars, by = c(\"name\")) %&gt;%'\n3. 'dplyr::arrange(desc(name), desc(film)) %&gt;%'\n4. 'as.data.frame()'\n\n\n",
      "text/latex": "\\begin{enumerate*}\n\\item 'dfStarwarsFilms \\%>\\%'\n\\item 'dplyr::left\\_join(dfStarwars, by = c(\"name\")) \\%>\\%'\n\\item 'dplyr::arrange(desc(name), desc(film)) \\%>\\%'\n\\item 'as.data.frame()'\n\\end{enumerate*}\n",
      "text/plain": "[1] \"dfStarwarsFilms %>%\"                                \"dplyr::left_join(dfStarwars, by = c(\\\"name\\\")) %>%\"\n[3] \"dplyr::arrange(desc(name), desc(film)) %>%\"         \"as.data.frame()\"                                   "
     },
     "metadata": {},
     "output_type": "display_data"
    }
   ],
   "source": [
    "FromDSL(command5)"
   ],
   "metadata": {
    "collapsed": false,
    "pycharm": {
     "name": "#%%\n"
    }
   }
  },
  {
   "cell_type": "markdown",
   "source": [
    "### Execution"
   ],
   "metadata": {
    "collapsed": false,
    "pycharm": {
     "name": "#%% md\n"
    }
   }
  },
  {
   "cell_type": "code",
   "execution_count": 40,
   "outputs": [
    {
     "data": {
      "text/html": "<table class=\"dataframe\">\n<caption>A data.frame: 173 × 12</caption>\n<thead>\n\t<tr><th scope=col>name</th><th scope=col>film</th><th scope=col>height</th><th scope=col>mass</th><th scope=col>hair_color</th><th scope=col>skin_color</th><th scope=col>eye_color</th><th scope=col>birth_year</th><th scope=col>sex</th><th scope=col>gender</th><th scope=col>homeworld</th><th scope=col>species</th></tr>\n\t<tr><th scope=col>&lt;chr&gt;</th><th scope=col>&lt;chr&gt;</th><th scope=col>&lt;int&gt;</th><th scope=col>&lt;dbl&gt;</th><th scope=col>&lt;chr&gt;</th><th scope=col>&lt;chr&gt;</th><th scope=col>&lt;chr&gt;</th><th scope=col>&lt;dbl&gt;</th><th scope=col>&lt;chr&gt;</th><th scope=col>&lt;chr&gt;</th><th scope=col>&lt;chr&gt;</th><th scope=col>&lt;chr&gt;</th></tr>\n</thead>\n<tbody>\n\t<tr><td>Zam Wesell           </td><td>Attack of the Clones   </td><td>168</td><td> 55</td><td>blonde      </td><td>fair, green, yellow</td><td>yellow </td><td> NA</td><td>female</td><td>feminine </td><td>Zolan     </td><td>Clawdite      </td></tr>\n\t<tr><td>Yoda                 </td><td>The Phantom Menace     </td><td> 66</td><td> 17</td><td>white       </td><td>green              </td><td>brown  </td><td>896</td><td>male  </td><td>masculine</td><td>NA        </td><td>Yoda's species</td></tr>\n\t<tr><td>Yoda                 </td><td>The Empire Strikes Back</td><td> 66</td><td> 17</td><td>white       </td><td>green              </td><td>brown  </td><td>896</td><td>male  </td><td>masculine</td><td>NA        </td><td>Yoda's species</td></tr>\n\t<tr><td>Yoda                 </td><td>Revenge of the Sith    </td><td> 66</td><td> 17</td><td>white       </td><td>green              </td><td>brown  </td><td>896</td><td>male  </td><td>masculine</td><td>NA        </td><td>Yoda's species</td></tr>\n\t<tr><td>Yoda                 </td><td>Return of the Jedi     </td><td> 66</td><td> 17</td><td>white       </td><td>green              </td><td>brown  </td><td>896</td><td>male  </td><td>masculine</td><td>NA        </td><td>Yoda's species</td></tr>\n\t<tr><td>Yoda                 </td><td>Attack of the Clones   </td><td> 66</td><td> 17</td><td>white       </td><td>green              </td><td>brown  </td><td>896</td><td>male  </td><td>masculine</td><td>NA        </td><td>Yoda's species</td></tr>\n\t<tr><td>Yarael Poof          </td><td>The Phantom Menace     </td><td>264</td><td> NA</td><td>none        </td><td>white              </td><td>yellow </td><td> NA</td><td>male  </td><td>masculine</td><td>Quermia   </td><td>Quermian      </td></tr>\n\t<tr><td>Wilhuff Tarkin       </td><td>Revenge of the Sith    </td><td>180</td><td> NA</td><td>auburn, grey</td><td>fair               </td><td>blue   </td><td> 64</td><td>male  </td><td>masculine</td><td>Eriadu    </td><td>Human         </td></tr>\n\t<tr><td>Wilhuff Tarkin       </td><td>A New Hope             </td><td>180</td><td> NA</td><td>auburn, grey</td><td>fair               </td><td>blue   </td><td> 64</td><td>male  </td><td>masculine</td><td>Eriadu    </td><td>Human         </td></tr>\n\t<tr><td>Wicket Systri Warrick</td><td>Return of the Jedi     </td><td> 88</td><td> 20</td><td>brown       </td><td>brown              </td><td>brown  </td><td>  8</td><td>male  </td><td>masculine</td><td>Endor     </td><td>Ewok          </td></tr>\n\t<tr><td>Wedge Antilles       </td><td>The Empire Strikes Back</td><td>170</td><td> 77</td><td>brown       </td><td>fair               </td><td>hazel  </td><td> 21</td><td>male  </td><td>masculine</td><td>Corellia  </td><td>Human         </td></tr>\n\t<tr><td>Wedge Antilles       </td><td>Return of the Jedi     </td><td>170</td><td> 77</td><td>brown       </td><td>fair               </td><td>hazel  </td><td> 21</td><td>male  </td><td>masculine</td><td>Corellia  </td><td>Human         </td></tr>\n\t<tr><td>Wedge Antilles       </td><td>A New Hope             </td><td>170</td><td> 77</td><td>brown       </td><td>fair               </td><td>hazel  </td><td> 21</td><td>male  </td><td>masculine</td><td>Corellia  </td><td>Human         </td></tr>\n\t<tr><td>Watto                </td><td>The Phantom Menace     </td><td>137</td><td> NA</td><td>black       </td><td>blue, grey         </td><td>yellow </td><td> NA</td><td>male  </td><td>masculine</td><td>Toydaria  </td><td>Toydarian     </td></tr>\n\t<tr><td>Watto                </td><td>Attack of the Clones   </td><td>137</td><td> NA</td><td>black       </td><td>blue, grey         </td><td>yellow </td><td> NA</td><td>male  </td><td>masculine</td><td>Toydaria  </td><td>Toydarian     </td></tr>\n\t<tr><td>Wat Tambor           </td><td>Attack of the Clones   </td><td>193</td><td> 48</td><td>none        </td><td>green, grey        </td><td>unknown</td><td> NA</td><td>male  </td><td>masculine</td><td>Skako     </td><td>Skakoan       </td></tr>\n\t<tr><td>Tion Medon           </td><td>Revenge of the Sith    </td><td>206</td><td> 80</td><td>none        </td><td>grey               </td><td>black  </td><td> NA</td><td>male  </td><td>masculine</td><td>Utapau    </td><td>Pau'an        </td></tr>\n\t<tr><td>Taun We              </td><td>Attack of the Clones   </td><td>213</td><td> NA</td><td>none        </td><td>grey               </td><td>black  </td><td> NA</td><td>female</td><td>feminine </td><td>Kamino    </td><td>Kaminoan      </td></tr>\n\t<tr><td>Tarfful              </td><td>Revenge of the Sith    </td><td>234</td><td>136</td><td>brown       </td><td>brown              </td><td>blue   </td><td> NA</td><td>male  </td><td>masculine</td><td>Kashyyyk  </td><td>Wookiee       </td></tr>\n\t<tr><td>Sly Moore            </td><td>Revenge of the Sith    </td><td>178</td><td> 48</td><td>none        </td><td>pale               </td><td>white  </td><td> NA</td><td>NA    </td><td>NA       </td><td>Umbara    </td><td>NA            </td></tr>\n\t<tr><td>Sly Moore            </td><td>Attack of the Clones   </td><td>178</td><td> 48</td><td>none        </td><td>pale               </td><td>white  </td><td> NA</td><td>NA    </td><td>NA       </td><td>Umbara    </td><td>NA            </td></tr>\n\t<tr><td>Shmi Skywalker       </td><td>The Phantom Menace     </td><td>163</td><td> NA</td><td>black       </td><td>fair               </td><td>brown  </td><td> 72</td><td>female</td><td>feminine </td><td>Tatooine  </td><td>Human         </td></tr>\n\t<tr><td>Shmi Skywalker       </td><td>Attack of the Clones   </td><td>163</td><td> NA</td><td>black       </td><td>fair               </td><td>brown  </td><td> 72</td><td>female</td><td>feminine </td><td>Tatooine  </td><td>Human         </td></tr>\n\t<tr><td>Shaak Ti             </td><td>Revenge of the Sith    </td><td>178</td><td> 57</td><td>none        </td><td>red, blue, white   </td><td>black  </td><td> NA</td><td>female</td><td>feminine </td><td>Shili     </td><td>Togruta       </td></tr>\n\t<tr><td>Shaak Ti             </td><td>Attack of the Clones   </td><td>178</td><td> 57</td><td>none        </td><td>red, blue, white   </td><td>black  </td><td> NA</td><td>female</td><td>feminine </td><td>Shili     </td><td>Togruta       </td></tr>\n\t<tr><td>Sebulba              </td><td>The Phantom Menace     </td><td>112</td><td> 40</td><td>none        </td><td>grey, red          </td><td>orange </td><td> NA</td><td>male  </td><td>masculine</td><td>Malastare </td><td>Dug           </td></tr>\n\t<tr><td>San Hill             </td><td>Attack of the Clones   </td><td>191</td><td> NA</td><td>none        </td><td>grey               </td><td>gold   </td><td> NA</td><td>male  </td><td>masculine</td><td>Muunilinst</td><td>Muun          </td></tr>\n\t<tr><td>Saesee Tiin          </td><td>The Phantom Menace     </td><td>188</td><td> NA</td><td>none        </td><td>pale               </td><td>orange </td><td> NA</td><td>male  </td><td>masculine</td><td>Iktotch   </td><td>Iktotchi      </td></tr>\n\t<tr><td>Saesee Tiin          </td><td>Revenge of the Sith    </td><td>188</td><td> NA</td><td>none        </td><td>pale               </td><td>orange </td><td> NA</td><td>male  </td><td>masculine</td><td>Iktotch   </td><td>Iktotchi      </td></tr>\n\t<tr><td>Rugor Nass           </td><td>The Phantom Menace     </td><td>206</td><td> NA</td><td>none        </td><td>green              </td><td>orange </td><td> NA</td><td>male  </td><td>masculine</td><td>Naboo     </td><td>Gungan        </td></tr>\n\t<tr><td>⋮</td><td>⋮</td><td>⋮</td><td>⋮</td><td>⋮</td><td>⋮</td><td>⋮</td><td>⋮</td><td>⋮</td><td>⋮</td><td>⋮</td><td>⋮</td></tr>\n\t<tr><td>C-3PO              </td><td>The Empire Strikes Back</td><td>167</td><td> 75.0</td><td>NA   </td><td>gold               </td><td>yellow</td><td>112.0</td><td>none  </td><td>masculine</td><td>Tatooine </td><td>Droid       </td></tr>\n\t<tr><td>C-3PO              </td><td>Revenge of the Sith    </td><td>167</td><td> 75.0</td><td>NA   </td><td>gold               </td><td>yellow</td><td>112.0</td><td>none  </td><td>masculine</td><td>Tatooine </td><td>Droid       </td></tr>\n\t<tr><td>C-3PO              </td><td>Return of the Jedi     </td><td>167</td><td> 75.0</td><td>NA   </td><td>gold               </td><td>yellow</td><td>112.0</td><td>none  </td><td>masculine</td><td>Tatooine </td><td>Droid       </td></tr>\n\t<tr><td>C-3PO              </td><td>Attack of the Clones   </td><td>167</td><td> 75.0</td><td>NA   </td><td>gold               </td><td>yellow</td><td>112.0</td><td>none  </td><td>masculine</td><td>Tatooine </td><td>Droid       </td></tr>\n\t<tr><td>C-3PO              </td><td>A New Hope             </td><td>167</td><td> 75.0</td><td>NA   </td><td>gold               </td><td>yellow</td><td>112.0</td><td>none  </td><td>masculine</td><td>Tatooine </td><td>Droid       </td></tr>\n\t<tr><td>Bossk              </td><td>The Empire Strikes Back</td><td>190</td><td>113.0</td><td>none </td><td>green              </td><td>red   </td><td> 53.0</td><td>male  </td><td>masculine</td><td>Trandosha</td><td>Trandoshan  </td></tr>\n\t<tr><td>Boba Fett          </td><td>The Empire Strikes Back</td><td>183</td><td> 78.2</td><td>black</td><td>fair               </td><td>brown </td><td> 31.5</td><td>male  </td><td>masculine</td><td>Kamino   </td><td>Human       </td></tr>\n\t<tr><td>Boba Fett          </td><td>Return of the Jedi     </td><td>183</td><td> 78.2</td><td>black</td><td>fair               </td><td>brown </td><td> 31.5</td><td>male  </td><td>masculine</td><td>Kamino   </td><td>Human       </td></tr>\n\t<tr><td>Boba Fett          </td><td>Attack of the Clones   </td><td>183</td><td> 78.2</td><td>black</td><td>fair               </td><td>brown </td><td> 31.5</td><td>male  </td><td>masculine</td><td>Kamino   </td><td>Human       </td></tr>\n\t<tr><td>Biggs Darklighter  </td><td>A New Hope             </td><td>183</td><td> 84.0</td><td>black</td><td>light              </td><td>brown </td><td> 24.0</td><td>male  </td><td>masculine</td><td>Tatooine </td><td>Human       </td></tr>\n\t<tr><td>Bib Fortuna        </td><td>Return of the Jedi     </td><td>180</td><td>   NA</td><td>none </td><td>pale               </td><td>pink  </td><td>   NA</td><td>male  </td><td>masculine</td><td>Ryloth   </td><td>Twi'lek     </td></tr>\n\t<tr><td>Beru Whitesun lars </td><td>Revenge of the Sith    </td><td>165</td><td> 75.0</td><td>brown</td><td>light              </td><td>blue  </td><td> 47.0</td><td>female</td><td>feminine </td><td>Tatooine </td><td>Human       </td></tr>\n\t<tr><td>Beru Whitesun lars </td><td>Attack of the Clones   </td><td>165</td><td> 75.0</td><td>brown</td><td>light              </td><td>blue  </td><td> 47.0</td><td>female</td><td>feminine </td><td>Tatooine </td><td>Human       </td></tr>\n\t<tr><td>Beru Whitesun lars </td><td>A New Hope             </td><td>165</td><td> 75.0</td><td>brown</td><td>light              </td><td>blue  </td><td> 47.0</td><td>female</td><td>feminine </td><td>Tatooine </td><td>Human       </td></tr>\n\t<tr><td>Ben Quadinaros     </td><td>The Phantom Menace     </td><td>163</td><td> 65.0</td><td>none </td><td>grey, green, yellow</td><td>orange</td><td>   NA</td><td>male  </td><td>masculine</td><td>Tund     </td><td>Toong       </td></tr>\n\t<tr><td>BB8                </td><td>The Force Awakens      </td><td> NA</td><td>   NA</td><td>none </td><td>none               </td><td>black </td><td>   NA</td><td>none  </td><td>masculine</td><td>NA       </td><td>Droid       </td></tr>\n\t<tr><td>Barriss Offee      </td><td>Attack of the Clones   </td><td>166</td><td> 50.0</td><td>black</td><td>yellow             </td><td>blue  </td><td> 40.0</td><td>female</td><td>feminine </td><td>Mirial   </td><td>Mirialan    </td></tr>\n\t<tr><td>Bail Prestor Organa</td><td>Revenge of the Sith    </td><td>191</td><td>   NA</td><td>black</td><td>tan                </td><td>brown </td><td> 67.0</td><td>male  </td><td>masculine</td><td>Alderaan </td><td>Human       </td></tr>\n\t<tr><td>Bail Prestor Organa</td><td>Attack of the Clones   </td><td>191</td><td>   NA</td><td>black</td><td>tan                </td><td>brown </td><td> 67.0</td><td>male  </td><td>masculine</td><td>Alderaan </td><td>Human       </td></tr>\n\t<tr><td>Ayla Secura        </td><td>The Phantom Menace     </td><td>178</td><td> 55.0</td><td>none </td><td>blue               </td><td>hazel </td><td> 48.0</td><td>female</td><td>feminine </td><td>Ryloth   </td><td>Twi'lek     </td></tr>\n\t<tr><td>Ayla Secura        </td><td>Revenge of the Sith    </td><td>178</td><td> 55.0</td><td>none </td><td>blue               </td><td>hazel </td><td> 48.0</td><td>female</td><td>feminine </td><td>Ryloth   </td><td>Twi'lek     </td></tr>\n\t<tr><td>Ayla Secura        </td><td>Attack of the Clones   </td><td>178</td><td> 55.0</td><td>none </td><td>blue               </td><td>hazel </td><td> 48.0</td><td>female</td><td>feminine </td><td>Ryloth   </td><td>Twi'lek     </td></tr>\n\t<tr><td>Arvel Crynyd       </td><td>Return of the Jedi     </td><td> NA</td><td>   NA</td><td>brown</td><td>fair               </td><td>brown </td><td>   NA</td><td>male  </td><td>masculine</td><td>NA       </td><td>Human       </td></tr>\n\t<tr><td>Anakin Skywalker   </td><td>The Phantom Menace     </td><td>188</td><td> 84.0</td><td>blond</td><td>fair               </td><td>blue  </td><td> 41.9</td><td>male  </td><td>masculine</td><td>Tatooine </td><td>Human       </td></tr>\n\t<tr><td>Anakin Skywalker   </td><td>Revenge of the Sith    </td><td>188</td><td> 84.0</td><td>blond</td><td>fair               </td><td>blue  </td><td> 41.9</td><td>male  </td><td>masculine</td><td>Tatooine </td><td>Human       </td></tr>\n\t<tr><td>Anakin Skywalker   </td><td>Attack of the Clones   </td><td>188</td><td> 84.0</td><td>blond</td><td>fair               </td><td>blue  </td><td> 41.9</td><td>male  </td><td>masculine</td><td>Tatooine </td><td>Human       </td></tr>\n\t<tr><td>Adi Gallia         </td><td>The Phantom Menace     </td><td>184</td><td> 50.0</td><td>none </td><td>dark               </td><td>blue  </td><td>   NA</td><td>female</td><td>feminine </td><td>Coruscant</td><td>Tholothian  </td></tr>\n\t<tr><td>Adi Gallia         </td><td>Revenge of the Sith    </td><td>184</td><td> 50.0</td><td>none </td><td>dark               </td><td>blue  </td><td>   NA</td><td>female</td><td>feminine </td><td>Coruscant</td><td>Tholothian  </td></tr>\n\t<tr><td>Ackbar             </td><td>The Force Awakens      </td><td>180</td><td> 83.0</td><td>none </td><td>brown mottle       </td><td>orange</td><td> 41.0</td><td>male  </td><td>masculine</td><td>Mon Cala </td><td>Mon Calamari</td></tr>\n\t<tr><td>Ackbar             </td><td>Return of the Jedi     </td><td>180</td><td> 83.0</td><td>none </td><td>brown mottle       </td><td>orange</td><td> 41.0</td><td>male  </td><td>masculine</td><td>Mon Cala </td><td>Mon Calamari</td></tr>\n</tbody>\n</table>\n",
      "text/markdown": "\nA data.frame: 173 × 12\n\n| name &lt;chr&gt; | film &lt;chr&gt; | height &lt;int&gt; | mass &lt;dbl&gt; | hair_color &lt;chr&gt; | skin_color &lt;chr&gt; | eye_color &lt;chr&gt; | birth_year &lt;dbl&gt; | sex &lt;chr&gt; | gender &lt;chr&gt; | homeworld &lt;chr&gt; | species &lt;chr&gt; |\n|---|---|---|---|---|---|---|---|---|---|---|---|\n| Zam Wesell            | Attack of the Clones    | 168 |  55 | blonde       | fair, green, yellow | yellow  |  NA | female | feminine  | Zolan      | Clawdite       |\n| Yoda                  | The Phantom Menace      |  66 |  17 | white        | green               | brown   | 896 | male   | masculine | NA         | Yoda's species |\n| Yoda                  | The Empire Strikes Back |  66 |  17 | white        | green               | brown   | 896 | male   | masculine | NA         | Yoda's species |\n| Yoda                  | Revenge of the Sith     |  66 |  17 | white        | green               | brown   | 896 | male   | masculine | NA         | Yoda's species |\n| Yoda                  | Return of the Jedi      |  66 |  17 | white        | green               | brown   | 896 | male   | masculine | NA         | Yoda's species |\n| Yoda                  | Attack of the Clones    |  66 |  17 | white        | green               | brown   | 896 | male   | masculine | NA         | Yoda's species |\n| Yarael Poof           | The Phantom Menace      | 264 |  NA | none         | white               | yellow  |  NA | male   | masculine | Quermia    | Quermian       |\n| Wilhuff Tarkin        | Revenge of the Sith     | 180 |  NA | auburn, grey | fair                | blue    |  64 | male   | masculine | Eriadu     | Human          |\n| Wilhuff Tarkin        | A New Hope              | 180 |  NA | auburn, grey | fair                | blue    |  64 | male   | masculine | Eriadu     | Human          |\n| Wicket Systri Warrick | Return of the Jedi      |  88 |  20 | brown        | brown               | brown   |   8 | male   | masculine | Endor      | Ewok           |\n| Wedge Antilles        | The Empire Strikes Back | 170 |  77 | brown        | fair                | hazel   |  21 | male   | masculine | Corellia   | Human          |\n| Wedge Antilles        | Return of the Jedi      | 170 |  77 | brown        | fair                | hazel   |  21 | male   | masculine | Corellia   | Human          |\n| Wedge Antilles        | A New Hope              | 170 |  77 | brown        | fair                | hazel   |  21 | male   | masculine | Corellia   | Human          |\n| Watto                 | The Phantom Menace      | 137 |  NA | black        | blue, grey          | yellow  |  NA | male   | masculine | Toydaria   | Toydarian      |\n| Watto                 | Attack of the Clones    | 137 |  NA | black        | blue, grey          | yellow  |  NA | male   | masculine | Toydaria   | Toydarian      |\n| Wat Tambor            | Attack of the Clones    | 193 |  48 | none         | green, grey         | unknown |  NA | male   | masculine | Skako      | Skakoan        |\n| Tion Medon            | Revenge of the Sith     | 206 |  80 | none         | grey                | black   |  NA | male   | masculine | Utapau     | Pau'an         |\n| Taun We               | Attack of the Clones    | 213 |  NA | none         | grey                | black   |  NA | female | feminine  | Kamino     | Kaminoan       |\n| Tarfful               | Revenge of the Sith     | 234 | 136 | brown        | brown               | blue    |  NA | male   | masculine | Kashyyyk   | Wookiee        |\n| Sly Moore             | Revenge of the Sith     | 178 |  48 | none         | pale                | white   |  NA | NA     | NA        | Umbara     | NA             |\n| Sly Moore             | Attack of the Clones    | 178 |  48 | none         | pale                | white   |  NA | NA     | NA        | Umbara     | NA             |\n| Shmi Skywalker        | The Phantom Menace      | 163 |  NA | black        | fair                | brown   |  72 | female | feminine  | Tatooine   | Human          |\n| Shmi Skywalker        | Attack of the Clones    | 163 |  NA | black        | fair                | brown   |  72 | female | feminine  | Tatooine   | Human          |\n| Shaak Ti              | Revenge of the Sith     | 178 |  57 | none         | red, blue, white    | black   |  NA | female | feminine  | Shili      | Togruta        |\n| Shaak Ti              | Attack of the Clones    | 178 |  57 | none         | red, blue, white    | black   |  NA | female | feminine  | Shili      | Togruta        |\n| Sebulba               | The Phantom Menace      | 112 |  40 | none         | grey, red           | orange  |  NA | male   | masculine | Malastare  | Dug            |\n| San Hill              | Attack of the Clones    | 191 |  NA | none         | grey                | gold    |  NA | male   | masculine | Muunilinst | Muun           |\n| Saesee Tiin           | The Phantom Menace      | 188 |  NA | none         | pale                | orange  |  NA | male   | masculine | Iktotch    | Iktotchi       |\n| Saesee Tiin           | Revenge of the Sith     | 188 |  NA | none         | pale                | orange  |  NA | male   | masculine | Iktotch    | Iktotchi       |\n| Rugor Nass            | The Phantom Menace      | 206 |  NA | none         | green               | orange  |  NA | male   | masculine | Naboo      | Gungan         |\n| ⋮ | ⋮ | ⋮ | ⋮ | ⋮ | ⋮ | ⋮ | ⋮ | ⋮ | ⋮ | ⋮ | ⋮ |\n| C-3PO               | The Empire Strikes Back | 167 |  75.0 | NA    | gold                | yellow | 112.0 | none   | masculine | Tatooine  | Droid        |\n| C-3PO               | Revenge of the Sith     | 167 |  75.0 | NA    | gold                | yellow | 112.0 | none   | masculine | Tatooine  | Droid        |\n| C-3PO               | Return of the Jedi      | 167 |  75.0 | NA    | gold                | yellow | 112.0 | none   | masculine | Tatooine  | Droid        |\n| C-3PO               | Attack of the Clones    | 167 |  75.0 | NA    | gold                | yellow | 112.0 | none   | masculine | Tatooine  | Droid        |\n| C-3PO               | A New Hope              | 167 |  75.0 | NA    | gold                | yellow | 112.0 | none   | masculine | Tatooine  | Droid        |\n| Bossk               | The Empire Strikes Back | 190 | 113.0 | none  | green               | red    |  53.0 | male   | masculine | Trandosha | Trandoshan   |\n| Boba Fett           | The Empire Strikes Back | 183 |  78.2 | black | fair                | brown  |  31.5 | male   | masculine | Kamino    | Human        |\n| Boba Fett           | Return of the Jedi      | 183 |  78.2 | black | fair                | brown  |  31.5 | male   | masculine | Kamino    | Human        |\n| Boba Fett           | Attack of the Clones    | 183 |  78.2 | black | fair                | brown  |  31.5 | male   | masculine | Kamino    | Human        |\n| Biggs Darklighter   | A New Hope              | 183 |  84.0 | black | light               | brown  |  24.0 | male   | masculine | Tatooine  | Human        |\n| Bib Fortuna         | Return of the Jedi      | 180 |    NA | none  | pale                | pink   |    NA | male   | masculine | Ryloth    | Twi'lek      |\n| Beru Whitesun lars  | Revenge of the Sith     | 165 |  75.0 | brown | light               | blue   |  47.0 | female | feminine  | Tatooine  | Human        |\n| Beru Whitesun lars  | Attack of the Clones    | 165 |  75.0 | brown | light               | blue   |  47.0 | female | feminine  | Tatooine  | Human        |\n| Beru Whitesun lars  | A New Hope              | 165 |  75.0 | brown | light               | blue   |  47.0 | female | feminine  | Tatooine  | Human        |\n| Ben Quadinaros      | The Phantom Menace      | 163 |  65.0 | none  | grey, green, yellow | orange |    NA | male   | masculine | Tund      | Toong        |\n| BB8                 | The Force Awakens       |  NA |    NA | none  | none                | black  |    NA | none   | masculine | NA        | Droid        |\n| Barriss Offee       | Attack of the Clones    | 166 |  50.0 | black | yellow              | blue   |  40.0 | female | feminine  | Mirial    | Mirialan     |\n| Bail Prestor Organa | Revenge of the Sith     | 191 |    NA | black | tan                 | brown  |  67.0 | male   | masculine | Alderaan  | Human        |\n| Bail Prestor Organa | Attack of the Clones    | 191 |    NA | black | tan                 | brown  |  67.0 | male   | masculine | Alderaan  | Human        |\n| Ayla Secura         | The Phantom Menace      | 178 |  55.0 | none  | blue                | hazel  |  48.0 | female | feminine  | Ryloth    | Twi'lek      |\n| Ayla Secura         | Revenge of the Sith     | 178 |  55.0 | none  | blue                | hazel  |  48.0 | female | feminine  | Ryloth    | Twi'lek      |\n| Ayla Secura         | Attack of the Clones    | 178 |  55.0 | none  | blue                | hazel  |  48.0 | female | feminine  | Ryloth    | Twi'lek      |\n| Arvel Crynyd        | Return of the Jedi      |  NA |    NA | brown | fair                | brown  |    NA | male   | masculine | NA        | Human        |\n| Anakin Skywalker    | The Phantom Menace      | 188 |  84.0 | blond | fair                | blue   |  41.9 | male   | masculine | Tatooine  | Human        |\n| Anakin Skywalker    | Revenge of the Sith     | 188 |  84.0 | blond | fair                | blue   |  41.9 | male   | masculine | Tatooine  | Human        |\n| Anakin Skywalker    | Attack of the Clones    | 188 |  84.0 | blond | fair                | blue   |  41.9 | male   | masculine | Tatooine  | Human        |\n| Adi Gallia          | The Phantom Menace      | 184 |  50.0 | none  | dark                | blue   |    NA | female | feminine  | Coruscant | Tholothian   |\n| Adi Gallia          | Revenge of the Sith     | 184 |  50.0 | none  | dark                | blue   |    NA | female | feminine  | Coruscant | Tholothian   |\n| Ackbar              | The Force Awakens       | 180 |  83.0 | none  | brown mottle        | orange |  41.0 | male   | masculine | Mon Cala  | Mon Calamari |\n| Ackbar              | Return of the Jedi      | 180 |  83.0 | none  | brown mottle        | orange |  41.0 | male   | masculine | Mon Cala  | Mon Calamari |\n\n",
      "text/latex": "A data.frame: 173 × 12\n\\begin{tabular}{llllllllllll}\n name & film & height & mass & hair\\_color & skin\\_color & eye\\_color & birth\\_year & sex & gender & homeworld & species\\\\\n <chr> & <chr> & <int> & <dbl> & <chr> & <chr> & <chr> & <dbl> & <chr> & <chr> & <chr> & <chr>\\\\\n\\hline\n\t Zam Wesell            & Attack of the Clones    & 168 &  55 & blonde       & fair, green, yellow & yellow  &  NA & female & feminine  & Zolan      & Clawdite      \\\\\n\t Yoda                  & The Phantom Menace      &  66 &  17 & white        & green               & brown   & 896 & male   & masculine & NA         & Yoda's species\\\\\n\t Yoda                  & The Empire Strikes Back &  66 &  17 & white        & green               & brown   & 896 & male   & masculine & NA         & Yoda's species\\\\\n\t Yoda                  & Revenge of the Sith     &  66 &  17 & white        & green               & brown   & 896 & male   & masculine & NA         & Yoda's species\\\\\n\t Yoda                  & Return of the Jedi      &  66 &  17 & white        & green               & brown   & 896 & male   & masculine & NA         & Yoda's species\\\\\n\t Yoda                  & Attack of the Clones    &  66 &  17 & white        & green               & brown   & 896 & male   & masculine & NA         & Yoda's species\\\\\n\t Yarael Poof           & The Phantom Menace      & 264 &  NA & none         & white               & yellow  &  NA & male   & masculine & Quermia    & Quermian      \\\\\n\t Wilhuff Tarkin        & Revenge of the Sith     & 180 &  NA & auburn, grey & fair                & blue    &  64 & male   & masculine & Eriadu     & Human         \\\\\n\t Wilhuff Tarkin        & A New Hope              & 180 &  NA & auburn, grey & fair                & blue    &  64 & male   & masculine & Eriadu     & Human         \\\\\n\t Wicket Systri Warrick & Return of the Jedi      &  88 &  20 & brown        & brown               & brown   &   8 & male   & masculine & Endor      & Ewok          \\\\\n\t Wedge Antilles        & The Empire Strikes Back & 170 &  77 & brown        & fair                & hazel   &  21 & male   & masculine & Corellia   & Human         \\\\\n\t Wedge Antilles        & Return of the Jedi      & 170 &  77 & brown        & fair                & hazel   &  21 & male   & masculine & Corellia   & Human         \\\\\n\t Wedge Antilles        & A New Hope              & 170 &  77 & brown        & fair                & hazel   &  21 & male   & masculine & Corellia   & Human         \\\\\n\t Watto                 & The Phantom Menace      & 137 &  NA & black        & blue, grey          & yellow  &  NA & male   & masculine & Toydaria   & Toydarian     \\\\\n\t Watto                 & Attack of the Clones    & 137 &  NA & black        & blue, grey          & yellow  &  NA & male   & masculine & Toydaria   & Toydarian     \\\\\n\t Wat Tambor            & Attack of the Clones    & 193 &  48 & none         & green, grey         & unknown &  NA & male   & masculine & Skako      & Skakoan       \\\\\n\t Tion Medon            & Revenge of the Sith     & 206 &  80 & none         & grey                & black   &  NA & male   & masculine & Utapau     & Pau'an        \\\\\n\t Taun We               & Attack of the Clones    & 213 &  NA & none         & grey                & black   &  NA & female & feminine  & Kamino     & Kaminoan      \\\\\n\t Tarfful               & Revenge of the Sith     & 234 & 136 & brown        & brown               & blue    &  NA & male   & masculine & Kashyyyk   & Wookiee       \\\\\n\t Sly Moore             & Revenge of the Sith     & 178 &  48 & none         & pale                & white   &  NA & NA     & NA        & Umbara     & NA            \\\\\n\t Sly Moore             & Attack of the Clones    & 178 &  48 & none         & pale                & white   &  NA & NA     & NA        & Umbara     & NA            \\\\\n\t Shmi Skywalker        & The Phantom Menace      & 163 &  NA & black        & fair                & brown   &  72 & female & feminine  & Tatooine   & Human         \\\\\n\t Shmi Skywalker        & Attack of the Clones    & 163 &  NA & black        & fair                & brown   &  72 & female & feminine  & Tatooine   & Human         \\\\\n\t Shaak Ti              & Revenge of the Sith     & 178 &  57 & none         & red, blue, white    & black   &  NA & female & feminine  & Shili      & Togruta       \\\\\n\t Shaak Ti              & Attack of the Clones    & 178 &  57 & none         & red, blue, white    & black   &  NA & female & feminine  & Shili      & Togruta       \\\\\n\t Sebulba               & The Phantom Menace      & 112 &  40 & none         & grey, red           & orange  &  NA & male   & masculine & Malastare  & Dug           \\\\\n\t San Hill              & Attack of the Clones    & 191 &  NA & none         & grey                & gold    &  NA & male   & masculine & Muunilinst & Muun          \\\\\n\t Saesee Tiin           & The Phantom Menace      & 188 &  NA & none         & pale                & orange  &  NA & male   & masculine & Iktotch    & Iktotchi      \\\\\n\t Saesee Tiin           & Revenge of the Sith     & 188 &  NA & none         & pale                & orange  &  NA & male   & masculine & Iktotch    & Iktotchi      \\\\\n\t Rugor Nass            & The Phantom Menace      & 206 &  NA & none         & green               & orange  &  NA & male   & masculine & Naboo      & Gungan        \\\\\n\t ⋮ & ⋮ & ⋮ & ⋮ & ⋮ & ⋮ & ⋮ & ⋮ & ⋮ & ⋮ & ⋮ & ⋮\\\\\n\t C-3PO               & The Empire Strikes Back & 167 &  75.0 & NA    & gold                & yellow & 112.0 & none   & masculine & Tatooine  & Droid       \\\\\n\t C-3PO               & Revenge of the Sith     & 167 &  75.0 & NA    & gold                & yellow & 112.0 & none   & masculine & Tatooine  & Droid       \\\\\n\t C-3PO               & Return of the Jedi      & 167 &  75.0 & NA    & gold                & yellow & 112.0 & none   & masculine & Tatooine  & Droid       \\\\\n\t C-3PO               & Attack of the Clones    & 167 &  75.0 & NA    & gold                & yellow & 112.0 & none   & masculine & Tatooine  & Droid       \\\\\n\t C-3PO               & A New Hope              & 167 &  75.0 & NA    & gold                & yellow & 112.0 & none   & masculine & Tatooine  & Droid       \\\\\n\t Bossk               & The Empire Strikes Back & 190 & 113.0 & none  & green               & red    &  53.0 & male   & masculine & Trandosha & Trandoshan  \\\\\n\t Boba Fett           & The Empire Strikes Back & 183 &  78.2 & black & fair                & brown  &  31.5 & male   & masculine & Kamino    & Human       \\\\\n\t Boba Fett           & Return of the Jedi      & 183 &  78.2 & black & fair                & brown  &  31.5 & male   & masculine & Kamino    & Human       \\\\\n\t Boba Fett           & Attack of the Clones    & 183 &  78.2 & black & fair                & brown  &  31.5 & male   & masculine & Kamino    & Human       \\\\\n\t Biggs Darklighter   & A New Hope              & 183 &  84.0 & black & light               & brown  &  24.0 & male   & masculine & Tatooine  & Human       \\\\\n\t Bib Fortuna         & Return of the Jedi      & 180 &    NA & none  & pale                & pink   &    NA & male   & masculine & Ryloth    & Twi'lek     \\\\\n\t Beru Whitesun lars  & Revenge of the Sith     & 165 &  75.0 & brown & light               & blue   &  47.0 & female & feminine  & Tatooine  & Human       \\\\\n\t Beru Whitesun lars  & Attack of the Clones    & 165 &  75.0 & brown & light               & blue   &  47.0 & female & feminine  & Tatooine  & Human       \\\\\n\t Beru Whitesun lars  & A New Hope              & 165 &  75.0 & brown & light               & blue   &  47.0 & female & feminine  & Tatooine  & Human       \\\\\n\t Ben Quadinaros      & The Phantom Menace      & 163 &  65.0 & none  & grey, green, yellow & orange &    NA & male   & masculine & Tund      & Toong       \\\\\n\t BB8                 & The Force Awakens       &  NA &    NA & none  & none                & black  &    NA & none   & masculine & NA        & Droid       \\\\\n\t Barriss Offee       & Attack of the Clones    & 166 &  50.0 & black & yellow              & blue   &  40.0 & female & feminine  & Mirial    & Mirialan    \\\\\n\t Bail Prestor Organa & Revenge of the Sith     & 191 &    NA & black & tan                 & brown  &  67.0 & male   & masculine & Alderaan  & Human       \\\\\n\t Bail Prestor Organa & Attack of the Clones    & 191 &    NA & black & tan                 & brown  &  67.0 & male   & masculine & Alderaan  & Human       \\\\\n\t Ayla Secura         & The Phantom Menace      & 178 &  55.0 & none  & blue                & hazel  &  48.0 & female & feminine  & Ryloth    & Twi'lek     \\\\\n\t Ayla Secura         & Revenge of the Sith     & 178 &  55.0 & none  & blue                & hazel  &  48.0 & female & feminine  & Ryloth    & Twi'lek     \\\\\n\t Ayla Secura         & Attack of the Clones    & 178 &  55.0 & none  & blue                & hazel  &  48.0 & female & feminine  & Ryloth    & Twi'lek     \\\\\n\t Arvel Crynyd        & Return of the Jedi      &  NA &    NA & brown & fair                & brown  &    NA & male   & masculine & NA        & Human       \\\\\n\t Anakin Skywalker    & The Phantom Menace      & 188 &  84.0 & blond & fair                & blue   &  41.9 & male   & masculine & Tatooine  & Human       \\\\\n\t Anakin Skywalker    & Revenge of the Sith     & 188 &  84.0 & blond & fair                & blue   &  41.9 & male   & masculine & Tatooine  & Human       \\\\\n\t Anakin Skywalker    & Attack of the Clones    & 188 &  84.0 & blond & fair                & blue   &  41.9 & male   & masculine & Tatooine  & Human       \\\\\n\t Adi Gallia          & The Phantom Menace      & 184 &  50.0 & none  & dark                & blue   &    NA & female & feminine  & Coruscant & Tholothian  \\\\\n\t Adi Gallia          & Revenge of the Sith     & 184 &  50.0 & none  & dark                & blue   &    NA & female & feminine  & Coruscant & Tholothian  \\\\\n\t Ackbar              & The Force Awakens       & 180 &  83.0 & none  & brown mottle        & orange &  41.0 & male   & masculine & Mon Cala  & Mon Calamari\\\\\n\t Ackbar              & Return of the Jedi      & 180 &  83.0 & none  & brown mottle        & orange &  41.0 & male   & masculine & Mon Cala  & Mon Calamari\\\\\n\\end{tabular}\n",
      "text/plain": "    name                  film                    height mass  hair_color   skin_color          eye_color birth_year sex    gender    homeworld  species       \n1   Zam Wesell            Attack of the Clones    168     55   blonde       fair, green, yellow yellow     NA        female feminine  Zolan      Clawdite      \n2   Yoda                  The Phantom Menace       66     17   white        green               brown     896        male   masculine NA         Yoda's species\n3   Yoda                  The Empire Strikes Back  66     17   white        green               brown     896        male   masculine NA         Yoda's species\n4   Yoda                  Revenge of the Sith      66     17   white        green               brown     896        male   masculine NA         Yoda's species\n5   Yoda                  Return of the Jedi       66     17   white        green               brown     896        male   masculine NA         Yoda's species\n6   Yoda                  Attack of the Clones     66     17   white        green               brown     896        male   masculine NA         Yoda's species\n7   Yarael Poof           The Phantom Menace      264     NA   none         white               yellow     NA        male   masculine Quermia    Quermian      \n8   Wilhuff Tarkin        Revenge of the Sith     180     NA   auburn, grey fair                blue       64        male   masculine Eriadu     Human         \n9   Wilhuff Tarkin        A New Hope              180     NA   auburn, grey fair                blue       64        male   masculine Eriadu     Human         \n10  Wicket Systri Warrick Return of the Jedi       88     20   brown        brown               brown       8        male   masculine Endor      Ewok          \n11  Wedge Antilles        The Empire Strikes Back 170     77   brown        fair                hazel      21        male   masculine Corellia   Human         \n12  Wedge Antilles        Return of the Jedi      170     77   brown        fair                hazel      21        male   masculine Corellia   Human         \n13  Wedge Antilles        A New Hope              170     77   brown        fair                hazel      21        male   masculine Corellia   Human         \n14  Watto                 The Phantom Menace      137     NA   black        blue, grey          yellow     NA        male   masculine Toydaria   Toydarian     \n15  Watto                 Attack of the Clones    137     NA   black        blue, grey          yellow     NA        male   masculine Toydaria   Toydarian     \n16  Wat Tambor            Attack of the Clones    193     48   none         green, grey         unknown    NA        male   masculine Skako      Skakoan       \n17  Tion Medon            Revenge of the Sith     206     80   none         grey                black      NA        male   masculine Utapau     Pau'an        \n18  Taun We               Attack of the Clones    213     NA   none         grey                black      NA        female feminine  Kamino     Kaminoan      \n19  Tarfful               Revenge of the Sith     234    136   brown        brown               blue       NA        male   masculine Kashyyyk   Wookiee       \n20  Sly Moore             Revenge of the Sith     178     48   none         pale                white      NA        NA     NA        Umbara     NA            \n21  Sly Moore             Attack of the Clones    178     48   none         pale                white      NA        NA     NA        Umbara     NA            \n22  Shmi Skywalker        The Phantom Menace      163     NA   black        fair                brown      72        female feminine  Tatooine   Human         \n23  Shmi Skywalker        Attack of the Clones    163     NA   black        fair                brown      72        female feminine  Tatooine   Human         \n24  Shaak Ti              Revenge of the Sith     178     57   none         red, blue, white    black      NA        female feminine  Shili      Togruta       \n25  Shaak Ti              Attack of the Clones    178     57   none         red, blue, white    black      NA        female feminine  Shili      Togruta       \n26  Sebulba               The Phantom Menace      112     40   none         grey, red           orange     NA        male   masculine Malastare  Dug           \n27  San Hill              Attack of the Clones    191     NA   none         grey                gold       NA        male   masculine Muunilinst Muun          \n28  Saesee Tiin           The Phantom Menace      188     NA   none         pale                orange     NA        male   masculine Iktotch    Iktotchi      \n29  Saesee Tiin           Revenge of the Sith     188     NA   none         pale                orange     NA        male   masculine Iktotch    Iktotchi      \n30  Rugor Nass            The Phantom Menace      206     NA   none         green               orange     NA        male   masculine Naboo      Gungan        \n⋮   ⋮                     ⋮                       ⋮      ⋮     ⋮            ⋮                   ⋮         ⋮          ⋮      ⋮         ⋮          ⋮             \n144 C-3PO                 The Empire Strikes Back 167     75.0 NA           gold                yellow    112.0      none   masculine Tatooine   Droid         \n145 C-3PO                 Revenge of the Sith     167     75.0 NA           gold                yellow    112.0      none   masculine Tatooine   Droid         \n146 C-3PO                 Return of the Jedi      167     75.0 NA           gold                yellow    112.0      none   masculine Tatooine   Droid         \n147 C-3PO                 Attack of the Clones    167     75.0 NA           gold                yellow    112.0      none   masculine Tatooine   Droid         \n148 C-3PO                 A New Hope              167     75.0 NA           gold                yellow    112.0      none   masculine Tatooine   Droid         \n149 Bossk                 The Empire Strikes Back 190    113.0 none         green               red        53.0      male   masculine Trandosha  Trandoshan    \n150 Boba Fett             The Empire Strikes Back 183     78.2 black        fair                brown      31.5      male   masculine Kamino     Human         \n151 Boba Fett             Return of the Jedi      183     78.2 black        fair                brown      31.5      male   masculine Kamino     Human         \n152 Boba Fett             Attack of the Clones    183     78.2 black        fair                brown      31.5      male   masculine Kamino     Human         \n153 Biggs Darklighter     A New Hope              183     84.0 black        light               brown      24.0      male   masculine Tatooine   Human         \n154 Bib Fortuna           Return of the Jedi      180       NA none         pale                pink         NA      male   masculine Ryloth     Twi'lek       \n155 Beru Whitesun lars    Revenge of the Sith     165     75.0 brown        light               blue       47.0      female feminine  Tatooine   Human         \n156 Beru Whitesun lars    Attack of the Clones    165     75.0 brown        light               blue       47.0      female feminine  Tatooine   Human         \n157 Beru Whitesun lars    A New Hope              165     75.0 brown        light               blue       47.0      female feminine  Tatooine   Human         \n158 Ben Quadinaros        The Phantom Menace      163     65.0 none         grey, green, yellow orange       NA      male   masculine Tund       Toong         \n159 BB8                   The Force Awakens        NA       NA none         none                black        NA      none   masculine NA         Droid         \n160 Barriss Offee         Attack of the Clones    166     50.0 black        yellow              blue       40.0      female feminine  Mirial     Mirialan      \n161 Bail Prestor Organa   Revenge of the Sith     191       NA black        tan                 brown      67.0      male   masculine Alderaan   Human         \n162 Bail Prestor Organa   Attack of the Clones    191       NA black        tan                 brown      67.0      male   masculine Alderaan   Human         \n163 Ayla Secura           The Phantom Menace      178     55.0 none         blue                hazel      48.0      female feminine  Ryloth     Twi'lek       \n164 Ayla Secura           Revenge of the Sith     178     55.0 none         blue                hazel      48.0      female feminine  Ryloth     Twi'lek       \n165 Ayla Secura           Attack of the Clones    178     55.0 none         blue                hazel      48.0      female feminine  Ryloth     Twi'lek       \n166 Arvel Crynyd          Return of the Jedi       NA       NA brown        fair                brown        NA      male   masculine NA         Human         \n167 Anakin Skywalker      The Phantom Menace      188     84.0 blond        fair                blue       41.9      male   masculine Tatooine   Human         \n168 Anakin Skywalker      Revenge of the Sith     188     84.0 blond        fair                blue       41.9      male   masculine Tatooine   Human         \n169 Anakin Skywalker      Attack of the Clones    188     84.0 blond        fair                blue       41.9      male   masculine Tatooine   Human         \n170 Adi Gallia            The Phantom Menace      184     50.0 none         dark                blue         NA      female feminine  Coruscant  Tholothian    \n171 Adi Gallia            Revenge of the Sith     184     50.0 none         dark                blue         NA      female feminine  Coruscant  Tholothian    \n172 Ackbar                The Force Awakens       180     83.0 none         brown mottle        orange     41.0      male   masculine Mon Cala   Mon Calamari  \n173 Ackbar                Return of the Jedi      180     83.0 none         brown mottle        orange     41.0      male   masculine Mon Cala   Mon Calamari  "
     },
     "metadata": {},
     "output_type": "display_data"
    }
   ],
   "source": [
    "dfStarwarsFilms %>%\n",
    "dplyr::left_join(dfStarwars, by = c(\"name\")) %>%\n",
    "dplyr::arrange(desc(name), desc(film)) %>%\n",
    "as.data.frame()"
   ],
   "metadata": {
    "collapsed": false,
    "pycharm": {
     "name": "#%%\n"
    }
   }
  },
  {
   "cell_type": "markdown",
   "source": [
    "------\n",
    "\n",
    "## Complicated and neat workflow\n",
    "\n",
    "In this section we demonstrate a fairly complicated data wrangling sequence of operations that transforms [Anscombe's quartet](https://en.wikipedia.org/wiki/Anscombe's_quartet) into a form that is easier to plot.\n",
    "\n",
    "**Remark:** Anscombe's quartet has four sets of points that have nearly the same x- and y- mean values. (But the sets have very different shapes.)\n",
    "\n",
    "### Code generation"
   ],
   "metadata": {
    "collapsed": false,
    "pycharm": {
     "name": "#%% md\n"
    }
   }
  },
  {
   "cell_type": "code",
   "execution_count": 41,
   "outputs": [],
   "source": [
    "command6 = '\n",
    "use dfAnscombe;\n",
    "rename column X as Index;\n",
    "convert to long form with variable columns `!starts_with(\"Index\")` with variable name \"Variable\" with value name \"Value\";\n",
    "separate the data column \"Variable\" into \"Variable\" and \"Set\" with pattern \"\";\n",
    "to wide form for id columns \"Set\" and \"Index\" variable column \"Variable\" and value column \"Value\"\n",
    "'"
   ],
   "metadata": {
    "collapsed": false,
    "pycharm": {
     "name": "#%%\n"
    }
   }
  },
  {
   "cell_type": "code",
   "execution_count": 42,
   "outputs": [
    {
     "data": {
      "text/html": "<style>\n.list-inline {list-style: none; margin:0; padding: 0}\n.list-inline>li {display: inline-block}\n.list-inline>li:not(:last-child)::after {content: \"\\00b7\"; padding: 0 .5ex}\n</style>\n<ol class=list-inline><li>'dfAnscombe %&gt;%'</li><li>'dplyr::rename(Index = X) %&gt;%'</li><li>'tidyr::pivot_longer( cols = !starts_with(\"Index\"), names_to = \"Variable\", values_to = \"Value\" ) %&gt;%'</li><li>'tidyr::extract(col = \"Variable\", into = c(\"Variable\", \"Set\"), regex = \"(.)(.)\") %&gt;%'</li><li>'tidyr::pivot_wider(id_cols = c( \"Set\", \"Index\" ), names_from = \"Variable\", values_from = \"Value\" )'</li></ol>\n",
      "text/markdown": "1. 'dfAnscombe %&gt;%'\n2. 'dplyr::rename(Index = X) %&gt;%'\n3. 'tidyr::pivot_longer( cols = !starts_with(\"Index\"), names_to = \"Variable\", values_to = \"Value\" ) %&gt;%'\n4. 'tidyr::extract(col = \"Variable\", into = c(\"Variable\", \"Set\"), regex = \"(.)(.)\") %&gt;%'\n5. 'tidyr::pivot_wider(id_cols = c( \"Set\", \"Index\" ), names_from = \"Variable\", values_from = \"Value\" )'\n\n\n",
      "text/latex": "\\begin{enumerate*}\n\\item 'dfAnscombe \\%>\\%'\n\\item 'dplyr::rename(Index = X) \\%>\\%'\n\\item 'tidyr::pivot\\_longer( cols = !starts\\_with(\"Index\"), names\\_to = \"Variable\", values\\_to = \"Value\" ) \\%>\\%'\n\\item 'tidyr::extract(col = \"Variable\", into = c(\"Variable\", \"Set\"), regex = \"(.)(.)\") \\%>\\%'\n\\item 'tidyr::pivot\\_wider(id\\_cols = c( \"Set\", \"Index\" ), names\\_from = \"Variable\", values\\_from = \"Value\" )'\n\\end{enumerate*}\n",
      "text/plain": "[1] \"dfAnscombe %>%\"                                                                                            \n[2] \"dplyr::rename(Index = X) %>%\"                                                                              \n[3] \"tidyr::pivot_longer( cols = !starts_with(\\\"Index\\\"), names_to = \\\"Variable\\\", values_to = \\\"Value\\\" ) %>%\" \n[4] \"tidyr::extract(col = \\\"Variable\\\", into = c(\\\"Variable\\\", \\\"Set\\\"), regex = \\\"(.)(.)\\\") %>%\"               \n[5] \"tidyr::pivot_wider(id_cols = c( \\\"Set\\\", \\\"Index\\\" ), names_from = \\\"Variable\\\", values_from = \\\"Value\\\" )\""
     },
     "metadata": {},
     "output_type": "display_data"
    }
   ],
   "source": [
    "FromDSL(command6)"
   ],
   "metadata": {
    "collapsed": false,
    "pycharm": {
     "name": "#%%\n"
    }
   }
  },
  {
   "cell_type": "markdown",
   "source": [
    "### Execution"
   ],
   "metadata": {
    "collapsed": false,
    "pycharm": {
     "name": "#%% md\n"
    }
   }
  },
  {
   "cell_type": "code",
   "execution_count": 43,
   "outputs": [
    {
     "data": {
      "text/html": "<table class=\"dataframe\">\n<caption>A tibble: 44 × 4</caption>\n<thead>\n\t<tr><th scope=col>Set</th><th scope=col>Index</th><th scope=col>x</th><th scope=col>y</th></tr>\n\t<tr><th scope=col>&lt;chr&gt;</th><th scope=col>&lt;int&gt;</th><th scope=col>&lt;dbl&gt;</th><th scope=col>&lt;dbl&gt;</th></tr>\n</thead>\n<tbody>\n\t<tr><td>1</td><td> 1</td><td>10</td><td> 8.04</td></tr>\n\t<tr><td>2</td><td> 1</td><td>10</td><td> 9.14</td></tr>\n\t<tr><td>3</td><td> 1</td><td>10</td><td> 7.46</td></tr>\n\t<tr><td>4</td><td> 1</td><td> 8</td><td> 6.58</td></tr>\n\t<tr><td>1</td><td> 2</td><td> 8</td><td> 6.95</td></tr>\n\t<tr><td>2</td><td> 2</td><td> 8</td><td> 8.14</td></tr>\n\t<tr><td>3</td><td> 2</td><td> 8</td><td> 6.77</td></tr>\n\t<tr><td>4</td><td> 2</td><td> 8</td><td> 5.76</td></tr>\n\t<tr><td>1</td><td> 3</td><td>13</td><td> 7.58</td></tr>\n\t<tr><td>2</td><td> 3</td><td>13</td><td> 8.74</td></tr>\n\t<tr><td>3</td><td> 3</td><td>13</td><td>12.74</td></tr>\n\t<tr><td>4</td><td> 3</td><td> 8</td><td> 7.71</td></tr>\n\t<tr><td>1</td><td> 4</td><td> 9</td><td> 8.81</td></tr>\n\t<tr><td>2</td><td> 4</td><td> 9</td><td> 8.77</td></tr>\n\t<tr><td>3</td><td> 4</td><td> 9</td><td> 7.11</td></tr>\n\t<tr><td>4</td><td> 4</td><td> 8</td><td> 8.84</td></tr>\n\t<tr><td>1</td><td> 5</td><td>11</td><td> 8.33</td></tr>\n\t<tr><td>2</td><td> 5</td><td>11</td><td> 9.26</td></tr>\n\t<tr><td>3</td><td> 5</td><td>11</td><td> 7.81</td></tr>\n\t<tr><td>4</td><td> 5</td><td> 8</td><td> 8.47</td></tr>\n\t<tr><td>1</td><td> 6</td><td>14</td><td> 9.96</td></tr>\n\t<tr><td>2</td><td> 6</td><td>14</td><td> 8.10</td></tr>\n\t<tr><td>3</td><td> 6</td><td>14</td><td> 8.84</td></tr>\n\t<tr><td>4</td><td> 6</td><td> 8</td><td> 7.04</td></tr>\n\t<tr><td>1</td><td> 7</td><td> 6</td><td> 7.24</td></tr>\n\t<tr><td>2</td><td> 7</td><td> 6</td><td> 6.13</td></tr>\n\t<tr><td>3</td><td> 7</td><td> 6</td><td> 6.08</td></tr>\n\t<tr><td>4</td><td> 7</td><td> 8</td><td> 5.25</td></tr>\n\t<tr><td>1</td><td> 8</td><td> 4</td><td> 4.26</td></tr>\n\t<tr><td>2</td><td> 8</td><td> 4</td><td> 3.10</td></tr>\n\t<tr><td>3</td><td> 8</td><td> 4</td><td> 5.39</td></tr>\n\t<tr><td>4</td><td> 8</td><td>19</td><td>12.50</td></tr>\n\t<tr><td>1</td><td> 9</td><td>12</td><td>10.84</td></tr>\n\t<tr><td>2</td><td> 9</td><td>12</td><td> 9.13</td></tr>\n\t<tr><td>3</td><td> 9</td><td>12</td><td> 8.15</td></tr>\n\t<tr><td>4</td><td> 9</td><td> 8</td><td> 5.56</td></tr>\n\t<tr><td>1</td><td>10</td><td> 7</td><td> 4.82</td></tr>\n\t<tr><td>2</td><td>10</td><td> 7</td><td> 7.26</td></tr>\n\t<tr><td>3</td><td>10</td><td> 7</td><td> 6.42</td></tr>\n\t<tr><td>4</td><td>10</td><td> 8</td><td> 7.91</td></tr>\n\t<tr><td>1</td><td>11</td><td> 5</td><td> 5.68</td></tr>\n\t<tr><td>2</td><td>11</td><td> 5</td><td> 4.74</td></tr>\n\t<tr><td>3</td><td>11</td><td> 5</td><td> 5.73</td></tr>\n\t<tr><td>4</td><td>11</td><td> 8</td><td> 6.89</td></tr>\n</tbody>\n</table>\n",
      "text/markdown": "\nA tibble: 44 × 4\n\n| Set &lt;chr&gt; | Index &lt;int&gt; | x &lt;dbl&gt; | y &lt;dbl&gt; |\n|---|---|---|---|\n| 1 |  1 | 10 |  8.04 |\n| 2 |  1 | 10 |  9.14 |\n| 3 |  1 | 10 |  7.46 |\n| 4 |  1 |  8 |  6.58 |\n| 1 |  2 |  8 |  6.95 |\n| 2 |  2 |  8 |  8.14 |\n| 3 |  2 |  8 |  6.77 |\n| 4 |  2 |  8 |  5.76 |\n| 1 |  3 | 13 |  7.58 |\n| 2 |  3 | 13 |  8.74 |\n| 3 |  3 | 13 | 12.74 |\n| 4 |  3 |  8 |  7.71 |\n| 1 |  4 |  9 |  8.81 |\n| 2 |  4 |  9 |  8.77 |\n| 3 |  4 |  9 |  7.11 |\n| 4 |  4 |  8 |  8.84 |\n| 1 |  5 | 11 |  8.33 |\n| 2 |  5 | 11 |  9.26 |\n| 3 |  5 | 11 |  7.81 |\n| 4 |  5 |  8 |  8.47 |\n| 1 |  6 | 14 |  9.96 |\n| 2 |  6 | 14 |  8.10 |\n| 3 |  6 | 14 |  8.84 |\n| 4 |  6 |  8 |  7.04 |\n| 1 |  7 |  6 |  7.24 |\n| 2 |  7 |  6 |  6.13 |\n| 3 |  7 |  6 |  6.08 |\n| 4 |  7 |  8 |  5.25 |\n| 1 |  8 |  4 |  4.26 |\n| 2 |  8 |  4 |  3.10 |\n| 3 |  8 |  4 |  5.39 |\n| 4 |  8 | 19 | 12.50 |\n| 1 |  9 | 12 | 10.84 |\n| 2 |  9 | 12 |  9.13 |\n| 3 |  9 | 12 |  8.15 |\n| 4 |  9 |  8 |  5.56 |\n| 1 | 10 |  7 |  4.82 |\n| 2 | 10 |  7 |  7.26 |\n| 3 | 10 |  7 |  6.42 |\n| 4 | 10 |  8 |  7.91 |\n| 1 | 11 |  5 |  5.68 |\n| 2 | 11 |  5 |  4.74 |\n| 3 | 11 |  5 |  5.73 |\n| 4 | 11 |  8 |  6.89 |\n\n",
      "text/latex": "A tibble: 44 × 4\n\\begin{tabular}{llll}\n Set & Index & x & y\\\\\n <chr> & <int> & <dbl> & <dbl>\\\\\n\\hline\n\t 1 &  1 & 10 &  8.04\\\\\n\t 2 &  1 & 10 &  9.14\\\\\n\t 3 &  1 & 10 &  7.46\\\\\n\t 4 &  1 &  8 &  6.58\\\\\n\t 1 &  2 &  8 &  6.95\\\\\n\t 2 &  2 &  8 &  8.14\\\\\n\t 3 &  2 &  8 &  6.77\\\\\n\t 4 &  2 &  8 &  5.76\\\\\n\t 1 &  3 & 13 &  7.58\\\\\n\t 2 &  3 & 13 &  8.74\\\\\n\t 3 &  3 & 13 & 12.74\\\\\n\t 4 &  3 &  8 &  7.71\\\\\n\t 1 &  4 &  9 &  8.81\\\\\n\t 2 &  4 &  9 &  8.77\\\\\n\t 3 &  4 &  9 &  7.11\\\\\n\t 4 &  4 &  8 &  8.84\\\\\n\t 1 &  5 & 11 &  8.33\\\\\n\t 2 &  5 & 11 &  9.26\\\\\n\t 3 &  5 & 11 &  7.81\\\\\n\t 4 &  5 &  8 &  8.47\\\\\n\t 1 &  6 & 14 &  9.96\\\\\n\t 2 &  6 & 14 &  8.10\\\\\n\t 3 &  6 & 14 &  8.84\\\\\n\t 4 &  6 &  8 &  7.04\\\\\n\t 1 &  7 &  6 &  7.24\\\\\n\t 2 &  7 &  6 &  6.13\\\\\n\t 3 &  7 &  6 &  6.08\\\\\n\t 4 &  7 &  8 &  5.25\\\\\n\t 1 &  8 &  4 &  4.26\\\\\n\t 2 &  8 &  4 &  3.10\\\\\n\t 3 &  8 &  4 &  5.39\\\\\n\t 4 &  8 & 19 & 12.50\\\\\n\t 1 &  9 & 12 & 10.84\\\\\n\t 2 &  9 & 12 &  9.13\\\\\n\t 3 &  9 & 12 &  8.15\\\\\n\t 4 &  9 &  8 &  5.56\\\\\n\t 1 & 10 &  7 &  4.82\\\\\n\t 2 & 10 &  7 &  7.26\\\\\n\t 3 & 10 &  7 &  6.42\\\\\n\t 4 & 10 &  8 &  7.91\\\\\n\t 1 & 11 &  5 &  5.68\\\\\n\t 2 & 11 &  5 &  4.74\\\\\n\t 3 & 11 &  5 &  5.73\\\\\n\t 4 & 11 &  8 &  6.89\\\\\n\\end{tabular}\n",
      "text/plain": "   Set Index x  y    \n1  1    1    10  8.04\n2  2    1    10  9.14\n3  3    1    10  7.46\n4  4    1     8  6.58\n5  1    2     8  6.95\n6  2    2     8  8.14\n7  3    2     8  6.77\n8  4    2     8  5.76\n9  1    3    13  7.58\n10 2    3    13  8.74\n11 3    3    13 12.74\n12 4    3     8  7.71\n13 1    4     9  8.81\n14 2    4     9  8.77\n15 3    4     9  7.11\n16 4    4     8  8.84\n17 1    5    11  8.33\n18 2    5    11  9.26\n19 3    5    11  7.81\n20 4    5     8  8.47\n21 1    6    14  9.96\n22 2    6    14  8.10\n23 3    6    14  8.84\n24 4    6     8  7.04\n25 1    7     6  7.24\n26 2    7     6  6.13\n27 3    7     6  6.08\n28 4    7     8  5.25\n29 1    8     4  4.26\n30 2    8     4  3.10\n31 3    8     4  5.39\n32 4    8    19 12.50\n33 1    9    12 10.84\n34 2    9    12  9.13\n35 3    9    12  8.15\n36 4    9     8  5.56\n37 1   10     7  4.82\n38 2   10     7  7.26\n39 3   10     7  6.42\n40 4   10     8  7.91\n41 1   11     5  5.68\n42 2   11     5  4.74\n43 3   11     5  5.73\n44 4   11     8  6.89"
     },
     "metadata": {},
     "output_type": "display_data"
    }
   ],
   "source": [
    "dfAnscombe %>%\n",
    "dplyr::rename(Index = X) %>%\n",
    "tidyr::pivot_longer( cols = !starts_with(\"Index\"), names_to = \"Variable\", values_to = \"Value\" ) %>%\n",
    "tidyr::extract(col = \"Variable\", into = c(\"Variable\", \"Set\"), regex = \"(.)(.)\") %>%\n",
    "tidyr::pivot_wider(id_cols = c( \"Set\", \"Index\" ), names_from = \"Variable\", values_from = \"Value\" )"
   ],
   "metadata": {
    "collapsed": false,
    "pycharm": {
     "name": "#%%\n"
    }
   }
  },
  {
   "cell_type": "markdown",
   "source": [
    "### Execution steps (tidyverse)\n",
    "\n",
    "Get a copy of the dataset into a \"pipeline object\":\n"
   ],
   "metadata": {
    "collapsed": false,
    "pycharm": {
     "name": "#%% md\n"
    }
   }
  },
  {
   "cell_type": "code",
   "execution_count": 44,
   "outputs": [
    {
     "data": {
      "text/html": "<table class=\"dataframe\">\n<caption>A data.frame: 11 × 9</caption>\n<thead>\n\t<tr><th scope=col>Index</th><th scope=col>x1</th><th scope=col>x2</th><th scope=col>x3</th><th scope=col>x4</th><th scope=col>y1</th><th scope=col>y2</th><th scope=col>y3</th><th scope=col>y4</th></tr>\n\t<tr><th scope=col>&lt;int&gt;</th><th scope=col>&lt;int&gt;</th><th scope=col>&lt;int&gt;</th><th scope=col>&lt;int&gt;</th><th scope=col>&lt;int&gt;</th><th scope=col>&lt;dbl&gt;</th><th scope=col>&lt;dbl&gt;</th><th scope=col>&lt;dbl&gt;</th><th scope=col>&lt;dbl&gt;</th></tr>\n</thead>\n<tbody>\n\t<tr><td> 1</td><td>10</td><td>10</td><td>10</td><td> 8</td><td> 8.04</td><td>9.14</td><td> 7.46</td><td> 6.58</td></tr>\n\t<tr><td> 2</td><td> 8</td><td> 8</td><td> 8</td><td> 8</td><td> 6.95</td><td>8.14</td><td> 6.77</td><td> 5.76</td></tr>\n\t<tr><td> 3</td><td>13</td><td>13</td><td>13</td><td> 8</td><td> 7.58</td><td>8.74</td><td>12.74</td><td> 7.71</td></tr>\n\t<tr><td> 4</td><td> 9</td><td> 9</td><td> 9</td><td> 8</td><td> 8.81</td><td>8.77</td><td> 7.11</td><td> 8.84</td></tr>\n\t<tr><td> 5</td><td>11</td><td>11</td><td>11</td><td> 8</td><td> 8.33</td><td>9.26</td><td> 7.81</td><td> 8.47</td></tr>\n\t<tr><td> 6</td><td>14</td><td>14</td><td>14</td><td> 8</td><td> 9.96</td><td>8.10</td><td> 8.84</td><td> 7.04</td></tr>\n\t<tr><td> 7</td><td> 6</td><td> 6</td><td> 6</td><td> 8</td><td> 7.24</td><td>6.13</td><td> 6.08</td><td> 5.25</td></tr>\n\t<tr><td> 8</td><td> 4</td><td> 4</td><td> 4</td><td>19</td><td> 4.26</td><td>3.10</td><td> 5.39</td><td>12.50</td></tr>\n\t<tr><td> 9</td><td>12</td><td>12</td><td>12</td><td> 8</td><td>10.84</td><td>9.13</td><td> 8.15</td><td> 5.56</td></tr>\n\t<tr><td>10</td><td> 7</td><td> 7</td><td> 7</td><td> 8</td><td> 4.82</td><td>7.26</td><td> 6.42</td><td> 7.91</td></tr>\n\t<tr><td>11</td><td> 5</td><td> 5</td><td> 5</td><td> 8</td><td> 5.68</td><td>4.74</td><td> 5.73</td><td> 6.89</td></tr>\n</tbody>\n</table>\n",
      "text/markdown": "\nA data.frame: 11 × 9\n\n| Index &lt;int&gt; | x1 &lt;int&gt; | x2 &lt;int&gt; | x3 &lt;int&gt; | x4 &lt;int&gt; | y1 &lt;dbl&gt; | y2 &lt;dbl&gt; | y3 &lt;dbl&gt; | y4 &lt;dbl&gt; |\n|---|---|---|---|---|---|---|---|---|\n|  1 | 10 | 10 | 10 |  8 |  8.04 | 9.14 |  7.46 |  6.58 |\n|  2 |  8 |  8 |  8 |  8 |  6.95 | 8.14 |  6.77 |  5.76 |\n|  3 | 13 | 13 | 13 |  8 |  7.58 | 8.74 | 12.74 |  7.71 |\n|  4 |  9 |  9 |  9 |  8 |  8.81 | 8.77 |  7.11 |  8.84 |\n|  5 | 11 | 11 | 11 |  8 |  8.33 | 9.26 |  7.81 |  8.47 |\n|  6 | 14 | 14 | 14 |  8 |  9.96 | 8.10 |  8.84 |  7.04 |\n|  7 |  6 |  6 |  6 |  8 |  7.24 | 6.13 |  6.08 |  5.25 |\n|  8 |  4 |  4 |  4 | 19 |  4.26 | 3.10 |  5.39 | 12.50 |\n|  9 | 12 | 12 | 12 |  8 | 10.84 | 9.13 |  8.15 |  5.56 |\n| 10 |  7 |  7 |  7 |  8 |  4.82 | 7.26 |  6.42 |  7.91 |\n| 11 |  5 |  5 |  5 |  8 |  5.68 | 4.74 |  5.73 |  6.89 |\n\n",
      "text/latex": "A data.frame: 11 × 9\n\\begin{tabular}{lllllllll}\n Index & x1 & x2 & x3 & x4 & y1 & y2 & y3 & y4\\\\\n <int> & <int> & <int> & <int> & <int> & <dbl> & <dbl> & <dbl> & <dbl>\\\\\n\\hline\n\t  1 & 10 & 10 & 10 &  8 &  8.04 & 9.14 &  7.46 &  6.58\\\\\n\t  2 &  8 &  8 &  8 &  8 &  6.95 & 8.14 &  6.77 &  5.76\\\\\n\t  3 & 13 & 13 & 13 &  8 &  7.58 & 8.74 & 12.74 &  7.71\\\\\n\t  4 &  9 &  9 &  9 &  8 &  8.81 & 8.77 &  7.11 &  8.84\\\\\n\t  5 & 11 & 11 & 11 &  8 &  8.33 & 9.26 &  7.81 &  8.47\\\\\n\t  6 & 14 & 14 & 14 &  8 &  9.96 & 8.10 &  8.84 &  7.04\\\\\n\t  7 &  6 &  6 &  6 &  8 &  7.24 & 6.13 &  6.08 &  5.25\\\\\n\t  8 &  4 &  4 &  4 & 19 &  4.26 & 3.10 &  5.39 & 12.50\\\\\n\t  9 & 12 & 12 & 12 &  8 & 10.84 & 9.13 &  8.15 &  5.56\\\\\n\t 10 &  7 &  7 &  7 &  8 &  4.82 & 7.26 &  6.42 &  7.91\\\\\n\t 11 &  5 &  5 &  5 &  8 &  5.68 & 4.74 &  5.73 &  6.89\\\\\n\\end{tabular}\n",
      "text/plain": "   Index x1 x2 x3 x4 y1    y2   y3    y4   \n1   1    10 10 10  8  8.04 9.14  7.46  6.58\n2   2     8  8  8  8  6.95 8.14  6.77  5.76\n3   3    13 13 13  8  7.58 8.74 12.74  7.71\n4   4     9  9  9  8  8.81 8.77  7.11  8.84\n5   5    11 11 11  8  8.33 9.26  7.81  8.47\n6   6    14 14 14  8  9.96 8.10  8.84  7.04\n7   7     6  6  6  8  7.24 6.13  6.08  5.25\n8   8     4  4  4 19  4.26 3.10  5.39 12.50\n9   9    12 12 12  8 10.84 9.13  8.15  5.56\n10 10     7  7  7  8  4.82 7.26  6.42  7.91\n11 11     5  5  5  8  5.68 4.74  5.73  6.89"
     },
     "metadata": {},
     "output_type": "display_data"
    }
   ],
   "source": [
    "obj <- dfAnscombe  %>% dplyr::rename(Index = X)\n",
    "obj"
   ],
   "metadata": {
    "collapsed": false,
    "pycharm": {
     "name": "#%%\n"
    }
   }
  },
  {
   "cell_type": "markdown",
   "source": [
    "\n",
    "Summarize Anscombe's quartet:"
   ],
   "metadata": {
    "collapsed": false,
    "pycharm": {
     "name": "#%% md\n"
    }
   }
  },
  {
   "cell_type": "code",
   "execution_count": 45,
   "outputs": [
    {
     "data": {
      "text/plain": "     Index            x1             x2             x3             x4           y1               y2              y3              y4        \n Min.   : 1.0   Min.   : 4.0   Min.   : 4.0   Min.   : 4.0   Min.   : 8   Min.   : 4.260   Min.   :3.100   Min.   : 5.39   Min.   : 5.250  \n 1st Qu.: 3.5   1st Qu.: 6.5   1st Qu.: 6.5   1st Qu.: 6.5   1st Qu.: 8   1st Qu.: 6.315   1st Qu.:6.695   1st Qu.: 6.25   1st Qu.: 6.170  \n Median : 6.0   Median : 9.0   Median : 9.0   Median : 9.0   Median : 8   Median : 7.580   Median :8.140   Median : 7.11   Median : 7.040  \n Mean   : 6.0   Mean   : 9.0   Mean   : 9.0   Mean   : 9.0   Mean   : 9   Mean   : 7.501   Mean   :7.501   Mean   : 7.50   Mean   : 7.501  \n 3rd Qu.: 8.5   3rd Qu.:11.5   3rd Qu.:11.5   3rd Qu.:11.5   3rd Qu.: 8   3rd Qu.: 8.570   3rd Qu.:8.950   3rd Qu.: 7.98   3rd Qu.: 8.190  \n Max.   :11.0   Max.   :14.0   Max.   :14.0   Max.   :14.0   Max.   :19   Max.   :10.840   Max.   :9.260   Max.   :12.74   Max.   :12.500  "
     },
     "metadata": {},
     "output_type": "display_data"
    }
   ],
   "source": [
    "summary(obj)"
   ],
   "metadata": {
    "collapsed": false,
    "pycharm": {
     "name": "#%%\n"
    }
   }
  },
  {
   "cell_type": "markdown",
   "source": [
    "**Remark:** From the table above it is not clear how exactly we have to access the data in order to plot each of Anscombe's sets. The data wrangling steps below show a way to separate the sets and make them amenable for set-wise manipulations.\n",
    "\n",
    "Very often values of certain data parameters are conflated and put into dataset's column names. (As in Anscombe's dataset.)\n",
    "\n",
    "In those situations we:\n",
    "\n",
    "- Convert the dataset into long format, since that allows column names to be treated as data\n",
    "\n",
    "- Separate the values of a certain column into to two or more columns\n",
    "\n",
    "Reshape the \"pipeline object\" into [long format](https://en.wikipedia.org/wiki/Wide_and_narrow_data):"
   ],
   "metadata": {
    "collapsed": false,
    "pycharm": {
     "name": "#%% md\n"
    }
   }
  },
  {
   "cell_type": "code",
   "execution_count": 46,
   "outputs": [
    {
     "data": {
      "text/html": "<table class=\"dataframe\">\n<caption>A tibble: 6 × 3</caption>\n<thead>\n\t<tr><th scope=col>Index</th><th scope=col>Variable</th><th scope=col>Value</th></tr>\n\t<tr><th scope=col>&lt;int&gt;</th><th scope=col>&lt;chr&gt;</th><th scope=col>&lt;dbl&gt;</th></tr>\n</thead>\n<tbody>\n\t<tr><td>1</td><td>x1</td><td>10.00</td></tr>\n\t<tr><td>1</td><td>x2</td><td>10.00</td></tr>\n\t<tr><td>1</td><td>x3</td><td>10.00</td></tr>\n\t<tr><td>1</td><td>x4</td><td> 8.00</td></tr>\n\t<tr><td>1</td><td>y1</td><td> 8.04</td></tr>\n\t<tr><td>1</td><td>y2</td><td> 9.14</td></tr>\n</tbody>\n</table>\n",
      "text/markdown": "\nA tibble: 6 × 3\n\n| Index &lt;int&gt; | Variable &lt;chr&gt; | Value &lt;dbl&gt; |\n|---|---|---|\n| 1 | x1 | 10.00 |\n| 1 | x2 | 10.00 |\n| 1 | x3 | 10.00 |\n| 1 | x4 |  8.00 |\n| 1 | y1 |  8.04 |\n| 1 | y2 |  9.14 |\n\n",
      "text/latex": "A tibble: 6 × 3\n\\begin{tabular}{lll}\n Index & Variable & Value\\\\\n <int> & <chr> & <dbl>\\\\\n\\hline\n\t 1 & x1 & 10.00\\\\\n\t 1 & x2 & 10.00\\\\\n\t 1 & x3 & 10.00\\\\\n\t 1 & x4 &  8.00\\\\\n\t 1 & y1 &  8.04\\\\\n\t 1 & y2 &  9.14\\\\\n\\end{tabular}\n",
      "text/plain": "  Index Variable Value\n1 1     x1       10.00\n2 1     x2       10.00\n3 1     x3       10.00\n4 1     x4        8.00\n5 1     y1        8.04\n6 1     y2        9.14"
     },
     "metadata": {},
     "output_type": "display_data"
    }
   ],
   "source": [
    "obj <- \n",
    "obj %>% \n",
    "tidyr::pivot_longer( cols = !starts_with(\"Index\"), names_to = \"Variable\", values_to = \"Value\" )\n",
    "\n",
    "head(obj)"
   ],
   "metadata": {
    "collapsed": false,
    "pycharm": {
     "name": "#%%\n"
    }
   }
  },
  {
   "cell_type": "markdown",
   "source": [
    "Separate the data column \"Variable\" into the columns \"Variable\" and \"Set\":"
   ],
   "metadata": {
    "collapsed": false,
    "pycharm": {
     "name": "#%% md\n"
    }
   }
  },
  {
   "cell_type": "code",
   "execution_count": 47,
   "outputs": [
    {
     "data": {
      "text/html": "<table class=\"dataframe\">\n<caption>A tibble: 6 × 4</caption>\n<thead>\n\t<tr><th scope=col>Index</th><th scope=col>Variable</th><th scope=col>Set</th><th scope=col>Value</th></tr>\n\t<tr><th scope=col>&lt;int&gt;</th><th scope=col>&lt;chr&gt;</th><th scope=col>&lt;chr&gt;</th><th scope=col>&lt;dbl&gt;</th></tr>\n</thead>\n<tbody>\n\t<tr><td>1</td><td>x</td><td>1</td><td>10.00</td></tr>\n\t<tr><td>1</td><td>x</td><td>2</td><td>10.00</td></tr>\n\t<tr><td>1</td><td>x</td><td>3</td><td>10.00</td></tr>\n\t<tr><td>1</td><td>x</td><td>4</td><td> 8.00</td></tr>\n\t<tr><td>1</td><td>y</td><td>1</td><td> 8.04</td></tr>\n\t<tr><td>1</td><td>y</td><td>2</td><td> 9.14</td></tr>\n</tbody>\n</table>\n",
      "text/markdown": "\nA tibble: 6 × 4\n\n| Index &lt;int&gt; | Variable &lt;chr&gt; | Set &lt;chr&gt; | Value &lt;dbl&gt; |\n|---|---|---|---|\n| 1 | x | 1 | 10.00 |\n| 1 | x | 2 | 10.00 |\n| 1 | x | 3 | 10.00 |\n| 1 | x | 4 |  8.00 |\n| 1 | y | 1 |  8.04 |\n| 1 | y | 2 |  9.14 |\n\n",
      "text/latex": "A tibble: 6 × 4\n\\begin{tabular}{llll}\n Index & Variable & Set & Value\\\\\n <int> & <chr> & <chr> & <dbl>\\\\\n\\hline\n\t 1 & x & 1 & 10.00\\\\\n\t 1 & x & 2 & 10.00\\\\\n\t 1 & x & 3 & 10.00\\\\\n\t 1 & x & 4 &  8.00\\\\\n\t 1 & y & 1 &  8.04\\\\\n\t 1 & y & 2 &  9.14\\\\\n\\end{tabular}\n",
      "text/plain": "  Index Variable Set Value\n1 1     x        1   10.00\n2 1     x        2   10.00\n3 1     x        3   10.00\n4 1     x        4    8.00\n5 1     y        1    8.04\n6 1     y        2    9.14"
     },
     "metadata": {},
     "output_type": "display_data"
    }
   ],
   "source": [
    "obj <- \n",
    "obj %>% \n",
    "tidyr::extract(col = \"Variable\", into = c(\"Variable\", \"Set\"), regex = \"(.)(.)\")\n",
    "\n",
    "head(obj)"
   ],
   "metadata": {
    "collapsed": false,
    "pycharm": {
     "name": "#%%\n"
    }
   }
  },
  {
   "cell_type": "markdown",
   "source": [
    "Reshape the \"pipeline object\" into [wide format](https://en.wikipedia.org/wiki/Wide_and_narrow_data) using appropriate identifier-, variable-, and value column names:"
   ],
   "metadata": {
    "collapsed": false,
    "pycharm": {
     "name": "#%% md\n"
    }
   }
  },
  {
   "cell_type": "code",
   "execution_count": 48,
   "outputs": [
    {
     "data": {
      "text/html": "<table class=\"dataframe\">\n<caption>A tibble: 6 × 4</caption>\n<thead>\n\t<tr><th scope=col>Set</th><th scope=col>Index</th><th scope=col>x</th><th scope=col>y</th></tr>\n\t<tr><th scope=col>&lt;chr&gt;</th><th scope=col>&lt;int&gt;</th><th scope=col>&lt;dbl&gt;</th><th scope=col>&lt;dbl&gt;</th></tr>\n</thead>\n<tbody>\n\t<tr><td>1</td><td>1</td><td>10</td><td>8.04</td></tr>\n\t<tr><td>2</td><td>1</td><td>10</td><td>9.14</td></tr>\n\t<tr><td>3</td><td>1</td><td>10</td><td>7.46</td></tr>\n\t<tr><td>4</td><td>1</td><td> 8</td><td>6.58</td></tr>\n\t<tr><td>1</td><td>2</td><td> 8</td><td>6.95</td></tr>\n\t<tr><td>2</td><td>2</td><td> 8</td><td>8.14</td></tr>\n</tbody>\n</table>\n",
      "text/markdown": "\nA tibble: 6 × 4\n\n| Set &lt;chr&gt; | Index &lt;int&gt; | x &lt;dbl&gt; | y &lt;dbl&gt; |\n|---|---|---|---|\n| 1 | 1 | 10 | 8.04 |\n| 2 | 1 | 10 | 9.14 |\n| 3 | 1 | 10 | 7.46 |\n| 4 | 1 |  8 | 6.58 |\n| 1 | 2 |  8 | 6.95 |\n| 2 | 2 |  8 | 8.14 |\n\n",
      "text/latex": "A tibble: 6 × 4\n\\begin{tabular}{llll}\n Set & Index & x & y\\\\\n <chr> & <int> & <dbl> & <dbl>\\\\\n\\hline\n\t 1 & 1 & 10 & 8.04\\\\\n\t 2 & 1 & 10 & 9.14\\\\\n\t 3 & 1 & 10 & 7.46\\\\\n\t 4 & 1 &  8 & 6.58\\\\\n\t 1 & 2 &  8 & 6.95\\\\\n\t 2 & 2 &  8 & 8.14\\\\\n\\end{tabular}\n",
      "text/plain": "  Set Index x  y   \n1 1   1     10 8.04\n2 2   1     10 9.14\n3 3   1     10 7.46\n4 4   1      8 6.58\n5 1   2      8 6.95\n6 2   2      8 8.14"
     },
     "metadata": {},
     "output_type": "display_data"
    }
   ],
   "source": [
    "obj <- \n",
    "obj %>% \n",
    "tidyr::pivot_wider(id_cols = c( \"Set\", \"Index\" ), names_from = \"Variable\", values_from = \"Value\" )\n",
    "\n",
    "head(obj)"
   ],
   "metadata": {
    "collapsed": false,
    "pycharm": {
     "name": "#%%\n"
    }
   }
  },
  {
   "cell_type": "markdown",
   "source": [
    "Plot each dataset of Anscombe's quartet:"
   ],
   "metadata": {
    "collapsed": false,
    "pycharm": {
     "name": "#%% md\n"
    }
   }
  },
  {
   "cell_type": "code",
   "execution_count": 49,
   "outputs": [
    {
     "data": {
      "text/plain": "plot without title",
      "image/png": "[encoded data removed]"
     },
     "metadata": {
      "image/png": {
       "width": 420,
       "height": 420
      }
     },
     "output_type": "display_data"
    }
   ],
   "source": [
    "ggplot(obj) + geom_point(aes(x = x, y = y)) + facet_wrap(~Set)"
   ],
   "metadata": {
    "collapsed": false,
    "pycharm": {
     "name": "#%%\n"
    }
   }
  }
 ],
 "metadata": {
  "jupytext": {
   "cell_metadata_filter": "-all",
   "main_language": "python",
   "notebook_metadata_filter": "-all"
  },
  "kernelspec": {
   "display_name": "R",
   "language": "R",
   "name": "ir"
  },
  "language_info": {
   "codemirror_mode": "r",
   "file_extension": ".r",
   "mimetype": "text/x-r-source",
   "name": "R",
   "pygments_lexer": "r",
   "version": "4.2.1"
  }
 },
 "nbformat": 4,
 "nbformat_minor": 5
}