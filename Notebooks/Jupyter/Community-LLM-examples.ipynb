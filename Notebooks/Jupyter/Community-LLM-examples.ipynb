{
 "cells": [
  {
   "cell_type": "markdown",
   "metadata": {},
   "source": [
    "# LLM examples for the Raku community\n",
    "\n",
    "Anton Antonov   \n",
    "[RakuForPrediction at WordPress](https://rakuforprediction.wordpress.com)   \n",
    "[RakuForPrediction-book at GitHub](https://github.com/antononcube/RakuForPrediction-book)   \n",
    "August 2023\n",
    "\n",
    "## Setup"
   ]
  },
  {
   "cell_type": "code",
   "execution_count": 16,
   "metadata": {},
   "outputs": [],
   "source": [
    "use LLM::Functions;\n",
    "use Text::SubParsers;\n",
    "use Data::Translators;\n",
    "use Markdown::Grammar;\n",
    "\n",
    "use Clipboard :ALL;\n",
    "\n",
    "use Text::Utils :ALL;"
   ]
  },
  {
   "cell_type": "markdown",
   "metadata": {},
   "source": [
    "------\n",
    "\n",
    "## Crag daily dose narration"
   ]
  },
  {
   "cell_type": "code",
   "execution_count": 47,
   "metadata": {},
   "outputs": [
    {
     "data": {
      "text/plain": [
       "-> **@args, *%args { #`(Block|3749609296240) ... }"
      ]
     },
     "execution_count": 47,
     "metadata": {},
     "output_type": "execute_result"
    }
   ],
   "source": [
    "my &frn=llm-function({\"Narrate the following Raku code $_\"}, e=>'PaLM');\n",
    "my &fue=llm-function({\"Provide detailed explainations for the measurement unit $_.\"}, e=>'PaLM');"
   ]
  },
  {
   "cell_type": "code",
   "execution_count": 23,
   "metadata": {},
   "outputs": [
    {
     "data": {
      "text/plain": [
       "crag '$h=450;$w=1520;$d=2315;$v=$h*$w*$d; say (♎️\"$v cubic millimetre\").in: <cords>'    #0.44cord (hilux flatbed load)\n"
      ]
     },
     "execution_count": 23,
     "metadata": {},
     "output_type": "execute_result"
    }
   ],
   "source": [
    "my $text = q:to/END/;\n",
    "crag '$h=450;$w=1520;$d=2315;$v=$h*$w*$d; say (♎️\"$v cubic millimetre\").in: <cords>'    #0.44cord (hilux flatbed load)\n",
    "END"
   ]
  },
  {
   "cell_type": "code",
   "execution_count": 56,
   "metadata": {},
   "outputs": [
    {
     "data": {
      "text/plain": [
       "The Raku code crag '$h=450;$w=1520;$d=2315;$v=$h*$w*$d; say (♎️\"$v cubic\n",
       "millimetre\").in: <cords>' #0.44cord (hilux flatbed load) calculates the volume\n",
       "of a cuboid with dimensions 450mm x 1520mm x 2315mm, and then converts the\n",
       "volume to cords. A cord is a unit of volume used to measure the amount of\n",
       "firewood that can be carried in a truck or trailer. One cord is equal to 128\n",
       "cubic feet, or approximately 3.6 cubic metres. The code outputs the volume of\n",
       "the cuboid in cubic millimetres, and then converts it to cords and prints the\n",
       "result. The output is 0.44cord, which is approximately the amount of firewood\n",
       "that can be carried in a Hilux flatbed truck."
      ]
     },
     "execution_count": 56,
     "metadata": {},
     "output_type": "execute_result"
    }
   ],
   "source": [
    "&frn($text) ==> wrap-paragraph() ==> join(\"\\n\")"
   ]
  },
  {
   "cell_type": "code",
   "execution_count": 60,
   "metadata": {},
   "outputs": [
    {
     "data": {
      "text/plain": [
       "A cord is a unit of length equal to 12 inches or 3 feet. It is most commonly\n",
       "used to measure lengths of rope, string, or wire. The term \"cord\" is also used\n",
       "to refer to a bundle of sticks or branches, typically used for firewood. In\n",
       "the United States, the cord is a standard unit of measurement for firewood. A\n",
       "cord of firewood is typically defined as a stack of wood that is 4 feet high,\n",
       "4 feet wide, and 8 feet long. This equates to a volume of 128 cubic feet. The\n",
       "cord is also used to measure lengths of rope, string, or wire. In this case, a\n",
       "cord is typically defined as a length of material that is 12 inches in\n",
       "diameter and 100 feet long. The cord is a relatively small unit of\n",
       "measurement, and it is often used in conjunction with other units of\n",
       "measurement, such as the foot, yard, and mile. For example, a piece of rope\n",
       "that is 10 feet long might be described as being \"10 feet by 1 inch\" or \"10\n",
       "feet by 1 cord.\" The cord is a versatile unit of measurement that can be used\n",
       "to measure a variety of different objects. It is a common unit of measurement\n",
       "for firewood, rope, string, and wire."
      ]
     },
     "execution_count": 60,
     "metadata": {},
     "output_type": "execute_result"
    }
   ],
   "source": [
    "&fue('cord') ==> wrap-paragraph() ==> copy-to-clipboard() ==> slip() ==> join(\"\\n\")"
   ]
  },
  {
   "cell_type": "markdown",
   "metadata": {
    "vscode": {
     "languageId": "perl6"
    }
   },
   "source": [
    "-------\n",
    "\n",
    "## Inclusion of truck flatbed loads in prompts\n",
    "\n",
    "### Direct function prompts"
   ]
  },
  {
   "cell_type": "code",
   "execution_count": 31,
   "metadata": {},
   "outputs": [
    {
     "data": {
      "text/plain": [
       "-> **@args, *%args { #`(Block|2596276578144) ... }"
      ]
     },
     "execution_count": 31,
     "metadata": {},
     "output_type": "execute_result"
    }
   ],
   "source": [
    "my &ffb = llm-function( -> $p, $t, $u, :$lang = 'Raku' {\"Give computational steps in the programming language $lang for the $p of the truck $t in the units $u.\"}, e=>'OpenAI')"
   ]
  },
  {
   "cell_type": "code",
   "execution_count": 35,
   "metadata": {},
   "outputs": [
    {
     "data": {
      "text/plain": [
       "\n",
       "\n",
       "1. Declare a float variable for the flatbed length: float flatbedLength;\n",
       "2. Set the flatbed length to 8 feet, 24 inches (100 inches): flatbedLength = 100.0;\n",
       "3. Output the flatbed length in inches: cout << \"The flatbed length of the Ford 2020 truck is \" << flatbedLength << \" inches.\";"
      ]
     },
     "execution_count": 35,
     "metadata": {},
     "output_type": "execute_result"
    }
   ],
   "source": [
    "&ffb('flatbed', 'Ford 2020', 'inches', lang => 'C++')"
   ]
  },
  {
   "cell_type": "code",
   "execution_count": 38,
   "metadata": {},
   "outputs": [
    {
     "data": {
      "text/plain": [
       "\n",
       "\n",
       "1. Calculate the length, width and height of the Toyota Hilux 4th generation in feet: \n",
       "  let ($length, $width, $height) = (17.4, 6.3, 5.9);\n",
       "\n",
       "2. Multiply the three dimensions to calculate the volume in cubic feet: \n",
       "  my $volume_cubic_feet = $length * $width * $height;\n",
       "\n",
       "3. Convert the volume in cubic feet to cords:\n",
       "  my $volume_cords = $volume_cubic_feet * 0.27;\n",
       "\n",
       "4. Print the volume in cords to the console:\n",
       "  say \"The volume of the Toyota Hilux 4th generation in cords is $volume_cords.\""
      ]
     },
     "execution_count": 38,
     "metadata": {},
     "output_type": "execute_result"
    }
   ],
   "source": [
    "&ffb('volume', 'Toyota hilux 4th generation', 'cords') ==> copy-to-clipboard"
   ]
  },
  {
   "cell_type": "markdown",
   "metadata": {},
   "source": [
    "### Chat object"
   ]
  },
  {
   "cell_type": "code",
   "execution_count": 11,
   "metadata": {},
   "outputs": [
    {
     "data": {
      "text/plain": [
       "LLM::Functions::Chat(chat-id = , llm-evaluator.conf.name = chatgpt, messages.elems = 0)"
      ]
     },
     "execution_count": 11,
     "metadata": {},
     "output_type": "execute_result"
    }
   ],
   "source": [
    "my $chat = llm-chat(\"From now on you are a light duty truck expert. If asked compute valumes or areas you give step by step computations recipies in Raku.\", e=>'ChatPaLM');"
   ]
  },
  {
   "cell_type": "code",
   "execution_count": 14,
   "metadata": {},
   "outputs": [
    {
     "data": {
      "text/plain": [
       "The dimensions of a Toyota Hilux 2018 can vary depending on the specific trim level and body style, but here are the approximate dimensions for a standard Toyota Hilux Double Cab model:\n",
       "\n",
       "- Overall Length: 5,335 mm (209.6 inches)\n",
       "- Overall Width: 1,855 mm (73.0 inches)\n",
       "- Overall Height: 1,815 mm (71.5 inches)\n",
       "- Wheelbase: 3,085 mm (121.5 inches)\n",
       "\n",
       "Please note that these dimensions are approximate and may vary slightly depending on the specific configuration of the vehicle. For the most accurate and up-to-date information, it is recommended to refer to the official Toyota website or contact a Toyota dealership."
      ]
     },
     "execution_count": 14,
     "metadata": {},
     "output_type": "execute_result"
    }
   ],
   "source": [
    "$chat.eval('What are the dimensions of a Toyota Hilux 2018?')"
   ]
  },
  {
   "cell_type": "code",
   "execution_count": 15,
   "metadata": {},
   "outputs": [
    {
     "data": {
      "text/plain": [
       "To compute the volume of a Toyota Hilux 2018, we would need specific measurements such as the length, width, and height of the cargo area. Since the dimensions provided earlier are the overall dimensions of the vehicle, we don't have the necessary information to calculate the volume accurately.\n",
       "\n",
       "However, if you have the specific measurements for the cargo area, you can use the formula:\n",
       "\n",
       "Volume = Length x Width x Height\n",
       "\n",
       "Make sure to convert the dimensions to centimeters before performing the calculation. For example, if the cargo area length is 300 cm, width is 150 cm, and height is 100 cm, the volume can be calculated as follows:\n",
       "\n",
       "my $length = 300;\n",
       "my $width = 150;\n",
       "my $height = 100;\n",
       "\n",
       "my $volume = $length * $width * $height;\n",
       "\n",
       "say \"The volume of the Toyota Hilux 2018 cargo area is $volume cubic cm.\";\n",
       "\n",
       "Please provide the specific measurements of the cargo area if you would like me to perform the calculation for you."
      ]
     },
     "execution_count": 15,
     "metadata": {},
     "output_type": "execute_result"
    }
   ],
   "source": [
    "$chat.eval(\"Compute the volume in cm.\")"
   ]
  },
  {
   "cell_type": "code",
   "execution_count": null,
   "metadata": {},
   "outputs": [],
   "source": []
  }
 ],
 "metadata": {
  "kernelspec": {
   "display_name": "Raku",
   "language": "raku",
   "name": "raku"
  },
  "language_info": {
   "file_extension": ".raku",
   "mimetype": "text/plain",
   "name": "raku",
   "version": "6.d"
  },
  "orig_nbformat": 4
 },
 "nbformat": 4,
 "nbformat_minor": 2
}
