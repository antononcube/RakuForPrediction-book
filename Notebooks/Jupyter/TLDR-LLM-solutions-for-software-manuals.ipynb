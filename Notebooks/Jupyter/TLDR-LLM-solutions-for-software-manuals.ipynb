{
 "cells": [
  {
   "cell_type": "markdown",
   "source": [
    "# TLDR LLM solutions for ~not reading~ software manuals \n",
    "\n",
    "#### Anton Antonov   \n",
    "#### RakuForPrediction at WordPress   \n",
    "#### RakuForPrediction-book at GitHub\n",
    "#### August 2023"
   ],
   "metadata": {
    "collapsed": false
   },
   "id": "bc3b88b850e5a1e5"
  },
  {
   "cell_type": "markdown",
   "source": [
    "------\n",
    "\n",
    "## Introduction\n",
    "\n",
    "In this notebook we use [Large Language Model (LLM) functions](https://rakuforprediction.wordpress.com/2023/08/01/workflows-with-llm-functions/), [AAp1, AA1], for generating (hopefully) executable, correct, and harmless code for Operating System resources managements.\n",
    "\n",
    "In order to be concrete and useful, we take the Markdown files of the articles [\"It's time to rak!\"](https://dev.to/lizmat/series/20329), that explain the motivation and usage of the Raku module [\"App::Rak\"](https://raku.land/zef:lizmat/App::Rak), and we show how meaningful, file finding shell commands can be generated via LLMs exposed to the code-with-comments from those articles.\n",
    "\n",
    "In other words, we prefer to apply the attitude Too Long; Didn't Read (TLDR) to articles and related Raku module [help](https://github.com/lizmat/App-Rak/blob/main/README.md).\n",
    "(Because \"App::Rak\" is useful, but it has too many parameters that we prefer not learn that much about.)  \n",
    "\n",
    "**Remark:** We say that \"App::Rak\" uses a Domain Specific Language (DSL), which is done with Raku's Command Line Interface (CLI) features.\n",
    "\n",
    "### Procedure outline\n",
    "\n",
    "1. Clone the corresponding [article repository](https://github.com/lizmat/articles)\n",
    "2. Locate and ingest the \"App::Rak\" dedicated Markdown files\n",
    "3. Extract code blocks from the Markdown files\n",
    "   - Using [\"Markdown::Grammar\"](https://raku.land/zef:antononcube/Markdown::Grammar) functions\n",
    "4. Get comment-and-code line pairs from the code blocks\n",
    "   - Using Raku text manipulation capabilities\n",
    "      - (After observing code examples) \n",
    "5. Generate from the comment-and-code pairs LLM few-shot training rules\n",
    "6. Use the LLM example function to translate natural language commands into (valid and relevant) \"App::Rak\" DSL commands\n",
    "   - With a few or a dozen natural language commands \n",
    "7. Use LLMs to generate natural language commands in order to test LLM-TLDR-er further \n",
    "\n",
    "Step 6 says how we do our TLDR -- we use LLM-translations of natural language commands.\n",
    "\n",
    "### Alternative procedure\n",
    "\n",
    "Instead of using Raku to process text we can make LLM functions for extracting the comment-and-code pairs.\n",
    "(That is also shown below.)    \n",
    "\n",
    "### Article's structure\n",
    "\n",
    "The exposition below follows the outlines of procedure subsections above.\n",
    "\n",
    "The article/document/notebook was made with the Jupyter framework, using the Raku package [\"Jupyter::Kernel\"](https://raku.land/cpan:BDUGGAN/Jupyter::Kernel), [BD1].  "
   ],
   "metadata": {
    "collapsed": false
   },
   "id": "e768561ca2628458"
  },
  {
   "cell_type": "markdown",
   "source": [
    "## Setup"
   ],
   "metadata": {
    "collapsed": false
   },
   "id": "28c5e0f086741d48"
  },
  {
   "cell_type": "code",
   "execution_count": 3,
   "outputs": [],
   "source": [
    "use Markdown::Grammar;\n",
    "use Data::Reshapers;\n",
    "use Data::Summarizers;\n",
    "use LLM::Functions;\n",
    "use Text::SubParsers;"
   ],
   "metadata": {
    "collapsed": false,
    "ExecuteTime": {
     "end_time": "2023-08-14T21:40:58.332561Z",
     "start_time": "2023-08-14T21:40:58.281555Z"
    }
   },
   "id": "eee215a20eb5a095"
  },
  {
   "cell_type": "markdown",
   "source": [
    "## File names"
   ],
   "metadata": {
    "collapsed": false
   },
   "id": "5cbcf1f0e3075237"
  },
  {
   "cell_type": "code",
   "execution_count": 24,
   "outputs": [
    {
     "data": {
      "text/plain": "4"
     },
     "execution_count": 24,
     "metadata": {},
     "output_type": "execute_result"
    }
   ],
   "source": [
    "my $dirName = $*HOME ~ '/GitHub/lizmat/articles';\n",
    "my @fileNames = dir($dirName).grep(*.Str.contains('time-to-rak'));\n",
    "@fileNames.elems"
   ],
   "metadata": {
    "collapsed": false,
    "ExecuteTime": {
     "end_time": "2023-08-14T21:41:46.330312Z",
     "start_time": "2023-08-14T21:41:46.289505Z"
    }
   },
   "id": "698327ae6477ca7e"
  },
  {
   "cell_type": "code",
   "execution_count": 26,
   "outputs": [
    {
     "data": {
      "text/plain": "4"
     },
     "execution_count": 26,
     "metadata": {},
     "output_type": "execute_result"
    }
   ],
   "source": [
    "my %texts = @fileNames.map({ $_.basename => slurp($_) });\n",
    "%texts.elems"
   ],
   "metadata": {
    "collapsed": false,
    "ExecuteTime": {
     "end_time": "2023-08-14T21:41:48.095691Z",
     "start_time": "2023-08-14T21:41:48.051596Z"
    }
   },
   "id": "425d7bc769a52f2d"
  },
  {
   "cell_type": "code",
   "execution_count": 28,
   "outputs": [
    {
     "data": {
      "text/plain": "{its-time-to-rak-1.md => 7437, its-time-to-rak-2.md => 8725, its-time-to-rak-3.md => 14181, its-time-to-rak-4.md => 9290}"
     },
     "execution_count": 28,
     "metadata": {},
     "output_type": "execute_result"
    }
   ],
   "source": [
    "%texts>>.chars"
   ],
   "metadata": {
    "collapsed": false,
    "ExecuteTime": {
     "end_time": "2023-08-14T21:41:51.387804Z",
     "start_time": "2023-08-14T21:41:51.345937Z"
    }
   },
   "id": "23cac4247279f2aa"
  },
  {
   "cell_type": "markdown",
   "source": [
    "With the function `md-section-tree` we extract code blocks from Markdown documentation files into data structures amenable for further programmatic manipulation (in Raku.)"
   ],
   "metadata": {
    "collapsed": false
   },
   "id": "65a33a495d16ba81"
  },
  {
   "cell_type": "code",
   "execution_count": 32,
   "outputs": [
    {
     "data": {
      "text/plain": "{its-time-to-rak-1.md => 1, its-time-to-rak-2.md => 11, its-time-to-rak-3.md => 24, its-time-to-rak-4.md => 16}"
     },
     "execution_count": 32,
     "metadata": {},
     "output_type": "execute_result"
    }
   ],
   "source": [
    "my %docTrees = %texts.map({ $_.key => md-section-tree($_.value, modifier => 'Code', max-level => 0) });\n",
    "%docTrees>>.elems"
   ],
   "metadata": {
    "collapsed": false,
    "ExecuteTime": {
     "end_time": "2023-08-14T21:42:02.642466Z",
     "start_time": "2023-08-14T21:42:02.229127Z"
    }
   },
   "id": "94c73091c59a8714"
  },
  {
   "cell_type": "code",
   "execution_count": 34,
   "outputs": [
    {
     "data": {
      "text/plain": "[```\n# Search for literal string \"foo\" from the current directory\n$ rak foo\n\n# Search for \"foo\" in the \"lib\" directory\n$ rak foo lib\n\n# Search for \"foo\" only in files with .txt and .text extensions\n$ rak foo --extensions=txt,text\n\n# Find files that have \"lib\" in their name from the current dir\n$ rak lib --find\n\n# Show all unique \"name\" fields in JSON files\n$ rak --json-per-file '*<name>' --unique\n\n# Show all lines with numbers between 1 and 65\n$ rak '/ \\d+ <?{ 1 <= $/.Int <= 65 }> /'\n\n# Show number of files / lines authored by Scooby Doo\n$ rak --blame-per-line '*.author eq \"Scooby Doo\"' --count-only\n``` ```\n# produce results without any highlighting\n$ rak foo --/highlight\n\n# produce results as if piping to a file\n$ rak foo --no-human\n``` ```\n# specify a literal pattern at the end of a line\n$ rak --type=ends-with foo\n\n# same, with a regular expression\n$ rak '/ foo $/'\n``` ```\n# save --ignorecase as -i, without description\n$ rak --ignorecase --save=i\n\n# save --ignoremark as -m, with description\n$ rak --ignoremark --description='Ignore any accents' --save=m\n\n# add / change description -i at a later time\n$ rak --description='Do not care about case' --save=i\n\n# look for literal string \"foo\", don't check case or accents\n$ rak foo -im\n``` ```\n# save looking for whitespace at end of a line as --wseol\n$ rak --pattern='/ \\s+ $/' --save=wseol\n\n# search for trailing whitespace\n$ rak --wseol\n``` ```\n# save searching in Rakudo's committed files as --rakudo\n$ rak --paths='~/Github/rakudo' --under-version-control --save=rakudo\n\n# search for 'sub min' in Rakudo's source\n$ rak 'sub min' --rakudo\n``` ```\n# save --after-context as -A, requiring a value\n$ rak --after-context=! --save=A\n\n# save --before-context as -B, requiring a value\n$ rak --before-context=! --save=B\n\n# save --context as -C, setting a default of 2\n$ rak --context='[2]' --save=C\n\n# search for \"foo\" and show two lines of context\n$ rak foo -C\n\n# search for \"foo\" and show 4 lines of context\n$ rak foo -C=4\n\n# same, without equal sign\n$ rak foo -C4\n``` ```\n# set up smartcase by default\n$ rak --smartcase --save='(default)'\n``` ```\n# look for \"foo\" case-insensitively\n$ rak foo\n\n# look for \"Foo\", while taking case into account\n$ rak Foo\n``` ```\n$ rak list-custom-options\n-i: Do not care about case\n  --ignorecase\n-m: Ignore any accents\n  --ignoremark\n``` ```\n# remove the --frobnicate custom option\n$ rak --save=frobnicate\n\n# Check there's no \"frobnicate\" option anymore\n$ rak --frobnicate\nRegarding unexpected option --frobnicate, did you mean:\n --proximate: Grouping of matched lines?\nSpecify --help for an overview of available options.\n``` ```\n# start rak with configuration file at /usr/local/rak-config.json\n$ RAK_CONFIG=/usr/local/rak-config.json rak foo\n``` ```\n# look for \"foo\" in all files\n$ rak foo\n\n# Search for \"foo\" in files of the \"lib\" directory\n$ rak foo lib\n``` ```\n# Look for \"ve\" anywhere on any line in file \"twenty\"\n$ rak --type=contains ve twenty\n``` ```\n$ rak §reading https://dev.to/lizmat/its-time-to-rak-part-1-30ji\nhttps://dev.to/lizmat/its-time-to-rak-part-1-30ji\n598:aria-label=\"Add to 𝐫𝐞𝐚𝐝𝐢𝐧𝐠 list\"\n954:<p>Thank you for 𝐫𝐞𝐚𝐝𝐢𝐧𝐠 all the way to the end!</p>\n``` ```\n# produce extensive help on filesystem filters\n$ rak --help=filesystem --pager=less\n``` ```\n# Search all files and all subdirectories\n$ rak foo *\n``` ```\n# Only accept files with the .bat extension\n$ rak foo --extensions=bat\n``` ```\n# Only accept files with the .bat or the .ps1 extension\n$ rak foo --extensions=bat,ps1\n``` ```\n# Only accept files without extension\n$ rak foo --extensions=\n``` ```\n# Only accept Raku and Markdown files\n$ rak foo --extensions=#raku,#markdown\n``` ```\n# List all known extensions\n# rak --list-known-extensions\n``` ```\n# produce extensive help on filesystem filters\n$ rak --help=filesystem\n``` ```\n# Search in the \"lib\" and \"doc\" directories\n$ rak foo lib doc\n$ rak foo --paths=lib,doc\n``` ```\n# produce extensive help on haystack specification\n$ rak --help=haystack\n``` ```\n# Show all filenames that have \"lib\" in their name\n$ rak --find lib\n``` ```\n# Show all filenames from current directory on down\n$ rak --find\n``` ```\n# Show all directory names from current directory down\n$ rak --find --/file\n``` ```\n# Look for \"ve\" anywhere on any line in file \"twenty\"\n$ rak --type=contains ve twenty\ntwenty\n5:fi𝐯𝐞\n7:se𝐯𝐞n\n11:ele𝐯𝐞n\n12:twel𝐯𝐞\n17:se𝐯𝐞nteen\n``` ```\n# Look for \"six\" as a word on any line in file \"twenty\"\n$ rak --type=words six twenty\ntwenty\n6:𝐬𝐢𝐱\n``` ```\n# Look for \"seven\" at the start of all lines in file \"twenty\"\n$ rak --type=starts-with seven twenty\ntwenty\n7:𝐬𝐞𝐯𝐞𝐧\n17:𝐬𝐞𝐯𝐞𝐧teen\n``` ```\n# Look for \"ve\" at the end of all lines in file \"twenty\"\n$ rak --type=ends-with ve twenty\ntwenty\n5:fi𝐯𝐞\n12:twel𝐯𝐞\n``` ```\n# Look for \"eight\" as the whole line in file \"twenty\"\n$ rak --type=equal eight twenty\ntwenty\n8:𝐞𝐢𝐠𝐡𝐭\n``` ```\n# Look for strings starting with \"e\" and ending with \"t\" and any\n# number of characters between them (.*), in file twenty\n$ rak --type=regex 'e.*t' twenty\ntwenty\n8:𝐞𝐢𝐠𝐡𝐭\n17:s𝐞𝐯𝐞𝐧𝐭een\n18:𝐞𝐢𝐠𝐡𝐭een\n19:nin𝐞𝐭een\n20:tw𝐞𝐧𝐭y\n``` ```\n# Look for strings containing y or Y\n$ rak --type=contains --ignorecase Y twenty\ntwenty\n20:twent𝐲\n``` ```\n# Look for strings matching \"u\" having any additional marks\n$ rak --type=contains --ignoremark ú twenty\ntwenty\n4:fo𝐮r\n``` ```\n# Look for lines containing \"ve\" and show them in uppercase\n$ rak '.uc if .contains(\"ve\")' twenty --type=code\ntwenty\n5:FIVE\n7:SEVEN\n11:ELEVEN\n12:TWELVE\n17:SEVENTEEN\n``` ```\n# Look for lines that contain \"y\" and produce all of its letters separately\n$ rak '.comb.Slip if .contains(\"y\")' twenty --type=code\ntwenty\n20:t\n20:w\n20:e\n20:n\n20:t\n20:y\n``` ```\n# Convert all occurrences of \"teen\" into \"10\"\n$ rak '.subst(\"teen\",10)' twenty --type=code\ntwenty\n1:one\n2:two\n3:three\n4:four\n5:five\n6:six\n7:seven\n8:eight\n9:nine\n10:ten\n11:eleven\n12:twelve\n13:thir10\n14:four10\n15:fif10\n16:six10\n17:seven10\n18:eigh10\n19:nine10\n20:twenty\n``` ```\n# Produce the frequencies of the letters in file \"twenty\"\n$ rak 'slip .comb' twenty --type=code --frequencies\n33:e\n17:n\n15:t\n9:i\n5:f\n5:v\n4:h\n4:o\n4:r\n4:s\n3:w\n2:g\n2:l\n2:u\n2:x\n1:y\n``` ```\n# Show the lines containing \"ne\"\n$ rak ne twenty\ntwenty\n1:o𝐧𝐞\n9:ni𝐧𝐞\n19:ni𝐧𝐞teen\n``` ```\n# Show the lines that contain \"six\" as a word\n$ rak §six twenty\ntwenty\n6:𝐬𝐢𝐱\n``` ```\n# Show the lines starting with \"e\"\n$ rak ^e twenty\ntwenty\n8:𝐞ight\n11:𝐞leven\n18:𝐞ighteen\n``` ```\n# Show the lines ending with \"o\"\n$ rak o$ twenty\ntwenty\n2:tw𝐨\n``` ```\n# Show all the lines that consist of \"seven\"\n$ rak ^seven$ twenty\ntwenty\n7:𝐬𝐞𝐯𝐞𝐧\n``` ```\n# Show all the lines with exactly on character between \"e\" and \"t\"\n$ rak /e.t/ twenty\ntwenty\n17:sev𝐞𝐧𝐭een\n20:tw𝐞𝐧𝐭y\n``` ```\n# Show all lines starting with \"t\" titlecased\n$ rak '{.tc if /^ t /}' twenty\ntwenty\n2:Two\n3:Three\n10:Ten\n12:Twelve\n13:Thirteen\n20:Twenty\n``` ```\n# Reverse the order of the characters of each line\n$ rak '*.flip' twenty\ntwenty\n1:eno\n2:owt\n3:eerht\n4:ruof\n5:evif\n6:xis\n7:neves\n8:thgie\n9:enin\n10:net\n11:nevele\n12:evlewt\n13:neetriht\n14:neetruof\n15:neetfif\n16:neetxis\n17:neetneves\n18:neethgie\n19:neetenin\n20:ytnewt\n``` ```\n# Show all lines that have an \"h\" in them, optionally followed by a \"t\"\n$ rak '/ h t? /' twenty\ntwenty\n3:t𝐡ree\n8:eig𝐡𝐭\n13:t𝐡irteen\n18:eig𝐡𝐭een\n``` ```\n# Look for one, with unneeded whitespace\n% rak '/ o ne /' twenty\nPotential difficulties:\n    Space is not significant here; please use quotes or :s (:sigspace) modifier (or, to suppress this warning, omit the space, or otherwise change the spacing)\n    ------> / o⏏ ne /\ntwenty\n1:𝐨𝐧𝐞\n``` ```\n# Look for lines with either \"foo\" or \"bar\"\n$ rak '/ one | four /' twenty\ntwenty\n1:𝐨𝐧𝐞\n4:𝐟𝐨𝐮𝐫\n14:𝐟𝐨𝐮𝐫teen\n``` ```\n# Look for lines in which there are words that start with \"fi\"\n$ rak '/ << fi \\w+ /' twenty\ntwenty\n5:𝐟𝐢𝐯𝐞\n15:𝐟𝐢𝐟𝐭𝐞𝐞𝐧\n```]"
     },
     "execution_count": 34,
     "metadata": {},
     "output_type": "execute_result"
    }
   ],
   "source": [
    "my @sections = %docTrees.values.Array.&flatten"
   ],
   "metadata": {
    "collapsed": false,
    "ExecuteTime": {
     "end_time": "2023-08-14T21:42:04.425997Z",
     "start_time": "2023-08-14T21:42:04.350982Z"
    }
   },
   "id": "714786b56213fc2e"
  },
  {
   "cell_type": "code",
   "execution_count": 36,
   "outputs": [
    {
     "data": {
      "text/plain": "(Nil Nil Nil Nil Nil Nil Nil Nil Nil Nil Nil Nil Nil Nil Nil Nil Nil Nil Nil Nil Nil Nil Nil Nil Nil Nil Nil Nil Nil Nil Nil Nil Nil Nil Nil Nil Nil Nil Nil Nil Nil Nil Nil Nil Nil Nil Nil Nil Nil Nil Nil Nil)"
     },
     "execution_count": 36,
     "metadata": {},
     "output_type": "execute_result"
    }
   ],
   "source": [
    "my @rules;\n",
    "@sections.map({ \n",
    "    given $_ { \n",
    "        for m:g/ '#' $<comment>=(\\V+) \\n '$' $<code>=(\\V+) \\n / -> $m {\n",
    "           @rules.push( ($m<comment>.Str.trim => $m<code>.Str.trim) ) \n",
    "         } } })"
   ],
   "metadata": {
    "collapsed": false,
    "ExecuteTime": {
     "end_time": "2023-08-14T21:42:08.163659Z",
     "start_time": "2023-08-14T21:42:08.105384Z"
    }
   },
   "id": "47d1efe2549dac1d"
  },
  {
   "cell_type": "markdown",
   "source": [
    "Here is the number of rules:"
   ],
   "metadata": {
    "collapsed": false
   },
   "id": "549be78931b890bd"
  },
  {
   "cell_type": "code",
   "execution_count": 38,
   "outputs": [
    {
     "data": {
      "text/plain": "69"
     },
     "execution_count": 38,
     "metadata": {},
     "output_type": "execute_result"
    }
   ],
   "source": [
    "@rules.elems"
   ],
   "metadata": {
    "collapsed": false,
    "ExecuteTime": {
     "end_time": "2023-08-14T21:42:11.792604Z",
     "start_time": "2023-08-14T21:42:11.749154Z"
    }
   },
   "id": "8fe61af5b291460d"
  },
  {
   "cell_type": "markdown",
   "source": [
    "Here is a sample of the rules:"
   ],
   "metadata": {
    "collapsed": false
   },
   "id": "76d5e4b1d2cad7ca"
  },
  {
   "cell_type": "code",
   "execution_count": 40,
   "outputs": [
    {
     "name": "stdout",
     "output_type": "stream",
     "text": [
      "Show all lines starting with \"t\" titlecased => rak '{.tc if /^ t /}' twenty\n",
      "Only accept Raku and Markdown files => rak foo --extensions=#raku,#markdown\n",
      "save --ignoremark as -m, with description => rak --ignoremark --description='Ignore any accents' --save=m\n",
      "Look for lines with either \"foo\" or \"bar\" => rak '/ one | four /' twenty\n",
      "Convert all occurrences of \"teen\" into \"10\" => rak '.subst(\"teen\",10)' twenty --type=code\n",
      "Reverse the order of the characters of each line => rak '*.flip' twenty\n"
     ]
    }
   ],
   "source": [
    ".say for @rules.pick(6)"
   ],
   "metadata": {
    "collapsed": false,
    "ExecuteTime": {
     "end_time": "2023-08-14T21:42:14.050271Z",
     "start_time": "2023-08-14T21:42:13.976719Z"
    }
   },
   "id": "be1492eb3c7789f8"
  },
  {
   "cell_type": "code",
   "execution_count": 42,
   "outputs": [
    {
     "data": {
      "text/plain": "+---------------------------------------------------------------------------+---------------------------------------------------------------------+\n| Key                                                                       | Value                                                               |\n+---------------------------------------------------------------------------+---------------------------------------------------------------------+\n| Search for literal string \"foo\" from the current directory                | rak foo                                                             |\n| Search for \"foo\" in the \"lib\" directory                                   | rak foo lib                                                         |\n| Search for \"foo\" only in files with .txt and .text extensions             | rak foo --extensions=txt,text                                       |\n| Find files that have \"lib\" in their name from the current dir             | rak lib --find                                                      |\n| Show all unique \"name\" fields in JSON files                               | rak --json-per-file '*<name>' --unique                              |\n| Show all lines with numbers between 1 and 65                              | rak '/ \\d+ <?{ 1 <= $/.Int <= 65 }> /'                              |\n| Show number of files / lines authored by Scooby Doo                       | rak --blame-per-line '*.author eq \"Scooby Doo\"' --count-only        |\n| produce results without any highlighting                                  | rak foo --/highlight                                                |\n| produce results as if piping to a file                                    | rak foo --no-human                                                  |\n| specify a literal pattern at the end of a line                            | rak --type=ends-with foo                                            |\n| same, with a regular expression                                           | rak '/ foo $/'                                                      |\n| save --ignorecase as -i, without description                              | rak --ignorecase --save=i                                           |\n| save --ignoremark as -m, with description                                 | rak --ignoremark --description='Ignore any accents' --save=m        |\n| add / change description -i at a later time                               | rak --description='Do not care about case' --save=i                 |\n| look for literal string \"foo\", don't check case or accents                | rak foo -im                                                         |\n| save looking for whitespace at end of a line as --wseol                   | rak --pattern='/ \\s+ $/' --save=wseol                               |\n| search for trailing whitespace                                            | rak --wseol                                                         |\n| save searching in Rakudo's committed files as --rakudo                    | rak --paths='~/Github/rakudo' --under-version-control --save=rakudo |\n| search for 'sub min' in Rakudo's source                                   | rak 'sub min' --rakudo                                              |\n| save --after-context as -A, requiring a value                             | rak --after-context=! --save=A                                      |\n| save --before-context as -B, requiring a value                            | rak --before-context=! --save=B                                     |\n| save --context as -C, setting a default of 2                              | rak --context='[2]' --save=C                                        |\n| search for \"foo\" and show two lines of context                            | rak foo -C                                                          |\n| search for \"foo\" and show 4 lines of context                              | rak foo -C=4                                                        |\n| same, without equal sign                                                  | rak foo -C4                                                         |\n| set up smartcase by default                                               | rak --smartcase --save='(default)'                                  |\n| look for \"foo\" case-insensitively                                         | rak foo                                                             |\n| look for \"Foo\", while taking case into account                            | rak Foo                                                             |\n| remove the --frobnicate custom option                                     | rak --save=frobnicate                                               |\n| Check there's no \"frobnicate\" option anymore                              | rak --frobnicate                                                    |\n| start rak with configuration file at /usr/local/rak-config.json           | RAK_CONFIG=/usr/local/rak-config.json rak foo                       |\n| look for \"foo\" in all files                                               | rak foo                                                             |\n| Search for \"foo\" in files of the \"lib\" directory                          | rak foo lib                                                         |\n| Look for \"ve\" anywhere on any line in file \"twenty\"                       | rak --type=contains ve twenty                                       |\n| produce extensive help on filesystem filters                              | rak --help=filesystem --pager=less                                  |\n| Search all files and all subdirectories                                   | rak foo *                                                           |\n| Only accept files with the .bat extension                                 | rak foo --extensions=bat                                            |\n| Only accept files with the .bat or the .ps1 extension                     | rak foo --extensions=bat,ps1                                        |\n| Only accept files without extension                                       | rak foo --extensions=                                               |\n| Only accept Raku and Markdown files                                       | rak foo --extensions=#raku,#markdown                                |\n| produce extensive help on filesystem filters                              | rak --help=filesystem                                               |\n| Search in the \"lib\" and \"doc\" directories                                 | rak foo lib doc                                                     |\n| produce extensive help on haystack specification                          | rak --help=haystack                                                 |\n| Show all filenames that have \"lib\" in their name                          | rak --find lib                                                      |\n| Show all filenames from current directory on down                         | rak --find                                                          |\n| Show all directory names from current directory down                      | rak --find --/file                                                  |\n| Look for \"ve\" anywhere on any line in file \"twenty\"                       | rak --type=contains ve twenty                                       |\n| Look for \"six\" as a word on any line in file \"twenty\"                     | rak --type=words six twenty                                         |\n| Look for \"seven\" at the start of all lines in file \"twenty\"               | rak --type=starts-with seven twenty                                 |\n| Look for \"ve\" at the end of all lines in file \"twenty\"                    | rak --type=ends-with ve twenty                                      |\n| Look for \"eight\" as the whole line in file \"twenty\"                       | rak --type=equal eight twenty                                       |\n| number of characters between them (.*), in file twenty                    | rak --type=regex 'e.*t' twenty                                      |\n| Look for strings containing y or Y                                        | rak --type=contains --ignorecase Y twenty                           |\n| Look for strings matching \"u\" having any additional marks                 | rak --type=contains --ignoremark ú twenty                           |\n| Look for lines containing \"ve\" and show them in uppercase                 | rak '.uc if .contains(\"ve\")' twenty --type=code                     |\n| Look for lines that contain \"y\" and produce all of its letters separately | rak '.comb.Slip if .contains(\"y\")' twenty --type=code               |\n| Convert all occurrences of \"teen\" into \"10\"                               | rak '.subst(\"teen\",10)' twenty --type=code                          |\n| Produce the frequencies of the letters in file \"twenty\"                   | rak 'slip .comb' twenty --type=code --frequencies                   |\n| Show the lines containing \"ne\"                                            | rak ne twenty                                                       |\n| Show the lines that contain \"six\" as a word                               | rak §six twenty                                                     |\n| Show the lines starting with \"e\"                                          | rak ^e twenty                                                       |\n| Show the lines ending with \"o\"                                            | rak o$ twenty                                                       |\n| Show all the lines that consist of \"seven\"                                | rak ^seven$ twenty                                                  |\n| Show all the lines with exactly on character between \"e\" and \"t\"          | rak /e.t/ twenty                                                    |\n| Show all lines starting with \"t\" titlecased                               | rak '{.tc if /^ t /}' twenty                                        |\n| Reverse the order of the characters of each line                          | rak '*.flip' twenty                                                 |\n| Show all lines that have an \"h\" in them, optionally followed by a \"t\"     | rak '/ h t? /' twenty                                               |\n| Look for lines with either \"foo\" or \"bar\"                                 | rak '/ one | four /' twenty                                         |\n| Look for lines in which there are words that start with \"fi\"              | rak '/ << fi \\w+ /' twenty                                          |\n+---------------------------------------------------------------------------+---------------------------------------------------------------------+"
     },
     "execution_count": 42,
     "metadata": {},
     "output_type": "execute_result"
    }
   ],
   "source": [
    "to-pretty-table(@rules, align => 'l', field-names => <Key Value>)"
   ],
   "metadata": {
    "collapsed": false,
    "ExecuteTime": {
     "end_time": "2023-08-14T21:42:16.290123Z",
     "start_time": "2023-08-14T21:42:16.181777Z"
    }
   },
   "id": "7b02d3c68f44e467"
  },
  {
   "cell_type": "markdown",
   "source": [
    "### Code generation examples"
   ],
   "metadata": {
    "collapsed": false
   },
   "id": "3c68c6b9f20829f4"
  },
  {
   "cell_type": "markdown",
   "source": [
    "Here we define an LLM function for generating \"App::Rak\" shell commands:"
   ],
   "metadata": {
    "collapsed": false
   },
   "id": "8948bf6fcb561e43"
  },
  {
   "cell_type": "code",
   "execution_count": 52,
   "outputs": [
    {
     "data": {
      "text/plain": "-> **@args, *%args { #`(Block|5060278236888) ... }"
     },
     "execution_count": 52,
     "metadata": {},
     "output_type": "execute_result"
    }
   ],
   "source": [
    "my &frak = llm-example-function(@rules, e => llm-evaluator('PaLM'))"
   ],
   "metadata": {
    "collapsed": false,
    "ExecuteTime": {
     "end_time": "2023-08-14T21:44:47.547975Z",
     "start_time": "2023-08-14T21:44:47.504017Z"
    }
   },
   "id": "3150f173d916f9d3"
  },
  {
   "cell_type": "code",
   "execution_count": 56,
   "outputs": [
    {
     "data": {
      "text/plain": "(5 2)"
     },
     "execution_count": 56,
     "metadata": {},
     "output_type": "execute_result"
    }
   ],
   "source": [
    "my @cmds = ['Find files that have \".nb\" in their names', 'Find files that have \".nb\"  or \".wl\" in their names',\n",
    " 'Show all directories of the parent directory', 'Give me files without extensions and that contain the phrase \"notebook\"', \n",
    " 'Show all that have extension raku or rakumod and contain Data::Reshapers'];\n",
    "\n",
    "my @tbl = @cmds.map({ %( 'Command' => $_, 'App::Rak' => &frak($_) ) }).Array;\n",
    "\n",
    "@tbl.&dimensions"
   ],
   "metadata": {
    "collapsed": false,
    "ExecuteTime": {
     "end_time": "2023-08-14T21:49:35.425576Z",
     "start_time": "2023-08-14T21:49:25.517643Z"
    }
   },
   "id": "580a84eb87e94d5e"
  },
  {
   "cell_type": "markdown",
   "source": [
    "Here is a table showing the natural language commands and  "
   ],
   "metadata": {
    "collapsed": false
   },
   "id": "ba14ec72e5cfa501"
  },
  {
   "cell_type": "code",
   "execution_count": 58,
   "outputs": [
    {
     "data": {
      "text/plain": "+--------------------------------------------------------------------------+--------------------------------------------------------------------+\n| Command                                                                  | App::Rak                                                           |\n+--------------------------------------------------------------------------+--------------------------------------------------------------------+\n| Find files that have \".nb\" in their names                                | rak --find --extensions=nb                                         |\n| Find files that have \".nb\"  or \".wl\" in their names                      | rak --find --extensions=nb,wl                                      |\n| Show all directories of the parent directory                             | rak --find --parent --/file                                        |\n| Give me files without extensions and that contain the phrase \"notebook\"  | rak --extensions= --type=contains notebook                         |\n| Show all that have extension raku or rakumod and contain Data::Reshapers | rak '*.raku,*.rakumod < Data::Reshapers' --extensions=raku,rakumod |\n+--------------------------------------------------------------------------+--------------------------------------------------------------------+"
     },
     "execution_count": 58,
     "metadata": {},
     "output_type": "execute_result"
    }
   ],
   "source": [
    "to-pretty-table(@tbl, align=>'l', field-names => <Command App::Rak>)"
   ],
   "metadata": {
    "collapsed": false,
    "ExecuteTime": {
     "end_time": "2023-08-14T21:49:58.008407Z",
     "start_time": "2023-08-14T21:49:57.958134Z"
    }
   },
   "id": "523f33f6b5793c89"
  },
  {
   "cell_type": "markdown",
   "source": [
    "-------\n",
    "\n",
    "## Translating random generated commands\n",
    "\n",
    "Consider testing the applicability of the approach by generating a \"good enough\" sample of natural language commands for finding files or directories.\n",
    "\n",
    "We can generate such commands via LLM. Here we define an LLM function with two parameters the returns a Raku list:"
   ],
   "metadata": {
    "collapsed": false
   },
   "id": "190d9eac93145c9a"
  },
  {
   "cell_type": "code",
   "execution_count": 66,
   "outputs": [
    {
     "data": {
      "text/plain": "-> **@args, *%args { #`(Block|5060312614472) ... }"
     },
     "execution_count": 66,
     "metadata": {},
     "output_type": "execute_result"
    }
   ],
   "source": [
    "my &fcg = llm-function({\"Generate $^_a natural language commands for finding $^b in a file system. Give the commands as a JSON list.\"}, form => sub-parser('JSON'))"
   ],
   "metadata": {
    "collapsed": false,
    "ExecuteTime": {
     "end_time": "2023-08-14T21:59:41.616998Z",
     "start_time": "2023-08-14T21:59:41.572169Z"
    }
   },
   "id": "bd99fbb8bd93d5a4"
  },
  {
   "cell_type": "code",
   "execution_count": 80,
   "outputs": [
    {
     "data": {
      "text/plain": "[\"Find me all the files with the word 'report' in their title\", \"Show me any files with the extension '.doc'\", \"Display all the photos in the 'Pictures' folder\", \"Show me all the files that were modified today\"]"
     },
     "execution_count": 80,
     "metadata": {},
     "output_type": "execute_result"
    }
   ],
   "source": [
    "my @gCmds1 = &fcg(4, 'files').flat;\n",
    "@gCmds1.raku"
   ],
   "metadata": {
    "collapsed": false,
    "ExecuteTime": {
     "end_time": "2023-08-14T22:05:48.250270Z",
     "start_time": "2023-08-14T22:05:44.791441Z"
    }
   },
   "id": "7e0944744b82e469"
  },
  {
   "cell_type": "markdown",
   "source": [
    "Here are the corresponding translations to the \"App::Rak\" DSL:"
   ],
   "metadata": {
    "collapsed": false
   },
   "id": "359aecb7101742d1"
  },
  {
   "cell_type": "code",
   "execution_count": 82,
   "outputs": [
    {
     "data": {
      "text/plain": "+------------------------------------------+--------------------------------------+\n| Command                                  | App::Rak                             |\n+------------------------------------------+--------------------------------------+\n| Show me all the files inside this folder | rak --find .                         |\n| Where are the files located?             | current directory and subdirectories |\n| What files are inside this directory?    | rak --find                           |\n| List all the files in this folder        | rak --find                           |\n+------------------------------------------+--------------------------------------+"
     },
     "execution_count": 82,
     "metadata": {},
     "output_type": "execute_result"
    }
   ],
   "source": [
    "my @tbl1 = @gCmds.map({ %( 'Command' => $_, 'App::Rak' => &frak($_) ) }).Array;\n",
    "to-pretty-table(@tbl1, align=>'l', field-names => <Command App::Rak>)"
   ],
   "metadata": {
    "collapsed": false,
    "ExecuteTime": {
     "end_time": "2023-08-14T22:06:02.493186Z",
     "start_time": "2023-08-14T22:05:54.566860Z"
    }
   },
   "id": "5e4a8a2aad40b73a"
  },
  {
   "cell_type": "markdown",
   "source": [
    "Let use redo the generation and translation using different specs: "
   ],
   "metadata": {
    "collapsed": false
   },
   "id": "567b3d5bf66f01c"
  },
  {
   "cell_type": "code",
   "execution_count": 78,
   "outputs": [
    {
     "data": {
      "text/plain": "[\"Find me all .pdf files\", \"Show me all .docx documents\", \"Locate all files with 'project' in the title\", \"Display files with the extension .xlsx\"]"
     },
     "execution_count": 78,
     "metadata": {},
     "output_type": "execute_result"
    }
   ],
   "source": [
    "my @gCmds2 = &fcg(4, 'files that have certain extensions or contain certain words').flat;\n",
    "@gCmds2.raku"
   ],
   "metadata": {
    "collapsed": false,
    "ExecuteTime": {
     "end_time": "2023-08-14T22:05:14.844311Z",
     "start_time": "2023-08-14T22:05:12.346686Z"
    }
   },
   "id": "5fac4d15037af204"
  },
  {
   "cell_type": "code",
   "execution_count": 86,
   "outputs": [
    {
     "data": {
      "text/plain": "+----------------------------------------------+----------------------------+\n| Command                                      | App::Rak                   |\n+----------------------------------------------+----------------------------+\n| Find me all .pdf files                       | rak --extensions=pdf       |\n| Show me all .docx documents                  | rak --types=docx           |\n| Locate all files with 'project' in the title | rak --title=project --find |\n| Display files with the extension .xlsx       | rak --extensions=xlsx      |\n+----------------------------------------------+----------------------------+"
     },
     "execution_count": 86,
     "metadata": {},
     "output_type": "execute_result"
    }
   ],
   "source": [
    "my @tbl2 = @gCmds2.map({ %( 'Command' => $_, 'App::Rak' => &frak($_) ) }).Array;\n",
    "to-pretty-table(@tbl2, align=>'l', field-names => <Command App::Rak>)"
   ],
   "metadata": {
    "collapsed": false,
    "ExecuteTime": {
     "end_time": "2023-08-14T22:06:37.609066Z",
     "start_time": "2023-08-14T22:06:29.811479Z"
    }
   },
   "id": "7f207b554eefb772"
  },
  {
   "cell_type": "markdown",
   "source": [
    "-------\n",
    "\n",
    "## Alternative programming with LLM"
   ],
   "metadata": {
    "collapsed": false
   },
   "id": "bd71321208607605"
  },
  {
   "cell_type": "code",
   "execution_count": 20,
   "outputs": [
    {
     "data": {
      "text/plain": "-> **@args, *%args { #`(Block|5060278153024) ... }"
     },
     "execution_count": 20,
     "metadata": {},
     "output_type": "execute_result"
    }
   ],
   "source": [
    "my &fcex = llm-function({\"Extract the consecutive line pairs in which the first start with '#' and second with '\\$' from the text $_. Group them as a key-value pairs and put them JSON format.\"}) "
   ],
   "metadata": {
    "collapsed": false,
    "ExecuteTime": {
     "end_time": "2023-08-14T21:40:59.331541Z",
     "start_time": "2023-08-14T21:40:59.291828Z"
    }
   },
   "id": "b452fe058be72c00"
  },
  {
   "cell_type": "code",
   "execution_count": 21,
   "outputs": [
    {
     "data": {
      "text/plain": "Variable '@sections' is not declared.  Perhaps you forgot a 'sub' if\nthis was intended to be part of a signature?"
     },
     "execution_count": 21,
     "metadata": {},
     "output_type": "execute_result"
    }
   ],
   "source": [
    "&fcex(@sections[0])"
   ],
   "metadata": {
    "collapsed": false,
    "ExecuteTime": {
     "end_time": "2023-08-14T21:40:59.474018Z",
     "start_time": "2023-08-14T21:40:59.342035Z"
    }
   },
   "id": "ccb1c29c4f8d31bc"
  },
  {
   "cell_type": "code",
   "execution_count": 22,
   "outputs": [
    {
     "data": {
      "text/plain": "()"
     },
     "execution_count": 22,
     "metadata": {},
     "output_type": "execute_result"
    }
   ],
   "source": [],
   "metadata": {
    "collapsed": false,
    "ExecuteTime": {
     "end_time": "2023-08-14T21:40:59.539912Z",
     "start_time": "2023-08-14T21:40:59.486373Z"
    }
   },
   "id": "1f163608fb396eba"
  },
  {
   "cell_type": "markdown",
   "source": [
    "------\n",
    "\n",
    "## References\n",
    "\n",
    "### Articles\n",
    "\n",
    "[AA1] Anton Antonov, [\"Workflows with LLM functions\"](https://rakuforprediction.wordpress.com/2023/08/01/workflows-with-llm-functions/), (2023), [RakuForPrediction at WordPress](https://rakuforprediction.wordpress.com).\n",
    "\n",
    "### Packages, paclets\n",
    "\n",
    "[AAp1] Anton Antonov, [LLM::Functions Raku package](https://github.com/antononcube/Raku-LLM-Functions), (2023), [GitHub/antononcube](https://github.com/antononcube).\n",
    "\n",
    "[AAp2] Anton Antonov, [WWW::OpenAI Raku package](https://github.com/antononcube/Raku-WWW-OpenAI), (2023), [GitHub/antononcube](https://github.com/antononcube).\n",
    "\n",
    "[AAp3] Anton Antonov, [WWW::PaLM Raku package](https://github.com/antononcube/Raku-WWW-PaLM), (2023), [GitHub/antononcube](https://github.com/antononcube).\n",
    "\n",
    "[AAp4] Anton Antonov, [Text::SubParsers Raku package](https://github.com/antononcube/Raku-Text-SubParsers), (2023), [GitHub/antononcube](https://github.com/antononcube).\n",
    "\n",
    "[BD1] Brian Duggan, [Jupyter::Kernel Raku package](https://raku.land/cpan:BDUGGAN/Jupyter::Kernel), (2017-2023), [GitHub/bduggan](https://github.com/bduggan/raku-jupyter-kernel)."
   ],
   "metadata": {
    "collapsed": false
   },
   "id": "4f9d1ef4270c6693"
  }
 ],
 "metadata": {
  "kernelspec": {
   "name": "raku",
   "language": "raku",
   "display_name": "Raku"
  },
  "language_info": {
   "codemirror_mode": {
    "name": "ipython",
    "version": 2
   },
   "file_extension": ".py",
   "mimetype": "text/x-python",
   "name": "python",
   "nbconvert_exporter": "python",
   "pygments_lexer": "ipython2",
   "version": "2.7.6"
  }
 },
 "nbformat": 4,
 "nbformat_minor": 5
}
