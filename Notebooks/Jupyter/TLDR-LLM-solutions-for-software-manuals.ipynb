{
 "cells": [
  {
   "cell_type": "markdown",
   "id": "bc3b88b850e5a1e5",
   "metadata": {},
   "source": [
    "# TLDR LLM solutions for ~not reading~ software manuals \n",
    "\n",
    "#### Anton Antonov   \n",
    "#### RakuForPrediction at WordPress   \n",
    "#### RakuForPrediction-book at GitHub\n",
    "#### August 2023"
   ]
  },
  {
   "cell_type": "markdown",
   "id": "e768561ca2628458",
   "metadata": {},
   "source": [
    "------\n",
    "\n",
    "## Introduction\n",
    "\n",
    "In this [Jupyter notebook](https://github.com/antononcube/RakuForPrediction-book/blob/main/Notebooks/Jupyter/TLDR-LLM-solutions-for-software-manuals.ipynb) we use [Large Language Model (LLM) functions](https://rakuforprediction.wordpress.com/2023/08/01/workflows-with-llm-functions/), [AAp1, AA1], for generating (hopefully) executable, correct, and harmless code for Operating System resources managements.\n",
    "\n",
    "In order to be concrete and useful, we take the Markdown files of the articles [\"It's time to rak!\"](https://dev.to/lizmat/series/20329), [EM1], that explain the motivation and usage of the Raku module [\"App::Rak\"](https://raku.land/zef:lizmat/App::Rak), [EMp1], and we show how meaningful, file finding shell commands can be generated via LLMs exposed to the code-with-comments from those articles.\n",
    "\n",
    "In other words, we prefer to apply the attitude Too Long; Didn't Read (TLDR) to the articles and related Raku module \n",
    "[README](https://github.com/lizmat/App-Rak/blob/main/README.md) (or user guide) file.\n",
    "(Because \"App::Rak\" is useful, but it has too many parameters that we prefer not to learn that much about.)  \n",
    "\n",
    "**Remark:** We say that \"App::Rak\" uses a Domain Specific Language (DSL), which is done with Raku's Command Line Interface (CLI) features.\n",
    "\n",
    "### Procedure outline\n",
    "\n",
    "1. Clone the corresponding [article repository](https://github.com/lizmat/articles)\n",
    "2. Locate and ingest the \"App::Rak\" dedicated Markdown files\n",
    "3. Extract code blocks from the Markdown files\n",
    "   - Using [\"Markdown::Grammar\"](https://raku.land/zef:antononcube/Markdown::Grammar), [AAp5], functions\n",
    "4. Get comment-and-code line pairs from the code blocks\n",
    "   - Using Raku text manipulation capabilities\n",
    "      - (After observing code examples) \n",
    "5. Generate from the comment-and-code pairs LLM few-shot training rules\n",
    "6. Use the LLM example function to translate natural language commands into (valid and relevant) \"App::Rak\" DSL commands\n",
    "   - With a few or a dozen natural language commands \n",
    "7. Use LLMs to generate natural language commands in order to test LLM-TLDR-er further \n",
    "\n",
    "Step 6 says how we do our TLDR -- we use LLM-translations of natural language commands.\n",
    "\n",
    "### Alternative procedure\n",
    "\n",
    "Instead of using Raku to process text we can make LLM functions for extracting the comment-and-code pairs.\n",
    "(That is also shown below.)    \n",
    "\n",
    "### Extensions\n",
    "\n",
    "1. Using LLMs to generate:\n",
    "    - Stress tests for \"App::Rak\"\n",
    "    - Variants of the gathered commands\n",
    "        - And make new training rules with them\n",
    "    - EBNF grammars for gathered commands\n",
    "2. Compare OpenAI and PaLM and or their different models \n",
    "    - Which one produces best results?\n",
    "    - Which ones produce better result for which subsets of commands?\n",
    "\n",
    "### Article's structure\n",
    "\n",
    "The exposition below follows the outlines of procedure subsections above. \n",
    "\n",
    "The stress-testing extensions and EBNF generation extension have thier own sections: \"Translating randomly generated commands\" and \"Grammar generation\" respectively. \n",
    "\n",
    "**Remark:** The article/document/notebook was made with the Jupyter framework, using the Raku package [\"Jupyter::Kernel\"](https://raku.land/cpan:BDUGGAN/Jupyter::Kernel), [BD1].  "
   ]
  },
  {
   "cell_type": "markdown",
   "id": "28c5e0f086741d48",
   "metadata": {},
   "source": [
    "--------\n",
    "\n",
    "## Setup"
   ]
  },
  {
   "cell_type": "code",
   "execution_count": 2,
   "id": "67e4b896440fdad",
   "metadata": {
    "ExecuteTime": {
     "end_time": "2023-08-15T02:53:34.693774Z",
     "start_time": "2023-08-15T02:53:34.554296Z"
    }
   },
   "outputs": [],
   "source": [
    "use Markdown::Grammar;\n",
    "use Data::Reshapers;\n",
    "use Data::Summarizers;\n",
    "use LLM::Functions;\n",
    "use Text::SubParsers;"
   ]
  },
  {
   "cell_type": "markdown",
   "id": "23d5073e754c9311",
   "metadata": {},
   "source": [
    "------\n",
    "\n",
    "## Workflow\n",
    "\n",
    "### File names"
   ]
  },
  {
   "cell_type": "code",
   "execution_count": 3,
   "id": "63fa6425d684d653",
   "metadata": {
    "ExecuteTime": {
     "end_time": "2023-08-15T02:53:34.697879Z",
     "start_time": "2023-08-15T02:53:34.602179Z"
    }
   },
   "outputs": [
    {
     "data": {
      "text/plain": [
       "4"
      ]
     },
     "execution_count": 3,
     "metadata": {},
     "output_type": "execute_result"
    }
   ],
   "source": [
    "my $dirName = $*HOME ~ '/GitHub/lizmat/articles';\n",
    "my @fileNames = dir($dirName).grep(*.Str.contains('time-to-rak'));\n",
    "@fileNames.elems"
   ]
  },
  {
   "cell_type": "markdown",
   "id": "be19b8311190e719",
   "metadata": {},
   "source": [
    "### Texts ingestion\n",
    "\n",
    "Here we ingest the text of each file:"
   ]
  },
  {
   "cell_type": "code",
   "execution_count": 4,
   "id": "a44c9bbfb7d200ab",
   "metadata": {
    "ExecuteTime": {
     "end_time": "2023-08-15T02:53:34.698112Z",
     "start_time": "2023-08-15T02:53:34.651094Z"
    }
   },
   "outputs": [
    {
     "data": {
      "text/plain": [
       "4"
      ]
     },
     "execution_count": 4,
     "metadata": {},
     "output_type": "execute_result"
    }
   ],
   "source": [
    "my %texts = @fileNames.map({ $_.basename => slurp($_) });\n",
    "%texts.elems"
   ]
  },
  {
   "cell_type": "markdown",
   "id": "47a9b1f04dd14cdc",
   "metadata": {},
   "source": [
    "Here are the number of characters per document:"
   ]
  },
  {
   "cell_type": "code",
   "execution_count": 5,
   "id": "c5ae0c2c7f2bcddc",
   "metadata": {
    "ExecuteTime": {
     "end_time": "2023-08-15T02:53:34.748999Z",
     "start_time": "2023-08-15T02:53:34.697981Z"
    }
   },
   "outputs": [
    {
     "data": {
      "text/plain": [
       "{its-time-to-rak-1.md => 7437, its-time-to-rak-2.md => 8725, its-time-to-rak-3.md => 14181, its-time-to-rak-4.md => 9290}"
      ]
     },
     "execution_count": 5,
     "metadata": {},
     "output_type": "execute_result"
    }
   ],
   "source": [
    "%texts>>.chars"
   ]
  },
  {
   "cell_type": "markdown",
   "id": "33b2722b6e078a2f",
   "metadata": {},
   "source": [
    "Here are the number of words per document:"
   ]
  },
  {
   "cell_type": "code",
   "execution_count": 6,
   "id": "6f2bbad8e62ab9d3",
   "metadata": {
    "ExecuteTime": {
     "end_time": "2023-08-15T02:53:34.785302Z",
     "start_time": "2023-08-15T02:53:34.744101Z"
    }
   },
   "outputs": [
    {
     "data": {
      "text/plain": [
       "{its-time-to-rak-1.md => 1205, its-time-to-rak-2.md => 1477, its-time-to-rak-3.md => 2312, its-time-to-rak-4.md => 1553}"
      ]
     },
     "execution_count": 6,
     "metadata": {},
     "output_type": "execute_result"
    }
   ],
   "source": [
    "%texts>>.words>>.elems"
   ]
  },
  {
   "cell_type": "markdown",
   "id": "99e674a47f21c36",
   "metadata": {},
   "source": [
    "### Get Markdown code blocks\n",
    "\n",
    "With the function `md-section-tree` we extract code blocks from Markdown documentation files into data structures amenable for further programmatic manipulation (in Raku.)\n",
    "Here we get code blocks from each text:"
   ]
  },
  {
   "cell_type": "code",
   "execution_count": 7,
   "id": "1388696492c4a5c7",
   "metadata": {
    "ExecuteTime": {
     "end_time": "2023-08-15T02:53:35.157250Z",
     "start_time": "2023-08-15T02:53:34.791496Z"
    }
   },
   "outputs": [
    {
     "data": {
      "text/plain": [
       "{its-time-to-rak-1.md => 1, its-time-to-rak-2.md => 11, its-time-to-rak-3.md => 24, its-time-to-rak-4.md => 16}"
      ]
     },
     "execution_count": 7,
     "metadata": {},
     "output_type": "execute_result"
    }
   ],
   "source": [
    "my %docTrees = %texts.map({ $_.key => md-section-tree($_.value, modifier => 'Code', max-level => 0) });\n",
    "%docTrees>>.elems"
   ]
  },
  {
   "cell_type": "markdown",
   "id": "aa06b40a7e890e40",
   "metadata": {},
   "source": [
    "Here we put all blocks into one array:"
   ]
  },
  {
   "cell_type": "code",
   "execution_count": 8,
   "id": "bfb9f12599d77eb8",
   "metadata": {
    "ExecuteTime": {
     "end_time": "2023-08-15T02:53:35.202713Z",
     "start_time": "2023-08-15T02:53:35.168016Z"
    }
   },
   "outputs": [
    {
     "data": {
      "text/plain": [
       "52"
      ]
     },
     "execution_count": 8,
     "metadata": {},
     "output_type": "execute_result"
    }
   ],
   "source": [
    "my @blocks = %docTrees.values.Array.&flatten;\n",
    "@blocks.elems"
   ]
  },
  {
   "cell_type": "markdown",
   "id": "9426e6e1b99bcc9f",
   "metadata": {},
   "source": [
    "### Extract command-and-code line pairs\n",
    "\n",
    "Here from each code block we parse-extract comment-and-code pairs and we form the LLM training rules:"
   ]
  },
  {
   "cell_type": "code",
   "execution_count": 9,
   "id": "990cf917338ebce",
   "metadata": {
    "ExecuteTime": {
     "end_time": "2023-08-15T02:53:35.262063Z",
     "start_time": "2023-08-15T02:53:35.214367Z"
    }
   },
   "outputs": [
    {
     "data": {
      "text/plain": [
       "52"
      ]
     },
     "execution_count": 9,
     "metadata": {},
     "output_type": "execute_result"
    }
   ],
   "source": [
    "my @rules;\n",
    "@blocks.map({ \n",
    "    given $_ { \n",
    "        for m:g/ '#' $<comment>=(\\V+) \\n '$' $<code>=(\\V+) \\n / -> $m {\n",
    "           @rules.push( ($m<comment>.Str.trim => $m<code>.Str.trim) ) \n",
    "         } } }).elems"
   ]
  },
  {
   "cell_type": "markdown",
   "id": "b79c31a4e7c08bc7",
   "metadata": {},
   "source": [
    "Here is the number of rules:"
   ]
  },
  {
   "cell_type": "code",
   "execution_count": 10,
   "id": "2276e2eefd2c24c6",
   "metadata": {
    "ExecuteTime": {
     "end_time": "2023-08-15T02:53:35.308118Z",
     "start_time": "2023-08-15T02:53:35.274474Z"
    }
   },
   "outputs": [
    {
     "data": {
      "text/plain": [
       "69"
      ]
     },
     "execution_count": 10,
     "metadata": {},
     "output_type": "execute_result"
    }
   ],
   "source": [
    "@rules.elems"
   ]
  },
  {
   "cell_type": "markdown",
   "id": "25968e1ad1d0ec6b",
   "metadata": {},
   "source": [
    "Here is a sample of the rules:"
   ]
  },
  {
   "cell_type": "code",
   "execution_count": 11,
   "id": "13f0e57154e2a07c",
   "metadata": {
    "ExecuteTime": {
     "end_time": "2023-08-15T02:53:35.374679Z",
     "start_time": "2023-08-15T02:53:35.319622Z"
    }
   },
   "outputs": [
    {
     "name": "stdout",
     "output_type": "stream",
     "text": [
      "save --after-context as -A, requiring a value => rak --after-context=! --save=A\n",
      "Show all directory names from current directory down => rak --find --/file\n",
      "Reverse the order of the characters of each line => rak '*.flip' twenty\n",
      "Show number of files / lines authored by Scooby Doo => rak --blame-per-line '*.author eq \"Scooby Doo\"' --count-only\n"
     ]
    }
   ],
   "source": [
    ".say for @rules.pick(4)"
   ]
  },
  {
   "cell_type": "markdown",
   "id": "9b980468572bc80",
   "metadata": {},
   "source": [
    "### Nice tabulation with LLM function\n",
    "\n",
    "In order to tabulate \"nicely\" the rules in the Jupyter notebook, we make an LLM functions to produce an HTML table and then specify the corresponding \"magic cell.\" \n",
    "(This relies on the Jupyter-magics features of [BDp1].) Here is an LLM conversion function, [AA1]:"
   ]
  },
  {
   "cell_type": "code",
   "execution_count": 12,
   "id": "f7db847cd76859b9",
   "metadata": {
    "ExecuteTime": {
     "end_time": "2023-08-15T12:27:05.540962Z",
     "start_time": "2023-08-15T12:27:05.492558Z"
    }
   },
   "outputs": [
    {
     "data": {
      "text/plain": [
       "-> **@args, *%args { #`(Block|5361560043184) ... }"
      ]
     },
     "execution_count": 12,
     "metadata": {},
     "output_type": "execute_result"
    }
   ],
   "source": [
    "my &ftbl = llm-function({\"Convert the $^a table $^b into an HTML table.\"}, e=>llm-configuration('PaL<', max-tokens=>800))"
   ]
  },
  {
   "cell_type": "markdown",
   "id": "4a544d386bf71a51",
   "metadata": {},
   "source": [
    "Here is the HTML table derivation:"
   ]
  },
  {
   "cell_type": "code",
   "execution_count": 13,
   "id": "6ab519a3c81d9f3d",
   "metadata": {
    "ExecuteTime": {
     "end_time": "2023-08-15T02:53:56.046812Z",
     "start_time": "2023-08-15T02:53:35.435798Z"
    }
   },
   "outputs": [
    {
     "data": {
      "text/html": [
       "\n",
       "\n",
       "<table>\n",
       "  <tr>\n",
       "    <th>Key</th>\n",
       "    <th>Value</th>\n",
       "  </tr>\n",
       "  <tr>\n",
       "    <td>Produce the frequencies of the letters in file \"twenty\"</td>\n",
       "    <td>rak 'slip .comb' twenty --type=code --frequencies</td>\n",
       "  </tr>\n",
       "  <tr>\n",
       "    <td>Search all files and all subdirectories</td>\n",
       "    <td>rak foo *</td>\n",
       "  </tr>\n",
       "  <tr>\n",
       "    <td>Search for literal string \"foo\" from the current directory</td>\n",
       "    <td>rak foo</td>\n",
       "  </tr>\n",
       "  <tr>\n",
       "    <td>Show all filenames from current directory on down</td>\n",
       "    <td>rak --find --treasure</td>\n",
       "  </tr>\n",
       "  <tr>\n",
       "    <td>Show all the lines that consist of \"seven\"</td>\n",
       "    <td>rak ^seven$ twenty</td>\n",
       "  </tr>\n",
       "  <tr>\n",
       "    <td>Show all unique \"name\" fields in JSON files</td>\n",
       "    <td>rak --json-per-file '*<name>' --unique</td>\n",
       "  </tr>\n",
       "  <tr>\n",
       "    <td>Show the lines ending with \"o\"</td>\n",
       "    <td>rak o$ twenty</td>\n",
       "  </tr>\n",
       "  <tr>\n",
       "    <td>add / change description -i at a later time</td>\n",
       "    <td>rak --description='Do not care about case' --save=i</td>\n",
       "  </tr>\n",
       "  <tr>\n",
       "    <td>look for literal string \"foo\", don't check case or accents</td>\n",
       "    <td>rak foo -im</td>\n",
       "  </tr>\n",
       "  <tr>\n",
       "    <td>remove the --frobnicate custom option</td>\n",
       "    <td>rak --save=frobnicate</td>\n",
       "  </tr>\n",
       "  <tr>\n",
       "    <td>same, with a regular expression</td>\n",
       "    <td>rak '/ foo $/'</td>\n",
       "  </tr>\n",
       "  <tr>\n",
       "    <td>save --ignorecase as -i, without description</td>\n",
       "    <td>rak --ignorecase --save=i</td>\n",
       "  </tr>\n",
       "</table>"
      ]
     },
     "execution_count": 13,
     "metadata": {},
     "output_type": "execute_result"
    }
   ],
   "source": [
    "%%html\n",
    "my $tblHTML=&ftbl(\"plain text\", to-pretty-table(@rules.pick(12).sort, align => 'l', field-names => <Key Value>))"
   ]
  },
  {
   "cell_type": "markdown",
   "id": "619ea0d3",
   "metadata": {
    "ExecuteTime": {
     "end_time": "2023-08-15T02:35:58.833801Z",
     "start_time": "2023-08-15T02:35:58.784428Z"
    }
   },
   "source": [
    "### Nice tabulation with \"Markdown::Grammar\"\n",
    "\n",
    "Instead of using LLMs for HTML conversion it is more \"productive\" to use the HTML interpreter provided by \"Markdown::Grammar\":"
   ]
  },
  {
   "cell_type": "code",
   "execution_count": 27,
   "id": "d381885bcefd2b29",
   "metadata": {
    "ExecuteTime": {
     "end_time": "2023-08-15T12:29:07.004134Z",
     "start_time": "2023-08-15T12:29:06.891426Z"
    }
   },
   "outputs": [
    {
     "data": {
      "text/html": [
       "<table>\n",
       "<tr>\n",
       "<th>Key</th>\n",
       "<th>Value</th>\n",
       "</tr>\n",
       "<tr>\n",
       "<td>Find files that have \"lib\" in their name from the current dir</td>\n",
       "<td>rak lib --find</td>\n",
       "</tr>\n",
       "<tr>\n",
       "<td>Look for strings containing y or Y</td>\n",
       "<td>rak --type=contains --ignorecase Y twenty</td>\n",
       "</tr>\n",
       "<tr>\n",
       "<td>Show all directory names from current directory down</td>\n",
       "<td>rak --find --/file</td>\n",
       "</tr>\n",
       "<tr>\n",
       "<td>Show all lines with numbers between 1 and 65</td>\n",
       "<td>rak '/ \\d+ <?{ 1 <= $/.Int <= 65 }> /'</td>\n",
       "</tr>\n",
       "<tr>\n",
       "<td>Show the lines that contain \"six\" as a word</td>\n",
       "<td>rak §six twenty</td>\n",
       "</tr>\n",
       "<tr>\n",
       "<td>look for \"Foo\", while taking case into account</td>\n",
       "<td>rak Foo</td>\n",
       "</tr>\n",
       "<tr>\n",
       "<td>look for \"foo\" in all files</td>\n",
       "<td>rak foo</td>\n",
       "</tr>\n",
       "<tr>\n",
       "<td>produce extensive help on filesystem filters</td>\n",
       "<td>rak --help=filesystem --pager=less</td>\n",
       "</tr>\n",
       "<tr>\n",
       "<td>save --context as -C, setting a default of 2</td>\n",
       "<td>rak --context='[2]' --save=C</td>\n",
       "</tr>\n",
       "<tr>\n",
       "<td>save searching in Rakudo's committed files as --rakudo</td>\n",
       "<td>rak --paths='~/Github/rakudo' --under-version-control --save=rakudo</td>\n",
       "</tr>\n",
       "<tr>\n",
       "<td>search for \"foo\" and show 4 lines of context</td>\n",
       "<td>rak foo -C=4</td>\n",
       "</tr>\n",
       "<tr>\n",
       "<td>start rak with configuration file at /usr/local/rak-config.json</td>\n",
       "<td>RAK_CONFIG=/usr/local/rak-config.json rak foo</td>\n",
       "</tr>\n",
       "</table>"
      ]
     },
     "execution_count": 27,
     "metadata": {},
     "output_type": "execute_result"
    }
   ],
   "source": [
    "%%html\n",
    "sub to-html($x) { md-interpret($x.Str.lines[1..*-2].join(\"\\n\").subst('+--','|--', :g).subst('--+','--|', :g), actions=>Markdown::Actions::HTML.new) }\n",
    "to-pretty-table(@rules.pick(12).sort) ==> to-html"
   ]
  },
  {
   "cell_type": "markdown",
   "source": [
    "**Remark:** Of course, in order to program the above sub we need *to know* how to use \"Markdown::Grammar\". Producing HTML tables with LLMs is much easier -- only knowledge of \"spoken English\" is required.   "
   ],
   "metadata": {
    "collapsed": false
   },
   "id": "7ab186a1608817fd"
  },
  {
   "cell_type": "markdown",
   "id": "3c68c6b9f20829f4",
   "metadata": {},
   "source": [
    "### Code generation examples"
   ]
  },
  {
   "cell_type": "markdown",
   "id": "8948bf6fcb561e43",
   "metadata": {},
   "source": [
    "Here we define an LLM function for generating \"App::Rak\" shell commands:"
   ]
  },
  {
   "cell_type": "code",
   "execution_count": 29,
   "id": "3150f173d916f9d3",
   "metadata": {
    "ExecuteTime": {
     "end_time": "2023-08-15T02:53:56.218906Z",
     "start_time": "2023-08-15T02:53:56.182635Z"
    }
   },
   "outputs": [
    {
     "data": {
      "text/plain": [
       "-> **@args, *%args { #`(Block|5361473489952) ... }"
      ]
     },
     "execution_count": 29,
     "metadata": {},
     "output_type": "execute_result"
    }
   ],
   "source": [
    "my &frak = llm-example-function(@rules, e => llm-evaluator('PaLM'))"
   ]
  },
  {
   "cell_type": "code",
   "execution_count": 30,
   "id": "580a84eb87e94d5e",
   "metadata": {
    "ExecuteTime": {
     "end_time": "2023-08-15T02:54:04.341871Z",
     "start_time": "2023-08-15T02:53:56.230403Z"
    }
   },
   "outputs": [
    {
     "data": {
      "text/plain": [
       "(5 2)"
      ]
     },
     "execution_count": 30,
     "metadata": {},
     "output_type": "execute_result"
    }
   ],
   "source": [
    "my @cmds = ['Find files that have \".nb\" in their names', 'Find files that have \".nb\"  or \".wl\" in their names',\n",
    " 'Show all directories of the parent directory', 'Give me files without extensions and that contain the phrase \"notebook\"', \n",
    " 'Show all that have extension raku or rakumod and contain Data::Reshapers'];\n",
    "\n",
    "my @tbl = @cmds.map({ %( 'Command' => $_, 'App::Rak' => &frak($_) ) }).Array;\n",
    "\n",
    "@tbl.&dimensions"
   ]
  },
  {
   "cell_type": "markdown",
   "id": "ba14ec72e5cfa501",
   "metadata": {},
   "source": [
    "Here is a table showing the natural language commands and the corresponding translations to the \"App::Rak\" CLI DSL:"
   ]
  },
  {
   "cell_type": "code",
   "execution_count": 31,
   "id": "523f33f6b5793c89",
   "metadata": {
    "ExecuteTime": {
     "end_time": "2023-08-15T02:54:04.396989Z",
     "start_time": "2023-08-15T02:54:04.354946Z"
    }
   },
   "outputs": [
    {
     "data": {
      "text/html": [
       "<table>\n",
       "<tr>\n",
       "<th>Command</th>\n",
       "<th>App::Rak</th>\n",
       "</tr>\n",
       "<tr>\n",
       "<td>Find files that have \".nb\" in their names</td>\n",
       "<td>rak --extensions=nb --find</td>\n",
       "</tr>\n",
       "<tr>\n",
       "<td>Find files that have \".nb\"  or \".wl\" in their names</td>\n",
       "<td>rak --find --extensions=nb,wl</td>\n",
       "</tr>\n",
       "<tr>\n",
       "<td>Show all directories of the parent directory</td>\n",
       "<td>rak --find --/file --parent</td>\n",
       "</tr>\n",
       "<tr>\n",
       "<td>Give me files without extensions and that contain the phrase \"notebook\"</td>\n",
       "<td>rak --extensions= --type=contains notebook</td>\n",
       "</tr>\n",
       "<tr>\n",
       "<td>Show all that have extension raku or rakumod and contain Data::Reshapers</td>\n",
       "<td>rak '/ Data::Reshapers /' --extensions=raku,rakumod</td>\n",
       "</tr>\n",
       "</table>"
      ]
     },
     "execution_count": 31,
     "metadata": {},
     "output_type": "execute_result"
    }
   ],
   "source": [
    "%%html\n",
    "to-pretty-table(@tbl, align=>'l', field-names => <Command App::Rak>) ==> to-html"
   ]
  },
  {
   "cell_type": "markdown",
   "id": "47cf0533",
   "metadata": {},
   "source": [
    "### Verification\n",
    "\n",
    "Of course, the obtained \"App::Rak\" commands have to be verified to:\n",
    "- Work  \n",
    "- Produce expected results\n",
    "\n",
    "We can program to this verification with Raku or with the Jupyter framework, but we not doing that here.\n",
    "(We do the verification manually outside of this notebook.)\n",
    "\n",
    "**Remark:** I tried a dozen of generated commands. Most *worked*. One did not work because of the current limitations of \"App::Rak\". Others needed appropriate nudging to produce the desired results."
   ]
  },
  {
   "cell_type": "markdown",
   "source": [
    "Here is an example of command that produces code that \"does not work\":"
   ],
   "metadata": {
    "collapsed": false
   },
   "id": "13dc77f507a60139"
  },
  {
   "cell_type": "code",
   "execution_count": 200,
   "outputs": [
    {
     "data": {
      "text/plain": "rak '*.nd <command> Classify' --extensions=nd"
     },
     "execution_count": 200,
     "metadata": {},
     "output_type": "execute_result"
    }
   ],
   "source": [
    "&frak(\"Give all files that have extensions .nd and contain the command Classify\")"
   ],
   "metadata": {
    "collapsed": false,
    "ExecuteTime": {
     "end_time": "2023-08-15T13:56:35.868338Z",
     "start_time": "2023-08-15T13:56:34.096249Z"
    }
   },
   "id": "9c91188d82f72c36"
  },
  {
   "cell_type": "markdown",
   "source": [
    "Here are a few more:"
   ],
   "metadata": {
    "collapsed": false
   },
   "id": "42d6f29b72d0a24d"
  },
  {
   "cell_type": "code",
   "execution_count": 202,
   "outputs": [
    {
     "data": {
      "text/plain": "rak --find --/file --/directory"
     },
     "execution_count": 202,
     "metadata": {},
     "output_type": "execute_result"
    }
   ],
   "source": [
    "&frak(\"give the names of all files in the parent directory\")"
   ],
   "metadata": {
    "collapsed": false,
    "ExecuteTime": {
     "end_time": "2023-08-15T14:03:37.029325Z",
     "start_time": "2023-08-15T14:03:35.408866Z"
    }
   },
   "id": "e983ebbd06d0539b"
  },
  {
   "cell_type": "code",
   "execution_count": 206,
   "outputs": [
    {
     "data": {
      "text/plain": "rak --find --/file --parent"
     },
     "execution_count": 206,
     "metadata": {},
     "output_type": "execute_result"
    }
   ],
   "source": [
    "&frak(\"Find all directories in the parent directory\")"
   ],
   "metadata": {
    "collapsed": false,
    "ExecuteTime": {
     "end_time": "2023-08-15T14:05:12.544239Z",
     "start_time": "2023-08-15T14:05:10.287345Z"
    }
   },
   "id": "f4f1034970d2a6e3"
  },
  {
   "cell_type": "markdown",
   "source": [
    "Here is a generated command that exposes an \"App::Rak\" [limitation](https://github.com/lizmat/App-Rak/issues/44):"
   ],
   "metadata": {
    "collapsed": false
   },
   "id": "1ba59961b9bb3477"
  },
  {
   "cell_type": "code",
   "execution_count": 212,
   "outputs": [
    {
     "data": {
      "text/plain": "rak --find .."
     },
     "execution_count": 212,
     "metadata": {},
     "output_type": "execute_result"
    }
   ],
   "source": [
    "&frak(\"Find all files in the parent directory\")"
   ],
   "metadata": {
    "collapsed": false,
    "ExecuteTime": {
     "end_time": "2023-08-15T14:14:56.646493Z",
     "start_time": "2023-08-15T14:14:54.205366Z"
    }
   },
   "id": "2b5ff8658a1725c"
  },
  {
   "cell_type": "markdown",
   "id": "190d9eac93145c9a",
   "metadata": {},
   "source": [
    "-------\n",
    "\n",
    "## Translating randomly generated commands\n",
    "\n",
    "Consider testing the applicability of the approach by generating a \"good enough\" sample of natural language commands for finding files or directories.\n",
    "\n",
    "We can generate such commands via LLM. Here we define an LLM function with two parameters the returns a Raku list:"
   ]
  },
  {
   "cell_type": "code",
   "execution_count": 32,
   "id": "bd99fbb8bd93d5a4",
   "metadata": {
    "ExecuteTime": {
     "end_time": "2023-08-15T02:54:04.446490Z",
     "start_time": "2023-08-15T02:54:04.408640Z"
    }
   },
   "outputs": [
    {
     "data": {
      "text/plain": [
       "-> **@args, *%args { #`(Block|5361560082992) ... }"
      ]
     },
     "execution_count": 32,
     "metadata": {},
     "output_type": "execute_result"
    }
   ],
   "source": [
    "my &fcg = llm-function({\"Generate $^_a natural language commands for finding $^b in a file system. Give the commands as a JSON list.\"}, form => sub-parser('JSON'))"
   ]
  },
  {
   "cell_type": "code",
   "execution_count": 35,
   "id": "7e0944744b82e469",
   "metadata": {
    "ExecuteTime": {
     "end_time": "2023-08-15T02:54:06.648322Z",
     "start_time": "2023-08-15T02:54:04.458092Z"
    }
   },
   "outputs": [
    {
     "data": {
      "text/plain": [
       "[\"Find all files in the current directory\", \"Find all files with the .txt extension in the current directory\", \"Search for all files with the word 'report' in the file name\", \"Search for all files with the word 'data' in the file name in the Documents folder\"]"
      ]
     },
     "execution_count": 35,
     "metadata": {},
     "output_type": "execute_result"
    }
   ],
   "source": [
    "my @gCmds1 = &fcg(4, 'files').flat;\n",
    "@gCmds1.raku"
   ]
  },
  {
   "cell_type": "markdown",
   "id": "359aecb7101742d1",
   "metadata": {},
   "source": [
    "Here are the corresponding translations to the \"App::Rak\" DSL:"
   ]
  },
  {
   "cell_type": "code",
   "execution_count": 37,
   "id": "5e4a8a2aad40b73a",
   "metadata": {
    "ExecuteTime": {
     "end_time": "2023-08-15T02:54:13.386773Z",
     "start_time": "2023-08-15T02:54:06.661248Z"
    }
   },
   "outputs": [
    {
     "data": {
      "text/html": [
       "<table>\n",
       "<tr>\n",
       "<th>Command</th>\n",
       "<th>App::Rak</th>\n",
       "</tr>\n",
       "<tr>\n",
       "<td>Find all files in the current directory</td>\n",
       "<td>rak --find</td>\n",
       "</tr>\n",
       "<tr>\n",
       "<td>Find all files with the .txt extension in the current directory</td>\n",
       "<td>rak --extensions=txt</td>\n",
       "</tr>\n",
       "<tr>\n",
       "<td>Search for all files with the word 'report' in the file name</td>\n",
       "<td>rak report --find</td>\n",
       "</tr>\n",
       "<tr>\n",
       "<td>Search for all files with the word 'data' in the file name in the Documents folder</td>\n",
       "<td>rak data Documents</td>\n",
       "</tr>\n",
       "</table>"
      ]
     },
     "execution_count": 37,
     "metadata": {},
     "output_type": "execute_result"
    }
   ],
   "source": [
    "%%html\n",
    "my @tbl1 = @gCmds1.map({ %( 'Command' => $_, 'App::Rak' => &frak($_) ) }).Array;\n",
    "@tbl1 ==> to-pretty-table(align=>'l', field-names => <Command App::Rak>) ==> to-html"
   ]
  },
  {
   "cell_type": "markdown",
   "id": "567b3d5bf66f01c",
   "metadata": {},
   "source": [
    "Let use redo the generation and translation using different specs: "
   ]
  },
  {
   "cell_type": "code",
   "execution_count": 38,
   "id": "5fac4d15037af204",
   "metadata": {
    "ExecuteTime": {
     "end_time": "2023-08-15T02:54:15.504306Z",
     "start_time": "2023-08-15T02:54:13.400427Z"
    }
   },
   "outputs": [
    {
     "data": {
      "text/plain": [
       "[\"Find all files with the extension .txt\", \"Locate all files that have the word 'project' in their name\", \"Show me all files with the extension .jpg\", \"Find all files that contain the word 'report'\"]"
      ]
     },
     "execution_count": 38,
     "metadata": {},
     "output_type": "execute_result"
    }
   ],
   "source": [
    "my @gCmds2 = &fcg(4, 'files that have certain extensions or contain certain words').flat;\n",
    "@gCmds2.raku"
   ]
  },
  {
   "cell_type": "code",
   "execution_count": 40,
   "id": "7f207b554eefb772",
   "metadata": {
    "ExecuteTime": {
     "end_time": "2023-08-15T02:54:21.290513Z",
     "start_time": "2023-08-15T02:54:15.517938Z"
    }
   },
   "outputs": [
    {
     "data": {
      "text/html": [
       "<table>\n",
       "<tr>\n",
       "<th>Command</th>\n",
       "<th>App::Rak</th>\n",
       "</tr>\n",
       "<tr>\n",
       "<td>Find all files with the extension .txt</td>\n",
       "<td>rak --extensions=txt</td>\n",
       "</tr>\n",
       "<tr>\n",
       "<td>Locate all files that have the word 'project' in their name</td>\n",
       "<td>rak --find project</td>\n",
       "</tr>\n",
       "<tr>\n",
       "<td>Show me all files with the extension .jpg</td>\n",
       "<td>rak --extensions=jpg</td>\n",
       "</tr>\n",
       "<tr>\n",
       "<td>Find all files that contain the word 'report'</td>\n",
       "<td>rak report --find</td>\n",
       "</tr>\n",
       "</table>"
      ]
     },
     "execution_count": 40,
     "metadata": {},
     "output_type": "execute_result"
    }
   ],
   "source": [
    "%%html\n",
    "my @tbl2 = @gCmds2.map({ %( 'Command' => $_, 'App::Rak' => &frak($_) ) }).Array;\n",
    "@tbl2 ==> to-pretty-table( align=>'l', field-names => <Command App::Rak>) ==> to-html"
   ]
  },
  {
   "cell_type": "markdown",
   "source": [
    "**Remark:** Ideally, there would be an LLM-based system that 1) hallucinates \"App::Rak\" commands, 2) executes them, and 3) files GitHub issues if it thinks the results are sub-par.\n",
    "(All done authomatically.) On a more practical note, we can use a system that has the first two components \"only\" to stress test \"App::Rak\"."
   ],
   "metadata": {
    "collapsed": false
   },
   "id": "b9c8267f6a22a842"
  },
  {
   "cell_type": "markdown",
   "id": "bd71321208607605",
   "metadata": {},
   "source": [
    "-------\n",
    "\n",
    "## Alternative programming with LLM"
   ]
  },
  {
   "cell_type": "markdown",
   "id": "f95e83678ad82b7a",
   "metadata": {},
   "source": [
    "In this subsection we show how to extract comment-and-code pairs using LLM functions. (Instead of *working hard* with Raku regexes.)\n",
    "\n",
    "Here is LLM function that specifies the extraction:"
   ]
  },
  {
   "cell_type": "code",
   "execution_count": 49,
   "id": "b452fe058be72c00",
   "metadata": {
    "ExecuteTime": {
     "end_time": "2023-08-15T02:54:21.341333Z",
     "start_time": "2023-08-15T02:54:21.303287Z"
    }
   },
   "outputs": [
    {
     "data": {
      "text/plain": [
       "-> **@args, *%args { #`(Block|5361473544264) ... }"
      ]
     },
     "execution_count": 49,
     "metadata": {},
     "output_type": "execute_result"
    }
   ],
   "source": [
    "my &fcex = llm-function({\"Extract consecutive line pairs in which the first start with '#' and second with '\\$' from the text $_. Group the lines as key-value pairs and put them in JSON format.\"}, \n",
    "form => 'JSON') "
   ]
  },
  {
   "cell_type": "markdown",
   "id": "6d422d40",
   "metadata": {},
   "source": [
    "Here are three code blocks:"
   ]
  },
  {
   "cell_type": "code",
   "execution_count": 58,
   "id": "2fe305cf0c088e85",
   "metadata": {
    "ExecuteTime": {
     "end_time": "2023-08-15T12:26:14.846897Z",
     "start_time": "2023-08-15T12:26:14.796794Z"
    }
   },
   "outputs": [
    {
     "data": {
      "text/html": [
       "<table>\n",
       "<tr>\n",
       "<th>0</th>\n",
       "<th>1</th>\n",
       "<th>2</th>\n",
       "</tr>\n",
       "<tr>\n",
       "<td><code>`</code></td>\n",
       "<td><code>`</code></td>\n",
       "<td><code>`</code></td>\n",
       "</tr>\n",
       "<tr>\n",
       "<td># Look for \"ve\" at the end of all lines in file \"twenty\"</td>\n",
       "<td># Show the lines containing \"ne\"</td>\n",
       "<td># List all known extensions</td>\n",
       "</tr>\n",
       "<tr>\n",
       "<td>$ rak --type=ends-with ve twenty</td>\n",
       "<td>$ rak ne twenty</td>\n",
       "<td># rak --list-known-extensions</td>\n",
       "</tr>\n",
       "<tr>\n",
       "<td>twenty</td>\n",
       "<td>twenty</td>\n",
       "<td><code>`</code></td>\n",
       "</tr>\n",
       "<tr>\n",
       "<td>5:fi𝐯𝐞</td>\n",
       "<td>1:o𝐧𝐞</td>\n",
       "<td></td>\n",
       "</tr>\n",
       "<tr>\n",
       "<td>12:twel𝐯𝐞</td>\n",
       "<td>9:ni𝐧𝐞</td>\n",
       "<td></td>\n",
       "</tr>\n",
       "<tr>\n",
       "<td><code>`</code></td>\n",
       "<td>19:ni𝐧𝐞teen</td>\n",
       "<td></td>\n",
       "</tr>\n",
       "<tr>\n",
       "<td></td>\n",
       "<td><code>`</code></td>\n",
       "<td></td>\n",
       "</tr>\n",
       "</table>"
      ]
     },
     "execution_count": 58,
     "metadata": {},
     "output_type": "execute_result"
    }
   ],
   "source": [
    "%%html\n",
    "my @focusInds = [3, 12, 45];\n",
    "[@blocks[@focusInds],] ==> to-pretty-table(align=>'l') ==> to-html"
   ]
  },
  {
   "cell_type": "markdown",
   "id": "8cedb32d",
   "metadata": {},
   "source": [
    "Here we extract the command-and-code lines from the code blocks:"
   ]
  },
  {
   "cell_type": "code",
   "execution_count": 59,
   "id": "ccb1c29c4f8d31bc",
   "metadata": {
    "ExecuteTime": {
     "end_time": "2023-08-15T12:24:07.784149Z",
     "start_time": "2023-08-15T12:24:03.583915Z"
    }
   },
   "outputs": [
    {
     "data": {
      "text/html": [
       "<table>\n",
       "<tr>\n",
       "<th>Value</th>\n",
       "<th>Key</th>\n",
       "</tr>\n",
       "<tr>\n",
       "<td># rak --list-known-extensions</td>\n",
       "<td># List all known extensions</td>\n",
       "</tr>\n",
       "<tr>\n",
       "<td>$ rak ne twenty</td>\n",
       "<td># Show the lines containing \"ne\"</td>\n",
       "</tr>\n",
       "<tr>\n",
       "<td>$ rak --type=ends-with ve twenty</td>\n",
       "<td># Look for \"ve\" at the end of all lines in file \"twenty\"</td>\n",
       "</tr>\n",
       "</table>"
      ]
     },
     "execution_count": 59,
     "metadata": {},
     "output_type": "execute_result"
    }
   ],
   "source": [
    "%%html\n",
    "&fcex(@blocks[@focusInds]) ==> to-pretty-table(align=>'l') ==> to-html"
   ]
  },
  {
   "cell_type": "markdown",
   "id": "b7428098efb6dd1e",
   "metadata": {},
   "source": [
    "-------\n",
    "\n",
    "## Grammar generation\n",
    "\n",
    "The \"right way\" of translating natural language DSLs to CLI DSLs like the one of \"App::Rak\" is to make a grammar for the natural language DSL and the corresponding interpreter.\n",
    "This might be a lengthy process, so, we might consider replacing it, or jump-starting it, with LLM-basd grammar generation:\n",
    "we ask an LLM to generate a grammar for a collection DSL sentences. (For example, the keys of the rules above.) \n",
    "In this subsection we make a \"teaser\" demonstration of latter approach.\n",
    "\n",
    "Here we create an LLM function for generating grammars over collections of sentences:"
   ]
  },
  {
   "cell_type": "code",
   "execution_count": 189,
   "id": "870c057136e03d46",
   "metadata": {
    "ExecuteTime": {
     "end_time": "2023-08-15T02:54:22.523569Z",
     "start_time": "2023-08-15T02:54:22.481808Z"
    }
   },
   "outputs": [
    {
     "data": {
      "text/plain": [
       "-> **@args, *%args { #`(Block|5060670827264) ... }"
      ]
     },
     "execution_count": 189,
     "metadata": {},
     "output_type": "execute_result"
    }
   ],
   "source": [
    "my &febnf = llm-function({\"Generate an $^a grammar for the collection of sentences:\\n $^b \"}, e => llm-configuration(\"OpenAI\", max-tokens=>900))"
   ]
  },
  {
   "cell_type": "markdown",
   "id": "c6ed558af1cdc63b",
   "metadata": {},
   "source": [
    "Here we generate an EBNF grammar for the \"App::Rak\" code-example commands:"
   ]
  },
  {
   "cell_type": "code",
   "execution_count": 190,
   "id": "364dde3711d2a612",
   "metadata": {
    "ExecuteTime": {
     "end_time": "2023-08-15T02:54:44.390750Z",
     "start_time": "2023-08-15T02:54:22.533384Z"
    }
   },
   "outputs": [
    {
     "data": {
      "text/plain": [
       " Look for the lines that contains two consecutive words that start with \"ba\" Show all the lines where the fifth character is \"e\"\n",
       "\n",
       "SentenceList → Sentence | SentenceList Sentence\n",
       "\n",
       "Sentence → ProduceResultsPipe | SpecifyLiteral | SpecifyRegExp | SaveIgnoreCase | SaveIgnoremark | AddChangeDescIgnoreCase | LiteralStringCheck | SaveWhitespace | SearchRakudo | SaveAfterContext | SaveBeforeContext | SaveContext | SearchContext | SmartCase | SearchCase | RemoveOption | StartRak | SearchFile | SearchSubDir | Extension | NoExtension | BehaviourFiles | HelpFilesystem | SearchDir | FindName | FindNumber | FindScooby | FindAnywhere | FindWord | FindStart | FindEnd | NumberCharacters | FindY | FindU | FindNE | FindSix | FindSeven | FindEight | FreqLetters | ShowContain | TitleCase | ReverseOrder | Optionally\n",
       "\n",
       "ProduceResultsPipe → \"produce\" \"results\" \"without\" \"any\" \"highlighting\"\n",
       "SpecifyLiteral → \"specify\" \"a\" \"literal\" \"pattern\" \"at\" \"the\" \"end\" \"of\" \"a\" \"line\"\n",
       "SpecifyRegExp → \"same,\" \"with\" \"a\" \"regular\" \"expression\"\n",
       "SaveIgnoreCase → \"save\" \"--ignorecase\" \"as\" \"-i,\" \"without\" \"description\"\n",
       "SaveIgnoremark → \"save\" \"--ignoremark\" \"as\" \"-m,\" \"with\" \"description\"\n",
       "AddChangeDescIgnoreCase → \"add\" \"/\" \"change\" \"description\" \"-i\" \"at\" \"a\" \"later\" \"time\"\n",
       "LiteralStringCheck → \"look\" \"for\" \"literal\" \"string\" \"\\\"foo\\\",\" \"don't\" \"check\" \"case\" \"or\" \"accents\"\n",
       "SaveWhitespace → \"save\" \"looking\" \"for\" \"whitespace\" \"at\" \"end\" \"of\" \"a\" \"line\" \"as\" \"--wseol\"\n",
       "SearchRakudo → \"search\" \"for\" \"'sub\" \"min'\" \"in\" \"Rakudo's\" \"source\"\n",
       "SaveAfterContext → \"save\" \"--after-context\" \"as\" \"-A,\" \"requiring\" \"a\" \"value\"\n",
       "SaveBeforeContext → \"save\" \"--before-context\" \"as\" \"-B,\" \"requiring\" \"a\" \"value\"\n",
       "SaveContext → \"save\" \"--context\" \"as\" \"-C,\" \"setting\" \"a\" \"default\" \"of\" \"2\"\n",
       "SearchContext → \"search\" \"for\" \"\\\"foo\\\"\" \"and\" \"show\" \"two\" \"lines\" \"of\" \"context\"\n",
       "SmartCase → \"set\" \"up\" \"smartcase\" \"by\" \"default\"\n",
       "SearchCase → \"look\" \"for\" \"\\\"Foo\\\",\" \"while\" \"taking\" \"case\" \"into\" \"account\"\n",
       "RemoveOption → \"remove\" \"the\" \"--frobnicate\" \"custom\" \"option\"\n",
       "CheckOption → \"check\" \"there's\" \"no\" \"\\\"frobnicate\\\"\" \"option\" \"anymore\"\n",
       "StartRak → \"start\" \"rak\" \"with\" \"configuration\" \"file\" \"at\" \"/usr/local/rak-config.json\"\n",
       "SearchFile → \"look\" \"for\" \"\\\"foo\\\"\" \"in\" \"all\" \"files\"\n",
       "SearchSubDir → \"search\" \"all\" \"files\" \"and\" \"all\" \"subdirectories\"\n",
       "Extension → \"only\" \"accept\" \"files\" \"with\" \"the\" \".bat\" \"extension\"\n",
       "NoExtension → \"only\" \"accept\" \"files\" \"without\" \"extension\"\n",
       "BehaviourFiles → \"only\" \"accept\" \"Raku\" \"and\" \"Markdown\" \"files\" \n",
       "HelpFilesystem → \"produce\" \"extensive\" \"help\" \"on\" \""
      ]
     },
     "execution_count": 190,
     "metadata": {},
     "output_type": "execute_result"
    }
   ],
   "source": [
    "my $ebnf = &febnf('EBNF', @rules>>.key)"
   ]
  },
  {
   "cell_type": "markdown",
   "id": "4f9d1ef4270c6693",
   "metadata": {},
   "source": [
    "------\n",
    "\n",
    "## References\n",
    "\n",
    "### Articles\n",
    "\n",
    "[AA1] Anton Antonov, [\"Workflows with LLM functions\"](https://rakuforprediction.wordpress.com/2023/08/01/workflows-with-llm-functions/), (2023), [RakuForPrediction at WordPress](https://rakuforprediction.wordpress.com).\n",
    "\n",
    "[AA2] Anton Antonov, [\"Graph representation of grammars\"](https://rakuforprediction.wordpress.com/2023/07/06/graph-representation-of-grammars/), (2023), [RakuForPrediction at WordPress](https://rakuforprediction.wordpress.com).\n",
    "\n",
    "[EM1] Elizabeth Mattijsen, [\"It's time to rak! Series' Articles\"](https://dev.to/lizmat/series/20329), (2022), [Lizmat series at Dev.to](https://dev.to/lizmat/series).\n",
    "\n",
    "### Packages, repositories\n",
    "\n",
    "[AAp1] Anton Antonov, [LLM::Functions Raku package](https://github.com/antononcube/Raku-LLM-Functions), (2023), [GitHub/antononcube](https://github.com/antononcube).\n",
    "\n",
    "[AAp2] Anton Antonov, [WWW::OpenAI Raku package](https://github.com/antononcube/Raku-WWW-OpenAI), (2023), [GitHub/antononcube](https://github.com/antononcube).\n",
    "\n",
    "[AAp3] Anton Antonov, [WWW::PaLM Raku package](https://github.com/antononcube/Raku-WWW-PaLM), (2023), [GitHub/antononcube](https://github.com/antononcube).\n",
    "\n",
    "[AAp4] Anton Antonov, [Text::SubParsers Raku package](https://github.com/antononcube/Raku-Text-SubParsers), (2023), [GitHub/antononcube](https://github.com/antononcube).\n",
    "\n",
    "[AAp5] Anton Antonov, [Markdown::Grammar Raku package](https://github.com/antononcube/Raku-Markdown-Grammar), (2023), [GitHub/antononcube](https://github.com/antononcube).\n",
    "\n",
    "[BDp1] Brian Duggan, [Jupyter::Kernel Raku package](https://raku.land/cpan:BDUGGAN/Jupyter::Kernel), (2017-2023), [GitHub/bduggan](https://github.com/bduggan/raku-jupyter-kernel).\n",
    "\n",
    "[EMp1] Elizabeth Mattijsen, [App::Rak Raku package](https://github.com/lizmat/App-Rak), (2022-2023), [GitHub/lizmat](https://github.com/lizmat).\n",
    "\n",
    "[EMr1] Elizabeth Mattijsen, [articles](https://github.com/lizmat/articles), (2018-2023) [GitHub/lizmat](https://github.com/lizmat)."
   ]
  }
 ],
 "metadata": {
  "kernelspec": {
   "display_name": "Raku",
   "language": "raku",
   "name": "raku"
  },
  "language_info": {
   "file_extension": ".raku",
   "mimetype": "text/plain",
   "name": "raku",
   "version": "6.d"
  }
 },
 "nbformat": 4,
 "nbformat_minor": 5
}
