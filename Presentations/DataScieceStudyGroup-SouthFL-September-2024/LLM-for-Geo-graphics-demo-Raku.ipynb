{
 "cells": [
  {
   "cell_type": "markdown",
   "metadata": {},
   "source": [
    "# LLM for Geo-graphics demo\n",
    "\n",
    "Anton Antonov   \n",
    "[Wolfram U Data Science Boot Camp](https://www.wolfram.com/wolfram-u/boot-camp-data-science/)  \n",
    "[South FL Data Science Study Group](https://www.meetup.com/data-science-study-group-south-florida/)    \n",
    "August, September 2024"
   ]
  },
  {
   "cell_type": "markdown",
   "metadata": {},
   "source": [
    "-----\n",
    "\n",
    "## Setup"
   ]
  },
  {
   "cell_type": "code",
   "execution_count": 1,
   "metadata": {},
   "outputs": [
    {
     "data": {
      "application/javascript": "google.charts.load('current', {'packages':['corechart']});\ngoogle.charts.load('current', {'packages':['gauge']});\ngoogle.charts.load('current', {'packages':['wordtree']});\ngoogle.charts.load('current', {'packages':['geochart']});\ngoogle.charts.load('current', {'packages':['table']});\ngoogle.charts.load('current', {'packages':['line']});\ngoogle.charts.setOnLoadCallback(function() {\n    console.log('Google Charts library loaded');\n});"
     },
     "execution_count": 1,
     "metadata": {},
     "output_type": "execute_result"
    }
   ],
   "source": [
    "#% javascript\n",
    "google.charts.load('current', {'packages':['corechart']});\n",
    "google.charts.load('current', {'packages':['gauge']});\n",
    "google.charts.load('current', {'packages':['wordtree']});\n",
    "google.charts.load('current', {'packages':['geochart']});\n",
    "google.charts.load('current', {'packages':['table']});\n",
    "google.charts.load('current', {'packages':['line']});\n",
    "google.charts.setOnLoadCallback(function() {\n",
    "    console.log('Google Charts library loaded');\n",
    "});"
   ]
  },
  {
   "cell_type": "code",
   "execution_count": 2,
   "metadata": {},
   "outputs": [
    {
     "data": {
      "text/plain": [
       "%%{\n",
       "  init: {\n",
       "    'theme': 'forest',\n",
       "    'themeVariables': {\n",
       "      'lineColor': 'Ivory'\n",
       "    }\n",
       "  }\n",
       "}%%\n"
      ]
     },
     "execution_count": 2,
     "metadata": {},
     "output_type": "execute_result"
    }
   ],
   "source": [
    "my $format = 'html';\n",
    "my $titleTextStyle = { color => 'Ivory' };\n",
    "my $backgroundColor = '#1F1F1F';\n",
    "my $legendTextStyle = { color => 'Silver' };\n",
    "my $legend = { position => \"none\", textStyle => {fontSize => 14, color => 'Silver'} };\n",
    "\n",
    "my $hAxis = { title => 'x', titleTextStyle => { color => 'Silver' }, textStyle => { color => 'Gray'}, logScale => False, format => 'scientific'};\n",
    "my $vAxis = { title => 'y', titleTextStyle => { color => 'Silver' }, textStyle => { color => 'Gray'}, logScale => False, format => 'scientific'};\n",
    "\n",
    "my $annotations = {textStyle => {color => 'Silver', fontSize => 10}};\n",
    "my $chartArea = {left => 50, right => 50, top => 50, bottom => 50, width => '90%', height => '90%'};\n",
    "\n",
    "my $background = '1F1F1F';\n",
    "my $mmd-theme = q:to/END/;\n",
    "%%{\n",
    "  init: {\n",
    "    'theme': 'forest',\n",
    "    'themeVariables': {\n",
    "      'lineColor': 'Ivory'\n",
    "    }\n",
    "  }\n",
    "}%%\n",
    "END"
   ]
  },
  {
   "cell_type": "markdown",
   "metadata": {},
   "source": [
    "-----\n",
    "\n",
    "## LLM persona"
   ]
  },
  {
   "cell_type": "code",
   "execution_count": 3,
   "metadata": {},
   "outputs": [
    {
     "data": {
      "text/plain": [
       "Chat object created with ID : gc.\n",
       "Expanded prompt:\n",
       "⎡You are Code Writer and as the coder that you are, you provide clear and concise code only, without explanation nor conversation. \n",
       "Your job is to output code with no accompanying text.\n",
       "Do not explain any code unless asked. Do not provide summaries unless asked.\n",
       "You are the best Google Charts programmer in the world but do not converse.\n",
       "You know the Google Charts documentation better than anyone but do not converse.\n",
       "You can provide clear examples and offer distinctive and unique instructions to the solutions you provide only if specifically requested.\n",
       "Only code in Google Charts unless told otherwise.\n",
       "Unless they ask, you will only give code.⎦"
      ]
     },
     "execution_count": 3,
     "metadata": {},
     "output_type": "execute_result"
    }
   ],
   "source": [
    "#% chat gc prompt, conf=chatgpt, model=gpt-4o, max-tokens=4096, temperature=0.4\n",
    "@CodeWriterX|'Google Charts'"
   ]
  },
  {
   "cell_type": "markdown",
   "metadata": {},
   "source": [
    "-----\n",
    "\n",
    "## Geo plot (1)"
   ]
  },
  {
   "cell_type": "code",
   "execution_count": 4,
   "metadata": {},
   "outputs": [
    {
     "data": {
      "text/html": [
       "```html\n",
       "<!DOCTYPE html>\n",
       "<html>\n",
       "  <head>\n",
       "    <script type=\"text/javascript\" src=\"https://www.gstatic.com/charts/loader.js\"></script>\n",
       "    <script type=\"text/javascript\">\n",
       "      google.charts.load('current', {\n",
       "        'packages': ['geochart'],\n",
       "        'mapsApiKey': 'YOUR_API_KEY'\n",
       "      });\n",
       "      google.charts.setOnLoadCallback(drawRegionsMap);\n",
       "\n",
       "      function drawRegionsMap() {\n",
       "        var data = google.visualization.arrayToDataTable([\n",
       "          ['Country'],\n",
       "          ['Cuba'],\n",
       "          ['Bahamas'],\n",
       "          ['Haiti'],\n",
       "          ['Dominican Republic'],\n",
       "          ['Jamaica'],\n",
       "          ['Puerto Rico'],\n",
       "          ['Trinidad and Tobago'],\n",
       "          ['Barbados'],\n",
       "          ['Saint Lucia'],\n",
       "          ['Grenada'],\n",
       "          ['Saint Vincent and the Grenadines'],\n",
       "          ['Antigua and Barbuda'],\n",
       "          ['Saint Kitts and Nevis']\n",
       "        ]);\n",
       "\n",
       "        var options = {\n",
       "          region: '019', // Americas\n",
       "          displayMode: 'regions',\n",
       "          resolution: 'countries',\n",
       "          colorAxis: {colors: ['#e7711c', '#4374e0']}\n",
       "        };\n",
       "\n",
       "        var chart = new google.visualization.GeoChart(document.getElementById('regions_div'));\n",
       "\n",
       "        chart.draw(data, options);\n",
       "      }\n",
       "    </script>\n",
       "  </head>\n",
       "  <body>\n",
       "    <div id=\"regions_div\" style=\"width: 900px; height: 500px;\"></div>\n",
       "  </body>\n",
       "</html>\n",
       "```"
      ]
     },
     "execution_count": 4,
     "metadata": {},
     "output_type": "execute_result"
    }
   ],
   "source": [
    "#% chat gc > html\n",
    "Show a regional map of Cuba and the Caribbean islands."
   ]
  },
  {
   "cell_type": "markdown",
   "metadata": {},
   "source": [
    "### Generated code"
   ]
  },
  {
   "cell_type": "markdown",
   "metadata": {},
   "source": [
    "What was generated:"
   ]
  },
  {
   "cell_type": "markdown",
   "metadata": {},
   "source": [
    "#### \"Blue\" version"
   ]
  },
  {
   "cell_type": "markdown",
   "metadata": {},
   "source": [
    "```html\n",
    "<!DOCTYPE html>\n",
    "<html>\n",
    "  <head>\n",
    "    <script type=\"text/javascript\" src=\"https://www.gstatic.com/charts/loader.js\"></script>\n",
    "    <script type=\"text/javascript\">\n",
    "      google.charts.load('current', {\n",
    "        'packages': ['geochart'],\n",
    "        'mapsApiKey': 'YOUR_API_KEY'\n",
    "      });\n",
    "      google.charts.setOnLoadCallback(drawRegionsMap);\n",
    "\n",
    "      function drawRegionsMap() {\n",
    "        var data = google.visualization.arrayToDataTable([\n",
    "          ['Country', 'Value'],\n",
    "          ['Cuba', 1],\n",
    "          ['Bahamas', 1],\n",
    "          ['Haiti', 1],\n",
    "          ['Dominican Republic', 1],\n",
    "          ['Jamaica', 1],\n",
    "          ['Puerto Rico', 1],\n",
    "          ['Trinidad and Tobago', 1],\n",
    "          ['Barbados', 1],\n",
    "          ['Saint Lucia', 1],\n",
    "          ['Saint Vincent and the Grenadines', 1],\n",
    "          ['Grenada', 1],\n",
    "          ['Antigua and Barbuda', 1],\n",
    "          ['Saint Kitts and Nevis', 1],\n",
    "          ['Dominica', 1]\n",
    "        ]);\n",
    "\n",
    "        var options = {\n",
    "          region: '029', // Caribbean\n",
    "          displayMode: 'regions',\n",
    "          resolution: 'countries',\n",
    "          colorAxis: {colors: ['#e7711c', '#4374e0']}\n",
    "        };\n",
    "\n",
    "        var chart = new google.visualization.GeoChart(document.getElementById('regions_div'));\n",
    "\n",
    "        chart.draw(data, options);\n",
    "      }\n",
    "    </script>\n",
    "  </head>\n",
    "  <body>\n",
    "    <div id=\"regions_div\" style=\"width: 900px; height: 500px;\"></div>\n",
    "  </body>\n",
    "</html>\n",
    "```"
   ]
  },
  {
   "cell_type": "markdown",
   "metadata": {},
   "source": [
    "#### \"Pink\" version"
   ]
  },
  {
   "cell_type": "markdown",
   "metadata": {},
   "source": [
    "```html\n",
    "<!DOCTYPE html>\n",
    "<html>\n",
    "  <head>\n",
    "    <title>Regional Map of Cuba and the Caribbean Islands</title>\n",
    "    <script type=\"text/javascript\" src=\"https://www.gstatic.com/charts/loader.js\"></script>\n",
    "    <script type=\"text/javascript\">\n",
    "      google.charts.load('current', {\n",
    "        'packages':['geochart'],\n",
    "        'mapsApiKey': 'YOUR_GOOGLE_MAPS_API_KEY'\n",
    "      });\n",
    "      google.charts.setOnLoadCallback(drawRegionsMap);\n",
    "\n",
    "      function drawRegionsMap() {\n",
    "        var data = google.visualization.arrayToDataTable([\n",
    "          ['Country', 'Popularity'],\n",
    "          ['Cuba', 100],\n",
    "          ['Bahamas', 100],\n",
    "          ['Jamaica', 100],\n",
    "          ['Haiti', 100],\n",
    "          ['Dominican Republic', 100],\n",
    "          ['Puerto Rico', 100],\n",
    "          ['Trinidad and Tobago', 100],\n",
    "          ['Barbados', 100],\n",
    "          ['Saint Lucia', 100],\n",
    "          ['Saint Vincent and the Grenadines', 100],\n",
    "          ['Grenada', 100],\n",
    "          ['Saint Kitts and Nevis', 100],\n",
    "          ['Antigua and Barbuda', 100],\n",
    "          ['Dominica', 100]\n",
    "        ]);\n",
    "\n",
    "        var options = {\n",
    "          region: '019', // Americas\n",
    "          displayMode: 'regions',\n",
    "          resolution: 'countries',\n",
    "          colorAxis: {colors: ['#e0f7fa', '#006064']},\n",
    "          backgroundColor: '#81d4fa',\n",
    "          datalessRegionColor: '#f8bbd0',\n",
    "          defaultColor: '#f5f5f5'\n",
    "        };\n",
    "\n",
    "        var chart = new google.visualization.GeoChart(document.getElementById('regions_div'));\n",
    "\n",
    "        chart.draw(data, options);\n",
    "      }\n",
    "    </script>\n",
    "  </head>\n",
    "  <body>\n",
    "    <div id=\"regions_div\" style=\"width: 900px; height: 500px;\"></div>\n",
    "  </body>\n",
    "</html>\n",
    "```"
   ]
  },
  {
   "cell_type": "markdown",
   "metadata": {},
   "source": [
    "-----\n",
    "\n",
    "## Geo plot (2)"
   ]
  },
  {
   "cell_type": "code",
   "execution_count": 6,
   "metadata": {},
   "outputs": [
    {
     "data": {
      "text/html": [
       "```html\n",
       "<!DOCTYPE html>\n",
       "<html>\n",
       "  <head>\n",
       "    <script type=\"text/javascript\" src=\"https://www.gstatic.com/charts/loader.js\"></script>\n",
       "    <script type=\"text/javascript\">\n",
       "      google.charts.load('current', {\n",
       "        'packages': ['geochart'],\n",
       "        'mapsApiKey': 'YOUR_API_KEY'\n",
       "      });\n",
       "      google.charts.setOnLoadCallback(drawMap);\n",
       "\n",
       "      function drawMap() {\n",
       "        var data = google.visualization.arrayToDataTable([\n",
       "          ['City', 'Latitude', 'Longitude'],\n",
       "          ['Havana Port', 23.1136, -82.3666]\n",
       "        ]);\n",
       "\n",
       "        var options = {\n",
       "          displayMode: 'markers',\n",
       "          colorAxis: {colors: ['green', 'blue']}\n",
       "        };\n",
       "\n",
       "        var chart = new google.visualization.GeoChart(document.getElementById('port'));\n",
       "\n",
       "        chart.draw(data, options);\n",
       "      }\n",
       "    </script>\n",
       "  </head>\n",
       "  <body>\n",
       "    <div id=\"port\" style=\"width: 900px; height: 500px;\"></div>\n",
       "  </body>\n",
       "</html>\n",
       "```"
      ]
     },
     "execution_count": 6,
     "metadata": {},
     "output_type": "execute_result"
    }
   ],
   "source": [
    "#% chat gc > html\n",
    "Geo ploat of Cuba's main marine port.\n",
    "Use the div-id 'port'."
   ]
  },
  {
   "cell_type": "markdown",
   "metadata": {},
   "source": [
    "### Generated code"
   ]
  },
  {
   "cell_type": "markdown",
   "metadata": {},
   "source": [
    "```html\n",
    "<!DOCTYPE html>\n",
    "<html>\n",
    "  <head>\n",
    "    <title>Cuba's Main Marine Port</title>\n",
    "    <script type=\"text/javascript\" src=\"https://www.gstatic.com/charts/loader.js\"></script>\n",
    "    <script type=\"text/javascript\">\n",
    "      google.charts.load('current', {\n",
    "        'packages':['geochart'],\n",
    "        'mapsApiKey': 'YOUR_GOOGLE_MAPS_API_KEY'\n",
    "      });\n",
    "      google.charts.setOnLoadCallback(drawMap);\n",
    "\n",
    "      function drawMap() {\n",
    "        var data = google.visualization.arrayToDataTable([\n",
    "          ['Lat', 'Long', 'Name'],\n",
    "          [23.1333, -82.3833, 'Havana Port']\n",
    "        ]);\n",
    "\n",
    "        var options = {\n",
    "          region: 'CU',\n",
    "          displayMode: 'markers',\n",
    "          colorAxis: {colors: ['#e7711c', '#4374e0']},\n",
    "          backgroundColor: '#81d4fa',\n",
    "          datalessRegionColor: '#f8bbd0',\n",
    "          defaultColor: '#f5f5f5'\n",
    "        };\n",
    "\n",
    "        var chart = new google.visualization.GeoChart(document.getElementById('port'));\n",
    "\n",
    "        chart.draw(data, options);\n",
    "      }\n",
    "    </script>\n",
    "  </head>\n",
    "  <body>\n",
    "    <div id=\"port\" style=\"width: 900px; height: 500px;\"></div>\n",
    "  </body>\n",
    "</html>\n",
    "```"
   ]
  }
 ],
 "metadata": {
  "kernelspec": {
   "display_name": "RakuChatbook",
   "language": "raku",
   "name": "raku"
  },
  "language_info": {
   "file_extension": ".raku",
   "mimetype": "text/x-raku",
   "name": "raku",
   "version": "6.d"
  }
 },
 "nbformat": 4,
 "nbformat_minor": 2
}
