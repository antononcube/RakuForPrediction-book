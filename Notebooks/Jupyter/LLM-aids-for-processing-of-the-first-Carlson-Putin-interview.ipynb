{
 "cells": [
  {
   "cell_type": "markdown",
   "metadata": {},
   "source": [
    "# LLM aids for processing of the first Carlson-Putin interview \n",
    "\n",
    "Anton Antonov   \n",
    "[RakuForPrediction at WordPress](https://rakuforprediction.wordpress.com)   \n",
    "[RakuForPrediction-book at GitHub](https://github.com/antononcube/RakuForPrediction-book)   \n",
    "February 2024"
   ]
  },
  {
   "cell_type": "markdown",
   "metadata": {},
   "source": [
    "-------\n",
    "\n",
    "## Introduction"
   ]
  },
  {
   "cell_type": "markdown",
   "metadata": {},
   "source": [
    "In this notebook we provide aids and computational workflows for the analysis of the first Carlson-Putin interview held in February 9th, 2024.\n",
    "We mostly use Large Language Models (LLMs). We walk through various steps involved in examining and understanding the interview in a systematic and reproducible manner.\n",
    "\n",
    "The interview transcripts are taken from [en.kremlin.ru](http://en.kremlin.ru).\n",
    "\n",
    "The computations are done with a [Raku chatbook](https://raku.land/zef:antononcube/Jupyter::Chatbook), [AAp6, AAv1÷AAv3]. The LLM functions used in the workflows are explained and demonstrated in [AA1, AAv3].\n",
    "The workflows are done with OpenAI's models [AAp1]; the models of Google (PaLM), [AAp2], and MistralAI, [AAp3], can be also used for the Part 1 summary and the search engine.\n",
    "The related images were generates with workflows described in [AA2]."
   ]
  },
  {
   "cell_type": "markdown",
   "metadata": {},
   "source": [
    "### Structure"
   ]
  },
  {
   "cell_type": "markdown",
   "metadata": {},
   "source": [
    "The structure of the notebook is as follows:\n",
    "\n",
    "1. **Getting the interview text**   \n",
    "    Standard ingestion.\n",
    "2. **Preliminary LLM queries**   \n",
    "    What are the most important parts or most provocative questions?\n",
    "3. **Part 1: separation and summary**   \n",
    "    Overview of the historical review.\n",
    "4. **Part 2: thematic parts**   \n",
    "    TLDR via a table of themes.\n",
    "5. **Interview's spoken parts**    \n",
    "    Non-LLM extraction of participants' parts.\n",
    "6. **Search engine**   \n",
    "    Fast results with LLM embeddings.\n",
    "7. **Flavored variations**   \n",
    "    How would Hillary phrase it? And how would Trump answer it?"
   ]
  },
  {
   "cell_type": "markdown",
   "metadata": {},
   "source": [
    "Sections 5 and 6 can be skipped -- they are (somewhat) more technical."
   ]
  },
  {
   "cell_type": "markdown",
   "metadata": {},
   "source": [
    "### Observations\n",
    "\n",
    "- Using the LLM functions for programmatic access of LLMs speeds up the efforts, I would say, by factor 3-5 times.\n",
    "- The workflows presented below are fairly universal -- with small changes the notebook can be applied to other interviews.\n",
    "- Using OpenAI's preview model \"gpt-4-turbo-preview\" spares or simplifies a fair amount of workflow elements.\n",
    "    - The model \"gpt-4-turbo-preview\" takes input with 128K tokens, [OAIb1]. \n",
    "    - Hence the whole interview can be processed in one LLM request.\n",
    "- Since I watched the interview, I can see that the LLM results for most provocative questions or most important statements are good.\n",
    "    - It is interesting to think about believing those results by people who have not watched the interview.\n",
    "- The search engine can be replaced or enhanced with a Question Answering System (QAS).\n",
    "- The flavored variations might be too subtle.\n",
    "    - I expected more obvious manifestation of characters involved."
   ]
  },
  {
   "cell_type": "markdown",
   "metadata": {},
   "source": [
    "-------\n",
    "\n",
    "## Getting the interview text"
   ]
  },
  {
   "cell_type": "markdown",
   "metadata": {},
   "source": [
    "The interviews are taken from the dedicated Kremlin's page [\"Interview to Tucker Carlson\"](http://en.kremlin.ru/events/president/news/73411), hosted at [en.kremlin.ru](http://en.kremlin.ru)."
   ]
  },
  {
   "cell_type": "markdown",
   "metadata": {},
   "source": [
    "Here we load a package and define a text statistics function:"
   ]
  },
  {
   "cell_type": "code",
   "execution_count": 3,
   "metadata": {},
   "outputs": [
    {
     "data": {
      "text/plain": [
       "&text-stats"
      ]
     },
     "execution_count": 3,
     "metadata": {},
     "output_type": "execute_result"
    }
   ],
   "source": [
    "use HTTP::Tiny;\n",
    "\n",
    "sub text-stats(Str:D $txt) { <chars words lines> Z=> [$txt.chars, $txt.words.elems, $txt.lines.elems] }"
   ]
  },
  {
   "cell_type": "markdown",
   "metadata": {},
   "source": [
    "Here we ingest interview's text:"
   ]
  },
  {
   "cell_type": "code",
   "execution_count": 4,
   "metadata": {},
   "outputs": [
    {
     "data": {
      "text/plain": [
       "(chars => 97354 words => 16980 lines => 292)"
      ]
     },
     "execution_count": 4,
     "metadata": {},
     "output_type": "execute_result"
    }
   ],
   "source": [
    "my $url = 'https://raw.githubusercontent.com/antononcube/SimplifiedMachineLearningWorkflows-book/master/Data/Carlson-Putin-interview-2024-02-09-English.txt';\n",
    "my $txtEN = HTTP::Tiny.new.get($url)<content>.decode;\n",
    "$txtEN .= subst(/ \\v+ /, \"\\n\", :g);\n",
    "text-stats($txtEN)"
   ]
  },
  {
   "cell_type": "markdown",
   "metadata": {},
   "source": [
    "------\n",
    "\n",
    "## Preliminary LLM queries"
   ]
  },
  {
   "cell_type": "markdown",
   "metadata": {},
   "source": [
    "Here we configure LLM access -- we use OpenAI's model \"gpt-4-turbo-preview\" since it allows inputs with 128K tokens:"
   ]
  },
  {
   "cell_type": "code",
   "execution_count": 185,
   "metadata": {},
   "outputs": [
    {
     "data": {
      "text/plain": [
       "21"
      ]
     },
     "execution_count": 185,
     "metadata": {},
     "output_type": "execute_result"
    }
   ],
   "source": [
    "my $conf = llm-configuration('ChatGPT', model => 'gpt-4-turbo-preview', max-tokens => 4096, temperature => 0.2);\n",
    "$conf.Hash.elems"
   ]
  },
  {
   "cell_type": "markdown",
   "metadata": {},
   "source": [
    "### Questions"
   ]
  },
  {
   "cell_type": "markdown",
   "metadata": {},
   "source": [
    "First we make an LLM request about the number of questions asked:"
   ]
  },
  {
   "cell_type": "code",
   "execution_count": 12,
   "metadata": {},
   "outputs": [
    {
     "data": {
      "text/plain": [
       "In the interview between Tucker Carlson and President Vladimir Putin, Tucker Carlson asked a total of 57 questions."
      ]
     },
     "execution_count": 12,
     "metadata": {},
     "output_type": "execute_result"
    }
   ],
   "source": [
    "llm-synthesize([\"How many questions were asked in the following interview?\\n\\n\", $txtEN], e => $conf)"
   ]
  },
  {
   "cell_type": "markdown",
   "metadata": {},
   "source": [
    "Here we ask the questions to be extracted into a JSON list:"
   ]
  },
  {
   "cell_type": "code",
   "execution_count": 20,
   "metadata": {},
   "outputs": [
    {
     "data": {
      "text/plain": [
       "Vector(Assoc(Atom((Str)), Atom((Str)), 1), 30)"
      ]
     },
     "execution_count": 20,
     "metadata": {},
     "output_type": "execute_result"
    }
   ],
   "source": [
    "my $llmQuestions = llm-synthesize([\n",
    "    \"Extract all questions from the following interview into a JSON list.\\n\\n\", \n",
    "    $txtEN,\n",
    "    llm-prompt('NothingElse')('JSON')\n",
    "    ], e => $conf, form => sub-parser('JSON'):drop);\n",
    "\n",
    "deduce-type($llmQuestions)"
   ]
  },
  {
   "cell_type": "markdown",
   "metadata": {},
   "source": [
    "We can see that the LLM-extracted questions are two times less than the LLM-obtained number of questions above.\n",
    "Here are the extracted questions (in a multi-column format): "
   ]
  },
  {
   "cell_type": "code",
   "execution_count": 25,
   "metadata": {},
   "outputs": [
    {
     "data": {
      "text/html": [
       "<table border=\"1\"><tbody><tr><td>Tell us why you believe the United States might strike Russia out of the blue. How did you conclude that?</td><td>In 1654?</td><td>What do you think of that?</td></tr><tr><td>You were initially trained in history, as far as I know?</td><td>What did he say?</td><td>Evan Gershkovich, that’s a completely different, I mean, this is a thirty-two year old newspaper reporter.</td></tr><tr><td>I beg your pardon, can you tell us what period… I am losing track of where in history we are.</td><td>But you haven’t spoken to him since before February of 2022?</td><td>He is just a journalist.</td></tr><tr><td>May I ask… You are making the case that Ukraine, certain parts of Ukraine, Eastern Ukraine, in fact, has been Russia for hundreds of years. Why wouldn’t you just take it when you became President 24 years ago? You have nuclear weapons, they don’t. It’s actually your land. Why did you wait so long?</td><td>You do not remember?!</td><td>But are you suggesting he was working for the US government or NATO? Or he was just a reporter who was given material he wasn’t supposed to have? Those seem like very different, very different things.</td></tr><tr><td>Do you believe Hungary has a right to take back its land from Ukraine? And that other nations have a right to go back to their 1654 borders?</td><td>But he is funding the war that you are fighting, so I think that would be memorable?</td><td>Do you think it is too humiliating at this point for NATO to accept Russian control of what was two years ago Ukrainian territory?</td></tr><tr><td>Have you told Viktor Orban that he can have a part of Ukraine?</td><td>Who blew up Nord Stream?</td><td>Would you be willing to say, “Congratulations, NATO, you won?” And just keep the situation where it is now?</td></tr><tr><td>Why do you think the West rebuffed you then? Why the hostility? Why did the end of the Cold War not fix the relationship? What motivates this from your point of view?</td><td>Do you have evidence that NATO or the CIA did it?</td><td>Do you think it’s too humiliating at this point for NATO to accept Russian control of what was two years ago Ukrainian territory?</td></tr><tr><td>Were you sincere? Would you have joined NATO?</td><td>Why wouldn’t you present it and win a propaganda victory?</td><td>Would you be willing to say, “Congratulations, NATO, you won?” And just keep the situation where it is now?</td></tr><tr><td>May I ask what year was this?</td><td>Why are they being silent about it? That is very confusing to me. Why wouldn’t the Germans say something about it?</td><td>Do you think Zelensky has the freedom to negotiate the settlement to this conflict?</td></tr><tr><td>So, twice you&#39;ve described US presidents making decisions and then being undercut by their agency heads. So, it sounds like you&#39;re describing a system that is not run by the people who are elected, in your telling.</td><td>When does the AI empire start do you think?</td><td>Are you worried that what’s happening in Ukraine could lead to something much larger and much more horrible and how motivated are you just to call the US government and say, “let’s come to terms”?</td></tr></tbody></table>"
      ]
     },
     "execution_count": 25,
     "metadata": {},
     "output_type": "execute_result"
    }
   ],
   "source": [
    "#%html\n",
    "$llmQuestions>>.values.flat ==> to-html(cols=>3):multicolumn"
   ]
  },
  {
   "cell_type": "markdown",
   "metadata": {},
   "source": [
    "### Important parts"
   ]
  },
  {
   "cell_type": "markdown",
   "metadata": {},
   "source": [
    "Here we make a function of extracting *significant* parts from the interview:"
   ]
  },
  {
   "cell_type": "code",
   "execution_count": 26,
   "metadata": {},
   "outputs": [
    {
     "data": {
      "text/plain": [
       "-> **@args, *%args { #`(Block|3154225945208) ... }"
      ]
     },
     "execution_count": 26,
     "metadata": {},
     "output_type": "execute_result"
    }
   ],
   "source": [
    "my &fProv = llm-function({\"Which are the top $^a most $^b in the following interview?\\n\\n\" ~ $txtEN}, e => $conf)"
   ]
  },
  {
   "cell_type": "markdown",
   "metadata": {},
   "source": [
    "#### Most provocative questions\n",
    "\n",
    "Here we get the most provocative questions:"
   ]
  },
  {
   "cell_type": "code",
   "execution_count": 27,
   "metadata": {},
   "outputs": [
    {
     "data": {
      "text/markdown": [
       "Based on the content and context of the interview between Tucker Carlson and President Vladimir Putin, identifying the top three most provocative questions involves subjective judgment. However, considering the potential for controversy, international implications, and the depth of response they elicited, the following three questions can be considered among the most provocative:\n",
       "\n",
       "1. **NATO Expansion and Perceived Threats to Russia:**\n",
       "   - **Question:** \"On February 24, 2022, you addressed your country in your nationwide address when the conflict in Ukraine started and you said that you were acting because you had come to the conclusion that the United States through NATO might initiate a quote, “surprise attack on our country.” And to American ears that sounds paranoid. Tell us why you believe the United States might strike Russia out of the blue. How did you conclude that?\"\n",
       "   - **Context:** This question directly challenges Putin's justification for the military actions in Ukraine, suggesting paranoia, and seeks an explanation for Russia's perceived threat from NATO and the U.S., which is central to understanding the conflict's origins from Russia's perspective.\n",
       "\n",
       "2. **Possibility of Negotiated Settlement in Ukraine:**\n",
       "   - **Question:** \"Do you think Zelensky has the freedom to negotiate the settlement to this conflict?\"\n",
       "   - **Context:** This question probes the autonomy and authority of Ukrainian President Volodymyr Zelensky in the context of peace negotiations, implicitly questioning the influence of external powers (notably the U.S.) on Ukraine's decision-making and the potential for resolving the conflict through diplomacy.\n",
       "\n",
       "3. **Use of Nuclear Weapons and Global Conflict:**\n",
       "   - **Question:** \"Do you think NATO was worried about this becoming a global war or nuclear conflict?\"\n",
       "   - **Context:** Given the nuclear capabilities of Russia and the escalating tensions with NATO, this question touches on the fears of a broader, potentially nuclear, conflict. Putin's response could provide insights into Russia's stance on the use of nuclear weapons and its perception of NATO's concerns about escalation.\n",
       "\n",
       "These questions are provocative due to their direct challenge to Putin's actions and rationale, their exploration of sensitive geopolitical issues, and their potential to elicit responses that could have significant international repercussions."
      ]
     },
     "execution_count": 27,
     "metadata": {},
     "output_type": "execute_result"
    }
   ],
   "source": [
    "#% markdown\n",
    "&fProv(3, 'provocative questions')"
   ]
  },
  {
   "cell_type": "markdown",
   "metadata": {},
   "source": [
    "#### Most important statements\n",
    "\n",
    "Here we get the most important statements:"
   ]
  },
  {
   "cell_type": "code",
   "execution_count": 28,
   "metadata": {},
   "outputs": [
    {
     "data": {
      "text/markdown": [
       "Based on the extensive interview, the top 3 most important statements that stand out for their significance in understanding the broader context of the conversation and the positions of the involved parties are:\n",
       "\n",
       "1. **Vladimir Putin's assertion on NATO expansion and its impact on Russia**: Putin's repeated emphasis on NATO's expansion as a direct threat to Russia's security and the broken promises regarding NATO not expanding eastward. This is a critical point as it underlines Russia's longstanding grievance and justification for its actions in Ukraine, reflecting the deep-seated geopolitical tensions between Russia and the West.\n",
       "\n",
       "2. **Putin's readiness for a negotiated settlement in Ukraine**: Putin's statements indicating a willingness to negotiate a settlement for the conflict in Ukraine, blaming the West and Ukraine for the lack of dialogue and suggesting that the ball is in their court to make amends and come back to the negotiating table. This is significant as it portrays Russia's stance on seeking a diplomatic resolution, albeit under conditions that are likely to favor Russian interests.\n",
       "\n",
       "3. **Discussion on the potential global implications of the conflict**: The dialogue around the fear of the conflict in Ukraine escalating into a larger, possibly global war, and the mention of nuclear threats. This highlights the high stakes involved not just for the immediate parties but for global security, underscoring the urgency and gravity of finding a peaceful resolution to the conflict.\n",
       "\n",
       "These statements are pivotal as they encapsulate the core issues at the heart of the Russia-Ukraine conflict, the geopolitical dynamics with NATO and the West, and the potential paths towards resolution or further escalation."
      ]
     },
     "execution_count": 28,
     "metadata": {},
     "output_type": "execute_result"
    }
   ],
   "source": [
    "#% markdown\n",
    "&fProv(3, 'important statements')"
   ]
  },
  {
   "cell_type": "markdown",
   "metadata": {},
   "source": [
    "-------\n",
    "\n",
    "## Part 1: separation and summary"
   ]
  },
  {
   "cell_type": "markdown",
   "metadata": {},
   "source": [
    "In the first part of the interview Putin gave a historical overview of the formation and evolution of the \"Ukrainian lands.\"\n",
    "We can extract the first part of the interview \"manually\" like this:"
   ]
  },
  {
   "cell_type": "code",
   "execution_count": 36,
   "metadata": {},
   "outputs": [
    {
     "name": "stdout",
     "output_type": "stream",
     "text": [
      "Part 1 stats: chars\t13629 words\t2300 lines\t44\n",
      "Part 2 stats: chars\t83639 words\t14664 lines\t248\n"
     ]
    }
   ],
   "source": [
    "my ($part1, $part2) = $txtEN.split('Tucker Carlson: Do you believe Hungary has a right to take back its land from Ukraine?');\n",
    "say \"Part 1 stats: {&text-stats($part1)}\";\n",
    "say \"Part 2 stats: {&text-stats($part2)}\";"
   ]
  },
  {
   "cell_type": "markdown",
   "metadata": {},
   "source": [
    "Alternatively, we can ask ChatGPT to make the extraction for us:"
   ]
  },
  {
   "cell_type": "code",
   "execution_count": 37,
   "metadata": {},
   "outputs": [
    {
     "data": {
      "text/plain": [
       "\"May I ask… You are making the case that Ukraine, certain parts of Ukraine, Eastern Ukraine, in fact, has been Russia for hundreds of years. Why wouldn’t you just take it when you became President 24 years ago? You have nuclear weapons, they don’t. It’s actually your land. Why did you wait so long?\""
      ]
     },
     "execution_count": 37,
     "metadata": {},
     "output_type": "execute_result"
    }
   ],
   "source": [
    "my $splittingQuestion = llm-synthesize([\n",
    "    \"Which question by Tucker Carlson splits the following interview into two parts:\",\n",
    "    \"(1) historical overview Ukraine's formation, and (2) shorter answers.\", \n",
    "    $txtEN,\n",
    "    llm-prompt('NothingElse')('the splitting question by Tucker Carlson')\n",
    "    ], e => $conf)"
   ]
  },
  {
   "cell_type": "markdown",
   "metadata": {},
   "source": [
    "Here is the first part of the interview according to the LLM result:"
   ]
  },
  {
   "cell_type": "code",
   "execution_count": 46,
   "metadata": {},
   "outputs": [
    {
     "data": {
      "text/plain": [
       "(chars => 8751 words => 1486 lines => 29)"
      ]
     },
     "execution_count": 46,
     "metadata": {},
     "output_type": "execute_result"
    }
   ],
   "source": [
    "my $llmPart1 = $txtEN.split($splittingQuestion.substr(10,200)).first;\n",
    "&text-stats($llmPart1)"
   ]
  },
  {
   "cell_type": "markdown",
   "metadata": {},
   "source": [
    "**Remark:** We can see that LLM \"spared\" nearly 1/3 of the \"manually\" selected text. Below we continue with the latter."
   ]
  },
  {
   "cell_type": "markdown",
   "metadata": {},
   "source": [
    "### Summary of the first part"
   ]
  },
  {
   "cell_type": "markdown",
   "metadata": {},
   "source": [
    "Here is a summary of the first part of the interview:"
   ]
  },
  {
   "cell_type": "code",
   "execution_count": 47,
   "metadata": {},
   "outputs": [
    {
     "data": {
      "text/plain": [
       "In the first part of the interview between Tucker Carlson and President Vladimir Putin, Carlson questions Putin about his statement made on February 24, 2022, regarding the conflict in Ukraine. Putin clarifies that he never stated the U.S. would launch a surprise attack on Russia, prompting a discussion on the historical context of Russia-Ukraine relations. Putin traces the origins of the Russian state to 862 and discusses the historical development of the region, including the significance of Kiev and Novgorod, the adoption of Orthodoxy in 988, and the eventual fragmentation and reunification of Russian lands.\n",
       "\n",
       "Putin explains the historical ties between Russia and Ukraine, mentioning the Polonization efforts in the region and the eventual appeal of the people in parts of what is now Ukraine to Moscow for protection in the 17th century. He provides a detailed historical account of the territorial changes and political maneuvers over the centuries, including the role of the Bolsheviks in establishing Soviet Ukraine and the allocation of territories post-World War II.\n",
       "\n",
       "Throughout the interview, Putin emphasizes the historical connections between Russia and Ukraine, arguing that Ukraine as it is known today is an artificial state shaped by Soviet policies. He presents documents to support his claims and discusses the complex history of the region to explain the current conflict. Carlson questions the relevance of this historical context to the present situation and why Putin did not assert these claims earlier in his presidency. Putin responds by highlighting the historical basis for Russia's position and the creation of Soviet Ukraine with territories that had different historical affiliations."
      ]
     },
     "execution_count": 47,
     "metadata": {},
     "output_type": "execute_result"
    }
   ],
   "source": [
    "llm-synthesize(['Summarize the following part one of the Carlson-Putin interview:', $part1], e => $conf);"
   ]
  },
  {
   "cell_type": "markdown",
   "metadata": {},
   "source": [
    "-----\n",
    "\n",
    "## Part 2: thematic parts"
   ]
  },
  {
   "cell_type": "markdown",
   "metadata": {},
   "source": [
    "Here we make an LLM request for finding and distilling the themes or the second part of the interview:"
   ]
  },
  {
   "cell_type": "code",
   "execution_count": 186,
   "metadata": {},
   "outputs": [
    {
     "data": {
      "text/plain": [
       "Vector(Assoc(Atom((Str)), Atom((Str)), 2), 14)"
      ]
     },
     "execution_count": 186,
     "metadata": {},
     "output_type": "execute_result"
    }
   ],
   "source": [
    "my $llmParts = llm-synthesize([\n",
    "    'Split the following second part of the Tucker-Putin intervew into thematic parts:', \n",
    "    $part2,\n",
    "    \"Return the parts as a JSON array.\",\n",
    "    llm-prompt('NothingElse')('JSON')\n",
    "    ], e => $conf, form => sub-parser('JSON'):drop);\n",
    "\n",
    "    deduce-type($llmParts)"
   ]
  },
  {
   "cell_type": "markdown",
   "metadata": {},
   "source": [
    "Here we tabulate the found themes:"
   ]
  },
  {
   "cell_type": "code",
   "execution_count": 50,
   "metadata": {},
   "outputs": [
    {
     "data": {
      "text/html": [
       "<table border=\"1\"><thead><tr><th>theme</th><th>content</th></tr></thead><tbody><tr><td>Historical Borders and Rights of Nations</td><td>Discussion on whether nations have the right to return to their historical borders, referencing the 1654 borders and Stalin&#39;s regime.</td></tr><tr><td>Hungarian Minority in Ukraine</td><td>Putin shares a personal story from the 1980s about the Hungarian minority in Western Ukraine, emphasizing their historical presence and cultural preservation.</td></tr><tr><td>NATO Expansion and Security Concerns</td><td>Putin expresses concerns over NATO expansion and the perceived threat to Russia, mentioning historical agreements and the expectation of cooperation post-Soviet Union collapse.</td></tr><tr><td>Relations with Viktor Orban and Ukraine</td><td>Putin denies suggesting to Orban that Hungary could claim parts of Ukraine, while acknowledging the desires of Hungarians in Ukraine to connect with their homeland.</td></tr><tr><td>Western Fear of Russia and China</td><td>Discussion on why the West fears a strong Russia and China, with Putin arguing that the West is more afraid of China due to its economic and population size.</td></tr><tr><td>NATO&#39;s Eastward Expansion</td><td>Putin criticizes NATO&#39;s expansion towards Russian borders despite previous assurances, and discusses the impact on Russia&#39;s security and relations with the West.</td></tr><tr><td>Russian Leadership and Expectations from the West</td><td>Putin reflects on the expectations Russian leadership had from the West post-Soviet Union collapse, including cooperation and non-expansion of NATO.</td></tr><tr><td>Ukraine&#39;s Political Situation and Relations with Russia</td><td>Putin discusses Ukraine&#39;s political changes, the impact of the 2014 coup, and the historical ties between Russia and Ukraine.</td></tr><tr><td>Western Support for Ukraine and Sanctions on Russia</td><td>Discussion on the Western support for Ukraine, including military and financial aid, and the impact of sanctions on Russia.</td></tr><tr><td>Potential for Negotiations and Peace</td><td>Putin expresses openness to negotiations for peace, criticizing the West and Ukraine for not engaging in dialogue and for the decisions leading to the current conflict.</td></tr></tbody></table>"
      ]
     },
     "execution_count": 50,
     "metadata": {},
     "output_type": "execute_result"
    }
   ],
   "source": [
    "#%html\n",
    "$llmParts ==> data-translation(field-names => <theme content>)"
   ]
  },
  {
   "cell_type": "markdown",
   "metadata": {},
   "source": [
    "------\n",
    "\n",
    "## Interview's spoken parts"
   ]
  },
  {
   "cell_type": "markdown",
   "metadata": {},
   "source": [
    "In this section we separate the spoken parts of each participant in the interview. We do that using regular expressions, not LLMs."
   ]
  },
  {
   "cell_type": "markdown",
   "metadata": {},
   "source": [
    "Here we split the interview text with the names of the participants:"
   ]
  },
  {
   "cell_type": "code",
   "execution_count": 6,
   "metadata": {},
   "outputs": [
    {
     "name": "stdout",
     "output_type": "stream",
     "text": [
      "Total parts 149\n",
      "First 4:\n",
      "\n",
      "Tucker Carlson: =>  Mr. President, thank you.\n",
      "On February 24, 2022, you addressed your country in your nationwide address when the conflict in Ukraine started and you said that you were acting because you had come to the conclusion that the United States through NATO might initiate a quote, “surprise attack on our country.” And to American ears that sounds paranoid. Tell us why you believe the United States might strike Russia out of the blue. How did you conclude that?\n",
      "\n",
      "President of Russia Vladimir Putin: =>  It's not that the United States was going to launch a surprise strike on Russia, I didn't say so. Are we having a talk show or a serious conversation?\n",
      "\n",
      "Tucker Carlson: =>  That was a good quote. Thank you, it’s formidably serious!\n",
      "\n",
      "Vladimir Putin: =>  You were initially trained in history, as far as I know?\n",
      "\n"
     ]
    }
   ],
   "source": [
    "my @parts = $txtEN.split(/ 'Tucker Carlson:' | ['President of Russia' \\h+]? 'Vladimir Putin:' /, :v, :skip-empty)>>.Str.rotor(2).map({ Pair.new(|$_) });\n",
    "say \"Total parts {@parts.elems}\";\n",
    "\n",
    "say \"First 4:\\n\";\n",
    ".say for @parts[^4];\n"
   ]
  },
  {
   "cell_type": "markdown",
   "metadata": {},
   "source": [
    "Here we further process the separate participant names and corresponding parts into a list of pairs:"
   ]
  },
  {
   "cell_type": "code",
   "execution_count": 7,
   "metadata": {},
   "outputs": [
    {
     "data": {
      "text/html": [
       "<table border=\"1\"><thead><tr><th>Key</th><th>Value</th></tr></thead><tbody><tr><td>T.Carlson</td><td>Mr. President, thank you.\n",
       "On February 24, 2022, you addressed your country in your nationwide address when the conflict in Ukraine started and you said that you were acting because you had come to the conclusion that the United States through NATO might initiate a quote, “surprise attack on our country.” And to American ears that sounds paranoid. Tell us why you believe the United States might strike Russia out of the blue. How did you conclude that?</td></tr><tr><td>V.Putin</td><td>It&#39;s not that the United States was going to launch a surprise strike on Russia, I didn&#39;t say so. Are we having a talk show or a serious conversation?</td></tr><tr><td>T.Carlson</td><td>That was a good quote. Thank you, it’s formidably serious!</td></tr><tr><td>V.Putin</td><td>You were initially trained in history, as far as I know?</td></tr><tr><td>T.Carlson</td><td>Yes.</td></tr><tr><td>V.Putin</td><td>So if you don’t mind I will take only 30 seconds or one minute of your time to give you a brief historical background.</td></tr></tbody></table>"
      ]
     },
     "execution_count": 7,
     "metadata": {},
     "output_type": "execute_result"
    }
   ],
   "source": [
    "#%html\n",
    "@parts .= map({ ($_.key.contains('Carlson') ?? 'T.Carlson' !! 'V.Putin') => $_.value.trim });\n",
    "@parts[^6].Array ==> to-dataset() ==> data-translation"
   ]
  },
  {
   "cell_type": "markdown",
   "metadata": {},
   "source": [
    "Here we get all spoken parts of Tucker Carlson (and consider all of them to be \"questions\"):"
   ]
  },
  {
   "cell_type": "code",
   "execution_count": 8,
   "metadata": {},
   "outputs": [
    {
     "data": {
      "text/plain": [
       "53"
      ]
     },
     "execution_count": 8,
     "metadata": {},
     "output_type": "execute_result"
    }
   ],
   "source": [
    "my @tcQuestions = @parts.grep({ $_.key.contains('Carlson') && $_.value ~~ / '?' $/ }).map(*.value);\n",
    "@tcQuestions.elems"
   ]
  },
  {
   "cell_type": "markdown",
   "metadata": {},
   "source": [
    "A table with all questions:"
   ]
  },
  {
   "cell_type": "code",
   "execution_count": 9,
   "metadata": {},
   "outputs": [
    {
     "data": {
      "text/html": [
       "<table border=\"1\"><tbody><tr><td>Mr. President, thank you.\n",
       "On February 24, 2022, you addressed your country in your nationwide address when the conflict in Ukraine started and you said that you were acting because you had come to the conclusion that the United States through NATO might initiate a quote, “surprise attack on our country.” And to American ears that sounds paranoid. Tell us why you believe the United States might strike Russia out of the blue. How did you conclude that?</td><td>What is denazification? What would that mean?</td><td>Well, let’s just give one example — the US dollar, which has, kind of, united the world in a lot of ways, maybe not to your advantage, but certainly to ours. Is that going away as the reserve currency, the universally accepted currency? How have sanctions, do you think, changed the dollar’s place in the world?</td></tr><tr><td>May I ask… You are making the case that Ukraine, certain parts of Ukraine, Eastern Ukraine, in fact, has been Russia for hundreds of years. Why wouldn’t you just take it when you became President 24 years ago? You have nuclear weapons, they don’t. It’s actually your land. Why did you wait so long?</td><td>Would you be satisfied with the territory that you have now?</td><td>I think that is a fair assessment. The question is what comes next? And maybe you trade one colonial power for another, much less sentimental and forgiving colonial power? Is the BRICS, for example, in danger of being completely dominated by the Chinese economy? In a way that is not good for their sovereignty. Do you worry about that?</td></tr><tr><td>In 1654?</td><td>Really, my question is: What do you do about it? I mean, Hitler has been dead for eighty years, Nazi Germany no longer exists, and it’s true. So, I think, what you are saying, you want to extinguish or at least control Ukrainian nationalism. But how do you do that?</td><td>So, you said a moment ago that the world would be a lot better if it were not broken into competing alliances, if there was cooperation globally. One of the reasons you don’t have that is because the current American administration is dead set against you. Do you think if there was a new administration after Joe Biden that you would be able to re-establish communication with the US government? Or does it not matter who the President is?</td></tr><tr><td>You have, I see, encyclopaedic knowledge of that region. But why didn’t you make this case for the first 22 years as president, that Ukraine wasn’t a real country?</td><td>Right. My question is almost specific, it was, of course, not a defense of Nazism. Otherwise, it was a practical question. You don&#39;t control the entire country, you don’t seem like you want to. So, how do you eliminate that culture, or an ideology, or feelings, or a view of history, in a country that you don’t control? What do you do about that?</td><td>But you are describing two different systems. You say that the leader acts in the interests of the voters, but you also say that these decisions are not made by the leader – they are made by the ruling classes. You have run this country for so long, you have known all these American presidents. What are those power centres in the United States, do you think? And who actually makes the decisions?</td></tr><tr><td>Do you believe Hungary has a right to take back its land from Ukraine? And that other nations have a right to go back to their 1654 borders?</td><td>Well, but you would not be speaking to the Ukrainian president, you would be speaking to the American president. When was the last time you spoke to Joe Biden?</td><td>I just have to ask. You have said clearly that NATO expansion eastward is a violation of the promise you were all made in the 1990s. It is a threat to your country. Right before you sent troops into Ukraine the Vice-President of the United States spoke at the Security Conference and encouraged the President of Ukraine to join NATO. Do you think that was an effort to provoke you into military action?</td></tr><tr><td>Have you told Viktor Orban that he can have a part of Ukraine?</td><td>But he is funding the war that you are fighting, so I think that would be memorable?</td><td>Do you think Zelensky has the freedom to negotiate the settlement to this conflict?</td></tr><tr><td>And there’s a lot of that though, I think. Many nations feel upset about — there are Transylvanians as well as you, others, you know — but many nations feel frustrated by their re-drawn borders after the wars of the 20th century, and wars going back a thousand years, the ones that you mention, but the fact is that you didn’t make this case in public until two years ago in February, and in the case that you made, which I read today, you explain at great length that you thought a physical threat from the West and NATO, including potentially a nuclear threat, and that’s what got you to move. Is that a fair characterization of what you said?</td><td>What did he say?</td><td>But do you think at this point – as of February 2024 – he has the latitude, the freedom to speak with you or government directly, which would clearly help his country or the world? Can he do that, do you think?</td></tr><tr><td>Well, of course, it did come true, and you’ve mentioned it many times. I think, it’s a fair point. And many in America thought that relations between Russia and the United States would be fine after the collapse of the Soviet Union, at the core. But the opposite happened. But have never explained why you think that happened, except to say that the West fears a strong Russia. But we have a strong China that the West doesn’t seem to be very afraid of. What about Russia, what do you think convinced the policymakers to take it down?</td><td>But you haven’t spoken to him since before February of 2022?</td><td>That is a good question. Why did he do that?</td></tr><tr><td>Were you sincere? Would you have joined NATO?</td><td>I am definitely interested. But from the other side it seems like it could devolve, evolve into something that brings the entire world into conflict, and could initiate a nuclear launch, and so why don’t you just call Biden and say, “Let’s work this out”?</td><td>You have described the connection between Russia and Ukraine; you have described Russia itself, a couple of times as Orthodox – that is central to your understanding of Russia. What does that mean for you? You are a Cristian leader by your own description. So what effect does that have on you?</td></tr><tr><td>But if he had said yes, would you have joined NATO?</td><td>Do you think NATO was worried about this becoming a global war or nuclear conflict?</td><td>Can I say, the one way in which religions are different is that Christianity is specifically a non-violent religion. Jesus says, “Turn the other cheek,” “don’t kill,” and so on. How can a leader who has to kill, of any country, how can a leader be a Christian? How do you reconcile that to yourself?</td></tr><tr><td>Why do you think that is? Just to get to motive. I know, you’re clearly bitter about it. I understand. But why do you think the West rebuffed you then? Why the hostility? Why did the end of the Cold War not fix the relationship? What motivates this from your point of view?</td><td>The threat I think you were referring to is Russian invasion of Poland, Latvia – expansionist behaviour. Can you imagine a scenario where you send Russian troops to Poland?</td><td>So do you see the supernatural at work? As you look out across what’s happening in the world now, do you see God at work? Do you ever think to yourself: these are forces that are not human?</td></tr><tr><td>Forces in opposition to you? Do you think the CIA is trying to overthrow your government?</td><td>Well, the argument, I know you know this, is that, well, he invaded Ukraine – he has territorial aims across the continent. And you are saying unequivocally, you don’t?</td><td>So when does the AI empire start do you think?</td></tr><tr><td>May I ask what year was this?</td><td>One of our senior United States senators from the State of New York, Chuck Schumer, said yesterday, I believe, that we have to continue to fund the Ukrainian effort or US soldiers, citizens could wind up fighting there. How do you assess that?</td><td>What do you think of that?</td></tr><tr><td>In 2014?</td><td>Who blew up Nord Stream?</td><td>I appreciate all the time you’ve given us. I just want to ask you one last question and it’s about someone who is very famous in the United States, probably not here. Evan Gershkovich who is the Wall Street Journal reporter, he is 32 and he’s been in prison for almost a year. This is a huge story in the United States and I just want to ask you directly without getting into details of your version of what happened, if as a sign of your decency you’ll be willing to release him to us and we’ll bring him back to the United States?</td></tr><tr><td>With the backing of whom?</td><td>Do you have evidence that NATO or the CIA did it?</td><td>I wonder if that’s true with the war though also, I mean, I guess I want to ask one more question which is, and maybe you don’t want to say so for strategic reasons, but are you worried that what’s happening in Ukraine could lead to something much larger and much more horrible and how motivated are you just to call the US government and say, “let’s come to terms”?</td></tr><tr><td>So, that was eight years before the current conflict started. What was the trigger for you? What was the moment where you decided you had to do this?</td><td>But I am confused. I mean, that’s the biggest act of industrial terrorism ever and it’s the largest emission of CO₂ in history. Okay, so, if you had evidence and presumably, given your security services, your intel services, you would, that NATO, the US, CIA, the West did this, why wouldn’t you present it and win a propaganda victory?</td><td>Do you think it is too humiliating at this point for NATO to accept Russian control of what was two years ago Ukrainian territory?</td></tr><tr><td>Was there anyone free to talk to? Did you call the US President, Secretary of State and say if you keep militarizing Ukraine with NATO forces, we are going to act?</td><td>Yes. But here is a question you may be able to answer. You worked in Germany, famously. The Germans clearly know that their NATO partner did this, that they damaged their economy greatly – it may never recover. Why are they being silent about it? That is very confusing to me. Why wouldn’t the Germans say something about it?</td><td>Would you be willing to say, “Congratulations, NATO, you won?” And just keep the situation where it is now?</td></tr><tr><td>Do you think you have stopped it now? I mean have you achieved your aims?</td><td>Well, maybe the world is breaking into two hemispheres. One with cheap energy, the other without it. And I want to ask you that, if we are now a multipolar world, obviously we are, can you describe the blocs or alliances? Who is on each side, do you think?</td><td>(Any)</td></tr></tbody></table>"
      ]
     },
     "execution_count": 9,
     "metadata": {},
     "output_type": "execute_result"
    }
   ],
   "source": [
    "#%html\n",
    "@tcQuestions ==> to-html(cols=>3):multicolumn"
   ]
  },
  {
   "cell_type": "markdown",
   "metadata": {},
   "source": [
    "-------\n",
    "\n",
    "## Search engine"
   ]
  },
  {
   "cell_type": "markdown",
   "metadata": {},
   "source": [
    "In this section we make a (mini) search engines of the interview parts obtained above.\n",
    "\n",
    "Here are the steps:\n",
    "\n",
    "1. Make sure the interview parts are associated with unique identifiers that also identify the speakers\n",
    "2. Find the embedding vectors for each part.\n",
    "3. Create a recommendation function that:\n",
    "   - Filters the embeddings according to specified type \n",
    "   - Finds the vector embedding of given query\n",
    "   - Finds the dot products of query-vector with the part-vectors\n",
    "   - Pick the top results"
   ]
  },
  {
   "cell_type": "markdown",
   "metadata": {},
   "source": [
    "Here we make a hash-map of the interview parts obtained above:"
   ]
  },
  {
   "cell_type": "code",
   "execution_count": 10,
   "metadata": {},
   "outputs": [
    {
     "data": {
      "text/plain": [
       "149"
      ]
     },
     "execution_count": 10,
     "metadata": {},
     "output_type": "execute_result"
    }
   ],
   "source": [
    "my $k = 0;\n",
    "my %parts = @parts.map({ \"{$k++} {$_.key}\" => $_.value });\n",
    "%parts.elems"
   ]
  },
  {
   "cell_type": "markdown",
   "metadata": {},
   "source": [
    "Here we find the LLM embedding vectors of the interview parts:"
   ]
  },
  {
   "cell_type": "code",
   "execution_count": 11,
   "metadata": {},
   "outputs": [
    {
     "data": {
      "text/plain": [
       "149"
      ]
     },
     "execution_count": 11,
     "metadata": {},
     "output_type": "execute_result"
    }
   ],
   "source": [
    "my %embs = %parts.keys.Array Z=> openai-embeddings(%parts.values, format => 'values').Array;\n",
    "%embs.elems;"
   ]
  },
  {
   "cell_type": "markdown",
   "metadata": {},
   "source": [
    "Here is a function to find the most relevant parts of the interview for a given query (using dot product):"
   ]
  },
  {
   "cell_type": "code",
   "execution_count": 12,
   "metadata": {},
   "outputs": [
    {
     "data": {
      "text/plain": [
       "&top-parts"
      ]
     },
     "execution_count": 12,
     "metadata": {},
     "output_type": "execute_result"
    }
   ],
   "source": [
    "sub top-parts(Str $query, UInt $n = 3, :$type is copy = 'answers' ) {\n",
    "    my @vec = |openai-embeddings($query, format=>'values').head;\n",
    "\n",
    "    if $type.isa(Whatever) { $type = 'part'; }\n",
    "\n",
    "    my %embsLocal = do given $type {\n",
    "        when $_ ∈ <part statement> { \n",
    "            %embs \n",
    "        }\n",
    "        when $_ ∈ <answer answers Putin> {\n",
    "            %embs.grep({  $_.key.contains('Putin') })\n",
    "        }\n",
    "        when $_ ∈ <question questions Carlson Tucker> {\n",
    "            %embs.grep({  $_.key.contains('Carlson') })\n",
    "        }\n",
    "        default {\n",
    "            die \"Do not know how to process the $type arugment.\"\n",
    "        }\n",
    "    }\n",
    "\n",
    "    my @sres = %embsLocal.map({ $_.key => sum($_.value >>*<< @vec) });\n",
    "\n",
    "    @sres .= sort({ - $_.value });\n",
    "    return @sres[^$n].map({ %(Score => $_.value, Text => %parts{$_.key}) }).Array;\n",
    "}"
   ]
  },
  {
   "cell_type": "markdown",
   "metadata": {},
   "source": [
    "Here we find the top 3 results for a query:"
   ]
  },
  {
   "cell_type": "code",
   "execution_count": 13,
   "metadata": {},
   "outputs": [
    {
     "data": {
      "text/html": [
       "<table border=\"1\"><thead><tr><th>Score</th><th>Text</th></tr></thead><tbody><tr><td>0.9778254369990942</td><td>Who blew up <span style=\"color: orange\">Nord Stream</span>?</td></tr><tr><td>0.8534919207926321</td><td>I was busy that day. I did not blow up <span style=\"color: orange\">Nord Stream</span>.</td></tr><tr><td>0.8515907005391744</td><td>This also confuses me. But today&#39;s German leadership is guided by the interests of the collective West rather than its national interests, otherwise it is difficult to explain the logic of their action or inaction. After all, it is not only about <span style=\"color: orange\">Nord Stream</span>-1, which was blown up, and <span style=\"color: orange\">Nord Stream</span>-2 was damaged, but one pipe is safe and sound, and gas can be supplied to Europe through it, but Germany does not open it. We are ready, please.\n",
       "There is another route through Poland, called Yamal-Europe, which also allows for a large flow. Poland has closed it, but Poland pecks from the German hand, it receives money from pan-European funds, and Germany is the main donor to these pan-European funds. Germany feeds Poland to a certain extent. And they closed the route to Germany. Why? I don&#39;t understand.\n",
       "Ukraine, to which the Germans supply weapons and give money. Germany is the second sponsor after the United States in terms of financial aid to Ukraine. There are two gas routes through Ukraine. They simply closed one route, the Ukrainians. Open the second route and get gas from Russia. They do not open it. Why don&#39;t the Germans say: “Look, guys, we give you money and weapons. Open up the valve, please, let the gas from Russia pass through for us.\n",
       "We are buying liquefied gas at exorbitant prices in Europe, which brings the level of our competitiveness, and economy in general down to zero. Do you want us to give you money? Let us have a decent existence, make money for our economy, because this is where the money we give you comes from.” They refuse to do so. Why? Ask them. (Knocks on the table.) That is what it is like in their heads. Those are highly incompetent people.</td></tr></tbody></table>"
      ]
     },
     "execution_count": 13,
     "metadata": {},
     "output_type": "execute_result"
    }
   ],
   "source": [
    "#%html\n",
    "top-parts('Who blew up NordStream 1 and 2?', 3, type => 'part') \n",
    "==> data-translation(field-names => <Score Text>)\n",
    "==> { $_.subst(/:i ('Nord' \\h* Stream) /, { '<span style=\"color: orange\">' ~ $0.Str ~ '</span>'}):g }()"
   ]
  },
  {
   "cell_type": "code",
   "execution_count": 14,
   "metadata": {},
   "outputs": [
    {
     "data": {
      "text/html": [
       "<table border=\"1\"><thead><tr><th>Score</th><th>Text</th></tr></thead><tbody><tr><td>0.8516614960995936</td><td>They have been. They reached a very high stage of coordination of positions in a complex process, but still they were almost finalized. But after we withdrew our troops from Kiev, as I have already said, the other side (Ukraine) threw away all these agreements and obeyed the instructions of Western countries, European countries, and the United States to fight Russia to the bitter end.\n",
       "Moreover, the President of Ukraine has legislated a ban on <span style=\"color: orange\">negotiating</span> with Russia. He signed a decree forbidding everyone to <span style=\"color: orange\">negotiate</span> with Russia. But how are we going to <span style=\"color: orange\">negotiate</span> if he forbade himself and everyone to do this? We know that he is putting forward some ideas about this settlement. But in order to agree on something, we need to have a dialogue. Is not that right?</td></tr><tr><td>0.8359956470063451</td><td>Why not? He considers himself head of state, he won the elections. Although we believe in Russia that the coup d’état is the primary source of power for everything that happened after 2014, and in this sense, even today’s government is flawed. But he considers himself the president, and he is recognized by the United States, all of Europe and practically the rest of the world in such a capacity – why not? He can.\n",
       "We <span style=\"color: orange\">negotiated</span> with Ukraine in Istanbul, we agreed, he was aware of this. Moreover, the <span style=\"color: orange\">negotiation</span> group leader, Mr. Arakhamia is his last name, I believe, still heads the faction of the ruling party, the party of the President in the Rada. He still heads the Presidential faction in the Rada, the country’s parliament, he still sits there. He even put his preliminary signature on the document I am telling you about. But then he publicly stated to the whole world: “We were ready to sign this document, but Mr. Johnson, then the Prime Minister of Great Britain, came and dissuaded us from doing this saying it was better to fight Russia. They would give us everything we needed to return what was lost during the clashes with Russia. And we agreed with this proposal.” Look, his statement has been published. He said this publicly.\n",
       "Can they return to this or not? The question is: do they want it or not?\n",
       "Further on, President of Ukraine issued a decree prohibiting <span style=\"color: orange\">negotiations</span> with us. Let him cancel that decree and that’s it. We have never refused <span style=\"color: orange\">negotiations</span> indeed. We hear all the time: is Russia ready? Yes, we have not refused! It was them who publicly refused. Well, let him cancel his decree and enter into <span style=\"color: orange\">negotiations</span>. We have never refused.\n",
       "And the fact that they obeyed the demand or persuasion of Mr. Johnson, the former Prime Minister of Great Britain, seems ridiculous and very sad to me. Because, as Mr. Arakhamia put it: “We could have stopped these hostilities, this war a year and a half ago already. But the British persuaded us, and we refused this.” Where is Mr. Johnson now? And the war continues.</td></tr></tbody></table>"
      ]
     },
     "execution_count": 14,
     "metadata": {},
     "output_type": "execute_result"
    }
   ],
   "source": [
    "#%html\n",
    "top-parts('Where the Russia-Ukraine negotiations were held?', 2, type => 'answer') \n",
    "==> data-translation(field-names => <Score Text>)\n",
    "==> { $_.subst(/ ('negotia' \\w+) /, { '<span style=\"color: orange\">' ~ $0.Str ~ '</span>'}):g }()"
   ]
  },
  {
   "cell_type": "markdown",
   "metadata": {},
   "source": [
    "------\n",
    "\n",
    "## Flavored variations"
   ]
  },
  {
   "cell_type": "markdown",
   "metadata": {},
   "source": [
    "In this section we show how the spoken parts can be rephrased in the style of certain political celebrities."
   ]
  },
  {
   "cell_type": "markdown",
   "metadata": {},
   "source": [
    "Here are examples of using LLM to rephrase Tucker Carlson's questions into the style of Hillary Clinton:"
   ]
  },
  {
   "cell_type": "code",
   "execution_count": 196,
   "metadata": {},
   "outputs": [
    {
     "name": "stdout",
     "output_type": "stream",
     "text": [
      "====================================================================================================\n",
      "Tucker Carlson: And there’s a lot of that though, I think. Many nations feel upset about — there are Transylvanians as well as you, others, you know — but many nations feel frustrated by their re-drawn borders after the wars of the 20th century, and wars going back a thousand years, the ones that you mention, but the fact is that you didn’t make this case in public until two years ago in February, and in the case that you made, which I read today, you explain at great length that you thought a physical threat from the West and NATO, including potentially a nuclear threat, and that’s what got you to move. Is that a fair characterization of what you said?\n",
      "----------------------------------------------------------------------------------------------------\n",
      "Hilary Clinton: And there's a considerable amount of dissatisfaction in various nations, including Transylvanians like yourself, expressing their concerns about the redrawn borders after the conflicts of the 20th century and even dating back to ancient wars as you mentioned. However, it is worth noting that you didn't publicly voice this perspective until February two years ago. In the case I read today, you extensively elaborated on your belief that the West and NATO posed a physical threat, possibly even a nuclear one, which ultimately influenced your decision to act. Would it be accurate to summarize your position in this manner?\n",
      "====================================================================================================\n",
      "Tucker Carlson: Do you think Zelensky has the freedom to negotiate the settlement to this conflict?\n",
      "----------------------------------------------------------------------------------------------------\n",
      "Hilary Clinton: Does Zelensky possess the necessary autonomy to engage in negotiations and pursue a resolution to this conflict?\n"
     ]
    }
   ],
   "source": [
    "for ^2 {\n",
    "    my $q = @tcQuestions.pick;\n",
    "    say '=' x 100;\n",
    "    say \"Tucker Carlson: $q\";\n",
    "    say '-' x 100;\n",
    "    my $q2 = llm-synthesize([\"Rephrase this question in the style of Hillary Clinton:\", $q]);\n",
    "    say \"Hilary Clinton: $q2\";\n",
    "}"
   ]
  },
  {
   "cell_type": "markdown",
   "metadata": {},
   "source": [
    "Here are examples of using LLM to rephrase Vladimir Putin's answers into the style of Donald Trump:"
   ]
  },
  {
   "cell_type": "code",
   "execution_count": 199,
   "metadata": {},
   "outputs": [
    {
     "name": "stdout",
     "output_type": "stream",
     "text": [
      "====================================================================================================\n",
      "Vladimir Putin: This also confuses me. But today's German leadership is guided by the interests of the collective West rather than its national interests, otherwise it is difficult to explain the logic of their action or inaction. After all, it is not only about Nord Stream-1, which was blown up, and Nord Stream-2 was damaged, but one pipe is safe and sound, and gas can be supplied to Europe through it, but Germany does not open it. We are ready, please.\n",
      "There is another route through Poland, called Yamal-Europe, which also allows for a large flow. Poland has closed it, but Poland pecks from the German hand, it receives money from pan-European funds, and Germany is the main donor to these pan-European funds. Germany feeds Poland to a certain extent. And they closed the route to Germany. Why? I don't understand.\n",
      "Ukraine, to which the Germans supply weapons and give money. Germany is the second sponsor after the United States in terms of financial aid to Ukraine. There are two gas routes through Ukraine. They simply closed one route, the Ukrainians. Open the second route and get gas from Russia. They do not open it. Why don't the Germans say: “Look, guys, we give you money and weapons. Open up the valve, please, let the gas from Russia pass through for us.\n",
      "We are buying liquefied gas at exorbitant prices in Europe, which brings the level of our competitiveness, and economy in general down to zero. Do you want us to give you money? Let us have a decent existence, make money for our economy, because this is where the money we give you comes from.” They refuse to do so. Why? Ask them. (Knocks on the table.) That is what it is like in their heads. Those are highly incompetent people.\n",
      "----------------------------------------------------------------------------------------------------\n",
      "Donald Trump: Why is today's German leadership prioritizing the interests of the collective West over their own national interests? It's puzzling to me how their actions and inactions, such as not opening the safe and sound pipe for gas supply to Europe or closing the Yamal-Europe route in Poland, align with this approach. Germany is a major donor to pan-European funds, which Poland benefits from, yet they closed the route to Germany. I can't comprehend their reasoning. Furthermore, Germany provides financial aid to Ukraine and supplies weapons, but they close one gas route and refuse to open another, despite being a major contributor. We are forced to purchase expensive liquefied gas in Europe, harming our competitiveness and economy. Shouldn't Germany consider allowing gas from Russia to pass through Ukraine for our benefit? It's time for them to understand that their actions are undermining our economic stability.\n",
      "====================================================================================================\n",
      "Vladimir Putin: Only in one case: if Poland attacks Russia. Why? Because we have no interest in Poland, Latvia or anywhere else. Why would we do that? We simply don't have any interest. It’s just threat mongering.\n",
      "----------------------------------------------------------------------------------------------------\n",
      "Donald Trump: Under what circumstances would the United States consider engaging in conflict with Russia, specifically if Poland were to initiate an attack? As we focus on preserving our national interests, we do not possess any vested interest in Poland, Latvia, or other regions. Hence, the notion of such aggression seems baseless and merely contributes to creating unnecessary threats.\n"
     ]
    }
   ],
   "source": [
    "for ^2 {\n",
    "    my $q = @parts.grep({ $_.key.contains('Putin') }).pick.value;\n",
    "    say '=' x 100;\n",
    "    say \"Vladimir Putin: $q\";\n",
    "    say '-' x 100;\n",
    "    my $q2 = llm-synthesize([\"Rephrase this question in the style of Hillary Clinton:\", $q]);\n",
    "    say \"Donald Trump: $q2\";\n",
    "}"
   ]
  },
  {
   "cell_type": "markdown",
   "metadata": {},
   "source": [
    "-------\n",
    "\n",
    "## References"
   ]
  },
  {
   "cell_type": "markdown",
   "metadata": {},
   "source": [
    "### Articles\n",
    "\n",
    "[AA1] Anton Antonov,\n",
    "[\"Workflows with LLM functions\"](https://rakuforprediction.wordpress.com/2023/08/01/workflows-with-llm-functions/),\n",
    "(2023),\n",
    "[RakuForPrediction at WordPress](https://rakuforprediction.wordpress.com).\n",
    "\n",
    "[AA2] Anton Antonov,\n",
    "[\"Day 21 – Using DALL-E models in Raku\"](https://raku-advent.blog/2023/12/21/day-22-using-dall-e-models-in-raku/),\n",
    "(2023),\n",
    "[Raku Advent Calendar blog for 2023](https://raku-advent.blog/2023).\n",
    "\n",
    "[OAIb1] OpenAI team,\n",
    "[\"New models and developer products announced at DevDay\"](https://openai.com/blog/new-models-and-developer-products-announced-at-devday),\n",
    "(2023),\n",
    "[OpenAI/blog](https://openai.com/blog)."
   ]
  },
  {
   "cell_type": "markdown",
   "metadata": {},
   "source": [
    "### Packages\n",
    "\n",
    "[AAp1] Anton Antonov,\n",
    "[WWW::OpenAI](https://github.com/antononcube/Raku-WWW-OpenAI) Raku package,\n",
    "(2023),\n",
    "[GitHub/antononcube](https://github.com/antononcube).\n",
    "\n",
    "\n",
    "[AAp2] Anton Antonov,\n",
    "[WWW::PaLM](https://github.com/antononcube/Raku-WWW-PaLM) Raku package,\n",
    "(2023),\n",
    "[GitHub/antononcube](https://github.com/antononcube).\n",
    "\n",
    "\n",
    "[AAp3] Anton Antonov,\n",
    "[WWW::MistralAI](https://github.com/antononcube/Raku-WWW-MistralAI) Raku package,\n",
    "(2023),\n",
    "[GitHub/antononcube](https://github.com/antononcube).\n",
    "\n",
    "\n",
    "[AAp4] Anton Antonov,\n",
    "[WWW::MermaidInk](https://github.com/antononcube/Raku-WWW-MermaidInk) Raku package,\n",
    "(2023),\n",
    "[GitHub/antononcube](https://github.com/antononcube).\n",
    "\n",
    "\n",
    "[AAp5] Anton Antonov,\n",
    "[LLM::Functions](https://github.com/antononcube/Raku-LLM-Functions) Raku package,\n",
    "(2023),\n",
    "[GitHub/antononcube](https://github.com/antononcube).\n",
    "\n",
    "\n",
    "[AAp6] Anton Antonov,\n",
    "[Jupyter::Chatbook](https://github.com/antononcube/Raku-Jupyter-Chatbook) Raku package,\n",
    "(2023),\n",
    "[GitHub/antononcube](https://github.com/antononcube).\n",
    "\n",
    "\n",
    "[AAp7] Anton Antonov,\n",
    "[Image::Markup::Utilities](https://github.com/antononcube/Raku-Image-Markup-Utilities) Raku package,\n",
    "(2023),\n",
    "[GitHub/antononcube](https://github.com/antononcube).\n"
   ]
  },
  {
   "cell_type": "markdown",
   "metadata": {},
   "source": [
    "### Videos\n",
    "\n",
    "[AAv1] Anton Antonov,\n",
    "[\"Jupyter Chatbook LLM cells demo (Raku)\"](https://www.youtube.com/watch?v=cICgnzYmQZg)\n",
    "(2023),\n",
    "[YouTube/@AAA4Prediction](https://www.youtube.com/@AAA4prediction).\n",
    "\n",
    "[AAv2] Anton Antonov,\n",
    "[\"Jupyter Chatbook multi cell LLM chats teaser (Raku)\"](https://www.youtube.com/watch?v=wNpIGUAwZB8),\n",
    "(2023),\n",
    "[YouTube/@AAA4Prediction](https://www.youtube.com/@AAA4prediction).\n",
    "\n",
    "[AAv3] Anton Antonov\n",
    "[\"Integrating Large Language Models with Raku\"](https://www.youtube.com/watch?v=-OxKqRrQvh0),\n",
    "(2023),\n",
    "[YouTube/@therakuconference6823](https://www.youtube.com/@therakuconference6823)."
   ]
  }
 ],
 "metadata": {
  "kernelspec": {
   "display_name": "RakuChatbook",
   "language": "raku",
   "name": "raku"
  },
  "language_info": {
   "file_extension": ".raku",
   "mimetype": "text/x-raku",
   "name": "raku",
   "version": "6.d"
  }
 },
 "nbformat": 4,
 "nbformat_minor": 4
}
