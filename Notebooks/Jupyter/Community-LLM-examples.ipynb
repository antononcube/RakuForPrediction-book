{
 "cells": [
  {
   "cell_type": "markdown",
   "metadata": {},
   "source": [
    "# LLM examples for the Raku community\n",
    "\n",
    "Anton Antonov   \n",
    "[RakuForPrediction at WordPress](https://rakuforprediction.wordpress.com)   \n",
    "[RakuForPrediction-book at GitHub](https://github.com/antononcube/RakuForPrediction-book)   \n",
    "August 2023\n",
    "December 2023\n",
    "January 2024"
   ]
  },
  {
   "cell_type": "markdown",
   "metadata": {
    "collapsed": false
   },
   "source": [
    "------\n",
    "\n",
    "## Setup"
   ]
  },
  {
   "cell_type": "code",
   "execution_count": 2,
   "metadata": {
    "ExecuteTime": {
     "end_time": "2023-08-29T03:38:37.896205Z",
     "start_time": "2023-08-29T03:38:37.740871Z"
    }
   },
   "outputs": [],
   "source": [
    "use LLM::Functions;\n",
    "use Text::SubParsers;\n",
    "use Data::Translators;\n",
    "use Markdown::Grammar;\n",
    "\n",
    "use Clipboard :ALL;\n",
    "\n",
    "use Text::Utils :ALL;"
   ]
  },
  {
   "cell_type": "markdown",
   "metadata": {},
   "source": [
    "------\n",
    "\n",
    "## Crag daily dose narration"
   ]
  },
  {
   "cell_type": "code",
   "execution_count": 2,
   "metadata": {
    "ExecuteTime": {
     "end_time": "2023-08-29T03:38:37.954225Z",
     "start_time": "2023-08-29T03:38:37.895485Z"
    }
   },
   "outputs": [
    {
     "data": {
      "text/plain": [
       "-> **@args, *%args { #`(Block|6263170867304) ... }"
      ]
     },
     "execution_count": 2,
     "metadata": {},
     "output_type": "execute_result"
    }
   ],
   "source": [
    "my &frn=llm-function({\"Narrate the following Raku code $_\"}, e=>'PaLM');\n",
    "my &fue=llm-function({\"Provide detailed explainations for the measurement unit $_.\"}, e=>'PaLM');"
   ]
  },
  {
   "cell_type": "code",
   "execution_count": 3,
   "metadata": {
    "ExecuteTime": {
     "end_time": "2023-08-29T03:38:38.004704Z",
     "start_time": "2023-08-29T03:38:37.967492Z"
    }
   },
   "outputs": [
    {
     "data": {
      "text/plain": [
       "crag '$h=450;$w=1520;$d=2315;$v=$h*$w*$d; say (♎️\"$v cubic millimetre\").in: <cords>'    #0.44cord (hilux flatbed load)\n"
      ]
     },
     "execution_count": 3,
     "metadata": {},
     "output_type": "execute_result"
    }
   ],
   "source": [
    "my $text = q:to/END/;\n",
    "crag '$h=450;$w=1520;$d=2315;$v=$h*$w*$d; say (♎️\"$v cubic millimetre\").in: <cords>'    #0.44cord (hilux flatbed load)\n",
    "END"
   ]
  },
  {
   "cell_type": "code",
   "execution_count": 4,
   "metadata": {
    "ExecuteTime": {
     "end_time": "2023-08-29T03:38:40.931232Z",
     "start_time": "2023-08-29T03:38:38.017148Z"
    }
   },
   "outputs": [
    {
     "data": {
      "text/plain": [
       "The Raku code crag '$h=450;$w=1520;$d=2315;$v=$h*$w*$d; say (♎️\"$v cubic\n",
       "millimetre\").in: <cords>' #0.44cord (hilux flatbed load) calculates the volume\n",
       "of a cuboid with dimensions 450mm x 1520mm x 2315mm, and then converts the\n",
       "volume to cords. A cord is a unit of volume used to measure the amount of\n",
       "firewood that can be loaded onto a flatbed truck. One cord of firewood is\n",
       "equivalent to 128 cubic feet, or 3.62 cubic metres. The code first assigns the\n",
       "values 450, 1520, and 2315 to the variables $h, $w, and $d, respectively.\n",
       "These values represent the height, width, and depth of the cuboid. The code\n",
       "then calculates the volume of the cuboid by multiplying the values of $h, $w,\n",
       "and $d together. The resulting volume is 1,585,300 cubic millimetres. The code\n",
       "then uses the Raku function ♎️ to format the volume as a string. The ♎️ function\n",
       "takes a number as its argument and returns a string that represents the number\n",
       "in a specified format. In this case"
      ]
     },
     "execution_count": 4,
     "metadata": {},
     "output_type": "execute_result"
    }
   ],
   "source": [
    "&frn($text) ==> wrap-paragraph() ==> join(\"\\n\")"
   ]
  },
  {
   "cell_type": "code",
   "execution_count": 5,
   "metadata": {
    "ExecuteTime": {
     "end_time": "2023-08-29T03:38:43.774219Z",
     "start_time": "2023-08-29T03:38:40.944168Z"
    }
   },
   "outputs": [
    {
     "data": {
      "text/plain": [
       "A cord is a unit of length equal to 12 inches or 3 feet. It is most commonly\n",
       "used to measure lengths of rope, string, or wire. The term \"cord\" is also used\n",
       "to refer to a bundle of sticks or branches, such as a firewood bundle. In the\n",
       "United States, the cord is a standard unit of measurement for firewood. A cord\n",
       "of firewood is typically defined as a stack of wood that is 4 feet high, 8\n",
       "feet long, and 4 feet wide. This equates to a volume of 128 cubic feet. The\n",
       "cord is also used to measure lengths of rope, string, or wire. In this case, a\n",
       "cord is typically defined as a length of material that is 12 inches in\n",
       "diameter and 100 feet long. The cord is not a metric unit of measurement. In\n",
       "the metric system, the equivalent unit of length is the meter. One meter is\n",
       "equal to 39.37 inches, so a cord of firewood would be equivalent to\n",
       "approximately 3.66 cubic meters. The cord is a traditional unit of measurement\n",
       "that is still used today in many parts of the world. However, it is gradually\n",
       "being replaced by metric units of measurement, such as the meter and the\n",
       "kilogram."
      ]
     },
     "execution_count": 5,
     "metadata": {},
     "output_type": "execute_result"
    }
   ],
   "source": [
    "&fue('cord') ==> wrap-paragraph() ==> copy-to-clipboard() ==> slip() ==> join(\"\\n\")"
   ]
  },
  {
   "cell_type": "markdown",
   "metadata": {
    "vscode": {
     "languageId": "perl6"
    }
   },
   "source": [
    "-------\n",
    "\n",
    "## Inclusion of truck flatbed loads in prompts\n",
    "\n",
    "### Direct function prompts"
   ]
  },
  {
   "cell_type": "code",
   "execution_count": 6,
   "metadata": {
    "ExecuteTime": {
     "end_time": "2023-08-29T03:38:43.827115Z",
     "start_time": "2023-08-29T03:38:43.786756Z"
    }
   },
   "outputs": [
    {
     "data": {
      "text/plain": [
       "-> **@args, *%args { #`(Block|6263409717120) ... }"
      ]
     },
     "execution_count": 6,
     "metadata": {},
     "output_type": "execute_result"
    }
   ],
   "source": [
    "my &ffb = llm-function( -> $p, $t, $u, :$lang = 'Raku' {\"Give computational steps in the programming language $lang for the $p of the truck $t in the units $u.\"}, e=>'OpenAI')"
   ]
  },
  {
   "cell_type": "code",
   "execution_count": 7,
   "metadata": {
    "ExecuteTime": {
     "end_time": "2023-08-29T03:38:47.411261Z",
     "start_time": "2023-08-29T03:38:43.839760Z"
    }
   },
   "outputs": [
    {
     "data": {
      "text/plain": [
       "\n",
       "\n",
       "1. Declare a variable of type double to represent the flatbed size of the Ford 2020 truck in inches:\n",
       "\n",
       "double flatbedSizeInches;\n",
       "\n",
       "2. Assign the flatbed size of the Ford 2020 truck to the previously declared variable:\n",
       "\n",
       "flatbedSizeInches = 96.0;\n",
       "\n",
       "3. Print the size of the flatbed in inches to the console:\n",
       "\n",
       "std::cout << \"The flatbed size of the Ford 2020 truck is \" << flatbedSizeInches << \" inches.\" << std::endl;"
      ]
     },
     "execution_count": 7,
     "metadata": {},
     "output_type": "execute_result"
    }
   ],
   "source": [
    "&ffb('flatbed', 'Ford 2020', 'inches', lang => 'C++')"
   ]
  },
  {
   "cell_type": "code",
   "execution_count": 8,
   "metadata": {
    "ExecuteTime": {
     "end_time": "2023-08-29T03:38:50.325978Z",
     "start_time": "2023-08-29T03:38:47.426653Z"
    }
   },
   "outputs": [
    {
     "data": {
      "text/plain": [
       "\n",
       "\n",
       "1) Calculate the volume of the Toyota Hilux 4th generation in cubic feet:\n",
       "  volume = length x width x height\n",
       "  volume = 18.3 ft x 6.9 ft x 6.2 ft\n",
       "  volume = 806.446 ft3\n",
       "\n",
       "2) Convert the volume of the Toyota Hilux 4th Generation from cubic feet to cords:\n",
       "  volume = 806.446 ft3 / 128 ft3\n",
       "  volume = 6.27 cords"
      ]
     },
     "execution_count": 8,
     "metadata": {},
     "output_type": "execute_result"
    }
   ],
   "source": [
    "&ffb('volume', 'Toyota hilux 4th generation', 'cords') ==> copy-to-clipboard"
   ]
  },
  {
   "cell_type": "markdown",
   "metadata": {},
   "source": [
    "### Chat object"
   ]
  },
  {
   "cell_type": "code",
   "execution_count": 9,
   "metadata": {
    "ExecuteTime": {
     "end_time": "2023-08-29T03:38:50.394423Z",
     "start_time": "2023-08-29T03:38:50.338603Z"
    }
   },
   "outputs": [
    {
     "data": {
      "text/plain": [
       "LLM::Functions::Chat(chat-id = , llm-evaluator.conf.name = chatgpt, messages.elems = 0)"
      ]
     },
     "execution_count": 9,
     "metadata": {},
     "output_type": "execute_result"
    }
   ],
   "source": [
    "my $chat = llm-chat(\"From now on you are a light duty truck expert. If asked compute valumes or areas you give step by step computations recipies in Raku.\", e=>'ChatPaLM');"
   ]
  },
  {
   "cell_type": "code",
   "execution_count": 10,
   "metadata": {
    "ExecuteTime": {
     "end_time": "2023-08-29T03:38:52.663304Z",
     "start_time": "2023-08-29T03:38:50.407416Z"
    }
   },
   "outputs": [
    {
     "data": {
      "text/plain": [
       "The Toyota Hilux 2018 has the following dimensions:\n",
       "\n",
       "Length: 5,335 mm\n",
       "Width: 1,855 mm\n",
       "Height: 1,815 mm\n",
       "Wheelbase: 3,085 mm\n",
       "\n",
       "Please note that these dimensions may vary depending on the specific trim level and configuration of the vehicle."
      ]
     },
     "execution_count": 10,
     "metadata": {},
     "output_type": "execute_result"
    }
   ],
   "source": [
    "$chat.eval('What are the dimensions of a Toyota Hilux 2018?')"
   ]
  },
  {
   "cell_type": "code",
   "execution_count": 11,
   "metadata": {
    "ExecuteTime": {
     "end_time": "2023-08-29T03:38:58.778035Z",
     "start_time": "2023-08-29T03:38:52.673883Z"
    }
   },
   "outputs": [
    {
     "data": {
      "text/plain": [
       "To compute the volume of the Toyota Hilux 2018, we need to multiply the length, width, and height together. \n",
       "\n",
       "Given the dimensions in millimeters, we need to convert them to centimeters before performing the calculations. \n",
       "\n",
       "Let's calculate the volume:\n",
       "\n",
       "Length: 5,335 mm = 533.5 cm\n",
       "Width: 1,855 mm = 185.5 cm\n",
       "Height: 1,815 mm = 181.5 cm\n",
       "\n",
       "Volume = Length x Width x Height\n",
       "Volume = 533.5 cm x 185.5 cm x 181.5 cm\n",
       "\n",
       "Now, let's calculate the volume in cm:\n",
       "\n",
       "my $length = 533.5;\n",
       "my $width = 185.5;\n",
       "my $height = 181.5;\n",
       "\n",
       "my $volume = $length * $width * $height;\n",
       "\n",
       "say \"The volume of the Toyota Hilux 2018 is $volume cubic centimeters.\";\n",
       "\n",
       "Output:\n",
       "The volume of the Toyota Hilux 2018 is 18,806,293.75 cubic centimeters."
      ]
     },
     "execution_count": 11,
     "metadata": {},
     "output_type": "execute_result"
    }
   ],
   "source": [
    "$chat.eval(\"Compute the volume in cm.\")"
   ]
  },
  {
   "cell_type": "code",
   "execution_count": 12,
   "metadata": {
    "ExecuteTime": {
     "end_time": "2023-08-29T03:39:05.947231Z",
     "start_time": "2023-08-29T03:38:58.792207Z"
    }
   },
   "outputs": [
    {
     "data": {
      "text/plain": [
       "To compute the surface areas of the Toyota Hilux 2018 in square inches, we need to calculate the surface area of each face of the truck separately and then add them together. \n",
       "\n",
       "Given the dimensions in millimeters, we need to convert them to inches before performing the calculations. \n",
       "\n",
       "Let's calculate the surface areas:\n",
       "\n",
       "Length: 5,335 mm = 209.645 inches\n",
       "Width: 1,855 mm = 73.0315 inches\n",
       "Height: 1,815 mm = 71.4567 inches\n",
       "\n",
       "Now, let's calculate the surface areas in square inches:\n",
       "\n",
       "Front and back faces:\n",
       "Surface Area = Length x Height\n",
       "Surface Area = 209.645 inches x 71.4567 inches\n",
       "\n",
       "Top and bottom faces:\n",
       "Surface Area = Length x Width\n",
       "Surface Area = 209.645 inches x 73.0315 inches\n",
       "\n",
       "Left and right side faces:\n",
       "Surface Area = Width x Height\n",
       "Surface Area = 73.0315 inches x 71.4567 inches\n",
       "\n",
       "Now, let's calculate the surface areas in square inches in Raku:\n",
       "\n",
       "my $length = 209.645;\n",
       "my $width = 73.0315;\n",
       "my $height = 71.4567;\n",
       "\n",
       "my $front_back_area = $length * $height;\n",
       "my $top_bottom_area = $length * $width;\n",
       "my $side_area = $width * $height;\n",
       "\n",
       "my $total_area = 2 * ($front_back_area + $"
      ]
     },
     "execution_count": 12,
     "metadata": {},
     "output_type": "execute_result"
    }
   ],
   "source": [
    "$chat.eval(\"Ok. Just show the surface areas in square inches.\")"
   ]
  },
  {
   "cell_type": "markdown",
   "metadata": {},
   "source": [
    "------\n",
    "\n",
    "## ChatGPT instead of \"App::Mi6\""
   ]
  },
  {
   "cell_type": "code",
   "execution_count": 9,
   "metadata": {},
   "outputs": [
    {
     "data": {
      "text/plain": [
       "Chat object created with ID : cw.\n",
       "Expanded prompt:\n",
       "⎡You are Code Writer and as the coder that you are, you provide clear and concise code only, without explanation nor conversation. \n",
       "Your job is to output code with no accompanying text.\n",
       "Do not explain any code unless asked. Do not provide summaries unless asked.\n",
       "You are the best Raku programmer in the world but do not converse.\n",
       "You know the Raku documentation better than anyone but do not converse.\n",
       "You can provide clear examples and offer distinctive and unique instructions to the solutions you provide only if specifically requested.\n",
       "Only code in Raku unless told otherwise.\n",
       "Unless they ask, you will only give code.⎦"
      ]
     },
     "execution_count": 9,
     "metadata": {},
     "output_type": "execute_result"
    }
   ],
   "source": [
    "#% chat cw prompt, model=gpt-3.5-turbo, max-tokens = 3000, temperature = 0.2\n",
    "@CodeWriterX|Raku"
   ]
  },
  {
   "cell_type": "code",
   "execution_count": 10,
   "metadata": {},
   "outputs": [
    {
     "data": {
      "text/plain": [
       "{\n",
       "  \"name\": \"Cooking::Oreos\",\n",
       "  \"version\": \"0.1.0\",\n",
       "  \"description\": \"A package for baking delicious Oreos cookies\",\n",
       "  \"authors\": [\n",
       "    \"Your Name <your@email.com>\"\n",
       "  ],\n",
       "  \"license\": \"Artistic-2.0\",\n",
       "  \"source-url\": \"https://github.com/yourusername/Cooking-Oreos\",\n",
       "  \"tags\": [\n",
       "    \"cookie\",\n",
       "    \"baking\",\n",
       "    \"recipe\",\n",
       "    \"dessert\"\n",
       "  ],\n",
       "  \"depends\": {\n",
       "    \"Raku\": \"6.d\"\n",
       "  },\n",
       "  \"provides\": {\n",
       "    \"Cooking::Oreos\": \"lib/Cooking/Oreos.rakumod\"\n",
       "  },\n",
       "  \"resources\": [\n",
       "    \"lib/\",\n",
       "    \"t/\"\n",
       "  ],\n",
       "  \"test-dependencies\": {\n",
       "    \"Test\": \"0.1.0\"\n",
       "  }\n",
       "}"
      ]
     },
     "execution_count": 10,
     "metadata": {},
     "output_type": "execute_result"
    }
   ],
   "source": [
    "#% chat cw\n",
    "Generate META6.json file content for a package called \"Cooking::Oreos\" with typical keywords about cookie baking and a relevent GitHub url."
   ]
  },
  {
   "cell_type": "markdown",
   "metadata": {},
   "source": [
    "----\n",
    "\n",
    "## Which LLM is used"
   ]
  },
  {
   "cell_type": "code",
   "execution_count": 1,
   "metadata": {},
   "outputs": [
    {
     "data": {
      "text/plain": [
       "I'm an artificial intelligence language model developed by Mistral AI, a leading AI company based in Paris, France. My creators are the engineers and researchers at Mistral AI who designed and trained me. I don't have a personal name, but you can call me Mistral AI's language model."
      ]
     },
     "execution_count": 1,
     "metadata": {},
     "output_type": "execute_result"
    }
   ],
   "source": [
    "#% chat mistral, conf='ChatMistral'\n",
    "What is your name, creator and company?"
   ]
  },
  {
   "cell_type": "code",
   "execution_count": 2,
   "metadata": {},
   "outputs": [
    {
     "data": {
      "text/plain": [
       "LLM::Functions::Configuration.new(name => \"mistralai\", api-key => Whatever, api-user-id => \"user:626166624130\", module => \"WWW::MistralAI\", model => \"mistral-tiny\", function => proto sub MistralAIChatCompletion ($prompt is copy, :$role is copy = Whatever, :$model is copy = Whatever, :$temperature is copy = Whatever, :$max-tokens is copy = Whatever, Numeric :$top-p = 1, Bool :$stream = Bool::False, :$random-seed is copy = Whatever, :api-key(:$auth-key) is copy = Whatever, Int :$timeout where { ... } = 10, :$format is copy = Whatever, Str :$method = \"tiny\") {*}, temperature => 0.6, total-probability-cutoff => 0.03, max-tokens => 300, format => \"values\", prompts => [], prompt-delimiter => \" \", examples => [], stop-tokens => [], tools => [], tool-prompt => \"\", tool-request-parser => WhateverCode, tool-response-insertion-function => WhateverCode, images => [], argument-renames => {:api-key(\"auth-key\")}, evaluator => Whatever)"
      ]
     },
     "execution_count": 2,
     "metadata": {},
     "output_type": "execute_result"
    }
   ],
   "source": [
    "#% chat mistral meta\n",
    "conf"
   ]
  },
  {
   "cell_type": "markdown",
   "metadata": {},
   "source": [
    "----- \n",
    "\n",
    "## CopyEdit of a README"
   ]
  },
  {
   "cell_type": "code",
   "execution_count": 5,
   "metadata": {},
   "outputs": [
    {
     "data": {
      "text/plain": [
       "6580"
      ]
     },
     "execution_count": 5,
     "metadata": {},
     "output_type": "execute_result"
    }
   ],
   "source": [
    "use HTTP::Tiny;\n",
    "\n",
    "my $resp = HTTP::Tiny.new.get('https://raw.githubusercontent.com/tbrowder/Date-Utils/master/README.md');\n",
    "my $readme = $resp<content>.decode;\n",
    "\n",
    "$readme.chars"
   ]
  },
  {
   "cell_type": "code",
   "execution_count": 11,
   "metadata": {},
   "outputs": [
    {
     "data": {
      "text/plain": [
       "21"
      ]
     },
     "execution_count": 11,
     "metadata": {},
     "output_type": "execute_result"
    }
   ],
   "source": [
    "my $llmConf4 = llm-configuration('ChatGPT', model => 'gpt-4', max-tokens => 4096, temperature => 0.1);\n",
    "$llmConf4.Hash.elems"
   ]
  },
  {
   "cell_type": "markdown",
   "metadata": {},
   "source": [
    "Apply the [\"GrammarReport\"](https://resources.wolframcloud.com/PromptRepository/resources/GrammarReport/) prompt:"
   ]
  },
  {
   "cell_type": "code",
   "execution_count": 14,
   "metadata": {},
   "outputs": [
    {
     "data": {
      "text/plain": [
       "1. Error: The copyright year is in the future (2024). Correction: The copyright year should be the current year or the year when the work was created.\n",
       "\n",
       "2. Error: In the sentence \"Given the first value (A), and knowing the DoWs retain their order, we can derive the Date days in the first calendar week.\", the comma after \"(A)\" is unnecessary. Correction: Remove the comma after \"(A)\".\n",
       "\n",
       "3. Error: In the sentence \"Lists of Date days stay in the proper order as shown here in code used herein:\", the word \"herein\" is redundant. Correction: Remove the word \"herein\".\n",
       "\n",
       "4. Error: In the sentence \"So we must get one of the above sequences in a first week of one to seven days.\", the phrase \"a first week\" is unclear. Correction: Change \"a first week\" to \"the first week\".\n",
       "\n",
       "5. Error: In the sentence \"Note also each sequence is defined by its first day number, but it does **not** have to have its full set of days (as occurs in a partial first week).\", the phrase \"it does **not** have to have its full set of days\" is awkwardly worded. Correction: Change to \"it does **not** need to include the full set of days\".\n",
       "\n",
       "6. Error: In the sentence \"For example, given a calendar week that starts on Sunday (Date DoW 7) and the first day of the month is a Date DoW of 2 (Tuesday), using the routine `days-in-week1` yields a value of 5 which is the number of days remaining in that first week.\", the phrase \"a value of 5 which is the number of days remaining in that first week\" is a run-on. Correction: Change to \"a value of 5, which is the number of days remaining in that first week\".\n",
       "\n",
       "7. Error: In the sentence \"Those remaining days divided by seven (and rounded up by one for any partial week) yield the remaining weeks so we get the desired result:\", the phrase \"yield the remaining weeks so we get the desired result\" is a run-on. Correction: Change to \"yield the remaining weeks, so we get the desired result\".\n",
       "\n",
       "8. Error: In the sentence \"This library is free software; you may redistribute it or modify it under the Artistic License 2.0.\", the semicolon is used incorrectly. Correction: Replace the semicolon with a comma."
      ]
     },
     "execution_count": 14,
     "metadata": {},
     "output_type": "execute_result"
    }
   ],
   "source": [
    "llm-synthesize(llm-prompt('GrammarReport')($readme), e => $llmConf4)"
   ]
  },
  {
   "cell_type": "markdown",
   "metadata": {},
   "source": [
    "Apply the [\"CopyEdit\"](https://resources.wolframcloud.com/PromptRepository/resources/CopyEdit) prompt:"
   ]
  },
  {
   "cell_type": "code",
   "execution_count": 13,
   "metadata": {},
   "outputs": [
    {
     "data": {
      "text/plain": [
       "[![Actions Status](https://github.com/tbrowder/Date-Utils/actions/workflows/linux.yml/badge.svg)](https://github.com/tbrowder/Date-Utils/actions) [![Actions Status](https://github.com/tbrowder/Date-Utils/actions/workflows/macos.yml/badge.svg)](https://github.com/tbrowder/Date-Utils/actions) [![Actions Status](https://github.com/tbrowder/Date-Utils/actions/workflows/windows.yml/badge.svg)](https://github.com/tbrowder/Date-Utils/actions)\n",
       "\n",
       "NAME\n",
       "====\n",
       "\n",
       "**Date::Utils** - Provides useful date routines for calendar creation\n",
       "\n",
       "SYNOPSIS\n",
       "========\n",
       "\n",
       "```raku\n",
       "use Date::Utils;\n",
       "...# use the routines to create a calendar\n",
       "```\n",
       "\n",
       "DESCRIPTION\n",
       "===========\n",
       "\n",
       "**Date::Utils** is a collection of routines that assist users in calculating specific dates in relation to other dates, using Raku's powerful `Date` class.\n",
       "\n",
       "Current routines provided:\n",
       "\n",
       "  * `days-in-week1`\n",
       "\n",
       "    Given the starting day-of-the-week (DoW) for a calendar week and the DoW of the first Date of the month, this routine returns the number of days remaining in that first calendar week.\n",
       "\n",
       "        subset DoW of Int where { 0 < $_ < 8 }\n",
       "        sub days-in-week1(\n",
       "            DoW $cal-week-start-dow = 7, # range 1..7, default is US practice\n",
       "            DoW $first-dow,\n",
       "            :$debug,\n",
       "            --> DoW\n",
       "        ) is export {...}\n",
       "\n",
       "  * `weeks-in-month`\n",
       "\n",
       "    These two multi-subs return the total number of full and partial seven-day weeks in a calendar month where the day-of-week order begins with any desired day and ends the week six days later. The default is to start calendar weeks on Sunday and end on Saturday, as is common in US calendars. \n",
       "\n",
       "        multi sub weeks-in-month(\n",
       "            :$year!, :$month!,\n",
       "            DoW :$cal-first-dow = 7, # Sunday\n",
       "            :$debug\n",
       "            --> UInt) {...}\n",
       "\n",
       "        multi sub weeks-in-month(\n",
       "            Date $date,\n",
       "            DoW :$cal-first-dow = 7, # Sunday\n",
       "            :$debug\n",
       "            --> UInt) {...}\n",
       "\n",
       "  * `nth-day-of-week-in-month`\n",
       "\n",
       "        sub nth-day-of-week-in-month(\n",
       "            :$year!, :$month!, :$nth! is copy,\n",
       "            DoW :$day-of-week!,\n",
       "            :$debug\n",
       "            --> Date) {...}\n",
       "\n",
       "    If `$nth` is greater than the actual number of `day-of-week`s in the desired month or if that number is zero or negative, the date of its last appearance in that month is returned.\n",
       "\n",
       "    As a convenience, a version of the same routine requiring fewer keystrokes is provided:\n",
       "\n",
       "        sub nth-dow-in-month(\n",
       "            :$year!, :$month!, :$nth! is copy,\n",
       "            DoW :$dow!,\n",
       "            :$debug\n",
       "            --> Date) {...}\n",
       "\n",
       "  * `nth-day-of-week-after-date`\n",
       "\n",
       "        sub nth-day-of-week-after-date(\n",
       "            Date :$date!, :$nth! is copy,\n",
       "            DoW :$day-of-week!,\n",
       "            :$debug\n",
       "            --> Date) {...}\n",
       "\n",
       "    As a convenience, a version of the same routine requiring fewer keystrokes is provided:\n",
       "\n",
       "        sub nth-dow-after-date(\n",
       "            Date :$date!, :$nth! is copy,\n",
       "            DoW :$dow!,\n",
       "            :$debug\n",
       "            --> Date) {...}\n",
       "\n",
       "Notes\n",
       "=====\n",
       "\n",
       "New since the original release is a more general routine to calculate the *weeks-in-month* for **any** starting day of the week (DoW) given its number (Monday through Sunday) as a Raku Date DoW in the range 1..7 (the default DoW order for a Raku Date). This routine is crucial for laying out a calendar because it determines the vertical space required for the presentation.\n",
       "\n",
       "With a calendar week starting on Monday, the Raku Date DoW values for a month are shown below along with the corresponding calendar values for a 31-day month starting on a Friday. Note there are five calendar weeks consisting of one partial week followed by four full weeks.\n",
       "\n",
       "    Code             Days\n",
       "    M T W T F S S    Mo Tu We Th Fr Sa Su\n",
       "            5 6 7                 1  2  3\n",
       "    1 2 3 4 5 6 7     4  5  6  7  8  9 10\n",
       "    1 2 3 4 5 6 7    11 12 13 14 15 16 17\n",
       "    1 2 3 4 5 6 7    18 19 20 21 22 23 24\n",
       "    1 2 3 4 5 6 7    25 26 27 28 29 30 31\n",
       "\n",
       "Changing the calendar week start day can have significant effects. If the calendar week starts on a Sunday, the Date DoW numbers and the calendar days for the **same month** change to the form shown below. Note there are now **six** calendar weeks consisting of one partial week followed by four full weeks followed by one partial week.\n",
       "\n",
       "    Code             Days\n",
       "    S M T W T F S    Su Mo Tu We Th Fr Sa\n",
       "              5 6                    1  2\n",
       "    7 1 2 3 4 5 6     3  4  5  6  7  8  9\n",
       "    7 1 2 3 4 5 6    10 11 12 13 14 15 16\n",
       "    7 1 2 3 4 5 6    17 18 19 20 21 22 23\n",
       "    7 1 2 3 4 5 6    24 25 26 27 28 29 30\n",
       "    7                31\n",
       "\n",
       "Raku's `Date` routines provide us with two known values of the month that will enable the needed calculations. They are:\n",
       "\n",
       "    A: Date.first-date-of-month.day-of-week # range: 1..7\n",
       "    B: Date.days-in-month                   # range: 28..31\n",
       "\n",
       "Given the first value (A), and knowing the DoWs retain their order, we can derive the Date days in the first calendar week. Lists of Date days stay in the proper order as shown here in code used herein:\n",
       "\n",
       "    my @dows = 1..7;\n",
       "    for @dows -> $cal-start-day {\n",
       "        say \"$cal-start-day: {@dows.rotate($cal-start-day-1)}\";\n",
       "    }\n",
       "    # OUTPUT:\n",
       "    1: 1 2 3 4 5 6 7\n",
       "    2: 2 3 4 5 6 7 1\n",
       "    3: 3 4 5 6 7 1 2\n",
       "    4: 4 5 6 7 1 2 3\n",
       "    5: 5 6 7 1 2 3 4\n",
       "    6: 6 7 1 2 3 4 5\n",
       "    7: 7 1 2 3 4 5 6\n",
       "\n",
       "So we must get one of the above sequences in a first week of one to seven days. Note also each sequence is defined by its first day number, but it does **not** have to have its full set of days (as occurs in a partial first week).\n",
       "\n",
       "For example, given a calendar week that starts on Sunday (Date DoW 7) and the first day of the month is a Date DoW of 2 (Tuesday), using the routine `days-in-week1` yields a value of 5 which is the number of days remaining in that first week.\n",
       "\n",
       "    C: days-in-week1 7, 2  # OUTPUT: 5\n",
       "\n",
       "Subtracting that number from the **A** value (`Date.days-in-month`) yields the number of days left in the month: `D = A - C = 26`.\n",
       "\n",
       "Those remaining days divided by seven (and rounded up by one for any partial week) yield the remaining weeks so we get the desired result:\n",
       "\n",
       "    $cal-weeks  =  1;                # from the B Date value\n",
       "    $cal-weeks += 26 div 7;          # OUTPUT: 4 # additional full weeks\n",
       "    $cal-weeks += 1 if 26 mod 7 > 0; # OUTPUT: 5 # plus a partial week\n",
       "                                                 # yields the end result\n",
       "\n",
       "AUTHOR\n",
       "======\n",
       "\n",
       "Tom Browder <tbrowder@acm.org>\n",
       "\n",
       "COPYRIGHT AND LICENSE\n",
       "=====================\n",
       "\n",
       "© 2024 Tom Browder\n",
       "\n",
       "This library is free software; you may redistribute it or modify it under the Artistic License 2.0."
      ]
     },
     "execution_count": 13,
     "metadata": {},
     "output_type": "execute_result"
    }
   ],
   "source": [
    "my $readmeEdited = llm-synthesize([llm-prompt('CopyEdit'), \"\\n\\n\", $readme], e => $llmConf4)"
   ]
  }
 ],
 "metadata": {
  "kernelspec": {
   "display_name": "RakuChatbook",
   "language": "raku",
   "name": "raku"
  },
  "language_info": {
   "file_extension": ".raku",
   "mimetype": "text/plain",
   "name": "raku",
   "version": "6.d"
  },
  "orig_nbformat": 4
 },
 "nbformat": 4,
 "nbformat_minor": 2
}
