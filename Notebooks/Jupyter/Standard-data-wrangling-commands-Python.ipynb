{
 "cells": [
  {
   "cell_type": "markdown",
   "id": "3a645579",
   "metadata": {
    "pycharm": {
     "name": "#%% md\n"
    }
   },
   "source": [
    "# Standard Data Wrangling Commands\n",
    "\n",
    "***Python-centric, version 0.8***\n",
    "\n",
    "Anton Antonov\n",
    "[RakuForPrediction-book at GitHub](https://github.com/antononcube/RakuForPrediction-book)\n",
    "[SimplifiedMachineLearningWorkflows-book at GitHub](https://github.com/antononcube/SimplifiedMachineLearningWorkflows-book)\n",
    "September 2022"
   ],
   "outputs": []
  },
  {
   "cell_type": "markdown",
   "source": [
    "------\n",
    "\n",
    "## Introduction\n",
    "\n",
    "This document demonstrates and exemplifies the abilities of the Raku package [\"DSL::English::DataQueryWorkflow\"](https://raku.land/zef:antononcube/DSL::English::DataQueryWorkflows), [AAp1], to produce executable code that fits majority of the data wrangling use cases.\n",
    "\n",
    "The examples should give a good idea of the English-based Domain Specific Language (DSL) utilized by [AAp1].\n",
    "\n",
    "The data wrangling in Python is done with the packages: [\"pandas\"](https://pandas.pydata.org).\n",
    "\n",
    "This notebook has examples that were used in the presentation [\"Multi-language Data-Wrangling Conversational Agent\"](https://www.youtube.com/watch?v=pQk5jwoMSxs), [AAv1].\n",
    "That presentation is an introduction to data wrangling from a more general, multi-language perspective.\n",
    "\n",
    "*It is assumed that the readers of this notebook are familiar with the general data processing workflow discussed in the presentation [AAv1].*\n",
    "\n",
    "For detailed introduction into data wrangling (with- and in Raku) see the article [\"Introduction to data wrangling with Raku\"](https://rakuforprediction.wordpress.com/2021/12/31/introduction-to-data-wrangling-with-raku/), [AA1]. (And its Bulgarian version [AA2].)\n",
    "\n",
    "Some of the datasets are acquired with the package [\"ExampleDatasets\"](https://pypi.org/project/ExampleDatasets/).\n",
    "\n",
    "The data wrangling sections have two parts: a code generation part, and an execution steps part.\n",
    "\n",
    "### Generated code\n",
    "\n",
    "- Jupyter notebooks allow the invocation of shell commands and the definition of command aliases. Both of these features are leveraged.\n",
    "- The Raku package [AAp1] is utilized in this Jupyter notebook through package's Command Line Interface (CLI) script `ToDataQueryWorkflowCode`.\n",
    "- Additionally, the CLI script `ToDataQueryWorkflowCode` allows its code results to be copied to the clipboard of the host Operating System (OS).\n"
   ],
   "metadata": {
    "collapsed": false,
    "pycharm": {
     "name": "#%% md\n"
    }
   },
   "outputs": []
  },
  {
   "cell_type": "markdown",
   "source": [
    "------\n",
    "\n",
    "## Setup\n",
    "\n",
    "### Shell alias"
   ],
   "metadata": {
    "collapsed": false,
    "pycharm": {
     "name": "#%% md\n"
    }
   }
  },
  {
   "cell_type": "markdown",
   "source": [
    "Make an alias for the UNIX (macOS or Linux) Command Line Interface (CLI) program `ToDataQueryWorkflowCode`:"
   ],
   "metadata": {
    "collapsed": false,
    "pycharm": {
     "name": "#%% md\n"
    }
   }
  },
  {
   "cell_type": "code",
   "execution_count": 1,
   "outputs": [],
   "source": [
    "alias to_pandas ToDataQueryWorkflowCode Python::pandas %s"
   ],
   "metadata": {
    "collapsed": false,
    "pycharm": {
     "name": "#%%\n"
    }
   }
  },
  {
   "cell_type": "markdown",
   "source": [
    "Show the aliases:"
   ],
   "metadata": {
    "collapsed": false,
    "pycharm": {
     "name": "#%% md\n"
    }
   }
  },
  {
   "cell_type": "code",
   "execution_count": 2,
   "outputs": [
    {
     "name": "stdout",
     "output_type": "stream",
     "text": [
      "Total number of aliases: 13\n"
     ]
    },
    {
     "data": {
      "text/plain": "[('cat', 'cat'),\n ('cp', 'cp'),\n ('ldir', 'ls -F -G -l %l | grep /$'),\n ('lf', 'ls -F -l -G %l | grep ^-'),\n ('lk', 'ls -F -l -G %l | grep ^l'),\n ('ll', 'ls -F -l -G'),\n ('ls', 'ls -F -G'),\n ('lx', 'ls -F -l -G %l | grep ^-..x'),\n ('mkdir', 'mkdir'),\n ('mv', 'mv'),\n ('rm', 'rm'),\n ('rmdir', 'rmdir'),\n ('to_pandas', 'ToDataQueryWorkflowCode Python::pandas %s')]"
     },
     "execution_count": 2,
     "metadata": {},
     "output_type": "execute_result"
    }
   ],
   "source": [
    "%alias"
   ],
   "metadata": {
    "collapsed": false,
    "pycharm": {
     "name": "#%%\n"
    }
   }
  },
  {
   "cell_type": "markdown",
   "source": [
    "### Load packages"
   ],
   "metadata": {
    "collapsed": false,
    "pycharm": {
     "name": "#%% md\n"
    }
   }
  },
  {
   "cell_type": "code",
   "execution_count": 3,
   "outputs": [],
   "source": [
    "import pandas\n",
    "import numpy\n",
    "from ExampleDatasets import *\n",
    "import matplotlib.pyplot as plt"
   ],
   "metadata": {
    "collapsed": false,
    "pycharm": {
     "name": "#%%\n"
    }
   }
  },
  {
   "cell_type": "markdown",
   "source": [
    "### Load data"
   ],
   "metadata": {
    "collapsed": false,
    "pycharm": {
     "name": "#%% md\n"
    }
   },
   "outputs": []
  },
  {
   "cell_type": "markdown",
   "source": [
    "In order to use file sources with *unverified* Secure Sockets Layer (SSL) we use this code:"
   ],
   "metadata": {
    "collapsed": false,
    "pycharm": {
     "name": "#%% md\n"
    }
   }
  },
  {
   "cell_type": "code",
   "execution_count": 4,
   "outputs": [],
   "source": [
    "import ssl\n",
    "ssl._create_default_https_context = ssl._create_unverified_context"
   ],
   "metadata": {
    "collapsed": false,
    "pycharm": {
     "name": "#%%\n"
    }
   }
  },
  {
   "cell_type": "markdown",
   "source": [
    "#### Titanic data\n",
    "\n",
    "We can obtain the Titanic dataset provided by project [\"MathematicaVsR\"](https://github.com/antononcube/MathematicaVsR):"
   ],
   "metadata": {
    "collapsed": false,
    "pycharm": {
     "name": "#%% md\n"
    }
   }
  },
  {
   "cell_type": "code",
   "execution_count": 5,
   "outputs": [
    {
     "data": {
      "text/plain": "(1309, 5)"
     },
     "execution_count": 5,
     "metadata": {},
     "output_type": "execute_result"
    }
   ],
   "source": [
    "dfTitanic = pandas.read_csv(\"https://raw.githubusercontent.com/antononcube/MathematicaVsR/master/Data/MathematicaVsR-Data-Titanic.csv\");\n",
    "dfTitanic.shape"
   ],
   "metadata": {
    "collapsed": false,
    "pycharm": {
     "name": "#%%\n"
    }
   }
  },
  {
   "cell_type": "markdown",
   "source": [
    "#### Anscombe's quartet\n",
    "\n",
    "The dataset named [\"Anscombe's quartet\"](https://en.wikipedia.org/wiki/Anscombe%27s_quartet) has four datasets that have nearly identical simple descriptive statistics, yet have very different distributions and appear very different when graphed.\n",
    "\n",
    "Anscombe's quartet is (usually) given in a table with eight columns that is somewhat awkward to work with. Below we demonstrate data transformations that make plotting of the four datasets easier. The DSL specifications used make those data transformations are programming language independent.\n",
    "\n",
    "We can obtain the Anscombe's dataset using the function `example_dataset` provided by \"ExampleDatasets\", [AAp4]:"
   ],
   "metadata": {
    "collapsed": false,
    "pycharm": {
     "name": "#%% md\n"
    }
   },
   "outputs": []
  },
  {
   "cell_type": "code",
   "execution_count": 6,
   "outputs": [
    {
     "data": {
      "text/plain": "(11, 9)"
     },
     "execution_count": 6,
     "metadata": {},
     "output_type": "execute_result"
    }
   ],
   "source": [
    "dfAnscombe = example_dataset('anscombe');\n",
    "dfAnscombe.shape"
   ],
   "metadata": {
    "collapsed": false,
    "pycharm": {
     "name": "#%%\n"
    }
   }
  },
  {
   "cell_type": "markdown",
   "source": [
    "#### Star Wars films data\n",
    "\n",
    "We can obtain [Star Wars films](https://en.wikipedia.org/wiki/List_of_Star_Wars_films) datasets using the `pandas` function `read_csv`:"
   ],
   "metadata": {
    "collapsed": false,
    "pycharm": {
     "name": "#%% md\n"
    }
   },
   "outputs": []
  },
  {
   "cell_type": "code",
   "execution_count": 7,
   "outputs": [],
   "source": [
    "dfStarwars = pandas.read_csv(\"https://raw.githubusercontent.com/antononcube/R-packages/master/DataQueryWorkflowsTests/inst/extdata/dfStarwars.csv\")\n",
    "dfStarwarsFilms = pandas.read_csv(\"https://raw.githubusercontent.com/antononcube/R-packages/master/DataQueryWorkflowsTests/inst/extdata/dfStarwarsFilms.csv\")\n",
    "dfStarwarsStarships = pandas.read_csv(\"https://raw.githubusercontent.com/antononcube/R-packages/master/DataQueryWorkflowsTests/inst/extdata/dfStarwarsStarships.csv\")\n",
    "dfStarwarsVehicles = pandas.read_csv(\"https://raw.githubusercontent.com/antononcube/R-packages/master/DataQueryWorkflowsTests/inst/extdata/dfStarwarsVehicles.csv\")"
   ],
   "metadata": {
    "collapsed": false,
    "pycharm": {
     "name": "#%%\n"
    }
   }
  },
  {
   "cell_type": "markdown",
   "source": [
    "Here are the dimensions of the obtained data frames:"
   ],
   "metadata": {
    "collapsed": false,
    "pycharm": {
     "name": "#%% md\n"
    }
   }
  },
  {
   "cell_type": "code",
   "execution_count": 8,
   "outputs": [
    {
     "data": {
      "text/plain": "{'dfStarwars': (87, 11),\n 'dfStarwarsFilms': (173, 2),\n 'dfStarwarsStarships': (31, 2),\n 'dfStarwarsVehicles': (13, 2)}"
     },
     "execution_count": 8,
     "metadata": {},
     "output_type": "execute_result"
    }
   ],
   "source": [
    "{x : eval(x).shape for x in (\"dfStarwars\", \"dfStarwarsFilms\", \"dfStarwarsStarships\", \"dfStarwarsVehicles\")}"
   ],
   "metadata": {
    "collapsed": false,
    "pycharm": {
     "name": "#%%\n"
    }
   }
  },
  {
   "cell_type": "markdown",
   "source": [
    "------\n",
    "\n",
    "## Multi-language translation\n",
    "\n",
    "In this section show that the Raku package \"DSL::English::DataQueryWorkflows\" generates code for multiple programming languages.\n",
    "Also, it translates the English DSL into DSLs of other natural languages.\n",
    "\n",
    "### Programming languages"
   ],
   "metadata": {
    "collapsed": false,
    "pycharm": {
     "name": "#%% md\n"
    }
   },
   "outputs": []
  },
  {
   "cell_type": "code",
   "execution_count": 9,
   "outputs": [
    {
     "name": "stdout",
     "output_type": "stream",
     "text": [
      "\r\n",
      "Python:\r\n",
      "obj = dfTitanic.copy()\r\n",
      "obj = obj.groupby([\"passengerClass\"])\r\n",
      "obj = obj.size()\r\n",
      "\r\n",
      "Raku:\r\n",
      "$obj = dfTitanic ;\r\n",
      "$obj = group-by($obj, \"passengerClass\") ;\r\n",
      "$obj = $obj>>.elems\r\n",
      "\r\n",
      "R:\r\n",
      "obj <- dfTitanic ;\r\n",
      "obj <- split( x = obj, f = \"passengerClass\" ) ;\r\n",
      "obj = length(obj)\r\n",
      "\r\n",
      "R::tidyverse:\r\n",
      "dfTitanic %>%\r\n",
      "dplyr::group_by(passengerClass) %>%\r\n",
      "dplyr::count()\r\n",
      "\r\n",
      "WL:\r\n",
      "obj = dfTitanic;\r\n",
      "obj = GroupBy[ obj, #[\"passengerClass\"]& ];\r\n",
      "obj = Map[ Length, obj]\r\n"
     ]
    }
   ],
   "source": [
    "!raku -e 'use DSL::English::DataQueryWorkflows; my $command0 = \"use dfTitanic; group by passengerClass; counts;\"; <Python Raku R R::tidyverse WL>.map({ say \"\\n{ $_ }:\\n\", ToDataQueryWorkflowCode($command0, target => $_) })'"
   ],
   "metadata": {
    "collapsed": false,
    "pycharm": {
     "name": "#%%\n"
    }
   }
  },
  {
   "cell_type": "markdown",
   "source": [
    "### Natural languages"
   ],
   "metadata": {
    "collapsed": false,
    "pycharm": {
     "name": "#%% md\n"
    }
   },
   "outputs": []
  },
  {
   "cell_type": "code",
   "execution_count": 10,
   "outputs": [
    {
     "name": "stdout",
     "output_type": "stream",
     "text": [
      "\r\n",
      "Bulgarian:\r\n",
      "използвай таблицата: dfTitanic\r\n",
      "групирай с колоните: passengerClass\r\n",
      "намери броя\r\n",
      "\r\n",
      "Korean:\r\n",
      "테이블 사용: dfTitanic\r\n",
      "열로 그룹화: passengerClass\r\n",
      "하위 그룹의 크기 찾기\r\n",
      "\r\n",
      "Russian:\r\n",
      "использовать таблицу: dfTitanic\r\n",
      "групировать с колонками: passengerClass\r\n",
      "найти число\r\n",
      "\r\n",
      "Spanish:\r\n",
      "utilizar la tabla: dfTitanic\r\n",
      "agrupar con columnas: \"passengerClass\"\r\n",
      "encontrar recuentos\r\n"
     ]
    }
   ],
   "source": [
    "!raku -e 'use DSL::English::DataQueryWorkflows; my $command0 = \"use dfTitanic; group by passengerClass; counts;\"; <Bulgarian Korean Russian Spanish>.map({ say \"\\n{ $_ }:\\n\", ToDataQueryWorkflowCode($command0, target => $_) })'"
   ],
   "metadata": {
    "collapsed": false,
    "pycharm": {
     "name": "#%%\n"
    }
   }
  },
  {
   "cell_type": "markdown",
   "source": [
    "------\n",
    "\n",
    "## Using `ToDataQueryWorkflowCode`\n",
    "\n",
    "The Raku package \"DSL::English::DataQueryWorkflows\", [AAp1], provides the Command Line Interface (CLI) script `ToDataQueryWorkflowCode`.\n",
    "That script has optional arguments that control its output.\n",
    "\n",
    "Here is script's usage message:"
   ],
   "metadata": {
    "collapsed": false,
    "pycharm": {
     "name": "#%% md\n"
    }
   },
   "outputs": []
  },
  {
   "cell_type": "code",
   "execution_count": 11,
   "outputs": [
    {
     "name": "stdout",
     "output_type": "stream",
     "text": [
      "Translates natural language commands into data transformations programming code.\r\n",
      "Usage:\r\n",
      "  ToDataQueryWorkflowCode [-t|--target=<Str>] [-l|--language=<Str>] [-f|--format=<Str>] [-c|--clipboard-command=<Str>] <command> -- Main CLI signature.\r\n",
      "  ToDataQueryWorkflowCode [-l|--language=<Str>] [-f|--format=<Str>] [-c|--clipboard-command=<Str>] <target> <command> -- Easier target specification.\r\n",
      "  ToDataQueryWorkflowCode [-t|--target=<Str>] [-l|--language=<Str>] [-f|--format=<Str>] [-c|--clipboard-command=<Str>] [<words> ...] -- Command given as a sequence of words.\r\n",
      "  \r\n",
      "    <command>                       A string with one or many commands (separated by ';').\r\n",
      "    -t|--target=<Str>               Target (programming language with optional library spec.) [default: 'Whatever']\r\n",
      "    -l|--language=<Str>             The natural language to translate from. [default: 'English']\r\n",
      "    -f|--format=<Str>               The format of the output, one of 'Whatever', 'code', 'hash', or 'raku'. [default: 'Whatever']\r\n",
      "    -c|--clipboard-command=<Str>    Clipboard command to use. [default: 'Whatever']\r\n",
      "    <target>                        Programming language.\r\n",
      "    [<words> ...]                   Words of a data query.\r\n",
      "\r\n",
      "\r\n",
      "Details:\r\n",
      "    If --target is 'Whatever' then:\r\n",
      "        1. It is attempted to use the environmental variable RAKU_DSL_DATAQUERYWORKFLOWS_TARGET\r\n",
      "        2. If RAKU_DSL_DATAQUERYWORKFLOWS_TARGET is not defined then 'R::tidyverse' is used.\r\n",
      "    If --clipboard-command is the empty string then no copying to the clipboard is done.\r\n",
      "    If --clipboard-command is 'Whatever' then:\r\n",
      "        1. It is attempted to use the environment variable CLIPBOARD_COPY_COMMAND.\r\n",
      "            If CLIPBOARD_COPY_COMMAND is defined and it is the empty string then no copying to the clipboard is done.\r\n",
      "        2. If the variable CLIPBOARD_COPY_COMMAND is not defined then:\r\n",
      "            - 'pbcopy' is used on macOS\r\n",
      "            - 'clip.exe' on Windows\r\n",
      "            - 'xclip -selection clipboard' on Linux.\r\n",
      "\r\n"
     ]
    }
   ],
   "source": [
    "!ToDataQueryWorkflowCode --help"
   ],
   "metadata": {
    "collapsed": false,
    "pycharm": {
     "name": "#%%\n"
    }
   }
  },
  {
   "cell_type": "markdown",
   "source": [
    "------\n",
    "\n",
    "## Trivial workflow\n",
    "\n",
    "In this section we demonstrate code generation and execution results for very simple (and very frequently used) sequence of data wrangling operations.\n",
    "\n",
    "### Code generation\n",
    "\n",
    "For the simple specification:"
   ],
   "metadata": {
    "collapsed": false,
    "pycharm": {
     "name": "#%% md\n"
    }
   },
   "outputs": []
  },
  {
   "cell_type": "code",
   "execution_count": 12,
   "outputs": [],
   "source": [
    "command0 = \"\"\"\n",
    "use dfTitanic;\n",
    "group by passengerClass;\n",
    "show counts;\n",
    "\"\"\""
   ],
   "metadata": {
    "collapsed": false,
    "pycharm": {
     "name": "#%%\n"
    }
   }
  },
  {
   "cell_type": "markdown",
   "source": [
    "We generate target code with `ToDataQueryWorkflowCode` using the alias `to_pandas` defined above:"
   ],
   "metadata": {
    "collapsed": false,
    "pycharm": {
     "name": "#%% md\n"
    }
   },
   "outputs": []
  },
  {
   "cell_type": "code",
   "execution_count": 13,
   "outputs": [
    {
     "name": "stdout",
     "output_type": "stream",
     "text": [
      "obj = dfTitanic.copy()\r\n",
      "obj = obj.groupby([\"passengerClass\"])\r\n",
      "print(obj.size())\r\n"
     ]
    }
   ],
   "source": [
    "%to_pandas '{command0}'"
   ],
   "metadata": {
    "collapsed": false,
    "pycharm": {
     "name": "#%%\n"
    }
   }
  },
  {
   "cell_type": "markdown",
   "source": [
    "Here is the execution and result of the aliased shell command:"
   ],
   "metadata": {
    "collapsed": false,
    "pycharm": {
     "name": "#%% md\n"
    }
   }
  },
  {
   "cell_type": "code",
   "execution_count": 14,
   "outputs": [
    {
     "data": {
      "text/plain": "passengerClass\n1st    323\n2nd    277\n3rd    709\ndtype: int64"
     },
     "execution_count": 14,
     "metadata": {},
     "output_type": "execute_result"
    }
   ],
   "source": [
    "obj = dfTitanic.copy()\n",
    "obj = obj.groupby([\"passengerClass\"])\n",
    "obj = obj.size()\n",
    "obj"
   ],
   "metadata": {
    "collapsed": false,
    "pycharm": {
     "name": "#%%\n"
    }
   }
  },
  {
   "cell_type": "markdown",
   "source": [
    "**Remark:** Executing the commands above puts the generated code into the clipboard of the Operating System (OS)."
   ],
   "metadata": {
    "collapsed": false,
    "pycharm": {
     "name": "#%% md\n"
    }
   }
  },
  {
   "cell_type": "markdown",
   "source": [
    "### Execution steps (Raku)\n",
    "\n",
    "Get the dataset into a \"pipeline object\":"
   ],
   "metadata": {
    "collapsed": false,
    "pycharm": {
     "name": "#%% md\n"
    }
   },
   "outputs": []
  },
  {
   "cell_type": "code",
   "execution_count": 15,
   "outputs": [
    {
     "data": {
      "text/plain": "(1309, 5)"
     },
     "execution_count": 15,
     "metadata": {},
     "output_type": "execute_result"
    }
   ],
   "source": [
    "obj = dfTitanic.copy()\n",
    "obj.shape"
   ],
   "metadata": {
    "collapsed": false,
    "pycharm": {
     "name": "#%%\n"
    }
   }
  },
  {
   "cell_type": "markdown",
   "source": [
    "Group by column:"
   ],
   "metadata": {
    "collapsed": false,
    "pycharm": {
     "name": "#%% md\n"
    }
   },
   "outputs": []
  },
  {
   "cell_type": "code",
   "execution_count": 16,
   "outputs": [
    {
     "data": {
      "text/plain": "3"
     },
     "execution_count": 16,
     "metadata": {},
     "output_type": "execute_result"
    }
   ],
   "source": [
    "obj = obj.groupby([\"passengerClass\"])\n",
    "len(obj)"
   ],
   "metadata": {
    "collapsed": false,
    "pycharm": {
     "name": "#%%\n"
    }
   }
  },
  {
   "cell_type": "markdown",
   "source": [
    "Assign group sizes to the \"pipeline object\":"
   ],
   "metadata": {
    "collapsed": false,
    "pycharm": {
     "name": "#%% md\n"
    }
   },
   "outputs": []
  },
  {
   "cell_type": "code",
   "execution_count": 17,
   "outputs": [
    {
     "data": {
      "text/plain": "passengerClass\n1st    323\n2nd    277\n3rd    709\ndtype: int64"
     },
     "execution_count": 17,
     "metadata": {},
     "output_type": "execute_result"
    }
   ],
   "source": [
    "obj = obj.size()\n",
    "obj"
   ],
   "metadata": {
    "collapsed": false,
    "pycharm": {
     "name": "#%%\n"
    }
   }
  },
  {
   "cell_type": "markdown",
   "source": [
    "------\n",
    "\n",
    "## Cross tabulation\n",
    "\n",
    "[Cross tabulation](https://en.wikipedia.org/wiki/Contingency_table) is a fundamental data wrangling operation. For the related transformations to long- and wide-format see the section \"Complicated and neat workflow\".\n",
    "\n",
    "### Code generation\n",
    "\n",
    "Here we define a command that filters the Titanic dataset and then makes cross-tabulates:"
   ],
   "metadata": {
    "collapsed": false,
    "pycharm": {
     "name": "#%% md\n"
    }
   },
   "outputs": []
  },
  {
   "cell_type": "code",
   "execution_count": 18,
   "outputs": [],
   "source": [
    "command1 = \"\"\"use dfTitanic;\n",
    "filter with passengerSex is 'male' and passengerSurvival equals 'died' or passengerSurvival is 'survived' ;\n",
    "cross tabulate passengerClass, passengerSurvival over passengerAge;\n",
    "take pipeline value\n",
    "\"\"\""
   ],
   "metadata": {
    "collapsed": false,
    "pycharm": {
     "name": "#%%\n"
    }
   }
  },
  {
   "cell_type": "code",
   "execution_count": 19,
   "outputs": [
    {
     "name": "stdout",
     "output_type": "stream",
     "text": [
      "obj = dfTitanic.copy()\r\n",
      "obj = obj[((obj[\"passengerSex\"]== \"male\") & (obj[\"passengerSurvival\"]== \"died\")) | ((obj[\"passengerSurvival\"]== \"survived\"))]\r\n",
      "obj = pandas.crosstab( index = obj.passengerClass, columns = obj.passengerSurvival, values = obj.passengerAge, aggfunc = \"sum\" )\r\n",
      "obj\r\n"
     ]
    }
   ],
   "source": [
    "%to_pandas \"{command1}\""
   ],
   "metadata": {
    "collapsed": false,
    "pycharm": {
     "name": "#%%\n"
    }
   }
  },
  {
   "cell_type": "markdown",
   "source": [
    "#### Execution"
   ],
   "metadata": {
    "collapsed": false,
    "pycharm": {
     "name": "#%% md\n"
    }
   }
  },
  {
   "cell_type": "code",
   "execution_count": 20,
   "outputs": [
    {
     "data": {
      "text/plain": "passengerSurvival  died  survived\npassengerClass                   \n1st                4290      6671\n2nd                4419      2776\n3rd                7562      2720",
      "text/html": "<div>\n<style scoped>\n    .dataframe tbody tr th:only-of-type {\n        vertical-align: middle;\n    }\n\n    .dataframe tbody tr th {\n        vertical-align: top;\n    }\n\n    .dataframe thead th {\n        text-align: right;\n    }\n</style>\n<table border=\"1\" class=\"dataframe\">\n  <thead>\n    <tr style=\"text-align: right;\">\n      <th>passengerSurvival</th>\n      <th>died</th>\n      <th>survived</th>\n    </tr>\n    <tr>\n      <th>passengerClass</th>\n      <th></th>\n      <th></th>\n    </tr>\n  </thead>\n  <tbody>\n    <tr>\n      <th>1st</th>\n      <td>4290</td>\n      <td>6671</td>\n    </tr>\n    <tr>\n      <th>2nd</th>\n      <td>4419</td>\n      <td>2776</td>\n    </tr>\n    <tr>\n      <th>3rd</th>\n      <td>7562</td>\n      <td>2720</td>\n    </tr>\n  </tbody>\n</table>\n</div>"
     },
     "execution_count": 20,
     "metadata": {},
     "output_type": "execute_result"
    }
   ],
   "source": [
    "obj = dfTitanic.copy()\n",
    "obj = obj[((obj[\"passengerSex\"]== \"male\") & (obj[\"passengerSurvival\"]== \"died\")) | ((obj[\"passengerSurvival\"]== \"survived\"))]\n",
    "obj = pandas.crosstab( index = obj.passengerClass, columns = obj.passengerSurvival, values = obj.passengerAge, aggfunc = \"sum\" )\n",
    "obj"
   ],
   "metadata": {
    "collapsed": false,
    "pycharm": {
     "name": "#%%\n"
    }
   }
  },
  {
   "cell_type": "markdown",
   "source": [
    "### Execution steps (Python)\n",
    "\n",
    "Copy the Titanic data into a \"pipeline object\" and show its dimensions and a sample of it:\n"
   ],
   "metadata": {
    "collapsed": false,
    "pycharm": {
     "name": "#%% md\n"
    }
   },
   "outputs": []
  },
  {
   "cell_type": "code",
   "execution_count": 21,
   "outputs": [
    {
     "name": "stdout",
     "output_type": "stream",
     "text": [
      "Titanic dimensions: (1309, 5)\n"
     ]
    },
    {
     "data": {
      "text/plain": "   id passengerClass  passengerAge passengerSex passengerSurvival\n0   1            1st            30       female          survived\n1   2            1st             0         male          survived\n2   3            1st             0       female              died\n3   4            1st            30         male              died\n4   5            1st            20       female              died\n5   6            1st            50         male          survived\n6   7            1st            60       female          survived",
      "text/html": "<div>\n<style scoped>\n    .dataframe tbody tr th:only-of-type {\n        vertical-align: middle;\n    }\n\n    .dataframe tbody tr th {\n        vertical-align: top;\n    }\n\n    .dataframe thead th {\n        text-align: right;\n    }\n</style>\n<table border=\"1\" class=\"dataframe\">\n  <thead>\n    <tr style=\"text-align: right;\">\n      <th></th>\n      <th>id</th>\n      <th>passengerClass</th>\n      <th>passengerAge</th>\n      <th>passengerSex</th>\n      <th>passengerSurvival</th>\n    </tr>\n  </thead>\n  <tbody>\n    <tr>\n      <th>0</th>\n      <td>1</td>\n      <td>1st</td>\n      <td>30</td>\n      <td>female</td>\n      <td>survived</td>\n    </tr>\n    <tr>\n      <th>1</th>\n      <td>2</td>\n      <td>1st</td>\n      <td>0</td>\n      <td>male</td>\n      <td>survived</td>\n    </tr>\n    <tr>\n      <th>2</th>\n      <td>3</td>\n      <td>1st</td>\n      <td>0</td>\n      <td>female</td>\n      <td>died</td>\n    </tr>\n    <tr>\n      <th>3</th>\n      <td>4</td>\n      <td>1st</td>\n      <td>30</td>\n      <td>male</td>\n      <td>died</td>\n    </tr>\n    <tr>\n      <th>4</th>\n      <td>5</td>\n      <td>1st</td>\n      <td>20</td>\n      <td>female</td>\n      <td>died</td>\n    </tr>\n    <tr>\n      <th>5</th>\n      <td>6</td>\n      <td>1st</td>\n      <td>50</td>\n      <td>male</td>\n      <td>survived</td>\n    </tr>\n    <tr>\n      <th>6</th>\n      <td>7</td>\n      <td>1st</td>\n      <td>60</td>\n      <td>female</td>\n      <td>survived</td>\n    </tr>\n  </tbody>\n</table>\n</div>"
     },
     "execution_count": 21,
     "metadata": {},
     "output_type": "execute_result"
    }
   ],
   "source": [
    "obj = dfTitanic.copy()\n",
    "print(\"Titanic dimensions:\", dfTitanic.shape)\n",
    "obj.head(7)"
   ],
   "metadata": {
    "collapsed": false,
    "pycharm": {
     "name": "#%%\n"
    }
   }
  },
  {
   "cell_type": "markdown",
   "source": [
    "Filter the data and show the number of rows in the result set:"
   ],
   "metadata": {
    "collapsed": false,
    "pycharm": {
     "name": "#%% md\n"
    }
   },
   "outputs": []
  },
  {
   "cell_type": "code",
   "execution_count": 22,
   "outputs": [
    {
     "data": {
      "text/plain": "1182"
     },
     "execution_count": 22,
     "metadata": {},
     "output_type": "execute_result"
    }
   ],
   "source": [
    "obj = obj[((obj[\"passengerSex\"]== \"male\") & (obj[\"passengerSurvival\"]== \"died\")) | ((obj[\"passengerSurvival\"]== \"survived\"))]\n",
    "len(obj)"
   ],
   "metadata": {
    "collapsed": false,
    "pycharm": {
     "name": "#%%\n"
    }
   }
  },
  {
   "cell_type": "markdown",
   "source": [
    "Cross tabulate and show the result:"
   ],
   "metadata": {
    "collapsed": false,
    "pycharm": {
     "name": "#%% md\n"
    }
   },
   "outputs": []
  },
  {
   "cell_type": "code",
   "execution_count": 23,
   "outputs": [
    {
     "data": {
      "text/plain": "passengerSurvival  died  survived\npassengerClass                   \n1st                4290      6671\n2nd                4419      2776\n3rd                7562      2720",
      "text/html": "<div>\n<style scoped>\n    .dataframe tbody tr th:only-of-type {\n        vertical-align: middle;\n    }\n\n    .dataframe tbody tr th {\n        vertical-align: top;\n    }\n\n    .dataframe thead th {\n        text-align: right;\n    }\n</style>\n<table border=\"1\" class=\"dataframe\">\n  <thead>\n    <tr style=\"text-align: right;\">\n      <th>passengerSurvival</th>\n      <th>died</th>\n      <th>survived</th>\n    </tr>\n    <tr>\n      <th>passengerClass</th>\n      <th></th>\n      <th></th>\n    </tr>\n  </thead>\n  <tbody>\n    <tr>\n      <th>1st</th>\n      <td>4290</td>\n      <td>6671</td>\n    </tr>\n    <tr>\n      <th>2nd</th>\n      <td>4419</td>\n      <td>2776</td>\n    </tr>\n    <tr>\n      <th>3rd</th>\n      <td>7562</td>\n      <td>2720</td>\n    </tr>\n  </tbody>\n</table>\n</div>"
     },
     "execution_count": 23,
     "metadata": {},
     "output_type": "execute_result"
    }
   ],
   "source": [
    "obj = pandas.crosstab( index = obj.passengerClass, columns = obj.passengerSurvival, values = obj.passengerAge, aggfunc = \"sum\" )\n",
    "obj"
   ],
   "metadata": {
    "collapsed": false,
    "pycharm": {
     "name": "#%%\n"
    }
   }
  },
  {
   "cell_type": "markdown",
   "source": [
    "------\n",
    "\n",
    "## Formulas with column references\n",
    "\n",
    "In this section we discuss formula utilization to mutate data.\n",
    "\n",
    "Special care has to be taken when the specifying data mutations with formulas that reference to columns in the dataset.\n",
    "\n",
    "The code corresponding to the `transform ...` line in this example produces\n",
    "*expected* result for the target \"R::tidyverse\":"
   ],
   "metadata": {
    "collapsed": false,
    "pycharm": {
     "name": "#%% md\n"
    }
   },
   "outputs": []
  },
  {
   "cell_type": "code",
   "execution_count": 24,
   "outputs": [],
   "source": [
    "command2 = \"\"\"use data frame dfStarwars;\n",
    "keep the columns name, homeworld, mass & height;\n",
    "transform with bmi = `mass/height^2*10000`;\n",
    "filter rows by bmi >= 30 & height < 200;\n",
    "arrange by the variables mass & height descending\"\"\""
   ],
   "metadata": {
    "collapsed": false,
    "pycharm": {
     "name": "#%%\n"
    }
   }
  },
  {
   "cell_type": "code",
   "execution_count": 25,
   "outputs": [
    {
     "name": "stdout",
     "output_type": "stream",
     "text": [
      "obj = dfStarwars.copy()\r\n",
      "obj = obj[[\"name\", \"homeworld\", \"mass\", \"height\"]]\r\n",
      "obj = obj.assign( bmi = mass/height^2*10000 )\r\n",
      "obj = obj[((obj[\"bmi\"]>= 30) & (obj[\"height\"]< 200))]\r\n",
      "obj = obj.sort_values( [\"mass\", \"height\"], ascending = False )\r\n"
     ]
    }
   ],
   "source": [
    "%to_pandas '{command2}'"
   ],
   "metadata": {
    "collapsed": false,
    "pycharm": {
     "name": "#%%\n"
    }
   }
  },
  {
   "cell_type": "markdown",
   "source": [
    "Specifically, for \"Python:pandas\" the transform specification line has to refer to the context variable `$_`.\n",
    "Here is an example:\n"
   ],
   "metadata": {
    "collapsed": false,
    "pycharm": {
     "name": "#%% md\n"
    }
   },
   "outputs": []
  },
  {
   "cell_type": "code",
   "execution_count": 26,
   "outputs": [],
   "source": [
    "command2p = \"\"\"\n",
    "use data frame dfStarwars;\n",
    "transform with bmi = `obj[\"mass\"]/obj[\"height\"]**2*10000` and homeworld = `obj[\"homeworld\"].str.upper()`;\n",
    "take pipeline value\n",
    "\"\"\""
   ],
   "metadata": {
    "collapsed": false,
    "pycharm": {
     "name": "#%%\n"
    }
   }
  },
  {
   "cell_type": "code",
   "execution_count": 27,
   "outputs": [
    {
     "name": "stdout",
     "output_type": "stream",
     "text": [
      "obj = dfStarwars.copy()\r\n",
      "obj = obj.assign( bmi = obj[\"mass\"]/obj[\"height\"]**2*10000, homeworld = obj[\"homeworld\"].str.upper() )\r\n",
      "obj\r\n"
     ]
    }
   ],
   "source": [
    "%to_pandas '{command2p}';"
   ],
   "metadata": {
    "collapsed": false,
    "pycharm": {
     "name": "#%%\n"
    }
   }
  },
  {
   "cell_type": "code",
   "execution_count": 28,
   "outputs": [
    {
     "data": {
      "text/plain": "              name  height   mass hair_color   skin_color eye_color  \\\n0   Luke Skywalker   172.0   77.0      blond         fair      blue   \n1            C-3PO   167.0   75.0        NaN         gold    yellow   \n2            R2-D2    96.0   32.0        NaN  white, blue       red   \n3      Darth Vader   202.0  136.0       none        white    yellow   \n4      Leia Organa   150.0   49.0      brown        light     brown   \n..             ...     ...    ...        ...          ...       ...   \n82             Rey     NaN    NaN      brown        light     hazel   \n83     Poe Dameron     NaN    NaN      brown        light     brown   \n84             BB8     NaN    NaN       none         none     black   \n85  Captain Phasma     NaN    NaN    unknown      unknown   unknown   \n86   Padmé Amidala   165.0   45.0      brown        light     brown   \n\n    birth_year     sex     gender homeworld species        bmi  \n0         19.0    male  masculine  TATOOINE   Human  26.027582  \n1        112.0    none  masculine  TATOOINE   Droid  26.892323  \n2         33.0    none  masculine     NABOO   Droid  34.722222  \n3         41.9    male  masculine  TATOOINE   Human  33.330066  \n4         19.0  female   feminine  ALDERAAN   Human  21.777778  \n..         ...     ...        ...       ...     ...        ...  \n82         NaN  female   feminine       NaN   Human        NaN  \n83         NaN    male  masculine       NaN   Human        NaN  \n84         NaN    none  masculine       NaN   Droid        NaN  \n85         NaN     NaN        NaN       NaN     NaN        NaN  \n86        46.0  female   feminine     NABOO   Human  16.528926  \n\n[87 rows x 12 columns]",
      "text/html": "<div>\n<style scoped>\n    .dataframe tbody tr th:only-of-type {\n        vertical-align: middle;\n    }\n\n    .dataframe tbody tr th {\n        vertical-align: top;\n    }\n\n    .dataframe thead th {\n        text-align: right;\n    }\n</style>\n<table border=\"1\" class=\"dataframe\">\n  <thead>\n    <tr style=\"text-align: right;\">\n      <th></th>\n      <th>name</th>\n      <th>height</th>\n      <th>mass</th>\n      <th>hair_color</th>\n      <th>skin_color</th>\n      <th>eye_color</th>\n      <th>birth_year</th>\n      <th>sex</th>\n      <th>gender</th>\n      <th>homeworld</th>\n      <th>species</th>\n      <th>bmi</th>\n    </tr>\n  </thead>\n  <tbody>\n    <tr>\n      <th>0</th>\n      <td>Luke Skywalker</td>\n      <td>172.0</td>\n      <td>77.0</td>\n      <td>blond</td>\n      <td>fair</td>\n      <td>blue</td>\n      <td>19.0</td>\n      <td>male</td>\n      <td>masculine</td>\n      <td>TATOOINE</td>\n      <td>Human</td>\n      <td>26.027582</td>\n    </tr>\n    <tr>\n      <th>1</th>\n      <td>C-3PO</td>\n      <td>167.0</td>\n      <td>75.0</td>\n      <td>NaN</td>\n      <td>gold</td>\n      <td>yellow</td>\n      <td>112.0</td>\n      <td>none</td>\n      <td>masculine</td>\n      <td>TATOOINE</td>\n      <td>Droid</td>\n      <td>26.892323</td>\n    </tr>\n    <tr>\n      <th>2</th>\n      <td>R2-D2</td>\n      <td>96.0</td>\n      <td>32.0</td>\n      <td>NaN</td>\n      <td>white, blue</td>\n      <td>red</td>\n      <td>33.0</td>\n      <td>none</td>\n      <td>masculine</td>\n      <td>NABOO</td>\n      <td>Droid</td>\n      <td>34.722222</td>\n    </tr>\n    <tr>\n      <th>3</th>\n      <td>Darth Vader</td>\n      <td>202.0</td>\n      <td>136.0</td>\n      <td>none</td>\n      <td>white</td>\n      <td>yellow</td>\n      <td>41.9</td>\n      <td>male</td>\n      <td>masculine</td>\n      <td>TATOOINE</td>\n      <td>Human</td>\n      <td>33.330066</td>\n    </tr>\n    <tr>\n      <th>4</th>\n      <td>Leia Organa</td>\n      <td>150.0</td>\n      <td>49.0</td>\n      <td>brown</td>\n      <td>light</td>\n      <td>brown</td>\n      <td>19.0</td>\n      <td>female</td>\n      <td>feminine</td>\n      <td>ALDERAAN</td>\n      <td>Human</td>\n      <td>21.777778</td>\n    </tr>\n    <tr>\n      <th>...</th>\n      <td>...</td>\n      <td>...</td>\n      <td>...</td>\n      <td>...</td>\n      <td>...</td>\n      <td>...</td>\n      <td>...</td>\n      <td>...</td>\n      <td>...</td>\n      <td>...</td>\n      <td>...</td>\n      <td>...</td>\n    </tr>\n    <tr>\n      <th>82</th>\n      <td>Rey</td>\n      <td>NaN</td>\n      <td>NaN</td>\n      <td>brown</td>\n      <td>light</td>\n      <td>hazel</td>\n      <td>NaN</td>\n      <td>female</td>\n      <td>feminine</td>\n      <td>NaN</td>\n      <td>Human</td>\n      <td>NaN</td>\n    </tr>\n    <tr>\n      <th>83</th>\n      <td>Poe Dameron</td>\n      <td>NaN</td>\n      <td>NaN</td>\n      <td>brown</td>\n      <td>light</td>\n      <td>brown</td>\n      <td>NaN</td>\n      <td>male</td>\n      <td>masculine</td>\n      <td>NaN</td>\n      <td>Human</td>\n      <td>NaN</td>\n    </tr>\n    <tr>\n      <th>84</th>\n      <td>BB8</td>\n      <td>NaN</td>\n      <td>NaN</td>\n      <td>none</td>\n      <td>none</td>\n      <td>black</td>\n      <td>NaN</td>\n      <td>none</td>\n      <td>masculine</td>\n      <td>NaN</td>\n      <td>Droid</td>\n      <td>NaN</td>\n    </tr>\n    <tr>\n      <th>85</th>\n      <td>Captain Phasma</td>\n      <td>NaN</td>\n      <td>NaN</td>\n      <td>unknown</td>\n      <td>unknown</td>\n      <td>unknown</td>\n      <td>NaN</td>\n      <td>NaN</td>\n      <td>NaN</td>\n      <td>NaN</td>\n      <td>NaN</td>\n      <td>NaN</td>\n    </tr>\n    <tr>\n      <th>86</th>\n      <td>Padmé Amidala</td>\n      <td>165.0</td>\n      <td>45.0</td>\n      <td>brown</td>\n      <td>light</td>\n      <td>brown</td>\n      <td>46.0</td>\n      <td>female</td>\n      <td>feminine</td>\n      <td>NABOO</td>\n      <td>Human</td>\n      <td>16.528926</td>\n    </tr>\n  </tbody>\n</table>\n<p>87 rows × 12 columns</p>\n</div>"
     },
     "execution_count": 28,
     "metadata": {},
     "output_type": "execute_result"
    }
   ],
   "source": [
    "obj = dfStarwars.copy()\n",
    "obj = obj.assign( bmi = obj[\"mass\"]/obj[\"height\"]**2*10000, homeworld = obj[\"homeworld\"].str.upper() )\n",
    "obj"
   ],
   "metadata": {
    "collapsed": false,
    "pycharm": {
     "name": "#%%\n"
    }
   }
  },
  {
   "cell_type": "markdown",
   "source": [
    "**Remark:** Note that we have to use single quotes for the command invocation; using double quotes will invoke the string interpolation feature."
   ],
   "metadata": {
    "collapsed": false,
    "pycharm": {
     "name": "#%% md\n"
    }
   },
   "outputs": []
  },
  {
   "cell_type": "markdown",
   "source": [
    "------\n",
    "\n",
    "## Grouping awareness\n",
    "\n",
    "In this section we discuss the treatment of multiple \"group by\" invocations within the same DSL specification.\n",
    "\n",
    "### Code generation\n",
    "\n",
    "Since there is no expectation to have a dedicated data transformation monad -- in whatever programming language -- we can try to make the command sequence parsing to be \"aware\" of the grouping operations.\n",
    "\n",
    "In the following example before applying the grouping operation in fourth line we have to flatten the data (which is grouped in the second line):"
   ],
   "metadata": {
    "collapsed": false,
    "pycharm": {
     "name": "#%% md\n"
    }
   },
   "outputs": []
  },
  {
   "cell_type": "code",
   "execution_count": 29,
   "outputs": [],
   "source": [
    "command3 = \"\"\"use dfTitanic;\n",
    "group by passengerClass;\n",
    "echo counts;\n",
    "group by passengerSex;\n",
    "show counts\"\"\""
   ],
   "metadata": {
    "collapsed": false,
    "pycharm": {
     "name": "#%%\n"
    }
   }
  },
  {
   "cell_type": "code",
   "execution_count": 30,
   "outputs": [
    {
     "name": "stdout",
     "output_type": "stream",
     "text": [
      "obj = dfTitanic.copy()\r\n",
      "obj = obj.groupby([\"passengerClass\"])\r\n",
      "print(obj.size())\r\n",
      "obj = pandas.concat([g for k, g in obj])\r\n",
      "obj = obj.groupby([\"passengerSex\"])\r\n",
      "print(obj.size())\r\n"
     ]
    }
   ],
   "source": [
    "%to_pandas '{command3}'"
   ],
   "metadata": {
    "collapsed": false,
    "pycharm": {
     "name": "#%%\n"
    }
   }
  },
  {
   "cell_type": "markdown",
   "source": [
    "### Execution\n",
    "\n",
    "Here we execute the generated code:"
   ],
   "metadata": {
    "collapsed": false,
    "pycharm": {
     "name": "#%% md\n"
    }
   }
  },
  {
   "cell_type": "code",
   "execution_count": 31,
   "outputs": [
    {
     "name": "stdout",
     "output_type": "stream",
     "text": [
      "passengerClass\n",
      "1st    323\n",
      "2nd    277\n",
      "3rd    709\n",
      "dtype: int64\n",
      "passengerSex\n",
      "female    466\n",
      "male      843\n",
      "dtype: int64\n"
     ]
    }
   ],
   "source": [
    "obj = dfTitanic.copy()\n",
    "obj = obj.groupby([\"passengerClass\"])\n",
    "print(obj.size())\n",
    "obj = pandas.concat([g for k, g in obj])\n",
    "obj = obj.groupby([\"passengerSex\"])\n",
    "print(obj.size())"
   ],
   "metadata": {
    "collapsed": false,
    "pycharm": {
     "name": "#%%\n"
    }
   }
  },
  {
   "cell_type": "markdown",
   "source": [
    "### Execution steps (Python)\n",
    "\n",
    "First grouping:"
   ],
   "metadata": {
    "collapsed": false,
    "pycharm": {
     "name": "#%% md\n"
    }
   },
   "outputs": []
  },
  {
   "cell_type": "code",
   "execution_count": 32,
   "outputs": [
    {
     "name": "stdout",
     "output_type": "stream",
     "text": [
      "passengerClass\n",
      "1st    323\n",
      "2nd    277\n",
      "3rd    709\n",
      "dtype: int64\n"
     ]
    }
   ],
   "source": [
    "obj = dfTitanic.copy()\n",
    "obj = obj.groupby([\"passengerClass\"])\n",
    "print(obj.size())"
   ],
   "metadata": {
    "collapsed": false,
    "pycharm": {
     "name": "#%%\n"
    }
   }
  },
  {
   "cell_type": "markdown",
   "source": [
    "Before doing the second grouping we flatten the groups of the first:"
   ],
   "metadata": {
    "collapsed": false,
    "pycharm": {
     "name": "#%% md\n"
    }
   },
   "outputs": []
  },
  {
   "cell_type": "code",
   "execution_count": 33,
   "outputs": [
    {
     "data": {
      "text/plain": "        id passengerClass  passengerAge passengerSex passengerSurvival\n0        1            1st            30       female          survived\n1        2            1st             0         male          survived\n2        3            1st             0       female              died\n3        4            1st            30         male              died\n4        5            1st            20       female              died\n...    ...            ...           ...          ...               ...\n1304  1305            3rd            10       female              died\n1305  1306            3rd            -1       female              died\n1306  1307            3rd            30         male              died\n1307  1308            3rd            30         male              died\n1308  1309            3rd            30         male              died\n\n[1309 rows x 5 columns]",
      "text/html": "<div>\n<style scoped>\n    .dataframe tbody tr th:only-of-type {\n        vertical-align: middle;\n    }\n\n    .dataframe tbody tr th {\n        vertical-align: top;\n    }\n\n    .dataframe thead th {\n        text-align: right;\n    }\n</style>\n<table border=\"1\" class=\"dataframe\">\n  <thead>\n    <tr style=\"text-align: right;\">\n      <th></th>\n      <th>id</th>\n      <th>passengerClass</th>\n      <th>passengerAge</th>\n      <th>passengerSex</th>\n      <th>passengerSurvival</th>\n    </tr>\n  </thead>\n  <tbody>\n    <tr>\n      <th>0</th>\n      <td>1</td>\n      <td>1st</td>\n      <td>30</td>\n      <td>female</td>\n      <td>survived</td>\n    </tr>\n    <tr>\n      <th>1</th>\n      <td>2</td>\n      <td>1st</td>\n      <td>0</td>\n      <td>male</td>\n      <td>survived</td>\n    </tr>\n    <tr>\n      <th>2</th>\n      <td>3</td>\n      <td>1st</td>\n      <td>0</td>\n      <td>female</td>\n      <td>died</td>\n    </tr>\n    <tr>\n      <th>3</th>\n      <td>4</td>\n      <td>1st</td>\n      <td>30</td>\n      <td>male</td>\n      <td>died</td>\n    </tr>\n    <tr>\n      <th>4</th>\n      <td>5</td>\n      <td>1st</td>\n      <td>20</td>\n      <td>female</td>\n      <td>died</td>\n    </tr>\n    <tr>\n      <th>...</th>\n      <td>...</td>\n      <td>...</td>\n      <td>...</td>\n      <td>...</td>\n      <td>...</td>\n    </tr>\n    <tr>\n      <th>1304</th>\n      <td>1305</td>\n      <td>3rd</td>\n      <td>10</td>\n      <td>female</td>\n      <td>died</td>\n    </tr>\n    <tr>\n      <th>1305</th>\n      <td>1306</td>\n      <td>3rd</td>\n      <td>-1</td>\n      <td>female</td>\n      <td>died</td>\n    </tr>\n    <tr>\n      <th>1306</th>\n      <td>1307</td>\n      <td>3rd</td>\n      <td>30</td>\n      <td>male</td>\n      <td>died</td>\n    </tr>\n    <tr>\n      <th>1307</th>\n      <td>1308</td>\n      <td>3rd</td>\n      <td>30</td>\n      <td>male</td>\n      <td>died</td>\n    </tr>\n    <tr>\n      <th>1308</th>\n      <td>1309</td>\n      <td>3rd</td>\n      <td>30</td>\n      <td>male</td>\n      <td>died</td>\n    </tr>\n  </tbody>\n</table>\n<p>1309 rows × 5 columns</p>\n</div>"
     },
     "execution_count": 33,
     "metadata": {},
     "output_type": "execute_result"
    }
   ],
   "source": [
    "obj = pandas.concat([grp for g, grp in obj])\n",
    "obj"
   ],
   "metadata": {
    "collapsed": false,
    "pycharm": {
     "name": "#%%\n"
    }
   }
  },
  {
   "cell_type": "markdown",
   "source": [
    "Here we do the second grouping and print-out the group sizes:"
   ],
   "metadata": {
    "collapsed": false,
    "pycharm": {
     "name": "#%% md\n"
    }
   }
  },
  {
   "cell_type": "code",
   "execution_count": 34,
   "outputs": [
    {
     "name": "stdout",
     "output_type": "stream",
     "text": [
      "passengerSex\n",
      "female    466\n",
      "male      843\n",
      "dtype: int64\n"
     ]
    }
   ],
   "source": [
    "obj = obj.groupby([\"passengerSex\"])\n",
    "print(obj.size())"
   ],
   "metadata": {
    "collapsed": false,
    "pycharm": {
     "name": "#%%\n"
    }
   }
  },
  {
   "cell_type": "markdown",
   "id": "2a9cbd16",
   "metadata": {
    "pycharm": {
     "name": "#%% md\n"
    }
   },
   "source": [
    "------\n",
    "\n",
    "## Non-trivial workflow\n",
    "\n",
    "In this section we generate and demonstrate data wrangling steps that clean, mutate, filter, group, and summarize a given dataset.\n",
    "\n",
    "### Code generation\n"
   ],
   "outputs": []
  },
  {
   "cell_type": "code",
   "execution_count": 35,
   "outputs": [],
   "source": [
    "command4 = \"\"\"\n",
    "use dfStarwars;\n",
    "replace missing with `0`;\n",
    "mutate with \"mass\" = `obj[\"mass\"]` and \"height\" = `obj[\"height\"]`;\n",
    "show dimensions;\n",
    "echo summary;\n",
    "filter by birth_year greater than 27;\n",
    "select homeworld, mass and height;\n",
    "group by homeworld;\n",
    "show counts;\n",
    "summarize the variables mass and height with mean and median\n",
    "\"\"\""
   ],
   "metadata": {
    "collapsed": false,
    "pycharm": {
     "name": "#%%\n"
    }
   }
  },
  {
   "cell_type": "code",
   "execution_count": 36,
   "outputs": [
    {
     "name": "stdout",
     "output_type": "stream",
     "text": [
      "obj = dfStarwars.copy()\r\n",
      "obj = obj.replace( numpy.nan,0)\r\n",
      "obj = obj.assign( mass = obj[\"mass\"], height = obj[\"height\"] )\r\n",
      "print(obj.shape[0])\r\n",
      "print(obj.describe())\r\n",
      "obj = obj[((obj[\"birth_year\"]> 27))]\r\n",
      "obj = obj[[\"homeworld\", \"mass\", \"height\"]]\r\n",
      "obj = obj.groupby([\"homeworld\"])\r\n",
      "print(obj.size())\r\n",
      "obj = obj.agg({\"mass\" : [\"mean\", \"median\"], \"height\" : [\"mean\", \"median\"]})\r\n"
     ]
    }
   ],
   "source": [
    "%to_pandas '{command4}'"
   ],
   "metadata": {
    "collapsed": false,
    "pycharm": {
     "name": "#%%\n"
    }
   }
  },
  {
   "cell_type": "markdown",
   "source": [
    "### Execution steps (Python)\n",
    "\n",
    "Here is code that cleans the data of missing values, and shows dimensions and summary (corresponds to the first five lines above):"
   ],
   "metadata": {
    "collapsed": false,
    "pycharm": {
     "name": "#%% md\n"
    }
   },
   "outputs": []
  },
  {
   "cell_type": "code",
   "execution_count": 37,
   "outputs": [
    {
     "name": "stdout",
     "output_type": "stream",
     "text": [
      "87\n",
      "           height         mass  birth_year\n",
      "count   87.000000    87.000000   87.000000\n",
      "mean   162.333333    65.993103   43.279310\n",
      "std     55.671726   146.483028  116.727963\n",
      "min      0.000000     0.000000    0.000000\n",
      "25%    164.000000     0.000000    0.000000\n",
      "50%    178.000000    56.200000    0.000000\n",
      "75%    190.500000    80.000000   50.000000\n",
      "max    264.000000  1358.000000  896.000000\n"
     ]
    }
   ],
   "source": [
    "obj = dfStarwars.copy()\n",
    "obj = obj.replace( numpy.nan,0)\n",
    "obj = obj.assign( mass = obj[\"mass\"], height = obj[\"height\"] )\n",
    "print(obj.shape[0])\n",
    "print(obj.describe())"
   ],
   "metadata": {
    "collapsed": false,
    "pycharm": {
     "name": "#%%\n"
    }
   }
  },
  {
   "cell_type": "markdown",
   "source": [
    "Here is a sample of the dataset (wrangled so far):"
   ],
   "metadata": {
    "collapsed": false,
    "pycharm": {
     "name": "#%% md\n"
    }
   },
   "outputs": []
  },
  {
   "cell_type": "code",
   "execution_count": 38,
   "outputs": [
    {
     "data": {
      "text/plain": "             name  height   mass hair_color   skin_color eye_color  \\\n0  Luke Skywalker   172.0   77.0      blond         fair      blue   \n1           C-3PO   167.0   75.0          0         gold    yellow   \n2           R2-D2    96.0   32.0          0  white, blue       red   \n3     Darth Vader   202.0  136.0       none        white    yellow   \n\n   birth_year   sex     gender homeworld species  \n0        19.0  male  masculine  Tatooine   Human  \n1       112.0  none  masculine  Tatooine   Droid  \n2        33.0  none  masculine     Naboo   Droid  \n3        41.9  male  masculine  Tatooine   Human  ",
      "text/html": "<div>\n<style scoped>\n    .dataframe tbody tr th:only-of-type {\n        vertical-align: middle;\n    }\n\n    .dataframe tbody tr th {\n        vertical-align: top;\n    }\n\n    .dataframe thead th {\n        text-align: right;\n    }\n</style>\n<table border=\"1\" class=\"dataframe\">\n  <thead>\n    <tr style=\"text-align: right;\">\n      <th></th>\n      <th>name</th>\n      <th>height</th>\n      <th>mass</th>\n      <th>hair_color</th>\n      <th>skin_color</th>\n      <th>eye_color</th>\n      <th>birth_year</th>\n      <th>sex</th>\n      <th>gender</th>\n      <th>homeworld</th>\n      <th>species</th>\n    </tr>\n  </thead>\n  <tbody>\n    <tr>\n      <th>0</th>\n      <td>Luke Skywalker</td>\n      <td>172.0</td>\n      <td>77.0</td>\n      <td>blond</td>\n      <td>fair</td>\n      <td>blue</td>\n      <td>19.0</td>\n      <td>male</td>\n      <td>masculine</td>\n      <td>Tatooine</td>\n      <td>Human</td>\n    </tr>\n    <tr>\n      <th>1</th>\n      <td>C-3PO</td>\n      <td>167.0</td>\n      <td>75.0</td>\n      <td>0</td>\n      <td>gold</td>\n      <td>yellow</td>\n      <td>112.0</td>\n      <td>none</td>\n      <td>masculine</td>\n      <td>Tatooine</td>\n      <td>Droid</td>\n    </tr>\n    <tr>\n      <th>2</th>\n      <td>R2-D2</td>\n      <td>96.0</td>\n      <td>32.0</td>\n      <td>0</td>\n      <td>white, blue</td>\n      <td>red</td>\n      <td>33.0</td>\n      <td>none</td>\n      <td>masculine</td>\n      <td>Naboo</td>\n      <td>Droid</td>\n    </tr>\n    <tr>\n      <th>3</th>\n      <td>Darth Vader</td>\n      <td>202.0</td>\n      <td>136.0</td>\n      <td>none</td>\n      <td>white</td>\n      <td>yellow</td>\n      <td>41.9</td>\n      <td>male</td>\n      <td>masculine</td>\n      <td>Tatooine</td>\n      <td>Human</td>\n    </tr>\n  </tbody>\n</table>\n</div>"
     },
     "execution_count": 38,
     "metadata": {},
     "output_type": "execute_result"
    }
   ],
   "source": [
    "obj.head(4)"
   ],
   "metadata": {
    "collapsed": false,
    "pycharm": {
     "name": "#%%\n"
    }
   }
  },
  {
   "cell_type": "markdown",
   "source": [
    "Here we select the columns \"homeworld\", \"mass\", and \"height\", group by \"homeworld\", and show counts for each group:"
   ],
   "metadata": {
    "collapsed": false,
    "pycharm": {
     "name": "#%% md\n"
    }
   },
   "outputs": []
  },
  {
   "cell_type": "code",
   "execution_count": 39,
   "outputs": [
    {
     "data": {
      "text/plain": "homeworld\n0               2\nAlderaan        1\nBespin          1\nCerea           1\nChandrila       1\nConcord Dawn    1\nCorellia        1\nCoruscant       1\nDathomir        1\nEriadu          1\nHaruun Kal      1\nKamino          1\nKashyyyk        1\nMirial          2\nMon Cala        1\nNaboo           5\nNal Hutta       1\nRodia           1\nRyloth          1\nSerenno         1\nSocorro         1\nStewjon         1\nTatooine        7\nTrandosha       1\ndtype: int64"
     },
     "execution_count": 39,
     "metadata": {},
     "output_type": "execute_result"
    }
   ],
   "source": [
    "obj = obj[((obj[\"birth_year\"]> 27))]\n",
    "obj = obj[[\"homeworld\", \"mass\", \"height\"]]\n",
    "obj = obj.groupby([\"homeworld\"])\n",
    "obj.size()"
   ],
   "metadata": {
    "collapsed": false,
    "pycharm": {
     "name": "#%%\n"
    }
   }
  },
  {
   "cell_type": "markdown",
   "source": [
    "Here is summarization at specified columns with specified functions:"
   ],
   "metadata": {
    "collapsed": false,
    "pycharm": {
     "name": "#%% md\n"
    }
   },
   "outputs": []
  },
  {
   "cell_type": "code",
   "execution_count": 40,
   "outputs": [
    {
     "data": {
      "text/plain": "                mass         height       \n                mean  median   mean median\nhomeworld                                 \n0               53.0    53.0  129.5  129.5\nAlderaan         0.0     0.0  191.0  191.0\nBespin          79.0    79.0  175.0  175.0\nCerea           82.0    82.0  198.0  198.0\nChandrila        0.0     0.0  150.0  150.0\nConcord Dawn    79.0    79.0  183.0  183.0\nCorellia        80.0    80.0  180.0  180.0\nCoruscant        0.0     0.0  170.0  170.0\nDathomir        80.0    80.0  175.0  175.0\nEriadu           0.0     0.0  180.0  180.0\nHaruun Kal      84.0    84.0  188.0  188.0\nKamino          78.2    78.2  183.0  183.0\nKashyyyk       112.0   112.0  228.0  228.0\nMirial          53.1    53.1  168.0  168.0\nMon Cala        83.0    83.0  180.0  180.0\nNaboo           43.6    45.0  162.0  170.0\nNal Hutta     1358.0  1358.0  175.0  175.0\nRodia           74.0    74.0  173.0  173.0\nRyloth          55.0    55.0  178.0  178.0\nSerenno         80.0    80.0  193.0  193.0\nSocorro         79.0    79.0  177.0  177.0\nStewjon         77.0    77.0  182.0  182.0\nTatooine        70.0    75.0  178.0  178.0\nTrandosha      113.0   113.0  190.0  190.0",
      "text/html": "<div>\n<style scoped>\n    .dataframe tbody tr th:only-of-type {\n        vertical-align: middle;\n    }\n\n    .dataframe tbody tr th {\n        vertical-align: top;\n    }\n\n    .dataframe thead tr th {\n        text-align: left;\n    }\n\n    .dataframe thead tr:last-of-type th {\n        text-align: right;\n    }\n</style>\n<table border=\"1\" class=\"dataframe\">\n  <thead>\n    <tr>\n      <th></th>\n      <th colspan=\"2\" halign=\"left\">mass</th>\n      <th colspan=\"2\" halign=\"left\">height</th>\n    </tr>\n    <tr>\n      <th></th>\n      <th>mean</th>\n      <th>median</th>\n      <th>mean</th>\n      <th>median</th>\n    </tr>\n    <tr>\n      <th>homeworld</th>\n      <th></th>\n      <th></th>\n      <th></th>\n      <th></th>\n    </tr>\n  </thead>\n  <tbody>\n    <tr>\n      <th>0</th>\n      <td>53.0</td>\n      <td>53.0</td>\n      <td>129.5</td>\n      <td>129.5</td>\n    </tr>\n    <tr>\n      <th>Alderaan</th>\n      <td>0.0</td>\n      <td>0.0</td>\n      <td>191.0</td>\n      <td>191.0</td>\n    </tr>\n    <tr>\n      <th>Bespin</th>\n      <td>79.0</td>\n      <td>79.0</td>\n      <td>175.0</td>\n      <td>175.0</td>\n    </tr>\n    <tr>\n      <th>Cerea</th>\n      <td>82.0</td>\n      <td>82.0</td>\n      <td>198.0</td>\n      <td>198.0</td>\n    </tr>\n    <tr>\n      <th>Chandrila</th>\n      <td>0.0</td>\n      <td>0.0</td>\n      <td>150.0</td>\n      <td>150.0</td>\n    </tr>\n    <tr>\n      <th>Concord Dawn</th>\n      <td>79.0</td>\n      <td>79.0</td>\n      <td>183.0</td>\n      <td>183.0</td>\n    </tr>\n    <tr>\n      <th>Corellia</th>\n      <td>80.0</td>\n      <td>80.0</td>\n      <td>180.0</td>\n      <td>180.0</td>\n    </tr>\n    <tr>\n      <th>Coruscant</th>\n      <td>0.0</td>\n      <td>0.0</td>\n      <td>170.0</td>\n      <td>170.0</td>\n    </tr>\n    <tr>\n      <th>Dathomir</th>\n      <td>80.0</td>\n      <td>80.0</td>\n      <td>175.0</td>\n      <td>175.0</td>\n    </tr>\n    <tr>\n      <th>Eriadu</th>\n      <td>0.0</td>\n      <td>0.0</td>\n      <td>180.0</td>\n      <td>180.0</td>\n    </tr>\n    <tr>\n      <th>Haruun Kal</th>\n      <td>84.0</td>\n      <td>84.0</td>\n      <td>188.0</td>\n      <td>188.0</td>\n    </tr>\n    <tr>\n      <th>Kamino</th>\n      <td>78.2</td>\n      <td>78.2</td>\n      <td>183.0</td>\n      <td>183.0</td>\n    </tr>\n    <tr>\n      <th>Kashyyyk</th>\n      <td>112.0</td>\n      <td>112.0</td>\n      <td>228.0</td>\n      <td>228.0</td>\n    </tr>\n    <tr>\n      <th>Mirial</th>\n      <td>53.1</td>\n      <td>53.1</td>\n      <td>168.0</td>\n      <td>168.0</td>\n    </tr>\n    <tr>\n      <th>Mon Cala</th>\n      <td>83.0</td>\n      <td>83.0</td>\n      <td>180.0</td>\n      <td>180.0</td>\n    </tr>\n    <tr>\n      <th>Naboo</th>\n      <td>43.6</td>\n      <td>45.0</td>\n      <td>162.0</td>\n      <td>170.0</td>\n    </tr>\n    <tr>\n      <th>Nal Hutta</th>\n      <td>1358.0</td>\n      <td>1358.0</td>\n      <td>175.0</td>\n      <td>175.0</td>\n    </tr>\n    <tr>\n      <th>Rodia</th>\n      <td>74.0</td>\n      <td>74.0</td>\n      <td>173.0</td>\n      <td>173.0</td>\n    </tr>\n    <tr>\n      <th>Ryloth</th>\n      <td>55.0</td>\n      <td>55.0</td>\n      <td>178.0</td>\n      <td>178.0</td>\n    </tr>\n    <tr>\n      <th>Serenno</th>\n      <td>80.0</td>\n      <td>80.0</td>\n      <td>193.0</td>\n      <td>193.0</td>\n    </tr>\n    <tr>\n      <th>Socorro</th>\n      <td>79.0</td>\n      <td>79.0</td>\n      <td>177.0</td>\n      <td>177.0</td>\n    </tr>\n    <tr>\n      <th>Stewjon</th>\n      <td>77.0</td>\n      <td>77.0</td>\n      <td>182.0</td>\n      <td>182.0</td>\n    </tr>\n    <tr>\n      <th>Tatooine</th>\n      <td>70.0</td>\n      <td>75.0</td>\n      <td>178.0</td>\n      <td>178.0</td>\n    </tr>\n    <tr>\n      <th>Trandosha</th>\n      <td>113.0</td>\n      <td>113.0</td>\n      <td>190.0</td>\n      <td>190.0</td>\n    </tr>\n  </tbody>\n</table>\n</div>"
     },
     "execution_count": 40,
     "metadata": {},
     "output_type": "execute_result"
    }
   ],
   "source": [
    "obj = obj.agg({\"mass\" : [\"mean\", \"median\"], \"height\" : [\"mean\", \"median\"]})\n",
    "obj"
   ],
   "metadata": {
    "collapsed": false,
    "pycharm": {
     "name": "#%%\n"
    }
   }
  },
  {
   "cell_type": "markdown",
   "source": [
    "\n",
    "------\n",
    "\n",
    "## Joins\n",
    "\n",
    "In this section we demonstrate the fundamental operation of joining two datasets.\n",
    "\n",
    "### Code generation\n"
   ],
   "metadata": {
    "collapsed": false,
    "pycharm": {
     "name": "#%% md\n"
    }
   },
   "outputs": []
  },
  {
   "cell_type": "code",
   "execution_count": 41,
   "outputs": [],
   "source": [
    "command5 = \"\"\"\n",
    "use dfStarwarsFilms;\n",
    "left join with dfStarwars by 'name';\n",
    "replace missing with `0`;\n",
    "sort by name, film desc;\n",
    "take pipeline value\n",
    "\"\"\""
   ],
   "metadata": {
    "collapsed": false,
    "pycharm": {
     "name": "#%%\n"
    }
   }
  },
  {
   "cell_type": "code",
   "execution_count": 42,
   "outputs": [
    {
     "name": "stdout",
     "output_type": "stream",
     "text": [
      "obj = dfStarwarsFilms.copy()\r\n",
      "obj = obj.merge( dfStarwars, on = [\"name\"], how = \"left\" )\r\n",
      "obj = obj.replace( numpy.nan,0)\r\n",
      "obj = obj.sort_values( [\"name\", \"film\"], ascending = False )\r\n",
      "obj\r\n"
     ]
    }
   ],
   "source": [
    "%to_pandas '{command5}'"
   ],
   "metadata": {
    "collapsed": false,
    "pycharm": {
     "name": "#%%\n"
    }
   }
  },
  {
   "cell_type": "markdown",
   "source": [
    "### Execution"
   ],
   "metadata": {
    "collapsed": false,
    "pycharm": {
     "name": "#%% md\n"
    }
   }
  },
  {
   "cell_type": "code",
   "execution_count": 43,
   "outputs": [
    {
     "data": {
      "text/plain": "                 name                     film  height  mass hair_color  \\\n146        Zam Wesell     Attack of the Clones   168.0  55.0     blonde   \n65               Yoda       The Phantom Menace    66.0  17.0      white   \n63               Yoda  The Empire Strikes Back    66.0  17.0      white   \n66               Yoda      Revenge of the Sith    66.0  17.0      white   \n67               Yoda       Return of the Jedi    66.0  17.0      white   \n..                ...                      ...     ...   ...        ...   \n41   Anakin Skywalker     Attack of the Clones   188.0  84.0      blond   \n122        Adi Gallia       The Phantom Menace   184.0  50.0       none   \n123        Adi Gallia      Revenge of the Sith   184.0  50.0       none   \n82             Ackbar        The Force Awakens   180.0  83.0       none   \n81             Ackbar       Return of the Jedi   180.0  83.0       none   \n\n              skin_color eye_color  birth_year     sex     gender  homeworld  \\\n146  fair, green, yellow    yellow         0.0  female   feminine      Zolan   \n65                 green     brown       896.0    male  masculine          0   \n63                 green     brown       896.0    male  masculine          0   \n66                 green     brown       896.0    male  masculine          0   \n67                 green     brown       896.0    male  masculine          0   \n..                   ...       ...         ...     ...        ...        ...   \n41                  fair      blue        41.9    male  masculine   Tatooine   \n122                 dark      blue         0.0  female   feminine  Coruscant   \n123                 dark      blue         0.0  female   feminine  Coruscant   \n82          brown mottle    orange        41.0    male  masculine   Mon Cala   \n81          brown mottle    orange        41.0    male  masculine   Mon Cala   \n\n            species  \n146        Clawdite  \n65   Yoda's species  \n63   Yoda's species  \n66   Yoda's species  \n67   Yoda's species  \n..              ...  \n41            Human  \n122      Tholothian  \n123      Tholothian  \n82     Mon Calamari  \n81     Mon Calamari  \n\n[173 rows x 12 columns]",
      "text/html": "<div>\n<style scoped>\n    .dataframe tbody tr th:only-of-type {\n        vertical-align: middle;\n    }\n\n    .dataframe tbody tr th {\n        vertical-align: top;\n    }\n\n    .dataframe thead th {\n        text-align: right;\n    }\n</style>\n<table border=\"1\" class=\"dataframe\">\n  <thead>\n    <tr style=\"text-align: right;\">\n      <th></th>\n      <th>name</th>\n      <th>film</th>\n      <th>height</th>\n      <th>mass</th>\n      <th>hair_color</th>\n      <th>skin_color</th>\n      <th>eye_color</th>\n      <th>birth_year</th>\n      <th>sex</th>\n      <th>gender</th>\n      <th>homeworld</th>\n      <th>species</th>\n    </tr>\n  </thead>\n  <tbody>\n    <tr>\n      <th>146</th>\n      <td>Zam Wesell</td>\n      <td>Attack of the Clones</td>\n      <td>168.0</td>\n      <td>55.0</td>\n      <td>blonde</td>\n      <td>fair, green, yellow</td>\n      <td>yellow</td>\n      <td>0.0</td>\n      <td>female</td>\n      <td>feminine</td>\n      <td>Zolan</td>\n      <td>Clawdite</td>\n    </tr>\n    <tr>\n      <th>65</th>\n      <td>Yoda</td>\n      <td>The Phantom Menace</td>\n      <td>66.0</td>\n      <td>17.0</td>\n      <td>white</td>\n      <td>green</td>\n      <td>brown</td>\n      <td>896.0</td>\n      <td>male</td>\n      <td>masculine</td>\n      <td>0</td>\n      <td>Yoda's species</td>\n    </tr>\n    <tr>\n      <th>63</th>\n      <td>Yoda</td>\n      <td>The Empire Strikes Back</td>\n      <td>66.0</td>\n      <td>17.0</td>\n      <td>white</td>\n      <td>green</td>\n      <td>brown</td>\n      <td>896.0</td>\n      <td>male</td>\n      <td>masculine</td>\n      <td>0</td>\n      <td>Yoda's species</td>\n    </tr>\n    <tr>\n      <th>66</th>\n      <td>Yoda</td>\n      <td>Revenge of the Sith</td>\n      <td>66.0</td>\n      <td>17.0</td>\n      <td>white</td>\n      <td>green</td>\n      <td>brown</td>\n      <td>896.0</td>\n      <td>male</td>\n      <td>masculine</td>\n      <td>0</td>\n      <td>Yoda's species</td>\n    </tr>\n    <tr>\n      <th>67</th>\n      <td>Yoda</td>\n      <td>Return of the Jedi</td>\n      <td>66.0</td>\n      <td>17.0</td>\n      <td>white</td>\n      <td>green</td>\n      <td>brown</td>\n      <td>896.0</td>\n      <td>male</td>\n      <td>masculine</td>\n      <td>0</td>\n      <td>Yoda's species</td>\n    </tr>\n    <tr>\n      <th>...</th>\n      <td>...</td>\n      <td>...</td>\n      <td>...</td>\n      <td>...</td>\n      <td>...</td>\n      <td>...</td>\n      <td>...</td>\n      <td>...</td>\n      <td>...</td>\n      <td>...</td>\n      <td>...</td>\n      <td>...</td>\n    </tr>\n    <tr>\n      <th>41</th>\n      <td>Anakin Skywalker</td>\n      <td>Attack of the Clones</td>\n      <td>188.0</td>\n      <td>84.0</td>\n      <td>blond</td>\n      <td>fair</td>\n      <td>blue</td>\n      <td>41.9</td>\n      <td>male</td>\n      <td>masculine</td>\n      <td>Tatooine</td>\n      <td>Human</td>\n    </tr>\n    <tr>\n      <th>122</th>\n      <td>Adi Gallia</td>\n      <td>The Phantom Menace</td>\n      <td>184.0</td>\n      <td>50.0</td>\n      <td>none</td>\n      <td>dark</td>\n      <td>blue</td>\n      <td>0.0</td>\n      <td>female</td>\n      <td>feminine</td>\n      <td>Coruscant</td>\n      <td>Tholothian</td>\n    </tr>\n    <tr>\n      <th>123</th>\n      <td>Adi Gallia</td>\n      <td>Revenge of the Sith</td>\n      <td>184.0</td>\n      <td>50.0</td>\n      <td>none</td>\n      <td>dark</td>\n      <td>blue</td>\n      <td>0.0</td>\n      <td>female</td>\n      <td>feminine</td>\n      <td>Coruscant</td>\n      <td>Tholothian</td>\n    </tr>\n    <tr>\n      <th>82</th>\n      <td>Ackbar</td>\n      <td>The Force Awakens</td>\n      <td>180.0</td>\n      <td>83.0</td>\n      <td>none</td>\n      <td>brown mottle</td>\n      <td>orange</td>\n      <td>41.0</td>\n      <td>male</td>\n      <td>masculine</td>\n      <td>Mon Cala</td>\n      <td>Mon Calamari</td>\n    </tr>\n    <tr>\n      <th>81</th>\n      <td>Ackbar</td>\n      <td>Return of the Jedi</td>\n      <td>180.0</td>\n      <td>83.0</td>\n      <td>none</td>\n      <td>brown mottle</td>\n      <td>orange</td>\n      <td>41.0</td>\n      <td>male</td>\n      <td>masculine</td>\n      <td>Mon Cala</td>\n      <td>Mon Calamari</td>\n    </tr>\n  </tbody>\n</table>\n<p>173 rows × 12 columns</p>\n</div>"
     },
     "execution_count": 43,
     "metadata": {},
     "output_type": "execute_result"
    }
   ],
   "source": [
    "obj = dfStarwarsFilms.copy()\n",
    "obj = obj.merge( dfStarwars, on = [\"name\"], how = \"left\" )\n",
    "obj = obj.replace( numpy.nan,0)\n",
    "obj = obj.sort_values( [\"name\", \"film\"], ascending = False )\n",
    "obj"
   ],
   "metadata": {
    "collapsed": false,
    "pycharm": {
     "name": "#%%\n"
    }
   }
  },
  {
   "cell_type": "markdown",
   "source": [
    "------\n",
    "\n",
    "## Complicated and neat workflow\n",
    "\n",
    "In this section we demonstrate a fairly complicated data wrangling sequence of operations that transforms [Anscombe's quartet](https://en.wikipedia.org/wiki/Anscombe's_quartet) into a form that is easier to plot.\n",
    "\n",
    "**Remark:** Anscombe's quartet has four sets of points that have nearly the same x- and y- mean values. (But the sets have very different shapes.)\n",
    "\n",
    "### Code generation"
   ],
   "metadata": {
    "collapsed": false,
    "pycharm": {
     "name": "#%% md\n"
    }
   },
   "outputs": []
  },
  {
   "cell_type": "code",
   "execution_count": 44,
   "outputs": [],
   "source": [
    "command6 = \"\"\"\n",
    "use dfAnscombe;\n",
    "convert to long form;\n",
    "separate the data column \"Variable\" into \"Variable\" and \"Set\" with separator pattern \"\";\n",
    "to wide form for id columns Set and \"Unnamed: 0\" variable column Variable and value column Value\n",
    "\"\"\""
   ],
   "metadata": {
    "collapsed": false,
    "pycharm": {
     "name": "#%%\n"
    }
   }
  },
  {
   "cell_type": "code",
   "execution_count": 45,
   "outputs": [
    {
     "name": "stdout",
     "output_type": "stream",
     "text": [
      "obj = dfAnscombe.copy()\r\n",
      "obj = pandas.melt( obj, id_vars = obj.columns[0], var_name = \"Variable\", value_name = \"Value\" )\r\n",
      "obj[[\"Variable\", \"Set\"]] = obj[\"Variable\"].str.extract(pat = r\"(.)(.)\", expand = True)\r\n",
      "obj = obj.pivot(index = ( \"Set\", \"Unnamed: 0\" ), columns = \"Variable\", values = \"Value\")\r\n"
     ]
    }
   ],
   "source": [
    "%to_pandas '{command6}'"
   ],
   "metadata": {
    "collapsed": false,
    "pycharm": {
     "name": "#%%\n"
    }
   }
  },
  {
   "cell_type": "markdown",
   "source": [
    "### Execution"
   ],
   "metadata": {
    "collapsed": false,
    "pycharm": {
     "name": "#%% md\n"
    }
   }
  },
  {
   "cell_type": "code",
   "execution_count": 46,
   "outputs": [
    {
     "data": {
      "text/plain": "Variable           x      y\nSet Unnamed: 0             \n1   1           10.0   8.04\n    2            8.0   6.95\n    3           13.0   7.58\n    4            9.0   8.81\n    5           11.0   8.33\n    6           14.0   9.96\n    7            6.0   7.24\n    8            4.0   4.26\n    9           12.0  10.84\n    10           7.0   4.82\n    11           5.0   5.68\n2   1           10.0   9.14\n    2            8.0   8.14\n    3           13.0   8.74\n    4            9.0   8.77\n    5           11.0   9.26\n    6           14.0   8.10\n    7            6.0   6.13\n    8            4.0   3.10\n    9           12.0   9.13\n    10           7.0   7.26\n    11           5.0   4.74\n3   1           10.0   7.46\n    2            8.0   6.77\n    3           13.0  12.74\n    4            9.0   7.11\n    5           11.0   7.81\n    6           14.0   8.84\n    7            6.0   6.08\n    8            4.0   5.39\n    9           12.0   8.15\n    10           7.0   6.42\n    11           5.0   5.73\n4   1            8.0   6.58\n    2            8.0   5.76\n    3            8.0   7.71\n    4            8.0   8.84\n    5            8.0   8.47\n    6            8.0   7.04\n    7            8.0   5.25\n    8           19.0  12.50\n    9            8.0   5.56\n    10           8.0   7.91\n    11           8.0   6.89",
      "text/html": "<div>\n<style scoped>\n    .dataframe tbody tr th:only-of-type {\n        vertical-align: middle;\n    }\n\n    .dataframe tbody tr th {\n        vertical-align: top;\n    }\n\n    .dataframe thead th {\n        text-align: right;\n    }\n</style>\n<table border=\"1\" class=\"dataframe\">\n  <thead>\n    <tr style=\"text-align: right;\">\n      <th></th>\n      <th>Variable</th>\n      <th>x</th>\n      <th>y</th>\n    </tr>\n    <tr>\n      <th>Set</th>\n      <th>Unnamed: 0</th>\n      <th></th>\n      <th></th>\n    </tr>\n  </thead>\n  <tbody>\n    <tr>\n      <th rowspan=\"11\" valign=\"top\">1</th>\n      <th>1</th>\n      <td>10.0</td>\n      <td>8.04</td>\n    </tr>\n    <tr>\n      <th>2</th>\n      <td>8.0</td>\n      <td>6.95</td>\n    </tr>\n    <tr>\n      <th>3</th>\n      <td>13.0</td>\n      <td>7.58</td>\n    </tr>\n    <tr>\n      <th>4</th>\n      <td>9.0</td>\n      <td>8.81</td>\n    </tr>\n    <tr>\n      <th>5</th>\n      <td>11.0</td>\n      <td>8.33</td>\n    </tr>\n    <tr>\n      <th>6</th>\n      <td>14.0</td>\n      <td>9.96</td>\n    </tr>\n    <tr>\n      <th>7</th>\n      <td>6.0</td>\n      <td>7.24</td>\n    </tr>\n    <tr>\n      <th>8</th>\n      <td>4.0</td>\n      <td>4.26</td>\n    </tr>\n    <tr>\n      <th>9</th>\n      <td>12.0</td>\n      <td>10.84</td>\n    </tr>\n    <tr>\n      <th>10</th>\n      <td>7.0</td>\n      <td>4.82</td>\n    </tr>\n    <tr>\n      <th>11</th>\n      <td>5.0</td>\n      <td>5.68</td>\n    </tr>\n    <tr>\n      <th rowspan=\"11\" valign=\"top\">2</th>\n      <th>1</th>\n      <td>10.0</td>\n      <td>9.14</td>\n    </tr>\n    <tr>\n      <th>2</th>\n      <td>8.0</td>\n      <td>8.14</td>\n    </tr>\n    <tr>\n      <th>3</th>\n      <td>13.0</td>\n      <td>8.74</td>\n    </tr>\n    <tr>\n      <th>4</th>\n      <td>9.0</td>\n      <td>8.77</td>\n    </tr>\n    <tr>\n      <th>5</th>\n      <td>11.0</td>\n      <td>9.26</td>\n    </tr>\n    <tr>\n      <th>6</th>\n      <td>14.0</td>\n      <td>8.10</td>\n    </tr>\n    <tr>\n      <th>7</th>\n      <td>6.0</td>\n      <td>6.13</td>\n    </tr>\n    <tr>\n      <th>8</th>\n      <td>4.0</td>\n      <td>3.10</td>\n    </tr>\n    <tr>\n      <th>9</th>\n      <td>12.0</td>\n      <td>9.13</td>\n    </tr>\n    <tr>\n      <th>10</th>\n      <td>7.0</td>\n      <td>7.26</td>\n    </tr>\n    <tr>\n      <th>11</th>\n      <td>5.0</td>\n      <td>4.74</td>\n    </tr>\n    <tr>\n      <th rowspan=\"11\" valign=\"top\">3</th>\n      <th>1</th>\n      <td>10.0</td>\n      <td>7.46</td>\n    </tr>\n    <tr>\n      <th>2</th>\n      <td>8.0</td>\n      <td>6.77</td>\n    </tr>\n    <tr>\n      <th>3</th>\n      <td>13.0</td>\n      <td>12.74</td>\n    </tr>\n    <tr>\n      <th>4</th>\n      <td>9.0</td>\n      <td>7.11</td>\n    </tr>\n    <tr>\n      <th>5</th>\n      <td>11.0</td>\n      <td>7.81</td>\n    </tr>\n    <tr>\n      <th>6</th>\n      <td>14.0</td>\n      <td>8.84</td>\n    </tr>\n    <tr>\n      <th>7</th>\n      <td>6.0</td>\n      <td>6.08</td>\n    </tr>\n    <tr>\n      <th>8</th>\n      <td>4.0</td>\n      <td>5.39</td>\n    </tr>\n    <tr>\n      <th>9</th>\n      <td>12.0</td>\n      <td>8.15</td>\n    </tr>\n    <tr>\n      <th>10</th>\n      <td>7.0</td>\n      <td>6.42</td>\n    </tr>\n    <tr>\n      <th>11</th>\n      <td>5.0</td>\n      <td>5.73</td>\n    </tr>\n    <tr>\n      <th rowspan=\"11\" valign=\"top\">4</th>\n      <th>1</th>\n      <td>8.0</td>\n      <td>6.58</td>\n    </tr>\n    <tr>\n      <th>2</th>\n      <td>8.0</td>\n      <td>5.76</td>\n    </tr>\n    <tr>\n      <th>3</th>\n      <td>8.0</td>\n      <td>7.71</td>\n    </tr>\n    <tr>\n      <th>4</th>\n      <td>8.0</td>\n      <td>8.84</td>\n    </tr>\n    <tr>\n      <th>5</th>\n      <td>8.0</td>\n      <td>8.47</td>\n    </tr>\n    <tr>\n      <th>6</th>\n      <td>8.0</td>\n      <td>7.04</td>\n    </tr>\n    <tr>\n      <th>7</th>\n      <td>8.0</td>\n      <td>5.25</td>\n    </tr>\n    <tr>\n      <th>8</th>\n      <td>19.0</td>\n      <td>12.50</td>\n    </tr>\n    <tr>\n      <th>9</th>\n      <td>8.0</td>\n      <td>5.56</td>\n    </tr>\n    <tr>\n      <th>10</th>\n      <td>8.0</td>\n      <td>7.91</td>\n    </tr>\n    <tr>\n      <th>11</th>\n      <td>8.0</td>\n      <td>6.89</td>\n    </tr>\n  </tbody>\n</table>\n</div>"
     },
     "execution_count": 46,
     "metadata": {},
     "output_type": "execute_result"
    }
   ],
   "source": [
    "obj = dfAnscombe.copy()\n",
    "obj = pandas.melt( obj, id_vars = obj.columns[0], var_name = \"Variable\", value_name = \"Value\" )\n",
    "obj[[\"Variable\", \"Set\"]] = obj[\"Variable\"].str.extract(pat = r\"(.)(.)\", expand = True)\n",
    "obj = obj.pivot(index = ( \"Set\", \"Unnamed: 0\" ), columns = \"Variable\", values = \"Value\")\n",
    "obj"
   ],
   "metadata": {
    "collapsed": false,
    "pycharm": {
     "name": "#%%\n"
    }
   }
  },
  {
   "cell_type": "markdown",
   "source": [
    "### Execution steps (Python)\n",
    "\n",
    "Get a copy of the dataset into a \"pipeline object\":\n"
   ],
   "metadata": {
    "collapsed": false,
    "pycharm": {
     "name": "#%% md\n"
    }
   }
  },
  {
   "cell_type": "code",
   "execution_count": 58,
   "outputs": [
    {
     "data": {
      "text/plain": "    Unnamed: 0  x1  x2  x3  x4     y1    y2     y3     y4\n0            1  10  10  10   8   8.04  9.14   7.46   6.58\n1            2   8   8   8   8   6.95  8.14   6.77   5.76\n2            3  13  13  13   8   7.58  8.74  12.74   7.71\n3            4   9   9   9   8   8.81  8.77   7.11   8.84\n4            5  11  11  11   8   8.33  9.26   7.81   8.47\n5            6  14  14  14   8   9.96  8.10   8.84   7.04\n6            7   6   6   6   8   7.24  6.13   6.08   5.25\n7            8   4   4   4  19   4.26  3.10   5.39  12.50\n8            9  12  12  12   8  10.84  9.13   8.15   5.56\n9           10   7   7   7   8   4.82  7.26   6.42   7.91\n10          11   5   5   5   8   5.68  4.74   5.73   6.89",
      "text/html": "<div>\n<style scoped>\n    .dataframe tbody tr th:only-of-type {\n        vertical-align: middle;\n    }\n\n    .dataframe tbody tr th {\n        vertical-align: top;\n    }\n\n    .dataframe thead th {\n        text-align: right;\n    }\n</style>\n<table border=\"1\" class=\"dataframe\">\n  <thead>\n    <tr style=\"text-align: right;\">\n      <th></th>\n      <th>Unnamed: 0</th>\n      <th>x1</th>\n      <th>x2</th>\n      <th>x3</th>\n      <th>x4</th>\n      <th>y1</th>\n      <th>y2</th>\n      <th>y3</th>\n      <th>y4</th>\n    </tr>\n  </thead>\n  <tbody>\n    <tr>\n      <th>0</th>\n      <td>1</td>\n      <td>10</td>\n      <td>10</td>\n      <td>10</td>\n      <td>8</td>\n      <td>8.04</td>\n      <td>9.14</td>\n      <td>7.46</td>\n      <td>6.58</td>\n    </tr>\n    <tr>\n      <th>1</th>\n      <td>2</td>\n      <td>8</td>\n      <td>8</td>\n      <td>8</td>\n      <td>8</td>\n      <td>6.95</td>\n      <td>8.14</td>\n      <td>6.77</td>\n      <td>5.76</td>\n    </tr>\n    <tr>\n      <th>2</th>\n      <td>3</td>\n      <td>13</td>\n      <td>13</td>\n      <td>13</td>\n      <td>8</td>\n      <td>7.58</td>\n      <td>8.74</td>\n      <td>12.74</td>\n      <td>7.71</td>\n    </tr>\n    <tr>\n      <th>3</th>\n      <td>4</td>\n      <td>9</td>\n      <td>9</td>\n      <td>9</td>\n      <td>8</td>\n      <td>8.81</td>\n      <td>8.77</td>\n      <td>7.11</td>\n      <td>8.84</td>\n    </tr>\n    <tr>\n      <th>4</th>\n      <td>5</td>\n      <td>11</td>\n      <td>11</td>\n      <td>11</td>\n      <td>8</td>\n      <td>8.33</td>\n      <td>9.26</td>\n      <td>7.81</td>\n      <td>8.47</td>\n    </tr>\n    <tr>\n      <th>5</th>\n      <td>6</td>\n      <td>14</td>\n      <td>14</td>\n      <td>14</td>\n      <td>8</td>\n      <td>9.96</td>\n      <td>8.10</td>\n      <td>8.84</td>\n      <td>7.04</td>\n    </tr>\n    <tr>\n      <th>6</th>\n      <td>7</td>\n      <td>6</td>\n      <td>6</td>\n      <td>6</td>\n      <td>8</td>\n      <td>7.24</td>\n      <td>6.13</td>\n      <td>6.08</td>\n      <td>5.25</td>\n    </tr>\n    <tr>\n      <th>7</th>\n      <td>8</td>\n      <td>4</td>\n      <td>4</td>\n      <td>4</td>\n      <td>19</td>\n      <td>4.26</td>\n      <td>3.10</td>\n      <td>5.39</td>\n      <td>12.50</td>\n    </tr>\n    <tr>\n      <th>8</th>\n      <td>9</td>\n      <td>12</td>\n      <td>12</td>\n      <td>12</td>\n      <td>8</td>\n      <td>10.84</td>\n      <td>9.13</td>\n      <td>8.15</td>\n      <td>5.56</td>\n    </tr>\n    <tr>\n      <th>9</th>\n      <td>10</td>\n      <td>7</td>\n      <td>7</td>\n      <td>7</td>\n      <td>8</td>\n      <td>4.82</td>\n      <td>7.26</td>\n      <td>6.42</td>\n      <td>7.91</td>\n    </tr>\n    <tr>\n      <th>10</th>\n      <td>11</td>\n      <td>5</td>\n      <td>5</td>\n      <td>5</td>\n      <td>8</td>\n      <td>5.68</td>\n      <td>4.74</td>\n      <td>5.73</td>\n      <td>6.89</td>\n    </tr>\n  </tbody>\n</table>\n</div>"
     },
     "execution_count": 58,
     "metadata": {},
     "output_type": "execute_result"
    }
   ],
   "source": [
    "obj = dfAnscombe;\n",
    "obj"
   ],
   "metadata": {
    "collapsed": false,
    "pycharm": {
     "name": "#%%\n"
    }
   }
  },
  {
   "cell_type": "markdown",
   "source": [
    "\n",
    "Summarize Anscombe's quartet (using \"Data::Summarizers\", [AAp3]):"
   ],
   "metadata": {
    "collapsed": false,
    "pycharm": {
     "name": "#%% md\n"
    }
   },
   "outputs": []
  },
  {
   "cell_type": "code",
   "execution_count": 55,
   "outputs": [
    {
     "data": {
      "text/plain": "       Unnamed: 0         x1         x2         x3         x4         y1  \\\ncount   11.000000  11.000000  11.000000  11.000000  11.000000  11.000000   \nmean     6.000000   9.000000   9.000000   9.000000   9.000000   7.500909   \nstd      3.316625   3.316625   3.316625   3.316625   3.316625   2.031568   \nmin      1.000000   4.000000   4.000000   4.000000   8.000000   4.260000   \n25%      3.500000   6.500000   6.500000   6.500000   8.000000   6.315000   \n50%      6.000000   9.000000   9.000000   9.000000   8.000000   7.580000   \n75%      8.500000  11.500000  11.500000  11.500000   8.000000   8.570000   \nmax     11.000000  14.000000  14.000000  14.000000  19.000000  10.840000   \n\n              y2         y3         y4  \ncount  11.000000  11.000000  11.000000  \nmean    7.500909   7.500000   7.500909  \nstd     2.031657   2.030424   2.030579  \nmin     3.100000   5.390000   5.250000  \n25%     6.695000   6.250000   6.170000  \n50%     8.140000   7.110000   7.040000  \n75%     8.950000   7.980000   8.190000  \nmax     9.260000  12.740000  12.500000  ",
      "text/html": "<div>\n<style scoped>\n    .dataframe tbody tr th:only-of-type {\n        vertical-align: middle;\n    }\n\n    .dataframe tbody tr th {\n        vertical-align: top;\n    }\n\n    .dataframe thead th {\n        text-align: right;\n    }\n</style>\n<table border=\"1\" class=\"dataframe\">\n  <thead>\n    <tr style=\"text-align: right;\">\n      <th></th>\n      <th>Unnamed: 0</th>\n      <th>x1</th>\n      <th>x2</th>\n      <th>x3</th>\n      <th>x4</th>\n      <th>y1</th>\n      <th>y2</th>\n      <th>y3</th>\n      <th>y4</th>\n    </tr>\n  </thead>\n  <tbody>\n    <tr>\n      <th>count</th>\n      <td>11.000000</td>\n      <td>11.000000</td>\n      <td>11.000000</td>\n      <td>11.000000</td>\n      <td>11.000000</td>\n      <td>11.000000</td>\n      <td>11.000000</td>\n      <td>11.000000</td>\n      <td>11.000000</td>\n    </tr>\n    <tr>\n      <th>mean</th>\n      <td>6.000000</td>\n      <td>9.000000</td>\n      <td>9.000000</td>\n      <td>9.000000</td>\n      <td>9.000000</td>\n      <td>7.500909</td>\n      <td>7.500909</td>\n      <td>7.500000</td>\n      <td>7.500909</td>\n    </tr>\n    <tr>\n      <th>std</th>\n      <td>3.316625</td>\n      <td>3.316625</td>\n      <td>3.316625</td>\n      <td>3.316625</td>\n      <td>3.316625</td>\n      <td>2.031568</td>\n      <td>2.031657</td>\n      <td>2.030424</td>\n      <td>2.030579</td>\n    </tr>\n    <tr>\n      <th>min</th>\n      <td>1.000000</td>\n      <td>4.000000</td>\n      <td>4.000000</td>\n      <td>4.000000</td>\n      <td>8.000000</td>\n      <td>4.260000</td>\n      <td>3.100000</td>\n      <td>5.390000</td>\n      <td>5.250000</td>\n    </tr>\n    <tr>\n      <th>25%</th>\n      <td>3.500000</td>\n      <td>6.500000</td>\n      <td>6.500000</td>\n      <td>6.500000</td>\n      <td>8.000000</td>\n      <td>6.315000</td>\n      <td>6.695000</td>\n      <td>6.250000</td>\n      <td>6.170000</td>\n    </tr>\n    <tr>\n      <th>50%</th>\n      <td>6.000000</td>\n      <td>9.000000</td>\n      <td>9.000000</td>\n      <td>9.000000</td>\n      <td>8.000000</td>\n      <td>7.580000</td>\n      <td>8.140000</td>\n      <td>7.110000</td>\n      <td>7.040000</td>\n    </tr>\n    <tr>\n      <th>75%</th>\n      <td>8.500000</td>\n      <td>11.500000</td>\n      <td>11.500000</td>\n      <td>11.500000</td>\n      <td>8.000000</td>\n      <td>8.570000</td>\n      <td>8.950000</td>\n      <td>7.980000</td>\n      <td>8.190000</td>\n    </tr>\n    <tr>\n      <th>max</th>\n      <td>11.000000</td>\n      <td>14.000000</td>\n      <td>14.000000</td>\n      <td>14.000000</td>\n      <td>19.000000</td>\n      <td>10.840000</td>\n      <td>9.260000</td>\n      <td>12.740000</td>\n      <td>12.500000</td>\n    </tr>\n  </tbody>\n</table>\n</div>"
     },
     "execution_count": 55,
     "metadata": {},
     "output_type": "execute_result"
    }
   ],
   "source": [
    "obj.describe()"
   ],
   "metadata": {
    "collapsed": false,
    "pycharm": {
     "name": "#%%\n"
    }
   }
  },
  {
   "cell_type": "markdown",
   "source": [
    "**Remark:** From the table above it is not clear how exactly we have to access the data in order to plot each of Anscombe's sets. The data wrangling steps below show a way to separate the sets and make them amenable for set-wise manipulations.\n",
    "\n",
    "Very often values of certain data parameters are conflated and put into dataset's column names. (As in Anscombe's dataset.)\n",
    "\n",
    "In those situations we:\n",
    "\n",
    "- Convert the dataset into long format, since that allows column names to be treated as data\n",
    "\n",
    "- Separate the values of a certain column into to two or more columns\n",
    "\n",
    "Reshape the \"pipeline object\" into [long format](https://en.wikipedia.org/wiki/Wide_and_narrow_data):"
   ],
   "metadata": {
    "collapsed": false,
    "pycharm": {
     "name": "#%% md\n"
    }
   },
   "outputs": []
  },
  {
   "cell_type": "code",
   "execution_count": 59,
   "outputs": [
    {
     "data": {
      "text/plain": "    Unnamed: 0 Variable  Value\n0            1       x1  10.00\n1            2       x1   8.00\n2            3       x1  13.00\n3            4       x1   9.00\n4            5       x1  11.00\n..         ...      ...    ...\n83           7       y4   5.25\n84           8       y4  12.50\n85           9       y4   5.56\n86          10       y4   7.91\n87          11       y4   6.89\n\n[88 rows x 3 columns]",
      "text/html": "<div>\n<style scoped>\n    .dataframe tbody tr th:only-of-type {\n        vertical-align: middle;\n    }\n\n    .dataframe tbody tr th {\n        vertical-align: top;\n    }\n\n    .dataframe thead th {\n        text-align: right;\n    }\n</style>\n<table border=\"1\" class=\"dataframe\">\n  <thead>\n    <tr style=\"text-align: right;\">\n      <th></th>\n      <th>Unnamed: 0</th>\n      <th>Variable</th>\n      <th>Value</th>\n    </tr>\n  </thead>\n  <tbody>\n    <tr>\n      <th>0</th>\n      <td>1</td>\n      <td>x1</td>\n      <td>10.00</td>\n    </tr>\n    <tr>\n      <th>1</th>\n      <td>2</td>\n      <td>x1</td>\n      <td>8.00</td>\n    </tr>\n    <tr>\n      <th>2</th>\n      <td>3</td>\n      <td>x1</td>\n      <td>13.00</td>\n    </tr>\n    <tr>\n      <th>3</th>\n      <td>4</td>\n      <td>x1</td>\n      <td>9.00</td>\n    </tr>\n    <tr>\n      <th>4</th>\n      <td>5</td>\n      <td>x1</td>\n      <td>11.00</td>\n    </tr>\n    <tr>\n      <th>...</th>\n      <td>...</td>\n      <td>...</td>\n      <td>...</td>\n    </tr>\n    <tr>\n      <th>83</th>\n      <td>7</td>\n      <td>y4</td>\n      <td>5.25</td>\n    </tr>\n    <tr>\n      <th>84</th>\n      <td>8</td>\n      <td>y4</td>\n      <td>12.50</td>\n    </tr>\n    <tr>\n      <th>85</th>\n      <td>9</td>\n      <td>y4</td>\n      <td>5.56</td>\n    </tr>\n    <tr>\n      <th>86</th>\n      <td>10</td>\n      <td>y4</td>\n      <td>7.91</td>\n    </tr>\n    <tr>\n      <th>87</th>\n      <td>11</td>\n      <td>y4</td>\n      <td>6.89</td>\n    </tr>\n  </tbody>\n</table>\n<p>88 rows × 3 columns</p>\n</div>"
     },
     "execution_count": 59,
     "metadata": {},
     "output_type": "execute_result"
    }
   ],
   "source": [
    "obj = pandas.melt( obj, id_vars = obj.columns[0], var_name = \"Variable\", value_name = \"Value\" )\n",
    "obj"
   ],
   "metadata": {
    "collapsed": false,
    "pycharm": {
     "name": "#%%\n"
    }
   }
  },
  {
   "cell_type": "markdown",
   "source": [
    "Separate the data column \"Variable\" into the columns \"Variable\" and \"Set\":"
   ],
   "metadata": {
    "collapsed": false,
    "pycharm": {
     "name": "#%% md\n"
    }
   },
   "outputs": []
  },
  {
   "cell_type": "code",
   "execution_count": 60,
   "outputs": [
    {
     "data": {
      "text/plain": "   Unnamed: 0 Variable  Value Set\n0           1        x   10.0   1\n1           2        x    8.0   1\n2           3        x   13.0   1\n3           4        x    9.0   1\n4           5        x   11.0   1\n5           6        x   14.0   1\n6           7        x    6.0   1",
      "text/html": "<div>\n<style scoped>\n    .dataframe tbody tr th:only-of-type {\n        vertical-align: middle;\n    }\n\n    .dataframe tbody tr th {\n        vertical-align: top;\n    }\n\n    .dataframe thead th {\n        text-align: right;\n    }\n</style>\n<table border=\"1\" class=\"dataframe\">\n  <thead>\n    <tr style=\"text-align: right;\">\n      <th></th>\n      <th>Unnamed: 0</th>\n      <th>Variable</th>\n      <th>Value</th>\n      <th>Set</th>\n    </tr>\n  </thead>\n  <tbody>\n    <tr>\n      <th>0</th>\n      <td>1</td>\n      <td>x</td>\n      <td>10.0</td>\n      <td>1</td>\n    </tr>\n    <tr>\n      <th>1</th>\n      <td>2</td>\n      <td>x</td>\n      <td>8.0</td>\n      <td>1</td>\n    </tr>\n    <tr>\n      <th>2</th>\n      <td>3</td>\n      <td>x</td>\n      <td>13.0</td>\n      <td>1</td>\n    </tr>\n    <tr>\n      <th>3</th>\n      <td>4</td>\n      <td>x</td>\n      <td>9.0</td>\n      <td>1</td>\n    </tr>\n    <tr>\n      <th>4</th>\n      <td>5</td>\n      <td>x</td>\n      <td>11.0</td>\n      <td>1</td>\n    </tr>\n    <tr>\n      <th>5</th>\n      <td>6</td>\n      <td>x</td>\n      <td>14.0</td>\n      <td>1</td>\n    </tr>\n    <tr>\n      <th>6</th>\n      <td>7</td>\n      <td>x</td>\n      <td>6.0</td>\n      <td>1</td>\n    </tr>\n  </tbody>\n</table>\n</div>"
     },
     "execution_count": 60,
     "metadata": {},
     "output_type": "execute_result"
    }
   ],
   "source": [
    "obj[[\"Variable\", \"Set\"]] = obj[\"Variable\"].str.extract(pat = r\"(.)(.)\", expand = True)\n",
    "obj.head(7)"
   ],
   "metadata": {
    "collapsed": false,
    "pycharm": {
     "name": "#%%\n"
    }
   }
  },
  {
   "cell_type": "markdown",
   "source": [
    "Reshape the \"pipeline object\" into [wide format](https://en.wikipedia.org/wiki/Wide_and_narrow_data) using appropriate identifier-, variable-, and value column names:"
   ],
   "metadata": {
    "collapsed": false,
    "pycharm": {
     "name": "#%% md\n"
    }
   },
   "outputs": []
  },
  {
   "cell_type": "code",
   "execution_count": 61,
   "outputs": [
    {
     "data": {
      "text/plain": "Variable           x      y\nSet Unnamed: 0             \n1   1           10.0   8.04\n    2            8.0   6.95\n    3           13.0   7.58\n    4            9.0   8.81\n    5           11.0   8.33\n    6           14.0   9.96\n    7            6.0   7.24\n    8            4.0   4.26\n    9           12.0  10.84",
      "text/html": "<div>\n<style scoped>\n    .dataframe tbody tr th:only-of-type {\n        vertical-align: middle;\n    }\n\n    .dataframe tbody tr th {\n        vertical-align: top;\n    }\n\n    .dataframe thead th {\n        text-align: right;\n    }\n</style>\n<table border=\"1\" class=\"dataframe\">\n  <thead>\n    <tr style=\"text-align: right;\">\n      <th></th>\n      <th>Variable</th>\n      <th>x</th>\n      <th>y</th>\n    </tr>\n    <tr>\n      <th>Set</th>\n      <th>Unnamed: 0</th>\n      <th></th>\n      <th></th>\n    </tr>\n  </thead>\n  <tbody>\n    <tr>\n      <th rowspan=\"9\" valign=\"top\">1</th>\n      <th>1</th>\n      <td>10.0</td>\n      <td>8.04</td>\n    </tr>\n    <tr>\n      <th>2</th>\n      <td>8.0</td>\n      <td>6.95</td>\n    </tr>\n    <tr>\n      <th>3</th>\n      <td>13.0</td>\n      <td>7.58</td>\n    </tr>\n    <tr>\n      <th>4</th>\n      <td>9.0</td>\n      <td>8.81</td>\n    </tr>\n    <tr>\n      <th>5</th>\n      <td>11.0</td>\n      <td>8.33</td>\n    </tr>\n    <tr>\n      <th>6</th>\n      <td>14.0</td>\n      <td>9.96</td>\n    </tr>\n    <tr>\n      <th>7</th>\n      <td>6.0</td>\n      <td>7.24</td>\n    </tr>\n    <tr>\n      <th>8</th>\n      <td>4.0</td>\n      <td>4.26</td>\n    </tr>\n    <tr>\n      <th>9</th>\n      <td>12.0</td>\n      <td>10.84</td>\n    </tr>\n  </tbody>\n</table>\n</div>"
     },
     "execution_count": 61,
     "metadata": {},
     "output_type": "execute_result"
    }
   ],
   "source": [
    "obj = obj.pivot(index = ( \"Set\", \"Unnamed: 0\" ), columns = \"Variable\", values = \"Value\")\n",
    "obj.head(9)"
   ],
   "metadata": {
    "collapsed": false,
    "pycharm": {
     "name": "#%%\n"
    }
   }
  },
  {
   "cell_type": "markdown",
   "source": [
    "Plot each dataset of Anscombe's quartet:"
   ],
   "metadata": {
    "collapsed": false,
    "pycharm": {
     "name": "#%% md\n"
    }
   },
   "outputs": []
  },
  {
   "cell_type": "code",
   "execution_count": 62,
   "outputs": [
    {
     "data": {
      "text/plain": "<Figure size 432x288 with 1 Axes>",
      "image/png": "[encoded data removed]"
     },
     "metadata": {
      "needs_background": "light"
     },
     "output_type": "display_data"
    },
    {
     "data": {
      "text/plain": "<Figure size 432x288 with 1 Axes>",
      "image/png": "[encoded data removed]"
     },
     "metadata": {
      "needs_background": "light"
     },
     "output_type": "display_data"
    },
    {
     "data": {
      "text/plain": "<Figure size 432x288 with 1 Axes>",
      "image/png": "[encoded data removed]"
     },
     "metadata": {
      "needs_background": "light"
     },
     "output_type": "display_data"
    },
    {
     "data": {
      "text/plain": "<Figure size 432x288 with 1 Axes>",
      "image/png": "[encoded data removed]"
     },
     "metadata": {
      "needs_background": "light"
     },
     "output_type": "display_data"
    }
   ],
   "source": [
    "for k, g in obj.groupby(\"Set\"):\n",
    "    g.plot.scatter(x = \"x\", y = \"y\", title = \"Set:\" + str(k))"
   ],
   "metadata": {
    "collapsed": false,
    "pycharm": {
     "name": "#%%\n"
    }
   }
  },
  {
   "cell_type": "markdown",
   "source": [
    "------\n",
    "\n",
    "## References\n",
    "\n",
    "### Articles\n",
    "\n",
    "[AA1] Anton Antonov, [\"Introduction to data wrangling with Raku\"](https://rakuforprediction.wordpress.com/2021/12/31/introduction-to-data-wrangling-with-raku/) , (2021), [RakuForPrediction at WordPress](https://rakuforprediction.wordpress.com).\n",
    "\n",
    "[AA2] Anton Antonov, [\"Увод в обработката на данни с Raku\"](https://rakuforprediction.wordpress.com/2022/05/24/увод-в-обработката-на-данни-с-raku/), (2022), [RakuForPrediction at WordPress](https://rakuforprediction.wordpress.com).\n",
    "\n",
    "[HW1] Hadley Wickham, [\"The Split-Apply-Combine Strategy for Data Analysis\"](https://www.jstatsoft.org/article/view/v040i01), (2011), [Journal of Statistical Software](https://www.jstatsoft.org/).\n",
    "\n",
    "### Packages\n",
    "\n",
    "[AAp1] Anton Antonov, [DSL::English::DataQueryWorkflows Raku package](https://github.com/antononcube/Raku-DSL-English-DataQueryWorkflows), (2020-2022), [GitHub/antononcube](https://github.com/antononcube).\n",
    "\n",
    "[AAp2] Anton Antonov, [DSL::Bulgarian Raku package](https://github.com/antononcube/Raku-DSL-Bulgarian), (2022), [GitHub/antononcube](https://github.com/antononcube).\n",
    "\n",
    "[AAp3] Anton Antonov, [DSL::Shared::Utilities::ComprehensiveTranslations Raku package](https://github.com/antononcube/Raku-Text-Plot), (2020-2022), [GitHub/antononcube](https://github.com/antononcube).\n",
    "\n",
    "[AAp4] Anton Antonov, [Example Datasets, Python package](https://pypi.org/project/ExampleDatasets/), (2021-2022), [PyPI.org](https://pypi.org)."
   ],
   "metadata": {
    "collapsed": false,
    "pycharm": {
     "name": "#%% md\n"
    }
   }
  },
  {
   "cell_type": "markdown",
   "id": "01c37b66",
   "metadata": {
    "pycharm": {
     "name": "#%% md\n"
    }
   },
   "source": [
    "### Videos\n",
    "\n",
    "[AAv1] Anton Antonov, [\"Multi-language Data-Wrangling Conversational Agent\"](https://www.youtube.com/watch?v=pQk5jwoMSxs), (2020), [Wolfram Technology Conference 2020, YouTube/Wolfram](https://www.youtube.com/channel/UCJekgf6k62CQHdENWf2NgAQ).\n"
   ]
  }
 ],
 "metadata": {
  "jupytext": {
   "cell_metadata_filter": "-all",
   "main_language": "python",
   "notebook_metadata_filter": "-all"
  }
 },
 "nbformat": 4,
 "nbformat_minor": 5
}