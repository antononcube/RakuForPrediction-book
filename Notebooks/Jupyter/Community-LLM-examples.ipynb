{
 "cells": [
  {
   "cell_type": "markdown",
   "metadata": {},
   "source": [
    "# LLM examples for the Raku community\n",
    "\n",
    "Anton Antonov   \n",
    "[RakuForPrediction at WordPress](https://rakuforprediction.wordpress.com)   \n",
    "[RakuForPrediction-book at GitHub](https://github.com/antononcube/RakuForPrediction-book)   \n",
    "August 2023\n",
    "\n",
    "## Setup"
   ]
  },
  {
   "cell_type": "code",
   "execution_count": 2,
   "metadata": {},
   "outputs": [],
   "source": [
    "use LLM::Functions;\n",
    "use Text::SubParsers;\n",
    "use Data::Translators;\n",
    "use Markdown::Grammar;\n",
    "\n",
    "use Clipboard :ALL;\n",
    "\n",
    "use Text::Utils :ALL;"
   ]
  },
  {
   "cell_type": "markdown",
   "metadata": {},
   "source": [
    "------\n",
    "\n",
    "## Crag daily dose narration"
   ]
  },
  {
   "cell_type": "code",
   "execution_count": 3,
   "metadata": {},
   "outputs": [
    {
     "data": {
      "text/plain": [
       "-> **@args, *%args { #`(Block|3225054735184) ... }"
      ]
     },
     "execution_count": 3,
     "metadata": {},
     "output_type": "execute_result"
    }
   ],
   "source": [
    "my &frn=llm-function({\"Narrate the following Raku code $_\"}, e=>'PaLM');\n",
    "my &fue=llm-function({\"Provide detailed explainations for the measurement unit $_.\"}, e=>'PaLM');"
   ]
  },
  {
   "cell_type": "code",
   "execution_count": 4,
   "metadata": {},
   "outputs": [
    {
     "data": {
      "text/plain": [
       "crag '$h=450;$w=1520;$d=2315;$v=$h*$w*$d; say (♎️\"$v cubic millimetre\").in: <cords>'    #0.44cord (hilux flatbed load)\n"
      ]
     },
     "execution_count": 4,
     "metadata": {},
     "output_type": "execute_result"
    }
   ],
   "source": [
    "my $text = q:to/END/;\n",
    "crag '$h=450;$w=1520;$d=2315;$v=$h*$w*$d; say (♎️\"$v cubic millimetre\").in: <cords>'    #0.44cord (hilux flatbed load)\n",
    "END"
   ]
  },
  {
   "cell_type": "code",
   "execution_count": 5,
   "metadata": {},
   "outputs": [
    {
     "data": {
      "text/plain": [
       "The Raku code crag '$h=450;$w=1520;$d=2315;$v=$h*$w*$d; say (♎️\"$v cubic\n",
       "millimetre\").in: <cords>' #0.44cord (hilux flatbed load) calculates the volume\n",
       "of a cuboid with dimensions 450mm x 1520mm x 2315mm, and then converts the\n",
       "volume to cords. A cord is a unit of volume used to measure the amount of wood\n",
       "that can be loaded onto a flatbed truck. One cord is equivalent to 128 cubic\n",
       "feet, or 3.62 cubic metres. The code first assigns the values 450, 1520, and\n",
       "2315 to the variables $h, $w, and $d, respectively. These values represent the\n",
       "height, width, and depth of the cuboid. The code then calculates the volume of\n",
       "the cuboid by multiplying the values of $h, $w, and $d together. The resulting\n",
       "volume is 1,662,700 cubic millimetres. The code then uses the Raku function\n",
       "in: to convert the volume to cords. The function in: takes two arguments: the\n",
       "value to be converted and the unit to convert to. In this case, the value to\n",
       "be converted is"
      ]
     },
     "execution_count": 5,
     "metadata": {},
     "output_type": "execute_result"
    }
   ],
   "source": [
    "&frn($text) ==> wrap-paragraph() ==> join(\"\\n\")"
   ]
  },
  {
   "cell_type": "code",
   "execution_count": 6,
   "metadata": {},
   "outputs": [
    {
     "data": {
      "text/plain": [
       "A cord is a unit of length equal to 12 inches or 3 feet. It is most commonly\n",
       "used to measure fabric, yarn, and other flexible materials. Cords can also be\n",
       "used to measure the length of a room or other space. To convert inches to\n",
       "cords, divide the number of inches by 12. For example, 100 inches is equal to\n",
       "100 / 12 = 8.33 cords. To convert feet to cords, divide the number of feet by\n",
       "3. For example, 10 feet is equal to 10 / 3 = 3.33 cords. Cords can be used to\n",
       "measure the length of fabric by multiplying the width of the fabric by the\n",
       "number of cords. For example, a fabric that is 40 inches wide and 8 cords long\n",
       "would have a total length of 40 * 8 = 320 inches. Cords can also be used to\n",
       "measure the length of yarn by multiplying the number of yards by the number of\n",
       "cords. For example, a yarn that is 10 yards long and 4 cords thick would have\n",
       "a total length of 10 * 4 = 40 cords. Cords are a convenient unit of\n",
       "measurement for flexible materials because they are easy to use and\n",
       "understand. They are also a relatively accurate unit of measurement, as they\n",
       "are based on"
      ]
     },
     "execution_count": 6,
     "metadata": {},
     "output_type": "execute_result"
    }
   ],
   "source": [
    "&fue('cord') ==> wrap-paragraph() ==> copy-to-clipboard() ==> slip() ==> join(\"\\n\")"
   ]
  },
  {
   "cell_type": "markdown",
   "metadata": {
    "vscode": {
     "languageId": "perl6"
    }
   },
   "source": [
    "-------\n",
    "\n",
    "## Inclusion of truck flatbed loads in prompts\n",
    "\n",
    "### Direct function prompts"
   ]
  },
  {
   "cell_type": "code",
   "execution_count": 7,
   "metadata": {},
   "outputs": [
    {
     "data": {
      "text/plain": [
       "-> **@args, *%args { #`(Block|3224850571272) ... }"
      ]
     },
     "execution_count": 7,
     "metadata": {},
     "output_type": "execute_result"
    }
   ],
   "source": [
    "my &ffb = llm-function( -> $p, $t, $u, :$lang = 'Raku' {\"Give computational steps in the programming language $lang for the $p of the truck $t in the units $u.\"}, e=>'OpenAI')"
   ]
  },
  {
   "cell_type": "code",
   "execution_count": 8,
   "metadata": {},
   "outputs": [
    {
     "data": {
      "text/plain": [
       "\n",
       "\n",
       "1. Declare variables to represent the length, width, and height of the flatbed of the Ford 2020 truck in inches:\n",
       "int length = 96;\n",
       "int width = 60;\n",
       "int height = 24;\n",
       "\n",
       "2. Calculate the total volume in cubic inches:\n",
       "int volume = length * width * height;\n",
       "\n",
       "3. Output the total volume to the user:\n",
       "std::cout << \"The total volume of the Ford 2020 flatbed in cubic inches is \" << volume << std::endl;"
      ]
     },
     "execution_count": 8,
     "metadata": {},
     "output_type": "execute_result"
    }
   ],
   "source": [
    "&ffb('flatbed', 'Ford 2020', 'inches', lang => 'C++')"
   ]
  },
  {
   "cell_type": "code",
   "execution_count": 9,
   "metadata": {},
   "outputs": [
    {
     "data": {
      "text/plain": [
       "\n",
       "\n",
       "1. Calculate the length, width, and height of the Toyota Hilux 4th Generation in inches. \n",
       "\n",
       "length = 214.3 inches \n",
       "width = 72.83 inches \n",
       "height = 70.87 inches \n",
       "\n",
       "2. Convert the inches into feet by dividing each measurement by 12. \n",
       "\n",
       "length = 17.86 feet \n",
       "width = 6.07 feet \n",
       "height = 5.9 feet \n",
       "\n",
       "3. Calculate the total volume of the truck by multiplying length, width, and height. \n",
       "\n",
       "volume = 664.57 cubic feet \n",
       "\n",
       "4. Convert the cubic feet into cords by dividing the total volume by 128. \n",
       "\n",
       "volume = 5.16 cords"
      ]
     },
     "execution_count": 9,
     "metadata": {},
     "output_type": "execute_result"
    }
   ],
   "source": [
    "&ffb('volume', 'Toyota hilux 4th generation', 'cords') ==> copy-to-clipboard"
   ]
  },
  {
   "cell_type": "markdown",
   "metadata": {},
   "source": [
    "### Chat object"
   ]
  },
  {
   "cell_type": "code",
   "execution_count": 10,
   "metadata": {},
   "outputs": [
    {
     "data": {
      "text/plain": [
       "LLM::Functions::Chat(chat-id = , llm-evaluator.conf.name = chatgpt, messages.elems = 0)"
      ]
     },
     "execution_count": 10,
     "metadata": {},
     "output_type": "execute_result"
    }
   ],
   "source": [
    "my $chat = llm-chat(\"From now on you are a light duty truck expert. If asked compute valumes or areas you give step by step computations recipies in Raku.\", e=>'ChatPaLM');"
   ]
  },
  {
   "cell_type": "code",
   "execution_count": 11,
   "metadata": {},
   "outputs": [
    {
     "data": {
      "text/plain": [
       "As an AI language model, I do not have real-time access to specific information or the ability to browse the internet. However, I can provide you with a step-by-step recipe to compute the dimensions of a Toyota Hilux 2018 using Raku if you already have the data. \n",
       "\n",
       "To compute the dimensions, you will need the length, width, and height of the Toyota Hilux 2018. Assuming you have these values, you can calculate the dimensions as follows:\n",
       "\n",
       "```raku\n",
       "# Define the dimensions\n",
       "my $length = 5330; # in mm\n",
       "my $width = 1855;  # in mm\n",
       "my $height = 1815; # in mm\n",
       "\n",
       "# Calculate the dimensions in meters\n",
       "my $length_m = $length / 1000;\n",
       "my $width_m = $width / 1000;\n",
       "my $height_m = $height / 1000;\n",
       "\n",
       "# Display the dimensions\n",
       "say \"Dimensions of Toyota Hilux 2018:\";\n",
       "say \"Length: $length_m meters\";\n",
       "say \"Width: $width_m meters\";\n",
       "say \"Height: $height_m meters\";\n",
       "```\n",
       "\n",
       "Please note that the dimensions provided above are for illustrative purposes only and may not reflect the actual dimensions of a Toyota Hilux 2018. It's always best to consult official sources or vehicle specifications for accurate information."
      ]
     },
     "execution_count": 11,
     "metadata": {},
     "output_type": "execute_result"
    }
   ],
   "source": [
    "$chat.eval('What are the dimensions of a Toyota Hilux 2018?')"
   ]
  },
  {
   "cell_type": "code",
   "execution_count": 12,
   "metadata": {},
   "outputs": [
    {
     "data": {
      "text/plain": [
       "To compute the volume of a Toyota Hilux 2018 in cubic centimeters (cm³), you will need the length, width, and height of the vehicle in centimeters. Assuming you have these values available, you can calculate the volume as follows in Raku:\n",
       "\n",
       "```raku\n",
       "# Define the dimensions in centimeters\n",
       "my $length_cm = 533;   # in cm\n",
       "my $width_cm = 185.5;  # in cm\n",
       "my $height_cm = 181.5; # in cm\n",
       "\n",
       "# Calculate the volume in cubic centimeters\n",
       "my $volume_cm = $length_cm * $width_cm * $height_cm;\n",
       "\n",
       "# Display the volume\n",
       "say \"Volume of Toyota Hilux 2018: $volume_cm cm³\";\n",
       "```\n",
       "\n",
       "Please ensure that the dimensions provided are accurately converted to centimeters. This calculation assumes that the length, width, and height are already in centimeters."
      ]
     },
     "execution_count": 12,
     "metadata": {},
     "output_type": "execute_result"
    }
   ],
   "source": [
    "$chat.eval(\"Compute the volume in cm.\")"
   ]
  },
  {
   "cell_type": "code",
   "execution_count": 13,
   "metadata": {},
   "outputs": [
    {
     "data": {
      "text/plain": [
       "To compute the surface areas of a Toyota Hilux 2018 in square inches, you will need the length, width, and height of the vehicle in inches. Assuming you have these values available, you can calculate the surface areas as follows in Raku:\n",
       "\n",
       "```raku\n",
       "# Define the dimensions in inches\n",
       "my $length_in = 209.84;   # in inches\n",
       "my $width_in = 72.83;     # in inches\n",
       "my $height_in = 71.46;    # in inches\n",
       "\n",
       "# Calculate the surface areas in square inches\n",
       "my $front_area = $length_in * $height_in;\n",
       "my $rear_area = $length_in * $height_in;\n",
       "my $side_area = $length_in * $width_in;\n",
       "my $top_area = $width_in * $height_in;\n",
       "my $bottom_area = $width_in * $height_in;\n",
       "\n",
       "# Display the surface areas\n",
       "say \"Surface Areas of Toyota Hilux 2018:\";\n",
       "say \"Front Area: $front_area square inches\";\n",
       "say \"Rear Area: $rear_area square inches\";\n",
       "say \"Side Area: $side_area square inches\";\n",
       "say \"Top Area: $top_area square inches\";\n",
       "say \"Bottom Area: $bottom_area square inches\";\n",
       "```\n",
       "\n",
       "Please ensure that the dimensions provided are accurately converted to inches. This calculation assumes that the length, width, and height are already in inches."
      ]
     },
     "execution_count": 13,
     "metadata": {},
     "output_type": "execute_result"
    }
   ],
   "source": [
    "$chat.eval(\"Ok. Just show the surface areas in square inches.\")"
   ]
  },
  {
   "cell_type": "code",
   "execution_count": null,
   "metadata": {},
   "outputs": [],
   "source": []
  }
 ],
 "metadata": {
  "kernelspec": {
   "display_name": "Raku",
   "language": "raku",
   "name": "raku"
  },
  "language_info": {
   "file_extension": ".raku",
   "mimetype": "text/plain",
   "name": "raku",
   "version": "6.d"
  },
  "orig_nbformat": 4
 },
 "nbformat": 4,
 "nbformat_minor": 2
}
