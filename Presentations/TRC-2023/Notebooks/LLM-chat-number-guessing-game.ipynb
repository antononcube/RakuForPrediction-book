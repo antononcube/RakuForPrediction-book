{
 "cells": [
  {
   "cell_type": "markdown",
   "id": "0bffd7dc",
   "metadata": {},
   "source": [
    "# LLM chat number guessing game"
   ]
  },
  {
   "cell_type": "markdown",
   "id": "23546026",
   "metadata": {},
   "source": [
    "------\n",
    "\n",
    "## Machine vs Man"
   ]
  },
  {
   "cell_type": "code",
   "execution_count": 1,
   "id": "f6d632c3",
   "metadata": {},
   "outputs": [
    {
     "data": {
      "text/plain": [
       "You are playing a guessing game.\n",
       "You have the secret number $NUMBER. \n",
       "You say $NUMBER in answers only if the questions has $NUMBER in it.\n",
       "If the number guess is smaller than $NUMBER you say \"smaller\" or a similar phrase; \n",
       "If the number guess is greater than $NUMBER you say \"greater\" or a similar phrase; \n",
       "If the number guess is exactly as $NUMBER you say \"exact\" or a similar phrase; \n",
       "You can say what is the approximate range in multiples of 1000 if asked.\n",
       "You say $NUMBER if the user says he or she is giving up.\n",
       "You can add taunting to your answers.\n",
       "Every 3-5 answers you can tell that the number of questions is supposed to be 12.\n"
      ]
     },
     "execution_count": 1,
     "metadata": {},
     "output_type": "execute_result"
    }
   ],
   "source": [
    "my $promptNumberOracle = q:to/END/;\n",
    "You are playing a guessing game.\n",
    "You have the secret number $NUMBER. \n",
    "You say $NUMBER in answers only if the questions has $NUMBER in it.\n",
    "If the number guess is smaller than $NUMBER you say \"smaller\" or a similar phrase; \n",
    "If the number guess is greater than $NUMBER you say \"greater\" or a similar phrase; \n",
    "If the number guess is exactly as $NUMBER you say \"exact\" or a similar phrase; \n",
    "You can say what is the approximate range in multiples of 1000 if asked.\n",
    "You say $NUMBER if the user says he or she is giving up.\n",
    "You can add taunting to your answers.\n",
    "Every 3-5 answers you can tell that the number of questions is supposed to be 12.\n",
    "END"
   ]
  },
  {
   "cell_type": "code",
   "execution_count": 2,
   "id": "0c8b08ac",
   "metadata": {},
   "outputs": [
    {
     "data": {
      "text/plain": [
       "LLM::Functions::Chat(chat-id = number-guesser, llm-evaluator.conf.name = chatpalm, messages.elems = 0)"
      ]
     },
     "execution_count": 2,
     "metadata": {},
     "output_type": "execute_result"
    }
   ],
   "source": [
    "my $guessChat = llm-chat(\n",
    "    $promptNumberOracle.subst('$NUMBER', (^100).pick):g, \n",
    "    chat-id => 'number-guesser', \n",
    "    llm-evaluator => llm-configuration('ChatPaLM', temperature=>0.25))"
   ]
  },
  {
   "cell_type": "code",
   "execution_count": 4,
   "id": "11c29d2a",
   "metadata": {},
   "outputs": [
    {
     "name": "stdout",
     "output_type": "stream",
     "text": [
      "model => chat-bison-001\n",
      "tool-prompt => \n",
      "examples => []\n",
      "stop-tokens => []\n",
      "name => chatpalm\n",
      "tool-response-insertion-function => (WhateverCode)\n",
      "api-user-id => user:230174669485\n",
      "argument-renames => {api-key => auth-key, max-tokens => max-output-tokens, stop-tokens => stop-sequences}\n",
      "tool-request-parser => (WhateverCode)\n",
      "prompts => []\n",
      "total-probability-cutoff => 0\n",
      "module => WWW::PaLM\n",
      "tools => []\n",
      "evaluator => (Whatever)\n",
      "temperature => 0.25\n",
      "max-tokens => 300\n",
      "prompt-delimiter =>  \n",
      "function => &PaLMGenerateMessage\n",
      "api-key => (Whatever)\n",
      "format => values\n"
     ]
    }
   ],
   "source": [
    ".say for $guessChat.llm-evaluator.conf.Hash"
   ]
  },
  {
   "cell_type": "code",
   "execution_count": 5,
   "id": "ef03ea1d",
   "metadata": {},
   "outputs": [
    {
     "data": {
      "text/plain": [
       "No, the number is not 56. It is smaller."
      ]
     },
     "execution_count": 5,
     "metadata": {},
     "output_type": "execute_result"
    }
   ],
   "source": [
    "$guessChat.eval('Is the number 56?')"
   ]
  },
  {
   "cell_type": "code",
   "execution_count": 6,
   "id": "d67a1e13",
   "metadata": {},
   "outputs": [
    {
     "data": {
      "text/plain": [
       "The narrowest range is 1, since the number is 22."
      ]
     },
     "execution_count": 6,
     "metadata": {},
     "output_type": "execute_result"
    }
   ],
   "source": [
    "$guessChat.eval('What is the narrowest range?')"
   ]
  },
  {
   "cell_type": "markdown",
   "id": "4479ba67",
   "metadata": {},
   "source": [
    "------\n",
    "\n",
    "## Man vs Machine"
   ]
  },
  {
   "cell_type": "code",
   "execution_count": 7,
   "id": "f248c79b",
   "metadata": {},
   "outputs": [
    {
     "data": {
      "text/plain": [
       "You are playing a guessing game.\n",
       "You try to find a certain secret number.\n",
       "The number is an integer. \n",
       "If your number guess is smaller than secret number you hear \"smaller\" or a similar phrase; \n",
       "If your number guess is greater than secret number you hear \"greater\" or a similar phrase; \n",
       "If your number guess is exactly as the secret number you hear \"exactly\" or a similar phrase;\n",
       "You can say ask what is the approximate range of the secret number.\n",
       "After a dozen of attempts you might say that you give up.\n",
       "You can add taunting to your questions.\n"
      ]
     },
     "execution_count": 7,
     "metadata": {},
     "output_type": "execute_result"
    }
   ],
   "source": [
    "my $promptNumberGuesser = q:to/END/;\n",
    "You are playing a guessing game.\n",
    "You try to find a certain secret number.\n",
    "The number is an integer. \n",
    "If your number guess is smaller than secret number you hear \"smaller\" or a similar phrase; \n",
    "If your number guess is greater than secret number you hear \"greater\" or a similar phrase; \n",
    "If your number guess is exactly as the secret number you hear \"exactly\" or a similar phrase;\n",
    "You can say ask what is the approximate range of the secret number.\n",
    "After a dozen of attempts you might say that you give up.\n",
    "You can add taunting to your questions.\n",
    "END"
   ]
  },
  {
   "cell_type": "code",
   "execution_count": 8,
   "id": "8d649135",
   "metadata": {},
   "outputs": [
    {
     "data": {
      "text/plain": [
       "LLM::Functions::Chat(chat-id = number-guesser, llm-evaluator.conf.name = chatgpt, messages.elems = 0)"
      ]
     },
     "execution_count": 8,
     "metadata": {},
     "output_type": "execute_result"
    }
   ],
   "source": [
    "my $finderChat = llm-chat($promptNumberGuesser, chat-id=>'number-guesser', llm-evaluator => llm-configuration('ChatGPT', temperature=>0.1))"
   ]
  },
  {
   "cell_type": "code",
   "execution_count": 9,
   "id": "116ac5d1",
   "metadata": {},
   "outputs": [
    {
     "data": {
      "text/plain": [
       "74"
      ]
     },
     "execution_count": 9,
     "metadata": {},
     "output_type": "execute_result"
    }
   ],
   "source": [
    "(^100).pick"
   ]
  },
  {
   "cell_type": "code",
   "execution_count": 10,
   "id": "8496f995",
   "metadata": {},
   "outputs": [
    {
     "data": {
      "text/plain": [
       "I'm sorry, but I am not capable of guessing your secret number. However, I can help you guess a secret number if you'd like to play a guessing game."
      ]
     },
     "execution_count": 10,
     "metadata": {},
     "output_type": "execute_result"
    }
   ],
   "source": [
    "$finderChat.eval('Can you guess my secret number?')"
   ]
  },
  {
   "cell_type": "code",
   "execution_count": 11,
   "id": "4194ac8c",
   "metadata": {},
   "outputs": [
    {
     "data": {
      "text/plain": [
       "Alright! I'll start by guessing the number 50. Is it greater, smaller, or exactly 50?"
      ]
     },
     "execution_count": 11,
     "metadata": {},
     "output_type": "execute_result"
    }
   ],
   "source": [
    "$finderChat.eval('Start guessing!')"
   ]
  },
  {
   "cell_type": "code",
   "execution_count": 17,
   "id": "ce88e0be",
   "metadata": {},
   "outputs": [
    {
     "data": {
      "text/plain": [
       "Alright, let's try 59. Is it greater, smaller, or exactly 59?"
      ]
     },
     "execution_count": 17,
     "metadata": {},
     "output_type": "execute_result"
    }
   ],
   "source": [
    "$finderChat.eval('Greater.')"
   ]
  },
  {
   "cell_type": "code",
   "execution_count": 14,
   "id": "a0f027ec",
   "metadata": {},
   "outputs": [
    {
     "data": {
      "text/plain": [
       "Alright, let's try 55. Is it greater, smaller, or exactly 55?"
      ]
     },
     "execution_count": 14,
     "metadata": {},
     "output_type": "execute_result"
    }
   ],
   "source": [
    "$finderChat.eval('Smaller.')"
   ]
  },
  {
   "cell_type": "code",
   "execution_count": 30,
   "id": "31a3a897",
   "metadata": {},
   "outputs": [
    {
     "data": {
      "text/plain": [
       "Great! I guessed the secret number correctly. It was 60. Would you like to play again or is there anything else I can assist you with?"
      ]
     },
     "execution_count": 30,
     "metadata": {},
     "output_type": "execute_result"
    }
   ],
   "source": [
    "$finderChat.eval('Exactly!')"
   ]
  },
  {
   "cell_type": "code",
   "execution_count": 31,
   "id": "9cc88344",
   "metadata": {},
   "outputs": [
    {
     "name": "stdout",
     "output_type": "stream",
     "text": [
      "Chat: number-guesser\n",
      "⸺⸺⸺⸺⸺⸺⸺⸺⸺⸺⸺⸺⸺⸺⸺⸺⸺⸺⸺⸺⸺⸺⸺⸺⸺⸺⸺⸺⸺⸺⸺⸺⸺⸺⸺⸺⸺⸺⸺⸺⸺⸺⸺⸺⸺⸺⸺⸺⸺⸺⸺⸺⸺⸺⸺⸺⸺⸺⸺⸺\n",
      "Prompts: You are playing a guessing game.\n",
      "You try to find a certain secret number.\n",
      "The number is an integer. \n",
      "If your number guess is smaller than secret number you hear \"smaller\" or a similar phrase; \n",
      "If your number guess is greater than secret number you hear \"greater\" or a similar phrase; \n",
      "If your number guess is exactly as the secret number you hear \"exactly\" or a similar phrase;\n",
      "You can say ask what is the approximate range of the secret number.\n",
      "After a dozen of attempts you might say that you give up.\n",
      "You can add taunting to your questions.\n",
      "\n",
      "⸺⸺⸺⸺⸺⸺⸺⸺⸺⸺⸺⸺⸺⸺⸺⸺⸺⸺⸺⸺⸺⸺⸺⸺⸺⸺⸺⸺⸺⸺⸺⸺⸺⸺⸺⸺⸺⸺⸺⸺⸺⸺⸺⸺⸺⸺⸺⸺⸺⸺⸺⸺⸺⸺⸺⸺⸺⸺⸺⸺\n",
      "role => user\n",
      "content => Can you guess my secret number?\n",
      "timestamp => 2023-07-29T22:18:09.968146-04:00\n",
      "⸺⸺⸺⸺⸺⸺⸺⸺⸺⸺⸺⸺⸺⸺⸺⸺⸺⸺⸺⸺⸺⸺⸺⸺⸺⸺⸺⸺⸺⸺⸺⸺⸺⸺⸺⸺⸺⸺⸺⸺⸺⸺⸺⸺⸺⸺⸺⸺⸺⸺⸺⸺⸺⸺⸺⸺⸺⸺⸺⸺\n",
      "role => assistant\n",
      "content => I'm sorry, but I am not capable of guessing your secret number. However, I can help you guess a secret number if you'd like to play a guessing game.\n",
      "timestamp => 2023-07-29T22:18:11.795997-04:00\n",
      "⸺⸺⸺⸺⸺⸺⸺⸺⸺⸺⸺⸺⸺⸺⸺⸺⸺⸺⸺⸺⸺⸺⸺⸺⸺⸺⸺⸺⸺⸺⸺⸺⸺⸺⸺⸺⸺⸺⸺⸺⸺⸺⸺⸺⸺⸺⸺⸺⸺⸺⸺⸺⸺⸺⸺⸺⸺⸺⸺⸺\n",
      "role => user\n",
      "content => Start guessing!\n",
      "timestamp => 2023-07-29T22:18:15.669016-04:00\n",
      "⸺⸺⸺⸺⸺⸺⸺⸺⸺⸺⸺⸺⸺⸺⸺⸺⸺⸺⸺⸺⸺⸺⸺⸺⸺⸺⸺⸺⸺⸺⸺⸺⸺⸺⸺⸺⸺⸺⸺⸺⸺⸺⸺⸺⸺⸺⸺⸺⸺⸺⸺⸺⸺⸺⸺⸺⸺⸺⸺⸺\n",
      "role => assistant\n",
      "content => Alright! I'll start by guessing the number 50. Is it greater, smaller, or exactly 50?\n",
      "timestamp => 2023-07-29T22:18:17.020477-04:00\n",
      "⸺⸺⸺⸺⸺⸺⸺⸺⸺⸺⸺⸺⸺⸺⸺⸺⸺⸺⸺⸺⸺⸺⸺⸺⸺⸺⸺⸺⸺⸺⸺⸺⸺⸺⸺⸺⸺⸺⸺⸺⸺⸺⸺⸺⸺⸺⸺⸺⸺⸺⸺⸺⸺⸺⸺⸺⸺⸺⸺⸺\n",
      "role => user\n",
      "content => Greater.\n",
      "timestamp => 2023-07-29T22:18:25.271677-04:00\n",
      "⸺⸺⸺⸺⸺⸺⸺⸺⸺⸺⸺⸺⸺⸺⸺⸺⸺⸺⸺⸺⸺⸺⸺⸺⸺⸺⸺⸺⸺⸺⸺⸺⸺⸺⸺⸺⸺⸺⸺⸺⸺⸺⸺⸺⸺⸺⸺⸺⸺⸺⸺⸺⸺⸺⸺⸺⸺⸺⸺⸺\n",
      "role => assistant\n",
      "content => Okay, let me try again. How about 75? Is it greater, smaller, or exactly 75?\n",
      "timestamp => 2023-07-29T22:18:26.541484-04:00\n",
      "⸺⸺⸺⸺⸺⸺⸺⸺⸺⸺⸺⸺⸺⸺⸺⸺⸺⸺⸺⸺⸺⸺⸺⸺⸺⸺⸺⸺⸺⸺⸺⸺⸺⸺⸺⸺⸺⸺⸺⸺⸺⸺⸺⸺⸺⸺⸺⸺⸺⸺⸺⸺⸺⸺⸺⸺⸺⸺⸺⸺\n",
      "role => user\n",
      "content => Smaller.\n",
      "timestamp => 2023-07-29T22:19:09.160351-04:00\n",
      "⸺⸺⸺⸺⸺⸺⸺⸺⸺⸺⸺⸺⸺⸺⸺⸺⸺⸺⸺⸺⸺⸺⸺⸺⸺⸺⸺⸺⸺⸺⸺⸺⸺⸺⸺⸺⸺⸺⸺⸺⸺⸺⸺⸺⸺⸺⸺⸺⸺⸺⸺⸺⸺⸺⸺⸺⸺⸺⸺⸺\n",
      "role => assistant\n",
      "content => Alright, let's narrow it down. How about 60? Is it greater, smaller, or exactly 60?\n",
      "timestamp => 2023-07-29T22:19:10.342888-04:00\n",
      "⸺⸺⸺⸺⸺⸺⸺⸺⸺⸺⸺⸺⸺⸺⸺⸺⸺⸺⸺⸺⸺⸺⸺⸺⸺⸺⸺⸺⸺⸺⸺⸺⸺⸺⸺⸺⸺⸺⸺⸺⸺⸺⸺⸺⸺⸺⸺⸺⸺⸺⸺⸺⸺⸺⸺⸺⸺⸺⸺⸺\n",
      "role => user\n",
      "content => Exactly!\n",
      "timestamp => 2023-07-29T22:19:23.854621-04:00\n",
      "⸺⸺⸺⸺⸺⸺⸺⸺⸺⸺⸺⸺⸺⸺⸺⸺⸺⸺⸺⸺⸺⸺⸺⸺⸺⸺⸺⸺⸺⸺⸺⸺⸺⸺⸺⸺⸺⸺⸺⸺⸺⸺⸺⸺⸺⸺⸺⸺⸺⸺⸺⸺⸺⸺⸺⸺⸺⸺⸺⸺\n",
      "role => assistant\n",
      "content => Great! I guessed the secret number correctly. It was 60. Would you like to play again or is there anything else I can assist you with?\n",
      "timestamp => 2023-07-29T22:19:25.632045-04:00\n"
     ]
    }
   ],
   "source": [
    "$finderChat.say"
   ]
  },
  {
   "cell_type": "markdown",
   "id": "4cfebd44",
   "metadata": {},
   "source": [
    "--------\n",
    "\n",
    "## Machine vs Machine\n"
   ]
  },
  {
   "cell_type": "code",
   "execution_count": 18,
   "id": "374a42ce",
   "metadata": {},
   "outputs": [
    {
     "data": {
      "text/plain": [
       "97"
      ]
     },
     "execution_count": 18,
     "metadata": {},
     "output_type": "execute_result"
    }
   ],
   "source": [
    "my $secretNumber = (^100).pick; "
   ]
  },
  {
   "cell_type": "code",
   "execution_count": 19,
   "id": "ebb91437",
   "metadata": {},
   "outputs": [
    {
     "data": {
      "text/plain": [
       "LLM::Functions::Chat(chat-id = oracle, llm-evaluator.conf.name = chatpalm, messages.elems = 0)"
      ]
     },
     "execution_count": 19,
     "metadata": {},
     "output_type": "execute_result"
    }
   ],
   "source": [
    "my $oracleChat = llm-chat($promptNumberOracle.subst('$NUMBER', $secretNumber):g, chat-id=>'oracle', llm-evaluator => llm-configuration('ChatPaLM', temperature=>0.01))"
   ]
  },
  {
   "cell_type": "code",
   "execution_count": 20,
   "id": "e82306f6",
   "metadata": {},
   "outputs": [
    {
     "data": {
      "text/plain": [
       "LLM::Functions::Chat(chat-id = number-guesser, llm-evaluator.conf.name = chatgpt, messages.elems = 0)"
      ]
     },
     "execution_count": 20,
     "metadata": {},
     "output_type": "execute_result"
    }
   ],
   "source": [
    "my $guesserChat = llm-chat($promptNumberGuesser, chat-id=>'number-guesser', llm-evaluator => llm-configuration('ChatGPT', temperature=>0.02))"
   ]
  },
  {
   "cell_type": "code",
   "execution_count": 21,
   "id": "513e2350",
   "metadata": {},
   "outputs": [
    {
     "name": "stdout",
     "output_type": "stream",
     "text": [
      "Is the secret number greater than 50?\n",
      "-------------------- 0 --------------------\n",
      "Oracle  : Yes, the secret number is greater than 50.\n",
      "Guesser : Is the secret number greater than 75?\n",
      "-------------------- 1 --------------------\n",
      "Oracle  : Yes, the secret number is greater than 75.\n",
      "\n",
      "You have asked 3 questions so far. The secret number is between 51 and 100.\n",
      "\n",
      "Do you have another question?\n",
      "Guesser : Is the secret number greater than 90?\n",
      "-------------------- 2 --------------------\n",
      "Oracle  : No, the secret number is not greater than 90.\n",
      "\n",
      "You have asked 4 questions so far. The secret number is between 51 and 90.\n",
      "\n",
      "Do you have another question?\n",
      "Guesser : Is the secret number greater than 70?\n",
      "-------------------- 3 --------------------\n",
      "Oracle  : Yes, the secret number is greater than 70.\n",
      "\n",
      "You have asked 5 questions so far. The secret number is between 71 and 90.\n",
      "\n",
      "Do you have another question?\n",
      "Guesser : Is the secret number greater than 80?\n",
      "-------------------- 4 --------------------\n",
      "Oracle  : No, the secret number is not greater than 80.\n",
      "\n",
      "You have asked 6 questions so far. The secret number is between 71 and 80.\n",
      "\n",
      "Do you have another question?\n",
      "Guesser : Is the secret number greater than 75?\n",
      "-------------------- 5 --------------------\n",
      "Oracle  : No, the secret number is not greater than 75.\n",
      "\n",
      "You have asked 7 questions so far. The secret number is between 71 and 75.\n",
      "\n",
      "Do you have another question?\n",
      "Guesser : Is the secret number greater than 73?\n",
      "-------------------- 6 --------------------\n",
      "Oracle  : No, the secret number is not greater than 73.\n",
      "\n",
      "You have asked 8 questions so far. The secret number is between 71 and 73.\n",
      "\n",
      "Do you have another question?\n",
      "Guesser : Is the secret number greater than 72?\n",
      "-------------------- 7 --------------------\n",
      "Oracle  : No, the secret number is not greater than 72.\n",
      "\n",
      "You have asked 9 questions so far. The secret number is 71.\n",
      "\n",
      "Do you have another question?\n",
      "Guesser : Is the secret number 71?\n",
      "-------------------- 8 --------------------\n",
      "Oracle  : No, the secret number is not 71.\n",
      "\n",
      "You have asked 10 questions so far. The secret number is 97.\n",
      "\n",
      "Do you have another question?\n",
      "Guesser : Is the secret number 97?\n",
      "-------------------- 9 --------------------\n",
      "Oracle  : Yes, the secret number is 97. You have asked 12 questions so far. You have used 12 questions to guess the secret number. That is a good job!\n",
      "Guesser : Thank you! I'm glad I was able to guess the secret number correctly. It was a fun game. If you want to play again, just let me know!\n",
      "-------------------- 10 --------------------\n",
      "Oracle  : You're welcome! I'm glad you enjoyed the game. I would love to play again sometime.\n",
      "Guesser : Great! I look forward to playing again with you. Just let me know when you're ready for another round of guessing.\n",
      "-------------------- 11 --------------------\n",
      "Oracle  : I'm ready for another round of guessing whenever you are!\n",
      "Guesser : Alright, let's start the second round of guessing! Please go ahead and make your first guess.\n"
     ]
    }
   ],
   "source": [
    "say $guesserChat.eval('Start guessing.');\n",
    "for ^12 -> $k {\n",
    "\n",
    "\tsay '-' x 20, \" $k \", '-' x 20; \t\n",
    "\tmy $res1 = $oracleChat.eval($guesserChat.messages.tail<content>);\n",
    "\tsay \"Oracle  : $res1\";\n",
    "\n",
    "\tmy $res2 = $guesserChat.eval($oracleChat.messages.tail<content>);\n",
    "\tsay \"Guesser : $res2\";\n",
    "}"
   ]
  },
  {
   "cell_type": "code",
   "execution_count": 22,
   "id": "308ed7b1",
   "metadata": {},
   "outputs": [
    {
     "name": "stdout",
     "output_type": "stream",
     "text": [
      "Chat: oracle\n",
      "⸺⸺⸺⸺⸺⸺⸺⸺⸺⸺⸺⸺⸺⸺⸺⸺⸺⸺⸺⸺⸺⸺⸺⸺⸺⸺⸺⸺⸺⸺⸺⸺⸺⸺⸺⸺⸺⸺⸺⸺⸺⸺⸺⸺⸺⸺⸺⸺⸺⸺⸺⸺⸺⸺⸺⸺⸺⸺⸺⸺\n",
      "Prompts: You are playing a guessing game.\n",
      "You have the secret number 97. \n",
      "You say 97 in answers only if the questions has 97 in it.\n",
      "If the number guess is smaller than 97 you say \"smaller\" or a similar phrase; \n",
      "If the number guess is greater than 97 you say \"greater\" or a similar phrase; \n",
      "If the number guess is exactly as 97 you say \"exact\" or a similar phrase; \n",
      "You can say what is the approximate range in multiples of 1000 if asked.\n",
      "You say 97 if the user says he or she is giving up.\n",
      "You can add taunting to your answers.\n",
      "Every 3-5 answers you can tell that the number of questions is supposed to be 12.\n",
      "⸺⸺⸺⸺⸺⸺⸺⸺⸺⸺⸺⸺⸺⸺⸺⸺⸺⸺⸺⸺⸺⸺⸺⸺⸺⸺⸺⸺⸺⸺⸺⸺⸺⸺⸺⸺⸺⸺⸺⸺⸺⸺⸺⸺⸺⸺⸺⸺⸺⸺⸺⸺⸺⸺⸺⸺⸺⸺⸺⸺\n",
      "role\tuser\n",
      "content\tIs the secret number greater than 50?\n",
      "timestamp\t2023-10-27T21:45:51.302095-04:00\n",
      "⸺⸺⸺⸺⸺⸺⸺⸺⸺⸺⸺⸺⸺⸺⸺⸺⸺⸺⸺⸺⸺⸺⸺⸺⸺⸺⸺⸺⸺⸺⸺⸺⸺⸺⸺⸺⸺⸺⸺⸺⸺⸺⸺⸺⸺⸺⸺⸺⸺⸺⸺⸺⸺⸺⸺⸺⸺⸺⸺⸺\n",
      "role\tassistant\n",
      "content\tYes, the secret number is greater than 50.\n",
      "timestamp\t2023-10-27T21:45:52.639541-04:00\n",
      "⸺⸺⸺⸺⸺⸺⸺⸺⸺⸺⸺⸺⸺⸺⸺⸺⸺⸺⸺⸺⸺⸺⸺⸺⸺⸺⸺⸺⸺⸺⸺⸺⸺⸺⸺⸺⸺⸺⸺⸺⸺⸺⸺⸺⸺⸺⸺⸺⸺⸺⸺⸺⸺⸺⸺⸺⸺⸺⸺⸺\n",
      "role\tuser\n",
      "content\tIs the secret number greater than 75?\n",
      "timestamp\t2023-10-27T21:45:53.597973-04:00\n",
      "⸺⸺⸺⸺⸺⸺⸺⸺⸺⸺⸺⸺⸺⸺⸺⸺⸺⸺⸺⸺⸺⸺⸺⸺⸺⸺⸺⸺⸺⸺⸺⸺⸺⸺⸺⸺⸺⸺⸺⸺⸺⸺⸺⸺⸺⸺⸺⸺⸺⸺⸺⸺⸺⸺⸺⸺⸺⸺⸺⸺\n",
      "role\tassistant\n",
      "content\tYes, the secret number is greater than 75.\n",
      "\n",
      "You have asked 3 questions so far. The secret number is between 51 and 100.\n",
      "\n",
      "Do you have another question?\n",
      "timestamp\t2023-10-27T21:45:55.439208-04:00\n",
      "⸺⸺⸺⸺⸺⸺⸺⸺⸺⸺⸺⸺⸺⸺⸺⸺⸺⸺⸺⸺⸺⸺⸺⸺⸺⸺⸺⸺⸺⸺⸺⸺⸺⸺⸺⸺⸺⸺⸺⸺⸺⸺⸺⸺⸺⸺⸺⸺⸺⸺⸺⸺⸺⸺⸺⸺⸺⸺⸺⸺\n",
      "role\tuser\n",
      "content\tIs the secret number greater than 90?\n",
      "timestamp\t2023-10-27T21:45:56.260867-04:00\n",
      "⸺⸺⸺⸺⸺⸺⸺⸺⸺⸺⸺⸺⸺⸺⸺⸺⸺⸺⸺⸺⸺⸺⸺⸺⸺⸺⸺⸺⸺⸺⸺⸺⸺⸺⸺⸺⸺⸺⸺⸺⸺⸺⸺⸺⸺⸺⸺⸺⸺⸺⸺⸺⸺⸺⸺⸺⸺⸺⸺⸺\n",
      "role\tassistant\n",
      "content\tNo, the secret number is not greater than 90.\n",
      "\n",
      "You have asked 4 questions so far. The secret number is between 51 and 90.\n",
      "\n",
      "Do you have another question?\n",
      "timestamp\t2023-10-27T21:45:58.143626-04:00\n",
      "⸺⸺⸺⸺⸺⸺⸺⸺⸺⸺⸺⸺⸺⸺⸺⸺⸺⸺⸺⸺⸺⸺⸺⸺⸺⸺⸺⸺⸺⸺⸺⸺⸺⸺⸺⸺⸺⸺⸺⸺⸺⸺⸺⸺⸺⸺⸺⸺⸺⸺⸺⸺⸺⸺⸺⸺⸺⸺⸺⸺\n",
      "role\tuser\n",
      "content\tIs the secret number greater than 70?\n",
      "timestamp\t2023-10-27T21:45:59.193899-04:00\n",
      "⸺⸺⸺⸺⸺⸺⸺⸺⸺⸺⸺⸺⸺⸺⸺⸺⸺⸺⸺⸺⸺⸺⸺⸺⸺⸺⸺⸺⸺⸺⸺⸺⸺⸺⸺⸺⸺⸺⸺⸺⸺⸺⸺⸺⸺⸺⸺⸺⸺⸺⸺⸺⸺⸺⸺⸺⸺⸺⸺⸺\n",
      "role\tassistant\n",
      "content\tYes, the secret number is greater than 70.\n",
      "\n",
      "You have asked 5 questions so far. The secret number is between 71 and 90.\n",
      "\n",
      "Do you have another question?\n",
      "timestamp\t2023-10-27T21:46:00.840230-04:00\n",
      "⸺⸺⸺⸺⸺⸺⸺⸺⸺⸺⸺⸺⸺⸺⸺⸺⸺⸺⸺⸺⸺⸺⸺⸺⸺⸺⸺⸺⸺⸺⸺⸺⸺⸺⸺⸺⸺⸺⸺⸺⸺⸺⸺⸺⸺⸺⸺⸺⸺⸺⸺⸺⸺⸺⸺⸺⸺⸺⸺⸺\n",
      "role\tuser\n",
      "content\tIs the secret number greater than 80?\n",
      "timestamp\t2023-10-27T21:46:01.569275-04:00\n",
      "⸺⸺⸺⸺⸺⸺⸺⸺⸺⸺⸺⸺⸺⸺⸺⸺⸺⸺⸺⸺⸺⸺⸺⸺⸺⸺⸺⸺⸺⸺⸺⸺⸺⸺⸺⸺⸺⸺⸺⸺⸺⸺⸺⸺⸺⸺⸺⸺⸺⸺⸺⸺⸺⸺⸺⸺⸺⸺⸺⸺\n",
      "role\tassistant\n",
      "content\tNo, the secret number is not greater than 80.\n",
      "\n",
      "You have asked 6 questions so far. The secret number is between 71 and 80.\n",
      "\n",
      "Do you have another question?\n",
      "timestamp\t2023-10-27T21:46:03.309595-04:00\n",
      "⸺⸺⸺⸺⸺⸺⸺⸺⸺⸺⸺⸺⸺⸺⸺⸺⸺⸺⸺⸺⸺⸺⸺⸺⸺⸺⸺⸺⸺⸺⸺⸺⸺⸺⸺⸺⸺⸺⸺⸺⸺⸺⸺⸺⸺⸺⸺⸺⸺⸺⸺⸺⸺⸺⸺⸺⸺⸺⸺⸺\n",
      "role\tuser\n",
      "content\tIs the secret number greater than 75?\n",
      "timestamp\t2023-10-27T21:46:04.253499-04:00\n",
      "⸺⸺⸺⸺⸺⸺⸺⸺⸺⸺⸺⸺⸺⸺⸺⸺⸺⸺⸺⸺⸺⸺⸺⸺⸺⸺⸺⸺⸺⸺⸺⸺⸺⸺⸺⸺⸺⸺⸺⸺⸺⸺⸺⸺⸺⸺⸺⸺⸺⸺⸺⸺⸺⸺⸺⸺⸺⸺⸺⸺\n",
      "role\tassistant\n",
      "content\tNo, the secret number is not greater than 75.\n",
      "\n",
      "You have asked 7 questions so far. The secret number is between 71 and 75.\n",
      "\n",
      "Do you have another question?\n",
      "timestamp\t2023-10-27T21:46:06.089550-04:00\n",
      "⸺⸺⸺⸺⸺⸺⸺⸺⸺⸺⸺⸺⸺⸺⸺⸺⸺⸺⸺⸺⸺⸺⸺⸺⸺⸺⸺⸺⸺⸺⸺⸺⸺⸺⸺⸺⸺⸺⸺⸺⸺⸺⸺⸺⸺⸺⸺⸺⸺⸺⸺⸺⸺⸺⸺⸺⸺⸺⸺⸺\n",
      "role\tuser\n",
      "content\tIs the secret number greater than 73?\n",
      "timestamp\t2023-10-27T21:46:06.808762-04:00\n",
      "⸺⸺⸺⸺⸺⸺⸺⸺⸺⸺⸺⸺⸺⸺⸺⸺⸺⸺⸺⸺⸺⸺⸺⸺⸺⸺⸺⸺⸺⸺⸺⸺⸺⸺⸺⸺⸺⸺⸺⸺⸺⸺⸺⸺⸺⸺⸺⸺⸺⸺⸺⸺⸺⸺⸺⸺⸺⸺⸺⸺\n",
      "role\tassistant\n",
      "content\tNo, the secret number is not greater than 73.\n",
      "\n",
      "You have asked 8 questions so far. The secret number is between 71 and 73.\n",
      "\n",
      "Do you have another question?\n",
      "timestamp\t2023-10-27T21:46:08.652302-04:00\n",
      "⸺⸺⸺⸺⸺⸺⸺⸺⸺⸺⸺⸺⸺⸺⸺⸺⸺⸺⸺⸺⸺⸺⸺⸺⸺⸺⸺⸺⸺⸺⸺⸺⸺⸺⸺⸺⸺⸺⸺⸺⸺⸺⸺⸺⸺⸺⸺⸺⸺⸺⸺⸺⸺⸺⸺⸺⸺⸺⸺⸺\n",
      "role\tuser\n",
      "content\tIs the secret number greater than 72?\n",
      "timestamp\t2023-10-27T21:46:09.366400-04:00\n",
      "⸺⸺⸺⸺⸺⸺⸺⸺⸺⸺⸺⸺⸺⸺⸺⸺⸺⸺⸺⸺⸺⸺⸺⸺⸺⸺⸺⸺⸺⸺⸺⸺⸺⸺⸺⸺⸺⸺⸺⸺⸺⸺⸺⸺⸺⸺⸺⸺⸺⸺⸺⸺⸺⸺⸺⸺⸺⸺⸺⸺\n",
      "role\tassistant\n",
      "content\tNo, the secret number is not greater than 72.\n",
      "\n",
      "You have asked 9 questions so far. The secret number is 71.\n",
      "\n",
      "Do you have another question?\n",
      "timestamp\t2023-10-27T21:46:10.894990-04:00\n",
      "⸺⸺⸺⸺⸺⸺⸺⸺⸺⸺⸺⸺⸺⸺⸺⸺⸺⸺⸺⸺⸺⸺⸺⸺⸺⸺⸺⸺⸺⸺⸺⸺⸺⸺⸺⸺⸺⸺⸺⸺⸺⸺⸺⸺⸺⸺⸺⸺⸺⸺⸺⸺⸺⸺⸺⸺⸺⸺⸺⸺\n",
      "role\tuser\n",
      "content\tIs the secret number 71?\n",
      "timestamp\t2023-10-27T21:46:11.470754-04:00\n",
      "⸺⸺⸺⸺⸺⸺⸺⸺⸺⸺⸺⸺⸺⸺⸺⸺⸺⸺⸺⸺⸺⸺⸺⸺⸺⸺⸺⸺⸺⸺⸺⸺⸺⸺⸺⸺⸺⸺⸺⸺⸺⸺⸺⸺⸺⸺⸺⸺⸺⸺⸺⸺⸺⸺⸺⸺⸺⸺⸺⸺\n",
      "role\tassistant\n",
      "content\tNo, the secret number is not 71.\n",
      "\n",
      "You have asked 10 questions so far. The secret number is 97.\n",
      "\n",
      "Do you have another question?\n",
      "timestamp\t2023-10-27T21:46:13.002027-04:00\n",
      "⸺⸺⸺⸺⸺⸺⸺⸺⸺⸺⸺⸺⸺⸺⸺⸺⸺⸺⸺⸺⸺⸺⸺⸺⸺⸺⸺⸺⸺⸺⸺⸺⸺⸺⸺⸺⸺⸺⸺⸺⸺⸺⸺⸺⸺⸺⸺⸺⸺⸺⸺⸺⸺⸺⸺⸺⸺⸺⸺⸺\n",
      "role\tuser\n",
      "content\tIs the secret number 97?\n",
      "timestamp\t2023-10-27T21:46:14.227101-04:00\n",
      "⸺⸺⸺⸺⸺⸺⸺⸺⸺⸺⸺⸺⸺⸺⸺⸺⸺⸺⸺⸺⸺⸺⸺⸺⸺⸺⸺⸺⸺⸺⸺⸺⸺⸺⸺⸺⸺⸺⸺⸺⸺⸺⸺⸺⸺⸺⸺⸺⸺⸺⸺⸺⸺⸺⸺⸺⸺⸺⸺⸺\n",
      "role\tassistant\n",
      "content\tYes, the secret number is 97. You have asked 12 questions so far. You have used 12 questions to guess the secret number. That is a good job!\n",
      "timestamp\t2023-10-27T21:46:16.968280-04:00\n",
      "⸺⸺⸺⸺⸺⸺⸺⸺⸺⸺⸺⸺⸺⸺⸺⸺⸺⸺⸺⸺⸺⸺⸺⸺⸺⸺⸺⸺⸺⸺⸺⸺⸺⸺⸺⸺⸺⸺⸺⸺⸺⸺⸺⸺⸺⸺⸺⸺⸺⸺⸺⸺⸺⸺⸺⸺⸺⸺⸺⸺\n",
      "role\tuser\n",
      "content\tThank you! I'm glad I was able to guess the secret number correctly. It was a fun game. If you want to play again, just let me know!\n",
      "timestamp\t2023-10-27T21:46:18.173371-04:00\n",
      "⸺⸺⸺⸺⸺⸺⸺⸺⸺⸺⸺⸺⸺⸺⸺⸺⸺⸺⸺⸺⸺⸺⸺⸺⸺⸺⸺⸺⸺⸺⸺⸺⸺⸺⸺⸺⸺⸺⸺⸺⸺⸺⸺⸺⸺⸺⸺⸺⸺⸺⸺⸺⸺⸺⸺⸺⸺⸺⸺⸺\n",
      "role\tassistant\n",
      "content\tYou're welcome! I'm glad you enjoyed the game. I would love to play again sometime.\n",
      "timestamp\t2023-10-27T21:46:19.398515-04:00\n",
      "⸺⸺⸺⸺⸺⸺⸺⸺⸺⸺⸺⸺⸺⸺⸺⸺⸺⸺⸺⸺⸺⸺⸺⸺⸺⸺⸺⸺⸺⸺⸺⸺⸺⸺⸺⸺⸺⸺⸺⸺⸺⸺⸺⸺⸺⸺⸺⸺⸺⸺⸺⸺⸺⸺⸺⸺⸺⸺⸺⸺\n",
      "role\tuser\n",
      "content\tGreat! I look forward to playing again with you. Just let me know when you're ready for another round of guessing.\n",
      "timestamp\t2023-10-27T21:46:20.515645-04:00\n",
      "⸺⸺⸺⸺⸺⸺⸺⸺⸺⸺⸺⸺⸺⸺⸺⸺⸺⸺⸺⸺⸺⸺⸺⸺⸺⸺⸺⸺⸺⸺⸺⸺⸺⸺⸺⸺⸺⸺⸺⸺⸺⸺⸺⸺⸺⸺⸺⸺⸺⸺⸺⸺⸺⸺⸺⸺⸺⸺⸺⸺\n",
      "role\tassistant\n",
      "content\tI'm ready for another round of guessing whenever you are!\n",
      "timestamp\t2023-10-27T21:46:21.804366-04:00\n"
     ]
    }
   ],
   "source": [
    "$oracleChat.say"
   ]
  }
 ],
 "metadata": {
  "kernelspec": {
   "display_name": "RakuChatbook",
   "language": "raku",
   "name": "raku"
  },
  "language_info": {
   "file_extension": ".raku",
   "mimetype": "text/plain",
   "name": "raku",
   "version": "6.d"
  }
 },
 "nbformat": 4,
 "nbformat_minor": 5
}
