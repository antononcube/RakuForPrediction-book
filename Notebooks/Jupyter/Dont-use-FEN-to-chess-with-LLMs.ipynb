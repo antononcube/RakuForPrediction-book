{
 "cells": [
  {
   "cell_type": "markdown",
   "metadata": {},
   "source": [
    "# Don't use Forsyth-Edwards Notation to play chess with LLMs"
   ]
  },
  {
   "cell_type": "markdown",
   "metadata": {},
   "source": [
    "Anton Antonov    \n",
    "Raku Advent Calendar 2024   \n",
    "November 2024   "
   ]
  },
  {
   "cell_type": "markdown",
   "metadata": {},
   "source": [
    "-----\n",
    "\n",
    "## Introduction"
   ]
  },
  {
   "cell_type": "markdown",
   "metadata": {},
   "source": [
    "This notebook (computational document) shows several topics:\n",
    "\n",
    "- Making nice plots of chess positions (using Raku's \"JavaScript::D3\")\n",
    "- Staging and interactively using an LLM persona for playing chess\n",
    "- Deficiencies of LLMs playing chess via [Forsyth-Edwards Notion](https://en.wikipedia.org/wiki/Forsyth–Edwards_Notation)."
   ]
  },
  {
   "cell_type": "markdown",
   "metadata": {},
   "source": [
    "**Remark:** Playing chess (really) well with LLMs is not the focus of this notebook (document.)"
   ]
  },
  {
   "cell_type": "markdown",
   "metadata": {},
   "source": [
    "### On chess playing"
   ]
  },
  {
   "cell_type": "markdown",
   "metadata": {},
   "source": [
    "There are plenty of (research) articles, posts, software packages, or coding projects about *LLMs-and-chess*.\n",
    "\n",
    "At least half a dozen of those articles and posts proclaim much better results than the examples given below.\n",
    "\n",
    "Those articles or posts, though, use:\n",
    "\n",
    "- Well known chess games\n",
    "- Other than FEN notations \n",
    "    - Portable Game Notation (PGN)\n",
    "    - Arithmetic Notation (AN)\n",
    "    - Textual/ASCII chess position representation\n",
    "- Connections to 3rd party programs"
   ]
  },
  {
   "cell_type": "markdown",
   "metadata": {},
   "source": [
    "------\n",
    "\n",
    "## LLM persona -- ***ChessMaster***"
   ]
  },
  {
   "cell_type": "markdown",
   "metadata": {},
   "source": [
    "Here is the prompt of an LLM persona for playing chess:"
   ]
  },
  {
   "cell_type": "code",
   "execution_count": 24,
   "metadata": {},
   "outputs": [
    {
     "data": {
      "text/plain": [
       "Chat object created with ID : cm."
      ]
     },
     "execution_count": 24,
     "metadata": {},
     "output_type": "execute_result"
    }
   ],
   "source": [
    "#% chat cm prompt, model=gpt-4o, max-tokens=4096, temperature=0.25\n",
    "You are a ChessMaster engaged in a text-based chess game. You play the opponent, usually with the black chess pieces and pawns. \n",
    "The game should be easy to follow and adhere to standard chess rules. \n",
    "\n",
    "Here is how you behave:\n",
    "\n",
    "- Forsyth-Edwards Notation (FEN) strings to communicate the state of the gameplay.\n",
    "\n",
    "- Ensure you play by standard chess rules.\n",
    "\n",
    "- Ensure the game interprets and executes these moves correctly.\n",
    "\n",
    "- Allow the player to input using \n",
    "    1. Algebraic Notation (AN) input, for example, \"e2 to e4\" to move a pawn\n",
    "    2. Descriptive input, like, \"bishop from a3 to f8\" \n",
    "\n",
    "- When the user gives you AN string you respond with three strings: \n",
    "    1. FEN position after user's AN input is played\n",
    "    2. Your move given as AN string\n",
    "    3. FEN position after your AN move is played\n",
    "\n",
    "- If asked provide clear feedback to the player after each move, including the move itself.\n",
    "    - For example, \"You moved: e2 to e4\" and \"Opponent moved: e7 to e5\".\n",
    "\n",
    "- If you take a figure of the user make sure say that in your responses. \n",
    "\n",
    "- If asked provide player guidance\n",
    "    - Include in-game guidance resources or instructions that explain chess rules, move input, and special conditions like check and checkmate.\n",
    "    \n",
    "- Proclaim when the user gives you AN move that is wrong, non-complient with the stanard chess rules.\n",
    "\n",
    "- When the user asks you to start a game without specifying a FEN string:\n",
    "    - You give the standard initial position as start.\n",
    "    \n",
    "- You play the black opponent, the user plays the white, except if the user says that he plays the black side."
   ]
  },
  {
   "cell_type": "markdown",
   "metadata": {},
   "source": [
    "A few observations on the prompt above:\n",
    "\n",
    "- The prompt is carefully crafted.\n",
    "    - Other research efforts often use much shorter prompts like \"You chess master.\"\n",
    "- FEN is explicitly postulated as the way to communicate the \"game field.\"\n",
    "- Both AN and plain English are \"allowed\" as user input."
   ]
  },
  {
   "cell_type": "markdown",
   "metadata": {},
   "source": [
    "**Remark:** Below the LLM persona is referred to as \"ChessMaster\" or \"CM\"."
   ]
  },
  {
   "cell_type": "markdown",
   "metadata": {},
   "source": [
    "--------\n",
    "\n",
    "## Chess position plotting setup"
   ]
  },
  {
   "cell_type": "markdown",
   "metadata": {},
   "source": [
    "This section shows the setup for plotting chess positions *while using a [Raku Chatbook](https://raku.land/zef:antononcube/Jupyter::Chatbook)*."
   ]
  },
  {
   "cell_type": "markdown",
   "metadata": {},
   "source": [
    "Packages:"
   ]
  },
  {
   "cell_type": "code",
   "execution_count": 2,
   "metadata": {},
   "outputs": [],
   "source": [
    "use Data::Importers;\n",
    "use FEN::Grammar;\n",
    "use JavaScript::D3;\n",
    "use JavaScript::D3::Chess; # Needed only to show tuning parameters \n"
   ]
  },
  {
   "cell_type": "markdown",
   "metadata": {},
   "source": [
    "Priming for JavaScript plots code rendering:"
   ]
  },
  {
   "cell_type": "code",
   "execution_count": 3,
   "metadata": {},
   "outputs": [
    {
     "data": {
      "application/javascript": "require.config({\n     paths: {\n     d3: 'https://d3js.org/d3.v7.min'\n}});\n\nrequire(['d3'], function(d3) {\n     console.log(d3);\n});"
     },
     "execution_count": 3,
     "metadata": {},
     "output_type": "execute_result"
    }
   ],
   "source": [
    "%% javascript\n",
    "require.config({\n",
    "     paths: {\n",
    "     d3: 'https://d3js.org/d3.v7.min'\n",
    "}});\n",
    "\n",
    "require(['d3'], function(d3) {\n",
    "     console.log(d3);\n",
    "});"
   ]
  },
  {
   "cell_type": "markdown",
   "metadata": {},
   "source": [
    "Styling options, (default and \"greens\"):"
   ]
  },
  {
   "cell_type": "code",
   "execution_count": 4,
   "metadata": {},
   "outputs": [
    {
     "data": {
      "text/plain": [
       "(8 11)"
      ]
     },
     "execution_count": 4,
     "metadata": {},
     "output_type": "execute_result"
    }
   ],
   "source": [
    "# Default style\n",
    "my %opts =\n",
    "    color-palette => 'YlOrBr',\n",
    "    black-square-value => 0.75,\n",
    "    white-square-value => 0.25,\n",
    "    whites-stroke-color => 'darkslategrey',\n",
    "    tick-labels-color => 'grey',\n",
    "    background => '#1F1F1F',\n",
    "    title-color => 'Silver',\n",
    "    width => 400;\n",
    "\n",
    "# chess.com style\n",
    "my %opts-greens =\n",
    "    color-palette => 'Greens',\n",
    "    black-square-value => 0.8,\n",
    "    white-square-value => 0.2,\n",
    "    whites-fill-color => 'White',\n",
    "    whites-stroke-color => 'DarkSlateGray',\n",
    "    blacks-fill-color => '#1F1F1F',\n",
    "    blacks-stroke-color => 'Black',\n",
    "    tick-labels-color => 'Grey',\n",
    "    background => '#1F1F1F',\n",
    "    title-color => 'Silver',\n",
    "    width => 400;\n",
    "\n",
    "(%opts.elems, %opts-greens.elems)"
   ]
  },
  {
   "cell_type": "markdown",
   "metadata": {},
   "source": [
    "Example of initial chess position plot (without using a FEN string):"
   ]
  },
  {
   "cell_type": "code",
   "execution_count": 5,
   "metadata": {},
   "outputs": [
    {
     "data": {
      "application/javascript": "(function(element) { require(['d3'], function(d3) {\n\n// set the dimensions and margins of the graph\nvar margin = {\"left\":40,\"bottom\":40,\"top\":40,\"right\":40},\n    width = 400 - margin.left - margin.right,\n    height = 400 - margin.top - margin.bottom;\n\n// append the svg object to the body of the page\nvar svg = d3\n   .select(element.get(0))\n  .append(\"svg\")\n    .attr(\"width\", width + margin.left + margin.right)\n    .attr(\"height\", height + margin.top + margin.bottom)\n    .style(\"background\", \"#1F1F1F\")\n  .append(\"g\")\n    .attr(\"transform\",\n          \"translate(\" + margin.left + \",\" + margin.top + \")\")\n\n// Obtain title\nvar title = \"Initial position\"\nvar titleFontSize = 16\n\nif ( title.length > 0 ) {\n    svg.append(\"text\")\n        .attr(\"x\", (width / 2))\n        .attr(\"y\", 0 - (margin.top / 2))\n        .attr(\"text-anchor\", \"middle\")\n        .style(\"font-size\", titleFontSize.toString() + \"px\")\n        .style(\"fill\", \"Silver\")\n        .text(title);\n}\n\n// Obtain data\nvar data = [{\"x\":\"a\",\"z\":0.75,\"y\":\"1\"},{\"z\":0.25,\"x\":\"a\",\"y\":\"2\"},{\"z\":0.75,\"y\":\"3\",\"x\":\"a\"},{\"z\":0.25,\"y\":\"4\",\"x\":\"a\"},{\"z\":0.75,\"y\":\"5\",\"x\":\"a\"},{\"z\":0.25,\"x\":\"a\",\"y\":\"6\"},{\"y\":\"7\",\"x\":\"a\",\"z\":0.75},{\"z\":0.25,\"y\":\"8\",\"x\":\"a\"},{\"x\":\"b\",\"y\":\"1\",\"z\":0.25},{\"y\":\"2\",\"z\":0.75,\"x\":\"b\"},{\"z\":0.25,\"y\":\"3\",\"x\":\"b\"},{\"z\":0.75,\"y\":\"4\",\"x\":\"b\"},{\"x\":\"b\",\"z\":0.25,\"y\":\"5\"},{\"x\":\"b\",\"z\":0.75,\"y\":\"6\"},{\"x\":\"b\",\"y\":\"7\",\"z\":0.25},{\"z\":0.75,\"x\":\"b\",\"y\":\"8\"},{\"y\":\"1\",\"z\":0.75,\"x\":\"c\"},{\"y\":\"2\",\"x\":\"c\",\"z\":0.25},{\"y\":\"3\",\"z\":0.75,\"x\":\"c\"},{\"z\":0.25,\"x\":\"c\",\"y\":\"4\"},{\"y\":\"5\",\"z\":0.75,\"x\":\"c\"},{\"y\":\"6\",\"z\":0.25,\"x\":\"c\"},{\"z\":0.75,\"x\":\"c\",\"y\":\"7\"},{\"z\":0.25,\"x\":\"c\",\"y\":\"8\"},{\"x\":\"d\",\"z\":0.25,\"y\":\"1\"},{\"y\":\"2\",\"z\":0.75,\"x\":\"d\"},{\"x\":\"d\",\"y\":\"3\",\"z\":0.25},{\"y\":\"4\",\"z\":0.75,\"x\":\"d\"},{\"x\":\"d\",\"z\":0.25,\"y\":\"5\"},{\"z\":0.75,\"x\":\"d\",\"y\":\"6\"},{\"y\":\"7\",\"z\":0.25,\"x\":\"d\"},{\"x\":\"d\",\"z\":0.75,\"y\":\"8\"},{\"y\":\"1\",\"x\":\"e\",\"z\":0.75},{\"y\":\"2\",\"z\":0.25,\"x\":\"e\"},{\"x\":\"e\",\"y\":\"3\",\"z\":0.75},{\"y\":\"4\",\"z\":0.25,\"x\":\"e\"},{\"z\":0.75,\"y\":\"5\",\"x\":\"e\"},{\"x\":\"e\",\"y\":\"6\",\"z\":0.25},{\"y\":\"7\",\"z\":0.75,\"x\":\"e\"},{\"z\":0.25,\"x\":\"e\",\"y\":\"8\"},{\"z\":0.25,\"x\":\"f\",\"y\":\"1\"},{\"z\":0.75,\"x\":\"f\",\"y\":\"2\"},{\"z\":0.25,\"y\":\"3\",\"x\":\"f\"},{\"y\":\"4\",\"x\":\"f\",\"z\":0.75},{\"y\":\"5\",\"x\":\"f\",\"z\":0.25},{\"y\":\"6\",\"z\":0.75,\"x\":\"f\"},{\"y\":\"7\",\"z\":0.25,\"x\":\"f\"},{\"z\":0.75,\"y\":\"8\",\"x\":\"f\"},{\"y\":\"1\",\"x\":\"g\",\"z\":0.75},{\"z\":0.25,\"y\":\"2\",\"x\":\"g\"},{\"z\":0.75,\"x\":\"g\",\"y\":\"3\"},{\"z\":0.25,\"y\":\"4\",\"x\":\"g\"},{\"x\":\"g\",\"z\":0.75,\"y\":\"5\"},{\"x\":\"g\",\"z\":0.25,\"y\":\"6\"},{\"z\":0.75,\"y\":\"7\",\"x\":\"g\"},{\"x\":\"g\",\"z\":0.25,\"y\":\"8\"},{\"z\":0.25,\"x\":\"h\",\"y\":\"1\"},{\"x\":\"h\",\"y\":\"2\",\"z\":0.75},{\"z\":0.25,\"y\":\"3\",\"x\":\"h\"},{\"y\":\"4\",\"x\":\"h\",\"z\":0.75},{\"z\":0.25,\"y\":\"5\",\"x\":\"h\"},{\"z\":0.75,\"y\":\"6\",\"x\":\"h\"},{\"x\":\"h\",\"z\":0.25,\"y\":\"7\"},{\"z\":0.75,\"y\":\"8\",\"x\":\"h\"}];\n\nvar myGroups = [];\nvar myVars = [];\n\nif (myGroups.length === 0) {\n    myGroups = Array.from(new Set(data.map(d => d.x)));\n}\nif (myVars.length === 0) {\n    myVars = Array.from(new Set(data.map(d => d.y)));\n}\n\nif (true) {\n    myGroups = myGroups.sort(d3.ascending);\n    myVars = myVars.sort(d3.ascending);\n}\n\n// Build X scales and axis:\nvar x = d3.scaleBand()\n    .range([0, width])\n    .domain(myGroups)\n    ;\n\nsvg.append(\"g\")\n    .style(\"font-size\", \"13px\")\n    .style(\"stroke\", \"grey\")\n    .style(\"stroke-width\", \"1px\")\n    .attr(\"font-family\", \"Helvetica\")\n    .attr(\"transform\", `translate(0, ${height})`)\n    .call(d3.axisBottom(x).tickSize(0))\n    .select(\".domain\").remove();\n\n// Build Y scales and axis:\nvar y = d3.scaleBand()\n    .range([height, 0])\n    .domain(myVars)\n    ;\n\nsvg.append(\"g\")\n    .style(\"font-size\", \"13px\")\n    .style(\"stroke\", \"grey\")\n    .style(\"stroke-width\", \"1px\")\n    .attr(\"font-family\", \"Helvetica\")\n    .call(d3.axisLeft(y).tickSize(0))\n    .select(\".domain\").remove();\n\n// Build color scale\nvar myColor = d3.scaleSequential()\n    .interpolator(d3.interpolateYlOrBr)\n    .domain([0, 1]);\n\n\n\n// add the squares\nsvg.selectAll()\n    .data(data, d => d.x + ':' + d.y)\n    .join(\"rect\")\n    .attr(\"x\", d => x(d.x))\n    .attr(\"y\", d => y(d.y))\n    \n    \n    .attr(\"width\", x.bandwidth())\n    .attr(\"height\", y.bandwidth())\n    .style(\"fill\", d => myColor(d.z))\n    .style(\"stroke-width\", 4)\n    .style(\"stroke\", \"none\")\n    .style(\"opacity\", 0.8)\n    \n    \n    ;\n\n// add the grid\nif ( false) {\n    svg.selectAll()\n        .data(data, d => d.x + ':' + d.y)\n        .join(\"rect\")\n        .attr(\"x\", d => x(d.x))\n        .attr(\"y\", d => y(d.y))\n        .attr(\"rx\", 0)\n        .attr(\"ry\", 0)\n        .attr(\"width\", x.bandwidth())\n        .attr(\"height\", y.bandwidth())\n        .style(\"fill\", \"none\")\n        .style(\"stroke-width\", 1)\n        .style(\"stroke\", \"Gray\")\n        .style(\"opacity\", 1)\n}\n\nvar plotLabelData = [{\"x\":\"a\",\"z\":\"&#9823;\",\"y\":\"2\"},{\"y\":\"2\",\"z\":\"&#9823;\",\"x\":\"b\"},{\"y\":\"2\",\"z\":\"&#9823;\",\"x\":\"c\"},{\"z\":\"&#9823;\",\"y\":\"2\",\"x\":\"d\"},{\"z\":\"&#9823;\",\"x\":\"e\",\"y\":\"2\"},{\"x\":\"f\",\"z\":\"&#9823;\",\"y\":\"2\"},{\"x\":\"g\",\"y\":\"2\",\"z\":\"&#9823;\"},{\"x\":\"h\",\"z\":\"&#9823;\",\"y\":\"2\"},{\"z\":\"&#9820;\",\"x\":\"a\",\"y\":\"1\"},{\"x\":\"b\",\"y\":\"1\",\"z\":\"&#9822;\"},{\"x\":\"c\",\"y\":\"1\",\"z\":\"&#9821;\"},{\"y\":\"1\",\"x\":\"d\",\"z\":\"&#9819;\"},{\"y\":\"1\",\"x\":\"e\",\"z\":\"&#9818;\"},{\"z\":\"&#9821;\",\"x\":\"f\",\"y\":\"1\"},{\"y\":\"1\",\"z\":\"&#9822;\",\"x\":\"g\"},{\"y\":\"1\",\"z\":\"&#9820;\",\"x\":\"h\"}]\n\nvar hx = x.bandwidth()\nvar hy = y.bandwidth()\n\nsvg.selectAll()\n.data(plotLabelData, function(d) {return d.x+':'+d.y;})\n.join(\"text\")\n  .attr(\"x\", function(d) { return x(d.x) + hx/2 })\n  .attr(\"y\", function(d) { return y(d.y) + hy/2 + hy*0.1 })\n  .attr(\"text-anchor\", \"middle\")\n  .style(\"alignment-baseline\", \"middle\")\n  .style(\"fill\", \"white\")\n  .style(\"stroke\", \"white\")\n  .style(\"stroke-width\", \"1px\")\n  .style(\"font-size\", function(d) { return (height / 7) + \"px\" })\n  .attr(\"font-family\", \"Courier\")\n  .attr(\"font-weight\", 100)\n  .html(function(d){ return d.z });\n\nvar plotLabelData = [{\"z\":\"&#9817;\",\"y\":\"2\",\"x\":\"a\"},{\"x\":\"b\",\"y\":\"2\",\"z\":\"&#9817;\"},{\"y\":\"2\",\"x\":\"c\",\"z\":\"&#9817;\"},{\"y\":\"2\",\"z\":\"&#9817;\",\"x\":\"d\"},{\"x\":\"e\",\"z\":\"&#9817;\",\"y\":\"2\"},{\"z\":\"&#9817;\",\"x\":\"f\",\"y\":\"2\"},{\"z\":\"&#9817;\",\"x\":\"g\",\"y\":\"2\"},{\"y\":\"2\",\"x\":\"h\",\"z\":\"&#9817;\"},{\"y\":\"1\",\"z\":\"&#9814;\",\"x\":\"a\"},{\"x\":\"b\",\"z\":\"&#9816;\",\"y\":\"1\"},{\"z\":\"&#9815;\",\"x\":\"c\",\"y\":\"1\"},{\"z\":\"&#9813;\",\"y\":\"1\",\"x\":\"d\"},{\"x\":\"e\",\"z\":\"&#9812;\",\"y\":\"1\"},{\"x\":\"f\",\"y\":\"1\",\"z\":\"&#9815;\"},{\"x\":\"g\",\"y\":\"1\",\"z\":\"&#9816;\"},{\"z\":\"&#9814;\",\"x\":\"h\",\"y\":\"1\"}]\n\nvar hx = x.bandwidth()\nvar hy = y.bandwidth()\n\nsvg.selectAll()\n.data(plotLabelData, function(d) {return d.x+':'+d.y;})\n.join(\"text\")\n  .attr(\"x\", function(d) { return x(d.x) + hx/2 })\n  .attr(\"y\", function(d) { return y(d.y) + hy/2 + hy*0.1 })\n  .attr(\"text-anchor\", \"middle\")\n  .style(\"alignment-baseline\", \"middle\")\n  .style(\"fill\", \"darkslategrey\")\n  .style(\"stroke\", \"darkslategrey\")\n  .style(\"stroke-width\", \"1px\")\n  .style(\"font-size\", function(d) { return (height / 7) + \"px\" })\n  .attr(\"font-family\", \"Courier\")\n  .attr(\"font-weight\", 100)\n  .html(function(d){ return d.z });\n\nvar plotLabelData = [{\"y\":\"8\",\"x\":\"a\",\"z\":\"&#9820;\"},{\"y\":\"8\",\"z\":\"&#9822;\",\"x\":\"b\"},{\"x\":\"c\",\"y\":\"8\",\"z\":\"&#9821;\"},{\"z\":\"&#9819;\",\"y\":\"8\",\"x\":\"d\"},{\"z\":\"&#9818;\",\"y\":\"8\",\"x\":\"e\"},{\"x\":\"f\",\"y\":\"8\",\"z\":\"&#9821;\"},{\"y\":\"8\",\"z\":\"&#9822;\",\"x\":\"g\"},{\"z\":\"&#9820;\",\"x\":\"h\",\"y\":\"8\"},{\"x\":\"a\",\"z\":\"&#9823;\",\"y\":\"7\"},{\"z\":\"&#9823;\",\"x\":\"b\",\"y\":\"7\"},{\"x\":\"c\",\"z\":\"&#9823;\",\"y\":\"7\"},{\"y\":\"7\",\"x\":\"d\",\"z\":\"&#9823;\"},{\"x\":\"e\",\"y\":\"7\",\"z\":\"&#9823;\"},{\"z\":\"&#9823;\",\"x\":\"f\",\"y\":\"7\"},{\"x\":\"g\",\"y\":\"7\",\"z\":\"&#9823;\"},{\"y\":\"7\",\"x\":\"h\",\"z\":\"&#9823;\"}]\n\nvar hx = x.bandwidth()\nvar hy = y.bandwidth()\n\nsvg.selectAll()\n.data(plotLabelData, function(d) {return d.x+':'+d.y;})\n.join(\"text\")\n  .attr(\"x\", function(d) { return x(d.x) + hx/2 })\n  .attr(\"y\", function(d) { return y(d.y) + hy/2 + hy*0.1 })\n  .attr(\"text-anchor\", \"middle\")\n  .style(\"alignment-baseline\", \"middle\")\n  .style(\"fill\", \"black\")\n  .style(\"stroke\", \"black\")\n  .style(\"stroke-width\", \"1px\")\n  .style(\"font-size\", function(d) { return (height / 7) + \"px\" })\n  .attr(\"font-family\", \"Courier\")\n  .attr(\"font-weight\", 100)\n  .html(function(d){ return d.z });\n\n}) })(element);\n(function(element) { require(['d3'], function(d3) {\n\n// set the dimensions and margins of the graph\nvar margin = {\"left\":40,\"bottom\":40,\"right\":40,\"top\":40},\n    width = 400 - margin.left - margin.right,\n    height = 400 - margin.top - margin.bottom;\n\n// append the svg object to the body of the page\nvar svg = d3\n   .select(element.get(0))\n  .append(\"svg\")\n    .attr(\"width\", width + margin.left + margin.right)\n    .attr(\"height\", height + margin.top + margin.bottom)\n    .style(\"background\", \"#1F1F1F\")\n  .append(\"g\")\n    .attr(\"transform\",\n          \"translate(\" + margin.left + \",\" + margin.top + \")\")\n\n// Obtain title\nvar title = \"Empty chessboard\"\nvar titleFontSize = 16\n\nif ( title.length > 0 ) {\n    svg.append(\"text\")\n        .attr(\"x\", (width / 2))\n        .attr(\"y\", 0 - (margin.top / 2))\n        .attr(\"text-anchor\", \"middle\")\n        .style(\"font-size\", titleFontSize.toString() + \"px\")\n        .style(\"fill\", \"Silver\")\n        .text(title);\n}\n\n// Obtain data\nvar data = [{\"x\":\"a\",\"z\":0.8,\"y\":\"1\"},{\"z\":0.2,\"x\":\"a\",\"y\":\"2\"},{\"y\":\"3\",\"x\":\"a\",\"z\":0.8},{\"z\":0.2,\"y\":\"4\",\"x\":\"a\"},{\"z\":0.8,\"y\":\"5\",\"x\":\"a\"},{\"z\":0.2,\"x\":\"a\",\"y\":\"6\"},{\"y\":\"7\",\"z\":0.8,\"x\":\"a\"},{\"x\":\"a\",\"z\":0.2,\"y\":\"8\"},{\"y\":\"1\",\"x\":\"b\",\"z\":0.2},{\"z\":0.8,\"y\":\"2\",\"x\":\"b\"},{\"z\":0.2,\"x\":\"b\",\"y\":\"3\"},{\"z\":0.8,\"y\":\"4\",\"x\":\"b\"},{\"z\":0.2,\"y\":\"5\",\"x\":\"b\"},{\"x\":\"b\",\"z\":0.8,\"y\":\"6\"},{\"z\":0.2,\"x\":\"b\",\"y\":\"7\"},{\"y\":\"8\",\"z\":0.8,\"x\":\"b\"},{\"z\":0.8,\"y\":\"1\",\"x\":\"c\"},{\"x\":\"c\",\"z\":0.2,\"y\":\"2\"},{\"x\":\"c\",\"y\":\"3\",\"z\":0.8},{\"y\":\"4\",\"x\":\"c\",\"z\":0.2},{\"z\":0.8,\"x\":\"c\",\"y\":\"5\"},{\"x\":\"c\",\"y\":\"6\",\"z\":0.2},{\"z\":0.8,\"x\":\"c\",\"y\":\"7\"},{\"z\":0.2,\"x\":\"c\",\"y\":\"8\"},{\"y\":\"1\",\"x\":\"d\",\"z\":0.2},{\"y\":\"2\",\"x\":\"d\",\"z\":0.8},{\"z\":0.2,\"x\":\"d\",\"y\":\"3\"},{\"x\":\"d\",\"z\":0.8,\"y\":\"4\"},{\"x\":\"d\",\"z\":0.2,\"y\":\"5\"},{\"y\":\"6\",\"z\":0.8,\"x\":\"d\"},{\"x\":\"d\",\"z\":0.2,\"y\":\"7\"},{\"z\":0.8,\"x\":\"d\",\"y\":\"8\"},{\"y\":\"1\",\"z\":0.8,\"x\":\"e\"},{\"z\":0.2,\"x\":\"e\",\"y\":\"2\"},{\"y\":\"3\",\"z\":0.8,\"x\":\"e\"},{\"z\":0.2,\"y\":\"4\",\"x\":\"e\"},{\"y\":\"5\",\"x\":\"e\",\"z\":0.8},{\"x\":\"e\",\"z\":0.2,\"y\":\"6\"},{\"x\":\"e\",\"y\":\"7\",\"z\":0.8},{\"y\":\"8\",\"z\":0.2,\"x\":\"e\"},{\"x\":\"f\",\"z\":0.2,\"y\":\"1\"},{\"y\":\"2\",\"x\":\"f\",\"z\":0.8},{\"x\":\"f\",\"y\":\"3\",\"z\":0.2},{\"z\":0.8,\"y\":\"4\",\"x\":\"f\"},{\"z\":0.2,\"x\":\"f\",\"y\":\"5\"},{\"x\":\"f\",\"y\":\"6\",\"z\":0.8},{\"y\":\"7\",\"x\":\"f\",\"z\":0.2},{\"z\":0.8,\"y\":\"8\",\"x\":\"f\"},{\"y\":\"1\",\"z\":0.8,\"x\":\"g\"},{\"x\":\"g\",\"y\":\"2\",\"z\":0.2},{\"y\":\"3\",\"x\":\"g\",\"z\":0.8},{\"x\":\"g\",\"z\":0.2,\"y\":\"4\"},{\"y\":\"5\",\"z\":0.8,\"x\":\"g\"},{\"x\":\"g\",\"y\":\"6\",\"z\":0.2},{\"y\":\"7\",\"z\":0.8,\"x\":\"g\"},{\"x\":\"g\",\"y\":\"8\",\"z\":0.2},{\"x\":\"h\",\"y\":\"1\",\"z\":0.2},{\"x\":\"h\",\"y\":\"2\",\"z\":0.8},{\"z\":0.2,\"y\":\"3\",\"x\":\"h\"},{\"z\":0.8,\"x\":\"h\",\"y\":\"4\"},{\"z\":0.2,\"y\":\"5\",\"x\":\"h\"},{\"z\":0.8,\"x\":\"h\",\"y\":\"6\"},{\"z\":0.2,\"y\":\"7\",\"x\":\"h\"},{\"z\":0.8,\"y\":\"8\",\"x\":\"h\"}];\n\nvar myGroups = [];\nvar myVars = [];\n\nif (myGroups.length === 0) {\n    myGroups = Array.from(new Set(data.map(d => d.x)));\n}\nif (myVars.length === 0) {\n    myVars = Array.from(new Set(data.map(d => d.y)));\n}\n\nif (true) {\n    myGroups = myGroups.sort(d3.ascending);\n    myVars = myVars.sort(d3.ascending);\n}\n\n// Build X scales and axis:\nvar x = d3.scaleBand()\n    .range([0, width])\n    .domain(myGroups)\n    ;\n\nsvg.append(\"g\")\n    .style(\"font-size\", \"13px\")\n    .style(\"stroke\", \"Grey\")\n    .style(\"stroke-width\", \"1px\")\n    .attr(\"font-family\", \"Helvetica\")\n    .attr(\"transform\", `translate(0, ${height})`)\n    .call(d3.axisBottom(x).tickSize(0))\n    .select(\".domain\").remove();\n\n// Build Y scales and axis:\nvar y = d3.scaleBand()\n    .range([height, 0])\n    .domain(myVars)\n    ;\n\nsvg.append(\"g\")\n    .style(\"font-size\", \"13px\")\n    .style(\"stroke\", \"Grey\")\n    .style(\"stroke-width\", \"1px\")\n    .attr(\"font-family\", \"Helvetica\")\n    .call(d3.axisLeft(y).tickSize(0))\n    .select(\".domain\").remove();\n\n// Build color scale\nvar myColor = d3.scaleSequential()\n    .interpolator(d3.interpolateGreens)\n    .domain([0, 1]);\n\n\n\n// add the squares\nsvg.selectAll()\n    .data(data, d => d.x + ':' + d.y)\n    .join(\"rect\")\n    .attr(\"x\", d => x(d.x))\n    .attr(\"y\", d => y(d.y))\n    \n    \n    .attr(\"width\", x.bandwidth())\n    .attr(\"height\", y.bandwidth())\n    .style(\"fill\", d => myColor(d.z))\n    .style(\"stroke-width\", 4)\n    .style(\"stroke\", \"none\")\n    .style(\"opacity\", 0.8)\n    \n    \n    ;\n\n// add the grid\nif ( false) {\n    svg.selectAll()\n        .data(data, d => d.x + ':' + d.y)\n        .join(\"rect\")\n        .attr(\"x\", d => x(d.x))\n        .attr(\"y\", d => y(d.y))\n        .attr(\"rx\", 0)\n        .attr(\"ry\", 0)\n        .attr(\"width\", x.bandwidth())\n        .attr(\"height\", y.bandwidth())\n        .style(\"fill\", \"none\")\n        .style(\"stroke-width\", 1)\n        .style(\"stroke\", \"Gray\")\n        .style(\"opacity\", 1)\n}\n\n}) })(element);\n"
     },
     "execution_count": 5,
     "metadata": {},
     "output_type": "execute_result"
    }
   ],
   "source": [
    "#%js\n",
    "js-d3-chessboard(|%opts, title => 'Initial position') ~\n",
    "js-d3-chessboard('8/8/8/8/8/8/8/8',|%opts-greens, title => 'Empty chessboard')"
   ]
  },
  {
   "cell_type": "markdown",
   "metadata": {},
   "source": [
    "Using a different plotting style with non-trivial FEN strings:"
   ]
  },
  {
   "cell_type": "code",
   "execution_count": 6,
   "metadata": {},
   "outputs": [
    {
     "data": {
      "application/javascript": "(function(element) { require(['d3'], function(d3) {\n\n\n\n// set the dimensions and margins of the graph\nvar margin = {\"bottom\":15,\"top\":15,\"right\":15,\"left\":15},\n    width = 350 - margin.left - margin.right,\n    height = 350 - margin.top - margin.bottom;\n\n// append the svg object to the body of the page\nvar svg = d3\n   .select(element.get(0))\n  .append(\"svg\")\n    .attr(\"width\", width + margin.left + margin.right)\n    .attr(\"height\", height + margin.top + margin.bottom)\n    .style(\"background\", \"#282828\")\n  .append(\"g\")\n    .attr(\"transform\",\n          \"translate(\" + margin.left + \",\" + margin.top + \")\")\n\n// Obtain title\nvar title = \"\"\nvar titleFontSize = 16\n\nif ( title.length > 0 ) {\n    svg.append(\"text\")\n        .attr(\"x\", (width / 2))\n        .attr(\"y\", 0 - (margin.top / 2))\n        .attr(\"text-anchor\", \"middle\")\n        .style(\"font-size\", titleFontSize.toString() + \"px\")\n        .style(\"fill\", \"Black\")\n        .text(title);\n}\n\n// Obtain data\nvar data = [{\"x\":\"a\",\"y\":\"1\",\"z\":0.5},{\"x\":\"a\",\"y\":\"2\",\"z\":0.15},{\"x\":\"a\",\"y\":\"3\",\"z\":0.5},{\"x\":\"a\",\"y\":\"4\",\"z\":0.15},{\"y\":\"5\",\"z\":0.5,\"x\":\"a\"},{\"x\":\"a\",\"z\":0.15,\"y\":\"6\"},{\"z\":0.5,\"y\":\"7\",\"x\":\"a\"},{\"x\":\"a\",\"z\":0.15,\"y\":\"8\"},{\"z\":0.15,\"y\":\"1\",\"x\":\"b\"},{\"z\":0.5,\"y\":\"2\",\"x\":\"b\"},{\"y\":\"3\",\"z\":0.15,\"x\":\"b\"},{\"z\":0.5,\"y\":\"4\",\"x\":\"b\"},{\"z\":0.15,\"y\":\"5\",\"x\":\"b\"},{\"z\":0.5,\"x\":\"b\",\"y\":\"6\"},{\"x\":\"b\",\"y\":\"7\",\"z\":0.15},{\"z\":0.5,\"y\":\"8\",\"x\":\"b\"},{\"x\":\"c\",\"y\":\"1\",\"z\":0.5},{\"x\":\"c\",\"z\":0.15,\"y\":\"2\"},{\"x\":\"c\",\"z\":0.5,\"y\":\"3\"},{\"x\":\"c\",\"y\":\"4\",\"z\":0.15},{\"x\":\"c\",\"y\":\"5\",\"z\":0.5},{\"z\":0.15,\"x\":\"c\",\"y\":\"6\"},{\"y\":\"7\",\"x\":\"c\",\"z\":0.5},{\"y\":\"8\",\"x\":\"c\",\"z\":0.15},{\"y\":\"1\",\"x\":\"d\",\"z\":0.15},{\"x\":\"d\",\"z\":0.5,\"y\":\"2\"},{\"y\":\"3\",\"x\":\"d\",\"z\":0.15},{\"x\":\"d\",\"y\":\"4\",\"z\":0.5},{\"z\":0.15,\"y\":\"5\",\"x\":\"d\"},{\"x\":\"d\",\"z\":0.5,\"y\":\"6\"},{\"x\":\"d\",\"z\":0.15,\"y\":\"7\"},{\"x\":\"d\",\"y\":\"8\",\"z\":0.5},{\"z\":0.5,\"y\":\"1\",\"x\":\"e\"},{\"z\":0.15,\"x\":\"e\",\"y\":\"2\"},{\"y\":\"3\",\"z\":0.5,\"x\":\"e\"},{\"z\":0.15,\"y\":\"4\",\"x\":\"e\"},{\"z\":0.5,\"x\":\"e\",\"y\":\"5\"},{\"x\":\"e\",\"y\":\"6\",\"z\":0.15},{\"z\":0.5,\"x\":\"e\",\"y\":\"7\"},{\"x\":\"e\",\"z\":0.15,\"y\":\"8\"},{\"z\":0.15,\"y\":\"1\",\"x\":\"f\"},{\"x\":\"f\",\"z\":0.5,\"y\":\"2\"},{\"y\":\"3\",\"z\":0.15,\"x\":\"f\"},{\"z\":0.5,\"x\":\"f\",\"y\":\"4\"},{\"x\":\"f\",\"z\":0.15,\"y\":\"5\"},{\"y\":\"6\",\"z\":0.5,\"x\":\"f\"},{\"z\":0.15,\"x\":\"f\",\"y\":\"7\"},{\"y\":\"8\",\"x\":\"f\",\"z\":0.5},{\"z\":0.5,\"y\":\"1\",\"x\":\"g\"},{\"z\":0.15,\"y\":\"2\",\"x\":\"g\"},{\"z\":0.5,\"x\":\"g\",\"y\":\"3\"},{\"y\":\"4\",\"x\":\"g\",\"z\":0.15},{\"z\":0.5,\"y\":\"5\",\"x\":\"g\"},{\"x\":\"g\",\"y\":\"6\",\"z\":0.15},{\"x\":\"g\",\"y\":\"7\",\"z\":0.5},{\"z\":0.15,\"y\":\"8\",\"x\":\"g\"},{\"x\":\"h\",\"y\":\"1\",\"z\":0.15},{\"x\":\"h\",\"y\":\"2\",\"z\":0.5},{\"z\":0.15,\"x\":\"h\",\"y\":\"3\"},{\"y\":\"4\",\"z\":0.5,\"x\":\"h\"},{\"y\":\"5\",\"x\":\"h\",\"z\":0.15},{\"x\":\"h\",\"y\":\"6\",\"z\":0.5},{\"x\":\"h\",\"z\":0.15,\"y\":\"7\"},{\"z\":0.5,\"x\":\"h\",\"y\":\"8\"}];\n\nvar myGroups = [];\nvar myVars = [];\n\nif (myGroups.length === 0) {\n    myGroups = Array.from(new Set(data.map(d => d.x)));\n}\nif (myVars.length === 0) {\n    myVars = Array.from(new Set(data.map(d => d.y)));\n}\n\nif (true) {\n    myGroups = myGroups.sort(d3.ascending);\n    myVars = myVars.sort(d3.ascending);\n}\n\n// Build X scales and axis:\nvar x = d3.scaleBand()\n    .range([0, width])\n    .domain(myGroups)\n    ;\n\nsvg.append(\"g\")\n    .style(\"font-size\", \"12px\")\n    .style(\"stroke\", \"silver\")\n    .style(\"stroke-width\", \"1px\")\n    .attr(\"font-family\", \"Helvetica\")\n    .attr(\"transform\", `translate(0, ${height})`)\n    .call(d3.axisBottom(x).tickSize(0))\n    .select(\".domain\").remove();\n\n// Build Y scales and axis:\nvar y = d3.scaleBand()\n    .range([height, 0])\n    .domain(myVars)\n    ;\n\nsvg.append(\"g\")\n    .style(\"font-size\", \"12px\")\n    .style(\"stroke\", \"silver\")\n    .style(\"stroke-width\", \"1px\")\n    .attr(\"font-family\", \"Helvetica\")\n    .call(d3.axisLeft(y).tickSize(0))\n    .select(\".domain\").remove();\n\n// Build color scale\nvar myColor = d3.scaleSequential()\n    .interpolator(d3.interpolateGreys)\n    .domain([0, 1]);\n\n\n\n// add the squares\nsvg.selectAll()\n    .data(data, d => d.x + ':' + d.y)\n    .join(\"rect\")\n    .attr(\"x\", d => x(d.x))\n    .attr(\"y\", d => y(d.y))\n    \n    \n    .attr(\"width\", x.bandwidth())\n    .attr(\"height\", y.bandwidth())\n    .style(\"fill\", d => myColor(d.z))\n    .style(\"stroke-width\", 4)\n    .style(\"stroke\", \"none\")\n    .style(\"opacity\", 0.8)\n    \n    \n    ;\n\n// add the grid\nif ( false) {\n    svg.selectAll()\n        .data(data, d => d.x + ':' + d.y)\n        .join(\"rect\")\n        .attr(\"x\", d => x(d.x))\n        .attr(\"y\", d => y(d.y))\n        .attr(\"rx\", 0)\n        .attr(\"ry\", 0)\n        .attr(\"width\", x.bandwidth())\n        .attr(\"height\", y.bandwidth())\n        .style(\"fill\", \"none\")\n        .style(\"stroke-width\", 1)\n        .style(\"stroke\", \"Gray\")\n        .style(\"opacity\", 1)\n}\n\nvar plotLabelData = [{\"y\":\"8\",\"x\":\"f\",\"z\":\"&#9821;\"},{\"y\":\"1\",\"x\":\"g\",\"z\":\"&#9822;\"},{\"x\":\"d\",\"y\":\"1\",\"z\":\"&#9819;\"},{\"x\":\"g\",\"y\":\"2\",\"z\":\"&#9823;\"},{\"z\":\"&#9823;\",\"y\":\"2\",\"x\":\"h\"},{\"z\":\"&#9823;\",\"y\":\"2\",\"x\":\"c\"},{\"y\":\"2\",\"z\":\"&#9823;\",\"x\":\"d\"},{\"x\":\"h\",\"y\":\"1\",\"z\":\"&#9820;\"},{\"y\":\"1\",\"z\":\"&#9818;\",\"x\":\"e\"},{\"y\":\"2\",\"x\":\"a\",\"z\":\"&#9823;\"},{\"z\":\"&#9823;\",\"y\":\"2\",\"x\":\"e\"},{\"z\":\"&#9822;\",\"x\":\"b\",\"y\":\"1\"},{\"z\":\"&#9821;\",\"y\":\"1\",\"x\":\"f\"},{\"y\":\"3\",\"x\":\"b\",\"z\":\"&#9823;\"},{\"x\":\"f\",\"y\":\"2\",\"z\":\"&#9823;\"},{\"x\":\"a\",\"y\":\"1\",\"z\":\"&#9820;\"}]\n\nvar hx = x.bandwidth()\nvar hy = y.bandwidth()\n\nsvg.selectAll()\n.data(plotLabelData, function(d) {return d.x+':'+d.y;})\n.join(\"text\")\n  .attr(\"x\", function(d) { return x(d.x) + hx/2 })\n  .attr(\"y\", function(d) { return y(d.y) + hy/2 + hy*0.1 })\n  .attr(\"text-anchor\", \"middle\")\n  .style(\"alignment-baseline\", \"middle\")\n  .style(\"fill\", \"white\")\n  .style(\"stroke\", \"white\")\n  .style(\"stroke-width\", \"1px\")\n  .style(\"font-size\", function(d) { return (height / 7) + \"px\" })\n  .attr(\"font-family\", \"Courier\")\n  .attr(\"font-weight\", 100)\n  .html(function(d){ return d.z });\n\nvar plotLabelData = [{\"x\":\"f\",\"z\":\"&#9815;\",\"y\":\"8\"},{\"z\":\"&#9816;\",\"x\":\"g\",\"y\":\"1\"},{\"x\":\"d\",\"z\":\"&#9813;\",\"y\":\"1\"},{\"z\":\"&#9817;\",\"x\":\"g\",\"y\":\"2\"},{\"y\":\"2\",\"z\":\"&#9817;\",\"x\":\"h\"},{\"x\":\"c\",\"z\":\"&#9817;\",\"y\":\"2\"},{\"y\":\"2\",\"x\":\"d\",\"z\":\"&#9817;\"},{\"y\":\"1\",\"z\":\"&#9814;\",\"x\":\"h\"},{\"y\":\"1\",\"x\":\"e\",\"z\":\"&#9812;\"},{\"x\":\"a\",\"y\":\"2\",\"z\":\"&#9817;\"},{\"x\":\"e\",\"y\":\"2\",\"z\":\"&#9817;\"},{\"z\":\"&#9816;\",\"y\":\"1\",\"x\":\"b\"},{\"z\":\"&#9815;\",\"y\":\"1\",\"x\":\"f\"},{\"y\":\"3\",\"x\":\"b\",\"z\":\"&#9817;\"},{\"y\":\"2\",\"x\":\"f\",\"z\":\"&#9817;\"},{\"y\":\"1\",\"z\":\"&#9814;\",\"x\":\"a\"}]\n\nvar hx = x.bandwidth()\nvar hy = y.bandwidth()\n\nsvg.selectAll()\n.data(plotLabelData, function(d) {return d.x+':'+d.y;})\n.join(\"text\")\n  .attr(\"x\", function(d) { return x(d.x) + hx/2 })\n  .attr(\"y\", function(d) { return y(d.y) + hy/2 + hy*0.1 })\n  .attr(\"text-anchor\", \"middle\")\n  .style(\"alignment-baseline\", \"middle\")\n  .style(\"fill\", \"darkslategray\")\n  .style(\"stroke\", \"darkslategray\")\n  .style(\"stroke-width\", \"1px\")\n  .style(\"font-size\", function(d) { return (height / 7) + \"px\" })\n  .attr(\"font-family\", \"Courier\")\n  .attr(\"font-weight\", 100)\n  .html(function(d){ return d.z });\n\nvar plotLabelData = [{\"z\":\"&#9822;\",\"x\":\"b\",\"y\":\"8\"},{\"y\":\"7\",\"z\":\"&#9823;\",\"x\":\"c\"},{\"x\":\"e\",\"z\":\"&#9823;\",\"y\":\"5\"},{\"y\":\"7\",\"x\":\"f\",\"z\":\"&#9823;\"},{\"y\":\"7\",\"x\":\"b\",\"z\":\"&#9823;\"},{\"z\":\"&#9823;\",\"y\":\"7\",\"x\":\"g\"},{\"z\":\"&#9822;\",\"x\":\"f\",\"y\":\"6\"},{\"y\":\"7\",\"x\":\"d\",\"z\":\"&#9823;\"},{\"y\":\"8\",\"z\":\"&#9820;\",\"x\":\"h\"},{\"x\":\"h\",\"y\":\"7\",\"z\":\"&#9823;\"},{\"x\":\"c\",\"y\":\"8\",\"z\":\"&#9821;\"},{\"z\":\"&#9820;\",\"y\":\"8\",\"x\":\"a\"},{\"z\":\"&#9823;\",\"y\":\"7\",\"x\":\"a\"},{\"x\":\"e\",\"z\":\"&#9818;\",\"y\":\"8\"},{\"z\":\"&#9819;\",\"y\":\"8\",\"x\":\"d\"}]\n\nvar hx = x.bandwidth()\nvar hy = y.bandwidth()\n\nsvg.selectAll()\n.data(plotLabelData, function(d) {return d.x+':'+d.y;})\n.join(\"text\")\n  .attr(\"x\", function(d) { return x(d.x) + hx/2 })\n  .attr(\"y\", function(d) { return y(d.y) + hy/2 + hy*0.1 })\n  .attr(\"text-anchor\", \"middle\")\n  .style(\"alignment-baseline\", \"middle\")\n  .style(\"fill\", \"black\")\n  .style(\"stroke\", \"black\")\n  .style(\"stroke-width\", \"1px\")\n  .style(\"font-size\", function(d) { return (height / 7) + \"px\" })\n  .attr(\"font-family\", \"Courier\")\n  .attr(\"font-weight\", 100)\n  .html(function(d){ return d.z });\n\n\n// set the dimensions and margins of the graph\nvar margin = {\"right\":15,\"top\":15,\"bottom\":15,\"left\":15},\n    width = 350 - margin.left - margin.right,\n    height = 350 - margin.top - margin.bottom;\n\n// append the svg object to the body of the page\nvar svg = d3\n   .select(element.get(0))\n  .append(\"svg\")\n    .attr(\"width\", width + margin.left + margin.right)\n    .attr(\"height\", height + margin.top + margin.bottom)\n    .style(\"background\", \"#282828\")\n  .append(\"g\")\n    .attr(\"transform\",\n          \"translate(\" + margin.left + \",\" + margin.top + \")\")\n\n// Obtain title\nvar title = \"\"\nvar titleFontSize = 16\n\nif ( title.length > 0 ) {\n    svg.append(\"text\")\n        .attr(\"x\", (width / 2))\n        .attr(\"y\", 0 - (margin.top / 2))\n        .attr(\"text-anchor\", \"middle\")\n        .style(\"font-size\", titleFontSize.toString() + \"px\")\n        .style(\"fill\", \"Black\")\n        .text(title);\n}\n\n// Obtain data\nvar data = [{\"z\":0.5,\"x\":\"a\",\"y\":\"1\"},{\"x\":\"a\",\"z\":0.15,\"y\":\"2\"},{\"z\":0.5,\"x\":\"a\",\"y\":\"3\"},{\"x\":\"a\",\"y\":\"4\",\"z\":0.15},{\"y\":\"5\",\"x\":\"a\",\"z\":0.5},{\"x\":\"a\",\"y\":\"6\",\"z\":0.15},{\"z\":0.5,\"x\":\"a\",\"y\":\"7\"},{\"x\":\"a\",\"y\":\"8\",\"z\":0.15},{\"y\":\"1\",\"x\":\"b\",\"z\":0.15},{\"y\":\"2\",\"x\":\"b\",\"z\":0.5},{\"y\":\"3\",\"z\":0.15,\"x\":\"b\"},{\"x\":\"b\",\"y\":\"4\",\"z\":0.5},{\"y\":\"5\",\"z\":0.15,\"x\":\"b\"},{\"y\":\"6\",\"x\":\"b\",\"z\":0.5},{\"y\":\"7\",\"x\":\"b\",\"z\":0.15},{\"y\":\"8\",\"z\":0.5,\"x\":\"b\"},{\"z\":0.5,\"x\":\"c\",\"y\":\"1\"},{\"x\":\"c\",\"y\":\"2\",\"z\":0.15},{\"x\":\"c\",\"z\":0.5,\"y\":\"3\"},{\"x\":\"c\",\"z\":0.15,\"y\":\"4\"},{\"y\":\"5\",\"x\":\"c\",\"z\":0.5},{\"x\":\"c\",\"z\":0.15,\"y\":\"6\"},{\"z\":0.5,\"y\":\"7\",\"x\":\"c\"},{\"y\":\"8\",\"x\":\"c\",\"z\":0.15},{\"y\":\"1\",\"x\":\"d\",\"z\":0.15},{\"y\":\"2\",\"z\":0.5,\"x\":\"d\"},{\"z\":0.15,\"y\":\"3\",\"x\":\"d\"},{\"z\":0.5,\"x\":\"d\",\"y\":\"4\"},{\"x\":\"d\",\"z\":0.15,\"y\":\"5\"},{\"x\":\"d\",\"z\":0.5,\"y\":\"6\"},{\"x\":\"d\",\"z\":0.15,\"y\":\"7\"},{\"z\":0.5,\"y\":\"8\",\"x\":\"d\"},{\"z\":0.5,\"y\":\"1\",\"x\":\"e\"},{\"y\":\"2\",\"z\":0.15,\"x\":\"e\"},{\"x\":\"e\",\"y\":\"3\",\"z\":0.5},{\"y\":\"4\",\"x\":\"e\",\"z\":0.15},{\"x\":\"e\",\"y\":\"5\",\"z\":0.5},{\"x\":\"e\",\"y\":\"6\",\"z\":0.15},{\"x\":\"e\",\"z\":0.5,\"y\":\"7\"},{\"z\":0.15,\"y\":\"8\",\"x\":\"e\"},{\"y\":\"1\",\"z\":0.15,\"x\":\"f\"},{\"x\":\"f\",\"z\":0.5,\"y\":\"2\"},{\"y\":\"3\",\"z\":0.15,\"x\":\"f\"},{\"z\":0.5,\"x\":\"f\",\"y\":\"4\"},{\"z\":0.15,\"y\":\"5\",\"x\":\"f\"},{\"z\":0.5,\"x\":\"f\",\"y\":\"6\"},{\"y\":\"7\",\"x\":\"f\",\"z\":0.15},{\"y\":\"8\",\"z\":0.5,\"x\":\"f\"},{\"y\":\"1\",\"x\":\"g\",\"z\":0.5},{\"z\":0.15,\"y\":\"2\",\"x\":\"g\"},{\"z\":0.5,\"y\":\"3\",\"x\":\"g\"},{\"x\":\"g\",\"z\":0.15,\"y\":\"4\"},{\"z\":0.5,\"x\":\"g\",\"y\":\"5\"},{\"z\":0.15,\"x\":\"g\",\"y\":\"6\"},{\"x\":\"g\",\"z\":0.5,\"y\":\"7\"},{\"x\":\"g\",\"y\":\"8\",\"z\":0.15},{\"z\":0.15,\"y\":\"1\",\"x\":\"h\"},{\"z\":0.5,\"x\":\"h\",\"y\":\"2\"},{\"y\":\"3\",\"x\":\"h\",\"z\":0.15},{\"z\":0.5,\"x\":\"h\",\"y\":\"4\"},{\"y\":\"5\",\"z\":0.15,\"x\":\"h\"},{\"x\":\"h\",\"z\":0.5,\"y\":\"6\"},{\"z\":0.15,\"y\":\"7\",\"x\":\"h\"},{\"z\":0.5,\"y\":\"8\",\"x\":\"h\"}];\n\nvar myGroups = [];\nvar myVars = [];\n\nif (myGroups.length === 0) {\n    myGroups = Array.from(new Set(data.map(d => d.x)));\n}\nif (myVars.length === 0) {\n    myVars = Array.from(new Set(data.map(d => d.y)));\n}\n\nif (true) {\n    myGroups = myGroups.sort(d3.ascending);\n    myVars = myVars.sort(d3.ascending);\n}\n\n// Build X scales and axis:\nvar x = d3.scaleBand()\n    .range([0, width])\n    .domain(myGroups)\n    ;\n\nsvg.append(\"g\")\n    .style(\"font-size\", \"12px\")\n    .style(\"stroke\", \"silver\")\n    .style(\"stroke-width\", \"1px\")\n    .attr(\"font-family\", \"Helvetica\")\n    .attr(\"transform\", `translate(0, ${height})`)\n    .call(d3.axisBottom(x).tickSize(0))\n    .select(\".domain\").remove();\n\n// Build Y scales and axis:\nvar y = d3.scaleBand()\n    .range([height, 0])\n    .domain(myVars)\n    ;\n\nsvg.append(\"g\")\n    .style(\"font-size\", \"12px\")\n    .style(\"stroke\", \"silver\")\n    .style(\"stroke-width\", \"1px\")\n    .attr(\"font-family\", \"Helvetica\")\n    .call(d3.axisLeft(y).tickSize(0))\n    .select(\".domain\").remove();\n\n// Build color scale\nvar myColor = d3.scaleSequential()\n    .interpolator(d3.interpolateGreys)\n    .domain([0, 1]);\n\n\n\n// add the squares\nsvg.selectAll()\n    .data(data, d => d.x + ':' + d.y)\n    .join(\"rect\")\n    .attr(\"x\", d => x(d.x))\n    .attr(\"y\", d => y(d.y))\n    \n    \n    .attr(\"width\", x.bandwidth())\n    .attr(\"height\", y.bandwidth())\n    .style(\"fill\", d => myColor(d.z))\n    .style(\"stroke-width\", 4)\n    .style(\"stroke\", \"none\")\n    .style(\"opacity\", 0.8)\n    \n    \n    ;\n\n// add the grid\nif ( false) {\n    svg.selectAll()\n        .data(data, d => d.x + ':' + d.y)\n        .join(\"rect\")\n        .attr(\"x\", d => x(d.x))\n        .attr(\"y\", d => y(d.y))\n        .attr(\"rx\", 0)\n        .attr(\"ry\", 0)\n        .attr(\"width\", x.bandwidth())\n        .attr(\"height\", y.bandwidth())\n        .style(\"fill\", \"none\")\n        .style(\"stroke-width\", 1)\n        .style(\"stroke\", \"Gray\")\n        .style(\"opacity\", 1)\n}\n\nvar plotLabelData = [{\"z\":\"&#9820;\",\"y\":\"1\",\"x\":\"d\"},{\"x\":\"f\",\"y\":\"2\",\"z\":\"&#9823;\"},{\"x\":\"h\",\"z\":\"&#9823;\",\"y\":\"2\"},{\"z\":\"&#9823;\",\"x\":\"g\",\"y\":\"2\"},{\"z\":\"&#9823;\",\"y\":\"2\",\"x\":\"b\"},{\"z\":\"&#9818;\",\"y\":\"1\",\"x\":\"c\"},{\"z\":\"&#9823;\",\"y\":\"2\",\"x\":\"a\"},{\"z\":\"&#9821;\",\"x\":\"b\",\"y\":\"3\"},{\"x\":\"c\",\"y\":\"2\",\"z\":\"&#9823;\"}]\n\nvar hx = x.bandwidth()\nvar hy = y.bandwidth()\n\nsvg.selectAll()\n.data(plotLabelData, function(d) {return d.x+':'+d.y;})\n.join(\"text\")\n  .attr(\"x\", function(d) { return x(d.x) + hx/2 })\n  .attr(\"y\", function(d) { return y(d.y) + hy/2 + hy*0.1 })\n  .attr(\"text-anchor\", \"middle\")\n  .style(\"alignment-baseline\", \"middle\")\n  .style(\"fill\", \"white\")\n  .style(\"stroke\", \"white\")\n  .style(\"stroke-width\", \"1px\")\n  .style(\"font-size\", function(d) { return (height / 7) + \"px\" })\n  .attr(\"font-family\", \"Courier\")\n  .attr(\"font-weight\", 100)\n  .html(function(d){ return d.z });\n\nvar plotLabelData = [{\"x\":\"d\",\"z\":\"&#9814;\",\"y\":\"1\"},{\"y\":\"2\",\"z\":\"&#9817;\",\"x\":\"f\"},{\"z\":\"&#9817;\",\"x\":\"h\",\"y\":\"2\"},{\"z\":\"&#9817;\",\"x\":\"g\",\"y\":\"2\"},{\"z\":\"&#9817;\",\"x\":\"b\",\"y\":\"2\"},{\"x\":\"c\",\"z\":\"&#9812;\",\"y\":\"1\"},{\"y\":\"2\",\"x\":\"a\",\"z\":\"&#9817;\"},{\"x\":\"b\",\"z\":\"&#9815;\",\"y\":\"3\"},{\"y\":\"2\",\"z\":\"&#9817;\",\"x\":\"c\"}]\n\nvar hx = x.bandwidth()\nvar hy = y.bandwidth()\n\nsvg.selectAll()\n.data(plotLabelData, function(d) {return d.x+':'+d.y;})\n.join(\"text\")\n  .attr(\"x\", function(d) { return x(d.x) + hx/2 })\n  .attr(\"y\", function(d) { return y(d.y) + hy/2 + hy*0.1 })\n  .attr(\"text-anchor\", \"middle\")\n  .style(\"alignment-baseline\", \"middle\")\n  .style(\"fill\", \"darkslategray\")\n  .style(\"stroke\", \"darkslategray\")\n  .style(\"stroke-width\", \"1px\")\n  .style(\"font-size\", function(d) { return (height / 7) + \"px\" })\n  .attr(\"font-family\", \"Courier\")\n  .attr(\"font-weight\", 100)\n  .html(function(d){ return d.z });\n\nvar plotLabelData = [{\"y\":\"7\",\"x\":\"g\",\"z\":\"&#9823;\"},{\"x\":\"f\",\"y\":\"7\",\"z\":\"&#9823;\"},{\"z\":\"&#9823;\",\"y\":\"7\",\"x\":\"h\"},{\"x\":\"f\",\"z\":\"&#9821;\",\"y\":\"8\"},{\"z\":\"&#9823;\",\"x\":\"a\",\"y\":\"7\"},{\"z\":\"&#9819;\",\"y\":\"6\",\"x\":\"e\"},{\"y\":\"8\",\"z\":\"&#9820;\",\"x\":\"e\"}]\n\nvar hx = x.bandwidth()\nvar hy = y.bandwidth()\n\nsvg.selectAll()\n.data(plotLabelData, function(d) {return d.x+':'+d.y;})\n.join(\"text\")\n  .attr(\"x\", function(d) { return x(d.x) + hx/2 })\n  .attr(\"y\", function(d) { return y(d.y) + hy/2 + hy*0.1 })\n  .attr(\"text-anchor\", \"middle\")\n  .style(\"alignment-baseline\", \"middle\")\n  .style(\"fill\", \"black\")\n  .style(\"stroke\", \"black\")\n  .style(\"stroke-width\", \"1px\")\n  .style(\"font-size\", function(d) { return (height / 7) + \"px\" })\n  .attr(\"font-family\", \"Courier\")\n  .attr(\"font-weight\", 100)\n  .html(function(d){ return d.z });\n\n}) })(element);\n"
     },
     "execution_count": 6,
     "metadata": {},
     "output_type": "execute_result"
    }
   ],
   "source": [
    "#%js\n",
    "[\n",
    "    \"rnbqkB1r/pppp1ppp/5n2/4p3/8/1P6/P1PPPPPP/RN1QKBNR b KQkq - 0 3\",\n",
    "    \"4kb1r/p4ppp/4q3/8/8/1B6/PPP2PPP/2KR4\"\n",
    "] ==>\n",
    "js-d3-chessboard(\n",
    "    tick-labels-color => 'silver', \n",
    "    black-square-value => 0.5, \n",
    "    background => '#282828',\n",
    "    margins => 15,\n",
    "    width => 350\n",
    ")"
   ]
  },
  {
   "cell_type": "markdown",
   "metadata": {},
   "source": [
    "In \"JavaScript:D3\":\n",
    "\n",
    "- Input chess position strings are processed with \"FEN::Grammar\"\n",
    "- Almost any element of chess position plotting is tunable\n",
    "- Chess position plotting is based on heatmap plotting\n",
    "    - Hence, arguments of `js-d3-heatmap-plot` can be used.\n",
    "\n",
    "Here are the explicit tunable parameters:"
   ]
  },
  {
   "cell_type": "code",
   "execution_count": 7,
   "metadata": {},
   "outputs": [
    {
     "name": "stdout",
     "output_type": "stream",
     "text": [
      "$background\n",
      "$black-square-value\n",
      "$blacks-fill-color\n",
      "$blacks-stroke-color\n",
      "$color-palette\n",
      "$format\n",
      "$height\n",
      "$margins\n",
      "$opacity\n",
      "$tick-labels-color\n",
      "$title\n",
      "$white-square-value\n",
      "$whites-fill-color\n",
      "$whites-stroke-color\n",
      "$width\n"
     ]
    }
   ],
   "source": [
    ".say for &JavaScript::D3::Chess::Chessboard.candidates.map({ $_.signature.params».name }).flat.unique.grep({ $_.Str ∉ <@data $data %args $div-id>}).sort"
   ]
  },
  {
   "cell_type": "markdown",
   "metadata": {},
   "source": [
    "-----\n",
    "\n",
    "## Chess notation sub-strings extraction"
   ]
  },
  {
   "cell_type": "markdown",
   "metadata": {},
   "source": [
    "In this section are given several methods for extracting FEN strings from (free) text strings. (I.e. chess LLM outputs.)"
   ]
  },
  {
   "cell_type": "markdown",
   "metadata": {},
   "source": [
    "A function to check whether is a FEN string or not:"
   ]
  },
  {
   "cell_type": "code",
   "execution_count": 8,
   "metadata": {},
   "outputs": [
    {
     "data": {
      "text/plain": [
       "&is-fen-string"
      ]
     },
     "execution_count": 8,
     "metadata": {},
     "output_type": "execute_result"
    }
   ],
   "source": [
    "my sub is-fen-string(Str:D $txt) {\n",
    "    my $match = FEN::Grammar.parse($txt);\n",
    "    return $match.defined;\n",
    "}"
   ]
  },
  {
   "cell_type": "markdown",
   "metadata": {},
   "source": [
    "Here is a way to use that predicate function:"
   ]
  },
  {
   "cell_type": "code",
   "execution_count": 9,
   "metadata": {},
   "outputs": [
    {
     "data": {
      "text/plain": [
       "&fen-specs-by-predicate"
      ]
     },
     "execution_count": 9,
     "metadata": {},
     "output_type": "execute_result"
    }
   ],
   "source": [
    "my sub fen-specs-by-predicate(Str:D $txt) {\n",
    "   \n",
    "  # First the faster check \n",
    "  my @res = do with $txt.match(/ $<delim>=('`'|\\v) $<fen>=(<-[\\v`]>+) $<delim> /, :g) {\n",
    "     $/.values.map({ $_<fen>.Str.trim => &is-fen-string($_<fen>.Str.trim)});\n",
    "  }\n",
    "  @res .= grep({ $_.value });\n",
    "\n",
    "  return @res».key if @res; \n",
    "\n",
    "  # Slow(er) check\n",
    "  my @res2 = do with $txt.match(/ $<fen>=(.*) <?{ is-fen-string($<fen>.Str) }> /, :g) {\n",
    "     $/.values.map({ $_<fen>.Str.trim });\n",
    "  } else { Nil }\n",
    "\n",
    "  return @res2; \n",
    "}"
   ]
  },
  {
   "cell_type": "markdown",
   "metadata": {},
   "source": [
    "**Remark:** The functions `is-fen-string` and `fen-specs-by-predicate` are useful if 3rd party chess notation packages are used. (Not necessarily Raku-grammar based.)"
   ]
  },
  {
   "cell_type": "markdown",
   "metadata": {},
   "source": [
    "Here is a fast and simple to use a Raku grammar to extract FEN strings:"
   ]
  },
  {
   "cell_type": "code",
   "execution_count": 10,
   "metadata": {},
   "outputs": [
    {
     "data": {
      "text/plain": [
       "&fen-specs"
      ]
     },
     "execution_count": 10,
     "metadata": {},
     "output_type": "execute_result"
    }
   ],
   "source": [
    "my sub fen-specs(Str:D $txt) {\n",
    "    return do with $txt.match( /<FEN::Grammar::TOP>/, :g) { $/».Str };\n",
    "}"
   ]
  },
  {
   "cell_type": "markdown",
   "metadata": {},
   "source": [
    "Here are examples using both approaches:"
   ]
  },
  {
   "cell_type": "code",
   "execution_count": 11,
   "metadata": {},
   "outputs": [
    {
     "name": "stdout",
     "output_type": "stream",
     "text": [
      "fen-specs-by-predicate : [\"rnbqkbnr/pppppppp/8/8/8/1P6/P1PPPPPP/RNBQKBNR b KQkq - 0 1\", \"rnbqkbnr/pppp1ppp/8/4p3/8/1P6/P1PPPPPP/RNBQKBNR w KQkq e6 0 2\"]\n",
      "fen-specs              : (\"rnbqkbnr/pppppppp/8/8/8/1P6/P1PPPPPP/RNBQKBNR b KQkq - 0 1\", \"rnbqkbnr/pppp1ppp/8/4p3/8/1P6/P1PPPPPP/RNBQKBNR w KQkq e6 0 2\")\n"
     ]
    }
   ],
   "source": [
    "my $txt = q:to/END/;\n",
    "You moved: b2 to b3\n",
    "\n",
    "FEN after your move: `rnbqkbnr/pppppppp/8/8/8/1P6/P1PPPPPP/RNBQKBNR b KQkq - 0 1`\n",
    "\n",
    "Now, it's my turn. I'll play:\n",
    "\n",
    "Opponent moved: e7 to e5\n",
    "\n",
    "FEN after my move: `rnbqkbnr/pppp1ppp/8/4p3/8/1P6/P1PPPPPP/RNBQKBNR w KQkq e6 0 2`\n",
    "\n",
    "Your move!\n",
    "END\n",
    "\n",
    "say \"fen-specs-by-predicate : \", fen-specs-by-predicate($txt).raku;\n",
    "say \"fen-specs              : \", fen-specs($txt).raku;"
   ]
  },
  {
   "cell_type": "markdown",
   "metadata": {},
   "source": [
    "-----\n",
    "\n",
    "## Play 1"
   ]
  },
  {
   "cell_type": "markdown",
   "metadata": {},
   "source": [
    "This section has an example play (again within a [Raku chatbook](https://raku.land/zef:antononcube/Jupyter::Chatbook).)"
   ]
  },
  {
   "cell_type": "markdown",
   "metadata": {},
   "source": [
    "Starting a game:"
   ]
  },
  {
   "cell_type": "code",
   "execution_count": 25,
   "metadata": {},
   "outputs": [
    {
     "data": {
      "text/markdown": [
       "Great! Let's start a new game. Here's the standard initial position in Forsyth-Edwards Notation (FEN):\n",
       "\n",
       "`rnbqkbnr/pppppppp/8/8/8/8/PPPPPPPP/RNBQKBNR w KQkq - 0 1`\n",
       "\n",
       "It's your move! You can use algebraic notation (e.g., \"e2 to e4\") or descriptive input (e.g., \"pawn from e2 to e4\")."
      ]
     },
     "execution_count": 25,
     "metadata": {},
     "output_type": "execute_result"
    }
   ],
   "source": [
    "#% chat cm > markdown\n",
    "Let us start a new game."
   ]
  },
  {
   "cell_type": "markdown",
   "metadata": {},
   "source": [
    "Plotting the FEN strings from the LLM output:"
   ]
  },
  {
   "cell_type": "code",
   "execution_count": 26,
   "metadata": {},
   "outputs": [
    {
     "data": {
      "application/javascript": "(function(element) { require(['d3'], function(d3) {\n\n\n\n// set the dimensions and margins of the graph\nvar margin = {\"left\":40,\"right\":40,\"top\":40,\"bottom\":40},\n    width = 400 - margin.left - margin.right,\n    height = 400 - margin.top - margin.bottom;\n\n// append the svg object to the body of the page\nvar svg = d3\n   .select(element.get(0))\n  .append(\"svg\")\n    .attr(\"width\", width + margin.left + margin.right)\n    .attr(\"height\", height + margin.top + margin.bottom)\n    .style(\"background\", \"#1F1F1F\")\n  .append(\"g\")\n    .attr(\"transform\",\n          \"translate(\" + margin.left + \",\" + margin.top + \")\")\n\n// Obtain title\nvar title = \"\"\nvar titleFontSize = 16\n\nif ( title.length > 0 ) {\n    svg.append(\"text\")\n        .attr(\"x\", (width / 2))\n        .attr(\"y\", 0 - (margin.top / 2))\n        .attr(\"text-anchor\", \"middle\")\n        .style(\"font-size\", titleFontSize.toString() + \"px\")\n        .style(\"fill\", \"Silver\")\n        .text(title);\n}\n\n// Obtain data\nvar data = [{\"z\":0.75,\"y\":\"1\",\"x\":\"a\"},{\"z\":0.25,\"x\":\"a\",\"y\":\"2\"},{\"z\":0.75,\"y\":\"3\",\"x\":\"a\"},{\"z\":0.25,\"y\":\"4\",\"x\":\"a\"},{\"x\":\"a\",\"z\":0.75,\"y\":\"5\"},{\"y\":\"6\",\"x\":\"a\",\"z\":0.25},{\"x\":\"a\",\"y\":\"7\",\"z\":0.75},{\"z\":0.25,\"y\":\"8\",\"x\":\"a\"},{\"z\":0.25,\"y\":\"1\",\"x\":\"b\"},{\"x\":\"b\",\"y\":\"2\",\"z\":0.75},{\"y\":\"3\",\"x\":\"b\",\"z\":0.25},{\"z\":0.75,\"x\":\"b\",\"y\":\"4\"},{\"y\":\"5\",\"x\":\"b\",\"z\":0.25},{\"x\":\"b\",\"y\":\"6\",\"z\":0.75},{\"x\":\"b\",\"y\":\"7\",\"z\":0.25},{\"x\":\"b\",\"z\":0.75,\"y\":\"8\"},{\"x\":\"c\",\"z\":0.75,\"y\":\"1\"},{\"x\":\"c\",\"y\":\"2\",\"z\":0.25},{\"x\":\"c\",\"y\":\"3\",\"z\":0.75},{\"x\":\"c\",\"z\":0.25,\"y\":\"4\"},{\"z\":0.75,\"x\":\"c\",\"y\":\"5\"},{\"x\":\"c\",\"y\":\"6\",\"z\":0.25},{\"y\":\"7\",\"x\":\"c\",\"z\":0.75},{\"y\":\"8\",\"x\":\"c\",\"z\":0.25},{\"z\":0.25,\"y\":\"1\",\"x\":\"d\"},{\"y\":\"2\",\"z\":0.75,\"x\":\"d\"},{\"x\":\"d\",\"y\":\"3\",\"z\":0.25},{\"x\":\"d\",\"y\":\"4\",\"z\":0.75},{\"z\":0.25,\"y\":\"5\",\"x\":\"d\"},{\"x\":\"d\",\"y\":\"6\",\"z\":0.75},{\"y\":\"7\",\"z\":0.25,\"x\":\"d\"},{\"y\":\"8\",\"z\":0.75,\"x\":\"d\"},{\"y\":\"1\",\"x\":\"e\",\"z\":0.75},{\"z\":0.25,\"y\":\"2\",\"x\":\"e\"},{\"x\":\"e\",\"y\":\"3\",\"z\":0.75},{\"y\":\"4\",\"z\":0.25,\"x\":\"e\"},{\"y\":\"5\",\"x\":\"e\",\"z\":0.75},{\"y\":\"6\",\"z\":0.25,\"x\":\"e\"},{\"y\":\"7\",\"z\":0.75,\"x\":\"e\"},{\"x\":\"e\",\"z\":0.25,\"y\":\"8\"},{\"z\":0.25,\"x\":\"f\",\"y\":\"1\"},{\"z\":0.75,\"y\":\"2\",\"x\":\"f\"},{\"x\":\"f\",\"y\":\"3\",\"z\":0.25},{\"x\":\"f\",\"y\":\"4\",\"z\":0.75},{\"y\":\"5\",\"x\":\"f\",\"z\":0.25},{\"y\":\"6\",\"z\":0.75,\"x\":\"f\"},{\"x\":\"f\",\"z\":0.25,\"y\":\"7\"},{\"x\":\"f\",\"z\":0.75,\"y\":\"8\"},{\"z\":0.75,\"x\":\"g\",\"y\":\"1\"},{\"x\":\"g\",\"y\":\"2\",\"z\":0.25},{\"x\":\"g\",\"z\":0.75,\"y\":\"3\"},{\"y\":\"4\",\"x\":\"g\",\"z\":0.25},{\"z\":0.75,\"x\":\"g\",\"y\":\"5\"},{\"z\":0.25,\"x\":\"g\",\"y\":\"6\"},{\"z\":0.75,\"x\":\"g\",\"y\":\"7\"},{\"x\":\"g\",\"z\":0.25,\"y\":\"8\"},{\"y\":\"1\",\"x\":\"h\",\"z\":0.25},{\"z\":0.75,\"x\":\"h\",\"y\":\"2\"},{\"z\":0.25,\"x\":\"h\",\"y\":\"3\"},{\"y\":\"4\",\"z\":0.75,\"x\":\"h\"},{\"x\":\"h\",\"z\":0.25,\"y\":\"5\"},{\"z\":0.75,\"y\":\"6\",\"x\":\"h\"},{\"x\":\"h\",\"y\":\"7\",\"z\":0.25},{\"z\":0.75,\"x\":\"h\",\"y\":\"8\"}];\n\nvar myGroups = [];\nvar myVars = [];\n\nif (myGroups.length === 0) {\n    myGroups = Array.from(new Set(data.map(d => d.x)));\n}\nif (myVars.length === 0) {\n    myVars = Array.from(new Set(data.map(d => d.y)));\n}\n\nif (true) {\n    myGroups = myGroups.sort(d3.ascending);\n    myVars = myVars.sort(d3.ascending);\n}\n\n// Build X scales and axis:\nvar x = d3.scaleBand()\n    .range([0, width])\n    .domain(myGroups)\n    ;\n\nsvg.append(\"g\")\n    .style(\"font-size\", \"13px\")\n    .style(\"stroke\", \"grey\")\n    .style(\"stroke-width\", \"1px\")\n    .attr(\"font-family\", \"Helvetica\")\n    .attr(\"transform\", `translate(0, ${height})`)\n    .call(d3.axisBottom(x).tickSize(0))\n    .select(\".domain\").remove();\n\n// Build Y scales and axis:\nvar y = d3.scaleBand()\n    .range([height, 0])\n    .domain(myVars)\n    ;\n\nsvg.append(\"g\")\n    .style(\"font-size\", \"13px\")\n    .style(\"stroke\", \"grey\")\n    .style(\"stroke-width\", \"1px\")\n    .attr(\"font-family\", \"Helvetica\")\n    .call(d3.axisLeft(y).tickSize(0))\n    .select(\".domain\").remove();\n\n// Build color scale\nvar myColor = d3.scaleSequential()\n    .interpolator(d3.interpolateYlOrBr)\n    .domain([0, 1]);\n\n\n\n// add the squares\nsvg.selectAll()\n    .data(data, d => d.x + ':' + d.y)\n    .join(\"rect\")\n    .attr(\"x\", d => x(d.x))\n    .attr(\"y\", d => y(d.y))\n    \n    \n    .attr(\"width\", x.bandwidth())\n    .attr(\"height\", y.bandwidth())\n    .style(\"fill\", d => myColor(d.z))\n    .style(\"stroke-width\", 4)\n    .style(\"stroke\", \"none\")\n    .style(\"opacity\", 0.8)\n    \n    \n    ;\n\n// add the grid\nif ( false) {\n    svg.selectAll()\n        .data(data, d => d.x + ':' + d.y)\n        .join(\"rect\")\n        .attr(\"x\", d => x(d.x))\n        .attr(\"y\", d => y(d.y))\n        .attr(\"rx\", 0)\n        .attr(\"ry\", 0)\n        .attr(\"width\", x.bandwidth())\n        .attr(\"height\", y.bandwidth())\n        .style(\"fill\", \"none\")\n        .style(\"stroke-width\", 1)\n        .style(\"stroke\", \"Gray\")\n        .style(\"opacity\", 1)\n}\n\nvar plotLabelData = [{\"y\":\"1\",\"x\":\"g\",\"z\":\"&#9822;\"},{\"z\":\"&#9819;\",\"y\":\"1\",\"x\":\"d\"},{\"z\":\"&#9823;\",\"y\":\"2\",\"x\":\"c\"},{\"y\":\"2\",\"z\":\"&#9823;\",\"x\":\"e\"},{\"y\":\"2\",\"z\":\"&#9823;\",\"x\":\"f\"},{\"x\":\"c\",\"y\":\"1\",\"z\":\"&#9821;\"},{\"y\":\"1\",\"x\":\"a\",\"z\":\"&#9820;\"},{\"z\":\"&#9822;\",\"y\":\"1\",\"x\":\"b\"},{\"z\":\"&#9823;\",\"x\":\"a\",\"y\":\"2\"},{\"z\":\"&#9818;\",\"y\":\"1\",\"x\":\"e\"},{\"x\":\"d\",\"y\":\"2\",\"z\":\"&#9823;\"},{\"z\":\"&#9820;\",\"x\":\"h\",\"y\":\"1\"},{\"x\":\"f\",\"z\":\"&#9821;\",\"y\":\"1\"},{\"y\":\"2\",\"z\":\"&#9823;\",\"x\":\"b\"},{\"y\":\"2\",\"z\":\"&#9823;\",\"x\":\"g\"},{\"z\":\"&#9823;\",\"x\":\"h\",\"y\":\"2\"}]\n\nvar hx = x.bandwidth()\nvar hy = y.bandwidth()\n\nsvg.selectAll()\n.data(plotLabelData, function(d) {return d.x+':'+d.y;})\n.join(\"text\")\n  .attr(\"x\", function(d) { return x(d.x) + hx/2 })\n  .attr(\"y\", function(d) { return y(d.y) + hy/2 + hy*0.1 })\n  .attr(\"text-anchor\", \"middle\")\n  .style(\"alignment-baseline\", \"middle\")\n  .style(\"fill\", \"white\")\n  .style(\"stroke\", \"white\")\n  .style(\"stroke-width\", \"1px\")\n  .style(\"font-size\", function(d) { return (height / 7) + \"px\" })\n  .attr(\"font-family\", \"Courier\")\n  .attr(\"font-weight\", 100)\n  .html(function(d){ return d.z });\n\nvar plotLabelData = [{\"y\":\"1\",\"z\":\"&#9816;\",\"x\":\"g\"},{\"z\":\"&#9813;\",\"x\":\"d\",\"y\":\"1\"},{\"x\":\"c\",\"y\":\"2\",\"z\":\"&#9817;\"},{\"x\":\"e\",\"y\":\"2\",\"z\":\"&#9817;\"},{\"x\":\"f\",\"y\":\"2\",\"z\":\"&#9817;\"},{\"x\":\"c\",\"z\":\"&#9815;\",\"y\":\"1\"},{\"y\":\"1\",\"z\":\"&#9814;\",\"x\":\"a\"},{\"x\":\"b\",\"z\":\"&#9816;\",\"y\":\"1\"},{\"y\":\"2\",\"x\":\"a\",\"z\":\"&#9817;\"},{\"x\":\"e\",\"y\":\"1\",\"z\":\"&#9812;\"},{\"y\":\"2\",\"x\":\"d\",\"z\":\"&#9817;\"},{\"z\":\"&#9814;\",\"x\":\"h\",\"y\":\"1\"},{\"y\":\"1\",\"z\":\"&#9815;\",\"x\":\"f\"},{\"y\":\"2\",\"z\":\"&#9817;\",\"x\":\"b\"},{\"z\":\"&#9817;\",\"y\":\"2\",\"x\":\"g\"},{\"z\":\"&#9817;\",\"y\":\"2\",\"x\":\"h\"}]\n\nvar hx = x.bandwidth()\nvar hy = y.bandwidth()\n\nsvg.selectAll()\n.data(plotLabelData, function(d) {return d.x+':'+d.y;})\n.join(\"text\")\n  .attr(\"x\", function(d) { return x(d.x) + hx/2 })\n  .attr(\"y\", function(d) { return y(d.y) + hy/2 + hy*0.1 })\n  .attr(\"text-anchor\", \"middle\")\n  .style(\"alignment-baseline\", \"middle\")\n  .style(\"fill\", \"darkslategrey\")\n  .style(\"stroke\", \"darkslategrey\")\n  .style(\"stroke-width\", \"1px\")\n  .style(\"font-size\", function(d) { return (height / 7) + \"px\" })\n  .attr(\"font-family\", \"Courier\")\n  .attr(\"font-weight\", 100)\n  .html(function(d){ return d.z });\n\nvar plotLabelData = [{\"z\":\"&#9823;\",\"x\":\"b\",\"y\":\"7\"},{\"z\":\"&#9823;\",\"y\":\"7\",\"x\":\"e\"},{\"z\":\"&#9819;\",\"x\":\"d\",\"y\":\"8\"},{\"z\":\"&#9822;\",\"y\":\"8\",\"x\":\"g\"},{\"y\":\"8\",\"z\":\"&#9820;\",\"x\":\"h\"},{\"x\":\"d\",\"z\":\"&#9823;\",\"y\":\"7\"},{\"y\":\"8\",\"x\":\"b\",\"z\":\"&#9822;\"},{\"z\":\"&#9823;\",\"y\":\"7\",\"x\":\"c\"},{\"z\":\"&#9821;\",\"y\":\"8\",\"x\":\"f\"},{\"y\":\"7\",\"z\":\"&#9823;\",\"x\":\"f\"},{\"x\":\"c\",\"y\":\"8\",\"z\":\"&#9821;\"},{\"x\":\"h\",\"y\":\"7\",\"z\":\"&#9823;\"},{\"y\":\"7\",\"z\":\"&#9823;\",\"x\":\"a\"},{\"y\":\"8\",\"x\":\"e\",\"z\":\"&#9818;\"},{\"y\":\"7\",\"x\":\"g\",\"z\":\"&#9823;\"},{\"y\":\"8\",\"z\":\"&#9820;\",\"x\":\"a\"}]\n\nvar hx = x.bandwidth()\nvar hy = y.bandwidth()\n\nsvg.selectAll()\n.data(plotLabelData, function(d) {return d.x+':'+d.y;})\n.join(\"text\")\n  .attr(\"x\", function(d) { return x(d.x) + hx/2 })\n  .attr(\"y\", function(d) { return y(d.y) + hy/2 + hy*0.1 })\n  .attr(\"text-anchor\", \"middle\")\n  .style(\"alignment-baseline\", \"middle\")\n  .style(\"fill\", \"black\")\n  .style(\"stroke\", \"black\")\n  .style(\"stroke-width\", \"1px\")\n  .style(\"font-size\", function(d) { return (height / 7) + \"px\" })\n  .attr(\"font-family\", \"Courier\")\n  .attr(\"font-weight\", 100)\n  .html(function(d){ return d.z });\n\n}) })(element);\n"
     },
     "execution_count": 26,
     "metadata": {},
     "output_type": "execute_result"
    }
   ],
   "source": [
    "#%js\n",
    "js-d3-chessboard(fen-specs(cbpaste), |%opts)"
   ]
  },
  {
   "cell_type": "markdown",
   "metadata": {},
   "source": [
    "User first move:"
   ]
  },
  {
   "cell_type": "code",
   "execution_count": 27,
   "metadata": {},
   "outputs": [
    {
     "data": {
      "text/markdown": [
       "You moved: b2 to b3\n",
       "\n",
       "Here's the updated FEN position after your move:\n",
       "\n",
       "`rnbqkbnr/pppppppp/8/8/8/1P6/P1PPPPPP/RNBQKBNR b KQkq - 0 1`\n",
       "\n",
       "Now it's my turn. I'll play:\n",
       "\n",
       "e7 to e5\n",
       "\n",
       "Here's the updated FEN position after my move:\n",
       "\n",
       "`rnbqkbnr/pppp1ppp/8/4p3/8/1P6/P1PPPPPP/RNBQKBNR w KQkq e6 0 2`\n",
       "\n",
       "Your move!"
      ]
     },
     "execution_count": 27,
     "metadata": {},
     "output_type": "execute_result"
    }
   ],
   "source": [
    "#% chat cm > markdown\n",
    "b2 to b3"
   ]
  },
  {
   "cell_type": "markdown",
   "metadata": {},
   "source": [
    "Plotting the FEN strings from the LLM output:"
   ]
  },
  {
   "cell_type": "code",
   "execution_count": 28,
   "metadata": {},
   "outputs": [
    {
     "data": {
      "application/javascript": "(function(element) { require(['d3'], function(d3) {\n\n\n\n// set the dimensions and margins of the graph\nvar margin = {\"right\":40,\"top\":40,\"bottom\":40,\"left\":40},\n    width = 400 - margin.left - margin.right,\n    height = 400 - margin.top - margin.bottom;\n\n// append the svg object to the body of the page\nvar svg = d3\n   .select(element.get(0))\n  .append(\"svg\")\n    .attr(\"width\", width + margin.left + margin.right)\n    .attr(\"height\", height + margin.top + margin.bottom)\n    .style(\"background\", \"#1F1F1F\")\n  .append(\"g\")\n    .attr(\"transform\",\n          \"translate(\" + margin.left + \",\" + margin.top + \")\")\n\n// Obtain title\nvar title = \"\"\nvar titleFontSize = 16\n\nif ( title.length > 0 ) {\n    svg.append(\"text\")\n        .attr(\"x\", (width / 2))\n        .attr(\"y\", 0 - (margin.top / 2))\n        .attr(\"text-anchor\", \"middle\")\n        .style(\"font-size\", titleFontSize.toString() + \"px\")\n        .style(\"fill\", \"Silver\")\n        .text(title);\n}\n\n// Obtain data\nvar data = [{\"y\":\"1\",\"z\":0.75,\"x\":\"a\"},{\"y\":\"2\",\"z\":0.25,\"x\":\"a\"},{\"y\":\"3\",\"x\":\"a\",\"z\":0.75},{\"x\":\"a\",\"z\":0.25,\"y\":\"4\"},{\"x\":\"a\",\"y\":\"5\",\"z\":0.75},{\"y\":\"6\",\"x\":\"a\",\"z\":0.25},{\"x\":\"a\",\"z\":0.75,\"y\":\"7\"},{\"x\":\"a\",\"y\":\"8\",\"z\":0.25},{\"z\":0.25,\"y\":\"1\",\"x\":\"b\"},{\"x\":\"b\",\"z\":0.75,\"y\":\"2\"},{\"x\":\"b\",\"y\":\"3\",\"z\":0.25},{\"x\":\"b\",\"y\":\"4\",\"z\":0.75},{\"x\":\"b\",\"z\":0.25,\"y\":\"5\"},{\"x\":\"b\",\"z\":0.75,\"y\":\"6\"},{\"x\":\"b\",\"y\":\"7\",\"z\":0.25},{\"x\":\"b\",\"z\":0.75,\"y\":\"8\"},{\"z\":0.75,\"y\":\"1\",\"x\":\"c\"},{\"x\":\"c\",\"z\":0.25,\"y\":\"2\"},{\"x\":\"c\",\"y\":\"3\",\"z\":0.75},{\"x\":\"c\",\"z\":0.25,\"y\":\"4\"},{\"z\":0.75,\"x\":\"c\",\"y\":\"5\"},{\"x\":\"c\",\"z\":0.25,\"y\":\"6\"},{\"x\":\"c\",\"z\":0.75,\"y\":\"7\"},{\"y\":\"8\",\"z\":0.25,\"x\":\"c\"},{\"y\":\"1\",\"z\":0.25,\"x\":\"d\"},{\"z\":0.75,\"x\":\"d\",\"y\":\"2\"},{\"z\":0.25,\"x\":\"d\",\"y\":\"3\"},{\"z\":0.75,\"y\":\"4\",\"x\":\"d\"},{\"z\":0.25,\"x\":\"d\",\"y\":\"5\"},{\"y\":\"6\",\"x\":\"d\",\"z\":0.75},{\"y\":\"7\",\"x\":\"d\",\"z\":0.25},{\"z\":0.75,\"x\":\"d\",\"y\":\"8\"},{\"y\":\"1\",\"x\":\"e\",\"z\":0.75},{\"y\":\"2\",\"x\":\"e\",\"z\":0.25},{\"x\":\"e\",\"y\":\"3\",\"z\":0.75},{\"z\":0.25,\"x\":\"e\",\"y\":\"4\"},{\"y\":\"5\",\"x\":\"e\",\"z\":0.75},{\"z\":0.25,\"x\":\"e\",\"y\":\"6\"},{\"z\":0.75,\"x\":\"e\",\"y\":\"7\"},{\"z\":0.25,\"y\":\"8\",\"x\":\"e\"},{\"y\":\"1\",\"x\":\"f\",\"z\":0.25},{\"z\":0.75,\"x\":\"f\",\"y\":\"2\"},{\"x\":\"f\",\"z\":0.25,\"y\":\"3\"},{\"z\":0.75,\"y\":\"4\",\"x\":\"f\"},{\"x\":\"f\",\"y\":\"5\",\"z\":0.25},{\"x\":\"f\",\"z\":0.75,\"y\":\"6\"},{\"y\":\"7\",\"x\":\"f\",\"z\":0.25},{\"y\":\"8\",\"z\":0.75,\"x\":\"f\"},{\"y\":\"1\",\"z\":0.75,\"x\":\"g\"},{\"z\":0.25,\"y\":\"2\",\"x\":\"g\"},{\"z\":0.75,\"y\":\"3\",\"x\":\"g\"},{\"z\":0.25,\"y\":\"4\",\"x\":\"g\"},{\"y\":\"5\",\"x\":\"g\",\"z\":0.75},{\"z\":0.25,\"y\":\"6\",\"x\":\"g\"},{\"z\":0.75,\"y\":\"7\",\"x\":\"g\"},{\"x\":\"g\",\"y\":\"8\",\"z\":0.25},{\"x\":\"h\",\"z\":0.25,\"y\":\"1\"},{\"x\":\"h\",\"y\":\"2\",\"z\":0.75},{\"y\":\"3\",\"z\":0.25,\"x\":\"h\"},{\"x\":\"h\",\"z\":0.75,\"y\":\"4\"},{\"y\":\"5\",\"z\":0.25,\"x\":\"h\"},{\"z\":0.75,\"y\":\"6\",\"x\":\"h\"},{\"z\":0.25,\"x\":\"h\",\"y\":\"7\"},{\"z\":0.75,\"x\":\"h\",\"y\":\"8\"}];\n\nvar myGroups = [];\nvar myVars = [];\n\nif (myGroups.length === 0) {\n    myGroups = Array.from(new Set(data.map(d => d.x)));\n}\nif (myVars.length === 0) {\n    myVars = Array.from(new Set(data.map(d => d.y)));\n}\n\nif (true) {\n    myGroups = myGroups.sort(d3.ascending);\n    myVars = myVars.sort(d3.ascending);\n}\n\n// Build X scales and axis:\nvar x = d3.scaleBand()\n    .range([0, width])\n    .domain(myGroups)\n    ;\n\nsvg.append(\"g\")\n    .style(\"font-size\", \"13px\")\n    .style(\"stroke\", \"grey\")\n    .style(\"stroke-width\", \"1px\")\n    .attr(\"font-family\", \"Helvetica\")\n    .attr(\"transform\", `translate(0, ${height})`)\n    .call(d3.axisBottom(x).tickSize(0))\n    .select(\".domain\").remove();\n\n// Build Y scales and axis:\nvar y = d3.scaleBand()\n    .range([height, 0])\n    .domain(myVars)\n    ;\n\nsvg.append(\"g\")\n    .style(\"font-size\", \"13px\")\n    .style(\"stroke\", \"grey\")\n    .style(\"stroke-width\", \"1px\")\n    .attr(\"font-family\", \"Helvetica\")\n    .call(d3.axisLeft(y).tickSize(0))\n    .select(\".domain\").remove();\n\n// Build color scale\nvar myColor = d3.scaleSequential()\n    .interpolator(d3.interpolateYlOrBr)\n    .domain([0, 1]);\n\n\n\n// add the squares\nsvg.selectAll()\n    .data(data, d => d.x + ':' + d.y)\n    .join(\"rect\")\n    .attr(\"x\", d => x(d.x))\n    .attr(\"y\", d => y(d.y))\n    \n    \n    .attr(\"width\", x.bandwidth())\n    .attr(\"height\", y.bandwidth())\n    .style(\"fill\", d => myColor(d.z))\n    .style(\"stroke-width\", 4)\n    .style(\"stroke\", \"none\")\n    .style(\"opacity\", 0.8)\n    \n    \n    ;\n\n// add the grid\nif ( false) {\n    svg.selectAll()\n        .data(data, d => d.x + ':' + d.y)\n        .join(\"rect\")\n        .attr(\"x\", d => x(d.x))\n        .attr(\"y\", d => y(d.y))\n        .attr(\"rx\", 0)\n        .attr(\"ry\", 0)\n        .attr(\"width\", x.bandwidth())\n        .attr(\"height\", y.bandwidth())\n        .style(\"fill\", \"none\")\n        .style(\"stroke-width\", 1)\n        .style(\"stroke\", \"Gray\")\n        .style(\"opacity\", 1)\n}\n\nvar plotLabelData = [{\"y\":\"1\",\"x\":\"c\",\"z\":\"&#9821;\"},{\"x\":\"d\",\"z\":\"&#9823;\",\"y\":\"2\"},{\"y\":\"1\",\"z\":\"&#9822;\",\"x\":\"g\"},{\"z\":\"&#9823;\",\"x\":\"g\",\"y\":\"2\"},{\"z\":\"&#9818;\",\"y\":\"1\",\"x\":\"e\"},{\"y\":\"2\",\"x\":\"f\",\"z\":\"&#9823;\"},{\"y\":\"1\",\"z\":\"&#9820;\",\"x\":\"a\"},{\"z\":\"&#9823;\",\"x\":\"e\",\"y\":\"2\"},{\"y\":\"3\",\"x\":\"b\",\"z\":\"&#9823;\"},{\"x\":\"a\",\"z\":\"&#9823;\",\"y\":\"2\"},{\"z\":\"&#9821;\",\"y\":\"1\",\"x\":\"f\"},{\"y\":\"2\",\"z\":\"&#9823;\",\"x\":\"h\"},{\"z\":\"&#9820;\",\"x\":\"h\",\"y\":\"1\"},{\"z\":\"&#9819;\",\"x\":\"d\",\"y\":\"1\"},{\"y\":\"2\",\"z\":\"&#9823;\",\"x\":\"c\"},{\"y\":\"1\",\"z\":\"&#9822;\",\"x\":\"b\"}]\n\nvar hx = x.bandwidth()\nvar hy = y.bandwidth()\n\nsvg.selectAll()\n.data(plotLabelData, function(d) {return d.x+':'+d.y;})\n.join(\"text\")\n  .attr(\"x\", function(d) { return x(d.x) + hx/2 })\n  .attr(\"y\", function(d) { return y(d.y) + hy/2 + hy*0.1 })\n  .attr(\"text-anchor\", \"middle\")\n  .style(\"alignment-baseline\", \"middle\")\n  .style(\"fill\", \"white\")\n  .style(\"stroke\", \"white\")\n  .style(\"stroke-width\", \"1px\")\n  .style(\"font-size\", function(d) { return (height / 7) + \"px\" })\n  .attr(\"font-family\", \"Courier\")\n  .attr(\"font-weight\", 100)\n  .html(function(d){ return d.z });\n\nvar plotLabelData = [{\"x\":\"c\",\"y\":\"1\",\"z\":\"&#9815;\"},{\"x\":\"d\",\"z\":\"&#9817;\",\"y\":\"2\"},{\"y\":\"1\",\"x\":\"g\",\"z\":\"&#9816;\"},{\"x\":\"g\",\"y\":\"2\",\"z\":\"&#9817;\"},{\"x\":\"e\",\"z\":\"&#9812;\",\"y\":\"1\"},{\"z\":\"&#9817;\",\"x\":\"f\",\"y\":\"2\"},{\"y\":\"1\",\"z\":\"&#9814;\",\"x\":\"a\"},{\"z\":\"&#9817;\",\"x\":\"e\",\"y\":\"2\"},{\"x\":\"b\",\"y\":\"3\",\"z\":\"&#9817;\"},{\"y\":\"2\",\"x\":\"a\",\"z\":\"&#9817;\"},{\"x\":\"f\",\"y\":\"1\",\"z\":\"&#9815;\"},{\"x\":\"h\",\"y\":\"2\",\"z\":\"&#9817;\"},{\"y\":\"1\",\"x\":\"h\",\"z\":\"&#9814;\"},{\"y\":\"1\",\"z\":\"&#9813;\",\"x\":\"d\"},{\"x\":\"c\",\"z\":\"&#9817;\",\"y\":\"2\"},{\"x\":\"b\",\"z\":\"&#9816;\",\"y\":\"1\"}]\n\nvar hx = x.bandwidth()\nvar hy = y.bandwidth()\n\nsvg.selectAll()\n.data(plotLabelData, function(d) {return d.x+':'+d.y;})\n.join(\"text\")\n  .attr(\"x\", function(d) { return x(d.x) + hx/2 })\n  .attr(\"y\", function(d) { return y(d.y) + hy/2 + hy*0.1 })\n  .attr(\"text-anchor\", \"middle\")\n  .style(\"alignment-baseline\", \"middle\")\n  .style(\"fill\", \"darkslategrey\")\n  .style(\"stroke\", \"darkslategrey\")\n  .style(\"stroke-width\", \"1px\")\n  .style(\"font-size\", function(d) { return (height / 7) + \"px\" })\n  .attr(\"font-family\", \"Courier\")\n  .attr(\"font-weight\", 100)\n  .html(function(d){ return d.z });\n\nvar plotLabelData = [{\"z\":\"&#9822;\",\"x\":\"g\",\"y\":\"8\"},{\"z\":\"&#9823;\",\"x\":\"f\",\"y\":\"7\"},{\"z\":\"&#9820;\",\"x\":\"a\",\"y\":\"8\"},{\"y\":\"8\",\"x\":\"c\",\"z\":\"&#9821;\"},{\"z\":\"&#9823;\",\"x\":\"e\",\"y\":\"7\"},{\"y\":\"7\",\"x\":\"g\",\"z\":\"&#9823;\"},{\"z\":\"&#9818;\",\"x\":\"e\",\"y\":\"8\"},{\"z\":\"&#9821;\",\"x\":\"f\",\"y\":\"8\"},{\"y\":\"7\",\"x\":\"a\",\"z\":\"&#9823;\"},{\"x\":\"d\",\"y\":\"7\",\"z\":\"&#9823;\"},{\"z\":\"&#9820;\",\"x\":\"h\",\"y\":\"8\"},{\"y\":\"7\",\"z\":\"&#9823;\",\"x\":\"b\"},{\"x\":\"h\",\"z\":\"&#9823;\",\"y\":\"7\"},{\"x\":\"d\",\"y\":\"8\",\"z\":\"&#9819;\"},{\"x\":\"b\",\"y\":\"8\",\"z\":\"&#9822;\"},{\"z\":\"&#9823;\",\"x\":\"c\",\"y\":\"7\"}]\n\nvar hx = x.bandwidth()\nvar hy = y.bandwidth()\n\nsvg.selectAll()\n.data(plotLabelData, function(d) {return d.x+':'+d.y;})\n.join(\"text\")\n  .attr(\"x\", function(d) { return x(d.x) + hx/2 })\n  .attr(\"y\", function(d) { return y(d.y) + hy/2 + hy*0.1 })\n  .attr(\"text-anchor\", \"middle\")\n  .style(\"alignment-baseline\", \"middle\")\n  .style(\"fill\", \"black\")\n  .style(\"stroke\", \"black\")\n  .style(\"stroke-width\", \"1px\")\n  .style(\"font-size\", function(d) { return (height / 7) + \"px\" })\n  .attr(\"font-family\", \"Courier\")\n  .attr(\"font-weight\", 100)\n  .html(function(d){ return d.z });\n\n\n// set the dimensions and margins of the graph\nvar margin = {\"right\":40,\"bottom\":40,\"top\":40,\"left\":40},\n    width = 400 - margin.left - margin.right,\n    height = 400 - margin.top - margin.bottom;\n\n// append the svg object to the body of the page\nvar svg = d3\n   .select(element.get(0))\n  .append(\"svg\")\n    .attr(\"width\", width + margin.left + margin.right)\n    .attr(\"height\", height + margin.top + margin.bottom)\n    .style(\"background\", \"#1F1F1F\")\n  .append(\"g\")\n    .attr(\"transform\",\n          \"translate(\" + margin.left + \",\" + margin.top + \")\")\n\n// Obtain title\nvar title = \"\"\nvar titleFontSize = 16\n\nif ( title.length > 0 ) {\n    svg.append(\"text\")\n        .attr(\"x\", (width / 2))\n        .attr(\"y\", 0 - (margin.top / 2))\n        .attr(\"text-anchor\", \"middle\")\n        .style(\"font-size\", titleFontSize.toString() + \"px\")\n        .style(\"fill\", \"Silver\")\n        .text(title);\n}\n\n// Obtain data\nvar data = [{\"x\":\"a\",\"z\":0.75,\"y\":\"1\"},{\"z\":0.25,\"x\":\"a\",\"y\":\"2\"},{\"z\":0.75,\"x\":\"a\",\"y\":\"3\"},{\"z\":0.25,\"x\":\"a\",\"y\":\"4\"},{\"x\":\"a\",\"z\":0.75,\"y\":\"5\"},{\"y\":\"6\",\"z\":0.25,\"x\":\"a\"},{\"x\":\"a\",\"y\":\"7\",\"z\":0.75},{\"z\":0.25,\"y\":\"8\",\"x\":\"a\"},{\"y\":\"1\",\"z\":0.25,\"x\":\"b\"},{\"x\":\"b\",\"y\":\"2\",\"z\":0.75},{\"z\":0.25,\"x\":\"b\",\"y\":\"3\"},{\"z\":0.75,\"y\":\"4\",\"x\":\"b\"},{\"y\":\"5\",\"x\":\"b\",\"z\":0.25},{\"y\":\"6\",\"z\":0.75,\"x\":\"b\"},{\"y\":\"7\",\"x\":\"b\",\"z\":0.25},{\"y\":\"8\",\"z\":0.75,\"x\":\"b\"},{\"x\":\"c\",\"z\":0.75,\"y\":\"1\"},{\"y\":\"2\",\"z\":0.25,\"x\":\"c\"},{\"x\":\"c\",\"z\":0.75,\"y\":\"3\"},{\"x\":\"c\",\"z\":0.25,\"y\":\"4\"},{\"x\":\"c\",\"y\":\"5\",\"z\":0.75},{\"x\":\"c\",\"y\":\"6\",\"z\":0.25},{\"y\":\"7\",\"x\":\"c\",\"z\":0.75},{\"y\":\"8\",\"x\":\"c\",\"z\":0.25},{\"y\":\"1\",\"z\":0.25,\"x\":\"d\"},{\"z\":0.75,\"y\":\"2\",\"x\":\"d\"},{\"y\":\"3\",\"x\":\"d\",\"z\":0.25},{\"x\":\"d\",\"y\":\"4\",\"z\":0.75},{\"y\":\"5\",\"z\":0.25,\"x\":\"d\"},{\"z\":0.75,\"x\":\"d\",\"y\":\"6\"},{\"x\":\"d\",\"z\":0.25,\"y\":\"7\"},{\"z\":0.75,\"y\":\"8\",\"x\":\"d\"},{\"y\":\"1\",\"z\":0.75,\"x\":\"e\"},{\"z\":0.25,\"x\":\"e\",\"y\":\"2\"},{\"z\":0.75,\"x\":\"e\",\"y\":\"3\"},{\"x\":\"e\",\"y\":\"4\",\"z\":0.25},{\"z\":0.75,\"x\":\"e\",\"y\":\"5\"},{\"z\":0.25,\"x\":\"e\",\"y\":\"6\"},{\"y\":\"7\",\"x\":\"e\",\"z\":0.75},{\"z\":0.25,\"y\":\"8\",\"x\":\"e\"},{\"y\":\"1\",\"x\":\"f\",\"z\":0.25},{\"z\":0.75,\"x\":\"f\",\"y\":\"2\"},{\"y\":\"3\",\"z\":0.25,\"x\":\"f\"},{\"y\":\"4\",\"z\":0.75,\"x\":\"f\"},{\"y\":\"5\",\"x\":\"f\",\"z\":0.25},{\"y\":\"6\",\"z\":0.75,\"x\":\"f\"},{\"z\":0.25,\"x\":\"f\",\"y\":\"7\"},{\"x\":\"f\",\"y\":\"8\",\"z\":0.75},{\"x\":\"g\",\"y\":\"1\",\"z\":0.75},{\"y\":\"2\",\"x\":\"g\",\"z\":0.25},{\"x\":\"g\",\"z\":0.75,\"y\":\"3\"},{\"x\":\"g\",\"z\":0.25,\"y\":\"4\"},{\"y\":\"5\",\"z\":0.75,\"x\":\"g\"},{\"z\":0.25,\"x\":\"g\",\"y\":\"6\"},{\"x\":\"g\",\"y\":\"7\",\"z\":0.75},{\"x\":\"g\",\"z\":0.25,\"y\":\"8\"},{\"y\":\"1\",\"x\":\"h\",\"z\":0.25},{\"z\":0.75,\"x\":\"h\",\"y\":\"2\"},{\"z\":0.25,\"y\":\"3\",\"x\":\"h\"},{\"z\":0.75,\"x\":\"h\",\"y\":\"4\"},{\"z\":0.25,\"y\":\"5\",\"x\":\"h\"},{\"z\":0.75,\"x\":\"h\",\"y\":\"6\"},{\"y\":\"7\",\"x\":\"h\",\"z\":0.25},{\"z\":0.75,\"y\":\"8\",\"x\":\"h\"}];\n\nvar myGroups = [];\nvar myVars = [];\n\nif (myGroups.length === 0) {\n    myGroups = Array.from(new Set(data.map(d => d.x)));\n}\nif (myVars.length === 0) {\n    myVars = Array.from(new Set(data.map(d => d.y)));\n}\n\nif (true) {\n    myGroups = myGroups.sort(d3.ascending);\n    myVars = myVars.sort(d3.ascending);\n}\n\n// Build X scales and axis:\nvar x = d3.scaleBand()\n    .range([0, width])\n    .domain(myGroups)\n    ;\n\nsvg.append(\"g\")\n    .style(\"font-size\", \"13px\")\n    .style(\"stroke\", \"grey\")\n    .style(\"stroke-width\", \"1px\")\n    .attr(\"font-family\", \"Helvetica\")\n    .attr(\"transform\", `translate(0, ${height})`)\n    .call(d3.axisBottom(x).tickSize(0))\n    .select(\".domain\").remove();\n\n// Build Y scales and axis:\nvar y = d3.scaleBand()\n    .range([height, 0])\n    .domain(myVars)\n    ;\n\nsvg.append(\"g\")\n    .style(\"font-size\", \"13px\")\n    .style(\"stroke\", \"grey\")\n    .style(\"stroke-width\", \"1px\")\n    .attr(\"font-family\", \"Helvetica\")\n    .call(d3.axisLeft(y).tickSize(0))\n    .select(\".domain\").remove();\n\n// Build color scale\nvar myColor = d3.scaleSequential()\n    .interpolator(d3.interpolateYlOrBr)\n    .domain([0, 1]);\n\n\n\n// add the squares\nsvg.selectAll()\n    .data(data, d => d.x + ':' + d.y)\n    .join(\"rect\")\n    .attr(\"x\", d => x(d.x))\n    .attr(\"y\", d => y(d.y))\n    \n    \n    .attr(\"width\", x.bandwidth())\n    .attr(\"height\", y.bandwidth())\n    .style(\"fill\", d => myColor(d.z))\n    .style(\"stroke-width\", 4)\n    .style(\"stroke\", \"none\")\n    .style(\"opacity\", 0.8)\n    \n    \n    ;\n\n// add the grid\nif ( false) {\n    svg.selectAll()\n        .data(data, d => d.x + ':' + d.y)\n        .join(\"rect\")\n        .attr(\"x\", d => x(d.x))\n        .attr(\"y\", d => y(d.y))\n        .attr(\"rx\", 0)\n        .attr(\"ry\", 0)\n        .attr(\"width\", x.bandwidth())\n        .attr(\"height\", y.bandwidth())\n        .style(\"fill\", \"none\")\n        .style(\"stroke-width\", 1)\n        .style(\"stroke\", \"Gray\")\n        .style(\"opacity\", 1)\n}\n\nvar plotLabelData = [{\"x\":\"g\",\"y\":\"1\",\"z\":\"&#9822;\"},{\"z\":\"&#9823;\",\"x\":\"e\",\"y\":\"2\"},{\"y\":\"1\",\"z\":\"&#9821;\",\"x\":\"c\"},{\"z\":\"&#9823;\",\"x\":\"c\",\"y\":\"2\"},{\"y\":\"1\",\"z\":\"&#9819;\",\"x\":\"d\"},{\"z\":\"&#9820;\",\"x\":\"h\",\"y\":\"1\"},{\"x\":\"h\",\"y\":\"2\",\"z\":\"&#9823;\"},{\"z\":\"&#9818;\",\"y\":\"1\",\"x\":\"e\"},{\"y\":\"1\",\"x\":\"b\",\"z\":\"&#9822;\"},{\"z\":\"&#9820;\",\"x\":\"a\",\"y\":\"1\"},{\"y\":\"2\",\"x\":\"d\",\"z\":\"&#9823;\"},{\"x\":\"a\",\"y\":\"2\",\"z\":\"&#9823;\"},{\"y\":\"2\",\"x\":\"g\",\"z\":\"&#9823;\"},{\"x\":\"f\",\"y\":\"2\",\"z\":\"&#9823;\"},{\"y\":\"1\",\"z\":\"&#9821;\",\"x\":\"f\"},{\"y\":\"3\",\"x\":\"b\",\"z\":\"&#9823;\"}]\n\nvar hx = x.bandwidth()\nvar hy = y.bandwidth()\n\nsvg.selectAll()\n.data(plotLabelData, function(d) {return d.x+':'+d.y;})\n.join(\"text\")\n  .attr(\"x\", function(d) { return x(d.x) + hx/2 })\n  .attr(\"y\", function(d) { return y(d.y) + hy/2 + hy*0.1 })\n  .attr(\"text-anchor\", \"middle\")\n  .style(\"alignment-baseline\", \"middle\")\n  .style(\"fill\", \"white\")\n  .style(\"stroke\", \"white\")\n  .style(\"stroke-width\", \"1px\")\n  .style(\"font-size\", function(d) { return (height / 7) + \"px\" })\n  .attr(\"font-family\", \"Courier\")\n  .attr(\"font-weight\", 100)\n  .html(function(d){ return d.z });\n\nvar plotLabelData = [{\"x\":\"g\",\"z\":\"&#9816;\",\"y\":\"1\"},{\"y\":\"2\",\"x\":\"e\",\"z\":\"&#9817;\"},{\"z\":\"&#9815;\",\"x\":\"c\",\"y\":\"1\"},{\"x\":\"c\",\"z\":\"&#9817;\",\"y\":\"2\"},{\"z\":\"&#9813;\",\"y\":\"1\",\"x\":\"d\"},{\"y\":\"1\",\"z\":\"&#9814;\",\"x\":\"h\"},{\"z\":\"&#9817;\",\"x\":\"h\",\"y\":\"2\"},{\"z\":\"&#9812;\",\"y\":\"1\",\"x\":\"e\"},{\"z\":\"&#9816;\",\"y\":\"1\",\"x\":\"b\"},{\"y\":\"1\",\"z\":\"&#9814;\",\"x\":\"a\"},{\"z\":\"&#9817;\",\"y\":\"2\",\"x\":\"d\"},{\"x\":\"a\",\"z\":\"&#9817;\",\"y\":\"2\"},{\"y\":\"2\",\"x\":\"g\",\"z\":\"&#9817;\"},{\"x\":\"f\",\"y\":\"2\",\"z\":\"&#9817;\"},{\"x\":\"f\",\"y\":\"1\",\"z\":\"&#9815;\"},{\"z\":\"&#9817;\",\"y\":\"3\",\"x\":\"b\"}]\n\nvar hx = x.bandwidth()\nvar hy = y.bandwidth()\n\nsvg.selectAll()\n.data(plotLabelData, function(d) {return d.x+':'+d.y;})\n.join(\"text\")\n  .attr(\"x\", function(d) { return x(d.x) + hx/2 })\n  .attr(\"y\", function(d) { return y(d.y) + hy/2 + hy*0.1 })\n  .attr(\"text-anchor\", \"middle\")\n  .style(\"alignment-baseline\", \"middle\")\n  .style(\"fill\", \"darkslategrey\")\n  .style(\"stroke\", \"darkslategrey\")\n  .style(\"stroke-width\", \"1px\")\n  .style(\"font-size\", function(d) { return (height / 7) + \"px\" })\n  .attr(\"font-family\", \"Courier\")\n  .attr(\"font-weight\", 100)\n  .html(function(d){ return d.z });\n\nvar plotLabelData = [{\"z\":\"&#9819;\",\"y\":\"8\",\"x\":\"d\"},{\"x\":\"b\",\"y\":\"7\",\"z\":\"&#9823;\"},{\"y\":\"7\",\"x\":\"c\",\"z\":\"&#9823;\"},{\"z\":\"&#9822;\",\"y\":\"8\",\"x\":\"b\"},{\"z\":\"&#9822;\",\"y\":\"8\",\"x\":\"g\"},{\"z\":\"&#9823;\",\"x\":\"a\",\"y\":\"7\"},{\"x\":\"h\",\"y\":\"7\",\"z\":\"&#9823;\"},{\"x\":\"h\",\"y\":\"8\",\"z\":\"&#9820;\"},{\"y\":\"7\",\"x\":\"f\",\"z\":\"&#9823;\"},{\"y\":\"8\",\"x\":\"f\",\"z\":\"&#9821;\"},{\"z\":\"&#9820;\",\"y\":\"8\",\"x\":\"a\"},{\"y\":\"8\",\"x\":\"c\",\"z\":\"&#9821;\"},{\"x\":\"g\",\"z\":\"&#9823;\",\"y\":\"7\"},{\"y\":\"7\",\"x\":\"d\",\"z\":\"&#9823;\"},{\"x\":\"e\",\"z\":\"&#9823;\",\"y\":\"5\"},{\"x\":\"e\",\"z\":\"&#9818;\",\"y\":\"8\"}]\n\nvar hx = x.bandwidth()\nvar hy = y.bandwidth()\n\nsvg.selectAll()\n.data(plotLabelData, function(d) {return d.x+':'+d.y;})\n.join(\"text\")\n  .attr(\"x\", function(d) { return x(d.x) + hx/2 })\n  .attr(\"y\", function(d) { return y(d.y) + hy/2 + hy*0.1 })\n  .attr(\"text-anchor\", \"middle\")\n  .style(\"alignment-baseline\", \"middle\")\n  .style(\"fill\", \"black\")\n  .style(\"stroke\", \"black\")\n  .style(\"stroke-width\", \"1px\")\n  .style(\"font-size\", function(d) { return (height / 7) + \"px\" })\n  .attr(\"font-family\", \"Courier\")\n  .attr(\"font-weight\", 100)\n  .html(function(d){ return d.z });\n\n}) })(element);\n"
     },
     "execution_count": 28,
     "metadata": {},
     "output_type": "execute_result"
    }
   ],
   "source": [
    "#%js\n",
    "js-d3-chessboard(fen-specs(cbpaste), |%opts)"
   ]
  },
  {
   "cell_type": "markdown",
   "metadata": {},
   "source": [
    "Another user move:"
   ]
  },
  {
   "cell_type": "code",
   "execution_count": 29,
   "metadata": {},
   "outputs": [
    {
     "data": {
      "text/markdown": [
       "You moved: Bishop from c1 to a3\n",
       "\n",
       "Here's the updated FEN position after your move:\n",
       "\n",
       "`rnbqkbnr/pppp1ppp/8/4p3/8/BP6/P1PPPPPP/RN1QKBNR b KQkq - 1 2`\n",
       "\n",
       "Now it's my turn. I'll play:\n",
       "\n",
       "d7 to d6\n",
       "\n",
       "Here's the updated FEN position after my move:\n",
       "\n",
       "`rnbqkbnr/ppp2ppp/3p4/4p3/8/BP6/P1PPPPPP/RN1QKBNR w KQkq - 0 3`\n",
       "\n",
       "Your move!"
      ]
     },
     "execution_count": 29,
     "metadata": {},
     "output_type": "execute_result"
    }
   ],
   "source": [
    "#% chat cm > markdown\n",
    "Bishop from c1 to a3"
   ]
  },
  {
   "cell_type": "markdown",
   "metadata": {},
   "source": [
    "User move and ChessMaster move:"
   ]
  },
  {
   "cell_type": "code",
   "execution_count": 30,
   "metadata": {},
   "outputs": [
    {
     "data": {
      "application/javascript": "(function(element) { require(['d3'], function(d3) {\n\n\n\n// set the dimensions and margins of the graph\nvar margin = {\"top\":40,\"left\":40,\"right\":40,\"bottom\":40},\n    width = 400 - margin.left - margin.right,\n    height = 400 - margin.top - margin.bottom;\n\n// append the svg object to the body of the page\nvar svg = d3\n   .select(element.get(0))\n  .append(\"svg\")\n    .attr(\"width\", width + margin.left + margin.right)\n    .attr(\"height\", height + margin.top + margin.bottom)\n    .style(\"background\", \"#1F1F1F\")\n  .append(\"g\")\n    .attr(\"transform\",\n          \"translate(\" + margin.left + \",\" + margin.top + \")\")\n\n// Obtain title\nvar title = \"\"\nvar titleFontSize = 16\n\nif ( title.length > 0 ) {\n    svg.append(\"text\")\n        .attr(\"x\", (width / 2))\n        .attr(\"y\", 0 - (margin.top / 2))\n        .attr(\"text-anchor\", \"middle\")\n        .style(\"font-size\", titleFontSize.toString() + \"px\")\n        .style(\"fill\", \"Silver\")\n        .text(title);\n}\n\n// Obtain data\nvar data = [{\"x\":\"a\",\"y\":\"1\",\"z\":0.75},{\"x\":\"a\",\"z\":0.25,\"y\":\"2\"},{\"x\":\"a\",\"y\":\"3\",\"z\":0.75},{\"x\":\"a\",\"z\":0.25,\"y\":\"4\"},{\"y\":\"5\",\"x\":\"a\",\"z\":0.75},{\"z\":0.25,\"y\":\"6\",\"x\":\"a\"},{\"z\":0.75,\"y\":\"7\",\"x\":\"a\"},{\"x\":\"a\",\"y\":\"8\",\"z\":0.25},{\"x\":\"b\",\"z\":0.25,\"y\":\"1\"},{\"x\":\"b\",\"y\":\"2\",\"z\":0.75},{\"z\":0.25,\"y\":\"3\",\"x\":\"b\"},{\"x\":\"b\",\"z\":0.75,\"y\":\"4\"},{\"z\":0.25,\"x\":\"b\",\"y\":\"5\"},{\"y\":\"6\",\"z\":0.75,\"x\":\"b\"},{\"z\":0.25,\"x\":\"b\",\"y\":\"7\"},{\"z\":0.75,\"x\":\"b\",\"y\":\"8\"},{\"x\":\"c\",\"y\":\"1\",\"z\":0.75},{\"z\":0.25,\"x\":\"c\",\"y\":\"2\"},{\"x\":\"c\",\"y\":\"3\",\"z\":0.75},{\"z\":0.25,\"x\":\"c\",\"y\":\"4\"},{\"x\":\"c\",\"y\":\"5\",\"z\":0.75},{\"x\":\"c\",\"z\":0.25,\"y\":\"6\"},{\"y\":\"7\",\"x\":\"c\",\"z\":0.75},{\"y\":\"8\",\"z\":0.25,\"x\":\"c\"},{\"z\":0.25,\"x\":\"d\",\"y\":\"1\"},{\"z\":0.75,\"x\":\"d\",\"y\":\"2\"},{\"x\":\"d\",\"y\":\"3\",\"z\":0.25},{\"y\":\"4\",\"x\":\"d\",\"z\":0.75},{\"z\":0.25,\"y\":\"5\",\"x\":\"d\"},{\"y\":\"6\",\"x\":\"d\",\"z\":0.75},{\"y\":\"7\",\"x\":\"d\",\"z\":0.25},{\"z\":0.75,\"x\":\"d\",\"y\":\"8\"},{\"z\":0.75,\"x\":\"e\",\"y\":\"1\"},{\"z\":0.25,\"x\":\"e\",\"y\":\"2\"},{\"y\":\"3\",\"z\":0.75,\"x\":\"e\"},{\"y\":\"4\",\"x\":\"e\",\"z\":0.25},{\"z\":0.75,\"x\":\"e\",\"y\":\"5\"},{\"y\":\"6\",\"x\":\"e\",\"z\":0.25},{\"z\":0.75,\"x\":\"e\",\"y\":\"7\"},{\"x\":\"e\",\"y\":\"8\",\"z\":0.25},{\"x\":\"f\",\"z\":0.25,\"y\":\"1\"},{\"z\":0.75,\"y\":\"2\",\"x\":\"f\"},{\"x\":\"f\",\"y\":\"3\",\"z\":0.25},{\"z\":0.75,\"x\":\"f\",\"y\":\"4\"},{\"y\":\"5\",\"z\":0.25,\"x\":\"f\"},{\"z\":0.75,\"y\":\"6\",\"x\":\"f\"},{\"z\":0.25,\"y\":\"7\",\"x\":\"f\"},{\"y\":\"8\",\"z\":0.75,\"x\":\"f\"},{\"z\":0.75,\"x\":\"g\",\"y\":\"1\"},{\"y\":\"2\",\"z\":0.25,\"x\":\"g\"},{\"z\":0.75,\"y\":\"3\",\"x\":\"g\"},{\"x\":\"g\",\"y\":\"4\",\"z\":0.25},{\"x\":\"g\",\"z\":0.75,\"y\":\"5\"},{\"y\":\"6\",\"x\":\"g\",\"z\":0.25},{\"y\":\"7\",\"x\":\"g\",\"z\":0.75},{\"x\":\"g\",\"z\":0.25,\"y\":\"8\"},{\"z\":0.25,\"y\":\"1\",\"x\":\"h\"},{\"z\":0.75,\"y\":\"2\",\"x\":\"h\"},{\"z\":0.25,\"y\":\"3\",\"x\":\"h\"},{\"z\":0.75,\"y\":\"4\",\"x\":\"h\"},{\"x\":\"h\",\"z\":0.25,\"y\":\"5\"},{\"x\":\"h\",\"y\":\"6\",\"z\":0.75},{\"x\":\"h\",\"z\":0.25,\"y\":\"7\"},{\"y\":\"8\",\"z\":0.75,\"x\":\"h\"}];\n\nvar myGroups = [];\nvar myVars = [];\n\nif (myGroups.length === 0) {\n    myGroups = Array.from(new Set(data.map(d => d.x)));\n}\nif (myVars.length === 0) {\n    myVars = Array.from(new Set(data.map(d => d.y)));\n}\n\nif (true) {\n    myGroups = myGroups.sort(d3.ascending);\n    myVars = myVars.sort(d3.ascending);\n}\n\n// Build X scales and axis:\nvar x = d3.scaleBand()\n    .range([0, width])\n    .domain(myGroups)\n    ;\n\nsvg.append(\"g\")\n    .style(\"font-size\", \"13px\")\n    .style(\"stroke\", \"grey\")\n    .style(\"stroke-width\", \"1px\")\n    .attr(\"font-family\", \"Helvetica\")\n    .attr(\"transform\", `translate(0, ${height})`)\n    .call(d3.axisBottom(x).tickSize(0))\n    .select(\".domain\").remove();\n\n// Build Y scales and axis:\nvar y = d3.scaleBand()\n    .range([height, 0])\n    .domain(myVars)\n    ;\n\nsvg.append(\"g\")\n    .style(\"font-size\", \"13px\")\n    .style(\"stroke\", \"grey\")\n    .style(\"stroke-width\", \"1px\")\n    .attr(\"font-family\", \"Helvetica\")\n    .call(d3.axisLeft(y).tickSize(0))\n    .select(\".domain\").remove();\n\n// Build color scale\nvar myColor = d3.scaleSequential()\n    .interpolator(d3.interpolateYlOrBr)\n    .domain([0, 1]);\n\n\n\n// add the squares\nsvg.selectAll()\n    .data(data, d => d.x + ':' + d.y)\n    .join(\"rect\")\n    .attr(\"x\", d => x(d.x))\n    .attr(\"y\", d => y(d.y))\n    \n    \n    .attr(\"width\", x.bandwidth())\n    .attr(\"height\", y.bandwidth())\n    .style(\"fill\", d => myColor(d.z))\n    .style(\"stroke-width\", 4)\n    .style(\"stroke\", \"none\")\n    .style(\"opacity\", 0.8)\n    \n    \n    ;\n\n// add the grid\nif ( false) {\n    svg.selectAll()\n        .data(data, d => d.x + ':' + d.y)\n        .join(\"rect\")\n        .attr(\"x\", d => x(d.x))\n        .attr(\"y\", d => y(d.y))\n        .attr(\"rx\", 0)\n        .attr(\"ry\", 0)\n        .attr(\"width\", x.bandwidth())\n        .attr(\"height\", y.bandwidth())\n        .style(\"fill\", \"none\")\n        .style(\"stroke-width\", 1)\n        .style(\"stroke\", \"Gray\")\n        .style(\"opacity\", 1)\n}\n\nvar plotLabelData = [{\"y\":\"1\",\"z\":\"&#9821;\",\"x\":\"f\"},{\"z\":\"&#9819;\",\"x\":\"d\",\"y\":\"1\"},{\"y\":\"2\",\"x\":\"e\",\"z\":\"&#9823;\"},{\"y\":\"3\",\"x\":\"a\",\"z\":\"&#9821;\"},{\"x\":\"d\",\"z\":\"&#9823;\",\"y\":\"2\"},{\"z\":\"&#9820;\",\"x\":\"h\",\"y\":\"1\"},{\"y\":\"1\",\"z\":\"&#9822;\",\"x\":\"g\"},{\"y\":\"2\",\"x\":\"g\",\"z\":\"&#9823;\"},{\"z\":\"&#9823;\",\"x\":\"b\",\"y\":\"3\"},{\"y\":\"1\",\"z\":\"&#9822;\",\"x\":\"b\"},{\"x\":\"c\",\"y\":\"2\",\"z\":\"&#9823;\"},{\"y\":\"2\",\"z\":\"&#9823;\",\"x\":\"f\"},{\"x\":\"h\",\"y\":\"2\",\"z\":\"&#9823;\"},{\"y\":\"2\",\"x\":\"a\",\"z\":\"&#9823;\"},{\"x\":\"e\",\"z\":\"&#9818;\",\"y\":\"1\"},{\"z\":\"&#9820;\",\"x\":\"a\",\"y\":\"1\"}]\n\nvar hx = x.bandwidth()\nvar hy = y.bandwidth()\n\nsvg.selectAll()\n.data(plotLabelData, function(d) {return d.x+':'+d.y;})\n.join(\"text\")\n  .attr(\"x\", function(d) { return x(d.x) + hx/2 })\n  .attr(\"y\", function(d) { return y(d.y) + hy/2 + hy*0.1 })\n  .attr(\"text-anchor\", \"middle\")\n  .style(\"alignment-baseline\", \"middle\")\n  .style(\"fill\", \"white\")\n  .style(\"stroke\", \"white\")\n  .style(\"stroke-width\", \"1px\")\n  .style(\"font-size\", function(d) { return (height / 7) + \"px\" })\n  .attr(\"font-family\", \"Courier\")\n  .attr(\"font-weight\", 100)\n  .html(function(d){ return d.z });\n\nvar plotLabelData = [{\"x\":\"f\",\"y\":\"1\",\"z\":\"&#9815;\"},{\"x\":\"d\",\"z\":\"&#9813;\",\"y\":\"1\"},{\"y\":\"2\",\"z\":\"&#9817;\",\"x\":\"e\"},{\"y\":\"3\",\"x\":\"a\",\"z\":\"&#9815;\"},{\"y\":\"2\",\"z\":\"&#9817;\",\"x\":\"d\"},{\"z\":\"&#9814;\",\"x\":\"h\",\"y\":\"1\"},{\"z\":\"&#9816;\",\"y\":\"1\",\"x\":\"g\"},{\"x\":\"g\",\"y\":\"2\",\"z\":\"&#9817;\"},{\"x\":\"b\",\"y\":\"3\",\"z\":\"&#9817;\"},{\"y\":\"1\",\"z\":\"&#9816;\",\"x\":\"b\"},{\"y\":\"2\",\"x\":\"c\",\"z\":\"&#9817;\"},{\"x\":\"f\",\"y\":\"2\",\"z\":\"&#9817;\"},{\"x\":\"h\",\"y\":\"2\",\"z\":\"&#9817;\"},{\"z\":\"&#9817;\",\"y\":\"2\",\"x\":\"a\"},{\"y\":\"1\",\"x\":\"e\",\"z\":\"&#9812;\"},{\"x\":\"a\",\"y\":\"1\",\"z\":\"&#9814;\"}]\n\nvar hx = x.bandwidth()\nvar hy = y.bandwidth()\n\nsvg.selectAll()\n.data(plotLabelData, function(d) {return d.x+':'+d.y;})\n.join(\"text\")\n  .attr(\"x\", function(d) { return x(d.x) + hx/2 })\n  .attr(\"y\", function(d) { return y(d.y) + hy/2 + hy*0.1 })\n  .attr(\"text-anchor\", \"middle\")\n  .style(\"alignment-baseline\", \"middle\")\n  .style(\"fill\", \"darkslategrey\")\n  .style(\"stroke\", \"darkslategrey\")\n  .style(\"stroke-width\", \"1px\")\n  .style(\"font-size\", function(d) { return (height / 7) + \"px\" })\n  .attr(\"font-family\", \"Courier\")\n  .attr(\"font-weight\", 100)\n  .html(function(d){ return d.z });\n\nvar plotLabelData = [{\"x\":\"a\",\"z\":\"&#9823;\",\"y\":\"7\"},{\"z\":\"&#9821;\",\"x\":\"c\",\"y\":\"8\"},{\"z\":\"&#9819;\",\"x\":\"d\",\"y\":\"8\"},{\"z\":\"&#9823;\",\"y\":\"7\",\"x\":\"b\"},{\"x\":\"f\",\"y\":\"8\",\"z\":\"&#9821;\"},{\"z\":\"&#9820;\",\"x\":\"h\",\"y\":\"8\"},{\"y\":\"8\",\"x\":\"b\",\"z\":\"&#9822;\"},{\"y\":\"7\",\"x\":\"f\",\"z\":\"&#9823;\"},{\"y\":\"7\",\"z\":\"&#9823;\",\"x\":\"c\"},{\"x\":\"e\",\"y\":\"8\",\"z\":\"&#9818;\"},{\"x\":\"g\",\"y\":\"7\",\"z\":\"&#9823;\"},{\"y\":\"5\",\"z\":\"&#9823;\",\"x\":\"e\"},{\"z\":\"&#9822;\",\"x\":\"g\",\"y\":\"8\"},{\"x\":\"d\",\"z\":\"&#9823;\",\"y\":\"7\"},{\"z\":\"&#9823;\",\"y\":\"7\",\"x\":\"h\"},{\"x\":\"a\",\"y\":\"8\",\"z\":\"&#9820;\"}]\n\nvar hx = x.bandwidth()\nvar hy = y.bandwidth()\n\nsvg.selectAll()\n.data(plotLabelData, function(d) {return d.x+':'+d.y;})\n.join(\"text\")\n  .attr(\"x\", function(d) { return x(d.x) + hx/2 })\n  .attr(\"y\", function(d) { return y(d.y) + hy/2 + hy*0.1 })\n  .attr(\"text-anchor\", \"middle\")\n  .style(\"alignment-baseline\", \"middle\")\n  .style(\"fill\", \"black\")\n  .style(\"stroke\", \"black\")\n  .style(\"stroke-width\", \"1px\")\n  .style(\"font-size\", function(d) { return (height / 7) + \"px\" })\n  .attr(\"font-family\", \"Courier\")\n  .attr(\"font-weight\", 100)\n  .html(function(d){ return d.z });\n\n\n// set the dimensions and margins of the graph\nvar margin = {\"top\":40,\"bottom\":40,\"left\":40,\"right\":40},\n    width = 400 - margin.left - margin.right,\n    height = 400 - margin.top - margin.bottom;\n\n// append the svg object to the body of the page\nvar svg = d3\n   .select(element.get(0))\n  .append(\"svg\")\n    .attr(\"width\", width + margin.left + margin.right)\n    .attr(\"height\", height + margin.top + margin.bottom)\n    .style(\"background\", \"#1F1F1F\")\n  .append(\"g\")\n    .attr(\"transform\",\n          \"translate(\" + margin.left + \",\" + margin.top + \")\")\n\n// Obtain title\nvar title = \"\"\nvar titleFontSize = 16\n\nif ( title.length > 0 ) {\n    svg.append(\"text\")\n        .attr(\"x\", (width / 2))\n        .attr(\"y\", 0 - (margin.top / 2))\n        .attr(\"text-anchor\", \"middle\")\n        .style(\"font-size\", titleFontSize.toString() + \"px\")\n        .style(\"fill\", \"Silver\")\n        .text(title);\n}\n\n// Obtain data\nvar data = [{\"y\":\"1\",\"x\":\"a\",\"z\":0.75},{\"y\":\"2\",\"z\":0.25,\"x\":\"a\"},{\"z\":0.75,\"x\":\"a\",\"y\":\"3\"},{\"x\":\"a\",\"y\":\"4\",\"z\":0.25},{\"x\":\"a\",\"y\":\"5\",\"z\":0.75},{\"x\":\"a\",\"z\":0.25,\"y\":\"6\"},{\"x\":\"a\",\"z\":0.75,\"y\":\"7\"},{\"x\":\"a\",\"y\":\"8\",\"z\":0.25},{\"x\":\"b\",\"y\":\"1\",\"z\":0.25},{\"x\":\"b\",\"y\":\"2\",\"z\":0.75},{\"z\":0.25,\"y\":\"3\",\"x\":\"b\"},{\"y\":\"4\",\"x\":\"b\",\"z\":0.75},{\"y\":\"5\",\"z\":0.25,\"x\":\"b\"},{\"x\":\"b\",\"y\":\"6\",\"z\":0.75},{\"y\":\"7\",\"x\":\"b\",\"z\":0.25},{\"z\":0.75,\"y\":\"8\",\"x\":\"b\"},{\"z\":0.75,\"y\":\"1\",\"x\":\"c\"},{\"x\":\"c\",\"z\":0.25,\"y\":\"2\"},{\"x\":\"c\",\"z\":0.75,\"y\":\"3\"},{\"x\":\"c\",\"y\":\"4\",\"z\":0.25},{\"x\":\"c\",\"y\":\"5\",\"z\":0.75},{\"x\":\"c\",\"y\":\"6\",\"z\":0.25},{\"z\":0.75,\"y\":\"7\",\"x\":\"c\"},{\"y\":\"8\",\"z\":0.25,\"x\":\"c\"},{\"z\":0.25,\"x\":\"d\",\"y\":\"1\"},{\"z\":0.75,\"y\":\"2\",\"x\":\"d\"},{\"y\":\"3\",\"z\":0.25,\"x\":\"d\"},{\"z\":0.75,\"y\":\"4\",\"x\":\"d\"},{\"x\":\"d\",\"y\":\"5\",\"z\":0.25},{\"y\":\"6\",\"z\":0.75,\"x\":\"d\"},{\"y\":\"7\",\"x\":\"d\",\"z\":0.25},{\"y\":\"8\",\"z\":0.75,\"x\":\"d\"},{\"y\":\"1\",\"x\":\"e\",\"z\":0.75},{\"y\":\"2\",\"z\":0.25,\"x\":\"e\"},{\"z\":0.75,\"y\":\"3\",\"x\":\"e\"},{\"z\":0.25,\"x\":\"e\",\"y\":\"4\"},{\"x\":\"e\",\"z\":0.75,\"y\":\"5\"},{\"x\":\"e\",\"y\":\"6\",\"z\":0.25},{\"y\":\"7\",\"z\":0.75,\"x\":\"e\"},{\"z\":0.25,\"y\":\"8\",\"x\":\"e\"},{\"x\":\"f\",\"z\":0.25,\"y\":\"1\"},{\"x\":\"f\",\"z\":0.75,\"y\":\"2\"},{\"x\":\"f\",\"z\":0.25,\"y\":\"3\"},{\"y\":\"4\",\"x\":\"f\",\"z\":0.75},{\"y\":\"5\",\"z\":0.25,\"x\":\"f\"},{\"y\":\"6\",\"z\":0.75,\"x\":\"f\"},{\"y\":\"7\",\"x\":\"f\",\"z\":0.25},{\"y\":\"8\",\"x\":\"f\",\"z\":0.75},{\"x\":\"g\",\"y\":\"1\",\"z\":0.75},{\"z\":0.25,\"y\":\"2\",\"x\":\"g\"},{\"y\":\"3\",\"x\":\"g\",\"z\":0.75},{\"x\":\"g\",\"y\":\"4\",\"z\":0.25},{\"y\":\"5\",\"z\":0.75,\"x\":\"g\"},{\"x\":\"g\",\"z\":0.25,\"y\":\"6\"},{\"z\":0.75,\"x\":\"g\",\"y\":\"7\"},{\"y\":\"8\",\"x\":\"g\",\"z\":0.25},{\"z\":0.25,\"y\":\"1\",\"x\":\"h\"},{\"x\":\"h\",\"z\":0.75,\"y\":\"2\"},{\"y\":\"3\",\"z\":0.25,\"x\":\"h\"},{\"y\":\"4\",\"z\":0.75,\"x\":\"h\"},{\"y\":\"5\",\"z\":0.25,\"x\":\"h\"},{\"x\":\"h\",\"y\":\"6\",\"z\":0.75},{\"z\":0.25,\"x\":\"h\",\"y\":\"7\"},{\"x\":\"h\",\"z\":0.75,\"y\":\"8\"}];\n\nvar myGroups = [];\nvar myVars = [];\n\nif (myGroups.length === 0) {\n    myGroups = Array.from(new Set(data.map(d => d.x)));\n}\nif (myVars.length === 0) {\n    myVars = Array.from(new Set(data.map(d => d.y)));\n}\n\nif (true) {\n    myGroups = myGroups.sort(d3.ascending);\n    myVars = myVars.sort(d3.ascending);\n}\n\n// Build X scales and axis:\nvar x = d3.scaleBand()\n    .range([0, width])\n    .domain(myGroups)\n    ;\n\nsvg.append(\"g\")\n    .style(\"font-size\", \"13px\")\n    .style(\"stroke\", \"grey\")\n    .style(\"stroke-width\", \"1px\")\n    .attr(\"font-family\", \"Helvetica\")\n    .attr(\"transform\", `translate(0, ${height})`)\n    .call(d3.axisBottom(x).tickSize(0))\n    .select(\".domain\").remove();\n\n// Build Y scales and axis:\nvar y = d3.scaleBand()\n    .range([height, 0])\n    .domain(myVars)\n    ;\n\nsvg.append(\"g\")\n    .style(\"font-size\", \"13px\")\n    .style(\"stroke\", \"grey\")\n    .style(\"stroke-width\", \"1px\")\n    .attr(\"font-family\", \"Helvetica\")\n    .call(d3.axisLeft(y).tickSize(0))\n    .select(\".domain\").remove();\n\n// Build color scale\nvar myColor = d3.scaleSequential()\n    .interpolator(d3.interpolateYlOrBr)\n    .domain([0, 1]);\n\n\n\n// add the squares\nsvg.selectAll()\n    .data(data, d => d.x + ':' + d.y)\n    .join(\"rect\")\n    .attr(\"x\", d => x(d.x))\n    .attr(\"y\", d => y(d.y))\n    \n    \n    .attr(\"width\", x.bandwidth())\n    .attr(\"height\", y.bandwidth())\n    .style(\"fill\", d => myColor(d.z))\n    .style(\"stroke-width\", 4)\n    .style(\"stroke\", \"none\")\n    .style(\"opacity\", 0.8)\n    \n    \n    ;\n\n// add the grid\nif ( false) {\n    svg.selectAll()\n        .data(data, d => d.x + ':' + d.y)\n        .join(\"rect\")\n        .attr(\"x\", d => x(d.x))\n        .attr(\"y\", d => y(d.y))\n        .attr(\"rx\", 0)\n        .attr(\"ry\", 0)\n        .attr(\"width\", x.bandwidth())\n        .attr(\"height\", y.bandwidth())\n        .style(\"fill\", \"none\")\n        .style(\"stroke-width\", 1)\n        .style(\"stroke\", \"Gray\")\n        .style(\"opacity\", 1)\n}\n\nvar plotLabelData = [{\"z\":\"&#9823;\",\"y\":\"2\",\"x\":\"d\"},{\"x\":\"b\",\"y\":\"1\",\"z\":\"&#9822;\"},{\"y\":\"2\",\"x\":\"f\",\"z\":\"&#9823;\"},{\"z\":\"&#9823;\",\"y\":\"3\",\"x\":\"b\"},{\"y\":\"2\",\"x\":\"a\",\"z\":\"&#9823;\"},{\"y\":\"3\",\"z\":\"&#9821;\",\"x\":\"a\"},{\"x\":\"e\",\"z\":\"&#9823;\",\"y\":\"2\"},{\"x\":\"c\",\"z\":\"&#9823;\",\"y\":\"2\"},{\"z\":\"&#9820;\",\"x\":\"h\",\"y\":\"1\"},{\"x\":\"a\",\"z\":\"&#9820;\",\"y\":\"1\"},{\"z\":\"&#9822;\",\"x\":\"g\",\"y\":\"1\"},{\"x\":\"d\",\"y\":\"1\",\"z\":\"&#9819;\"},{\"z\":\"&#9823;\",\"y\":\"2\",\"x\":\"g\"},{\"x\":\"h\",\"y\":\"2\",\"z\":\"&#9823;\"},{\"x\":\"e\",\"z\":\"&#9818;\",\"y\":\"1\"},{\"x\":\"f\",\"z\":\"&#9821;\",\"y\":\"1\"}]\n\nvar hx = x.bandwidth()\nvar hy = y.bandwidth()\n\nsvg.selectAll()\n.data(plotLabelData, function(d) {return d.x+':'+d.y;})\n.join(\"text\")\n  .attr(\"x\", function(d) { return x(d.x) + hx/2 })\n  .attr(\"y\", function(d) { return y(d.y) + hy/2 + hy*0.1 })\n  .attr(\"text-anchor\", \"middle\")\n  .style(\"alignment-baseline\", \"middle\")\n  .style(\"fill\", \"white\")\n  .style(\"stroke\", \"white\")\n  .style(\"stroke-width\", \"1px\")\n  .style(\"font-size\", function(d) { return (height / 7) + \"px\" })\n  .attr(\"font-family\", \"Courier\")\n  .attr(\"font-weight\", 100)\n  .html(function(d){ return d.z });\n\nvar plotLabelData = [{\"z\":\"&#9817;\",\"y\":\"2\",\"x\":\"d\"},{\"z\":\"&#9816;\",\"x\":\"b\",\"y\":\"1\"},{\"y\":\"2\",\"z\":\"&#9817;\",\"x\":\"f\"},{\"y\":\"3\",\"z\":\"&#9817;\",\"x\":\"b\"},{\"z\":\"&#9817;\",\"x\":\"a\",\"y\":\"2\"},{\"y\":\"3\",\"z\":\"&#9815;\",\"x\":\"a\"},{\"z\":\"&#9817;\",\"y\":\"2\",\"x\":\"e\"},{\"x\":\"c\",\"z\":\"&#9817;\",\"y\":\"2\"},{\"z\":\"&#9814;\",\"y\":\"1\",\"x\":\"h\"},{\"z\":\"&#9814;\",\"y\":\"1\",\"x\":\"a\"},{\"z\":\"&#9816;\",\"y\":\"1\",\"x\":\"g\"},{\"y\":\"1\",\"x\":\"d\",\"z\":\"&#9813;\"},{\"z\":\"&#9817;\",\"y\":\"2\",\"x\":\"g\"},{\"y\":\"2\",\"z\":\"&#9817;\",\"x\":\"h\"},{\"x\":\"e\",\"y\":\"1\",\"z\":\"&#9812;\"},{\"z\":\"&#9815;\",\"x\":\"f\",\"y\":\"1\"}]\n\nvar hx = x.bandwidth()\nvar hy = y.bandwidth()\n\nsvg.selectAll()\n.data(plotLabelData, function(d) {return d.x+':'+d.y;})\n.join(\"text\")\n  .attr(\"x\", function(d) { return x(d.x) + hx/2 })\n  .attr(\"y\", function(d) { return y(d.y) + hy/2 + hy*0.1 })\n  .attr(\"text-anchor\", \"middle\")\n  .style(\"alignment-baseline\", \"middle\")\n  .style(\"fill\", \"darkslategrey\")\n  .style(\"stroke\", \"darkslategrey\")\n  .style(\"stroke-width\", \"1px\")\n  .style(\"font-size\", function(d) { return (height / 7) + \"px\" })\n  .attr(\"font-family\", \"Courier\")\n  .attr(\"font-weight\", 100)\n  .html(function(d){ return d.z });\n\nvar plotLabelData = [{\"x\":\"h\",\"y\":\"8\",\"z\":\"&#9820;\"},{\"z\":\"&#9819;\",\"x\":\"d\",\"y\":\"8\"},{\"y\":\"8\",\"z\":\"&#9818;\",\"x\":\"e\"},{\"z\":\"&#9823;\",\"x\":\"d\",\"y\":\"6\"},{\"y\":\"7\",\"x\":\"f\",\"z\":\"&#9823;\"},{\"y\":\"8\",\"z\":\"&#9821;\",\"x\":\"c\"},{\"y\":\"7\",\"z\":\"&#9823;\",\"x\":\"g\"},{\"x\":\"h\",\"y\":\"7\",\"z\":\"&#9823;\"},{\"z\":\"&#9823;\",\"x\":\"e\",\"y\":\"5\"},{\"x\":\"b\",\"z\":\"&#9823;\",\"y\":\"7\"},{\"z\":\"&#9822;\",\"x\":\"b\",\"y\":\"8\"},{\"x\":\"f\",\"z\":\"&#9821;\",\"y\":\"8\"},{\"y\":\"7\",\"z\":\"&#9823;\",\"x\":\"a\"},{\"z\":\"&#9823;\",\"x\":\"c\",\"y\":\"7\"},{\"y\":\"8\",\"z\":\"&#9820;\",\"x\":\"a\"},{\"y\":\"8\",\"x\":\"g\",\"z\":\"&#9822;\"}]\n\nvar hx = x.bandwidth()\nvar hy = y.bandwidth()\n\nsvg.selectAll()\n.data(plotLabelData, function(d) {return d.x+':'+d.y;})\n.join(\"text\")\n  .attr(\"x\", function(d) { return x(d.x) + hx/2 })\n  .attr(\"y\", function(d) { return y(d.y) + hy/2 + hy*0.1 })\n  .attr(\"text-anchor\", \"middle\")\n  .style(\"alignment-baseline\", \"middle\")\n  .style(\"fill\", \"black\")\n  .style(\"stroke\", \"black\")\n  .style(\"stroke-width\", \"1px\")\n  .style(\"font-size\", function(d) { return (height / 7) + \"px\" })\n  .attr(\"font-family\", \"Courier\")\n  .attr(\"font-weight\", 100)\n  .html(function(d){ return d.z });\n\n}) })(element);\n"
     },
     "execution_count": 30,
     "metadata": {},
     "output_type": "execute_result"
    }
   ],
   "source": [
    "#%js\n",
    "js-d3-chessboard(fen-specs(cbpaste), |%opts)"
   ]
  },
  {
   "cell_type": "markdown",
   "metadata": {},
   "source": [
    "Another user move -- taking the pawn at `d6`:"
   ]
  },
  {
   "cell_type": "code",
   "execution_count": 31,
   "metadata": {},
   "outputs": [
    {
     "data": {
      "text/markdown": [
       "You moved: Bishop from a3 to d6\n",
       "\n",
       "Here's the updated FEN position after your move:\n",
       "\n",
       "`rnbqkbnr/ppp2ppp/3B4/4p3/8/1P6/P1PPPPPP/RN1QKBNR b KQkq - 0 3`\n",
       "\n",
       "You captured my pawn on d6.\n",
       "\n",
       "Now it's my turn. I'll play:\n",
       "\n",
       "c7 to d6\n",
       "\n",
       "Here's the updated FEN position after my move:\n",
       "\n",
       "`rnbqkbnr/ppp2ppp/3p4/4p3/8/1P6/P1PPPPPP/RN1QKBNR w KQkq - 0 4`\n",
       "\n",
       "Your move!"
      ]
     },
     "execution_count": 31,
     "metadata": {},
     "output_type": "execute_result"
    }
   ],
   "source": [
    "#% chat cm > markdown\n",
    "bishop from a3 to d6"
   ]
  },
  {
   "cell_type": "markdown",
   "metadata": {},
   "source": [
    "The chess positions clearly see the wrong LLM moves (or FEN strings):"
   ]
  },
  {
   "cell_type": "code",
   "execution_count": 32,
   "metadata": {},
   "outputs": [
    {
     "data": {
      "application/javascript": "(function(element) { require(['d3'], function(d3) {\n\n\n\n// set the dimensions and margins of the graph\nvar margin = {\"top\":40,\"left\":40,\"bottom\":40,\"right\":40},\n    width = 400 - margin.left - margin.right,\n    height = 400 - margin.top - margin.bottom;\n\n// append the svg object to the body of the page\nvar svg = d3\n   .select(element.get(0))\n  .append(\"svg\")\n    .attr(\"width\", width + margin.left + margin.right)\n    .attr(\"height\", height + margin.top + margin.bottom)\n    .style(\"background\", \"#1F1F1F\")\n  .append(\"g\")\n    .attr(\"transform\",\n          \"translate(\" + margin.left + \",\" + margin.top + \")\")\n\n// Obtain title\nvar title = \"\"\nvar titleFontSize = 16\n\nif ( title.length > 0 ) {\n    svg.append(\"text\")\n        .attr(\"x\", (width / 2))\n        .attr(\"y\", 0 - (margin.top / 2))\n        .attr(\"text-anchor\", \"middle\")\n        .style(\"font-size\", titleFontSize.toString() + \"px\")\n        .style(\"fill\", \"Silver\")\n        .text(title);\n}\n\n// Obtain data\nvar data = [{\"y\":\"1\",\"z\":0.75,\"x\":\"a\"},{\"x\":\"a\",\"z\":0.25,\"y\":\"2\"},{\"z\":0.75,\"y\":\"3\",\"x\":\"a\"},{\"x\":\"a\",\"y\":\"4\",\"z\":0.25},{\"z\":0.75,\"x\":\"a\",\"y\":\"5\"},{\"x\":\"a\",\"y\":\"6\",\"z\":0.25},{\"x\":\"a\",\"y\":\"7\",\"z\":0.75},{\"x\":\"a\",\"y\":\"8\",\"z\":0.25},{\"z\":0.25,\"y\":\"1\",\"x\":\"b\"},{\"x\":\"b\",\"z\":0.75,\"y\":\"2\"},{\"z\":0.25,\"y\":\"3\",\"x\":\"b\"},{\"z\":0.75,\"y\":\"4\",\"x\":\"b\"},{\"z\":0.25,\"x\":\"b\",\"y\":\"5\"},{\"z\":0.75,\"y\":\"6\",\"x\":\"b\"},{\"z\":0.25,\"y\":\"7\",\"x\":\"b\"},{\"x\":\"b\",\"z\":0.75,\"y\":\"8\"},{\"y\":\"1\",\"z\":0.75,\"x\":\"c\"},{\"z\":0.25,\"x\":\"c\",\"y\":\"2\"},{\"y\":\"3\",\"x\":\"c\",\"z\":0.75},{\"x\":\"c\",\"z\":0.25,\"y\":\"4\"},{\"x\":\"c\",\"z\":0.75,\"y\":\"5\"},{\"x\":\"c\",\"y\":\"6\",\"z\":0.25},{\"x\":\"c\",\"z\":0.75,\"y\":\"7\"},{\"z\":0.25,\"x\":\"c\",\"y\":\"8\"},{\"y\":\"1\",\"z\":0.25,\"x\":\"d\"},{\"z\":0.75,\"y\":\"2\",\"x\":\"d\"},{\"y\":\"3\",\"x\":\"d\",\"z\":0.25},{\"z\":0.75,\"y\":\"4\",\"x\":\"d\"},{\"y\":\"5\",\"x\":\"d\",\"z\":0.25},{\"z\":0.75,\"x\":\"d\",\"y\":\"6\"},{\"y\":\"7\",\"z\":0.25,\"x\":\"d\"},{\"z\":0.75,\"y\":\"8\",\"x\":\"d\"},{\"z\":0.75,\"x\":\"e\",\"y\":\"1\"},{\"z\":0.25,\"x\":\"e\",\"y\":\"2\"},{\"y\":\"3\",\"z\":0.75,\"x\":\"e\"},{\"x\":\"e\",\"y\":\"4\",\"z\":0.25},{\"z\":0.75,\"y\":\"5\",\"x\":\"e\"},{\"z\":0.25,\"y\":\"6\",\"x\":\"e\"},{\"y\":\"7\",\"z\":0.75,\"x\":\"e\"},{\"y\":\"8\",\"x\":\"e\",\"z\":0.25},{\"z\":0.25,\"y\":\"1\",\"x\":\"f\"},{\"x\":\"f\",\"y\":\"2\",\"z\":0.75},{\"z\":0.25,\"x\":\"f\",\"y\":\"3\"},{\"z\":0.75,\"x\":\"f\",\"y\":\"4\"},{\"y\":\"5\",\"z\":0.25,\"x\":\"f\"},{\"y\":\"6\",\"z\":0.75,\"x\":\"f\"},{\"z\":0.25,\"x\":\"f\",\"y\":\"7\"},{\"z\":0.75,\"x\":\"f\",\"y\":\"8\"},{\"x\":\"g\",\"y\":\"1\",\"z\":0.75},{\"y\":\"2\",\"z\":0.25,\"x\":\"g\"},{\"z\":0.75,\"x\":\"g\",\"y\":\"3\"},{\"y\":\"4\",\"z\":0.25,\"x\":\"g\"},{\"y\":\"5\",\"x\":\"g\",\"z\":0.75},{\"z\":0.25,\"y\":\"6\",\"x\":\"g\"},{\"x\":\"g\",\"y\":\"7\",\"z\":0.75},{\"x\":\"g\",\"z\":0.25,\"y\":\"8\"},{\"z\":0.25,\"x\":\"h\",\"y\":\"1\"},{\"x\":\"h\",\"y\":\"2\",\"z\":0.75},{\"y\":\"3\",\"x\":\"h\",\"z\":0.25},{\"z\":0.75,\"x\":\"h\",\"y\":\"4\"},{\"z\":0.25,\"x\":\"h\",\"y\":\"5\"},{\"y\":\"6\",\"z\":0.75,\"x\":\"h\"},{\"y\":\"7\",\"x\":\"h\",\"z\":0.25},{\"x\":\"h\",\"y\":\"8\",\"z\":0.75}];\n\nvar myGroups = [];\nvar myVars = [];\n\nif (myGroups.length === 0) {\n    myGroups = Array.from(new Set(data.map(d => d.x)));\n}\nif (myVars.length === 0) {\n    myVars = Array.from(new Set(data.map(d => d.y)));\n}\n\nif (true) {\n    myGroups = myGroups.sort(d3.ascending);\n    myVars = myVars.sort(d3.ascending);\n}\n\n// Build X scales and axis:\nvar x = d3.scaleBand()\n    .range([0, width])\n    .domain(myGroups)\n    ;\n\nsvg.append(\"g\")\n    .style(\"font-size\", \"13px\")\n    .style(\"stroke\", \"grey\")\n    .style(\"stroke-width\", \"1px\")\n    .attr(\"font-family\", \"Helvetica\")\n    .attr(\"transform\", `translate(0, ${height})`)\n    .call(d3.axisBottom(x).tickSize(0))\n    .select(\".domain\").remove();\n\n// Build Y scales and axis:\nvar y = d3.scaleBand()\n    .range([height, 0])\n    .domain(myVars)\n    ;\n\nsvg.append(\"g\")\n    .style(\"font-size\", \"13px\")\n    .style(\"stroke\", \"grey\")\n    .style(\"stroke-width\", \"1px\")\n    .attr(\"font-family\", \"Helvetica\")\n    .call(d3.axisLeft(y).tickSize(0))\n    .select(\".domain\").remove();\n\n// Build color scale\nvar myColor = d3.scaleSequential()\n    .interpolator(d3.interpolateYlOrBr)\n    .domain([0, 1]);\n\n\n\n// add the squares\nsvg.selectAll()\n    .data(data, d => d.x + ':' + d.y)\n    .join(\"rect\")\n    .attr(\"x\", d => x(d.x))\n    .attr(\"y\", d => y(d.y))\n    \n    \n    .attr(\"width\", x.bandwidth())\n    .attr(\"height\", y.bandwidth())\n    .style(\"fill\", d => myColor(d.z))\n    .style(\"stroke-width\", 4)\n    .style(\"stroke\", \"none\")\n    .style(\"opacity\", 0.8)\n    \n    \n    ;\n\n// add the grid\nif ( false) {\n    svg.selectAll()\n        .data(data, d => d.x + ':' + d.y)\n        .join(\"rect\")\n        .attr(\"x\", d => x(d.x))\n        .attr(\"y\", d => y(d.y))\n        .attr(\"rx\", 0)\n        .attr(\"ry\", 0)\n        .attr(\"width\", x.bandwidth())\n        .attr(\"height\", y.bandwidth())\n        .style(\"fill\", \"none\")\n        .style(\"stroke-width\", 1)\n        .style(\"stroke\", \"Gray\")\n        .style(\"opacity\", 1)\n}\n\nvar plotLabelData = [{\"z\":\"&#9823;\",\"x\":\"g\",\"y\":\"2\"},{\"x\":\"a\",\"y\":\"2\",\"z\":\"&#9823;\"},{\"y\":\"1\",\"z\":\"&#9820;\",\"x\":\"h\"},{\"x\":\"b\",\"y\":\"1\",\"z\":\"&#9822;\"},{\"y\":\"1\",\"z\":\"&#9818;\",\"x\":\"e\"},{\"z\":\"&#9823;\",\"x\":\"b\",\"y\":\"3\"},{\"x\":\"f\",\"y\":\"2\",\"z\":\"&#9823;\"},{\"x\":\"g\",\"y\":\"1\",\"z\":\"&#9822;\"},{\"z\":\"&#9823;\",\"y\":\"2\",\"x\":\"h\"},{\"z\":\"&#9821;\",\"x\":\"f\",\"y\":\"1\"},{\"y\":\"1\",\"z\":\"&#9820;\",\"x\":\"a\"},{\"z\":\"&#9823;\",\"x\":\"d\",\"y\":\"2\"},{\"x\":\"d\",\"z\":\"&#9819;\",\"y\":\"1\"},{\"y\":\"6\",\"z\":\"&#9821;\",\"x\":\"d\"},{\"z\":\"&#9823;\",\"x\":\"e\",\"y\":\"2\"},{\"z\":\"&#9823;\",\"y\":\"2\",\"x\":\"c\"}]\n\nvar hx = x.bandwidth()\nvar hy = y.bandwidth()\n\nsvg.selectAll()\n.data(plotLabelData, function(d) {return d.x+':'+d.y;})\n.join(\"text\")\n  .attr(\"x\", function(d) { return x(d.x) + hx/2 })\n  .attr(\"y\", function(d) { return y(d.y) + hy/2 + hy*0.1 })\n  .attr(\"text-anchor\", \"middle\")\n  .style(\"alignment-baseline\", \"middle\")\n  .style(\"fill\", \"white\")\n  .style(\"stroke\", \"white\")\n  .style(\"stroke-width\", \"1px\")\n  .style(\"font-size\", function(d) { return (height / 7) + \"px\" })\n  .attr(\"font-family\", \"Courier\")\n  .attr(\"font-weight\", 100)\n  .html(function(d){ return d.z });\n\nvar plotLabelData = [{\"x\":\"g\",\"z\":\"&#9817;\",\"y\":\"2\"},{\"z\":\"&#9817;\",\"x\":\"a\",\"y\":\"2\"},{\"y\":\"1\",\"z\":\"&#9814;\",\"x\":\"h\"},{\"z\":\"&#9816;\",\"x\":\"b\",\"y\":\"1\"},{\"x\":\"e\",\"z\":\"&#9812;\",\"y\":\"1\"},{\"z\":\"&#9817;\",\"x\":\"b\",\"y\":\"3\"},{\"z\":\"&#9817;\",\"x\":\"f\",\"y\":\"2\"},{\"z\":\"&#9816;\",\"y\":\"1\",\"x\":\"g\"},{\"z\":\"&#9817;\",\"x\":\"h\",\"y\":\"2\"},{\"x\":\"f\",\"y\":\"1\",\"z\":\"&#9815;\"},{\"y\":\"1\",\"x\":\"a\",\"z\":\"&#9814;\"},{\"z\":\"&#9817;\",\"x\":\"d\",\"y\":\"2\"},{\"x\":\"d\",\"z\":\"&#9813;\",\"y\":\"1\"},{\"z\":\"&#9815;\",\"x\":\"d\",\"y\":\"6\"},{\"x\":\"e\",\"z\":\"&#9817;\",\"y\":\"2\"},{\"x\":\"c\",\"y\":\"2\",\"z\":\"&#9817;\"}]\n\nvar hx = x.bandwidth()\nvar hy = y.bandwidth()\n\nsvg.selectAll()\n.data(plotLabelData, function(d) {return d.x+':'+d.y;})\n.join(\"text\")\n  .attr(\"x\", function(d) { return x(d.x) + hx/2 })\n  .attr(\"y\", function(d) { return y(d.y) + hy/2 + hy*0.1 })\n  .attr(\"text-anchor\", \"middle\")\n  .style(\"alignment-baseline\", \"middle\")\n  .style(\"fill\", \"darkslategrey\")\n  .style(\"stroke\", \"darkslategrey\")\n  .style(\"stroke-width\", \"1px\")\n  .style(\"font-size\", function(d) { return (height / 7) + \"px\" })\n  .attr(\"font-family\", \"Courier\")\n  .attr(\"font-weight\", 100)\n  .html(function(d){ return d.z });\n\nvar plotLabelData = [{\"x\":\"c\",\"y\":\"8\",\"z\":\"&#9821;\"},{\"y\":\"8\",\"x\":\"h\",\"z\":\"&#9820;\"},{\"z\":\"&#9823;\",\"x\":\"h\",\"y\":\"7\"},{\"x\":\"g\",\"z\":\"&#9823;\",\"y\":\"7\"},{\"x\":\"a\",\"z\":\"&#9823;\",\"y\":\"7\"},{\"z\":\"&#9820;\",\"x\":\"a\",\"y\":\"8\"},{\"z\":\"&#9823;\",\"y\":\"7\",\"x\":\"c\"},{\"x\":\"g\",\"z\":\"&#9822;\",\"y\":\"8\"},{\"x\":\"f\",\"y\":\"7\",\"z\":\"&#9823;\"},{\"y\":\"8\",\"z\":\"&#9822;\",\"x\":\"b\"},{\"y\":\"8\",\"z\":\"&#9821;\",\"x\":\"f\"},{\"y\":\"8\",\"z\":\"&#9819;\",\"x\":\"d\"},{\"y\":\"7\",\"z\":\"&#9823;\",\"x\":\"b\"},{\"z\":\"&#9823;\",\"x\":\"e\",\"y\":\"5\"},{\"y\":\"8\",\"z\":\"&#9818;\",\"x\":\"e\"}]\n\nvar hx = x.bandwidth()\nvar hy = y.bandwidth()\n\nsvg.selectAll()\n.data(plotLabelData, function(d) {return d.x+':'+d.y;})\n.join(\"text\")\n  .attr(\"x\", function(d) { return x(d.x) + hx/2 })\n  .attr(\"y\", function(d) { return y(d.y) + hy/2 + hy*0.1 })\n  .attr(\"text-anchor\", \"middle\")\n  .style(\"alignment-baseline\", \"middle\")\n  .style(\"fill\", \"black\")\n  .style(\"stroke\", \"black\")\n  .style(\"stroke-width\", \"1px\")\n  .style(\"font-size\", function(d) { return (height / 7) + \"px\" })\n  .attr(\"font-family\", \"Courier\")\n  .attr(\"font-weight\", 100)\n  .html(function(d){ return d.z });\n\n\n// set the dimensions and margins of the graph\nvar margin = {\"right\":40,\"bottom\":40,\"left\":40,\"top\":40},\n    width = 400 - margin.left - margin.right,\n    height = 400 - margin.top - margin.bottom;\n\n// append the svg object to the body of the page\nvar svg = d3\n   .select(element.get(0))\n  .append(\"svg\")\n    .attr(\"width\", width + margin.left + margin.right)\n    .attr(\"height\", height + margin.top + margin.bottom)\n    .style(\"background\", \"#1F1F1F\")\n  .append(\"g\")\n    .attr(\"transform\",\n          \"translate(\" + margin.left + \",\" + margin.top + \")\")\n\n// Obtain title\nvar title = \"\"\nvar titleFontSize = 16\n\nif ( title.length > 0 ) {\n    svg.append(\"text\")\n        .attr(\"x\", (width / 2))\n        .attr(\"y\", 0 - (margin.top / 2))\n        .attr(\"text-anchor\", \"middle\")\n        .style(\"font-size\", titleFontSize.toString() + \"px\")\n        .style(\"fill\", \"Silver\")\n        .text(title);\n}\n\n// Obtain data\nvar data = [{\"y\":\"1\",\"z\":0.75,\"x\":\"a\"},{\"z\":0.25,\"y\":\"2\",\"x\":\"a\"},{\"y\":\"3\",\"x\":\"a\",\"z\":0.75},{\"y\":\"4\",\"x\":\"a\",\"z\":0.25},{\"y\":\"5\",\"x\":\"a\",\"z\":0.75},{\"z\":0.25,\"y\":\"6\",\"x\":\"a\"},{\"z\":0.75,\"y\":\"7\",\"x\":\"a\"},{\"y\":\"8\",\"x\":\"a\",\"z\":0.25},{\"x\":\"b\",\"z\":0.25,\"y\":\"1\"},{\"y\":\"2\",\"x\":\"b\",\"z\":0.75},{\"y\":\"3\",\"x\":\"b\",\"z\":0.25},{\"z\":0.75,\"x\":\"b\",\"y\":\"4\"},{\"z\":0.25,\"y\":\"5\",\"x\":\"b\"},{\"y\":\"6\",\"x\":\"b\",\"z\":0.75},{\"y\":\"7\",\"x\":\"b\",\"z\":0.25},{\"x\":\"b\",\"z\":0.75,\"y\":\"8\"},{\"y\":\"1\",\"x\":\"c\",\"z\":0.75},{\"x\":\"c\",\"z\":0.25,\"y\":\"2\"},{\"x\":\"c\",\"y\":\"3\",\"z\":0.75},{\"x\":\"c\",\"y\":\"4\",\"z\":0.25},{\"x\":\"c\",\"z\":0.75,\"y\":\"5\"},{\"z\":0.25,\"x\":\"c\",\"y\":\"6\"},{\"z\":0.75,\"y\":\"7\",\"x\":\"c\"},{\"z\":0.25,\"y\":\"8\",\"x\":\"c\"},{\"y\":\"1\",\"x\":\"d\",\"z\":0.25},{\"x\":\"d\",\"z\":0.75,\"y\":\"2\"},{\"y\":\"3\",\"x\":\"d\",\"z\":0.25},{\"x\":\"d\",\"z\":0.75,\"y\":\"4\"},{\"y\":\"5\",\"x\":\"d\",\"z\":0.25},{\"x\":\"d\",\"y\":\"6\",\"z\":0.75},{\"z\":0.25,\"x\":\"d\",\"y\":\"7\"},{\"y\":\"8\",\"z\":0.75,\"x\":\"d\"},{\"x\":\"e\",\"z\":0.75,\"y\":\"1\"},{\"x\":\"e\",\"z\":0.25,\"y\":\"2\"},{\"z\":0.75,\"y\":\"3\",\"x\":\"e\"},{\"x\":\"e\",\"y\":\"4\",\"z\":0.25},{\"z\":0.75,\"y\":\"5\",\"x\":\"e\"},{\"x\":\"e\",\"y\":\"6\",\"z\":0.25},{\"x\":\"e\",\"y\":\"7\",\"z\":0.75},{\"y\":\"8\",\"x\":\"e\",\"z\":0.25},{\"x\":\"f\",\"y\":\"1\",\"z\":0.25},{\"z\":0.75,\"y\":\"2\",\"x\":\"f\"},{\"y\":\"3\",\"z\":0.25,\"x\":\"f\"},{\"z\":0.75,\"x\":\"f\",\"y\":\"4\"},{\"y\":\"5\",\"x\":\"f\",\"z\":0.25},{\"x\":\"f\",\"z\":0.75,\"y\":\"6\"},{\"x\":\"f\",\"y\":\"7\",\"z\":0.25},{\"z\":0.75,\"x\":\"f\",\"y\":\"8\"},{\"z\":0.75,\"y\":\"1\",\"x\":\"g\"},{\"x\":\"g\",\"z\":0.25,\"y\":\"2\"},{\"y\":\"3\",\"x\":\"g\",\"z\":0.75},{\"x\":\"g\",\"y\":\"4\",\"z\":0.25},{\"y\":\"5\",\"x\":\"g\",\"z\":0.75},{\"y\":\"6\",\"z\":0.25,\"x\":\"g\"},{\"z\":0.75,\"y\":\"7\",\"x\":\"g\"},{\"y\":\"8\",\"x\":\"g\",\"z\":0.25},{\"z\":0.25,\"y\":\"1\",\"x\":\"h\"},{\"x\":\"h\",\"z\":0.75,\"y\":\"2\"},{\"x\":\"h\",\"y\":\"3\",\"z\":0.25},{\"x\":\"h\",\"z\":0.75,\"y\":\"4\"},{\"z\":0.25,\"y\":\"5\",\"x\":\"h\"},{\"z\":0.75,\"x\":\"h\",\"y\":\"6\"},{\"y\":\"7\",\"z\":0.25,\"x\":\"h\"},{\"x\":\"h\",\"z\":0.75,\"y\":\"8\"}];\n\nvar myGroups = [];\nvar myVars = [];\n\nif (myGroups.length === 0) {\n    myGroups = Array.from(new Set(data.map(d => d.x)));\n}\nif (myVars.length === 0) {\n    myVars = Array.from(new Set(data.map(d => d.y)));\n}\n\nif (true) {\n    myGroups = myGroups.sort(d3.ascending);\n    myVars = myVars.sort(d3.ascending);\n}\n\n// Build X scales and axis:\nvar x = d3.scaleBand()\n    .range([0, width])\n    .domain(myGroups)\n    ;\n\nsvg.append(\"g\")\n    .style(\"font-size\", \"13px\")\n    .style(\"stroke\", \"grey\")\n    .style(\"stroke-width\", \"1px\")\n    .attr(\"font-family\", \"Helvetica\")\n    .attr(\"transform\", `translate(0, ${height})`)\n    .call(d3.axisBottom(x).tickSize(0))\n    .select(\".domain\").remove();\n\n// Build Y scales and axis:\nvar y = d3.scaleBand()\n    .range([height, 0])\n    .domain(myVars)\n    ;\n\nsvg.append(\"g\")\n    .style(\"font-size\", \"13px\")\n    .style(\"stroke\", \"grey\")\n    .style(\"stroke-width\", \"1px\")\n    .attr(\"font-family\", \"Helvetica\")\n    .call(d3.axisLeft(y).tickSize(0))\n    .select(\".domain\").remove();\n\n// Build color scale\nvar myColor = d3.scaleSequential()\n    .interpolator(d3.interpolateYlOrBr)\n    .domain([0, 1]);\n\n\n\n// add the squares\nsvg.selectAll()\n    .data(data, d => d.x + ':' + d.y)\n    .join(\"rect\")\n    .attr(\"x\", d => x(d.x))\n    .attr(\"y\", d => y(d.y))\n    \n    \n    .attr(\"width\", x.bandwidth())\n    .attr(\"height\", y.bandwidth())\n    .style(\"fill\", d => myColor(d.z))\n    .style(\"stroke-width\", 4)\n    .style(\"stroke\", \"none\")\n    .style(\"opacity\", 0.8)\n    \n    \n    ;\n\n// add the grid\nif ( false) {\n    svg.selectAll()\n        .data(data, d => d.x + ':' + d.y)\n        .join(\"rect\")\n        .attr(\"x\", d => x(d.x))\n        .attr(\"y\", d => y(d.y))\n        .attr(\"rx\", 0)\n        .attr(\"ry\", 0)\n        .attr(\"width\", x.bandwidth())\n        .attr(\"height\", y.bandwidth())\n        .style(\"fill\", \"none\")\n        .style(\"stroke-width\", 1)\n        .style(\"stroke\", \"Gray\")\n        .style(\"opacity\", 1)\n}\n\nvar plotLabelData = [{\"x\":\"h\",\"y\":\"2\",\"z\":\"&#9823;\"},{\"z\":\"&#9823;\",\"x\":\"a\",\"y\":\"2\"},{\"x\":\"e\",\"z\":\"&#9818;\",\"y\":\"1\"},{\"z\":\"&#9822;\",\"y\":\"1\",\"x\":\"b\"},{\"y\":\"1\",\"z\":\"&#9820;\",\"x\":\"a\"},{\"y\":\"2\",\"z\":\"&#9823;\",\"x\":\"g\"},{\"x\":\"d\",\"y\":\"1\",\"z\":\"&#9819;\"},{\"x\":\"f\",\"z\":\"&#9821;\",\"y\":\"1\"},{\"y\":\"2\",\"z\":\"&#9823;\",\"x\":\"f\"},{\"z\":\"&#9823;\",\"y\":\"3\",\"x\":\"b\"},{\"x\":\"d\",\"y\":\"2\",\"z\":\"&#9823;\"},{\"z\":\"&#9822;\",\"y\":\"1\",\"x\":\"g\"},{\"x\":\"h\",\"y\":\"1\",\"z\":\"&#9820;\"},{\"z\":\"&#9823;\",\"x\":\"e\",\"y\":\"2\"},{\"x\":\"c\",\"z\":\"&#9823;\",\"y\":\"2\"}]\n\nvar hx = x.bandwidth()\nvar hy = y.bandwidth()\n\nsvg.selectAll()\n.data(plotLabelData, function(d) {return d.x+':'+d.y;})\n.join(\"text\")\n  .attr(\"x\", function(d) { return x(d.x) + hx/2 })\n  .attr(\"y\", function(d) { return y(d.y) + hy/2 + hy*0.1 })\n  .attr(\"text-anchor\", \"middle\")\n  .style(\"alignment-baseline\", \"middle\")\n  .style(\"fill\", \"white\")\n  .style(\"stroke\", \"white\")\n  .style(\"stroke-width\", \"1px\")\n  .style(\"font-size\", function(d) { return (height / 7) + \"px\" })\n  .attr(\"font-family\", \"Courier\")\n  .attr(\"font-weight\", 100)\n  .html(function(d){ return d.z });\n\nvar plotLabelData = [{\"y\":\"2\",\"z\":\"&#9817;\",\"x\":\"h\"},{\"y\":\"2\",\"z\":\"&#9817;\",\"x\":\"a\"},{\"x\":\"e\",\"y\":\"1\",\"z\":\"&#9812;\"},{\"x\":\"b\",\"y\":\"1\",\"z\":\"&#9816;\"},{\"z\":\"&#9814;\",\"y\":\"1\",\"x\":\"a\"},{\"z\":\"&#9817;\",\"y\":\"2\",\"x\":\"g\"},{\"x\":\"d\",\"z\":\"&#9813;\",\"y\":\"1\"},{\"x\":\"f\",\"z\":\"&#9815;\",\"y\":\"1\"},{\"z\":\"&#9817;\",\"y\":\"2\",\"x\":\"f\"},{\"y\":\"3\",\"z\":\"&#9817;\",\"x\":\"b\"},{\"x\":\"d\",\"y\":\"2\",\"z\":\"&#9817;\"},{\"x\":\"g\",\"y\":\"1\",\"z\":\"&#9816;\"},{\"z\":\"&#9814;\",\"x\":\"h\",\"y\":\"1\"},{\"z\":\"&#9817;\",\"x\":\"e\",\"y\":\"2\"},{\"x\":\"c\",\"y\":\"2\",\"z\":\"&#9817;\"}]\n\nvar hx = x.bandwidth()\nvar hy = y.bandwidth()\n\nsvg.selectAll()\n.data(plotLabelData, function(d) {return d.x+':'+d.y;})\n.join(\"text\")\n  .attr(\"x\", function(d) { return x(d.x) + hx/2 })\n  .attr(\"y\", function(d) { return y(d.y) + hy/2 + hy*0.1 })\n  .attr(\"text-anchor\", \"middle\")\n  .style(\"alignment-baseline\", \"middle\")\n  .style(\"fill\", \"darkslategrey\")\n  .style(\"stroke\", \"darkslategrey\")\n  .style(\"stroke-width\", \"1px\")\n  .style(\"font-size\", function(d) { return (height / 7) + \"px\" })\n  .attr(\"font-family\", \"Courier\")\n  .attr(\"font-weight\", 100)\n  .html(function(d){ return d.z });\n\nvar plotLabelData = [{\"x\":\"a\",\"y\":\"8\",\"z\":\"&#9820;\"},{\"x\":\"d\",\"y\":\"6\",\"z\":\"&#9823;\"},{\"z\":\"&#9823;\",\"y\":\"7\",\"x\":\"h\"},{\"z\":\"&#9818;\",\"y\":\"8\",\"x\":\"e\"},{\"y\":\"8\",\"x\":\"g\",\"z\":\"&#9822;\"},{\"y\":\"8\",\"x\":\"f\",\"z\":\"&#9821;\"},{\"x\":\"h\",\"y\":\"8\",\"z\":\"&#9820;\"},{\"y\":\"7\",\"x\":\"f\",\"z\":\"&#9823;\"},{\"z\":\"&#9823;\",\"x\":\"g\",\"y\":\"7\"},{\"x\":\"b\",\"z\":\"&#9822;\",\"y\":\"8\"},{\"z\":\"&#9823;\",\"y\":\"7\",\"x\":\"a\"},{\"y\":\"7\",\"x\":\"c\",\"z\":\"&#9823;\"},{\"x\":\"c\",\"z\":\"&#9821;\",\"y\":\"8\"},{\"z\":\"&#9823;\",\"x\":\"b\",\"y\":\"7\"},{\"y\":\"5\",\"x\":\"e\",\"z\":\"&#9823;\"},{\"z\":\"&#9819;\",\"x\":\"d\",\"y\":\"8\"}]\n\nvar hx = x.bandwidth()\nvar hy = y.bandwidth()\n\nsvg.selectAll()\n.data(plotLabelData, function(d) {return d.x+':'+d.y;})\n.join(\"text\")\n  .attr(\"x\", function(d) { return x(d.x) + hx/2 })\n  .attr(\"y\", function(d) { return y(d.y) + hy/2 + hy*0.1 })\n  .attr(\"text-anchor\", \"middle\")\n  .style(\"alignment-baseline\", \"middle\")\n  .style(\"fill\", \"black\")\n  .style(\"stroke\", \"black\")\n  .style(\"stroke-width\", \"1px\")\n  .style(\"font-size\", function(d) { return (height / 7) + \"px\" })\n  .attr(\"font-family\", \"Courier\")\n  .attr(\"font-weight\", 100)\n  .html(function(d){ return d.z });\n\n}) })(element);\n"
     },
     "execution_count": 32,
     "metadata": {},
     "output_type": "execute_result"
    }
   ],
   "source": [
    "#%js\n",
    "js-d3-chessboard(fen-specs(cbpaste), |%opts)"
   ]
  },
  {
   "cell_type": "markdown",
   "metadata": {},
   "source": [
    "Trying to fix it:"
   ]
  },
  {
   "cell_type": "code",
   "execution_count": 33,
   "metadata": {},
   "outputs": [
    {
     "data": {
      "text/markdown": [
       "Yes, that's correct. When you moved your bishop from a3 to d6, it captured my pawn on d6. On my turn, I recaptured your bishop with my pawn from c7 to d6. \n",
       "\n",
       "Here's the current FEN position after my move:\n",
       "\n",
       "`rnbqkbnr/ppp2ppp/3p4/4p3/8/1P6/P1PPPPPP/RN1QKBNR w KQkq - 0 4`\n",
       "\n",
       "Your move!"
      ]
     },
     "execution_count": 33,
     "metadata": {},
     "output_type": "execute_result"
    }
   ],
   "source": [
    "#% chat cm > markdown\n",
    "Well, you removed the bishop which took the pawn on `d6` and you kept on `d6` that pawn of yours."
   ]
  },
  {
   "cell_type": "markdown",
   "metadata": {},
   "source": [
    "The FEN string of the \"correction\" is the same as above: "
   ]
  },
  {
   "cell_type": "code",
   "execution_count": null,
   "metadata": {},
   "outputs": [
    {
     "data": {
      "application/javascript": "(function(element) { require(['d3'], function(d3) {\n\n\n\n// set the dimensions and margins of the graph\nvar margin = {\"bottom\":40,\"right\":40,\"left\":40,\"top\":40},\n    width = 400 - margin.left - margin.right,\n    height = 400 - margin.top - margin.bottom;\n\n// append the svg object to the body of the page\nvar svg = d3\n   .select(element.get(0))\n  .append(\"svg\")\n    .attr(\"width\", width + margin.left + margin.right)\n    .attr(\"height\", height + margin.top + margin.bottom)\n    .style(\"background\", \"#1F1F1F\")\n  .append(\"g\")\n    .attr(\"transform\",\n          \"translate(\" + margin.left + \",\" + margin.top + \")\")\n\n// Obtain title\nvar title = \"\"\nvar titleFontSize = 16\n\nif ( title.length > 0 ) {\n    svg.append(\"text\")\n        .attr(\"x\", (width / 2))\n        .attr(\"y\", 0 - (margin.top / 2))\n        .attr(\"text-anchor\", \"middle\")\n        .style(\"font-size\", titleFontSize.toString() + \"px\")\n        .style(\"fill\", \"Silver\")\n        .text(title);\n}\n\n// Obtain data\nvar data = [{\"z\":0.75,\"y\":\"1\",\"x\":\"a\"},{\"y\":\"2\",\"x\":\"a\",\"z\":0.25},{\"z\":0.75,\"y\":\"3\",\"x\":\"a\"},{\"x\":\"a\",\"z\":0.25,\"y\":\"4\"},{\"y\":\"5\",\"x\":\"a\",\"z\":0.75},{\"z\":0.25,\"x\":\"a\",\"y\":\"6\"},{\"y\":\"7\",\"x\":\"a\",\"z\":0.75},{\"z\":0.25,\"x\":\"a\",\"y\":\"8\"},{\"y\":\"1\",\"z\":0.25,\"x\":\"b\"},{\"y\":\"2\",\"z\":0.75,\"x\":\"b\"},{\"y\":\"3\",\"z\":0.25,\"x\":\"b\"},{\"x\":\"b\",\"z\":0.75,\"y\":\"4\"},{\"x\":\"b\",\"z\":0.25,\"y\":\"5\"},{\"z\":0.75,\"y\":\"6\",\"x\":\"b\"},{\"x\":\"b\",\"z\":0.25,\"y\":\"7\"},{\"y\":\"8\",\"z\":0.75,\"x\":\"b\"},{\"z\":0.75,\"y\":\"1\",\"x\":\"c\"},{\"x\":\"c\",\"y\":\"2\",\"z\":0.25},{\"y\":\"3\",\"z\":0.75,\"x\":\"c\"},{\"z\":0.25,\"x\":\"c\",\"y\":\"4\"},{\"z\":0.75,\"x\":\"c\",\"y\":\"5\"},{\"x\":\"c\",\"z\":0.25,\"y\":\"6\"},{\"x\":\"c\",\"y\":\"7\",\"z\":0.75},{\"z\":0.25,\"x\":\"c\",\"y\":\"8\"},{\"x\":\"d\",\"y\":\"1\",\"z\":0.25},{\"y\":\"2\",\"x\":\"d\",\"z\":0.75},{\"y\":\"3\",\"x\":\"d\",\"z\":0.25},{\"z\":0.75,\"x\":\"d\",\"y\":\"4\"},{\"y\":\"5\",\"z\":0.25,\"x\":\"d\"},{\"z\":0.75,\"y\":\"6\",\"x\":\"d\"},{\"z\":0.25,\"y\":\"7\",\"x\":\"d\"},{\"x\":\"d\",\"y\":\"8\",\"z\":0.75},{\"y\":\"1\",\"x\":\"e\",\"z\":0.75},{\"x\":\"e\",\"z\":0.25,\"y\":\"2\"},{\"y\":\"3\",\"z\":0.75,\"x\":\"e\"},{\"x\":\"e\",\"z\":0.25,\"y\":\"4\"},{\"y\":\"5\",\"z\":0.75,\"x\":\"e\"},{\"z\":0.25,\"y\":\"6\",\"x\":\"e\"},{\"z\":0.75,\"y\":\"7\",\"x\":\"e\"},{\"y\":\"8\",\"z\":0.25,\"x\":\"e\"},{\"y\":\"1\",\"x\":\"f\",\"z\":0.25},{\"y\":\"2\",\"z\":0.75,\"x\":\"f\"},{\"x\":\"f\",\"y\":\"3\",\"z\":0.25},{\"x\":\"f\",\"z\":0.75,\"y\":\"4\"},{\"z\":0.25,\"y\":\"5\",\"x\":\"f\"},{\"y\":\"6\",\"x\":\"f\",\"z\":0.75},{\"y\":\"7\",\"x\":\"f\",\"z\":0.25},{\"z\":0.75,\"x\":\"f\",\"y\":\"8\"},{\"x\":\"g\",\"y\":\"1\",\"z\":0.75},{\"z\":0.25,\"x\":\"g\",\"y\":\"2\"},{\"z\":0.75,\"y\":\"3\",\"x\":\"g\"},{\"x\":\"g\",\"z\":0.25,\"y\":\"4\"},{\"x\":\"g\",\"z\":0.75,\"y\":\"5\"},{\"x\":\"g\",\"y\":\"6\",\"z\":0.25},{\"x\":\"g\",\"z\":0.75,\"y\":\"7\"},{\"y\":\"8\",\"x\":\"g\",\"z\":0.25},{\"y\":\"1\",\"z\":0.25,\"x\":\"h\"},{\"x\":\"h\",\"z\":0.75,\"y\":\"2\"},{\"z\":0.25,\"y\":\"3\",\"x\":\"h\"},{\"z\":0.75,\"y\":\"4\",\"x\":\"h\"},{\"x\":\"h\",\"y\":\"5\",\"z\":0.25},{\"y\":\"6\",\"x\":\"h\",\"z\":0.75},{\"x\":\"h\",\"z\":0.25,\"y\":\"7\"},{\"z\":0.75,\"y\":\"8\",\"x\":\"h\"}];\n\nvar myGroups = [];\nvar myVars = [];\n\nif (myGroups.length === 0) {\n    myGroups = Array.from(new Set(data.map(d => d.x)));\n}\nif (myVars.length === 0) {\n    myVars = Array.from(new Set(data.map(d => d.y)));\n}\n\nif (true) {\n    myGroups = myGroups.sort(d3.ascending);\n    myVars = myVars.sort(d3.ascending);\n}\n\n// Build X scales and axis:\nvar x = d3.scaleBand()\n    .range([0, width])\n    .domain(myGroups)\n    ;\n\nsvg.append(\"g\")\n    .style(\"font-size\", \"13px\")\n    .style(\"stroke\", \"grey\")\n    .style(\"stroke-width\", \"1px\")\n    .attr(\"font-family\", \"Helvetica\")\n    .attr(\"transform\", `translate(0, ${height})`)\n    .call(d3.axisBottom(x).tickSize(0))\n    .select(\".domain\").remove();\n\n// Build Y scales and axis:\nvar y = d3.scaleBand()\n    .range([height, 0])\n    .domain(myVars)\n    ;\n\nsvg.append(\"g\")\n    .style(\"font-size\", \"13px\")\n    .style(\"stroke\", \"grey\")\n    .style(\"stroke-width\", \"1px\")\n    .attr(\"font-family\", \"Helvetica\")\n    .call(d3.axisLeft(y).tickSize(0))\n    .select(\".domain\").remove();\n\n// Build color scale\nvar myColor = d3.scaleSequential()\n    .interpolator(d3.interpolateYlOrBr)\n    .domain([0, 1]);\n\n\n\n// add the squares\nsvg.selectAll()\n    .data(data, d => d.x + ':' + d.y)\n    .join(\"rect\")\n    .attr(\"x\", d => x(d.x))\n    .attr(\"y\", d => y(d.y))\n    \n    \n    .attr(\"width\", x.bandwidth())\n    .attr(\"height\", y.bandwidth())\n    .style(\"fill\", d => myColor(d.z))\n    .style(\"stroke-width\", 4)\n    .style(\"stroke\", \"none\")\n    .style(\"opacity\", 0.8)\n    \n    \n    ;\n\n// add the grid\nif ( false) {\n    svg.selectAll()\n        .data(data, d => d.x + ':' + d.y)\n        .join(\"rect\")\n        .attr(\"x\", d => x(d.x))\n        .attr(\"y\", d => y(d.y))\n        .attr(\"rx\", 0)\n        .attr(\"ry\", 0)\n        .attr(\"width\", x.bandwidth())\n        .attr(\"height\", y.bandwidth())\n        .style(\"fill\", \"none\")\n        .style(\"stroke-width\", 1)\n        .style(\"stroke\", \"Gray\")\n        .style(\"opacity\", 1)\n}\n\nvar plotLabelData = [{\"x\":\"c\",\"y\":\"2\",\"z\":\"&#9823;\"},{\"x\":\"d\",\"y\":\"1\",\"z\":\"&#9819;\"},{\"y\":\"1\",\"x\":\"f\",\"z\":\"&#9821;\"},{\"z\":\"&#9823;\",\"y\":\"2\",\"x\":\"h\"},{\"z\":\"&#9818;\",\"x\":\"e\",\"y\":\"1\"},{\"y\":\"1\",\"x\":\"h\",\"z\":\"&#9820;\"},{\"x\":\"e\",\"z\":\"&#9823;\",\"y\":\"2\"},{\"x\":\"a\",\"z\":\"&#9820;\",\"y\":\"1\"},{\"z\":\"&#9823;\",\"y\":\"3\",\"x\":\"b\"},{\"y\":\"1\",\"x\":\"b\",\"z\":\"&#9822;\"},{\"x\":\"d\",\"z\":\"&#9823;\",\"y\":\"2\"},{\"z\":\"&#9823;\",\"x\":\"a\",\"y\":\"2\"},{\"x\":\"f\",\"z\":\"&#9823;\",\"y\":\"2\"},{\"x\":\"g\",\"y\":\"1\",\"z\":\"&#9822;\"},{\"x\":\"g\",\"y\":\"2\",\"z\":\"&#9823;\"}]\n\nvar hx = x.bandwidth()\nvar hy = y.bandwidth()\n\nsvg.selectAll()\n.data(plotLabelData, function(d) {return d.x+':'+d.y;})\n.join(\"text\")\n  .attr(\"x\", function(d) { return x(d.x) + hx/2 })\n  .attr(\"y\", function(d) { return y(d.y) + hy/2 + hy*0.1 })\n  .attr(\"text-anchor\", \"middle\")\n  .style(\"alignment-baseline\", \"middle\")\n  .style(\"fill\", \"white\")\n  .style(\"stroke\", \"white\")\n  .style(\"stroke-width\", \"1px\")\n  .style(\"font-size\", function(d) { return (height / 7) + \"px\" })\n  .attr(\"font-family\", \"Courier\")\n  .attr(\"font-weight\", 100)\n  .html(function(d){ return d.z });\n\nvar plotLabelData = [{\"y\":\"2\",\"x\":\"c\",\"z\":\"&#9817;\"},{\"x\":\"d\",\"z\":\"&#9813;\",\"y\":\"1\"},{\"y\":\"1\",\"x\":\"f\",\"z\":\"&#9815;\"},{\"y\":\"2\",\"x\":\"h\",\"z\":\"&#9817;\"},{\"y\":\"1\",\"x\":\"e\",\"z\":\"&#9812;\"},{\"z\":\"&#9814;\",\"x\":\"h\",\"y\":\"1\"},{\"z\":\"&#9817;\",\"y\":\"2\",\"x\":\"e\"},{\"y\":\"1\",\"x\":\"a\",\"z\":\"&#9814;\"},{\"z\":\"&#9817;\",\"x\":\"b\",\"y\":\"3\"},{\"y\":\"1\",\"x\":\"b\",\"z\":\"&#9816;\"},{\"x\":\"d\",\"y\":\"2\",\"z\":\"&#9817;\"},{\"x\":\"a\",\"z\":\"&#9817;\",\"y\":\"2\"},{\"y\":\"2\",\"x\":\"f\",\"z\":\"&#9817;\"},{\"x\":\"g\",\"z\":\"&#9816;\",\"y\":\"1\"},{\"x\":\"g\",\"z\":\"&#9817;\",\"y\":\"2\"}]\n\nvar hx = x.bandwidth()\nvar hy = y.bandwidth()\n\nsvg.selectAll()\n.data(plotLabelData, function(d) {return d.x+':'+d.y;})\n.join(\"text\")\n  .attr(\"x\", function(d) { return x(d.x) + hx/2 })\n  .attr(\"y\", function(d) { return y(d.y) + hy/2 + hy*0.1 })\n  .attr(\"text-anchor\", \"middle\")\n  .style(\"alignment-baseline\", \"middle\")\n  .style(\"fill\", \"darkslategrey\")\n  .style(\"stroke\", \"darkslategrey\")\n  .style(\"stroke-width\", \"1px\")\n  .style(\"font-size\", function(d) { return (height / 7) + \"px\" })\n  .attr(\"font-family\", \"Courier\")\n  .attr(\"font-weight\", 100)\n  .html(function(d){ return d.z });\n\nvar plotLabelData = [{\"x\":\"h\",\"y\":\"7\",\"z\":\"&#9823;\"},{\"y\":\"8\",\"x\":\"h\",\"z\":\"&#9820;\"},{\"z\":\"&#9823;\",\"x\":\"d\",\"y\":\"6\"},{\"x\":\"g\",\"z\":\"&#9822;\",\"y\":\"8\"},{\"z\":\"&#9818;\",\"y\":\"8\",\"x\":\"e\"},{\"x\":\"a\",\"z\":\"&#9823;\",\"y\":\"7\"},{\"x\":\"f\",\"y\":\"8\",\"z\":\"&#9821;\"},{\"z\":\"&#9822;\",\"x\":\"b\",\"y\":\"8\"},{\"y\":\"8\",\"x\":\"c\",\"z\":\"&#9821;\"},{\"z\":\"&#9820;\",\"y\":\"8\",\"x\":\"a\"},{\"y\":\"7\",\"z\":\"&#9823;\",\"x\":\"c\"},{\"y\":\"7\",\"x\":\"g\",\"z\":\"&#9823;\"},{\"x\":\"f\",\"z\":\"&#9823;\",\"y\":\"7\"},{\"y\":\"7\",\"x\":\"b\",\"z\":\"&#9823;\"},{\"x\":\"d\",\"z\":\"&#9819;\",\"y\":\"8\"},{\"x\":\"e\",\"z\":\"&#9823;\",\"y\":\"5\"}]\n\nvar hx = x.bandwidth()\nvar hy = y.bandwidth()\n\nsvg.selectAll()\n.data(plotLabelData, function(d) {return d.x+':'+d.y;})\n.join(\"text\")\n  .attr(\"x\", function(d) { return x(d.x) + hx/2 })\n  .attr(\"y\", function(d) { return y(d.y) + hy/2 + hy*0.1 })\n  .attr(\"text-anchor\", \"middle\")\n  .style(\"alignment-baseline\", \"middle\")\n  .style(\"fill\", \"black\")\n  .style(\"stroke\", \"black\")\n  .style(\"stroke-width\", \"1px\")\n  .style(\"font-size\", function(d) { return (height / 7) + \"px\" })\n  .attr(\"font-family\", \"Courier\")\n  .attr(\"font-weight\", 100)\n  .html(function(d){ return d.z });\n\n}) })(element);\n"
     },
     "execution_count": 35,
     "metadata": {},
     "output_type": "execute_result"
    }
   ],
   "source": [
    "#%js\n",
    "js-d3-chessboard(fen-specs(cbpaste), |%opts)"
   ]
  },
  {
   "cell_type": "markdown",
   "metadata": {},
   "source": [
    "----\n",
    "\n",
    "## Chess position recognition"
   ]
  },
  {
   "cell_type": "markdown",
   "metadata": {},
   "source": [
    "It is interesting to review the abilities of the vision (or \"omni\") LLM models to recognize chess positions and produce the (correct) corresponding notation strings."
   ]
  },
  {
   "cell_type": "markdown",
   "metadata": {},
   "source": [
    "**Remark:** (Some of) the LLM-vision models explicitly state that they are not good at recognizing chess positions.\n",
    "(For example, see [OpenAI's \"Vision/Limitations\"](https://platform.openai.com/docs/guides/vision#limitations).)"
   ]
  },
  {
   "cell_type": "markdown",
   "metadata": {},
   "source": [
    "Consider the following image from [this StackExchange post](https://puzzling.stackexchange.com/q/125524):"
   ]
  },
  {
   "cell_type": "code",
   "execution_count": null,
   "metadata": {},
   "outputs": [
    {
     "data": {
      "application/javascript": "(function(element) { require(['d3'], function(d3) {\n\nconst imagePath = 'https://i.sstatic.net/uKnenm.png'\nd3.select(element.get(0)).append('img').attr(\"src\", imagePath)\n\n}) })(element);\n"
     },
     "execution_count": 13,
     "metadata": {},
     "output_type": "execute_result"
    }
   ],
   "source": [
    "#%js\n",
    "my $url = 'https://i.sstatic.net/uKnenm.png';\n",
    "js-d3-image-display($url)"
   ]
  },
  {
   "cell_type": "markdown",
   "metadata": {},
   "source": [
    "Here image's corresponding Base64 string is obtained and rendered:"
   ]
  },
  {
   "cell_type": "code",
   "execution_count": 14,
   "metadata": {},
   "outputs": [
    {
     "data": {
      "text/markdown": [
       "![](data:image/jpeg;base64,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)"
      ]
     },
     "execution_count": 14,
     "metadata": {},
     "output_type": "execute_result"
    }
   ],
   "source": [
    "#%markdown\n",
    "my $imgBase64 = data-import($url, format => 'md-image');"
   ]
  },
  {
   "cell_type": "markdown",
   "metadata": {},
   "source": [
    "**Remark:** The Raku chatbook visualizations via JavaScript and URLs are faster."
   ]
  },
  {
   "cell_type": "markdown",
   "metadata": {},
   "source": [
    "Here is an LLM vision application (using image's URL):"
   ]
  },
  {
   "cell_type": "code",
   "execution_count": 15,
   "metadata": {},
   "outputs": [
    {
     "data": {
      "text/markdown": [
       "The image shows a chess position on a standard 8x8 board. The pieces are arranged as follows:\n",
       "\n",
       "- White pieces:\n",
       "  - Bishop on a8\n",
       "  - Rook on e8\n",
       "  - Rook on a1\n",
       "  - Queen on g1\n",
       "  - King on e1\n",
       "  - Pawn on f2\n",
       "  - Pawn on g3\n",
       "\n",
       "- Black pieces:\n",
       "  - Knight on e4\n",
       "  - King on f3\n",
       "  - Pawn on g4\n",
       "\n",
       "It's White's turn to move."
      ]
     },
     "execution_count": 15,
     "metadata": {},
     "output_type": "execute_result"
    }
   ],
   "source": [
    "#% markdown\n",
    "my $chessDescr = llm-vision-synthesize('Describe the following image:', $url);"
   ]
  },
  {
   "cell_type": "markdown",
   "metadata": {},
   "source": [
    "**Remark:** The positions of both the white and black figures are recognized correctly."
   ]
  },
  {
   "cell_type": "markdown",
   "metadata": {},
   "source": [
    "Get Raku code instead of a textual description:"
   ]
  },
  {
   "cell_type": "code",
   "execution_count": 16,
   "metadata": {},
   "outputs": [
    {
     "data": {
      "text/plain": [
       "[{x => a, y => 8, z => B} {x => e, y => 8, z => R} {x => a, y => 1, z => R} {x => g, y => 1, z => Q} {x => e, y => 1, z => K} {x => f, y => 2, z => P} {x => g, y => 3, z => P} {x => e, y => 4, z => n} {x => f, y => 3, z => k} {x => g, y => 4, z => p}]"
      ]
     },
     "execution_count": 16,
     "metadata": {},
     "output_type": "execute_result"
    }
   ],
   "source": [
    "my $chessSpec = llm-synthesize([\n",
    "    'Convert the following chess position description into a JSON array of dictionaries.',\n",
    "    'Conversion examples:',\n",
    "    '- \"Black rook on e8\" converts to `{x: \"e\", y: \"8\", z: \"R\"}`',\n",
    "    '- \"White bishop on a4\" converts to `{x: \"a\", y: \"4\", z: \"b\"}`',\n",
    "    'The key \"z\" has small letters for the blacks, and capital letters for the whites.',\n",
    "    'DESCRIPTION:',\n",
    "    $chessDescr,\n",
    "    llm-prompt('NothingElse')('JSON')\n",
    "    ], \n",
    "    e => llm-configuration('chatgpt', model => 'gpt-4o', temperature => 0.4),\n",
    "    form => sub-parser('JSON'):drop\n",
    ");"
   ]
  },
  {
   "cell_type": "code",
   "execution_count": 17,
   "metadata": {},
   "outputs": [
    {
     "data": {
      "text/html": [
       "<table border=\"1\"><thead><tr><th>x</th><th>y</th><th>z</th></tr></thead><tbody><tr><td>a</td><td>8</td><td>B</td></tr><tr><td>e</td><td>8</td><td>R</td></tr><tr><td>a</td><td>1</td><td>R</td></tr><tr><td>g</td><td>1</td><td>Q</td></tr><tr><td>e</td><td>1</td><td>K</td></tr><tr><td>f</td><td>2</td><td>P</td></tr><tr><td>g</td><td>3</td><td>P</td></tr><tr><td>e</td><td>4</td><td>n</td></tr><tr><td>f</td><td>3</td><td>k</td></tr><tr><td>g</td><td>4</td><td>p</td></tr></tbody></table>"
      ]
     },
     "execution_count": 17,
     "metadata": {},
     "output_type": "execute_result"
    }
   ],
   "source": [
    "#%html \n",
    "$chessSpec ==> to-html(field-names => <x y z>)"
   ]
  },
  {
   "cell_type": "markdown",
   "metadata": {},
   "source": [
    "Here we compare the original image with its LLM derived description (converted to a Raku array of maps):"
   ]
  },
  {
   "cell_type": "code",
   "execution_count": null,
   "metadata": {},
   "outputs": [
    {
     "data": {
      "application/javascript": "(function(element) { require(['d3'], function(d3) {\n\nconst imagePath = 'https://i.sstatic.net/uKnenm.png'\nd3.select(element.get(0)).append('img').attr(\"src\", imagePath)\n\n}) })(element);\n\n\n(function(element) { require(['d3'], function(d3) {\n\n// set the dimensions and margins of the graph\nvar margin = {\"right\":40,\"left\":40,\"bottom\":40,\"top\":40},\n    width = 400 - margin.left - margin.right,\n    height = 400 - margin.top - margin.bottom;\n\n// append the svg object to the body of the page\nvar svg = d3\n   .select(element.get(0))\n  .append(\"svg\")\n    .attr(\"width\", width + margin.left + margin.right)\n    .attr(\"height\", height + margin.top + margin.bottom)\n    .style(\"background\", \"#1F1F1F\")\n  .append(\"g\")\n    .attr(\"transform\",\n          \"translate(\" + margin.left + \",\" + margin.top + \")\")\n\n// Obtain title\nvar title = \"Text description JSON\"\nvar titleFontSize = 16\n\nif ( title.length > 0 ) {\n    svg.append(\"text\")\n        .attr(\"x\", (width / 2))\n        .attr(\"y\", 0 - (margin.top / 2))\n        .attr(\"text-anchor\", \"middle\")\n        .style(\"font-size\", titleFontSize.toString() + \"px\")\n        .style(\"fill\", \"Silver\")\n        .text(title);\n}\n\n// Obtain data\nvar data = [{\"y\":\"1\",\"z\":0.75,\"x\":\"a\"},{\"x\":\"a\",\"y\":\"2\",\"z\":0.25},{\"z\":0.75,\"y\":\"3\",\"x\":\"a\"},{\"z\":0.25,\"y\":\"4\",\"x\":\"a\"},{\"x\":\"a\",\"y\":\"5\",\"z\":0.75},{\"z\":0.25,\"y\":\"6\",\"x\":\"a\"},{\"z\":0.75,\"y\":\"7\",\"x\":\"a\"},{\"z\":0.25,\"y\":\"8\",\"x\":\"a\"},{\"z\":0.25,\"x\":\"b\",\"y\":\"1\"},{\"z\":0.75,\"y\":\"2\",\"x\":\"b\"},{\"y\":\"3\",\"x\":\"b\",\"z\":0.25},{\"x\":\"b\",\"z\":0.75,\"y\":\"4\"},{\"z\":0.25,\"x\":\"b\",\"y\":\"5\"},{\"z\":0.75,\"y\":\"6\",\"x\":\"b\"},{\"z\":0.25,\"x\":\"b\",\"y\":\"7\"},{\"y\":\"8\",\"z\":0.75,\"x\":\"b\"},{\"x\":\"c\",\"z\":0.75,\"y\":\"1\"},{\"y\":\"2\",\"x\":\"c\",\"z\":0.25},{\"x\":\"c\",\"y\":\"3\",\"z\":0.75},{\"x\":\"c\",\"z\":0.25,\"y\":\"4\"},{\"x\":\"c\",\"y\":\"5\",\"z\":0.75},{\"x\":\"c\",\"z\":0.25,\"y\":\"6\"},{\"x\":\"c\",\"z\":0.75,\"y\":\"7\"},{\"z\":0.25,\"y\":\"8\",\"x\":\"c\"},{\"z\":0.25,\"x\":\"d\",\"y\":\"1\"},{\"x\":\"d\",\"z\":0.75,\"y\":\"2\"},{\"x\":\"d\",\"y\":\"3\",\"z\":0.25},{\"y\":\"4\",\"z\":0.75,\"x\":\"d\"},{\"y\":\"5\",\"x\":\"d\",\"z\":0.25},{\"z\":0.75,\"y\":\"6\",\"x\":\"d\"},{\"z\":0.25,\"y\":\"7\",\"x\":\"d\"},{\"z\":0.75,\"x\":\"d\",\"y\":\"8\"},{\"z\":0.75,\"x\":\"e\",\"y\":\"1\"},{\"y\":\"2\",\"z\":0.25,\"x\":\"e\"},{\"x\":\"e\",\"y\":\"3\",\"z\":0.75},{\"x\":\"e\",\"z\":0.25,\"y\":\"4\"},{\"y\":\"5\",\"x\":\"e\",\"z\":0.75},{\"z\":0.25,\"y\":\"6\",\"x\":\"e\"},{\"z\":0.75,\"x\":\"e\",\"y\":\"7\"},{\"y\":\"8\",\"z\":0.25,\"x\":\"e\"},{\"y\":\"1\",\"z\":0.25,\"x\":\"f\"},{\"z\":0.75,\"y\":\"2\",\"x\":\"f\"},{\"y\":\"3\",\"z\":0.25,\"x\":\"f\"},{\"y\":\"4\",\"x\":\"f\",\"z\":0.75},{\"y\":\"5\",\"x\":\"f\",\"z\":0.25},{\"z\":0.75,\"y\":\"6\",\"x\":\"f\"},{\"y\":\"7\",\"x\":\"f\",\"z\":0.25},{\"y\":\"8\",\"x\":\"f\",\"z\":0.75},{\"z\":0.75,\"x\":\"g\",\"y\":\"1\"},{\"x\":\"g\",\"y\":\"2\",\"z\":0.25},{\"y\":\"3\",\"x\":\"g\",\"z\":0.75},{\"z\":0.25,\"y\":\"4\",\"x\":\"g\"},{\"y\":\"5\",\"z\":0.75,\"x\":\"g\"},{\"z\":0.25,\"y\":\"6\",\"x\":\"g\"},{\"x\":\"g\",\"y\":\"7\",\"z\":0.75},{\"z\":0.25,\"y\":\"8\",\"x\":\"g\"},{\"y\":\"1\",\"x\":\"h\",\"z\":0.25},{\"z\":0.75,\"y\":\"2\",\"x\":\"h\"},{\"z\":0.25,\"y\":\"3\",\"x\":\"h\"},{\"y\":\"4\",\"z\":0.75,\"x\":\"h\"},{\"y\":\"5\",\"z\":0.25,\"x\":\"h\"},{\"y\":\"6\",\"x\":\"h\",\"z\":0.75},{\"x\":\"h\",\"y\":\"7\",\"z\":0.25},{\"y\":\"8\",\"x\":\"h\",\"z\":0.75}];\n\nvar myGroups = [];\nvar myVars = [];\n\nif (myGroups.length === 0) {\n    myGroups = Array.from(new Set(data.map(d => d.x)));\n}\nif (myVars.length === 0) {\n    myVars = Array.from(new Set(data.map(d => d.y)));\n}\n\nif (true) {\n    myGroups = myGroups.sort(d3.ascending);\n    myVars = myVars.sort(d3.ascending);\n}\n\n// Build X scales and axis:\nvar x = d3.scaleBand()\n    .range([0, width])\n    .domain(myGroups)\n    ;\n\nsvg.append(\"g\")\n    .style(\"font-size\", \"13px\")\n    .style(\"stroke\", \"grey\")\n    .style(\"stroke-width\", \"1px\")\n    .attr(\"font-family\", \"Helvetica\")\n    .attr(\"transform\", `translate(0, ${height})`)\n    .call(d3.axisBottom(x).tickSize(0))\n    .select(\".domain\").remove();\n\n// Build Y scales and axis:\nvar y = d3.scaleBand()\n    .range([height, 0])\n    .domain(myVars)\n    ;\n\nsvg.append(\"g\")\n    .style(\"font-size\", \"13px\")\n    .style(\"stroke\", \"grey\")\n    .style(\"stroke-width\", \"1px\")\n    .attr(\"font-family\", \"Helvetica\")\n    .call(d3.axisLeft(y).tickSize(0))\n    .select(\".domain\").remove();\n\n// Build color scale\nvar myColor = d3.scaleSequential()\n    .interpolator(d3.interpolateYlOrBr)\n    .domain([0, 1]);\n\n\n\n// add the squares\nsvg.selectAll()\n    .data(data, d => d.x + ':' + d.y)\n    .join(\"rect\")\n    .attr(\"x\", d => x(d.x))\n    .attr(\"y\", d => y(d.y))\n    \n    \n    .attr(\"width\", x.bandwidth())\n    .attr(\"height\", y.bandwidth())\n    .style(\"fill\", d => myColor(d.z))\n    .style(\"stroke-width\", 4)\n    .style(\"stroke\", \"none\")\n    .style(\"opacity\", 0.8)\n    \n    \n    ;\n\n// add the grid\nif ( false) {\n    svg.selectAll()\n        .data(data, d => d.x + ':' + d.y)\n        .join(\"rect\")\n        .attr(\"x\", d => x(d.x))\n        .attr(\"y\", d => y(d.y))\n        .attr(\"rx\", 0)\n        .attr(\"ry\", 0)\n        .attr(\"width\", x.bandwidth())\n        .attr(\"height\", y.bandwidth())\n        .style(\"fill\", \"none\")\n        .style(\"stroke-width\", 1)\n        .style(\"stroke\", \"Gray\")\n        .style(\"opacity\", 1)\n}\n\nvar plotLabelData = [{\"z\":\"&#9821;\",\"y\":\"8\",\"x\":\"a\"},{\"y\":\"8\",\"z\":\"&#9820;\",\"x\":\"e\"},{\"y\":\"1\",\"x\":\"a\",\"z\":\"&#9820;\"},{\"x\":\"g\",\"z\":\"&#9819;\",\"y\":\"1\"},{\"z\":\"&#9818;\",\"y\":\"1\",\"x\":\"e\"},{\"y\":\"2\",\"z\":\"&#9823;\",\"x\":\"f\"},{\"y\":\"3\",\"x\":\"g\",\"z\":\"&#9823;\"}]\n\nvar hx = x.bandwidth()\nvar hy = y.bandwidth()\n\nsvg.selectAll()\n.data(plotLabelData, function(d) {return d.x+':'+d.y;})\n.join(\"text\")\n  .attr(\"x\", function(d) { return x(d.x) + hx/2 })\n  .attr(\"y\", function(d) { return y(d.y) + hy/2 + hy*0.1 })\n  .attr(\"text-anchor\", \"middle\")\n  .style(\"alignment-baseline\", \"middle\")\n  .style(\"fill\", \"white\")\n  .style(\"stroke\", \"white\")\n  .style(\"stroke-width\", \"1px\")\n  .style(\"font-size\", function(d) { return (height / 7) + \"px\" })\n  .attr(\"font-family\", \"Courier\")\n  .attr(\"font-weight\", 100)\n  .html(function(d){ return d.z });\n\nvar plotLabelData = [{\"z\":\"&#9815;\",\"x\":\"a\",\"y\":\"8\"},{\"z\":\"&#9814;\",\"x\":\"e\",\"y\":\"8\"},{\"x\":\"a\",\"z\":\"&#9814;\",\"y\":\"1\"},{\"z\":\"&#9813;\",\"x\":\"g\",\"y\":\"1\"},{\"y\":\"1\",\"x\":\"e\",\"z\":\"&#9812;\"},{\"z\":\"&#9817;\",\"x\":\"f\",\"y\":\"2\"},{\"z\":\"&#9817;\",\"y\":\"3\",\"x\":\"g\"}]\n\nvar hx = x.bandwidth()\nvar hy = y.bandwidth()\n\nsvg.selectAll()\n.data(plotLabelData, function(d) {return d.x+':'+d.y;})\n.join(\"text\")\n  .attr(\"x\", function(d) { return x(d.x) + hx/2 })\n  .attr(\"y\", function(d) { return y(d.y) + hy/2 + hy*0.1 })\n  .attr(\"text-anchor\", \"middle\")\n  .style(\"alignment-baseline\", \"middle\")\n  .style(\"fill\", \"darkslategrey\")\n  .style(\"stroke\", \"darkslategrey\")\n  .style(\"stroke-width\", \"1px\")\n  .style(\"font-size\", function(d) { return (height / 7) + \"px\" })\n  .attr(\"font-family\", \"Courier\")\n  .attr(\"font-weight\", 100)\n  .html(function(d){ return d.z });\n\nvar plotLabelData = [{\"z\":\"&#9822;\",\"y\":\"4\",\"x\":\"e\"},{\"y\":\"3\",\"x\":\"f\",\"z\":\"&#9818;\"},{\"x\":\"g\",\"y\":\"4\",\"z\":\"&#9823;\"}]\n\nvar hx = x.bandwidth()\nvar hy = y.bandwidth()\n\nsvg.selectAll()\n.data(plotLabelData, function(d) {return d.x+':'+d.y;})\n.join(\"text\")\n  .attr(\"x\", function(d) { return x(d.x) + hx/2 })\n  .attr(\"y\", function(d) { return y(d.y) + hy/2 + hy*0.1 })\n  .attr(\"text-anchor\", \"middle\")\n  .style(\"alignment-baseline\", \"middle\")\n  .style(\"fill\", \"black\")\n  .style(\"stroke\", \"black\")\n  .style(\"stroke-width\", \"1px\")\n  .style(\"font-size\", function(d) { return (height / 7) + \"px\" })\n  .attr(\"font-family\", \"Courier\")\n  .attr(\"font-weight\", 100)\n  .html(function(d){ return d.z });\n\n}) })(element);\n"
     },
     "execution_count": 21,
     "metadata": {},
     "output_type": "execute_result"
    }
   ],
   "source": [
    "#%js\n",
    "js-d3-image-display($url)\n",
    "~ \"\\n\\n\" ~\n",
    "js-d3-chessboard($chessSpec, |%opts, title => 'Text description to JSON')"
   ]
  },
  {
   "cell_type": "markdown",
   "metadata": {},
   "source": [
    "Comparing the images it can be seen that a correct LLM-vision recognition JSON spec was obtained."
   ]
  },
  {
   "cell_type": "markdown",
   "metadata": {},
   "source": [
    "-----\n",
    "\n",
    "## Using FEN strings is counter-productive"
   ]
  },
  {
   "cell_type": "markdown",
   "metadata": {},
   "source": [
    "In this subsection is demonstrated that LLMs have hard time converting correctly from- or to FEN strings."
   ]
  },
  {
   "cell_type": "markdown",
   "metadata": {},
   "source": [
    "Defining LLM-functions and LLM-configurations used below (more than once):"
   ]
  },
  {
   "cell_type": "code",
   "execution_count": 22,
   "metadata": {},
   "outputs": [
    {
     "data": {
      "text/plain": [
       "&fen-from-descr"
      ]
     },
     "execution_count": 22,
     "metadata": {},
     "output_type": "execute_result"
    }
   ],
   "source": [
    "# Configurations\n",
    "my $conf4o = llm-configuration('chatgpt', model => 'gpt-4o', temperature => 0.4);\n",
    "my $confGemini = llm-configuration('gemini', model => 'gemini-1.5-pro-latest', temperature => 0.2);\n",
    "\n",
    "# Vision function\n",
    "my sub fen-vision(Str:D $src, *%args) { \n",
    "    llm-vision-synthesize([\n",
    "        'Describe the following chess position using Forsyth-Edwards notation.',\n",
    "        llm-prompt('NothingElse')('FEN')\n",
    "    ], \n",
    "    $src, \n",
    "    |%args)\n",
    "}\n",
    "\n",
    "# Conversion function\n",
    "my sub fen-from-descr(Str:D $src, *%args) { \n",
    "    llm-synthesize([\n",
    "        'Convert the following chess position description into a FEN spec.', \n",
    "        $src,\n",
    "        llm-prompt('NothingElse')('FEN')\n",
    "    ],\n",
    "    |%args).subst(/^ '```' \\w* | '```' $/, :g).trim\n",
    "}"
   ]
  },
  {
   "cell_type": "markdown",
   "metadata": {},
   "source": [
    "Get FEN string corresponding to the LLM-obtained image description:"
   ]
  },
  {
   "cell_type": "code",
   "execution_count": 23,
   "metadata": {},
   "outputs": [
    {
     "data": {
      "text/plain": [
       "(r3R3/B7/8/8/4n1p1/6k1/5P1P/R3Q2R w - - 0 1 B1R3K1/8/8/4n3/4k1p1/6P1/5P2/R3K1Q1 w - - 0 1)"
      ]
     },
     "execution_count": 23,
     "metadata": {},
     "output_type": "execute_result"
    }
   ],
   "source": [
    "my $fenTxt = &fen-from-descr($chessDescr, e => $conf4o);\n",
    "my $fenTxtByGemini = &fen-from-descr($chessDescr, e => $confGemini);\n",
    "\n",
    "($fenTxt, $fenTxtByGemini)"
   ]
  },
  {
   "cell_type": "markdown",
   "metadata": {},
   "source": [
    "Instead of a \"plain English\" description, request a FEN string to be returned for the given image:"
   ]
  },
  {
   "cell_type": "code",
   "execution_count": 24,
   "metadata": {},
   "outputs": [
    {
     "data": {
      "text/plain": [
       "8/B3R3/8/8/4n1p1/5kP1/5P2/R3K1Q1 b - - 0 1"
      ]
     },
     "execution_count": 24,
     "metadata": {},
     "output_type": "execute_result"
    }
   ],
   "source": [
    "my $fenImg = fen-vision($url, e => $conf4o)"
   ]
  },
  {
   "cell_type": "markdown",
   "metadata": {},
   "source": [
    "Using one of latest Gemini's vision/omni models (with Gemini's vision models image Base64 strings have to used instead of image URLs):"
   ]
  },
  {
   "cell_type": "code",
   "execution_count": 25,
   "metadata": {},
   "outputs": [
    {
     "data": {
      "text/plain": [
       "8/8/8/8/4n3/8/4kpp1/R1K2Q1R w - - 0 1\n"
      ]
     },
     "execution_count": 25,
     "metadata": {},
     "output_type": "execute_result"
    }
   ],
   "source": [
    "my $fenImgByGemini = fen-vision($imgBase64, e => $confGemini)"
   ]
  },
  {
   "cell_type": "markdown",
   "metadata": {},
   "source": [
    "Here is a comparison of the original image (_bottom right_) and the chess position plot based on LLM recognitions above:"
   ]
  },
  {
   "cell_type": "code",
   "execution_count": 35,
   "metadata": {},
   "outputs": [
    {
     "data": {
      "application/javascript": "(function(element) { require(['d3'], function(d3) {\n\n\n\n// set the dimensions and margins of the graph\nvar margin = {\"top\":40,\"left\":40,\"bottom\":40,\"right\":40},\n    width = 350 - margin.left - margin.right,\n    height = 350 - margin.top - margin.bottom;\n\n// append the svg object to the body of the page\nvar svg = d3\n   .select(element.get(0))\n  .append(\"svg\")\n    .attr(\"width\", width + margin.left + margin.right)\n    .attr(\"height\", height + margin.top + margin.bottom)\n    .style(\"background\", \"#1F1F1F\")\n  .append(\"g\")\n    .attr(\"transform\",\n          \"translate(\" + margin.left + \",\" + margin.top + \")\")\n\n// Obtain title\nvar title = \"Text description to FEN (OpenAI, wrong)\"\nvar titleFontSize = 12\n\nif ( title.length > 0 ) {\n    svg.append(\"text\")\n        .attr(\"x\", (width / 2))\n        .attr(\"y\", 0 - (margin.top / 2))\n        .attr(\"text-anchor\", \"middle\")\n        .style(\"font-size\", titleFontSize.toString() + \"px\")\n        .style(\"fill\", \"Silver\")\n        .text(title);\n}\n\n// Obtain data\nvar data = [{\"y\":\"1\",\"z\":0.75,\"x\":\"a\"},{\"z\":0.25,\"y\":\"2\",\"x\":\"a\"},{\"y\":\"3\",\"x\":\"a\",\"z\":0.75},{\"x\":\"a\",\"y\":\"4\",\"z\":0.25},{\"x\":\"a\",\"y\":\"5\",\"z\":0.75},{\"x\":\"a\",\"y\":\"6\",\"z\":0.25},{\"x\":\"a\",\"y\":\"7\",\"z\":0.75},{\"z\":0.25,\"y\":\"8\",\"x\":\"a\"},{\"y\":\"1\",\"z\":0.25,\"x\":\"b\"},{\"z\":0.75,\"x\":\"b\",\"y\":\"2\"},{\"y\":\"3\",\"z\":0.25,\"x\":\"b\"},{\"y\":\"4\",\"x\":\"b\",\"z\":0.75},{\"x\":\"b\",\"z\":0.25,\"y\":\"5\"},{\"z\":0.75,\"y\":\"6\",\"x\":\"b\"},{\"y\":\"7\",\"x\":\"b\",\"z\":0.25},{\"y\":\"8\",\"z\":0.75,\"x\":\"b\"},{\"y\":\"1\",\"x\":\"c\",\"z\":0.75},{\"x\":\"c\",\"z\":0.25,\"y\":\"2\"},{\"y\":\"3\",\"z\":0.75,\"x\":\"c\"},{\"x\":\"c\",\"y\":\"4\",\"z\":0.25},{\"y\":\"5\",\"z\":0.75,\"x\":\"c\"},{\"z\":0.25,\"x\":\"c\",\"y\":\"6\"},{\"y\":\"7\",\"z\":0.75,\"x\":\"c\"},{\"z\":0.25,\"y\":\"8\",\"x\":\"c\"},{\"z\":0.25,\"x\":\"d\",\"y\":\"1\"},{\"z\":0.75,\"y\":\"2\",\"x\":\"d\"},{\"x\":\"d\",\"y\":\"3\",\"z\":0.25},{\"x\":\"d\",\"y\":\"4\",\"z\":0.75},{\"z\":0.25,\"x\":\"d\",\"y\":\"5\"},{\"y\":\"6\",\"x\":\"d\",\"z\":0.75},{\"x\":\"d\",\"z\":0.25,\"y\":\"7\"},{\"z\":0.75,\"x\":\"d\",\"y\":\"8\"},{\"x\":\"e\",\"y\":\"1\",\"z\":0.75},{\"z\":0.25,\"x\":\"e\",\"y\":\"2\"},{\"z\":0.75,\"x\":\"e\",\"y\":\"3\"},{\"x\":\"e\",\"z\":0.25,\"y\":\"4\"},{\"y\":\"5\",\"z\":0.75,\"x\":\"e\"},{\"x\":\"e\",\"y\":\"6\",\"z\":0.25},{\"z\":0.75,\"y\":\"7\",\"x\":\"e\"},{\"y\":\"8\",\"x\":\"e\",\"z\":0.25},{\"z\":0.25,\"y\":\"1\",\"x\":\"f\"},{\"y\":\"2\",\"z\":0.75,\"x\":\"f\"},{\"x\":\"f\",\"y\":\"3\",\"z\":0.25},{\"y\":\"4\",\"z\":0.75,\"x\":\"f\"},{\"z\":0.25,\"x\":\"f\",\"y\":\"5\"},{\"z\":0.75,\"x\":\"f\",\"y\":\"6\"},{\"x\":\"f\",\"z\":0.25,\"y\":\"7\"},{\"z\":0.75,\"x\":\"f\",\"y\":\"8\"},{\"y\":\"1\",\"x\":\"g\",\"z\":0.75},{\"y\":\"2\",\"z\":0.25,\"x\":\"g\"},{\"y\":\"3\",\"z\":0.75,\"x\":\"g\"},{\"y\":\"4\",\"x\":\"g\",\"z\":0.25},{\"x\":\"g\",\"y\":\"5\",\"z\":0.75},{\"z\":0.25,\"y\":\"6\",\"x\":\"g\"},{\"x\":\"g\",\"y\":\"7\",\"z\":0.75},{\"y\":\"8\",\"z\":0.25,\"x\":\"g\"},{\"y\":\"1\",\"z\":0.25,\"x\":\"h\"},{\"y\":\"2\",\"z\":0.75,\"x\":\"h\"},{\"z\":0.25,\"y\":\"3\",\"x\":\"h\"},{\"x\":\"h\",\"y\":\"4\",\"z\":0.75},{\"x\":\"h\",\"y\":\"5\",\"z\":0.25},{\"y\":\"6\",\"x\":\"h\",\"z\":0.75},{\"y\":\"7\",\"x\":\"h\",\"z\":0.25},{\"z\":0.75,\"y\":\"8\",\"x\":\"h\"}];\n\nvar myGroups = [];\nvar myVars = [];\n\nif (myGroups.length === 0) {\n    myGroups = Array.from(new Set(data.map(d => d.x)));\n}\nif (myVars.length === 0) {\n    myVars = Array.from(new Set(data.map(d => d.y)));\n}\n\nif (true) {\n    myGroups = myGroups.sort(d3.ascending);\n    myVars = myVars.sort(d3.ascending);\n}\n\n// Build X scales and axis:\nvar x = d3.scaleBand()\n    .range([0, width])\n    .domain(myGroups)\n    ;\n\nsvg.append(\"g\")\n    .style(\"font-size\", \"12px\")\n    .style(\"stroke\", \"grey\")\n    .style(\"stroke-width\", \"1px\")\n    .attr(\"font-family\", \"Helvetica\")\n    .attr(\"transform\", `translate(0, ${height})`)\n    .call(d3.axisBottom(x).tickSize(0))\n    .select(\".domain\").remove();\n\n// Build Y scales and axis:\nvar y = d3.scaleBand()\n    .range([height, 0])\n    .domain(myVars)\n    ;\n\nsvg.append(\"g\")\n    .style(\"font-size\", \"12px\")\n    .style(\"stroke\", \"grey\")\n    .style(\"stroke-width\", \"1px\")\n    .attr(\"font-family\", \"Helvetica\")\n    .call(d3.axisLeft(y).tickSize(0))\n    .select(\".domain\").remove();\n\n// Build color scale\nvar myColor = d3.scaleSequential()\n    .interpolator(d3.interpolateYlOrBr)\n    .domain([0, 1]);\n\n\n\n// add the squares\nsvg.selectAll()\n    .data(data, d => d.x + ':' + d.y)\n    .join(\"rect\")\n    .attr(\"x\", d => x(d.x))\n    .attr(\"y\", d => y(d.y))\n    \n    \n    .attr(\"width\", x.bandwidth())\n    .attr(\"height\", y.bandwidth())\n    .style(\"fill\", d => myColor(d.z))\n    .style(\"stroke-width\", 4)\n    .style(\"stroke\", \"none\")\n    .style(\"opacity\", 0.8)\n    \n    \n    ;\n\n// add the grid\nif ( false) {\n    svg.selectAll()\n        .data(data, d => d.x + ':' + d.y)\n        .join(\"rect\")\n        .attr(\"x\", d => x(d.x))\n        .attr(\"y\", d => y(d.y))\n        .attr(\"rx\", 0)\n        .attr(\"ry\", 0)\n        .attr(\"width\", x.bandwidth())\n        .attr(\"height\", y.bandwidth())\n        .style(\"fill\", \"none\")\n        .style(\"stroke-width\", 1)\n        .style(\"stroke\", \"Gray\")\n        .style(\"opacity\", 1)\n}\n\nvar plotLabelData = [{\"z\":\"&#9821;\",\"y\":\"7\",\"x\":\"a\"},{\"x\":\"f\",\"z\":\"&#9820;\",\"y\":\"1\"},{\"x\":\"e\",\"z\":\"&#9820;\",\"y\":\"8\"},{\"x\":\"a\",\"z\":\"&#9820;\",\"y\":\"1\"},{\"y\":\"2\",\"z\":\"&#9823;\",\"x\":\"f\"},{\"y\":\"2\",\"x\":\"d\",\"z\":\"&#9823;\"},{\"y\":\"1\",\"x\":\"e\",\"z\":\"&#9819;\"}]\n\nvar hx = x.bandwidth()\nvar hy = y.bandwidth()\n\nsvg.selectAll()\n.data(plotLabelData, function(d) {return d.x+':'+d.y;})\n.join(\"text\")\n  .attr(\"x\", function(d) { return x(d.x) + hx/2 })\n  .attr(\"y\", function(d) { return y(d.y) + hy/2 + hy*0.1 })\n  .attr(\"text-anchor\", \"middle\")\n  .style(\"alignment-baseline\", \"middle\")\n  .style(\"fill\", \"white\")\n  .style(\"stroke\", \"white\")\n  .style(\"stroke-width\", \"1px\")\n  .style(\"font-size\", function(d) { return (height / 7) + \"px\" })\n  .attr(\"font-family\", \"Courier\")\n  .attr(\"font-weight\", 100)\n  .html(function(d){ return d.z });\n\nvar plotLabelData = [{\"z\":\"&#9815;\",\"x\":\"a\",\"y\":\"7\"},{\"z\":\"&#9814;\",\"y\":\"1\",\"x\":\"f\"},{\"z\":\"&#9814;\",\"x\":\"e\",\"y\":\"8\"},{\"z\":\"&#9814;\",\"x\":\"a\",\"y\":\"1\"},{\"x\":\"f\",\"y\":\"2\",\"z\":\"&#9817;\"},{\"z\":\"&#9817;\",\"y\":\"2\",\"x\":\"d\"},{\"x\":\"e\",\"y\":\"1\",\"z\":\"&#9813;\"}]\n\nvar hx = x.bandwidth()\nvar hy = y.bandwidth()\n\nsvg.selectAll()\n.data(plotLabelData, function(d) {return d.x+':'+d.y;})\n.join(\"text\")\n  .attr(\"x\", function(d) { return x(d.x) + hx/2 })\n  .attr(\"y\", function(d) { return y(d.y) + hy/2 + hy*0.1 })\n  .attr(\"text-anchor\", \"middle\")\n  .style(\"alignment-baseline\", \"middle\")\n  .style(\"fill\", \"darkslategrey\")\n  .style(\"stroke\", \"darkslategrey\")\n  .style(\"stroke-width\", \"1px\")\n  .style(\"font-size\", function(d) { return (height / 7) + \"px\" })\n  .attr(\"font-family\", \"Courier\")\n  .attr(\"font-weight\", 100)\n  .html(function(d){ return d.z });\n\nvar plotLabelData = [{\"z\":\"&#9818;\",\"x\":\"g\",\"y\":\"3\"},{\"z\":\"&#9820;\",\"y\":\"8\",\"x\":\"a\"},{\"x\":\"d\",\"z\":\"&#9823;\",\"y\":\"4\"},{\"y\":\"4\",\"x\":\"e\",\"z\":\"&#9822;\"}]\n\nvar hx = x.bandwidth()\nvar hy = y.bandwidth()\n\nsvg.selectAll()\n.data(plotLabelData, function(d) {return d.x+':'+d.y;})\n.join(\"text\")\n  .attr(\"x\", function(d) { return x(d.x) + hx/2 })\n  .attr(\"y\", function(d) { return y(d.y) + hy/2 + hy*0.1 })\n  .attr(\"text-anchor\", \"middle\")\n  .style(\"alignment-baseline\", \"middle\")\n  .style(\"fill\", \"black\")\n  .style(\"stroke\", \"black\")\n  .style(\"stroke-width\", \"1px\")\n  .style(\"font-size\", function(d) { return (height / 7) + \"px\" })\n  .attr(\"font-family\", \"Courier\")\n  .attr(\"font-weight\", 100)\n  .html(function(d){ return d.z });\n\n}) })(element);\n\n(function(element) { require(['d3'], function(d3) {\n\n\n\n// set the dimensions and margins of the graph\nvar margin = {\"top\":40,\"right\":40,\"left\":40,\"bottom\":40},\n    width = 350 - margin.left - margin.right,\n    height = 350 - margin.top - margin.bottom;\n\n// append the svg object to the body of the page\nvar svg = d3\n   .select(element.get(0))\n  .append(\"svg\")\n    .attr(\"width\", width + margin.left + margin.right)\n    .attr(\"height\", height + margin.top + margin.bottom)\n    .style(\"background\", \"#1F1F1F\")\n  .append(\"g\")\n    .attr(\"transform\",\n          \"translate(\" + margin.left + \",\" + margin.top + \")\")\n\n// Obtain title\nvar title = \"Text description to FEN (Gemini, wrong)\"\nvar titleFontSize = 12\n\nif ( title.length > 0 ) {\n    svg.append(\"text\")\n        .attr(\"x\", (width / 2))\n        .attr(\"y\", 0 - (margin.top / 2))\n        .attr(\"text-anchor\", \"middle\")\n        .style(\"font-size\", titleFontSize.toString() + \"px\")\n        .style(\"fill\", \"Silver\")\n        .text(title);\n}\n\n// Obtain data\nvar data = [{\"y\":\"1\",\"z\":0.75,\"x\":\"a\"},{\"x\":\"a\",\"y\":\"2\",\"z\":0.25},{\"x\":\"a\",\"y\":\"3\",\"z\":0.75},{\"y\":\"4\",\"x\":\"a\",\"z\":0.25},{\"x\":\"a\",\"y\":\"5\",\"z\":0.75},{\"y\":\"6\",\"x\":\"a\",\"z\":0.25},{\"z\":0.75,\"y\":\"7\",\"x\":\"a\"},{\"z\":0.25,\"y\":\"8\",\"x\":\"a\"},{\"x\":\"b\",\"z\":0.25,\"y\":\"1\"},{\"x\":\"b\",\"y\":\"2\",\"z\":0.75},{\"y\":\"3\",\"z\":0.25,\"x\":\"b\"},{\"x\":\"b\",\"z\":0.75,\"y\":\"4\"},{\"x\":\"b\",\"y\":\"5\",\"z\":0.25},{\"y\":\"6\",\"x\":\"b\",\"z\":0.75},{\"y\":\"7\",\"x\":\"b\",\"z\":0.25},{\"y\":\"8\",\"z\":0.75,\"x\":\"b\"},{\"z\":0.75,\"y\":\"1\",\"x\":\"c\"},{\"z\":0.25,\"y\":\"2\",\"x\":\"c\"},{\"y\":\"3\",\"z\":0.75,\"x\":\"c\"},{\"y\":\"4\",\"x\":\"c\",\"z\":0.25},{\"z\":0.75,\"x\":\"c\",\"y\":\"5\"},{\"x\":\"c\",\"y\":\"6\",\"z\":0.25},{\"z\":0.75,\"y\":\"7\",\"x\":\"c\"},{\"z\":0.25,\"x\":\"c\",\"y\":\"8\"},{\"y\":\"1\",\"z\":0.25,\"x\":\"d\"},{\"z\":0.75,\"x\":\"d\",\"y\":\"2\"},{\"y\":\"3\",\"x\":\"d\",\"z\":0.25},{\"z\":0.75,\"y\":\"4\",\"x\":\"d\"},{\"x\":\"d\",\"z\":0.25,\"y\":\"5\"},{\"z\":0.75,\"x\":\"d\",\"y\":\"6\"},{\"x\":\"d\",\"y\":\"7\",\"z\":0.25},{\"x\":\"d\",\"y\":\"8\",\"z\":0.75},{\"x\":\"e\",\"z\":0.75,\"y\":\"1\"},{\"y\":\"2\",\"z\":0.25,\"x\":\"e\"},{\"x\":\"e\",\"z\":0.75,\"y\":\"3\"},{\"y\":\"4\",\"x\":\"e\",\"z\":0.25},{\"x\":\"e\",\"y\":\"5\",\"z\":0.75},{\"z\":0.25,\"y\":\"6\",\"x\":\"e\"},{\"z\":0.75,\"y\":\"7\",\"x\":\"e\"},{\"y\":\"8\",\"x\":\"e\",\"z\":0.25},{\"y\":\"1\",\"x\":\"f\",\"z\":0.25},{\"z\":0.75,\"x\":\"f\",\"y\":\"2\"},{\"x\":\"f\",\"z\":0.25,\"y\":\"3\"},{\"y\":\"4\",\"x\":\"f\",\"z\":0.75},{\"y\":\"5\",\"x\":\"f\",\"z\":0.25},{\"y\":\"6\",\"z\":0.75,\"x\":\"f\"},{\"z\":0.25,\"y\":\"7\",\"x\":\"f\"},{\"y\":\"8\",\"x\":\"f\",\"z\":0.75},{\"x\":\"g\",\"z\":0.75,\"y\":\"1\"},{\"x\":\"g\",\"y\":\"2\",\"z\":0.25},{\"y\":\"3\",\"z\":0.75,\"x\":\"g\"},{\"x\":\"g\",\"z\":0.25,\"y\":\"4\"},{\"y\":\"5\",\"x\":\"g\",\"z\":0.75},{\"y\":\"6\",\"x\":\"g\",\"z\":0.25},{\"y\":\"7\",\"x\":\"g\",\"z\":0.75},{\"z\":0.25,\"x\":\"g\",\"y\":\"8\"},{\"z\":0.25,\"y\":\"1\",\"x\":\"h\"},{\"y\":\"2\",\"x\":\"h\",\"z\":0.75},{\"z\":0.25,\"y\":\"3\",\"x\":\"h\"},{\"z\":0.75,\"x\":\"h\",\"y\":\"4\"},{\"y\":\"5\",\"x\":\"h\",\"z\":0.25},{\"x\":\"h\",\"z\":0.75,\"y\":\"6\"},{\"y\":\"7\",\"z\":0.25,\"x\":\"h\"},{\"y\":\"8\",\"z\":0.75,\"x\":\"h\"}];\n\nvar myGroups = [];\nvar myVars = [];\n\nif (myGroups.length === 0) {\n    myGroups = Array.from(new Set(data.map(d => d.x)));\n}\nif (myVars.length === 0) {\n    myVars = Array.from(new Set(data.map(d => d.y)));\n}\n\nif (true) {\n    myGroups = myGroups.sort(d3.ascending);\n    myVars = myVars.sort(d3.ascending);\n}\n\n// Build X scales and axis:\nvar x = d3.scaleBand()\n    .range([0, width])\n    .domain(myGroups)\n    ;\n\nsvg.append(\"g\")\n    .style(\"font-size\", \"12px\")\n    .style(\"stroke\", \"grey\")\n    .style(\"stroke-width\", \"1px\")\n    .attr(\"font-family\", \"Helvetica\")\n    .attr(\"transform\", `translate(0, ${height})`)\n    .call(d3.axisBottom(x).tickSize(0))\n    .select(\".domain\").remove();\n\n// Build Y scales and axis:\nvar y = d3.scaleBand()\n    .range([height, 0])\n    .domain(myVars)\n    ;\n\nsvg.append(\"g\")\n    .style(\"font-size\", \"12px\")\n    .style(\"stroke\", \"grey\")\n    .style(\"stroke-width\", \"1px\")\n    .attr(\"font-family\", \"Helvetica\")\n    .call(d3.axisLeft(y).tickSize(0))\n    .select(\".domain\").remove();\n\n// Build color scale\nvar myColor = d3.scaleSequential()\n    .interpolator(d3.interpolateYlOrBr)\n    .domain([0, 1]);\n\n\n\n// add the squares\nsvg.selectAll()\n    .data(data, d => d.x + ':' + d.y)\n    .join(\"rect\")\n    .attr(\"x\", d => x(d.x))\n    .attr(\"y\", d => y(d.y))\n    \n    \n    .attr(\"width\", x.bandwidth())\n    .attr(\"height\", y.bandwidth())\n    .style(\"fill\", d => myColor(d.z))\n    .style(\"stroke-width\", 4)\n    .style(\"stroke\", \"none\")\n    .style(\"opacity\", 0.8)\n    \n    \n    ;\n\n// add the grid\nif ( false) {\n    svg.selectAll()\n        .data(data, d => d.x + ':' + d.y)\n        .join(\"rect\")\n        .attr(\"x\", d => x(d.x))\n        .attr(\"y\", d => y(d.y))\n        .attr(\"rx\", 0)\n        .attr(\"ry\", 0)\n        .attr(\"width\", x.bandwidth())\n        .attr(\"height\", y.bandwidth())\n        .style(\"fill\", \"none\")\n        .style(\"stroke-width\", 1)\n        .style(\"stroke\", \"Gray\")\n        .style(\"opacity\", 1)\n}\n\nvar plotLabelData = [{\"z\":\"&#9820;\",\"y\":\"1\",\"x\":\"a\"},{\"z\":\"&#9823;\",\"x\":\"f\",\"y\":\"2\"},{\"y\":\"8\",\"z\":\"&#9821;\",\"x\":\"a\"},{\"z\":\"&#9819;\",\"x\":\"e\",\"y\":\"1\"},{\"x\":\"g\",\"y\":\"3\",\"z\":\"&#9823;\"},{\"x\":\"g\",\"z\":\"&#9818;\",\"y\":\"8\"},{\"y\":\"8\",\"x\":\"c\",\"z\":\"&#9820;\"}]\n\nvar hx = x.bandwidth()\nvar hy = y.bandwidth()\n\nsvg.selectAll()\n.data(plotLabelData, function(d) {return d.x+':'+d.y;})\n.join(\"text\")\n  .attr(\"x\", function(d) { return x(d.x) + hx/2 })\n  .attr(\"y\", function(d) { return y(d.y) + hy/2 + hy*0.1 })\n  .attr(\"text-anchor\", \"middle\")\n  .style(\"alignment-baseline\", \"middle\")\n  .style(\"fill\", \"white\")\n  .style(\"stroke\", \"white\")\n  .style(\"stroke-width\", \"1px\")\n  .style(\"font-size\", function(d) { return (height / 7) + \"px\" })\n  .attr(\"font-family\", \"Courier\")\n  .attr(\"font-weight\", 100)\n  .html(function(d){ return d.z });\n\nvar plotLabelData = [{\"z\":\"&#9814;\",\"x\":\"a\",\"y\":\"1\"},{\"x\":\"f\",\"z\":\"&#9817;\",\"y\":\"2\"},{\"x\":\"a\",\"z\":\"&#9815;\",\"y\":\"8\"},{\"z\":\"&#9813;\",\"y\":\"1\",\"x\":\"e\"},{\"z\":\"&#9817;\",\"y\":\"3\",\"x\":\"g\"},{\"y\":\"8\",\"z\":\"&#9812;\",\"x\":\"g\"},{\"x\":\"c\",\"y\":\"8\",\"z\":\"&#9814;\"}]\n\nvar hx = x.bandwidth()\nvar hy = y.bandwidth()\n\nsvg.selectAll()\n.data(plotLabelData, function(d) {return d.x+':'+d.y;})\n.join(\"text\")\n  .attr(\"x\", function(d) { return x(d.x) + hx/2 })\n  .attr(\"y\", function(d) { return y(d.y) + hy/2 + hy*0.1 })\n  .attr(\"text-anchor\", \"middle\")\n  .style(\"alignment-baseline\", \"middle\")\n  .style(\"fill\", \"darkslategrey\")\n  .style(\"stroke\", \"darkslategrey\")\n  .style(\"stroke-width\", \"1px\")\n  .style(\"font-size\", function(d) { return (height / 7) + \"px\" })\n  .attr(\"font-family\", \"Courier\")\n  .attr(\"font-weight\", 100)\n  .html(function(d){ return d.z });\n\nvar plotLabelData = [{\"y\":\"4\",\"x\":\"e\",\"z\":\"&#9818;\"},{\"x\":\"e\",\"y\":\"5\",\"z\":\"&#9822;\"},{\"x\":\"d\",\"z\":\"&#9823;\",\"y\":\"4\"}]\n\nvar hx = x.bandwidth()\nvar hy = y.bandwidth()\n\nsvg.selectAll()\n.data(plotLabelData, function(d) {return d.x+':'+d.y;})\n.join(\"text\")\n  .attr(\"x\", function(d) { return x(d.x) + hx/2 })\n  .attr(\"y\", function(d) { return y(d.y) + hy/2 + hy*0.1 })\n  .attr(\"text-anchor\", \"middle\")\n  .style(\"alignment-baseline\", \"middle\")\n  .style(\"fill\", \"black\")\n  .style(\"stroke\", \"black\")\n  .style(\"stroke-width\", \"1px\")\n  .style(\"font-size\", function(d) { return (height / 7) + \"px\" })\n  .attr(\"font-family\", \"Courier\")\n  .attr(\"font-weight\", 100)\n  .html(function(d){ return d.z });\n\n}) })(element);\n\n(function(element) { require(['d3'], function(d3) {\n\n// set the dimensions and margins of the graph\nvar margin = {\"top\":40,\"bottom\":40,\"left\":40,\"right\":40},\n    width = 350 - margin.left - margin.right,\n    height = 350 - margin.top - margin.bottom;\n\n// append the svg object to the body of the page\nvar svg = d3\n   .select(element.get(0))\n  .append(\"svg\")\n    .attr(\"width\", width + margin.left + margin.right)\n    .attr(\"height\", height + margin.top + margin.bottom)\n    .style(\"background\", \"#1F1F1F\")\n  .append(\"g\")\n    .attr(\"transform\",\n          \"translate(\" + margin.left + \",\" + margin.top + \")\")\n\n// Obtain title\nvar title = \"Text description to JSON (OpenAI, correct)\"\nvar titleFontSize = 12\n\nif ( title.length > 0 ) {\n    svg.append(\"text\")\n        .attr(\"x\", (width / 2))\n        .attr(\"y\", 0 - (margin.top / 2))\n        .attr(\"text-anchor\", \"middle\")\n        .style(\"font-size\", titleFontSize.toString() + \"px\")\n        .style(\"fill\", \"Silver\")\n        .text(title);\n}\n\n// Obtain data\nvar data = [{\"x\":\"a\",\"y\":\"1\",\"z\":0.75},{\"z\":0.25,\"x\":\"a\",\"y\":\"2\"},{\"y\":\"3\",\"z\":0.75,\"x\":\"a\"},{\"y\":\"4\",\"x\":\"a\",\"z\":0.25},{\"x\":\"a\",\"y\":\"5\",\"z\":0.75},{\"x\":\"a\",\"y\":\"6\",\"z\":0.25},{\"y\":\"7\",\"x\":\"a\",\"z\":0.75},{\"y\":\"8\",\"x\":\"a\",\"z\":0.25},{\"y\":\"1\",\"x\":\"b\",\"z\":0.25},{\"x\":\"b\",\"z\":0.75,\"y\":\"2\"},{\"z\":0.25,\"y\":\"3\",\"x\":\"b\"},{\"z\":0.75,\"x\":\"b\",\"y\":\"4\"},{\"y\":\"5\",\"x\":\"b\",\"z\":0.25},{\"x\":\"b\",\"y\":\"6\",\"z\":0.75},{\"z\":0.25,\"x\":\"b\",\"y\":\"7\"},{\"z\":0.75,\"y\":\"8\",\"x\":\"b\"},{\"z\":0.75,\"x\":\"c\",\"y\":\"1\"},{\"x\":\"c\",\"z\":0.25,\"y\":\"2\"},{\"z\":0.75,\"y\":\"3\",\"x\":\"c\"},{\"x\":\"c\",\"y\":\"4\",\"z\":0.25},{\"z\":0.75,\"y\":\"5\",\"x\":\"c\"},{\"z\":0.25,\"x\":\"c\",\"y\":\"6\"},{\"z\":0.75,\"x\":\"c\",\"y\":\"7\"},{\"y\":\"8\",\"x\":\"c\",\"z\":0.25},{\"z\":0.25,\"x\":\"d\",\"y\":\"1\"},{\"y\":\"2\",\"z\":0.75,\"x\":\"d\"},{\"z\":0.25,\"x\":\"d\",\"y\":\"3\"},{\"y\":\"4\",\"z\":0.75,\"x\":\"d\"},{\"y\":\"5\",\"x\":\"d\",\"z\":0.25},{\"x\":\"d\",\"z\":0.75,\"y\":\"6\"},{\"y\":\"7\",\"x\":\"d\",\"z\":0.25},{\"y\":\"8\",\"x\":\"d\",\"z\":0.75},{\"z\":0.75,\"x\":\"e\",\"y\":\"1\"},{\"z\":0.25,\"y\":\"2\",\"x\":\"e\"},{\"y\":\"3\",\"z\":0.75,\"x\":\"e\"},{\"z\":0.25,\"y\":\"4\",\"x\":\"e\"},{\"y\":\"5\",\"x\":\"e\",\"z\":0.75},{\"x\":\"e\",\"z\":0.25,\"y\":\"6\"},{\"x\":\"e\",\"z\":0.75,\"y\":\"7\"},{\"x\":\"e\",\"y\":\"8\",\"z\":0.25},{\"z\":0.25,\"x\":\"f\",\"y\":\"1\"},{\"x\":\"f\",\"z\":0.75,\"y\":\"2\"},{\"x\":\"f\",\"y\":\"3\",\"z\":0.25},{\"y\":\"4\",\"z\":0.75,\"x\":\"f\"},{\"y\":\"5\",\"z\":0.25,\"x\":\"f\"},{\"z\":0.75,\"x\":\"f\",\"y\":\"6\"},{\"z\":0.25,\"x\":\"f\",\"y\":\"7\"},{\"x\":\"f\",\"y\":\"8\",\"z\":0.75},{\"y\":\"1\",\"z\":0.75,\"x\":\"g\"},{\"z\":0.25,\"x\":\"g\",\"y\":\"2\"},{\"y\":\"3\",\"x\":\"g\",\"z\":0.75},{\"y\":\"4\",\"x\":\"g\",\"z\":0.25},{\"z\":0.75,\"y\":\"5\",\"x\":\"g\"},{\"y\":\"6\",\"z\":0.25,\"x\":\"g\"},{\"x\":\"g\",\"y\":\"7\",\"z\":0.75},{\"x\":\"g\",\"y\":\"8\",\"z\":0.25},{\"z\":0.25,\"y\":\"1\",\"x\":\"h\"},{\"z\":0.75,\"y\":\"2\",\"x\":\"h\"},{\"x\":\"h\",\"z\":0.25,\"y\":\"3\"},{\"x\":\"h\",\"z\":0.75,\"y\":\"4\"},{\"z\":0.25,\"x\":\"h\",\"y\":\"5\"},{\"y\":\"6\",\"z\":0.75,\"x\":\"h\"},{\"y\":\"7\",\"z\":0.25,\"x\":\"h\"},{\"y\":\"8\",\"x\":\"h\",\"z\":0.75}];\n\nvar myGroups = [];\nvar myVars = [];\n\nif (myGroups.length === 0) {\n    myGroups = Array.from(new Set(data.map(d => d.x)));\n}\nif (myVars.length === 0) {\n    myVars = Array.from(new Set(data.map(d => d.y)));\n}\n\nif (true) {\n    myGroups = myGroups.sort(d3.ascending);\n    myVars = myVars.sort(d3.ascending);\n}\n\n// Build X scales and axis:\nvar x = d3.scaleBand()\n    .range([0, width])\n    .domain(myGroups)\n    ;\n\nsvg.append(\"g\")\n    .style(\"font-size\", \"12px\")\n    .style(\"stroke\", \"grey\")\n    .style(\"stroke-width\", \"1px\")\n    .attr(\"font-family\", \"Helvetica\")\n    .attr(\"transform\", `translate(0, ${height})`)\n    .call(d3.axisBottom(x).tickSize(0))\n    .select(\".domain\").remove();\n\n// Build Y scales and axis:\nvar y = d3.scaleBand()\n    .range([height, 0])\n    .domain(myVars)\n    ;\n\nsvg.append(\"g\")\n    .style(\"font-size\", \"12px\")\n    .style(\"stroke\", \"grey\")\n    .style(\"stroke-width\", \"1px\")\n    .attr(\"font-family\", \"Helvetica\")\n    .call(d3.axisLeft(y).tickSize(0))\n    .select(\".domain\").remove();\n\n// Build color scale\nvar myColor = d3.scaleSequential()\n    .interpolator(d3.interpolateYlOrBr)\n    .domain([0, 1]);\n\n\n\n// add the squares\nsvg.selectAll()\n    .data(data, d => d.x + ':' + d.y)\n    .join(\"rect\")\n    .attr(\"x\", d => x(d.x))\n    .attr(\"y\", d => y(d.y))\n    \n    \n    .attr(\"width\", x.bandwidth())\n    .attr(\"height\", y.bandwidth())\n    .style(\"fill\", d => myColor(d.z))\n    .style(\"stroke-width\", 4)\n    .style(\"stroke\", \"none\")\n    .style(\"opacity\", 0.8)\n    \n    \n    ;\n\n// add the grid\nif ( false) {\n    svg.selectAll()\n        .data(data, d => d.x + ':' + d.y)\n        .join(\"rect\")\n        .attr(\"x\", d => x(d.x))\n        .attr(\"y\", d => y(d.y))\n        .attr(\"rx\", 0)\n        .attr(\"ry\", 0)\n        .attr(\"width\", x.bandwidth())\n        .attr(\"height\", y.bandwidth())\n        .style(\"fill\", \"none\")\n        .style(\"stroke-width\", 1)\n        .style(\"stroke\", \"Gray\")\n        .style(\"opacity\", 1)\n}\n\nvar plotLabelData = [{\"y\":\"8\",\"x\":\"a\",\"z\":\"&#9821;\"},{\"y\":\"8\",\"x\":\"e\",\"z\":\"&#9820;\"},{\"z\":\"&#9820;\",\"y\":\"1\",\"x\":\"a\"},{\"x\":\"g\",\"z\":\"&#9819;\",\"y\":\"1\"},{\"z\":\"&#9818;\",\"x\":\"e\",\"y\":\"1\"},{\"z\":\"&#9823;\",\"y\":\"2\",\"x\":\"f\"},{\"z\":\"&#9823;\",\"y\":\"3\",\"x\":\"g\"}]\n\nvar hx = x.bandwidth()\nvar hy = y.bandwidth()\n\nsvg.selectAll()\n.data(plotLabelData, function(d) {return d.x+':'+d.y;})\n.join(\"text\")\n  .attr(\"x\", function(d) { return x(d.x) + hx/2 })\n  .attr(\"y\", function(d) { return y(d.y) + hy/2 + hy*0.1 })\n  .attr(\"text-anchor\", \"middle\")\n  .style(\"alignment-baseline\", \"middle\")\n  .style(\"fill\", \"white\")\n  .style(\"stroke\", \"white\")\n  .style(\"stroke-width\", \"1px\")\n  .style(\"font-size\", function(d) { return (height / 7) + \"px\" })\n  .attr(\"font-family\", \"Courier\")\n  .attr(\"font-weight\", 100)\n  .html(function(d){ return d.z });\n\nvar plotLabelData = [{\"z\":\"&#9815;\",\"x\":\"a\",\"y\":\"8\"},{\"y\":\"8\",\"z\":\"&#9814;\",\"x\":\"e\"},{\"y\":\"1\",\"x\":\"a\",\"z\":\"&#9814;\"},{\"x\":\"g\",\"z\":\"&#9813;\",\"y\":\"1\"},{\"x\":\"e\",\"y\":\"1\",\"z\":\"&#9812;\"},{\"x\":\"f\",\"y\":\"2\",\"z\":\"&#9817;\"},{\"z\":\"&#9817;\",\"y\":\"3\",\"x\":\"g\"}]\n\nvar hx = x.bandwidth()\nvar hy = y.bandwidth()\n\nsvg.selectAll()\n.data(plotLabelData, function(d) {return d.x+':'+d.y;})\n.join(\"text\")\n  .attr(\"x\", function(d) { return x(d.x) + hx/2 })\n  .attr(\"y\", function(d) { return y(d.y) + hy/2 + hy*0.1 })\n  .attr(\"text-anchor\", \"middle\")\n  .style(\"alignment-baseline\", \"middle\")\n  .style(\"fill\", \"darkslategrey\")\n  .style(\"stroke\", \"darkslategrey\")\n  .style(\"stroke-width\", \"1px\")\n  .style(\"font-size\", function(d) { return (height / 7) + \"px\" })\n  .attr(\"font-family\", \"Courier\")\n  .attr(\"font-weight\", 100)\n  .html(function(d){ return d.z });\n\nvar plotLabelData = [{\"y\":\"4\",\"z\":\"&#9822;\",\"x\":\"e\"},{\"y\":\"3\",\"z\":\"&#9818;\",\"x\":\"f\"},{\"y\":\"4\",\"x\":\"g\",\"z\":\"&#9823;\"}]\n\nvar hx = x.bandwidth()\nvar hy = y.bandwidth()\n\nsvg.selectAll()\n.data(plotLabelData, function(d) {return d.x+':'+d.y;})\n.join(\"text\")\n  .attr(\"x\", function(d) { return x(d.x) + hx/2 })\n  .attr(\"y\", function(d) { return y(d.y) + hy/2 + hy*0.1 })\n  .attr(\"text-anchor\", \"middle\")\n  .style(\"alignment-baseline\", \"middle\")\n  .style(\"fill\", \"black\")\n  .style(\"stroke\", \"black\")\n  .style(\"stroke-width\", \"1px\")\n  .style(\"font-size\", function(d) { return (height / 7) + \"px\" })\n  .attr(\"font-family\", \"Courier\")\n  .attr(\"font-weight\", 100)\n  .html(function(d){ return d.z });\n\n}) })(element);\n\n(function(element) { require(['d3'], function(d3) {\n\n\n\n// set the dimensions and margins of the graph\nvar margin = {\"top\":40,\"right\":40,\"bottom\":40,\"left\":40},\n    width = 350 - margin.left - margin.right,\n    height = 350 - margin.top - margin.bottom;\n\n// append the svg object to the body of the page\nvar svg = d3\n   .select(element.get(0))\n  .append(\"svg\")\n    .attr(\"width\", width + margin.left + margin.right)\n    .attr(\"height\", height + margin.top + margin.bottom)\n    .style(\"background\", \"#1F1F1F\")\n  .append(\"g\")\n    .attr(\"transform\",\n          \"translate(\" + margin.left + \",\" + margin.top + \")\")\n\n// Obtain title\nvar title = \"Image to FEN (OpenAI, wrong)\"\nvar titleFontSize = 12\n\nif ( title.length > 0 ) {\n    svg.append(\"text\")\n        .attr(\"x\", (width / 2))\n        .attr(\"y\", 0 - (margin.top / 2))\n        .attr(\"text-anchor\", \"middle\")\n        .style(\"font-size\", titleFontSize.toString() + \"px\")\n        .style(\"fill\", \"Silver\")\n        .text(title);\n}\n\n// Obtain data\nvar data = [{\"y\":\"1\",\"z\":0.75,\"x\":\"a\"},{\"y\":\"2\",\"x\":\"a\",\"z\":0.25},{\"y\":\"3\",\"x\":\"a\",\"z\":0.75},{\"x\":\"a\",\"y\":\"4\",\"z\":0.25},{\"z\":0.75,\"y\":\"5\",\"x\":\"a\"},{\"x\":\"a\",\"y\":\"6\",\"z\":0.25},{\"z\":0.75,\"x\":\"a\",\"y\":\"7\"},{\"z\":0.25,\"y\":\"8\",\"x\":\"a\"},{\"x\":\"b\",\"y\":\"1\",\"z\":0.25},{\"x\":\"b\",\"y\":\"2\",\"z\":0.75},{\"y\":\"3\",\"x\":\"b\",\"z\":0.25},{\"z\":0.75,\"y\":\"4\",\"x\":\"b\"},{\"z\":0.25,\"x\":\"b\",\"y\":\"5\"},{\"x\":\"b\",\"z\":0.75,\"y\":\"6\"},{\"z\":0.25,\"y\":\"7\",\"x\":\"b\"},{\"x\":\"b\",\"z\":0.75,\"y\":\"8\"},{\"x\":\"c\",\"z\":0.75,\"y\":\"1\"},{\"y\":\"2\",\"x\":\"c\",\"z\":0.25},{\"z\":0.75,\"x\":\"c\",\"y\":\"3\"},{\"z\":0.25,\"y\":\"4\",\"x\":\"c\"},{\"x\":\"c\",\"z\":0.75,\"y\":\"5\"},{\"y\":\"6\",\"x\":\"c\",\"z\":0.25},{\"x\":\"c\",\"z\":0.75,\"y\":\"7\"},{\"z\":0.25,\"y\":\"8\",\"x\":\"c\"},{\"z\":0.25,\"x\":\"d\",\"y\":\"1\"},{\"z\":0.75,\"y\":\"2\",\"x\":\"d\"},{\"y\":\"3\",\"z\":0.25,\"x\":\"d\"},{\"y\":\"4\",\"x\":\"d\",\"z\":0.75},{\"y\":\"5\",\"x\":\"d\",\"z\":0.25},{\"y\":\"6\",\"z\":0.75,\"x\":\"d\"},{\"z\":0.25,\"x\":\"d\",\"y\":\"7\"},{\"z\":0.75,\"y\":\"8\",\"x\":\"d\"},{\"x\":\"e\",\"y\":\"1\",\"z\":0.75},{\"y\":\"2\",\"x\":\"e\",\"z\":0.25},{\"x\":\"e\",\"z\":0.75,\"y\":\"3\"},{\"y\":\"4\",\"x\":\"e\",\"z\":0.25},{\"x\":\"e\",\"y\":\"5\",\"z\":0.75},{\"y\":\"6\",\"z\":0.25,\"x\":\"e\"},{\"x\":\"e\",\"y\":\"7\",\"z\":0.75},{\"x\":\"e\",\"z\":0.25,\"y\":\"8\"},{\"y\":\"1\",\"x\":\"f\",\"z\":0.25},{\"z\":0.75,\"x\":\"f\",\"y\":\"2\"},{\"y\":\"3\",\"x\":\"f\",\"z\":0.25},{\"y\":\"4\",\"z\":0.75,\"x\":\"f\"},{\"x\":\"f\",\"y\":\"5\",\"z\":0.25},{\"z\":0.75,\"x\":\"f\",\"y\":\"6\"},{\"y\":\"7\",\"x\":\"f\",\"z\":0.25},{\"x\":\"f\",\"y\":\"8\",\"z\":0.75},{\"y\":\"1\",\"z\":0.75,\"x\":\"g\"},{\"z\":0.25,\"y\":\"2\",\"x\":\"g\"},{\"z\":0.75,\"x\":\"g\",\"y\":\"3\"},{\"y\":\"4\",\"x\":\"g\",\"z\":0.25},{\"y\":\"5\",\"x\":\"g\",\"z\":0.75},{\"y\":\"6\",\"z\":0.25,\"x\":\"g\"},{\"x\":\"g\",\"y\":\"7\",\"z\":0.75},{\"x\":\"g\",\"z\":0.25,\"y\":\"8\"},{\"x\":\"h\",\"z\":0.25,\"y\":\"1\"},{\"x\":\"h\",\"z\":0.75,\"y\":\"2\"},{\"y\":\"3\",\"z\":0.25,\"x\":\"h\"},{\"x\":\"h\",\"y\":\"4\",\"z\":0.75},{\"y\":\"5\",\"z\":0.25,\"x\":\"h\"},{\"x\":\"h\",\"y\":\"6\",\"z\":0.75},{\"x\":\"h\",\"z\":0.25,\"y\":\"7\"},{\"y\":\"8\",\"x\":\"h\",\"z\":0.75}];\n\nvar myGroups = [];\nvar myVars = [];\n\nif (myGroups.length === 0) {\n    myGroups = Array.from(new Set(data.map(d => d.x)));\n}\nif (myVars.length === 0) {\n    myVars = Array.from(new Set(data.map(d => d.y)));\n}\n\nif (true) {\n    myGroups = myGroups.sort(d3.ascending);\n    myVars = myVars.sort(d3.ascending);\n}\n\n// Build X scales and axis:\nvar x = d3.scaleBand()\n    .range([0, width])\n    .domain(myGroups)\n    ;\n\nsvg.append(\"g\")\n    .style(\"font-size\", \"12px\")\n    .style(\"stroke\", \"grey\")\n    .style(\"stroke-width\", \"1px\")\n    .attr(\"font-family\", \"Helvetica\")\n    .attr(\"transform\", `translate(0, ${height})`)\n    .call(d3.axisBottom(x).tickSize(0))\n    .select(\".domain\").remove();\n\n// Build Y scales and axis:\nvar y = d3.scaleBand()\n    .range([height, 0])\n    .domain(myVars)\n    ;\n\nsvg.append(\"g\")\n    .style(\"font-size\", \"12px\")\n    .style(\"stroke\", \"grey\")\n    .style(\"stroke-width\", \"1px\")\n    .attr(\"font-family\", \"Helvetica\")\n    .call(d3.axisLeft(y).tickSize(0))\n    .select(\".domain\").remove();\n\n// Build color scale\nvar myColor = d3.scaleSequential()\n    .interpolator(d3.interpolateYlOrBr)\n    .domain([0, 1]);\n\n\n\n// add the squares\nsvg.selectAll()\n    .data(data, d => d.x + ':' + d.y)\n    .join(\"rect\")\n    .attr(\"x\", d => x(d.x))\n    .attr(\"y\", d => y(d.y))\n    \n    \n    .attr(\"width\", x.bandwidth())\n    .attr(\"height\", y.bandwidth())\n    .style(\"fill\", d => myColor(d.z))\n    .style(\"stroke-width\", 4)\n    .style(\"stroke\", \"none\")\n    .style(\"opacity\", 0.8)\n    \n    \n    ;\n\n// add the grid\nif ( false) {\n    svg.selectAll()\n        .data(data, d => d.x + ':' + d.y)\n        .join(\"rect\")\n        .attr(\"x\", d => x(d.x))\n        .attr(\"y\", d => y(d.y))\n        .attr(\"rx\", 0)\n        .attr(\"ry\", 0)\n        .attr(\"width\", x.bandwidth())\n        .attr(\"height\", y.bandwidth())\n        .style(\"fill\", \"none\")\n        .style(\"stroke-width\", 1)\n        .style(\"stroke\", \"Gray\")\n        .style(\"opacity\", 1)\n}\n\nvar plotLabelData = [{\"x\":\"a\",\"z\":\"&#9821;\",\"y\":\"7\"},{\"y\":\"1\",\"z\":\"&#9819;\",\"x\":\"e\"},{\"y\":\"1\",\"x\":\"a\",\"z\":\"&#9820;\"},{\"y\":\"2\",\"z\":\"&#9823;\",\"x\":\"f\"},{\"z\":\"&#9820;\",\"y\":\"7\",\"x\":\"e\"},{\"y\":\"3\",\"x\":\"g\",\"z\":\"&#9823;\"}]\n\nvar hx = x.bandwidth()\nvar hy = y.bandwidth()\n\nsvg.selectAll()\n.data(plotLabelData, function(d) {return d.x+':'+d.y;})\n.join(\"text\")\n  .attr(\"x\", function(d) { return x(d.x) + hx/2 })\n  .attr(\"y\", function(d) { return y(d.y) + hy/2 + hy*0.1 })\n  .attr(\"text-anchor\", \"middle\")\n  .style(\"alignment-baseline\", \"middle\")\n  .style(\"fill\", \"white\")\n  .style(\"stroke\", \"white\")\n  .style(\"stroke-width\", \"1px\")\n  .style(\"font-size\", function(d) { return (height / 7) + \"px\" })\n  .attr(\"font-family\", \"Courier\")\n  .attr(\"font-weight\", 100)\n  .html(function(d){ return d.z });\n\nvar plotLabelData = [{\"z\":\"&#9815;\",\"y\":\"7\",\"x\":\"a\"},{\"x\":\"e\",\"z\":\"&#9813;\",\"y\":\"1\"},{\"y\":\"1\",\"z\":\"&#9814;\",\"x\":\"a\"},{\"x\":\"f\",\"z\":\"&#9817;\",\"y\":\"2\"},{\"y\":\"7\",\"x\":\"e\",\"z\":\"&#9814;\"},{\"y\":\"3\",\"z\":\"&#9817;\",\"x\":\"g\"}]\n\nvar hx = x.bandwidth()\nvar hy = y.bandwidth()\n\nsvg.selectAll()\n.data(plotLabelData, function(d) {return d.x+':'+d.y;})\n.join(\"text\")\n  .attr(\"x\", function(d) { return x(d.x) + hx/2 })\n  .attr(\"y\", function(d) { return y(d.y) + hy/2 + hy*0.1 })\n  .attr(\"text-anchor\", \"middle\")\n  .style(\"alignment-baseline\", \"middle\")\n  .style(\"fill\", \"darkslategrey\")\n  .style(\"stroke\", \"darkslategrey\")\n  .style(\"stroke-width\", \"1px\")\n  .style(\"font-size\", function(d) { return (height / 7) + \"px\" })\n  .attr(\"font-family\", \"Courier\")\n  .attr(\"font-weight\", 100)\n  .html(function(d){ return d.z });\n\nvar plotLabelData = [{\"z\":\"&#9823;\",\"y\":\"4\",\"x\":\"d\"},{\"y\":\"4\",\"x\":\"e\",\"z\":\"&#9822;\"},{\"y\":\"3\",\"z\":\"&#9818;\",\"x\":\"f\"}]\n\nvar hx = x.bandwidth()\nvar hy = y.bandwidth()\n\nsvg.selectAll()\n.data(plotLabelData, function(d) {return d.x+':'+d.y;})\n.join(\"text\")\n  .attr(\"x\", function(d) { return x(d.x) + hx/2 })\n  .attr(\"y\", function(d) { return y(d.y) + hy/2 + hy*0.1 })\n  .attr(\"text-anchor\", \"middle\")\n  .style(\"alignment-baseline\", \"middle\")\n  .style(\"fill\", \"black\")\n  .style(\"stroke\", \"black\")\n  .style(\"stroke-width\", \"1px\")\n  .style(\"font-size\", function(d) { return (height / 7) + \"px\" })\n  .attr(\"font-family\", \"Courier\")\n  .attr(\"font-weight\", 100)\n  .html(function(d){ return d.z });\n\n}) })(element);\n\n(function(element) { require(['d3'], function(d3) {\n\n\n\n// set the dimensions and margins of the graph\nvar margin = {\"left\":40,\"right\":40,\"top\":40,\"bottom\":40},\n    width = 350 - margin.left - margin.right,\n    height = 350 - margin.top - margin.bottom;\n\n// append the svg object to the body of the page\nvar svg = d3\n   .select(element.get(0))\n  .append(\"svg\")\n    .attr(\"width\", width + margin.left + margin.right)\n    .attr(\"height\", height + margin.top + margin.bottom)\n    .style(\"background\", \"#1F1F1F\")\n  .append(\"g\")\n    .attr(\"transform\",\n          \"translate(\" + margin.left + \",\" + margin.top + \")\")\n\n// Obtain title\nvar title = \"Image to FEN (Gemini, wrong)\"\nvar titleFontSize = 12\n\nif ( title.length > 0 ) {\n    svg.append(\"text\")\n        .attr(\"x\", (width / 2))\n        .attr(\"y\", 0 - (margin.top / 2))\n        .attr(\"text-anchor\", \"middle\")\n        .style(\"font-size\", titleFontSize.toString() + \"px\")\n        .style(\"fill\", \"Silver\")\n        .text(title);\n}\n\n// Obtain data\nvar data = [{\"x\":\"a\",\"y\":\"1\",\"z\":0.75},{\"z\":0.25,\"x\":\"a\",\"y\":\"2\"},{\"z\":0.75,\"x\":\"a\",\"y\":\"3\"},{\"z\":0.25,\"y\":\"4\",\"x\":\"a\"},{\"x\":\"a\",\"z\":0.75,\"y\":\"5\"},{\"x\":\"a\",\"z\":0.25,\"y\":\"6\"},{\"x\":\"a\",\"z\":0.75,\"y\":\"7\"},{\"z\":0.25,\"x\":\"a\",\"y\":\"8\"},{\"y\":\"1\",\"z\":0.25,\"x\":\"b\"},{\"y\":\"2\",\"z\":0.75,\"x\":\"b\"},{\"z\":0.25,\"x\":\"b\",\"y\":\"3\"},{\"y\":\"4\",\"x\":\"b\",\"z\":0.75},{\"y\":\"5\",\"z\":0.25,\"x\":\"b\"},{\"y\":\"6\",\"z\":0.75,\"x\":\"b\"},{\"z\":0.25,\"x\":\"b\",\"y\":\"7\"},{\"z\":0.75,\"x\":\"b\",\"y\":\"8\"},{\"z\":0.75,\"x\":\"c\",\"y\":\"1\"},{\"z\":0.25,\"x\":\"c\",\"y\":\"2\"},{\"z\":0.75,\"y\":\"3\",\"x\":\"c\"},{\"z\":0.25,\"y\":\"4\",\"x\":\"c\"},{\"z\":0.75,\"x\":\"c\",\"y\":\"5\"},{\"y\":\"6\",\"x\":\"c\",\"z\":0.25},{\"y\":\"7\",\"z\":0.75,\"x\":\"c\"},{\"z\":0.25,\"y\":\"8\",\"x\":\"c\"},{\"y\":\"1\",\"z\":0.25,\"x\":\"d\"},{\"y\":\"2\",\"x\":\"d\",\"z\":0.75},{\"y\":\"3\",\"x\":\"d\",\"z\":0.25},{\"y\":\"4\",\"z\":0.75,\"x\":\"d\"},{\"y\":\"5\",\"z\":0.25,\"x\":\"d\"},{\"x\":\"d\",\"y\":\"6\",\"z\":0.75},{\"x\":\"d\",\"y\":\"7\",\"z\":0.25},{\"z\":0.75,\"y\":\"8\",\"x\":\"d\"},{\"y\":\"1\",\"x\":\"e\",\"z\":0.75},{\"z\":0.25,\"x\":\"e\",\"y\":\"2\"},{\"y\":\"3\",\"z\":0.75,\"x\":\"e\"},{\"y\":\"4\",\"z\":0.25,\"x\":\"e\"},{\"x\":\"e\",\"y\":\"5\",\"z\":0.75},{\"z\":0.25,\"y\":\"6\",\"x\":\"e\"},{\"y\":\"7\",\"x\":\"e\",\"z\":0.75},{\"z\":0.25,\"y\":\"8\",\"x\":\"e\"},{\"y\":\"1\",\"z\":0.25,\"x\":\"f\"},{\"y\":\"2\",\"x\":\"f\",\"z\":0.75},{\"z\":0.25,\"x\":\"f\",\"y\":\"3\"},{\"z\":0.75,\"x\":\"f\",\"y\":\"4\"},{\"z\":0.25,\"y\":\"5\",\"x\":\"f\"},{\"z\":0.75,\"x\":\"f\",\"y\":\"6\"},{\"z\":0.25,\"y\":\"7\",\"x\":\"f\"},{\"x\":\"f\",\"z\":0.75,\"y\":\"8\"},{\"y\":\"1\",\"z\":0.75,\"x\":\"g\"},{\"x\":\"g\",\"y\":\"2\",\"z\":0.25},{\"y\":\"3\",\"x\":\"g\",\"z\":0.75},{\"x\":\"g\",\"y\":\"4\",\"z\":0.25},{\"y\":\"5\",\"z\":0.75,\"x\":\"g\"},{\"z\":0.25,\"x\":\"g\",\"y\":\"6\"},{\"y\":\"7\",\"z\":0.75,\"x\":\"g\"},{\"z\":0.25,\"y\":\"8\",\"x\":\"g\"},{\"z\":0.25,\"y\":\"1\",\"x\":\"h\"},{\"z\":0.75,\"y\":\"2\",\"x\":\"h\"},{\"y\":\"3\",\"x\":\"h\",\"z\":0.25},{\"z\":0.75,\"y\":\"4\",\"x\":\"h\"},{\"z\":0.25,\"y\":\"5\",\"x\":\"h\"},{\"z\":0.75,\"y\":\"6\",\"x\":\"h\"},{\"x\":\"h\",\"z\":0.25,\"y\":\"7\"},{\"x\":\"h\",\"z\":0.75,\"y\":\"8\"}];\n\nvar myGroups = [];\nvar myVars = [];\n\nif (myGroups.length === 0) {\n    myGroups = Array.from(new Set(data.map(d => d.x)));\n}\nif (myVars.length === 0) {\n    myVars = Array.from(new Set(data.map(d => d.y)));\n}\n\nif (true) {\n    myGroups = myGroups.sort(d3.ascending);\n    myVars = myVars.sort(d3.ascending);\n}\n\n// Build X scales and axis:\nvar x = d3.scaleBand()\n    .range([0, width])\n    .domain(myGroups)\n    ;\n\nsvg.append(\"g\")\n    .style(\"font-size\", \"12px\")\n    .style(\"stroke\", \"grey\")\n    .style(\"stroke-width\", \"1px\")\n    .attr(\"font-family\", \"Helvetica\")\n    .attr(\"transform\", `translate(0, ${height})`)\n    .call(d3.axisBottom(x).tickSize(0))\n    .select(\".domain\").remove();\n\n// Build Y scales and axis:\nvar y = d3.scaleBand()\n    .range([height, 0])\n    .domain(myVars)\n    ;\n\nsvg.append(\"g\")\n    .style(\"font-size\", \"12px\")\n    .style(\"stroke\", \"grey\")\n    .style(\"stroke-width\", \"1px\")\n    .attr(\"font-family\", \"Helvetica\")\n    .call(d3.axisLeft(y).tickSize(0))\n    .select(\".domain\").remove();\n\n// Build color scale\nvar myColor = d3.scaleSequential()\n    .interpolator(d3.interpolateYlOrBr)\n    .domain([0, 1]);\n\n\n\n// add the squares\nsvg.selectAll()\n    .data(data, d => d.x + ':' + d.y)\n    .join(\"rect\")\n    .attr(\"x\", d => x(d.x))\n    .attr(\"y\", d => y(d.y))\n    \n    \n    .attr(\"width\", x.bandwidth())\n    .attr(\"height\", y.bandwidth())\n    .style(\"fill\", d => myColor(d.z))\n    .style(\"stroke-width\", 4)\n    .style(\"stroke\", \"none\")\n    .style(\"opacity\", 0.8)\n    \n    \n    ;\n\n// add the grid\nif ( false) {\n    svg.selectAll()\n        .data(data, d => d.x + ':' + d.y)\n        .join(\"rect\")\n        .attr(\"x\", d => x(d.x))\n        .attr(\"y\", d => y(d.y))\n        .attr(\"rx\", 0)\n        .attr(\"ry\", 0)\n        .attr(\"width\", x.bandwidth())\n        .attr(\"height\", y.bandwidth())\n        .style(\"fill\", \"none\")\n        .style(\"stroke-width\", 1)\n        .style(\"stroke\", \"Gray\")\n        .style(\"opacity\", 1)\n}\n\nvar plotLabelData = [{\"x\":\"c\",\"y\":\"1\",\"z\":\"&#9818;\"},{\"z\":\"&#9820;\",\"x\":\"g\",\"y\":\"1\"},{\"x\":\"a\",\"z\":\"&#9820;\",\"y\":\"1\"},{\"y\":\"1\",\"x\":\"f\",\"z\":\"&#9819;\"}]\n\nvar hx = x.bandwidth()\nvar hy = y.bandwidth()\n\nsvg.selectAll()\n.data(plotLabelData, function(d) {return d.x+':'+d.y;})\n.join(\"text\")\n  .attr(\"x\", function(d) { return x(d.x) + hx/2 })\n  .attr(\"y\", function(d) { return y(d.y) + hy/2 + hy*0.1 })\n  .attr(\"text-anchor\", \"middle\")\n  .style(\"alignment-baseline\", \"middle\")\n  .style(\"fill\", \"white\")\n  .style(\"stroke\", \"white\")\n  .style(\"stroke-width\", \"1px\")\n  .style(\"font-size\", function(d) { return (height / 7) + \"px\" })\n  .attr(\"font-family\", \"Courier\")\n  .attr(\"font-weight\", 100)\n  .html(function(d){ return d.z });\n\nvar plotLabelData = [{\"x\":\"c\",\"z\":\"&#9812;\",\"y\":\"1\"},{\"z\":\"&#9814;\",\"y\":\"1\",\"x\":\"g\"},{\"z\":\"&#9814;\",\"x\":\"a\",\"y\":\"1\"},{\"x\":\"f\",\"y\":\"1\",\"z\":\"&#9813;\"}]\n\nvar hx = x.bandwidth()\nvar hy = y.bandwidth()\n\nsvg.selectAll()\n.data(plotLabelData, function(d) {return d.x+':'+d.y;})\n.join(\"text\")\n  .attr(\"x\", function(d) { return x(d.x) + hx/2 })\n  .attr(\"y\", function(d) { return y(d.y) + hy/2 + hy*0.1 })\n  .attr(\"text-anchor\", \"middle\")\n  .style(\"alignment-baseline\", \"middle\")\n  .style(\"fill\", \"darkslategrey\")\n  .style(\"stroke\", \"darkslategrey\")\n  .style(\"stroke-width\", \"1px\")\n  .style(\"font-size\", function(d) { return (height / 7) + \"px\" })\n  .attr(\"font-family\", \"Courier\")\n  .attr(\"font-weight\", 100)\n  .html(function(d){ return d.z });\n\nvar plotLabelData = [{\"z\":\"&#9823;\",\"x\":\"g\",\"y\":\"2\"},{\"z\":\"&#9823;\",\"y\":\"2\",\"x\":\"f\"},{\"x\":\"e\",\"z\":\"&#9822;\",\"y\":\"4\"},{\"x\":\"e\",\"z\":\"&#9818;\",\"y\":\"2\"}]\n\nvar hx = x.bandwidth()\nvar hy = y.bandwidth()\n\nsvg.selectAll()\n.data(plotLabelData, function(d) {return d.x+':'+d.y;})\n.join(\"text\")\n  .attr(\"x\", function(d) { return x(d.x) + hx/2 })\n  .attr(\"y\", function(d) { return y(d.y) + hy/2 + hy*0.1 })\n  .attr(\"text-anchor\", \"middle\")\n  .style(\"alignment-baseline\", \"middle\")\n  .style(\"fill\", \"black\")\n  .style(\"stroke\", \"black\")\n  .style(\"stroke-width\", \"1px\")\n  .style(\"font-size\", function(d) { return (height / 7) + \"px\" })\n  .attr(\"font-family\", \"Courier\")\n  .attr(\"font-weight\", 100)\n  .html(function(d){ return d.z });\n\n}) })(element);\n\n(function(element) { require(['d3'], function(d3) {\n\nconst imagePath = 'https://i.sstatic.net/uKnenm.png'\nd3.select(element.get(0)).append('img').attr(\"src\", imagePath)\n\n}) })(element);\n"
     },
     "execution_count": 35,
     "metadata": {},
     "output_type": "execute_result"
    }
   ],
   "source": [
    "#% js\n",
    "  my %opts2 = %opts.clone; %opts2<width> = 350; %opts2<title-font-size> = 12;\n",
    "\n",
    "  [\n",
    "      'Text description to FEN (OpenAI, wrong)' => $fenTxt,\n",
    "      'Text description to FEN (Gemini, wrong)' => $fenTxtByGemini,\n",
    "      'Text description to JSON (OpenAI, correct)' => $chessSpec,\n",
    "      'Image to FEN (OpenAI, wrong)' => $fenImg,\n",
    "      'Image to FEN (Gemini, wrong)' => $fenImgByGemini\n",
    "  ].map({\n",
    "    js-d3-chessboard($_.value, |%opts2, title => $_.key)\n",
    "  }).join(\"\\n\")\n",
    "  ~ \"\\n\" ~\n",
    "  js-d3-image-display($url) "
   ]
  },
  {
   "cell_type": "markdown",
   "metadata": {},
   "source": [
    "Here are a few observations:\n",
    "\n",
    "- The FEN-titled images shows several mistakes of chess figures mis-placements and/or omissions. \n",
    "    - E.g. white have no king.\n",
    "\n",
    "- The tried LLMs do not faithfully convert FEN specs:\n",
    "\n",
    "    - Plain text chess position descriptions.\n",
    "\n",
    "    - Chess position images "
   ]
  },
  {
   "cell_type": "markdown",
   "metadata": {},
   "source": [
    "We can conjecture that due to FEN's aggregational nature LLMs have hard time deriving correct FEN representations."
   ]
  },
  {
   "cell_type": "markdown",
   "metadata": {},
   "source": [
    "-----\n",
    "\n",
    "## Possible explanation"
   ]
  },
  {
   "cell_type": "markdown",
   "metadata": {},
   "source": [
    "In this section we ask one of ChatGPT's reasoning models -- [\"o1-preview\"](https://platform.openai.com/docs/models#o1) -- to prove or disprove the conjecture."
   ]
  },
  {
   "cell_type": "code",
   "execution_count": null,
   "metadata": {},
   "outputs": [],
   "source": [
    "#% openai > markdown, model=o1-preview, max-tokens=4096, temperature=0.4\n",
    "Reason, prove, dis-prove, or explain the following conjecture:\n",
    "> The chess Forsyth-Endwards Notation (FEN) has \"aggregational nature\", that is why LLMs have hard time \n",
    "> deriving correct FEN representations from textual descriptions or from images."
   ]
  },
  {
   "cell_type": "markdown",
   "metadata": {},
   "source": [
    "----\n",
    "\n",
    "## Leftover comments"
   ]
  },
  {
   "cell_type": "markdown",
   "metadata": {},
   "source": [
    "A few leftover comments:\n",
    "\n",
    "- The chess plotting functionalities of [\"JavaScript::D3\" were developed 11 months ago](https://github.com/antononcube/Raku-JavaScript-D3/commits/main/lib/JavaScript/D3/Chess.rakumod).\n",
    "- Some of my friends and coworkers have mentioned more than a few times that I am suspiciously weak and playing chess.\n",
    "    - Yeah, sure, but I can program the [Alpha-Beta algorithm](https://en.wikipedia.org/wiki/Alpha–beta_pruning).\n",
    "        - And have done so a few times.\n",
    "        - Coming to Raku soon...\n",
    "- Facilitating and experimenting with different styles for plotting of the chess positions is/was both interesting and time consuming.\n",
    "    - Almost any element of the chess position plotting is tunable."
   ]
  },
  {
   "cell_type": "markdown",
   "metadata": {},
   "source": [
    "-----\n",
    "\n",
    "## References"
   ]
  },
  {
   "cell_type": "markdown",
   "metadata": {},
   "source": [
    "### Articles, blog posts\n",
    "\n",
    "[DM1] dynomight,\n",
    "[\"Something weird is happening with LLMs and chess](https://dynomight.net/chess/),\n",
    "(2024),\n",
    "[dynomight.net](https://dynomight.net/)."
   ]
  },
  {
   "cell_type": "markdown",
   "metadata": {},
   "source": [
    "### Packages, repositories\n",
    "\n",
    "[AAp1] Anton Antonov,\n",
    "[JavaScript::D3 Raku package](https://github.com/antononcube/Raku-JavaScript-D3),\n",
    "(2022-2024),\n",
    "[GitHub/antononcube](https://github.com/antononcube).\n",
    "\n",
    "[AAp2] Anton Antonov,\n",
    "[Jupyter::Chatbook Raku package](https://github.com/antononcube/Raku-Jupyter-Chatbook),\n",
    "(2023-2024),\n",
    "[GitHub/antononcube](https://github.com/antononcube).\n",
    "\n",
    "[AAp3] Anton Antonov,\n",
    "[Data::Importers Raku package](https://github.com/antononcube/Raku-Data-Importers),\n",
    "(2022-2024),\n",
    "[GitHub/antononcube](https://github.com/antononcube).\n",
    "\n",
    "[AAp4] Anton Antonov,\n",
    "[LLM::Functions Raku package](https://github.com/antononcube/Raku-LLM-Functions),\n",
    "(2023-2024),\n",
    "[GitHub/antononcube](https://github.com/antononcube).\n",
    "\n",
    "[AAp5] Anton Antonov,\n",
    "[LLM::Prompts Raku package](https://github.com/antononcube/Raku-LLM-Prompts),\n",
    "(2023-2024),\n",
    "[GitHub/antononcube](https://github.com/antononcube)."
   ]
  },
  {
   "cell_type": "markdown",
   "metadata": {},
   "source": [
    "### Videos"
   ]
  }
 ],
 "metadata": {
  "kernelspec": {
   "display_name": "RakuChatbook",
   "language": "raku",
   "name": "raku"
  },
  "language_info": {
   "file_extension": ".raku",
   "mimetype": "text/x-raku",
   "name": "raku",
   "version": "6.d"
  }
 },
 "nbformat": 4,
 "nbformat_minor": 2
}
