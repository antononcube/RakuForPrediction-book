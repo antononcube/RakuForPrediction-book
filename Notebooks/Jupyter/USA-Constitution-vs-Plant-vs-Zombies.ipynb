{
 "cells": [
  {
   "cell_type": "markdown",
   "metadata": {},
   "source": [
    "# US Constitution vs Plants vs Zombies\n",
    "\n",
    "Anton Antonov   \n",
    "[RakuForPrediction at WordPress](https://rakuforprediction.wordpress.com)    \n",
    "[RakuForPrediction-book at GitHub](https://github.com/antononcube/RakuForPrediction-book)   \n",
    "February 2024"
   ]
  },
  {
   "cell_type": "markdown",
   "metadata": {},
   "source": [
    "-------\n",
    "\n",
    "## Introduction"
   ]
  },
  {
   "cell_type": "markdown",
   "metadata": {},
   "source": [
    "In this notebook we ingest the text of the [US Constitution](https://en.wikipedia.org/wiki/Constitution_of_the_United_States), [Wk1], and use it as a part of different Large Language Model (LLM) requests, like, summaries and most important statements.\n",
    "\n",
    "We also use LLM to derive analogies with the game [\"Plants vs Zombies\"](https://en.wikipedia.org/wiki/Plants_vs._Zombies), [Wk2].\n",
    "\n",
    "The visualization of those analogies is an interesting task, and we apply OpenAI's model DALL-E 3 to generate (mostly) relevant images. (Following [AA2].)\n",
    "\n",
    "At this point, the idea to apply LLMs to the US Constitution should have ocurred in many (human) heads. For example, see the GitHub repository [\"ConstitutionGPT\"](https://github.com/vdutts7/constitutionGPT), [VD7r1]. (Also see these [search results](https://github.com/topics/us-constitution).)\n",
    "\n",
    "The US Constitution is popular, well known document, hence, it is expected LLMs to be able to \"converse about it\" without providing its full text in the prompts. Nevertheless, below we do ingest the full text of the US Constitution and include in our LLM interactions. That makes the presented LLM workflows (fairly) text independent.\n",
    "\n",
    "**Remark:** Very similar LLM workflows are presented in the article [\"LLM aids for processing of the first Carlson-Putin interview\"](https://rakuforprediction.wordpress.com/2024/02/12/llm-aids-for-processing-of-the-first-carlson-putin-interview/), [AA3, AAn2]."
   ]
  },
  {
   "cell_type": "markdown",
   "metadata": {},
   "source": [
    "------\n",
    "\n",
    "## Setup"
   ]
  },
  {
   "cell_type": "markdown",
   "metadata": {},
   "source": [
    "Here we load certain packages and define a text statistics function:"
   ]
  },
  {
   "cell_type": "code",
   "execution_count": 1,
   "metadata": {},
   "outputs": [
    {
     "data": {
      "text/plain": [
       "&text-stats"
      ]
     },
     "execution_count": 1,
     "metadata": {},
     "output_type": "execute_result"
    }
   ],
   "source": [
    "use HTTP::Tiny;\n",
    "use JSON::Fast;\n",
    "\n",
    "multi sub text-stats(Str:D $txt) { <chars words lines> Z=> [$txt.chars, $txt.words.elems, $txt.lines.elems] }\n",
    "multi sub text-stats(Hash:D $txt) { text-stats($txt.Str); }"
   ]
  },
  {
   "cell_type": "markdown",
   "metadata": {},
   "source": [
    "Here we derive a configuration object for accessing OpenAI's LLM service with one of its latest ChatGPT models:"
   ]
  },
  {
   "cell_type": "code",
   "execution_count": 2,
   "metadata": {},
   "outputs": [
    {
     "data": {
      "text/plain": [
       "21"
      ]
     },
     "execution_count": 2,
     "metadata": {},
     "output_type": "execute_result"
    }
   ],
   "source": [
    "my $conf = llm-configuration('ChatGPT', model => 'gpt-4-turbo-preview', max-tokens => 4096, temperature => 0.2);\n",
    "$conf.Hash.elems"
   ]
  },
  {
   "cell_type": "markdown",
   "metadata": {},
   "source": [
    "------\n",
    "\n",
    "## Get text"
   ]
  },
  {
   "cell_type": "markdown",
   "metadata": {},
   "source": [
    "Here we make an LLM request for the authoritative source of the USA constitution text:"
   ]
  },
  {
   "cell_type": "code",
   "execution_count": 3,
   "metadata": {},
   "outputs": [
    {
     "data": {
      "text/plain": [
       "https://www.archives.gov/founding-docs/constitution"
      ]
     },
     "execution_count": 3,
     "metadata": {},
     "output_type": "execute_result"
    }
   ],
   "source": [
    "llm-synthesize([\"Give the most athoritative of URL for US constitution in plain text.\"])"
   ]
  },
  {
   "cell_type": "markdown",
   "metadata": {},
   "source": [
    "Here we get the HTML text of the US constitution transcript from the [\"National Archives\" site](https://www.archives.gov/founding-docs/):"
   ]
  },
  {
   "cell_type": "code",
   "execution_count": 4,
   "metadata": {},
   "outputs": [
    {
     "name": "stdout",
     "output_type": "stream",
     "text": [
      "Constitution transcript   : (chars => 67406 words => 6634 lines => 765)\n",
      "Bill of Rights transcript : (chars => 43064 words => 3372 lines => 589)\n"
     ]
    }
   ],
   "source": [
    "my $url0 = 'https://www.archives.gov/founding-docs/constitution-transcript';\n",
    "my $url1 = 'https://www.archives.gov/founding-docs/bill-of-rights-transcript';\n",
    "my $txtUSACon0 = HTTP::Tiny.new.get($url0)<content>.decode;\n",
    "$txtUSACon0 .= subst(/ \\v+ /, \"\\n\", :g);\n",
    "say 'Constitution transcript   : ',text-stats($txtUSACon0);\n",
    "\n",
    "my $txtUSACon1 = HTTP::Tiny.new.get($url1)<content>.decode;\n",
    "$txtUSACon1 .= subst(/ \\v+ /, \"\\n\", :g);\n",
    "say 'Bill of Rights transcript : ', text-stats($txtUSACon1);"
   ]
  },
  {
   "cell_type": "markdown",
   "metadata": {},
   "source": [
    "Those variables with HTML texts, though. Instead of trying to figure out how to use Raku packages for stripping HTML code, we can just find plain text files of the US constitution from other sources. Here we get the text of the US constitution from https://www.usconstitution.net :"
   ]
  },
  {
   "cell_type": "code",
   "execution_count": 61,
   "metadata": {},
   "outputs": [
    {
     "data": {
      "text/plain": [
       "(chars => 44674 words => 7620 lines => 698)"
      ]
     },
     "execution_count": 61,
     "metadata": {},
     "output_type": "execute_result"
    }
   ],
   "source": [
    "my $url = 'https://www.usconstitution.net/const.txt';\n",
    "my $txtUSACon = HTTP::Tiny.new.get($url)<content>.decode;\n",
    "$txtUSACon .= subst(/ \\v+ /, \"\\n\", :g);\n",
    "$txtUSACon .= subst(/ ^ .* <?before 'We the People of the United States'>/);\n",
    "text-stats($txtUSACon)"
   ]
  },
  {
   "cell_type": "markdown",
   "metadata": {},
   "source": [
    "Here we get the US constitution content in JSON format from [MBr1] and then convert into a Raku data structure:"
   ]
  },
  {
   "cell_type": "code",
   "execution_count": 62,
   "metadata": {},
   "outputs": [
    {
     "data": {
      "text/plain": [
       "(chars => 44211 words => 7514 lines => 120)"
      ]
     },
     "execution_count": 62,
     "metadata": {},
     "output_type": "execute_result"
    }
   ],
   "source": [
    "my $urlJSON = 'https://raw.githubusercontent.com/markbiek/constitution.json/master/constitution.json';\n",
    "my $txtUSAConJSON = HTTP::Tiny.new.get($urlJSON)<content>.decode;\n",
    "my %txtUSAConJSON = from-json($txtUSAConJSON);\n",
    "text-stats(%txtUSAConJSON)"
   ]
  },
  {
   "cell_type": "markdown",
   "metadata": {},
   "source": [
    "**Remark:** The repository [MBr1] refers to https://www.usconstitution.net/const.txt as a source to derive the JSON file from."
   ]
  },
  {
   "cell_type": "code",
   "execution_count": 63,
   "metadata": {},
   "outputs": [
    {
     "data": {
      "text/plain": [
       "(amendments preamble articles signatories)"
      ]
     },
     "execution_count": 63,
     "metadata": {},
     "output_type": "execute_result"
    }
   ],
   "source": [
    "%txtUSAConJSON.keys"
   ]
  },
  {
   "cell_type": "markdown",
   "metadata": {},
   "source": [
    "-------\n",
    "\n",
    "## Summaries"
   ]
  },
  {
   "cell_type": "markdown",
   "metadata": {},
   "source": [
    "Here is summary of the whole document:"
   ]
  },
  {
   "cell_type": "code",
   "execution_count": 10,
   "metadata": {},
   "outputs": [
    {
     "data": {
      "text/markdown": [
       "The document is the Constitution of the United States, which outlines the framework for the federal government, including its three branches: legislative, executive, and judicial. It begins with the Preamble, stating the purpose of the document to ensure justice, peace, defense, welfare, and liberty for the nation and its future generations. \n",
       "\n",
       "Article 1 establishes the legislative branch, Congress, divided into the Senate and House of Representatives, detailing their composition, powers, and operational rules. It grants Congress the power to legislate on various matters, including taxes, defense, commerce, and the creation of laws necessary for executing its powers.\n",
       "\n",
       "Article 2 sets forth the executive branch, headed by the President, outlining the process for election, qualifications, powers, and duties, including serving as the Commander in Chief, making treaties with Senate approval, and appointing officials.\n",
       "\n",
       "Article 3 establishes the judicial branch, led by the Supreme Court, and allows for lower courts. It defines the judiciary's powers, including jurisdiction over various cases and the trial process, especially for crimes and treason.\n",
       "\n",
       "Articles 4 through 7 address the states' rights and relations, the process for amending the Constitution, the federal government's supremacy over state laws, and the ratification process of the Constitution.\n",
       "\n",
       "The document also includes 27 amendments, the first ten known as the Bill of Rights, which protect individual freedoms such as speech, religion, and the press; the right to bear arms; protection against unreasonable searches and seizures; and rights to fair trials. Subsequent amendments address issues including the abolition of slavery (13th), citizenship and equal protection under the law (14th), voting rights regardless of race (15th), income tax (16th), direct election of senators (17th), prohibition and its repeal (18th and 21st), women's suffrage (19th), presidential term limits (22nd), voting age (26th), and congressional pay changes (27th)."
      ]
     },
     "execution_count": 10,
     "metadata": {},
     "output_type": "execute_result"
    }
   ],
   "source": [
    "#% markdown\n",
    "llm-synthesize([\"Summarize the document in less than 300 words:\", $txtUSACon], e => $conf)"
   ]
  },
  {
   "cell_type": "markdown",
   "metadata": {},
   "source": [
    "Here we summarize Bill of Rights:"
   ]
  },
  {
   "cell_type": "code",
   "execution_count": 11,
   "metadata": {},
   "outputs": [
    {
     "data": {
      "text/markdown": [
       "The Bill of Rights, the first ten amendments to the United States Constitution, guarantees fundamental civil rights and liberties. \n",
       "\n",
       "1. **First Amendment**: Protects freedom of religion, speech, press, assembly, and the right to petition the government.\n",
       "2. **Second Amendment**: Ensures the right of individuals to keep and bear arms.\n",
       "3. **Third Amendment**: Prohibits the quartering of soldiers in private homes without the owner's consent in peacetime.\n",
       "4. **Fourth Amendment**: Guards against unreasonable searches and seizures, requiring any warrant to be judicially sanctioned and supported by probable cause.\n",
       "5. **Fifth Amendment**: Provides the right to due process and prohibits self-incrimination and double jeopardy. It also contains the takings clause, which ensures that private property is not taken for public use without just compensation.\n",
       "6. **Sixth Amendment**: Guarantees the rights of criminal defendants, including the right to a public trial without unnecessary delay, the right to a lawyer, the right to an impartial jury, and the right to know who your accusers are and the nature of the charges and evidence against you.\n",
       "7. **Seventh Amendment**: Provides for the right to trial by jury in certain civil cases, according to common law.\n",
       "8. **Eighth Amendment**: Prohibits excessive fines and excessive bail, as well as cruel and unusual punishment.\n",
       "9. **Ninth Amendment**: Asserts that the enumeration of specific rights in the Constitution does not exclude other rights possessed by the people.\n",
       "10. **Tenth Amendment**: States that the powers not delegated to the United States by the Constitution, nor prohibited by it to the States, are reserved to the States respectively, or to the people.\n",
       "\n",
       "These amendments were ratified on December 15, 1791, and form a critical foundation of American freedoms."
      ]
     },
     "execution_count": 11,
     "metadata": {},
     "output_type": "execute_result"
    }
   ],
   "source": [
    "#% markdown\n",
    "llm-synthesize([\"Summarize in less than 300 words the Bill of Rights given in the following text:\", $txtUSACon], e => $conf)"
   ]
  },
  {
   "cell_type": "markdown",
   "metadata": {},
   "source": [
    "-------\n",
    "\n",
    "## Structures and relationships"
   ]
  },
  {
   "cell_type": "markdown",
   "metadata": {},
   "source": [
    "### Powers and restrictions per governmental branch"
   ]
  },
  {
   "cell_type": "markdown",
   "metadata": {},
   "source": [
    "From reading the summaries above we can come up with LLM requests to obtain a structured (e.g. tabular) outline of document's content. Here is one a such request, in which the powers and restrictions of the governmental branches are tabulated: "
   ]
  },
  {
   "cell_type": "code",
   "execution_count": 12,
   "metadata": {},
   "outputs": [
    {
     "data": {
      "text/markdown": [
       "Given the extensive text provided, which encompasses the Constitution of the United States and its amendments, a comprehensive cross-tabulation of the powers and restrictions of the three branches of government (Legislative, Executive, and Judicial) as outlined in the Constitution would be quite detailed. Below is a simplified version focusing on key powers and restrictions for each branch.\n",
       "\n",
       "| Branch        | Powers                                                                                          | Restrictions                                                                                   |\n",
       "|---------------|-------------------------------------------------------------------------------------------------|------------------------------------------------------------------------------------------------|\n",
       "| Legislative   | - Make laws<br>- Tax and spend for the defense & general welfare<br>- Declare war<br>- Regulate commerce<br>- Establish lower federal courts<br>- Impeach and remove President and federal judges | - Cannot suspend the writ of habeas corpus except in cases of rebellion or invasion<br>- No ex post facto laws or bills of attainder<br>- No title of nobility |\n",
       "| Executive     | - Enforce laws<br>- Act as Commander-in-Chief of the armed forces<br>- Make treaties (with Senate approval)<br>- Appoint federal officers and judges (with Senate approval)<br>- Grant pardons (except in cases of impeachment) | - Cannot make laws<br>- Treaties and major appointments require Senate approval<br>- Subject to impeachment and removal by Congress                  |\n",
       "| Judicial      | - Interpret laws<br>- Review the constitutionality of laws<br>- Cases involving laws and treaties of the U.S., ambassadors, maritime law, disputes between states or between a state and the federal government | - Judges serve during \"good behavior\" but can be impeached and removed<br>- Cannot enforce its decisions, relies on the executive branch<br>- Cannot make or enact laws |\n",
       "\n",
       "This table simplifies a complex system of checks and balances designed to ensure no single branch of the U.S. government gains too much power. Each branch has specific roles and can influence or limit the powers of the others, maintaining a balance that supports the principles of democracy and the rule of law."
      ]
     },
     "execution_count": 12,
     "metadata": {},
     "output_type": "execute_result"
    }
   ],
   "source": [
    "#% markdown\n",
    "llm-synthesize([\"Cross-tabulate the powers and restrictions three branches: legislative, executive, and judicial. The table rows should correspond to the branches.\", $txtUSACon], e => $conf)"
   ]
  },
  {
   "cell_type": "markdown",
   "metadata": {},
   "source": [
    "### Amendments vs Articles"
   ]
  },
  {
   "cell_type": "markdown",
   "metadata": {},
   "source": [
    "In this subsection we use LLM requests to tabulate the relationships between the concepts in the Constitution and the Bill of Rights."
   ]
  },
  {
   "cell_type": "code",
   "execution_count": 30,
   "metadata": {},
   "outputs": [
    {
     "data": {
      "text/html": [
       "\n",
       "<table border=\"1\">\n",
       "  <tr>\n",
       "    <th>Amendments / Articles</th>\n",
       "    <th>Article 1</th>\n",
       "    <th>Article 2</th>\n",
       "    <th>Article 3</th>\n",
       "    <th>Article 4</th>\n",
       "    <th>Article 5</th>\n",
       "    <th>Article 6</th>\n",
       "  </tr>\n",
       "  <tr>\n",
       "    <td>Amendment 1</td>\n",
       "    <td>Establishes limits on Congress' legislative powers</td>\n",
       "    <td></td>\n",
       "    <td></td>\n",
       "    <td></td>\n",
       "    <td></td>\n",
       "    <td></td>\n",
       "  </tr>\n",
       "  <tr>\n",
       "    <td>Amendment 2</td>\n",
       "    <td></td>\n",
       "    <td></td>\n",
       "    <td></td>\n",
       "    <td></td>\n",
       "    <td></td>\n",
       "    <td></td>\n",
       "  </tr>\n",
       "  <tr>\n",
       "    <td>Amendment 3</td>\n",
       "    <td></td>\n",
       "    <td></td>\n",
       "    <td></td>\n",
       "    <td></td>\n",
       "    <td></td>\n",
       "    <td></td>\n",
       "  </tr>\n",
       "  <tr>\n",
       "    <td>Amendment 4</td>\n",
       "    <td></td>\n",
       "    <td></td>\n",
       "    <td></td>\n",
       "    <td></td>\n",
       "    <td></td>\n",
       "    <td></td>\n",
       "  </tr>\n",
       "  <tr>\n",
       "    <td>Amendment 5</td>\n",
       "    <td></td>\n",
       "    <td></td>\n",
       "    <td>Defines rights in criminal cases, due process</td>\n",
       "    <td></td>\n",
       "    <td></td>\n",
       "    <td></td>\n",
       "  </tr>\n",
       "  <tr>\n",
       "    <td>Amendment 6</td>\n",
       "    <td></td>\n",
       "    <td></td>\n",
       "    <td>Defines rights to a fair trial</td>\n",
       "    <td></td>\n",
       "    <td></td>\n",
       "    <td></td>\n",
       "  </tr>\n",
       "  <tr>\n",
       "    <td>Amendment 7</td>\n",
       "    <td></td>\n",
       "    <td></td>\n",
       "    <td>Defines rights in civil cases</td>\n",
       "    <td></td>\n",
       "    <td></td>\n",
       "    <td></td>\n",
       "  </tr>\n",
       "  <tr>\n",
       "    <td>Amendment 8</td>\n",
       "    <td></td>\n",
       "    <td></td>\n",
       "    <td>Defines rights against excessive bail, fines, and cruel punishment</td>\n",
       "    <td></td>\n",
       "    <td></td>\n",
       "    <td></td>\n",
       "  </tr>\n",
       "  <tr>\n",
       "    <td>Amendment 9</td>\n",
       "    <td></td>\n",
       "    <td></td>\n",
       "    <td></td>\n",
       "    <td></td>\n",
       "    <td></td>\n",
       "    <td></td>\n",
       "  </tr>\n",
       "  <tr>\n",
       "    <td>Amendment 10</td>\n",
       "    <td>Reserves powers not delegated to the federal government to the states or people</td>\n",
       "    <td></td>\n",
       "    <td></td>\n",
       "    <td></td>\n",
       "    <td></td>\n",
       "    <td></td>\n",
       "  </tr>\n",
       "  <tr>\n",
       "    <td>Amendment 11</td>\n",
       "    <td></td>\n",
       "    <td></td>\n",
       "    <td>Limits judicial power in suits against states</td>\n",
       "    <td></td>\n",
       "    <td></td>\n",
       "    <td></td>\n",
       "  </tr>\n",
       "  <tr>\n",
       "    <td>Amendment 12</td>\n",
       "    <td></td>\n",
       "    <td>Modifies the procedure for electing the President and Vice President</td>\n",
       "    <td></td>\n",
       "    <td></td>\n",
       "    <td></td>\n",
       "    <td></td>\n",
       "  </tr>\n",
       "  <tr>\n",
       "    <td>Amendment 13</td>\n",
       "    <td></td>\n",
       "    <td></td>\n",
       "    <td></td>\n",
       "    <td></td>\n",
       "    <td></td>\n",
       "    <td></td>\n",
       "  </tr>\n",
       "  <tr>\n",
       "    <td>Amendment 14</td>\n",
       "    <td>Defines citizenship, contains the Privileges or Immunities Clause, the Due Process Clause, the Equal Protection Clause</td>\n",
       "    <td></td>\n",
       "    <td></td>\n",
       "    <td></td>\n",
       "    <td></td>\n",
       "    <td></td>\n",
       "  </tr>\n",
       "  <tr>\n",
       "    <td>Amendment 15</td>\n",
       "    <td></td>\n",
       "    <td></td>\n",
       "    <td></td>\n",
       "    <td></td>\n",
       "    <td></td>\n",
       "    <td></td>\n",
       "  </tr>\n",
       "  <tr>\n",
       "    <td>Amendment 16</td>\n",
       "    <td>Grants Congress the power to tax income</td>\n",
       "    <td></td>\n",
       "    <td></td>\n",
       "    <td></td>\n",
       "    <td></td>\n",
       "    <td></td>\n",
       "  </tr>\n",
       "  <tr>\n",
       "    <td>Amendment 17</td>\n",
       "    <td>Changes the process for electing Senators</td>\n",
       "    <td></td>\n",
       "    <td></td>\n",
       "    <td></td>\n",
       "    <td></td>\n",
       "    <td></td>\n",
       "  </tr>\n",
       "  <tr>\n",
       "    <td>Amendment 18</td>\n",
       "    <td></td>\n",
       "    <td></td>\n",
       "    <td></td>\n",
       "    <td></td>\n",
       "    <td></td>\n",
       "    <td></td>\n",
       "  </tr>\n",
       "  <tr>\n",
       "    <td>Amendment 19</td>\n",
       "    <td></td>\n",
       "    <td></td>\n",
       "    <td></td>\n",
       "    <td></td>\n",
       "    <td></td>\n",
       "    <td></td>\n",
       "  </tr>\n",
       "  <tr>\n",
       "    <td>Amendment 20</td>\n",
       "    <td></td>\n",
       "    <td>Changes the dates of congressional and presidential terms</td>\n",
       "    <td></td>\n",
       "    <td></td>\n",
       "    <td></td>\n",
       "    <td></td>\n",
       "  </tr>\n",
       "  <tr>\n",
       "    <td>Amendment 21</td>\n",
       "    <td></td>\n",
       "    <td></td>\n",
       "    <td></td>\n",
       "    <td></td>\n",
       "    <td></td>\n",
       "    <td></td>\n",
       "  </tr>\n",
       "  <tr>\n",
       "    <td>Amendment 22</td>\n",
       "    <td></td>\n",
       "    <td>Limits the President to two terms</td>\n",
       "    <td></td>\n",
       "    <td></td>\n",
       "    <td></td>\n",
       "    <td></td>\n",
       "  </tr>\n",
       "  <tr>\n",
       "    <td>Amendment 23</td>\n",
       "    <td></td>\n",
       "    <td>Grants the District of Columbia electors in the Electoral College</td>\n",
       "    <td></td>\n",
       "    <td></td>\n",
       "    <td></td>\n",
       "    <td></td>\n",
       "  </tr>\n",
       "  <tr>\n",
       "    <td>Amendment 24</td>\n",
       "    <td></td>\n",
       "    <td></td>\n",
       "    <td></td>\n",
       "    <td></td>\n",
       "    <td></td>\n",
       "    <td></td>\n",
       "  </tr>\n",
       "  <tr>\n",
       "    <td>Amendment 25</td>\n",
       "    <td></td>\n",
       "    <td>Details the succession to the Presidency and the Vice Presidency</td>\n",
       "    <td></td>\n",
       "    <td></td>\n",
       "    <td></td>\n",
       "    <td></td>\n",
       "  </tr>\n",
       "  <tr>\n",
       "    <td>Amendment 26</td>\n",
       "    <td></td>\n",
       "    <td></td>\n",
       "    <td></td>\n",
       "    <td></td>\n",
       "    <td></td>\n",
       "    <td></td>\n",
       "  </tr>\n",
       "  <tr>\n",
       "    <td>Amendment 27</td>\n",
       "    <td>Delays laws affecting Congressional salary from taking effect until after the next election of Representatives</td>\n",
       "    <td></td>\n",
       "    <td></td>\n",
       "    <td></td>\n",
       "    <td></td>\n",
       "    <td></td>\n",
       "  </tr>\n",
       "</table>\n"
      ]
     },
     "execution_count": 30,
     "metadata": {},
     "output_type": "execute_result"
    }
   ],
   "source": [
    "#% html\n",
    "my $k=1;\n",
    "my $articles = %txtUSAConJSON<articles>.map({ \"Article {$k++}:\\n\" ~ $_}).join(\"\\n\\n\");\n",
    "\n",
    "my $l=1;\n",
    "my $amendments = %txtUSAConJSON<amendments>.map({ \"Amendment {$l++}:\\n\" ~ $_}).join(\"\\n\\n\");\n",
    "\n",
    "my $res = llm-synthesize([\n",
    "    \"Make a Morphological Analysis table of relationships between the articles and amendments.\",\n",
    "    \"The rows are the amendments; the columns are the articles.\",\n",
    "    \"A table cells corresponding to a relationship should have a concise description of that relationship.\",\n",
    "    \"Articles:\\n\" ~ $articles,\n",
    "    \"Amendments:\\n\" ~ $amendments,\n",
    "    llm-prompt('NothingElse')('HTML table')\n",
    "], e => $conf);\n",
    "\n",
    "$res.subst(/^ '```html' | '```' $/):g"
   ]
  },
  {
   "cell_type": "markdown",
   "metadata": {},
   "source": [
    "------\n",
    "\n",
    "## Most important statements"
   ]
  },
  {
   "cell_type": "markdown",
   "metadata": {},
   "source": [
    "Here we define a function for extracting most important elements for text:"
   ]
  },
  {
   "cell_type": "code",
   "execution_count": 31,
   "metadata": {},
   "outputs": [
    {
     "data": {
      "text/plain": [
       "-> **@args, *%args { #`(Block|4971098499408) ... }"
      ]
     },
     "execution_count": 31,
     "metadata": {},
     "output_type": "execute_result"
    }
   ],
   "source": [
    "my &fImp = llm-function({\"Which are the top $^a most $^b of the following document:\\n\\n$^c\"}, e => $conf)"
   ]
  },
  {
   "cell_type": "markdown",
   "metadata": {},
   "source": [
    "Here are the most important statements:"
   ]
  },
  {
   "cell_type": "code",
   "execution_count": 32,
   "metadata": {},
   "outputs": [
    {
     "data": {
      "text/markdown": [
       "Given the extensive nature of the document you've provided, which is essentially the United States Constitution along with its amendments, identifying the \"top 3 most important statements\" can be subjective and dependent on the criteria used for importance. However, considering the foundational principles and rights it establishes, the following can be considered among the most significant statements:\n",
       "\n",
       "1. **Preamble to the Constitution**: \"We the People of the United States, in Order to form a more perfect Union, establish Justice, insure domestic Tranquility, provide for the common defence, promote the general Welfare, and secure the Blessings of Liberty to ourselves and our Posterity, do ordain and establish this Constitution for the United States of America.\" This statement encapsulates the purpose and guiding principles behind the establishment of the Constitution and the government it creates.\n",
       "\n",
       "2. **First Amendment**: \"Congress shall make no law respecting an establishment of religion, or prohibiting the free exercise thereof; or abridging the freedom of speech, or of the press; or the right of the people peaceably to assemble, and to petition the Government for a redress of grievances.\" This amendment is crucial as it protects fundamental freedoms such as religion, speech, press, assembly, and petition, which are essential to a democratic society.\n",
       "\n",
       "3. **Fourteenth Amendment, Section 1**: \"All persons born or naturalized in the United States, and subject to the jurisdiction thereof, are citizens of the United States and of the State wherein they reside. No State shall make or enforce any law which shall abridge the privileges or immunities of citizens of the United States; nor shall any State deprive any person of life, liberty, or property, without due process of law; nor deny to any person within its jurisdiction the equal protection of the laws.\" This amendment addresses citizenship rights and equal protection under the law and is foundational to civil rights in the United States.\n",
       "\n",
       "These statements are pivotal as they lay the groundwork for the governance, rights, and freedoms of the United States, impacting not only the legal framework but also the societal and cultural ethos of the nation."
      ]
     },
     "execution_count": 32,
     "metadata": {},
     "output_type": "execute_result"
    }
   ],
   "source": [
    "#% markdown\n",
    "&fImp(3, 'important statements', $txtUSACon)"
   ]
  },
  {
   "cell_type": "markdown",
   "metadata": {},
   "source": [
    "----- \n",
    "\n",
    "## Most important amendments"
   ]
  },
  {
   "cell_type": "markdown",
   "metadata": {},
   "source": [
    "Most important amendments:"
   ]
  },
  {
   "cell_type": "code",
   "execution_count": 33,
   "metadata": {},
   "outputs": [
    {
     "data": {
      "text/markdown": [
       "Determining the \"top 3 most important amendments\" from the United States Constitution can be subjective and depends on the criteria used for evaluation (e.g., impact on civil liberties, structural changes to government, etc.). However, based on their broad implications for civil rights and liberties, the following three amendments are often highlighted for their significance:\n",
       "\n",
       "1. **First Amendment**: Protects several fundamental rights, including freedom of speech, religion, press, assembly, and the right to petition the government for a redress of grievances. This amendment is foundational to the American democratic system and the protection of individual liberties.\n",
       "\n",
       "2. **Fourteenth Amendment**: Addresses citizenship rights and equal protection under the law and was pivotal in extending civil rights protections. Its clauses, particularly the Equal Protection Clause and the Due Process Clause, have been the basis for many landmark Supreme Court decisions that have expanded civil rights and liberties.\n",
       "\n",
       "3. **Nineteenth Amendment**: Prohibits the states and the federal government from denying the right to vote to citizens of the United States on the basis of sex. This amendment marked a significant milestone in the women's suffrage movement in the United States, ensuring women the right to vote and advancing gender equality.\n",
       "\n",
       "These amendments are among the most cited and have had profound impacts on American society, law, and governance."
      ]
     },
     "execution_count": 33,
     "metadata": {},
     "output_type": "execute_result"
    }
   ],
   "source": [
    "#% markdown\n",
    "&fImp(3, 'important amendments', $txtUSACon)"
   ]
  },
  {
   "cell_type": "markdown",
   "metadata": {},
   "source": [
    "------\n",
    "\n",
    "## Analogies with \"Plants vs Zombies\"\n"
   ]
  },
  {
   "cell_type": "markdown",
   "metadata": {},
   "source": [
    "In this section we use LLMs to explain the elements of US constitution to people who are familiar with the game [\"Plants vs Zombies\"](https://en.wikipedia.org/wiki/Plants_vs._Zombies), [Wk2]."
   ]
  },
  {
   "cell_type": "code",
   "execution_count": 34,
   "metadata": {},
   "outputs": [
    {
     "data": {
      "text/markdown": [
       "Alright, let's break this down into something more relatable to a \"Plants vs. Zombies\" player. Imagine the United States Constitution and its Bill of Rights as the ultimate game guide for running a country, where the goal is to ensure a balanced, fair, and free society, much like strategizing to protect your garden from zombies.\n",
       "\n",
       "**Preamble (Introduction):** This is like the game's intro screen, setting the stage. It tells us why the Constitution was created: to make a better \"team\" (union), ensure peace at home, provide defense, improve everyone's well-being, and guarantee freedom for now and the future.\n",
       "\n",
       "**Article 1: Legislative Branch (Congress)** - Think of Congress as two different types of plants in your garden, the Senate and the House of Representatives, each with unique powers and responsibilities. They make the rules (laws) of the game, deciding how resources are distributed, how to defend against threats, and how to keep the garden (country) running smoothly.\n",
       "\n",
       "**Article 2: Executive Branch (President and Administration)** - This is like choosing your main plant or hero, the President, who executes the laws made by Congress, leads the military, and deals with other gardens (countries). The President has a team (administration) to help manage specific areas, like defense or agriculture.\n",
       "\n",
       "**Article 3: Judicial Branch (Supreme Court and other Federal Courts)** - Imagine this as the game's referees or rule-checkers. They interpret the laws, settle disputes, and ensure that everything aligns with the game guide (Constitution). They make sure everyone plays fair.\n",
       "\n",
       "**Bill of Rights (First 10 Amendments):** These are like the essential power-ups or protections for the players (citizens) to ensure they can play the game freely and fairly.\n",
       "\n",
       "1. **Freedom Power-Up:** You can speak, write, gather, and believe freely.\n",
       "2. **Defense Boost:** You have the right to hold onto and use tools (in this case, weapons) for protection.\n",
       "3. **Privacy Shield:** Soldiers can't just crash at your place without permission.\n",
       "4. **Anti-Spyware:** Your personal space and belongings can't be searched or taken without a good reason.\n",
       "5. **Fair Play Protocol:** You have rights in legal situations, like not having to incriminate yourself and being treated fairly by the law.\n",
       "6. **Rapid Response:** In legal battles, you're guaranteed a quick and public trial, with a chance to defend yourself.\n",
       "7. **Trial by Jury:** For serious disputes in court, you can have a jury decide.\n",
       "8. **No Cheat Codes:** Punishments can't be overly harsh or unfair.\n",
       "9. **Hidden Levels:** Just because a right isn't listed here doesn't mean you don't have it.\n",
       "10. **Local Control:** Powers not given to the federal government belong to the states or the people.\n",
       "\n",
       "The rest of the amendments (11-27) are like updates or expansions to the game, adding new features, fixing bugs, or adjusting the gameplay to make sure it stays fair and fun for everyone playing.\n",
       "\n",
       "So, just like in \"Plants vs. Zombies,\" where you need to know your plants, zombies, and strategies to win, the Constitution and the Bill of Rights lay out the rules, roles, and protections to ensure the game of governance is played effectively and fairly for all citizens."
      ]
     },
     "execution_count": 34,
     "metadata": {},
     "output_type": "execute_result"
    }
   ],
   "source": [
    "#% markdown\n",
    "llm-synthesize([\"Explain the Bill of Rights described in the following text to someone who has played 'Plants vs Zombies':\", $txtUSACon], e => $conf)"
   ]
  },
  {
   "cell_type": "markdown",
   "metadata": {},
   "source": [
    "------ \n",
    "\n",
    "## Supporting illustrations"
   ]
  },
  {
   "cell_type": "markdown",
   "metadata": {},
   "source": [
    "Let us try to generate the illustration images that correspond to the USA Constitution vs Plants vs Zombies analogies.\n",
    "First attempt with \"simple\" prompt:"
   ]
  },
  {
   "cell_type": "code",
   "execution_count": null,
   "metadata": {},
   "outputs": [],
   "source": [
    "#% dalle, size=landscape\n",
    "Make a illustration of the analogies between the USA Constitution and the game \"Plants vs Zombies.\""
   ]
  },
  {
   "cell_type": "markdown",
   "metadata": {},
   "source": [
    "Here we request the image of DALL-E’s response to be given as a URL and the result of the chatbook cell to be given in JSON format:"
   ]
  },
  {
   "cell_type": "code",
   "execution_count": 59,
   "metadata": {},
   "outputs": [
    {
     "data": {
      "text/html": [
       "{\n",
       "  \"data\": [\n",
       "    {\n",
       "      \"revised_prompt\": \"Create an image depicting a spacious, richly decorated space reminiscent of a traditional legislative hall, with staggered seats and a number of sheets of cloth patterned in the red, white, and blue of the American flag draping from overhead structures. The flooring of the chamber is constructed from stone plates, each engraved with sections of the United States Constitution. In the epicenter of the room, position a colossal, cartoonish flora entity akin to a character from a strategic horticulture-themed game, characterized by a large green head that mirrors a simplified, affable countenance. Surround this entity with numerous, smaller iterations of the same character, all caught in various stages of frenzied activity with multiethnic men and women in a combination of formal suits and casual clothing. The scene captures an intense standoff between the humans and plant entities, with some figures wielding weapon-like props and others gesticulating with vigor.\",\n",
       "      \"url\": \"https://oaidalleapiprodscus.blob.core.windows.net/private/org-KbuLSsqssXAPQFZORGWZzuN0/user-Ss9QQAmz9L5UJDcmKnhxnRoT/img-5tql5Og2vVPQMxiQASDiQKi6.png?st=2024-02-24T19%3A03%3A01Z&se=2024-02-24T21%3A03%3A01Z&sp=r&sv=2021-08-06&sr=b&rscd=inline&rsct=image/png&skoid=6aaadede-4fb3-4698-a8f6-684d7786b067&sktid=a48cca56-e6da-484e-a814-9c849652bcb3&skt=2024-02-24T10%3A28%3A55Z&ske=2024-02-25T10%3A28%3A55Z&sks=b&skv=2021-08-06&sig=xX3PpROBT/fyvqEAvqPrP8tTuQ913iDOgAyVrI55F/I%3D\"\n",
       "    }\n",
       "  ],\n",
       "  \"created\": 1708804981\n",
       "}"
      ]
     },
     "execution_count": 59,
     "metadata": {},
     "output_type": "execute_result"
    }
   ],
   "source": [
    "#% dalle, model=dall-e-3, size=landscape, style=vivid, response-format=url, format=json\n",
    "Create an image of a large, ornate, classical room that resembles the interior of a government assembly hall, with rows of desks and American flags hanging from the balconies.\n",
    "The floor of the hall is made of tiles that are pages of the USA Constitution.\n",
    "In the center of the room, place a giant cartoon-style plant character from the game \"Plants vs Zombies\", with a large green head that resembles a simplified, friendly face. \n",
    "Surround the plant with multiple miniature versions of the same character, all engaged in chaotic activity with human figures in various formal and informal attire. \n",
    "The humans and the plant characters appear to be having an epic confrontation, with some characters attacking the giant wielding weapons, and others gesturing energetically. "
   ]
  },
  {
   "cell_type": "markdown",
   "metadata": {},
   "source": [
    "Here we display the image directly as a Markdown image link (using the command paste of “Clipboard“):"
   ]
  },
  {
   "cell_type": "code",
   "execution_count": null,
   "metadata": {},
   "outputs": [],
   "source": [
    "#% markdown\n",
    "my $url = from-json(paste)<data>.head<url>;\n",
    "\"![]($url)\""
   ]
  },
  {
   "cell_type": "markdown",
   "metadata": {},
   "source": [
    "-------\n",
    "\n",
    "## Meta cells"
   ]
  },
  {
   "cell_type": "markdown",
   "metadata": {},
   "source": [
    "Here we use a DALL-E meta cell to see how many images were generated in this session:"
   ]
  },
  {
   "cell_type": "code",
   "execution_count": 58,
   "metadata": {},
   "outputs": [
    {
     "data": {
      "text/plain": [
       "2"
      ]
     },
     "execution_count": 58,
     "metadata": {},
     "output_type": "execute_result"
    }
   ],
   "source": [
    "#% dalle meta\n",
    "elems"
   ]
  },
  {
   "cell_type": "markdown",
   "metadata": {},
   "source": [
    "Here we export all images generated during the sessions into file names with the prefix “USConstitutionVsPlantsVsZombies\":"
   ]
  },
  {
   "cell_type": "code",
   "execution_count": null,
   "metadata": {},
   "outputs": [],
   "source": [
    "#% dalle export, index=all, prefix=USConstitutionVsPlantsVsZombies"
   ]
  },
  {
   "cell_type": "markdown",
   "metadata": {},
   "source": [
    "------\n",
    "\n",
    "## References"
   ]
  },
  {
   "cell_type": "markdown",
   "metadata": {},
   "source": [
    "### Articles\n",
    "\n",
    "[AA1] Anton Antonov, [\"Workflows with LLM functions\"](https://rakuforprediction.wordpress.com/2023/08/01/workflows-with-llm-functions/) , (2023), [RakuForPrediction at WordPress](https://rakuforprediction.wordpress.com).\n",
    "\n",
    "[AA2] Anton Antonov, [\"Day 21 - Using DALL-E models in Raku\"](https://raku-advent.blog/2023/12/21/day-22-using-dall-e-models-in-raku/) , (2023), [Raku Advent Calendar blog for 2023](https://raku-advent.blog/2023).\n",
    "\n",
    "[AA3] Anton Antonov, [\"LLM aids for processing of the first Carlson-Putin intervie\"](https://rakuforprediction.wordpress.com/2024/02/12/llm-aids-for-processing-of-the-first-carlson-putin-interview/), (2024), [RakuForPrediction at WordPress](https://rakuforprediction.wordpress.com).\n",
    "\n",
    "[Wk1] Wikipedia entry, [\"Constitution of the United States\"](https://en.wikipedia.org/wiki/Constitution_of_the_United_States).\n",
    "\n",
    "[Wk2] Wikipedia entry, [\"Plants vs Zombies\"](https://en.wikipedia.org/wiki/Plants_vs._Zombies)."
   ]
  },
  {
   "cell_type": "markdown",
   "metadata": {},
   "source": [
    "### Notebooks\n",
    "\n",
    "[AAn1] Anton Antonov, [\"Workflows with LLM functions (in Raku)\"](https://community.wolfram.com/groups/-/m/t/2982320), (2024), [Wolfram Community](https://community.wolfram.com/).\n",
    "\n",
    "[AAn2] Anton Antonov, [\"LLM aids for processing of the first Carlson-Putin interview\"](https://community.wolfram.com/groups/-/m/t/3121333), (2024), [Wolfram Community](https://community.wolfram.com/).\n"
   ]
  },
  {
   "cell_type": "markdown",
   "metadata": {},
   "source": [
    "\n",
    "### Packages\n",
    "\n",
    "[AAp1] Anton Antonov, [WWW::OpenAI](https://github.com/antononcube/Raku-WWW-OpenAI) Raku package, (2023), [GitHub/antononcube](https://github.com/antononcube) .\n",
    "\n",
    "[AAp2] Anton Antonov, [WWW::PaLM](https://github.com/antononcube/Raku-WWW-PaLM) Raku package, (2023), [GitHub/antononcube](https://github.com/antononcube) .\n",
    "\n",
    "[AAp3] Anton Antonov, [WWW::MistralAI](https://github.com/antononcube/Raku-WWW-MistralAI) Raku package, (2023), [GitHub/antononcube](https://github.com/antononcube) .\n",
    "\n",
    "[AAp4] Anton Antonov, [WWW::MermaidInk](https://github.com/antononcube/Raku-WWW-MermaidInk) Raku package, (2023), [GitHub/antononcube](https://github.com/antononcube) .\n",
    "\n",
    "[AAp5] Anton Antonov, [LLM::Functions](https://github.com/antononcube/Raku-LLM-Functions) Raku package, (2023), [GitHub/antononcube](https://github.com/antononcube) .\n",
    "\n",
    "[AAp6] Anton Antonov, [Jupyter::Chatbook](https://github.com/antononcube/Raku-Jupyter-Chatbook) Raku package, (2023), [GitHub/antononcube](https://github.com/antononcube) .\n",
    "\n",
    "[AAp7] Anton Antonov, [Image::Markup::Utilities](https://github.com/antononcube/Raku-Image-Markup-Utilities) Raku package, (2023), [GitHub/antononcube](https://github.com/antononcube) ."
   ]
  },
  {
   "cell_type": "markdown",
   "metadata": {},
   "source": [
    "### Repositories\n",
    "\n",
    "[MBr1] Mark Biek, \n",
    "[constitution.json](https://github.com/markbiek/constitution.json),\n",
    "(2016-2018),\n",
    "[GitHub/markbiek](https://github.com/markbiek).\n",
    "\n",
    "[VD7r1] vdutts7,\n",
    "[Constitution GPT](https://github.com/vdutts7/constitutionGPT),\n",
    "(2023),\n",
    "[GitHub/vdutts7](https://github.com/vdutts7)."
   ]
  },
  {
   "cell_type": "markdown",
   "metadata": {},
   "source": [
    "### Videos\n",
    "\n",
    "[AAv1] Anton Antonov, [\"Jupyter Chatbook LLM cells demo (Raku)\"](https://www.youtube.com/watch?v=cICgnzYmQZg) (2023), [YouTube/@AAA4Prediction](https://www.youtube.com/@AAA4prediction) .\n",
    "\n",
    "[AAv2] Anton Antonov, [\"Jupyter Chatbook multi cell LLM chats teaser (Raku)\"](https://www.youtube.com/watch?v=wNpIGUAwZB8) , (2023), [YouTube/@AAA4Prediction](https://www.youtube.com/@AAA4prediction) .\n",
    "\n",
    "[AAv3] Anton Antonov [\"Integrating Large Language Models with Raku\"](https://www.youtube.com/watch?v=-OxKqRrQvh0) , (2023), [YouTube/@therakuconference6823](https://www.youtube.com/@therakuconference6823) ."
   ]
  }
 ],
 "metadata": {
  "kernelspec": {
   "display_name": "RakuChatbook",
   "language": "raku",
   "name": "raku"
  },
  "language_info": {
   "file_extension": ".raku",
   "mimetype": "text/x-raku",
   "name": "raku",
   "version": "6.d"
  }
 },
 "nbformat": 4,
 "nbformat_minor": 2
}
